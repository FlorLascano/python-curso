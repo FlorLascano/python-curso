{
 "cells": [
  {
   "cell_type": "markdown",
   "metadata": {},
   "source": [
    "# Forecasting \n",
    "### Librerias en Python"
   ]
  },
  {
   "cell_type": "markdown",
   "metadata": {},
   "source": [
    "- Statsmodel https://www.statsmodels.org/dev/examples/notebooks/generated/statespace_forecasting.html\n",
    "- Prophet: https://facebook.github.io/prophet/\n",
    "- Orbit https://uber.github.io/orbit/index.html\n",
    "- Keras Redes Neuronales LSTM https://keras.io/examples/timeseries/timeseries_weather_forecasting/"
   ]
  },
  {
   "cell_type": "code",
   "execution_count": null,
   "metadata": {},
   "outputs": [],
   "source": [
    "Ejemplo punta a punta: https://towardsdatascience.com/an-end-to-end-project-on-time-series-analysis-and-forecasting-with-python-4835e6bf050b"
   ]
  },
  {
   "cell_type": "code",
   "execution_count": null,
   "metadata": {},
   "outputs": [],
   "source": [
    "decomposition = sm.tsa.seasonal_decompose(y, model='additive')\n",
    "fig = decomposition.plot()\n",
    "plt.show()"
   ]
  },
  {
   "cell_type": "markdown",
   "metadata": {},
   "source": [
    "<img src=\"assets/forecasting_decompose.png\" style=\"width:600px;\">"
   ]
  },
  {
   "cell_type": "code",
   "execution_count": null,
   "metadata": {},
   "outputs": [],
   "source": [
    "results.plot_diagnostics(figsize=(16, 8))\n",
    "plt.show()"
   ]
  },
  {
   "cell_type": "markdown",
   "metadata": {},
   "source": [
    "<img src=\"assets/forecasting_result.png\" style=\"width:600px;\">"
   ]
  },
  {
   "cell_type": "markdown",
   "metadata": {},
   "source": [
    "# Clasificacion Texto"
   ]
  },
  {
   "cell_type": "markdown",
   "metadata": {},
   "source": [
    "## Bag of Words"
   ]
  },
  {
   "cell_type": "markdown",
   "metadata": {},
   "source": [
    "<img src=\"assets/bow.jpeg\" style=\"width:600px;\">"
   ]
  },
  {
   "cell_type": "code",
   "execution_count": 30,
   "metadata": {},
   "outputs": [],
   "source": [
    "corpus = [\n",
    "    \"\"\"\n",
    "    El contenido del curso permitirá a los alumnos enfrentar y resolver de una manera más eficiente cuestiones \n",
    "    en el ámbito de las finanzas y en el tratamiento de grandes datos en general. \n",
    "    El curso de Python brinda un nuevo set de herramientas aplicadas que les permita a los profesionales ampliar \n",
    "    su conjunto de habilidades. El curso completo está dividido en 4 módulos de 12 hs cada uno. \n",
    "    El primer Módulo introduce a los participantes a la programación en Python, \n",
    "    presentando la sintaxis básica de su lenguaje y conceptos necesarios para poder seguir los módulos siguientes. \n",
    "    El Módulo 2 se concentra en las librerías más utilizadas en el campo de las finanzas y ciencia de datos para \n",
    "    manipulación y visualización de datos. El Módulo 3 se concentra en librerías y modelos de Machine Learning mientras \n",
    "    que el Módulo 4 se revisan modelos y herramientas aplicados a finanzas. \n",
    "    Diseñado y organizado por el Instituto de Ciencias de la Administración.\n",
    "    \"\"\"\n",
    "    \n",
    "]"
   ]
  },
  {
   "cell_type": "code",
   "execution_count": 11,
   "metadata": {},
   "outputs": [],
   "source": [
    "import pandas as pd\n",
    "from sklearn.feature_extraction.text import CountVectorizer\n",
    "vectorizer = CountVectorizer()\n",
    "vectorized = vectorizer.fit_transform(corpus)\n"
   ]
  },
  {
   "cell_type": "code",
   "execution_count": 5,
   "metadata": {},
   "outputs": [
    {
     "data": {
      "text/plain": [
       "['12',\n",
       " 'administración',\n",
       " 'alumnos',\n",
       " 'ampliar',\n",
       " 'aplicadas',\n",
       " 'aplicados',\n",
       " 'brinda',\n",
       " 'básica',\n",
       " 'cada',\n",
       " 'campo',\n",
       " 'ciencia',\n",
       " 'ciencias',\n",
       " 'completo',\n",
       " 'concentra',\n",
       " 'conceptos',\n",
       " 'conjunto',\n",
       " 'contenido',\n",
       " 'cuestiones',\n",
       " 'curso',\n",
       " 'datos',\n",
       " 'de',\n",
       " 'del',\n",
       " 'diseñado',\n",
       " 'dividido',\n",
       " 'eficiente',\n",
       " 'el',\n",
       " 'en',\n",
       " 'enfrentar',\n",
       " 'está',\n",
       " 'finanzas',\n",
       " 'general',\n",
       " 'grandes',\n",
       " 'habilidades',\n",
       " 'herramientas',\n",
       " 'hs',\n",
       " 'instituto',\n",
       " 'introduce',\n",
       " 'la',\n",
       " 'las',\n",
       " 'learning',\n",
       " 'lenguaje',\n",
       " 'les',\n",
       " 'librerías',\n",
       " 'los',\n",
       " 'machine',\n",
       " 'manera',\n",
       " 'manipulación',\n",
       " 'mientras',\n",
       " 'modelos',\n",
       " 'más',\n",
       " 'módulo',\n",
       " 'módulos',\n",
       " 'necesarios',\n",
       " 'nuevo',\n",
       " 'organizado',\n",
       " 'para',\n",
       " 'participantes',\n",
       " 'permita',\n",
       " 'permitirá',\n",
       " 'poder',\n",
       " 'por',\n",
       " 'presentando',\n",
       " 'primer',\n",
       " 'profesionales',\n",
       " 'programación',\n",
       " 'python',\n",
       " 'que',\n",
       " 'resolver',\n",
       " 'revisan',\n",
       " 'se',\n",
       " 'seguir',\n",
       " 'set',\n",
       " 'siguientes',\n",
       " 'sintaxis',\n",
       " 'su',\n",
       " 'tratamiento',\n",
       " 'un',\n",
       " 'una',\n",
       " 'uno',\n",
       " 'utilizadas',\n",
       " 'visualización',\n",
       " 'ámbito']"
      ]
     },
     "execution_count": 5,
     "metadata": {},
     "output_type": "execute_result"
    }
   ],
   "source": [
    "vectorizer.get_feature_names()"
   ]
  },
  {
   "cell_type": "code",
   "execution_count": 16,
   "metadata": {},
   "outputs": [
    {
     "data": {
      "text/plain": [
       "array([[ 1,  1,  1,  1,  1,  1,  1,  1,  1,  1,  1,  1,  1,  2,  1,  1,\n",
       "         1,  1,  3,  3, 14,  1,  1,  1,  1, 11,  8,  1,  1,  3,  1,  1,\n",
       "         1,  2,  1,  1,  1,  3,  3,  1,  1,  1,  2,  4,  1,  1,  1,  1,\n",
       "         2,  2,  4,  2,  1,  1,  1,  2,  1,  1,  1,  1,  1,  1,  1,  1,\n",
       "         1,  2,  2,  1,  1,  3,  1,  1,  1,  1,  2,  1,  1,  1,  1,  1,\n",
       "         1,  1]])"
      ]
     },
     "execution_count": 16,
     "metadata": {},
     "output_type": "execute_result"
    }
   ],
   "source": [
    "vectorized.toarray()"
   ]
  },
  {
   "cell_type": "code",
   "execution_count": null,
   "metadata": {},
   "outputs": [],
   "source": [
    "from sklearn.feature_extraction.text import CountVectorizer, TfidfTransformer\n",
    "from sklearn.ensemble import GradientBoostingClassifier"
   ]
  },
  {
   "cell_type": "code",
   "execution_count": null,
   "metadata": {},
   "outputs": [],
   "source": [
    "text_clf = Pipeline([\n",
    "     ('vect', CountVectorizer()),\n",
    "     ('tfidf', TfidfTransformer()),\n",
    "     ('clf', GradientBoostingClassifier()),\n",
    " ])\n"
   ]
  },
  {
   "cell_type": "markdown",
   "metadata": {},
   "source": [
    "### Librerias en Python NLP\n",
    "- NLTK https://www.nltk.org/\n",
    "- Spacy: https://spacy.io/ "
   ]
  },
  {
   "cell_type": "markdown",
   "metadata": {},
   "source": [
    "# Clasificacion de imagenes"
   ]
  },
  {
   "cell_type": "markdown",
   "metadata": {},
   "source": [
    "- Tensorflow / Keras: https://keras.io/\n",
    "- Pytorch: https://pytorch.org/\n",
    "- OpenCV: https://opencv.org/"
   ]
  },
  {
   "cell_type": "markdown",
   "metadata": {},
   "source": [
    "### Representación de una imagen\n",
    "- Matriz de pixeles\n",
    "- 3 canales RGB -> forman un tensor"
   ]
  },
  {
   "cell_type": "markdown",
   "metadata": {},
   "source": [
    "<img src=\"assets/image_rgb.png\" style=\"width:600px;\">"
   ]
  },
  {
   "cell_type": "code",
   "execution_count": 22,
   "metadata": {},
   "outputs": [
    {
     "name": "stdout",
     "output_type": "stream",
     "text": [
      "Requirement already satisfied: pillow in /Users/awolfmann/miniconda3/envs/mkt/lib/python3.7/site-packages (8.0.1)\n"
     ]
    }
   ],
   "source": [
    "!pip install pillow"
   ]
  },
  {
   "cell_type": "code",
   "execution_count": 26,
   "metadata": {},
   "outputs": [],
   "source": [
    "import numpy as np\n",
    "from PIL import Image "
   ]
  },
  {
   "cell_type": "code",
   "execution_count": 28,
   "metadata": {},
   "outputs": [
    {
     "name": "stdout",
     "output_type": "stream",
     "text": [
      "La forma de una imagen rgb es:  (604, 1050, 3)\n"
     ]
    }
   ],
   "source": [
    "# Read image \n",
    "img = Image.open('assets/neural_network.png') \n",
    "  \n",
    "print('La forma de una imagen rgb es: ', np.asarray(img).shape)"
   ]
  },
  {
   "cell_type": "markdown",
   "metadata": {},
   "source": [
    "# Redenes neuronales"
   ]
  },
  {
   "cell_type": "markdown",
   "metadata": {},
   "source": [
    "<img src=\"assets/neural_network.png\" style=\"width:600px;\">"
   ]
  },
  {
   "cell_type": "markdown",
   "metadata": {},
   "source": [
    "<img src=\"assets/nn_layers.jpg\" style=\"width:600px;\">"
   ]
  },
  {
   "cell_type": "markdown",
   "metadata": {},
   "source": [
    "<img src=\"assets/cnn_arch.jpg\" style=\"width:600px;\">"
   ]
  },
  {
   "cell_type": "code",
   "execution_count": null,
   "metadata": {},
   "outputs": [],
   "source": []
  }
 ],
 "metadata": {
  "kernelspec": {
   "display_name": "Python 3",
   "language": "python",
   "name": "python3"
  },
  "language_info": {
   "codemirror_mode": {
    "name": "ipython",
    "version": 3
   },
   "file_extension": ".py",
   "mimetype": "text/x-python",
   "name": "python",
   "nbconvert_exporter": "python",
   "pygments_lexer": "ipython3",
   "version": "3.7.8"
  }
 },
 "nbformat": 4,
 "nbformat_minor": 4
}
