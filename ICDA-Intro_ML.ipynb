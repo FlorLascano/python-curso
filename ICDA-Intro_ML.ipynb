{
 "cells": [
  {
   "cell_type": "markdown",
   "metadata": {},
   "source": [
    "<img src=\"assets/socalo-ICDA.png\">"
   ]
  },
  {
   "cell_type": "markdown",
   "metadata": {},
   "source": [
    "# Python para Finanzas y Ciencia de Datos\n",
    "Ariel Wolfmann | awolfmann@gmail.com\n",
    "\n",
    "_Jueves 29 Octubre 2020_"
   ]
  },
  {
   "cell_type": "markdown",
   "metadata": {},
   "source": [
    "## Sobre mi\n",
    "- Formación en Ciencias de la Computación, FaMAF UNC\n",
    "- Head / Director del area de datos en Rappi.\n",
    "- Organizador PyData Cordoba"
   ]
  },
  {
   "cell_type": "markdown",
   "metadata": {},
   "source": [
    "### Repaso\n",
    "- Programación -> Python: Variables, Estructura de datos, Tipo de datos, Bucle\n",
    "- Procesamiento de datos -> Numpy\n",
    "- Manipulación de datos -> Pandas\n",
    "- Visualización -> Matplot, Plotly\n",
    "- EDA: Analisis Exploratorio de datos\n"
   ]
  },
  {
   "cell_type": "markdown",
   "metadata": {},
   "source": [
    "## Introducción a Machine Learning"
   ]
  },
  {
   "cell_type": "markdown",
   "metadata": {},
   "source": [
    "<img src=\"https://files.realpython.com/media/Linear-Regression-in-Python_Watermarked.479f82188ace.jpg\"/>\n",
    "\n",
    "_Fuente: realpython.com_"
   ]
  },
  {
   "cell_type": "markdown",
   "metadata": {},
   "source": [
    "## Mensajes principales\n",
    "- **Big Data ≠Machine Learning ≠ DS ≠ IA ≠ BI** \n",
    "- **Primero el negocio luego ML**\n",
    "- **Un KPI debe ser la metrica de ML sino es una perdida de tiempo y dinero**\n",
    "- **ML en un sistema real es una pasa de uva en un pan dulce**\n",
    "- **ML es un proceso cíclico e iterativo**\n",
    "- **No ML sin riesgo**\n",
    "- **ML no reemplaza a los humanos**\n",
    "- **NO hay ML sin sesgo.**"
   ]
  },
  {
   "cell_type": "markdown",
   "metadata": {},
   "source": [
    "# Conceptos y definiciones"
   ]
  },
  {
   "cell_type": "markdown",
   "metadata": {},
   "source": [
    "## Big Data  "
   ]
  },
  {
   "cell_type": "markdown",
   "metadata": {},
   "source": [
    "<img src=\"assets/bigdata.png\" style=\"width:600px;\">"
   ]
  },
  {
   "cell_type": "markdown",
   "metadata": {},
   "source": [
    "## Small Data vs Big Data \n",
    "### Small data (estadistica clásica)\n",
    "- Extraer lo máximo de pocos datos\n",
    "- Solución: estructura (muestreo, modelo)\n",
    "- Enfoque: muestreo complejo aproxima muestreo al azar (lento y caro, pero bueno). Teoria, experimentos.\n",
    "### Big data\n",
    "- Muchos datos (Volumen)\n",
    "- Muchos datos no estructurados (Variedad)\n",
    "- Muchos datos no estructurados e immediatos (Velocidad)"
   ]
  },
  {
   "cell_type": "markdown",
   "metadata": {},
   "source": [
    "## Data Science\n",
    "- Dado un conjunto de datos de input produce un output definido, buscando patrones y aprendiendolos.\n",
    "- No es una bala de plata que sirve para todo, muchas veces no funciona.\n",
    "- Ayuda a la toma de decisiones basadas en datos.\n",
    "- Involucra un proceso de investigación y experimentación.\n",
    "- Es un proceso que contiene mucha incertidumbre, requiere manejo correcto de las expectativas."
   ]
  },
  {
   "cell_type": "markdown",
   "metadata": {},
   "source": [
    "<img src=\"assets/ml_system.png\" style=\"width:700px;\">"
   ]
  },
  {
   "cell_type": "markdown",
   "metadata": {},
   "source": [
    "## Machine Learning\n",
    "- Subarea de la inteligencia artificial donde el sistema aprende a encontrar patrones en los datos de ejemplo, tipicamente usando estadistica para hacer predicciones.\n",
    "- “Es el campo de estudio que le da a las computadoras la habilidad de aprender sin ser explícitamente programadas”\n",
    "Arthur Samuel, 1959. "
   ]
  },
  {
   "cell_type": "markdown",
   "metadata": {},
   "source": [
    "## Conceptos relacionados"
   ]
  },
  {
   "cell_type": "markdown",
   "metadata": {},
   "source": [
    "<img src=\"assets/bigdata_ml_ai.jpg\" style=\"width:600px;\">"
   ]
  },
  {
   "cell_type": "markdown",
   "metadata": {},
   "source": [
    "## Conceptos relacionados\n",
    "- **Inteligencia Artificial**: Computadoras emulando comportamientos humanos específicos.\n",
    "- **Big Data**: Disponibilidad de grandes volumenes de data y la capacidad de procesarlos.\n",
    "- **Machine Learning**: Predecir un comportamiento basado en métodos estadísticos, encontrando patrones.\n",
    "- **Deep Learning**: Subconjunto de  ML, sin necesidad de definir características pero requiere de mucho mayor volumen de datos.\n",
    "- **Bussiness Intelligence**: Orientado a medir y reportar eventos del pasado\n",
    "- **Data Science**: Transformar datos e hipotesis en información para la toma de decisiones o para predecir acciones.\n"
   ]
  },
  {
   "cell_type": "markdown",
   "metadata": {},
   "source": [
    "<img src=\"assets/data_science_ven_diagram.png\" style=\"width:600px;\">"
   ]
  },
  {
   "cell_type": "markdown",
   "metadata": {},
   "source": [
    "### Calidad de datos\n",
    "- **Completitud**  —  Tenemos toda la información necesaria\n",
    "- **Validez**  —  Es el tipo de datos correcto\n",
    "- **Precision**  —  Los datos reflejan precisamente los objetos que representan\n",
    "- **Integridad**  —  Las relaciones entre las entidades representadas son consistentes\n",
    "- **Consistencia**  —  Hay duplicados o inconsistencias dentro del sistema?\n",
    "- **Temporalidad** —  Los datos estan disponibles en el momento en el que se los requiere?"
   ]
  },
  {
   "cell_type": "markdown",
   "metadata": {},
   "source": [
    "### Fuentes de datos\n",
    "- Transaccionales: Compras, ventas, cotización de acciones en la bolsa, etc.\n",
    "- Conversacionales: chats, mails, grabaciones telefonicas.\n",
    "- Fotos y videos: subir a las redes sociales, etc.\n",
    "- Sensores: posicion del gps, acelerometro, etc.\n",
    "- IoT: smart tv, smart watch, alexa, etc.\n",
    "- registro de actividades: escuchar musica, leer un libro, buscar en google, comprar un artículo en un ecommerce (metadatos). \n"
   ]
  },
  {
   "cell_type": "markdown",
   "metadata": {},
   "source": [
    "### Tipos de datos\n",
    "- Texto \n",
    "- Imágenes\n",
    "- Sonido\n",
    "- Registros estructurados (Filas y columnas)\n",
    "- Registros semi estructurados (Documentos, Clave-Valor)\n"
   ]
  },
  {
   "cell_type": "markdown",
   "metadata": {},
   "source": [
    "### Cuando usar Machine Learning?\n",
    "No es una solución para todo tipo de problemas.\n",
    "https://www.quora.com/What-can-machine-learning-do-and-cant-do\n",
    "\n",
    "**Situaciones típicas:**\n",
    "- No se puede codificar las reglas: demasiadas reglas y excepciones. \n",
    "- No es escalable: proceso manual tedioso.\n",
    "- Lo puede realizar una persona entrenada pero no requiere de un proceso creativo.\n",
    "\n",
    "**Si una persona no puede una máquina tampoco.**"
   ]
  },
  {
   "cell_type": "markdown",
   "metadata": {},
   "source": [
    "# Terminología"
   ]
  },
  {
   "cell_type": "markdown",
   "metadata": {},
   "source": [
    "### Modelo\n",
    "- Representación abstracta de la realidad\n",
    "- Es el artefacto entrenado, a partir del algoritmo de aprendizaje elegido y los datos provistos. \n",
    "- El modelo obtenido es quien se encarga luego de predecir sobre nuevas instancias de datos."
   ]
  },
  {
   "cell_type": "markdown",
   "metadata": {},
   "source": [
    "### Feature\n",
    "- Propiedad o característica mensurable de un objeto observado. \n",
    "- Permite distinguir un punto del conjunto de otro dentro del mismo.\n",
    "- La elección de features independientes, informativas y discriminantes es crucial para que los algoritmos de ML sean efectivos. \n",
    "- Feature engineering: combinación de arte y ciencia para obtener buenas features."
   ]
  },
  {
   "cell_type": "markdown",
   "metadata": {},
   "source": [
    "### Features numericas vs feature categoricas\n",
    "Según el tipo de datos\n",
    "- Numericas\n",
    "    - Discreta\n",
    "    - Continua\n",
    "- Categoricas:\n",
    "    - Ejemplo genéro, clase, etc. pueden representarse como numeros pero hay que tener cuidad con la ordinalidad."
   ]
  },
  {
   "cell_type": "markdown",
   "metadata": {},
   "source": [
    "### Entrenamiento\n",
    "- Proceso por el cual el model aprende a diferenciar cada registro, detectando patrones. \n",
    "- Requiere de un conjunto de datos de entrenamiento a partir del cual aprender. El modelo luego hará predicciones basado en lo que aprendió de este conjunto."
   ]
  },
  {
   "cell_type": "markdown",
   "metadata": {},
   "source": [
    "### Evaluación\n",
    "- Un modelo entrenado predice sobre nuevos datos basado en los ejemplos del conjunto de entrenamiento.\n",
    "- Para evaluar si un modelo es mejor que otro se definen métricas de performance del modelo sobre el conjunto de datos de evaluacion.\n",
    "- Los datos de evaluación deben ser representativos del problema y el objetivo."
   ]
  },
  {
   "cell_type": "markdown",
   "metadata": {},
   "source": [
    "<img src=\"assets/overfitting.png\" style=\"width:600px;\">"
   ]
  },
  {
   "cell_type": "markdown",
   "metadata": {},
   "source": [
    "## Métricas - KPIs\n",
    "Cómo defino el éxito de un proyecto de Machine Learning?\n",
    "\n",
    "Es importante que **SIEMPRE** el objetivo sea atado a mejorar un KPI del negocio.\n",
    "\n",
    "Si ML no está ligado a un KPI, es **“sólo”** ciencia.\n",
    "\n",
    "- Métricas Offline: performance del modelo. Error Cuadrático Medio (MSE) Precision, Recall, Accuracy. \n",
    "- Métricas Online:  atados a indicadores de negocio KPIs. CTR, Conversión\n"
   ]
  },
  {
   "cell_type": "markdown",
   "metadata": {},
   "source": [
    "## Aprendizaje Supervisado\n",
    "- Los datos de entrenamiento tienen una “etiqueta” validada por un humano. \n",
    "- Se conoce el valor de la variable a predecir al momento del entrenamiento.\n",
    "- Normalmente el conjunto de datos puede representarse como un vector: (x1, x2, .. , xn, Y)\n",
    "    - Donde xi es cada una de las features que representa a ese dato, Y es el valor de la variable a predecir."
   ]
  },
  {
   "cell_type": "markdown",
   "metadata": {},
   "source": [
    "### Clasificación\n",
    "\n",
    "- Determina a qué clase o categoría pertenece el dato.\n",
    "- Un sistema de clasificación puede distinguir entre 2 o mas clases.\n",
    "- Las clases son definidas basadas en los objetivos propuestos."
   ]
  },
  {
   "cell_type": "markdown",
   "metadata": {},
   "source": [
    "### Regresión\n",
    "Predice la relacion entre multiples variables cuando la variable objetivo predecir es un valor continuo.\n",
    "\n"
   ]
  },
  {
   "cell_type": "markdown",
   "metadata": {},
   "source": [
    "<img src=\"assets/clasificacion_regresion.png\" style=\"width:600px;\">"
   ]
  },
  {
   "cell_type": "markdown",
   "metadata": {},
   "source": [
    "## Aprendizaje no supervisado\n",
    "Los datos de entrenamiento no poseen ningún tipo de etiqueta, el sistema debe aprender a ordenarlos en base a una función de distancia o similaridad.\n",
    "\n"
   ]
  },
  {
   "cell_type": "markdown",
   "metadata": {},
   "source": [
    "### Clustering\n",
    "- Encuentra relaciones entre los datos, tipicamente sin un conjunto de datos etiquetado.\n",
    "- Busca similaridad entre los ejemplos del conjunto de datos.\n",
    "- El sistema define sus \"propias\" categorias.\n"
   ]
  },
  {
   "cell_type": "markdown",
   "metadata": {},
   "source": [
    "### Tolerancia al error\n",
    "Existen determinadas problemáticas donde el error es tolerable y en otras no:\n",
    "- Baja tolerancia: \n",
    "    - Compra/venta de acciones\n",
    "    - Conducción autónoma\n",
    "- Tolerantes: \n",
    "    - Recomendar un producto\n",
    "    - Traducir un texto\n",
    "    - Personalización. \n"
   ]
  },
  {
   "cell_type": "markdown",
   "metadata": {},
   "source": [
    "### Procesamiento Lenguaje Natural NLP\n",
    "- Area especializada en texto\n",
    "- Inicialmente no se aplicaba ML.\n",
    "- Hoy en día gran parte de los proyectos de Data Science requieren manipulación de texto."
   ]
  },
  {
   "cell_type": "markdown",
   "metadata": {},
   "source": [
    "### Vision por computadoras\n",
    "- Area especializada en imágenes.\n",
    "- Inicialmente no se aplicaba ML.\n",
    "- En este campo surgió el boom de las redes neuronales."
   ]
  },
  {
   "cell_type": "markdown",
   "metadata": {},
   "source": [
    "### Forecasting\n",
    "- Utilizado para series de tiempo\n",
    "- Predice valores dado una secuencia."
   ]
  },
  {
   "cell_type": "markdown",
   "metadata": {},
   "source": [
    "### Garbage in, Garbage out\n",
    "**Si se entrena un modelo de ML con datos malos o poco representativos del universo, el output del modelo serán malas predicciones.**\n"
   ]
  },
  {
   "cell_type": "markdown",
   "metadata": {},
   "source": [
    "### Aplicaciones en Fintech\n",
    "- **Scoring Crediticio**: Predecir mora, adopción, cobranza y recompra.\n",
    "- **Pasarela de pagos**: Pre aprobación automáticas de pagos.\n",
    "- **Fraude**: Reducir contracargos.\n",
    "- **Automatización de procesos**: Chatbots\n",
    "- **Roboadvisors**: Portfolio Management y recomendacion de productos financieros."
   ]
  },
  {
   "cell_type": "markdown",
   "metadata": {},
   "source": [
    "### Soluciones de ML \n",
    "A partir de contestar estas preguntas podemos determinar si estamos ante una solución de ML:\n",
    "* ¿Estamos ayudando a encontrar lo correcto cuando nuestros usuarios buscan? **Ranking**.\n",
    "* ¿Damos a los usuarios cosas en las que podrían estar interesados? Incluso si no las están buscando. **Recomendaciones**.\n",
    "* ¿Averiguamos qué cosa es algo? **Clasificación**.\n",
    "* ¿Predecimos el valor numérico de algo? **Regresión**.\n",
    "* ¿Ponemos cosas similares juntas? **Clustering**.\n",
    "* ¿Encontramos cosas poco comunes? **Anomaly detection**."
   ]
  },
  {
   "cell_type": "markdown",
   "metadata": {},
   "source": [
    "### Ciclo de vida de un proyecto\n",
    "\n",
    "1. Definición de Objetivos\n",
    "2. Recolección de datos\n",
    "    - Es la etapa mas importante del proyecto\n",
    "    - Si los datos no son consumibles por un modelo hay que preprocesarlos\n",
    "    - Suele ser el 50/60% del tiempo del proyecto\n",
    "3. Construcción del modelo \n",
    "    - Analisis Exploratorio de : Estadistica descriptiva\n",
    "    - Hipotesis y Experimentación: método científico.\n",
    "    - Entrenamiento\n",
    "    - Evaluacion\n",
    "4. Puesta en producción.\n",
    "5. Monitoreo y retroalimentación.\n"
   ]
  },
  {
   "cell_type": "markdown",
   "metadata": {},
   "source": [
    "\n",
    "## Ejemplo: Precios de casas - Programación tradicional\n",
    "\n",
    "```python\n",
    "price = get_base_price()\n",
    "\n",
    "if num_bedrooms > 2:\n",
    "  price = price * 1.2\n",
    "\n",
    "if lot_size > 7000:\n",
    "  price = price * 1.1\n",
    "\n",
    "if waterfront:\n",
    "  price = price * 1.3\n",
    "\n",
    "if near_railroad:\n",
    "  price = price * 0.9\n",
    "```"
   ]
  },
  {
   "cell_type": "markdown",
   "metadata": {},
   "source": [
    "## Basado en reglas\n",
    "\n",
    "* Personas que desarrollan la lógica del flujo\n",
    "* Reglas del tipo If/then/else\n",
    "* Manejo de excepciones\n",
    "* Limitado al razonamiento humano\n",
    "* Expuesto al sesgo del que lo implementa"
   ]
  },
  {
   "cell_type": "markdown",
   "metadata": {},
   "source": [
    "## Machine Learning\n",
    "\n",
    "* Modelo entrenado con datos\n",
    "* Patrones emergentes en los datos\n",
    "* Proceso de hipotesis y experimentación, iterativo con refinamientos\n",
    "* Limitado al conjunto de datos de entrenamiento\n",
    "* Expuesto al sesgo del conjunto de datos"
   ]
  },
  {
   "cell_type": "markdown",
   "metadata": {},
   "source": [
    "\n",
    "|Basado en reglas|Machine Learning   |\n",
    "|---|---|\n",
    "|Personas que desarrollan la lógica del flujo   | Modelo entrenado con datos |\n",
    "|Reglas del tipo If/then/else   | Patrones emergentes en los datos  |\n",
    "|Manejo de excepciones   | Proceso de hipotesis y experimentación, iterativo con refinamientos  |\n",
    "|Limitado al razonamiento humano| Limitado al conjunto de datos de entrenamiento|\n",
    "|Expuesto al sesgo del que lo implementa|Expuesto al sesgo del conjunto de datos|\n"
   ]
  },
  {
   "cell_type": "markdown",
   "metadata": {},
   "source": [
    "## Scikit Learn\n",
    "- https://scikit-learn.org/stable/index.html\n",
    "- Librería mas popular en Python para Machine Learning\n",
    "- Gratis y Open source\n",
    "- Originalmente nace como un proyecto de investigación del INRIA.\n",
    "- Hoy en día es de las herramientas mas utilizadas en la industria.\n",
    "- Tutoriales: https://scikit-learn.org/stable/tutorial/basic/tutorial.html"
   ]
  },
  {
   "cell_type": "markdown",
   "metadata": {},
   "source": [
    "### Datasets\n",
    "Pueden cargar algunos conjuntos de datos precargados para aprender!\n",
    "https://scikit-learn.org/stable/modules/classes.html#module-sklearn.datasets"
   ]
  },
  {
   "cell_type": "markdown",
   "metadata": {},
   "source": [
    "### Veamos un poco de código!!"
   ]
  },
  {
   "cell_type": "code",
   "execution_count": 12,
   "metadata": {},
   "outputs": [
    {
     "name": "stdout",
     "output_type": "stream",
     "text": [
      "Requirement already satisfied: scikit-learn in /Users/awolfmann/miniconda3/envs/mkt/lib/python3.7/site-packages (0.23.2)\n",
      "Requirement already satisfied: scipy>=0.19.1 in /Users/awolfmann/miniconda3/envs/mkt/lib/python3.7/site-packages (from scikit-learn) (1.5.3)\n",
      "Requirement already satisfied: numpy>=1.13.3 in /Users/awolfmann/miniconda3/envs/mkt/lib/python3.7/site-packages (from scikit-learn) (1.16.4)\n",
      "Requirement already satisfied: threadpoolctl>=2.0.0 in /Users/awolfmann/miniconda3/envs/mkt/lib/python3.7/site-packages (from scikit-learn) (2.1.0)\n",
      "Requirement already satisfied: joblib>=0.11 in /Users/awolfmann/miniconda3/envs/mkt/lib/python3.7/site-packages (from scikit-learn) (0.17.0)\n"
     ]
    }
   ],
   "source": [
    "!pip install scikit-learn"
   ]
  },
  {
   "cell_type": "code",
   "execution_count": 2,
   "metadata": {},
   "outputs": [],
   "source": [
    "import pandas as pd\n",
    "import seaborn as sns\n",
    "import matplotlib.pyplot as plt"
   ]
  },
  {
   "cell_type": "code",
   "execution_count": 3,
   "metadata": {},
   "outputs": [
    {
     "data": {
      "text/html": [
       "<div>\n",
       "<style scoped>\n",
       "    .dataframe tbody tr th:only-of-type {\n",
       "        vertical-align: middle;\n",
       "    }\n",
       "\n",
       "    .dataframe tbody tr th {\n",
       "        vertical-align: top;\n",
       "    }\n",
       "\n",
       "    .dataframe thead th {\n",
       "        text-align: right;\n",
       "    }\n",
       "</style>\n",
       "<table border=\"1\" class=\"dataframe\">\n",
       "  <thead>\n",
       "    <tr style=\"text-align: right;\">\n",
       "      <th></th>\n",
       "      <th>Id</th>\n",
       "      <th>MSSubClass</th>\n",
       "      <th>MSZoning</th>\n",
       "      <th>LotFrontage</th>\n",
       "      <th>LotArea</th>\n",
       "      <th>Street</th>\n",
       "      <th>Alley</th>\n",
       "      <th>LotShape</th>\n",
       "      <th>LandContour</th>\n",
       "      <th>Utilities</th>\n",
       "      <th>...</th>\n",
       "      <th>PoolArea</th>\n",
       "      <th>PoolQC</th>\n",
       "      <th>Fence</th>\n",
       "      <th>MiscFeature</th>\n",
       "      <th>MiscVal</th>\n",
       "      <th>MoSold</th>\n",
       "      <th>YrSold</th>\n",
       "      <th>SaleType</th>\n",
       "      <th>SaleCondition</th>\n",
       "      <th>SalePrice</th>\n",
       "    </tr>\n",
       "  </thead>\n",
       "  <tbody>\n",
       "    <tr>\n",
       "      <th>0</th>\n",
       "      <td>1</td>\n",
       "      <td>60</td>\n",
       "      <td>RL</td>\n",
       "      <td>65.0</td>\n",
       "      <td>8450</td>\n",
       "      <td>Pave</td>\n",
       "      <td>NaN</td>\n",
       "      <td>Reg</td>\n",
       "      <td>Lvl</td>\n",
       "      <td>AllPub</td>\n",
       "      <td>...</td>\n",
       "      <td>0</td>\n",
       "      <td>NaN</td>\n",
       "      <td>NaN</td>\n",
       "      <td>NaN</td>\n",
       "      <td>0</td>\n",
       "      <td>2</td>\n",
       "      <td>2008</td>\n",
       "      <td>WD</td>\n",
       "      <td>Normal</td>\n",
       "      <td>208500</td>\n",
       "    </tr>\n",
       "    <tr>\n",
       "      <th>1</th>\n",
       "      <td>2</td>\n",
       "      <td>20</td>\n",
       "      <td>RL</td>\n",
       "      <td>80.0</td>\n",
       "      <td>9600</td>\n",
       "      <td>Pave</td>\n",
       "      <td>NaN</td>\n",
       "      <td>Reg</td>\n",
       "      <td>Lvl</td>\n",
       "      <td>AllPub</td>\n",
       "      <td>...</td>\n",
       "      <td>0</td>\n",
       "      <td>NaN</td>\n",
       "      <td>NaN</td>\n",
       "      <td>NaN</td>\n",
       "      <td>0</td>\n",
       "      <td>5</td>\n",
       "      <td>2007</td>\n",
       "      <td>WD</td>\n",
       "      <td>Normal</td>\n",
       "      <td>181500</td>\n",
       "    </tr>\n",
       "    <tr>\n",
       "      <th>2</th>\n",
       "      <td>3</td>\n",
       "      <td>60</td>\n",
       "      <td>RL</td>\n",
       "      <td>68.0</td>\n",
       "      <td>11250</td>\n",
       "      <td>Pave</td>\n",
       "      <td>NaN</td>\n",
       "      <td>IR1</td>\n",
       "      <td>Lvl</td>\n",
       "      <td>AllPub</td>\n",
       "      <td>...</td>\n",
       "      <td>0</td>\n",
       "      <td>NaN</td>\n",
       "      <td>NaN</td>\n",
       "      <td>NaN</td>\n",
       "      <td>0</td>\n",
       "      <td>9</td>\n",
       "      <td>2008</td>\n",
       "      <td>WD</td>\n",
       "      <td>Normal</td>\n",
       "      <td>223500</td>\n",
       "    </tr>\n",
       "    <tr>\n",
       "      <th>3</th>\n",
       "      <td>4</td>\n",
       "      <td>70</td>\n",
       "      <td>RL</td>\n",
       "      <td>60.0</td>\n",
       "      <td>9550</td>\n",
       "      <td>Pave</td>\n",
       "      <td>NaN</td>\n",
       "      <td>IR1</td>\n",
       "      <td>Lvl</td>\n",
       "      <td>AllPub</td>\n",
       "      <td>...</td>\n",
       "      <td>0</td>\n",
       "      <td>NaN</td>\n",
       "      <td>NaN</td>\n",
       "      <td>NaN</td>\n",
       "      <td>0</td>\n",
       "      <td>2</td>\n",
       "      <td>2006</td>\n",
       "      <td>WD</td>\n",
       "      <td>Abnorml</td>\n",
       "      <td>140000</td>\n",
       "    </tr>\n",
       "    <tr>\n",
       "      <th>4</th>\n",
       "      <td>5</td>\n",
       "      <td>60</td>\n",
       "      <td>RL</td>\n",
       "      <td>84.0</td>\n",
       "      <td>14260</td>\n",
       "      <td>Pave</td>\n",
       "      <td>NaN</td>\n",
       "      <td>IR1</td>\n",
       "      <td>Lvl</td>\n",
       "      <td>AllPub</td>\n",
       "      <td>...</td>\n",
       "      <td>0</td>\n",
       "      <td>NaN</td>\n",
       "      <td>NaN</td>\n",
       "      <td>NaN</td>\n",
       "      <td>0</td>\n",
       "      <td>12</td>\n",
       "      <td>2008</td>\n",
       "      <td>WD</td>\n",
       "      <td>Normal</td>\n",
       "      <td>250000</td>\n",
       "    </tr>\n",
       "  </tbody>\n",
       "</table>\n",
       "<p>5 rows × 81 columns</p>\n",
       "</div>"
      ],
      "text/plain": [
       "   Id  MSSubClass MSZoning  LotFrontage  LotArea Street Alley LotShape  \\\n",
       "0   1          60       RL         65.0     8450   Pave   NaN      Reg   \n",
       "1   2          20       RL         80.0     9600   Pave   NaN      Reg   \n",
       "2   3          60       RL         68.0    11250   Pave   NaN      IR1   \n",
       "3   4          70       RL         60.0     9550   Pave   NaN      IR1   \n",
       "4   5          60       RL         84.0    14260   Pave   NaN      IR1   \n",
       "\n",
       "  LandContour Utilities  ... PoolArea PoolQC Fence MiscFeature MiscVal MoSold  \\\n",
       "0         Lvl    AllPub  ...        0    NaN   NaN         NaN       0      2   \n",
       "1         Lvl    AllPub  ...        0    NaN   NaN         NaN       0      5   \n",
       "2         Lvl    AllPub  ...        0    NaN   NaN         NaN       0      9   \n",
       "3         Lvl    AllPub  ...        0    NaN   NaN         NaN       0      2   \n",
       "4         Lvl    AllPub  ...        0    NaN   NaN         NaN       0     12   \n",
       "\n",
       "  YrSold  SaleType  SaleCondition  SalePrice  \n",
       "0   2008        WD         Normal     208500  \n",
       "1   2007        WD         Normal     181500  \n",
       "2   2008        WD         Normal     223500  \n",
       "3   2006        WD        Abnorml     140000  \n",
       "4   2008        WD         Normal     250000  \n",
       "\n",
       "[5 rows x 81 columns]"
      ]
     },
     "execution_count": 3,
     "metadata": {},
     "output_type": "execute_result"
    }
   ],
   "source": [
    "df = pd.read_csv('clase8_train.csv')\n",
    "df.head()"
   ]
  },
  {
   "cell_type": "code",
   "execution_count": 4,
   "metadata": {},
   "outputs": [],
   "source": [
    "train_columns = ['YearRemodAdd', 'YearBuilt', 'TotRmsAbvGrd', 'FullBath', '1stFlrSF', 'GarageArea', 'TotalBsmtSF', \n",
    "                 'GarageCars','2ndFlrSF','GrLivArea','OverallQual']"
   ]
  },
  {
   "cell_type": "code",
   "execution_count": 5,
   "metadata": {},
   "outputs": [],
   "source": [
    "df_train = df[train_columns]"
   ]
  },
  {
   "cell_type": "markdown",
   "metadata": {},
   "source": [
    "### Partimos el conjunto de datos en Train y Test"
   ]
  },
  {
   "cell_type": "code",
   "execution_count": 6,
   "metadata": {},
   "outputs": [],
   "source": [
    "from sklearn.model_selection import train_test_split\n",
    "\n",
    "X_train, X_test, y_train, y_test = train_test_split(df_train, df['SalePrice'], test_size=0.30)"
   ]
  },
  {
   "cell_type": "code",
   "execution_count": null,
   "metadata": {},
   "outputs": [],
   "source": [
    "X_train, X_test, y_train, y_test = train_test_split(df_train, df['SalePrice'], test_size=0.30)"
   ]
  },
  {
   "cell_type": "markdown",
   "metadata": {},
   "source": [
    "## Regresion Lineal\n",
    "Tiene un simple objetivo: encontrar una linea recta que mejor se ajuste al conjunto de datos."
   ]
  },
  {
   "cell_type": "markdown",
   "metadata": {},
   "source": [
    "<img src=\"assets/linear_regression.png\" style=\"width:600px;\">"
   ]
  },
  {
   "cell_type": "markdown",
   "metadata": {},
   "source": [
    "<img src=\"assets/linear_regression.gif\" style=\"width:600px;\">"
   ]
  },
  {
   "cell_type": "code",
   "execution_count": 7,
   "metadata": {},
   "outputs": [],
   "source": [
    "from sklearn.linear_model import LinearRegression\n",
    "\n",
    "lr = LinearRegression()\n",
    "\n",
    "lr.fit(X_train, y_train)\n",
    "y_pred_lr = lr.predict(X_test)"
   ]
  },
  {
   "cell_type": "code",
   "execution_count": 146,
   "metadata": {},
   "outputs": [
    {
     "ename": "ValueError",
     "evalue": "Input contains NaN, infinity or a value too large for dtype('float64').",
     "output_type": "error",
     "traceback": [
      "\u001b[0;31m---------------------------------------------------------------------------\u001b[0m",
      "\u001b[0;31mValueError\u001b[0m                                Traceback (most recent call last)",
      "\u001b[0;32m<ipython-input-146-10a1c8950c7d>\u001b[0m in \u001b[0;36m<module>\u001b[0;34m\u001b[0m\n\u001b[1;32m      3\u001b[0m \u001b[0mtrain_extra\u001b[0m \u001b[0;34m=\u001b[0m \u001b[0mX_train\u001b[0m \u001b[0;34m+\u001b[0m \u001b[0mdf\u001b[0m\u001b[0;34m[\u001b[0m\u001b[0;34m'Street'\u001b[0m\u001b[0;34m]\u001b[0m\u001b[0;34m\u001b[0m\u001b[0;34m\u001b[0m\u001b[0m\n\u001b[1;32m      4\u001b[0m \u001b[0;34m\u001b[0m\u001b[0m\n\u001b[0;32m----> 5\u001b[0;31m \u001b[0mknr\u001b[0m\u001b[0;34m.\u001b[0m\u001b[0mfit\u001b[0m\u001b[0;34m(\u001b[0m\u001b[0mtrain_extra\u001b[0m\u001b[0;34m,\u001b[0m \u001b[0my_train\u001b[0m\u001b[0;34m)\u001b[0m\u001b[0;34m\u001b[0m\u001b[0;34m\u001b[0m\u001b[0m\n\u001b[0m\u001b[1;32m      6\u001b[0m \u001b[0my_pred_knr\u001b[0m \u001b[0;34m=\u001b[0m \u001b[0mknr\u001b[0m\u001b[0;34m.\u001b[0m\u001b[0mpredict\u001b[0m\u001b[0;34m(\u001b[0m\u001b[0mX_test\u001b[0m\u001b[0;34m)\u001b[0m\u001b[0;34m\u001b[0m\u001b[0;34m\u001b[0m\u001b[0m\n",
      "\u001b[0;32m~/miniconda3/envs/mkt/lib/python3.7/site-packages/sklearn/neighbors/_base.py\u001b[0m in \u001b[0;36mfit\u001b[0;34m(self, X, y)\u001b[0m\n\u001b[1;32m   1106\u001b[0m         \u001b[0;32mif\u001b[0m \u001b[0;32mnot\u001b[0m \u001b[0misinstance\u001b[0m\u001b[0;34m(\u001b[0m\u001b[0mX\u001b[0m\u001b[0;34m,\u001b[0m \u001b[0;34m(\u001b[0m\u001b[0mKDTree\u001b[0m\u001b[0;34m,\u001b[0m \u001b[0mBallTree\u001b[0m\u001b[0;34m)\u001b[0m\u001b[0;34m)\u001b[0m\u001b[0;34m:\u001b[0m\u001b[0;34m\u001b[0m\u001b[0;34m\u001b[0m\u001b[0m\n\u001b[1;32m   1107\u001b[0m             X, y = self._validate_data(X, y, accept_sparse=\"csr\",\n\u001b[0;32m-> 1108\u001b[0;31m                                        multi_output=True)\n\u001b[0m\u001b[1;32m   1109\u001b[0m         \u001b[0mself\u001b[0m\u001b[0;34m.\u001b[0m\u001b[0m_y\u001b[0m \u001b[0;34m=\u001b[0m \u001b[0my\u001b[0m\u001b[0;34m\u001b[0m\u001b[0;34m\u001b[0m\u001b[0m\n\u001b[1;32m   1110\u001b[0m         \u001b[0;32mreturn\u001b[0m \u001b[0mself\u001b[0m\u001b[0;34m.\u001b[0m\u001b[0m_fit\u001b[0m\u001b[0;34m(\u001b[0m\u001b[0mX\u001b[0m\u001b[0;34m)\u001b[0m\u001b[0;34m\u001b[0m\u001b[0;34m\u001b[0m\u001b[0m\n",
      "\u001b[0;32m~/miniconda3/envs/mkt/lib/python3.7/site-packages/sklearn/base.py\u001b[0m in \u001b[0;36m_validate_data\u001b[0;34m(self, X, y, reset, validate_separately, **check_params)\u001b[0m\n\u001b[1;32m    430\u001b[0m                 \u001b[0my\u001b[0m \u001b[0;34m=\u001b[0m \u001b[0mcheck_array\u001b[0m\u001b[0;34m(\u001b[0m\u001b[0my\u001b[0m\u001b[0;34m,\u001b[0m \u001b[0;34m**\u001b[0m\u001b[0mcheck_y_params\u001b[0m\u001b[0;34m)\u001b[0m\u001b[0;34m\u001b[0m\u001b[0;34m\u001b[0m\u001b[0m\n\u001b[1;32m    431\u001b[0m             \u001b[0;32melse\u001b[0m\u001b[0;34m:\u001b[0m\u001b[0;34m\u001b[0m\u001b[0;34m\u001b[0m\u001b[0m\n\u001b[0;32m--> 432\u001b[0;31m                 \u001b[0mX\u001b[0m\u001b[0;34m,\u001b[0m \u001b[0my\u001b[0m \u001b[0;34m=\u001b[0m \u001b[0mcheck_X_y\u001b[0m\u001b[0;34m(\u001b[0m\u001b[0mX\u001b[0m\u001b[0;34m,\u001b[0m \u001b[0my\u001b[0m\u001b[0;34m,\u001b[0m \u001b[0;34m**\u001b[0m\u001b[0mcheck_params\u001b[0m\u001b[0;34m)\u001b[0m\u001b[0;34m\u001b[0m\u001b[0;34m\u001b[0m\u001b[0m\n\u001b[0m\u001b[1;32m    433\u001b[0m             \u001b[0mout\u001b[0m \u001b[0;34m=\u001b[0m \u001b[0mX\u001b[0m\u001b[0;34m,\u001b[0m \u001b[0my\u001b[0m\u001b[0;34m\u001b[0m\u001b[0;34m\u001b[0m\u001b[0m\n\u001b[1;32m    434\u001b[0m \u001b[0;34m\u001b[0m\u001b[0m\n",
      "\u001b[0;32m~/miniconda3/envs/mkt/lib/python3.7/site-packages/sklearn/utils/validation.py\u001b[0m in \u001b[0;36minner_f\u001b[0;34m(*args, **kwargs)\u001b[0m\n\u001b[1;32m     70\u001b[0m                           FutureWarning)\n\u001b[1;32m     71\u001b[0m         \u001b[0mkwargs\u001b[0m\u001b[0;34m.\u001b[0m\u001b[0mupdate\u001b[0m\u001b[0;34m(\u001b[0m\u001b[0;34m{\u001b[0m\u001b[0mk\u001b[0m\u001b[0;34m:\u001b[0m \u001b[0marg\u001b[0m \u001b[0;32mfor\u001b[0m \u001b[0mk\u001b[0m\u001b[0;34m,\u001b[0m \u001b[0marg\u001b[0m \u001b[0;32min\u001b[0m \u001b[0mzip\u001b[0m\u001b[0;34m(\u001b[0m\u001b[0msig\u001b[0m\u001b[0;34m.\u001b[0m\u001b[0mparameters\u001b[0m\u001b[0;34m,\u001b[0m \u001b[0margs\u001b[0m\u001b[0;34m)\u001b[0m\u001b[0;34m}\u001b[0m\u001b[0;34m)\u001b[0m\u001b[0;34m\u001b[0m\u001b[0;34m\u001b[0m\u001b[0m\n\u001b[0;32m---> 72\u001b[0;31m         \u001b[0;32mreturn\u001b[0m \u001b[0mf\u001b[0m\u001b[0;34m(\u001b[0m\u001b[0;34m**\u001b[0m\u001b[0mkwargs\u001b[0m\u001b[0;34m)\u001b[0m\u001b[0;34m\u001b[0m\u001b[0;34m\u001b[0m\u001b[0m\n\u001b[0m\u001b[1;32m     73\u001b[0m     \u001b[0;32mreturn\u001b[0m \u001b[0minner_f\u001b[0m\u001b[0;34m\u001b[0m\u001b[0;34m\u001b[0m\u001b[0m\n\u001b[1;32m     74\u001b[0m \u001b[0;34m\u001b[0m\u001b[0m\n",
      "\u001b[0;32m~/miniconda3/envs/mkt/lib/python3.7/site-packages/sklearn/utils/validation.py\u001b[0m in \u001b[0;36mcheck_X_y\u001b[0;34m(X, y, accept_sparse, accept_large_sparse, dtype, order, copy, force_all_finite, ensure_2d, allow_nd, multi_output, ensure_min_samples, ensure_min_features, y_numeric, estimator)\u001b[0m\n\u001b[1;32m    800\u001b[0m                     \u001b[0mensure_min_samples\u001b[0m\u001b[0;34m=\u001b[0m\u001b[0mensure_min_samples\u001b[0m\u001b[0;34m,\u001b[0m\u001b[0;34m\u001b[0m\u001b[0;34m\u001b[0m\u001b[0m\n\u001b[1;32m    801\u001b[0m                     \u001b[0mensure_min_features\u001b[0m\u001b[0;34m=\u001b[0m\u001b[0mensure_min_features\u001b[0m\u001b[0;34m,\u001b[0m\u001b[0;34m\u001b[0m\u001b[0;34m\u001b[0m\u001b[0m\n\u001b[0;32m--> 802\u001b[0;31m                     estimator=estimator)\n\u001b[0m\u001b[1;32m    803\u001b[0m     \u001b[0;32mif\u001b[0m \u001b[0mmulti_output\u001b[0m\u001b[0;34m:\u001b[0m\u001b[0;34m\u001b[0m\u001b[0;34m\u001b[0m\u001b[0m\n\u001b[1;32m    804\u001b[0m         y = check_array(y, accept_sparse='csr', force_all_finite=True,\n",
      "\u001b[0;32m~/miniconda3/envs/mkt/lib/python3.7/site-packages/sklearn/utils/validation.py\u001b[0m in \u001b[0;36minner_f\u001b[0;34m(*args, **kwargs)\u001b[0m\n\u001b[1;32m     70\u001b[0m                           FutureWarning)\n\u001b[1;32m     71\u001b[0m         \u001b[0mkwargs\u001b[0m\u001b[0;34m.\u001b[0m\u001b[0mupdate\u001b[0m\u001b[0;34m(\u001b[0m\u001b[0;34m{\u001b[0m\u001b[0mk\u001b[0m\u001b[0;34m:\u001b[0m \u001b[0marg\u001b[0m \u001b[0;32mfor\u001b[0m \u001b[0mk\u001b[0m\u001b[0;34m,\u001b[0m \u001b[0marg\u001b[0m \u001b[0;32min\u001b[0m \u001b[0mzip\u001b[0m\u001b[0;34m(\u001b[0m\u001b[0msig\u001b[0m\u001b[0;34m.\u001b[0m\u001b[0mparameters\u001b[0m\u001b[0;34m,\u001b[0m \u001b[0margs\u001b[0m\u001b[0;34m)\u001b[0m\u001b[0;34m}\u001b[0m\u001b[0;34m)\u001b[0m\u001b[0;34m\u001b[0m\u001b[0;34m\u001b[0m\u001b[0m\n\u001b[0;32m---> 72\u001b[0;31m         \u001b[0;32mreturn\u001b[0m \u001b[0mf\u001b[0m\u001b[0;34m(\u001b[0m\u001b[0;34m**\u001b[0m\u001b[0mkwargs\u001b[0m\u001b[0;34m)\u001b[0m\u001b[0;34m\u001b[0m\u001b[0;34m\u001b[0m\u001b[0m\n\u001b[0m\u001b[1;32m     73\u001b[0m     \u001b[0;32mreturn\u001b[0m \u001b[0minner_f\u001b[0m\u001b[0;34m\u001b[0m\u001b[0;34m\u001b[0m\u001b[0m\n\u001b[1;32m     74\u001b[0m \u001b[0;34m\u001b[0m\u001b[0m\n",
      "\u001b[0;32m~/miniconda3/envs/mkt/lib/python3.7/site-packages/sklearn/utils/validation.py\u001b[0m in \u001b[0;36mcheck_array\u001b[0;34m(array, accept_sparse, accept_large_sparse, dtype, order, copy, force_all_finite, ensure_2d, allow_nd, ensure_min_samples, ensure_min_features, estimator)\u001b[0m\n\u001b[1;32m    643\u001b[0m         \u001b[0;32mif\u001b[0m \u001b[0mforce_all_finite\u001b[0m\u001b[0;34m:\u001b[0m\u001b[0;34m\u001b[0m\u001b[0;34m\u001b[0m\u001b[0m\n\u001b[1;32m    644\u001b[0m             _assert_all_finite(array,\n\u001b[0;32m--> 645\u001b[0;31m                                allow_nan=force_all_finite == 'allow-nan')\n\u001b[0m\u001b[1;32m    646\u001b[0m \u001b[0;34m\u001b[0m\u001b[0m\n\u001b[1;32m    647\u001b[0m     \u001b[0;32mif\u001b[0m \u001b[0mensure_min_samples\u001b[0m \u001b[0;34m>\u001b[0m \u001b[0;36m0\u001b[0m\u001b[0;34m:\u001b[0m\u001b[0;34m\u001b[0m\u001b[0;34m\u001b[0m\u001b[0m\n",
      "\u001b[0;32m~/miniconda3/envs/mkt/lib/python3.7/site-packages/sklearn/utils/validation.py\u001b[0m in \u001b[0;36m_assert_all_finite\u001b[0;34m(X, allow_nan, msg_dtype)\u001b[0m\n\u001b[1;32m     97\u001b[0m                     \u001b[0mmsg_err\u001b[0m\u001b[0;34m.\u001b[0m\u001b[0mformat\u001b[0m\u001b[0;34m\u001b[0m\u001b[0;34m\u001b[0m\u001b[0m\n\u001b[1;32m     98\u001b[0m                     (type_err,\n\u001b[0;32m---> 99\u001b[0;31m                      msg_dtype if msg_dtype is not None else X.dtype)\n\u001b[0m\u001b[1;32m    100\u001b[0m             )\n\u001b[1;32m    101\u001b[0m     \u001b[0;31m# for object dtype data, we only check for NaNs (GH-13254)\u001b[0m\u001b[0;34m\u001b[0m\u001b[0;34m\u001b[0m\u001b[0;34m\u001b[0m\u001b[0m\n",
      "\u001b[0;31mValueError\u001b[0m: Input contains NaN, infinity or a value too large for dtype('float64')."
     ]
    }
   ],
   "source": [
    "from sklearn.neighbors import KNeighborsRegressor\n",
    "knr = KNeighborsRegressor()\n",
    "train_extra = X_train + df['Street']\n",
    "\n",
    "knr.fit(train_extra, y_train)\n",
    "y_pred_knr = knr.predict(X_test)"
   ]
  },
  {
   "cell_type": "code",
   "execution_count": 135,
   "metadata": {},
   "outputs": [
    {
     "data": {
      "text/plain": [
       "array([211880. , 313833.6, 375008.2, 125300. , 142400. , 119480. ,\n",
       "       175580. , 222330. , 138190. , 124000. ])"
      ]
     },
     "execution_count": 135,
     "metadata": {},
     "output_type": "execute_result"
    }
   ],
   "source": [
    "y_pred_knr[:10]"
   ]
  },
  {
   "cell_type": "code",
   "execution_count": 138,
   "metadata": {},
   "outputs": [],
   "source": [
    "sub_test = X_test[:10]"
   ]
  },
  {
   "cell_type": "code",
   "execution_count": 139,
   "metadata": {},
   "outputs": [
    {
     "data": {
      "text/html": [
       "<div>\n",
       "<style scoped>\n",
       "    .dataframe tbody tr th:only-of-type {\n",
       "        vertical-align: middle;\n",
       "    }\n",
       "\n",
       "    .dataframe tbody tr th {\n",
       "        vertical-align: top;\n",
       "    }\n",
       "\n",
       "    .dataframe thead th {\n",
       "        text-align: right;\n",
       "    }\n",
       "</style>\n",
       "<table border=\"1\" class=\"dataframe\">\n",
       "  <thead>\n",
       "    <tr style=\"text-align: right;\">\n",
       "      <th></th>\n",
       "      <th>YearRemodAdd</th>\n",
       "      <th>YearBuilt</th>\n",
       "      <th>TotRmsAbvGrd</th>\n",
       "      <th>FullBath</th>\n",
       "      <th>1stFlrSF</th>\n",
       "      <th>GarageArea</th>\n",
       "      <th>TotalBsmtSF</th>\n",
       "      <th>GarageCars</th>\n",
       "      <th>2ndFlrSF</th>\n",
       "      <th>GrLivArea</th>\n",
       "      <th>OverallQual</th>\n",
       "    </tr>\n",
       "  </thead>\n",
       "  <tbody>\n",
       "    <tr>\n",
       "      <th>460</th>\n",
       "      <td>2009</td>\n",
       "      <td>2009</td>\n",
       "      <td>8</td>\n",
       "      <td>2</td>\n",
       "      <td>832</td>\n",
       "      <td>552</td>\n",
       "      <td>832</td>\n",
       "      <td>2</td>\n",
       "      <td>1103</td>\n",
       "      <td>1935</td>\n",
       "      <td>8</td>\n",
       "    </tr>\n",
       "    <tr>\n",
       "      <th>1230</th>\n",
       "      <td>1977</td>\n",
       "      <td>1977</td>\n",
       "      <td>12</td>\n",
       "      <td>2</td>\n",
       "      <td>1361</td>\n",
       "      <td>600</td>\n",
       "      <td>1361</td>\n",
       "      <td>2</td>\n",
       "      <td>1259</td>\n",
       "      <td>2620</td>\n",
       "      <td>5</td>\n",
       "    </tr>\n",
       "    <tr>\n",
       "      <th>1312</th>\n",
       "      <td>1990</td>\n",
       "      <td>1990</td>\n",
       "      <td>9</td>\n",
       "      <td>2</td>\n",
       "      <td>1453</td>\n",
       "      <td>750</td>\n",
       "      <td>1453</td>\n",
       "      <td>2</td>\n",
       "      <td>1357</td>\n",
       "      <td>2810</td>\n",
       "      <td>8</td>\n",
       "    </tr>\n",
       "    <tr>\n",
       "      <th>996</th>\n",
       "      <td>1961</td>\n",
       "      <td>1961</td>\n",
       "      <td>6</td>\n",
       "      <td>1</td>\n",
       "      <td>1050</td>\n",
       "      <td>368</td>\n",
       "      <td>1050</td>\n",
       "      <td>1</td>\n",
       "      <td>0</td>\n",
       "      <td>1050</td>\n",
       "      <td>5</td>\n",
       "    </tr>\n",
       "    <tr>\n",
       "      <th>754</th>\n",
       "      <td>2005</td>\n",
       "      <td>1969</td>\n",
       "      <td>5</td>\n",
       "      <td>1</td>\n",
       "      <td>1026</td>\n",
       "      <td>440</td>\n",
       "      <td>1026</td>\n",
       "      <td>2</td>\n",
       "      <td>0</td>\n",
       "      <td>1026</td>\n",
       "      <td>6</td>\n",
       "    </tr>\n",
       "    <tr>\n",
       "      <th>398</th>\n",
       "      <td>1950</td>\n",
       "      <td>1920</td>\n",
       "      <td>6</td>\n",
       "      <td>1</td>\n",
       "      <td>1077</td>\n",
       "      <td>338</td>\n",
       "      <td>961</td>\n",
       "      <td>1</td>\n",
       "      <td>0</td>\n",
       "      <td>1077</td>\n",
       "      <td>5</td>\n",
       "    </tr>\n",
       "    <tr>\n",
       "      <th>1134</th>\n",
       "      <td>1997</td>\n",
       "      <td>1997</td>\n",
       "      <td>7</td>\n",
       "      <td>2</td>\n",
       "      <td>916</td>\n",
       "      <td>460</td>\n",
       "      <td>916</td>\n",
       "      <td>2</td>\n",
       "      <td>684</td>\n",
       "      <td>1600</td>\n",
       "      <td>6</td>\n",
       "    </tr>\n",
       "    <tr>\n",
       "      <th>886</th>\n",
       "      <td>2005</td>\n",
       "      <td>1959</td>\n",
       "      <td>8</td>\n",
       "      <td>2</td>\n",
       "      <td>1712</td>\n",
       "      <td>588</td>\n",
       "      <td>1626</td>\n",
       "      <td>2</td>\n",
       "      <td>0</td>\n",
       "      <td>1712</td>\n",
       "      <td>5</td>\n",
       "    </tr>\n",
       "    <tr>\n",
       "      <th>396</th>\n",
       "      <td>1972</td>\n",
       "      <td>1972</td>\n",
       "      <td>6</td>\n",
       "      <td>1</td>\n",
       "      <td>894</td>\n",
       "      <td>600</td>\n",
       "      <td>894</td>\n",
       "      <td>2</td>\n",
       "      <td>0</td>\n",
       "      <td>894</td>\n",
       "      <td>5</td>\n",
       "    </tr>\n",
       "    <tr>\n",
       "      <th>1114</th>\n",
       "      <td>2000</td>\n",
       "      <td>1954</td>\n",
       "      <td>4</td>\n",
       "      <td>1</td>\n",
       "      <td>833</td>\n",
       "      <td>326</td>\n",
       "      <td>833</td>\n",
       "      <td>1</td>\n",
       "      <td>0</td>\n",
       "      <td>833</td>\n",
       "      <td>5</td>\n",
       "    </tr>\n",
       "  </tbody>\n",
       "</table>\n",
       "</div>"
      ],
      "text/plain": [
       "      YearRemodAdd  YearBuilt  TotRmsAbvGrd  FullBath  1stFlrSF  GarageArea  \\\n",
       "460           2009       2009             8         2       832         552   \n",
       "1230          1977       1977            12         2      1361         600   \n",
       "1312          1990       1990             9         2      1453         750   \n",
       "996           1961       1961             6         1      1050         368   \n",
       "754           2005       1969             5         1      1026         440   \n",
       "398           1950       1920             6         1      1077         338   \n",
       "1134          1997       1997             7         2       916         460   \n",
       "886           2005       1959             8         2      1712         588   \n",
       "396           1972       1972             6         1       894         600   \n",
       "1114          2000       1954             4         1       833         326   \n",
       "\n",
       "      TotalBsmtSF  GarageCars  2ndFlrSF  GrLivArea  OverallQual  \n",
       "460           832           2      1103       1935            8  \n",
       "1230         1361           2      1259       2620            5  \n",
       "1312         1453           2      1357       2810            8  \n",
       "996          1050           1         0       1050            5  \n",
       "754          1026           2         0       1026            6  \n",
       "398           961           1         0       1077            5  \n",
       "1134          916           2       684       1600            6  \n",
       "886          1626           2         0       1712            5  \n",
       "396           894           2         0        894            5  \n",
       "1114          833           1         0        833            5  "
      ]
     },
     "execution_count": 139,
     "metadata": {},
     "output_type": "execute_result"
    }
   ],
   "source": [
    "sub_test"
   ]
  },
  {
   "cell_type": "code",
   "execution_count": 176,
   "metadata": {},
   "outputs": [
    {
     "name": "stderr",
     "output_type": "stream",
     "text": [
      "/Users/awolfmann/miniconda3/envs/mkt/lib/python3.7/site-packages/ipykernel_launcher.py:1: SettingWithCopyWarning: \n",
      "A value is trying to be set on a copy of a slice from a DataFrame.\n",
      "Try using .loc[row_indexer,col_indexer] = value instead\n",
      "\n",
      "See the caveats in the documentation: http://pandas.pydata.org/pandas-docs/stable/indexing.html#indexing-view-versus-copy\n",
      "  \"\"\"Entry point for launching an IPython kernel.\n"
     ]
    }
   ],
   "source": [
    "sub_test['pred_price_knr'] = y_pred_knr[:10]"
   ]
  },
  {
   "cell_type": "code",
   "execution_count": 177,
   "metadata": {},
   "outputs": [
    {
     "name": "stderr",
     "output_type": "stream",
     "text": [
      "/Users/awolfmann/miniconda3/envs/mkt/lib/python3.7/site-packages/ipykernel_launcher.py:1: SettingWithCopyWarning: \n",
      "A value is trying to be set on a copy of a slice from a DataFrame.\n",
      "Try using .loc[row_indexer,col_indexer] = value instead\n",
      "\n",
      "See the caveats in the documentation: http://pandas.pydata.org/pandas-docs/stable/indexing.html#indexing-view-versus-copy\n",
      "  \"\"\"Entry point for launching an IPython kernel.\n"
     ]
    }
   ],
   "source": [
    "sub_test['real_price'] = y_test[:10]"
   ]
  },
  {
   "cell_type": "code",
   "execution_count": 143,
   "metadata": {},
   "outputs": [
    {
     "data": {
      "text/html": [
       "<div>\n",
       "<style scoped>\n",
       "    .dataframe tbody tr th:only-of-type {\n",
       "        vertical-align: middle;\n",
       "    }\n",
       "\n",
       "    .dataframe tbody tr th {\n",
       "        vertical-align: top;\n",
       "    }\n",
       "\n",
       "    .dataframe thead th {\n",
       "        text-align: right;\n",
       "    }\n",
       "</style>\n",
       "<table border=\"1\" class=\"dataframe\">\n",
       "  <thead>\n",
       "    <tr style=\"text-align: right;\">\n",
       "      <th></th>\n",
       "      <th>YearRemodAdd</th>\n",
       "      <th>YearBuilt</th>\n",
       "      <th>TotRmsAbvGrd</th>\n",
       "      <th>FullBath</th>\n",
       "      <th>1stFlrSF</th>\n",
       "      <th>GarageArea</th>\n",
       "      <th>TotalBsmtSF</th>\n",
       "      <th>GarageCars</th>\n",
       "      <th>2ndFlrSF</th>\n",
       "      <th>GrLivArea</th>\n",
       "      <th>OverallQual</th>\n",
       "      <th>pred_price</th>\n",
       "      <th>real_price</th>\n",
       "    </tr>\n",
       "  </thead>\n",
       "  <tbody>\n",
       "    <tr>\n",
       "      <th>460</th>\n",
       "      <td>2009</td>\n",
       "      <td>2009</td>\n",
       "      <td>8</td>\n",
       "      <td>2</td>\n",
       "      <td>832</td>\n",
       "      <td>552</td>\n",
       "      <td>832</td>\n",
       "      <td>2</td>\n",
       "      <td>1103</td>\n",
       "      <td>1935</td>\n",
       "      <td>8</td>\n",
       "      <td>211880.0</td>\n",
       "      <td>263435</td>\n",
       "    </tr>\n",
       "    <tr>\n",
       "      <th>1230</th>\n",
       "      <td>1977</td>\n",
       "      <td>1977</td>\n",
       "      <td>12</td>\n",
       "      <td>2</td>\n",
       "      <td>1361</td>\n",
       "      <td>600</td>\n",
       "      <td>1361</td>\n",
       "      <td>2</td>\n",
       "      <td>1259</td>\n",
       "      <td>2620</td>\n",
       "      <td>5</td>\n",
       "      <td>313833.6</td>\n",
       "      <td>190000</td>\n",
       "    </tr>\n",
       "    <tr>\n",
       "      <th>1312</th>\n",
       "      <td>1990</td>\n",
       "      <td>1990</td>\n",
       "      <td>9</td>\n",
       "      <td>2</td>\n",
       "      <td>1453</td>\n",
       "      <td>750</td>\n",
       "      <td>1453</td>\n",
       "      <td>2</td>\n",
       "      <td>1357</td>\n",
       "      <td>2810</td>\n",
       "      <td>8</td>\n",
       "      <td>375008.2</td>\n",
       "      <td>302000</td>\n",
       "    </tr>\n",
       "    <tr>\n",
       "      <th>996</th>\n",
       "      <td>1961</td>\n",
       "      <td>1961</td>\n",
       "      <td>6</td>\n",
       "      <td>1</td>\n",
       "      <td>1050</td>\n",
       "      <td>368</td>\n",
       "      <td>1050</td>\n",
       "      <td>1</td>\n",
       "      <td>0</td>\n",
       "      <td>1050</td>\n",
       "      <td>5</td>\n",
       "      <td>125300.0</td>\n",
       "      <td>136500</td>\n",
       "    </tr>\n",
       "    <tr>\n",
       "      <th>754</th>\n",
       "      <td>2005</td>\n",
       "      <td>1969</td>\n",
       "      <td>5</td>\n",
       "      <td>1</td>\n",
       "      <td>1026</td>\n",
       "      <td>440</td>\n",
       "      <td>1026</td>\n",
       "      <td>2</td>\n",
       "      <td>0</td>\n",
       "      <td>1026</td>\n",
       "      <td>6</td>\n",
       "      <td>142400.0</td>\n",
       "      <td>156000</td>\n",
       "    </tr>\n",
       "    <tr>\n",
       "      <th>398</th>\n",
       "      <td>1950</td>\n",
       "      <td>1920</td>\n",
       "      <td>6</td>\n",
       "      <td>1</td>\n",
       "      <td>1077</td>\n",
       "      <td>338</td>\n",
       "      <td>961</td>\n",
       "      <td>1</td>\n",
       "      <td>0</td>\n",
       "      <td>1077</td>\n",
       "      <td>5</td>\n",
       "      <td>119480.0</td>\n",
       "      <td>67000</td>\n",
       "    </tr>\n",
       "    <tr>\n",
       "      <th>1134</th>\n",
       "      <td>1997</td>\n",
       "      <td>1997</td>\n",
       "      <td>7</td>\n",
       "      <td>2</td>\n",
       "      <td>916</td>\n",
       "      <td>460</td>\n",
       "      <td>916</td>\n",
       "      <td>2</td>\n",
       "      <td>684</td>\n",
       "      <td>1600</td>\n",
       "      <td>6</td>\n",
       "      <td>175580.0</td>\n",
       "      <td>169000</td>\n",
       "    </tr>\n",
       "    <tr>\n",
       "      <th>886</th>\n",
       "      <td>2005</td>\n",
       "      <td>1959</td>\n",
       "      <td>8</td>\n",
       "      <td>2</td>\n",
       "      <td>1712</td>\n",
       "      <td>588</td>\n",
       "      <td>1626</td>\n",
       "      <td>2</td>\n",
       "      <td>0</td>\n",
       "      <td>1712</td>\n",
       "      <td>5</td>\n",
       "      <td>222330.0</td>\n",
       "      <td>145000</td>\n",
       "    </tr>\n",
       "    <tr>\n",
       "      <th>396</th>\n",
       "      <td>1972</td>\n",
       "      <td>1972</td>\n",
       "      <td>6</td>\n",
       "      <td>1</td>\n",
       "      <td>894</td>\n",
       "      <td>600</td>\n",
       "      <td>894</td>\n",
       "      <td>2</td>\n",
       "      <td>0</td>\n",
       "      <td>894</td>\n",
       "      <td>5</td>\n",
       "      <td>138190.0</td>\n",
       "      <td>123000</td>\n",
       "    </tr>\n",
       "    <tr>\n",
       "      <th>1114</th>\n",
       "      <td>2000</td>\n",
       "      <td>1954</td>\n",
       "      <td>4</td>\n",
       "      <td>1</td>\n",
       "      <td>833</td>\n",
       "      <td>326</td>\n",
       "      <td>833</td>\n",
       "      <td>1</td>\n",
       "      <td>0</td>\n",
       "      <td>833</td>\n",
       "      <td>5</td>\n",
       "      <td>124000.0</td>\n",
       "      <td>117000</td>\n",
       "    </tr>\n",
       "  </tbody>\n",
       "</table>\n",
       "</div>"
      ],
      "text/plain": [
       "      YearRemodAdd  YearBuilt  TotRmsAbvGrd  FullBath  1stFlrSF  GarageArea  \\\n",
       "460           2009       2009             8         2       832         552   \n",
       "1230          1977       1977            12         2      1361         600   \n",
       "1312          1990       1990             9         2      1453         750   \n",
       "996           1961       1961             6         1      1050         368   \n",
       "754           2005       1969             5         1      1026         440   \n",
       "398           1950       1920             6         1      1077         338   \n",
       "1134          1997       1997             7         2       916         460   \n",
       "886           2005       1959             8         2      1712         588   \n",
       "396           1972       1972             6         1       894         600   \n",
       "1114          2000       1954             4         1       833         326   \n",
       "\n",
       "      TotalBsmtSF  GarageCars  2ndFlrSF  GrLivArea  OverallQual  pred_price  \\\n",
       "460           832           2      1103       1935            8    211880.0   \n",
       "1230         1361           2      1259       2620            5    313833.6   \n",
       "1312         1453           2      1357       2810            8    375008.2   \n",
       "996          1050           1         0       1050            5    125300.0   \n",
       "754          1026           2         0       1026            6    142400.0   \n",
       "398           961           1         0       1077            5    119480.0   \n",
       "1134          916           2       684       1600            6    175580.0   \n",
       "886          1626           2         0       1712            5    222330.0   \n",
       "396           894           2         0        894            5    138190.0   \n",
       "1114          833           1         0        833            5    124000.0   \n",
       "\n",
       "      real_price  \n",
       "460       263435  \n",
       "1230      190000  \n",
       "1312      302000  \n",
       "996       136500  \n",
       "754       156000  \n",
       "398        67000  \n",
       "1134      169000  \n",
       "886       145000  \n",
       "396       123000  \n",
       "1114      117000  "
      ]
     },
     "execution_count": 143,
     "metadata": {},
     "output_type": "execute_result"
    }
   ],
   "source": [
    "sub_test"
   ]
  },
  {
   "cell_type": "code",
   "execution_count": 9,
   "metadata": {},
   "outputs": [],
   "source": [
    "from sklearn.metrics import mean_squared_error, r2_score"
   ]
  },
  {
   "cell_type": "code",
   "execution_count": 10,
   "metadata": {},
   "outputs": [
    {
     "name": "stdout",
     "output_type": "stream",
     "text": [
      "Mean squared error: 880675669.80\n",
      "Coefficient of determination: 0.82\n"
     ]
    }
   ],
   "source": [
    "# The mean squared error\n",
    "print('Mean squared error: %.2f'\n",
    "      % mean_squared_error(y_test, y_pred_lr))\n",
    "# The coefficient of determination: 1 is perfect prediction\n",
    "print('Coefficient of determination: %.2f'\n",
    "      % r2_score(y_test, y_pred_lr))"
   ]
  },
  {
   "cell_type": "code",
   "execution_count": 145,
   "metadata": {},
   "outputs": [
    {
     "data": {
      "text/plain": [
       "39929.060086846"
      ]
     },
     "execution_count": 145,
     "metadata": {},
     "output_type": "execute_result"
    }
   ],
   "source": [
    "import numpy as np\n",
    "np.sqrt(mean_squared_error(y_test, y_pred_lr))"
   ]
  },
  {
   "cell_type": "code",
   "execution_count": 11,
   "metadata": {},
   "outputs": [
    {
     "data": {
      "text/plain": [
       "array([ 2.97985833e+02,  2.67462105e+02,  1.04594778e+03, -7.50883009e+03,\n",
       "        5.88374783e+01,  1.35471379e+01,  1.77560549e+01,  1.06579860e+04,\n",
       "        4.53175239e+01,  5.14375612e+00,  2.06339319e+04])"
      ]
     },
     "execution_count": 11,
     "metadata": {},
     "output_type": "execute_result"
    }
   ],
   "source": [
    "lr.coef_"
   ]
  },
  {
   "cell_type": "markdown",
   "metadata": {},
   "source": [
    "## Regresion Polinomial"
   ]
  },
  {
   "cell_type": "markdown",
   "metadata": {},
   "source": [
    "<img src=\"assets/polynomial-regression.png\" style=\"width:600px;\">"
   ]
  },
  {
   "cell_type": "markdown",
   "metadata": {},
   "source": [
    "## Arboles de decisión\n"
   ]
  },
  {
   "cell_type": "markdown",
   "metadata": {},
   "source": [
    "!<img src=\"assets/decision_tree.png\" style=\"width:600px;\">"
   ]
  },
  {
   "cell_type": "code",
   "execution_count": 129,
   "metadata": {},
   "outputs": [],
   "source": [
    "from sklearn.tree import DecisionTreeRegressor, plot_tree\n",
    "dtr = DecisionTreeRegressor()\n",
    "\n",
    "dtr.fit(X_train, y_train)\n",
    "y_pred_dtr = dtr.predict(X_test)"
   ]
  },
  {
   "cell_type": "code",
   "execution_count": 13,
   "metadata": {},
   "outputs": [
    {
     "name": "stdout",
     "output_type": "stream",
     "text": [
      "Mean squared error: 1486651428.05\n",
      "Coefficient of determination: 0.70\n"
     ]
    }
   ],
   "source": [
    "\n",
    "# The mean squared error\n",
    "print('Mean squared error: %.2f'\n",
    "      % mean_squared_error(y_test, y_pred_dtr))\n",
    "# The coefficient of determination: 1 is perfect prediction\n",
    "print('Coefficient of determination: %.2f'\n",
    "      % r2_score(y_test, y_pred_dtr))"
   ]
  },
  {
   "cell_type": "code",
   "execution_count": 130,
   "metadata": {},
   "outputs": [
    {
     "data": {
      "image/png": "[encoded data removed]",
      "text/plain": [
       "<Figure size 1080x576 with 1 Axes>"
      ]
     },
     "metadata": {
      "needs_background": "light"
     },
     "output_type": "display_data"
    }
   ],
   "source": [
    "plt.figure(figsize=(15,8))\n",
    "plot_tree(dtr, feature_names=X_train.columns);\n"
   ]
  },
  {
   "cell_type": "markdown",
   "metadata": {},
   "source": [
    "## Random Forest"
   ]
  },
  {
   "cell_type": "markdown",
   "metadata": {},
   "source": [
    "<img src=\"assets/random_forest.png\" style=\"width:600px;\">"
   ]
  },
  {
   "cell_type": "markdown",
   "metadata": {},
   "source": [
    "<img src=\"assets/rf_ensemble.gif\" style=\"width:600px;\">"
   ]
  },
  {
   "cell_type": "code",
   "execution_count": 14,
   "metadata": {},
   "outputs": [
    {
     "data": {
      "text/plain": [
       "(365, 11)"
      ]
     },
     "execution_count": 14,
     "metadata": {},
     "output_type": "execute_result"
    }
   ],
   "source": [
    "X_test.shape"
   ]
  },
  {
   "cell_type": "code",
   "execution_count": 15,
   "metadata": {},
   "outputs": [],
   "source": [
    "from sklearn.ensemble import RandomForestRegressor\n",
    "rf = RandomForestRegressor(n_estimators=100, random_state=1)\n",
    "\n",
    "rf.fit(X_train, y_train)\n",
    "y_pred_rf = rf.predict(X_test)"
   ]
  },
  {
   "cell_type": "code",
   "execution_count": 16,
   "metadata": {},
   "outputs": [
    {
     "name": "stdout",
     "output_type": "stream",
     "text": [
      "Mean squared error: 820307605.28\n",
      "Coefficient of determination: 0.84\n"
     ]
    }
   ],
   "source": [
    "# The mean squared error\n",
    "print('Mean squared error: %.2f'\n",
    "      % mean_squared_error(y_test, y_pred_rf))\n",
    "# The coefficient of determination: 1 is perfect prediction\n",
    "print('Coefficient of determination: %.2f'\n",
    "      % r2_score(y_test, y_pred_rf))"
   ]
  },
  {
   "cell_type": "markdown",
   "metadata": {},
   "source": [
    "## Gradient Boosting Trees"
   ]
  },
  {
   "cell_type": "markdown",
   "metadata": {},
   "source": [
    "<img src=\"assets/gbt-error.png\" style=\"width:600px;\">"
   ]
  },
  {
   "cell_type": "code",
   "execution_count": 21,
   "metadata": {},
   "outputs": [],
   "source": [
    "from sklearn.ensemble import GradientBoostingRegressor\n",
    "gbt = GradientBoostingRegressor(n_estimators=50, random_state=1)\n",
    "\n",
    "gbt.fit(X_train, y_train)\n",
    "y_pred_gbt = gbt.predict(X_test)"
   ]
  },
  {
   "cell_type": "code",
   "execution_count": 22,
   "metadata": {},
   "outputs": [
    {
     "name": "stdout",
     "output_type": "stream",
     "text": [
      "Mean squared error: 893060666.15\n",
      "Coefficient of determination: 0.82\n"
     ]
    }
   ],
   "source": [
    "# The mean squared error\n",
    "print('Mean squared error: %.2f'\n",
    "      % mean_squared_error(y_test, y_pred_gbt))\n",
    "# The coefficient of determination: 1 is perfect prediction\n",
    "print('Coefficient of determination: %.2f'\n",
    "      % r2_score(y_test, y_pred_gbt))"
   ]
  },
  {
   "cell_type": "markdown",
   "metadata": {},
   "source": [
    "## KMeans Clustering (No supervisado)\n",
    "- Dividir el espacio con N elementos, en K clusters"
   ]
  },
  {
   "cell_type": "markdown",
   "metadata": {},
   "source": [
    "<img src=\"assets/kmeans.gif\" style=\"width:600px;\">"
   ]
  },
  {
   "cell_type": "markdown",
   "metadata": {},
   "source": [
    "\n",
    "# Metrics\n",
    "\n",
    "```python \n",
    "from sklearn.metrics import mean_squared_error\n",
    "\n",
    "mean_squared_error(targets, predictions)\n",
    "```\n",
    "\n",
    "Scikit-learn  provee muchas funciones para medir la performance del modelo dentro del paquete de metricas.\n"
   ]
  },
  {
   "cell_type": "markdown",
   "metadata": {},
   "source": [
    "## Metricas Clasificación\n",
    "- Según el problema depende que error es mas importante.\n",
    "- Matriz de confusión: Falsos positivos, Falsos negativos.\n",
    "- Accuracy\n",
    "- Precisión\n",
    "- Recall\n",
    "- F1\n",
    "- Curva Roc"
   ]
  },
  {
   "cell_type": "markdown",
   "metadata": {},
   "source": [
    "### Matriz de Confusion"
   ]
  },
  {
   "cell_type": "markdown",
   "metadata": {},
   "source": [
    "<img src=\"assets/confusion_matrix.png\" style=\"width:600px;\">"
   ]
  },
  {
   "cell_type": "markdown",
   "metadata": {},
   "source": [
    "<img src=\"assets/ejemplo_clasificacion.png\" style=\"width:600px;\">"
   ]
  },
  {
   "cell_type": "markdown",
   "metadata": {},
   "source": [
    "## Métricas Regresion\n",
    "- Error Cuadrático Medio (MSE)\n",
    "- Raiz Error Cuadrático Medio (RMSE)\n",
    "- Error Absoluto Medio (MAE)\n",
    "- Coeficiente de Determinación (R^2)"
   ]
  },
  {
   "cell_type": "markdown",
   "metadata": {},
   "source": [
    "# Scikit Learn: Estimadores, Transformadores, Pipeline, Metricas"
   ]
  },
  {
   "cell_type": "markdown",
   "metadata": {},
   "source": [
    "# Estimators\n",
    "\n",
    "```python\n",
    "from sklearn.datasets import make_regression\n",
    "from sklearn.linear_model import LinearRegression\n",
    "\n",
    "regression = LinearRegression()\n",
    "regression.fit(features, targets)\n",
    "predictions = regression.predict(features)\n",
    "```\n",
    "\n",
    "La mayor parte de los modelos en scikit learn son considerados estimadores. Un estimador dispone de 2 metodos: **fit** y **predict**.\n",
    "* **Fit** se usa para entrenar al modelo, se les pasa el conjunto de datos representado por features y en el caso de aprendizaje supervisado la variable a predecir.\n",
    "* **Predict** se utiliza para obterner las predicciones. Al llamarlo de le pasa un conjunto de datos representado de la misma forma que al momento de entrenar el modelo \n",
    "\n"
   ]
  },
  {
   "cell_type": "markdown",
   "metadata": {},
   "source": [
    "\n",
    "# Transformers\n",
    "\n",
    "```python\n",
    "from sklearn.preprocessing import MinMaxScaler\n",
    "\n",
    "transformer = MinMaxScaler()\n",
    "transformer.fit(features)\n",
    "features = transformer.transform(features)\n",
    "```\n",
    "\n",
    "En la práctica es muy raro que los datos lleguen perfectamente limpios para ser ingestados por un modelo. Para limpiarlos y hacer el preprocesamiento se utilizan los transformadores antes de llamar a un estimador para que sea entrenado.\n",
    "\n",
    "Transformers tienen 2 metodoso **fit** y **transform**. \n",
    "Fit calcula lo parámetros necesarios para hacer la transformación.\n",
    "Transform es el que aplica realmente la transformación.\n",
    "Existe el **fit_transform** que aplica ambos métodos en la misma llamada.\n"
   ]
  },
  {
   "cell_type": "markdown",
   "metadata": {},
   "source": [
    "\n",
    "# Pipelines\n",
    "```python\n",
    "from sklearn.pipeline import Pipeline\n",
    "\n",
    "features, targets = make_regression(\n",
    "  n_samples=10, n_features=1, \n",
    "  random_state=42, noise=5.0\n",
    ")\n",
    "\n",
    "pipeline = Pipeline([\n",
    "  ('scale', MinMaxScaler()),\n",
    "  ('regression', LinearRegression())\n",
    "])\n",
    "\n",
    "pipeline.fit(features, targets)\n",
    "\n",
    "predictions = pipeline.predict(features)\n",
    "```\n",
    "\n",
    "- No es coincidencia que los transformadores tengan un fit y transform, y que los modelos tengan un fit.\n",
    "- Esta interface comun a todas las clases permite a Scikit learn armar flujos compuestos por procesamiento de datos y construcción de modelos.\n",
    "- Un Pipeline es simplemente una serie de transformadores con un estimador al final.\n"
   ]
  },
  {
   "cell_type": "markdown",
   "metadata": {},
   "source": [
    "## Validación cruzada"
   ]
  },
  {
   "cell_type": "markdown",
   "metadata": {},
   "source": [
    "<img src=\"assets/cross_validation.png\" style=\"width:600px;\">"
   ]
  },
  {
   "cell_type": "code",
   "execution_count": 23,
   "metadata": {},
   "outputs": [
    {
     "data": {
      "text/plain": [
       "array([0.84366164, 0.85501453, 0.88238243, 0.80738386, 0.78560035])"
      ]
     },
     "execution_count": 23,
     "metadata": {},
     "output_type": "execute_result"
    }
   ],
   "source": [
    "from sklearn.model_selection import cross_val_score\n",
    "scores = cross_val_score(gbt, X_train, y_train, scoring='r2' , cv=5)\n",
    "scores"
   ]
  },
  {
   "cell_type": "markdown",
   "metadata": {},
   "source": [
    "# Pre procesamiento de datos - Transformers "
   ]
  },
  {
   "cell_type": "markdown",
   "metadata": {},
   "source": [
    "## Datos faltantes - Imputación\n",
    "- Se suele imputar un valor cuando es faltante. Media, Mediana, Valor Mas Frecuente, Constante."
   ]
  },
  {
   "cell_type": "code",
   "execution_count": 24,
   "metadata": {},
   "outputs": [
    {
     "data": {
      "text/plain": [
       "YearRemodAdd    0\n",
       "YearBuilt       0\n",
       "TotRmsAbvGrd    0\n",
       "FullBath        0\n",
       "1stFlrSF        0\n",
       "GarageArea      0\n",
       "TotalBsmtSF     0\n",
       "GarageCars      0\n",
       "2ndFlrSF        0\n",
       "GrLivArea       0\n",
       "OverallQual     0\n",
       "dtype: int64"
      ]
     },
     "execution_count": 24,
     "metadata": {},
     "output_type": "execute_result"
    }
   ],
   "source": [
    "X_train.isnull().sum()"
   ]
  },
  {
   "cell_type": "code",
   "execution_count": 29,
   "metadata": {},
   "outputs": [],
   "source": [
    "from sklearn.impute import SimpleImputer\n",
    "\n",
    "# Imputation\n",
    "numerical_imputer = SimpleImputer(strategy='most_frequent')\n",
    "numerical_imputer.fit(X_train)\n",
    "imputed_train = numerical_imputer.transform(X_train)"
   ]
  },
  {
   "cell_type": "markdown",
   "metadata": {},
   "source": [
    "## Normalización\n",
    "- Standard: eliminando la media y escalando a la varianza.\n",
    "\n",
    "La transformación x se calcula como:\n",
    "\n",
    "z = (x - u) / s"
   ]
  },
  {
   "cell_type": "code",
   "execution_count": 147,
   "metadata": {},
   "outputs": [],
   "source": [
    "from sklearn.preprocessing import StandardScaler\n",
    "scaler = StandardScaler()\n",
    "scaler.fit(X_train)\n",
    "scaled_data = scaler.transform(X_train)"
   ]
  },
  {
   "cell_type": "code",
   "execution_count": 149,
   "metadata": {},
   "outputs": [
    {
     "name": "stdout",
     "output_type": "stream",
     "text": [
      "Media [1.98445297e+03 1.97047397e+03 6.52785388e+00 1.56255708e+00\n",
      " 1.16365388e+03 4.74680365e+02 1.05398813e+03 1.77990868e+00\n",
      " 3.50217352e+02 1.52012329e+03 6.10410959e+00]\n"
     ]
    },
    {
     "data": {
      "text/plain": [
       "Index(['YearRemodAdd', 'YearBuilt', 'TotRmsAbvGrd', 'FullBath', '1stFlrSF',\n",
       "       'GarageArea', 'TotalBsmtSF', 'GarageCars', '2ndFlrSF', 'GrLivArea',\n",
       "       'OverallQual'],\n",
       "      dtype='object')"
      ]
     },
     "execution_count": 149,
     "metadata": {},
     "output_type": "execute_result"
    }
   ],
   "source": [
    "print('Media', scaler.mean_)\n",
    "X_train.columns"
   ]
  },
  {
   "cell_type": "code",
   "execution_count": 31,
   "metadata": {},
   "outputs": [
    {
     "name": "stdout",
     "output_type": "stream",
     "text": [
      "[[1950 1923    6    1  915  440 1065    2  720 1635    6]]\n",
      "[[-1.66484745 -1.55258311 -0.31633639 -1.01036025 -0.64480679 -0.16445169\n",
      "   0.02449076  0.29586168  0.84302346  0.21264513 -0.07464394]]\n"
     ]
    }
   ],
   "source": [
    "print(X_train[:1].values)\n",
    "print(scaled_data[:1])"
   ]
  },
  {
   "cell_type": "markdown",
   "metadata": {},
   "source": [
    "## Variables Categoricas"
   ]
  },
  {
   "cell_type": "markdown",
   "metadata": {},
   "source": [
    "### One Hot Encoder\n",
    "- Codifica variables categoricas, pero aumenta las dimensiones del dataset."
   ]
  },
  {
   "cell_type": "markdown",
   "metadata": {},
   "source": [
    "<img src=\"assets/one_hot.png\" style=\"width:600px;\">"
   ]
  },
  {
   "cell_type": "code",
   "execution_count": 75,
   "metadata": {},
   "outputs": [],
   "source": [
    "empty_cols = ['Alley', 'PoolQC', 'Fence', 'MiscFeature']\n",
    "df_filtered = df.drop(columns=empty_cols)"
   ]
  },
  {
   "cell_type": "code",
   "execution_count": 76,
   "metadata": {},
   "outputs": [
    {
     "name": "stdout",
     "output_type": "stream",
     "text": [
      "Categorical variables:\n",
      "39\n",
      "['MSZoning', 'Street', 'LotShape', 'LandContour', 'Utilities', 'LotConfig', 'LandSlope', 'Neighborhood', 'Condition1', 'Condition2', 'BldgType', 'HouseStyle', 'RoofStyle', 'RoofMatl', 'Exterior1st', 'Exterior2nd', 'MasVnrType', 'ExterQual', 'ExterCond', 'Foundation', 'BsmtQual', 'BsmtCond', 'BsmtExposure', 'BsmtFinType1', 'BsmtFinType2', 'Heating', 'HeatingQC', 'CentralAir', 'Electrical', 'KitchenQual', 'Functional', 'FireplaceQu', 'GarageType', 'GarageFinish', 'GarageQual', 'GarageCond', 'PavedDrive', 'SaleType', 'SaleCondition']\n"
     ]
    }
   ],
   "source": [
    "# Calculamos la lista de variables categoricas\n",
    "s = (df_filtered.dtypes == 'object')\n",
    "categorical_cols = list(s[s].index)\n",
    "\n",
    "print(\"Categorical variables:\")\n",
    "print(len(categorical_cols))\n",
    "print(categorical_cols)"
   ]
  },
  {
   "cell_type": "code",
   "execution_count": 62,
   "metadata": {},
   "outputs": [],
   "source": [
    "df_filtered['MSSubClass'] = df_filtered['MSSubClass'].astype(str)\n",
    "df_filtered['YrSold'] = df_filtered['YrSold'].astype(str)\n",
    "df_filtered['MoSold'] = df_filtered['MoSold'].astype(str)"
   ]
  },
  {
   "cell_type": "code",
   "execution_count": 63,
   "metadata": {},
   "outputs": [],
   "source": [
    "#categorical_cols += ['MSSubClass', 'YrSold', 'MoSold'] "
   ]
  },
  {
   "cell_type": "code",
   "execution_count": 151,
   "metadata": {},
   "outputs": [
    {
     "data": {
      "text/html": [
       "<div>\n",
       "<style scoped>\n",
       "    .dataframe tbody tr th:only-of-type {\n",
       "        vertical-align: middle;\n",
       "    }\n",
       "\n",
       "    .dataframe tbody tr th {\n",
       "        vertical-align: top;\n",
       "    }\n",
       "\n",
       "    .dataframe thead th {\n",
       "        text-align: right;\n",
       "    }\n",
       "</style>\n",
       "<table border=\"1\" class=\"dataframe\">\n",
       "  <thead>\n",
       "    <tr style=\"text-align: right;\">\n",
       "      <th></th>\n",
       "      <th>MSZoning</th>\n",
       "      <th>Street</th>\n",
       "      <th>LotShape</th>\n",
       "      <th>LandContour</th>\n",
       "      <th>Utilities</th>\n",
       "      <th>LotConfig</th>\n",
       "      <th>LandSlope</th>\n",
       "      <th>Neighborhood</th>\n",
       "      <th>Condition1</th>\n",
       "      <th>Condition2</th>\n",
       "      <th>...</th>\n",
       "      <th>KitchenQual</th>\n",
       "      <th>Functional</th>\n",
       "      <th>FireplaceQu</th>\n",
       "      <th>GarageType</th>\n",
       "      <th>GarageFinish</th>\n",
       "      <th>GarageQual</th>\n",
       "      <th>GarageCond</th>\n",
       "      <th>PavedDrive</th>\n",
       "      <th>SaleType</th>\n",
       "      <th>SaleCondition</th>\n",
       "    </tr>\n",
       "  </thead>\n",
       "  <tbody>\n",
       "    <tr>\n",
       "      <th>0</th>\n",
       "      <td>RL</td>\n",
       "      <td>Pave</td>\n",
       "      <td>Reg</td>\n",
       "      <td>Lvl</td>\n",
       "      <td>AllPub</td>\n",
       "      <td>Inside</td>\n",
       "      <td>Gtl</td>\n",
       "      <td>CollgCr</td>\n",
       "      <td>Norm</td>\n",
       "      <td>Norm</td>\n",
       "      <td>...</td>\n",
       "      <td>Gd</td>\n",
       "      <td>Typ</td>\n",
       "      <td>NaN</td>\n",
       "      <td>Attchd</td>\n",
       "      <td>RFn</td>\n",
       "      <td>TA</td>\n",
       "      <td>TA</td>\n",
       "      <td>Y</td>\n",
       "      <td>WD</td>\n",
       "      <td>Normal</td>\n",
       "    </tr>\n",
       "    <tr>\n",
       "      <th>1</th>\n",
       "      <td>RL</td>\n",
       "      <td>Pave</td>\n",
       "      <td>Reg</td>\n",
       "      <td>Lvl</td>\n",
       "      <td>AllPub</td>\n",
       "      <td>FR2</td>\n",
       "      <td>Gtl</td>\n",
       "      <td>Veenker</td>\n",
       "      <td>Feedr</td>\n",
       "      <td>Norm</td>\n",
       "      <td>...</td>\n",
       "      <td>TA</td>\n",
       "      <td>Typ</td>\n",
       "      <td>TA</td>\n",
       "      <td>Attchd</td>\n",
       "      <td>RFn</td>\n",
       "      <td>TA</td>\n",
       "      <td>TA</td>\n",
       "      <td>Y</td>\n",
       "      <td>WD</td>\n",
       "      <td>Normal</td>\n",
       "    </tr>\n",
       "  </tbody>\n",
       "</table>\n",
       "<p>2 rows × 39 columns</p>\n",
       "</div>"
      ],
      "text/plain": [
       "  MSZoning Street LotShape LandContour Utilities LotConfig LandSlope  \\\n",
       "0       RL   Pave      Reg         Lvl    AllPub    Inside       Gtl   \n",
       "1       RL   Pave      Reg         Lvl    AllPub       FR2       Gtl   \n",
       "\n",
       "  Neighborhood Condition1 Condition2  ... KitchenQual Functional FireplaceQu  \\\n",
       "0      CollgCr       Norm       Norm  ...          Gd        Typ         NaN   \n",
       "1      Veenker      Feedr       Norm  ...          TA        Typ          TA   \n",
       "\n",
       "  GarageType GarageFinish GarageQual GarageCond PavedDrive SaleType  \\\n",
       "0     Attchd          RFn         TA         TA          Y       WD   \n",
       "1     Attchd          RFn         TA         TA          Y       WD   \n",
       "\n",
       "  SaleCondition  \n",
       "0        Normal  \n",
       "1        Normal  \n",
       "\n",
       "[2 rows x 39 columns]"
      ]
     },
     "execution_count": 151,
     "metadata": {},
     "output_type": "execute_result"
    }
   ],
   "source": [
    "df[categorical_cols][:2]"
   ]
  },
  {
   "cell_type": "code",
   "execution_count": 77,
   "metadata": {},
   "outputs": [
    {
     "data": {
      "text/plain": [
       "(1460, 39)"
      ]
     },
     "execution_count": 77,
     "metadata": {},
     "output_type": "execute_result"
    }
   ],
   "source": [
    "categ_imputer = SimpleImputer(strategy='most_frequent')\n",
    "imputed_data = categ_imputer.fit_transform(df[categorical_cols])\n",
    "imputed_data.shape"
   ]
  },
  {
   "cell_type": "code",
   "execution_count": 150,
   "metadata": {},
   "outputs": [
    {
     "data": {
      "text/plain": [
       "array([['RL', 'Pave', 'Reg', 'Lvl', 'AllPub', 'Inside', 'Gtl', 'CollgCr',\n",
       "        'Norm', 'Norm', '1Fam', '2Story', 'Gable', 'CompShg', 'VinylSd',\n",
       "        'VinylSd', 'BrkFace', 'Gd', 'TA', 'PConc', 'Gd', 'TA', 'No',\n",
       "        'GLQ', 'Unf', 'GasA', 'Ex', 'Y', 'SBrkr', 'Gd', 'Typ', 'Gd',\n",
       "        'Attchd', 'RFn', 'TA', 'TA', 'Y', 'WD', 'Normal'],\n",
       "       ['RL', 'Pave', 'Reg', 'Lvl', 'AllPub', 'FR2', 'Gtl', 'Veenker',\n",
       "        'Feedr', 'Norm', '1Fam', '1Story', 'Gable', 'CompShg', 'MetalSd',\n",
       "        'MetalSd', 'None', 'TA', 'TA', 'CBlock', 'Gd', 'TA', 'Gd', 'ALQ',\n",
       "        'Unf', 'GasA', 'Ex', 'Y', 'SBrkr', 'TA', 'Typ', 'TA', 'Attchd',\n",
       "        'RFn', 'TA', 'TA', 'Y', 'WD', 'Normal']], dtype=object)"
      ]
     },
     "execution_count": 150,
     "metadata": {},
     "output_type": "execute_result"
    }
   ],
   "source": [
    "imputed_data[:2]"
   ]
  },
  {
   "cell_type": "code",
   "execution_count": 78,
   "metadata": {},
   "outputs": [],
   "source": [
    "from sklearn.preprocessing import OneHotEncoder\n",
    "one_hot = OneHotEncoder(handle_unknown='ignore', sparse=False)\n",
    "encoded_vars = one_hot.fit_transform(imputed_data)"
   ]
  },
  {
   "cell_type": "code",
   "execution_count": 79,
   "metadata": {},
   "outputs": [
    {
     "data": {
      "text/plain": [
       "(1460, 239)"
      ]
     },
     "execution_count": 79,
     "metadata": {},
     "output_type": "execute_result"
    }
   ],
   "source": [
    "encoded_vars.shape"
   ]
  },
  {
   "cell_type": "code",
   "execution_count": 152,
   "metadata": {},
   "outputs": [
    {
     "data": {
      "text/plain": [
       "array([[0., 0., 0., 1., 0., 0., 1., 0., 0., 0., 1., 0., 0., 0., 1., 1.,\n",
       "        0., 0., 0., 0., 0., 1., 1., 0., 0., 0., 0., 0., 0., 0., 1., 0.,\n",
       "        0., 0., 0., 0., 0., 0., 0., 0., 0., 0., 0., 0., 0., 0., 0., 0.,\n",
       "        0., 0., 0., 0., 1., 0., 0., 0., 0., 0., 0., 0., 0., 1., 0., 0.,\n",
       "        0., 0., 0., 1., 0., 0., 0., 0., 0., 0., 0., 0., 0., 1., 0., 0.,\n",
       "        0., 1., 0., 0., 0., 0., 0., 1., 0., 0., 0., 0., 0., 0., 0., 0.,\n",
       "        0., 0., 0., 0., 0., 0., 0., 0., 0., 0., 1., 0., 0., 0., 0., 0.,\n",
       "        0., 0., 0., 0., 0., 0., 0., 0., 0., 0., 1., 0., 0., 0., 1., 0.,\n",
       "        0., 0., 0., 1., 0., 0., 0., 0., 0., 1., 0., 0., 1., 0., 0., 0.,\n",
       "        0., 0., 1., 0., 0., 0., 0., 1., 0., 0., 0., 1., 0., 0., 1., 0.,\n",
       "        0., 0., 0., 0., 0., 0., 0., 1., 0., 1., 0., 0., 0., 0., 1., 0.,\n",
       "        0., 0., 0., 0., 1., 0., 0., 0., 0., 1., 0., 0., 1., 0., 0., 0.,\n",
       "        0., 0., 0., 0., 1., 0., 0., 1., 0., 0., 0., 1., 0., 0., 0., 0.,\n",
       "        0., 1., 0., 0., 0., 0., 0., 1., 0., 0., 0., 0., 1., 0., 0., 1.,\n",
       "        0., 0., 0., 0., 0., 0., 0., 0., 1., 0., 0., 0., 0., 1., 0.],\n",
       "       [0., 0., 0., 1., 0., 0., 1., 0., 0., 0., 1., 0., 0., 0., 1., 1.,\n",
       "        0., 0., 0., 1., 0., 0., 1., 0., 0., 0., 0., 0., 0., 0., 0., 0.,\n",
       "        0., 0., 0., 0., 0., 0., 0., 0., 0., 0., 0., 0., 0., 0., 0., 0.,\n",
       "        0., 1., 0., 1., 0., 0., 0., 0., 0., 0., 0., 0., 0., 1., 0., 0.,\n",
       "        0., 0., 0., 1., 0., 0., 0., 0., 0., 0., 1., 0., 0., 0., 0., 0.,\n",
       "        0., 1., 0., 0., 0., 0., 0., 1., 0., 0., 0., 0., 0., 0., 0., 0.,\n",
       "        0., 0., 0., 0., 0., 0., 1., 0., 0., 0., 0., 0., 0., 0., 0., 0.,\n",
       "        0., 0., 0., 0., 0., 1., 0., 0., 0., 0., 0., 0., 0., 0., 0., 1.,\n",
       "        0., 0., 0., 0., 1., 0., 0., 0., 0., 1., 0., 1., 0., 0., 0., 0.,\n",
       "        0., 0., 1., 0., 0., 0., 0., 1., 0., 1., 0., 0., 1., 0., 0., 0.,\n",
       "        0., 0., 0., 0., 0., 0., 0., 1., 0., 1., 0., 0., 0., 0., 1., 0.,\n",
       "        0., 0., 0., 0., 1., 0., 0., 0., 0., 1., 0., 0., 0., 1., 0., 0.,\n",
       "        0., 0., 0., 0., 1., 0., 0., 0., 0., 1., 0., 1., 0., 0., 0., 0.,\n",
       "        0., 1., 0., 0., 0., 0., 0., 1., 0., 0., 0., 0., 1., 0., 0., 1.,\n",
       "        0., 0., 0., 0., 0., 0., 0., 0., 1., 0., 0., 0., 0., 1., 0.]])"
      ]
     },
     "execution_count": 152,
     "metadata": {},
     "output_type": "execute_result"
    }
   ],
   "source": [
    "encoded_vars[:2]"
   ]
  },
  {
   "cell_type": "markdown",
   "metadata": {},
   "source": [
    "### Reducción dimensionalidad - PCA\n",
    "- Transforma los datos reduciendo las dimensiones, buscando perder la menor cantidad de información posible."
   ]
  },
  {
   "cell_type": "code",
   "execution_count": 154,
   "metadata": {},
   "outputs": [
    {
     "data": {
      "text/plain": [
       "(1460, 3)"
      ]
     },
     "execution_count": 154,
     "metadata": {},
     "output_type": "execute_result"
    }
   ],
   "source": [
    "from sklearn.decomposition import PCA\n",
    "pca = PCA(n_components=3)\n",
    "reduced = pca.fit_transform(encoded_vars)\n",
    "reduced.shape"
   ]
  },
  {
   "cell_type": "code",
   "execution_count": 155,
   "metadata": {},
   "outputs": [
    {
     "data": {
      "text/plain": [
       "array([[ 2.14821771, -0.32776287, -0.30641059],\n",
       "       [-0.28117422,  0.99162168, -0.34941887]])"
      ]
     },
     "execution_count": 155,
     "metadata": {},
     "output_type": "execute_result"
    }
   ],
   "source": [
    "reduced[:2]"
   ]
  },
  {
   "cell_type": "code",
   "execution_count": 80,
   "metadata": {},
   "outputs": [],
   "source": [
    "df_train_extend = df[train_columns + categorical_cols]"
   ]
  },
  {
   "cell_type": "code",
   "execution_count": 81,
   "metadata": {},
   "outputs": [],
   "source": [
    "X_train_2, X_test_2, y_train_2, y_test_2 = train_test_split(df_train_extend, df['SalePrice'])"
   ]
  },
  {
   "cell_type": "code",
   "execution_count": 173,
   "metadata": {},
   "outputs": [],
   "source": [
    "from sklearn.compose import ColumnTransformer\n",
    "from sklearn.pipeline import Pipeline\n",
    "from sklearn.impute import SimpleImputer\n",
    "from sklearn.preprocessing import OneHotEncoder\n",
    "\n",
    "# Preprocessing for numerical data\n",
    "numerical_transformer = Pipeline(steps=[\n",
    "    ('num_imputer', SimpleImputer(strategy='mean')),\n",
    "    ('scaler', StandardScaler())\n",
    "])\n",
    "# Preprocessing for categorical data\n",
    "categorical_transformer = Pipeline(steps=[\n",
    "    ('cat_imputer', SimpleImputer(strategy='most_frequent')),\n",
    "    ('onehot', OneHotEncoder(handle_unknown='ignore', sparse=False)),\n",
    "    ('pca', PCA(n_components=150))\n",
    "])\n",
    "\n",
    "# Bundle preprocessing for numerical and categorical data\n",
    "preprocessor = ColumnTransformer(\n",
    "    transformers=[\n",
    "        ('num', numerical_transformer, train_columns),\n",
    "        ('cat', categorical_transformer, categorical_cols)\n",
    "    ])\n"
   ]
  },
  {
   "cell_type": "code",
   "execution_count": 169,
   "metadata": {},
   "outputs": [
    {
     "data": {
      "text/html": [
       "<div>\n",
       "<style scoped>\n",
       "    .dataframe tbody tr th:only-of-type {\n",
       "        vertical-align: middle;\n",
       "    }\n",
       "\n",
       "    .dataframe tbody tr th {\n",
       "        vertical-align: top;\n",
       "    }\n",
       "\n",
       "    .dataframe thead th {\n",
       "        text-align: right;\n",
       "    }\n",
       "</style>\n",
       "<table border=\"1\" class=\"dataframe\">\n",
       "  <thead>\n",
       "    <tr style=\"text-align: right;\">\n",
       "      <th></th>\n",
       "      <th>YearRemodAdd</th>\n",
       "      <th>YearBuilt</th>\n",
       "      <th>TotRmsAbvGrd</th>\n",
       "      <th>FullBath</th>\n",
       "      <th>1stFlrSF</th>\n",
       "      <th>GarageArea</th>\n",
       "      <th>TotalBsmtSF</th>\n",
       "      <th>GarageCars</th>\n",
       "      <th>2ndFlrSF</th>\n",
       "      <th>GrLivArea</th>\n",
       "      <th>...</th>\n",
       "      <th>KitchenQual</th>\n",
       "      <th>Functional</th>\n",
       "      <th>FireplaceQu</th>\n",
       "      <th>GarageType</th>\n",
       "      <th>GarageFinish</th>\n",
       "      <th>GarageQual</th>\n",
       "      <th>GarageCond</th>\n",
       "      <th>PavedDrive</th>\n",
       "      <th>SaleType</th>\n",
       "      <th>SaleCondition</th>\n",
       "    </tr>\n",
       "  </thead>\n",
       "  <tbody>\n",
       "    <tr>\n",
       "      <th>1242</th>\n",
       "      <td>1974</td>\n",
       "      <td>1974</td>\n",
       "      <td>6</td>\n",
       "      <td>2</td>\n",
       "      <td>1173</td>\n",
       "      <td>528</td>\n",
       "      <td>1053</td>\n",
       "      <td>2</td>\n",
       "      <td>0</td>\n",
       "      <td>1173</td>\n",
       "      <td>...</td>\n",
       "      <td>Gd</td>\n",
       "      <td>Typ</td>\n",
       "      <td>TA</td>\n",
       "      <td>Attchd</td>\n",
       "      <td>RFn</td>\n",
       "      <td>TA</td>\n",
       "      <td>TA</td>\n",
       "      <td>Y</td>\n",
       "      <td>WD</td>\n",
       "      <td>Family</td>\n",
       "    </tr>\n",
       "  </tbody>\n",
       "</table>\n",
       "<p>1 rows × 50 columns</p>\n",
       "</div>"
      ],
      "text/plain": [
       "      YearRemodAdd  YearBuilt  TotRmsAbvGrd  FullBath  1stFlrSF  GarageArea  \\\n",
       "1242          1974       1974             6         2      1173         528   \n",
       "\n",
       "      TotalBsmtSF  GarageCars  2ndFlrSF  GrLivArea  ...  KitchenQual  \\\n",
       "1242         1053           2         0       1173  ...           Gd   \n",
       "\n",
       "     Functional FireplaceQu GarageType GarageFinish GarageQual GarageCond  \\\n",
       "1242        Typ          TA     Attchd          RFn         TA         TA   \n",
       "\n",
       "     PavedDrive SaleType SaleCondition  \n",
       "1242          Y       WD        Family  \n",
       "\n",
       "[1 rows x 50 columns]"
      ]
     },
     "execution_count": 169,
     "metadata": {},
     "output_type": "execute_result"
    }
   ],
   "source": [
    "X_train_2[:1]"
   ]
  },
  {
   "cell_type": "code",
   "execution_count": 174,
   "metadata": {},
   "outputs": [
    {
     "name": "stdout",
     "output_type": "stream",
     "text": [
      "Mean squared error: 790248196.04\n",
      "Coefficient of determination: 0.86\n"
     ]
    }
   ],
   "source": [
    "my_pipeline = Pipeline(steps=[('preprocessor', preprocessor),\n",
    "                              #('model', GradientBoostingRegressor(n_estimators=50, random_state=1))\n",
    "                              ('model', LinearRegression())\n",
    "                             ])\n",
    "\n",
    "# Preprocessing of training data, fit model \n",
    "my_pipeline.fit(X_train_2, y_train_2)\n",
    "\n",
    "# Preprocessing of validation data, get predictions\n",
    "y_pred_2 = my_pipeline.predict(X_test_2)\n",
    "\n",
    "# Evaluate the model\n",
    "# The mean squared error\n",
    "print('Mean squared error: %.2f'\n",
    "      % mean_squared_error(y_test_2, y_pred_2))\n",
    "# The coefficient of determination: 1 is perfect prediction\n",
    "print('Coefficient of determination: %.2f'\n",
    "      % r2_score(y_test_2, y_pred_2))"
   ]
  },
  {
   "cell_type": "code",
   "execution_count": 84,
   "metadata": {},
   "outputs": [
    {
     "data": {
      "text/html": [
       "<style>div.sk-top-container {color: black;background-color: white;}div.sk-toggleable {background-color: white;}label.sk-toggleable__label {cursor: pointer;display: block;width: 100%;margin-bottom: 0;padding: 0.2em 0.3em;box-sizing: border-box;text-align: center;}div.sk-toggleable__content {max-height: 0;max-width: 0;overflow: hidden;text-align: left;background-color: #f0f8ff;}div.sk-toggleable__content pre {margin: 0.2em;color: black;border-radius: 0.25em;background-color: #f0f8ff;}input.sk-toggleable__control:checked~div.sk-toggleable__content {max-height: 200px;max-width: 100%;overflow: auto;}div.sk-estimator input.sk-toggleable__control:checked~label.sk-toggleable__label {background-color: #d4ebff;}div.sk-label input.sk-toggleable__control:checked~label.sk-toggleable__label {background-color: #d4ebff;}input.sk-hidden--visually {border: 0;clip: rect(1px 1px 1px 1px);clip: rect(1px, 1px, 1px, 1px);height: 1px;margin: -1px;overflow: hidden;padding: 0;position: absolute;width: 1px;}div.sk-estimator {font-family: monospace;background-color: #f0f8ff;margin: 0.25em 0.25em;border: 1px dotted black;border-radius: 0.25em;box-sizing: border-box;}div.sk-estimator:hover {background-color: #d4ebff;}div.sk-parallel-item::after {content: \"\";width: 100%;border-bottom: 1px solid gray;flex-grow: 1;}div.sk-label:hover label.sk-toggleable__label {background-color: #d4ebff;}div.sk-serial::before {content: \"\";position: absolute;border-left: 1px solid gray;box-sizing: border-box;top: 2em;bottom: 0;left: 50%;}div.sk-serial {display: flex;flex-direction: column;align-items: center;background-color: white;}div.sk-item {z-index: 1;}div.sk-parallel {display: flex;align-items: stretch;justify-content: center;background-color: white;}div.sk-parallel-item {display: flex;flex-direction: column;position: relative;background-color: white;}div.sk-parallel-item:first-child::after {align-self: flex-end;width: 50%;}div.sk-parallel-item:last-child::after {align-self: flex-start;width: 50%;}div.sk-parallel-item:only-child::after {width: 0;}div.sk-dashed-wrapped {border: 1px dashed gray;margin: 0.2em;box-sizing: border-box;padding-bottom: 0.1em;background-color: white;position: relative;}div.sk-label label {font-family: monospace;font-weight: bold;background-color: white;display: inline-block;line-height: 1.2em;}div.sk-label-container {position: relative;z-index: 2;text-align: center;}div.sk-container {display: inline-block;position: relative;}</style><div class=\"sk-top-container\"><div class=\"sk-container\"><div class=\"sk-item sk-dashed-wrapped\"><div class=\"sk-label-container\"><div class=\"sk-label sk-toggleable\"><input class=\"sk-toggleable__control sk-hidden--visually\" id=\"7502f769-2b15-4939-acf0-dd89ca5319c9\" type=\"checkbox\" ><label class=\"sk-toggleable__label\" for=\"7502f769-2b15-4939-acf0-dd89ca5319c9\">Pipeline</label><div class=\"sk-toggleable__content\"><pre>Pipeline(steps=[('preprocessor',\n",
       "                 ColumnTransformer(transformers=[('num',\n",
       "                                                  Pipeline(steps=[('num_imputer',\n",
       "                                                                   SimpleImputer())]),\n",
       "                                                  ['YearRemodAdd', 'YearBuilt',\n",
       "                                                   'TotRmsAbvGrd', 'FullBath',\n",
       "                                                   '1stFlrSF', 'GarageArea',\n",
       "                                                   'TotalBsmtSF', 'GarageCars',\n",
       "                                                   '2ndFlrSF', 'GrLivArea',\n",
       "                                                   'OverallQual']),\n",
       "                                                 ('cat',\n",
       "                                                  Pipeline(steps=[('cat_imputer',\n",
       "                                                                   SimpleImputer(strategy='most_frequent')),\n",
       "                                                                  ('oneh...\n",
       "                                                   'LandSlope', 'Neighborhood',\n",
       "                                                   'Condition1', 'Condition2',\n",
       "                                                   'BldgType', 'HouseStyle',\n",
       "                                                   'RoofStyle', 'RoofMatl',\n",
       "                                                   'Exterior1st', 'Exterior2nd',\n",
       "                                                   'MasVnrType', 'ExterQual',\n",
       "                                                   'ExterCond', 'Foundation',\n",
       "                                                   'BsmtQual', 'BsmtCond',\n",
       "                                                   'BsmtExposure',\n",
       "                                                   'BsmtFinType1',\n",
       "                                                   'BsmtFinType2', 'Heating',\n",
       "                                                   'HeatingQC', 'CentralAir',\n",
       "                                                   'Electrical', 'KitchenQual', ...])])),\n",
       "                ('model', GradientBoostingRegressor(random_state=1))])</pre></div></div></div><div class=\"sk-serial\"><div class=\"sk-item sk-dashed-wrapped\"><div class=\"sk-label-container\"><div class=\"sk-label sk-toggleable\"><input class=\"sk-toggleable__control sk-hidden--visually\" id=\"74eb448f-520f-440a-9ae4-f126ebb8593b\" type=\"checkbox\" ><label class=\"sk-toggleable__label\" for=\"74eb448f-520f-440a-9ae4-f126ebb8593b\">preprocessor: ColumnTransformer</label><div class=\"sk-toggleable__content\"><pre>ColumnTransformer(transformers=[('num',\n",
       "                                 Pipeline(steps=[('num_imputer',\n",
       "                                                  SimpleImputer())]),\n",
       "                                 ['YearRemodAdd', 'YearBuilt', 'TotRmsAbvGrd',\n",
       "                                  'FullBath', '1stFlrSF', 'GarageArea',\n",
       "                                  'TotalBsmtSF', 'GarageCars', '2ndFlrSF',\n",
       "                                  'GrLivArea', 'OverallQual']),\n",
       "                                ('cat',\n",
       "                                 Pipeline(steps=[('cat_imputer',\n",
       "                                                  SimpleImputer(strategy='most_frequent')),\n",
       "                                                 ('onehot',\n",
       "                                                  OneHotEncoder(handle_unknown...\n",
       "                                  'LandContour', 'Utilities', 'LotConfig',\n",
       "                                  'LandSlope', 'Neighborhood', 'Condition1',\n",
       "                                  'Condition2', 'BldgType', 'HouseStyle',\n",
       "                                  'RoofStyle', 'RoofMatl', 'Exterior1st',\n",
       "                                  'Exterior2nd', 'MasVnrType', 'ExterQual',\n",
       "                                  'ExterCond', 'Foundation', 'BsmtQual',\n",
       "                                  'BsmtCond', 'BsmtExposure', 'BsmtFinType1',\n",
       "                                  'BsmtFinType2', 'Heating', 'HeatingQC',\n",
       "                                  'CentralAir', 'Electrical', 'KitchenQual', ...])])</pre></div></div></div><div class=\"sk-parallel\"><div class=\"sk-parallel-item\"><div class=\"sk-item\"><div class=\"sk-label-container\"><div class=\"sk-label sk-toggleable\"><input class=\"sk-toggleable__control sk-hidden--visually\" id=\"ae1828e0-87f8-4faa-8760-04adef04df2e\" type=\"checkbox\" ><label class=\"sk-toggleable__label\" for=\"ae1828e0-87f8-4faa-8760-04adef04df2e\">num</label><div class=\"sk-toggleable__content\"><pre>['YearRemodAdd', 'YearBuilt', 'TotRmsAbvGrd', 'FullBath', '1stFlrSF', 'GarageArea', 'TotalBsmtSF', 'GarageCars', '2ndFlrSF', 'GrLivArea', 'OverallQual']</pre></div></div></div><div class=\"sk-serial\"><div class=\"sk-item\"><div class=\"sk-serial\"><div class=\"sk-item\"><div class=\"sk-estimator sk-toggleable\"><input class=\"sk-toggleable__control sk-hidden--visually\" id=\"d1ae217b-6423-4a6c-823e-ed4e0148c11e\" type=\"checkbox\" ><label class=\"sk-toggleable__label\" for=\"d1ae217b-6423-4a6c-823e-ed4e0148c11e\">SimpleImputer</label><div class=\"sk-toggleable__content\"><pre>SimpleImputer()</pre></div></div></div></div></div></div></div></div><div class=\"sk-parallel-item\"><div class=\"sk-item\"><div class=\"sk-label-container\"><div class=\"sk-label sk-toggleable\"><input class=\"sk-toggleable__control sk-hidden--visually\" id=\"8580d60e-0614-4959-999f-fc62cf6386fc\" type=\"checkbox\" ><label class=\"sk-toggleable__label\" for=\"8580d60e-0614-4959-999f-fc62cf6386fc\">cat</label><div class=\"sk-toggleable__content\"><pre>['MSZoning', 'Street', 'LotShape', 'LandContour', 'Utilities', 'LotConfig', 'LandSlope', 'Neighborhood', 'Condition1', 'Condition2', 'BldgType', 'HouseStyle', 'RoofStyle', 'RoofMatl', 'Exterior1st', 'Exterior2nd', 'MasVnrType', 'ExterQual', 'ExterCond', 'Foundation', 'BsmtQual', 'BsmtCond', 'BsmtExposure', 'BsmtFinType1', 'BsmtFinType2', 'Heating', 'HeatingQC', 'CentralAir', 'Electrical', 'KitchenQual', 'Functional', 'FireplaceQu', 'GarageType', 'GarageFinish', 'GarageQual', 'GarageCond', 'PavedDrive', 'SaleType', 'SaleCondition']</pre></div></div></div><div class=\"sk-serial\"><div class=\"sk-item\"><div class=\"sk-serial\"><div class=\"sk-item\"><div class=\"sk-estimator sk-toggleable\"><input class=\"sk-toggleable__control sk-hidden--visually\" id=\"5a5fa474-af90-4eba-87a5-1ef38a90c878\" type=\"checkbox\" ><label class=\"sk-toggleable__label\" for=\"5a5fa474-af90-4eba-87a5-1ef38a90c878\">SimpleImputer</label><div class=\"sk-toggleable__content\"><pre>SimpleImputer(strategy='most_frequent')</pre></div></div></div><div class=\"sk-item\"><div class=\"sk-estimator sk-toggleable\"><input class=\"sk-toggleable__control sk-hidden--visually\" id=\"547dbe74-15e3-4cc0-a695-9839ae3a4bcc\" type=\"checkbox\" ><label class=\"sk-toggleable__label\" for=\"547dbe74-15e3-4cc0-a695-9839ae3a4bcc\">OneHotEncoder</label><div class=\"sk-toggleable__content\"><pre>OneHotEncoder(handle_unknown='ignore', sparse=False)</pre></div></div></div></div></div></div></div></div></div></div><div class=\"sk-item\"><div class=\"sk-estimator sk-toggleable\"><input class=\"sk-toggleable__control sk-hidden--visually\" id=\"6c1c9cfb-c753-4896-b63f-8931168ab2d1\" type=\"checkbox\" ><label class=\"sk-toggleable__label\" for=\"6c1c9cfb-c753-4896-b63f-8931168ab2d1\">GradientBoostingRegressor</label><div class=\"sk-toggleable__content\"><pre>GradientBoostingRegressor(random_state=1)</pre></div></div></div></div></div></div></div>"
      ],
      "text/plain": [
       "<IPython.core.display.HTML object>"
      ]
     },
     "metadata": {},
     "output_type": "display_data"
    }
   ],
   "source": [
    "from sklearn import set_config \n",
    "from sklearn.utils import estimator_html_repr \n",
    "from IPython.core.display import display, HTML \n",
    "\n",
    "set_config(display='diagram')\n",
    "display(HTML(estimator_html_repr(my_pipeline)))"
   ]
  },
  {
   "cell_type": "code",
   "execution_count": 175,
   "metadata": {},
   "outputs": [
    {
     "data": {
      "text/html": [
       "<style>div.sk-top-container {color: black;background-color: white;}div.sk-toggleable {background-color: white;}label.sk-toggleable__label {cursor: pointer;display: block;width: 100%;margin-bottom: 0;padding: 0.2em 0.3em;box-sizing: border-box;text-align: center;}div.sk-toggleable__content {max-height: 0;max-width: 0;overflow: hidden;text-align: left;background-color: #f0f8ff;}div.sk-toggleable__content pre {margin: 0.2em;color: black;border-radius: 0.25em;background-color: #f0f8ff;}input.sk-toggleable__control:checked~div.sk-toggleable__content {max-height: 200px;max-width: 100%;overflow: auto;}div.sk-estimator input.sk-toggleable__control:checked~label.sk-toggleable__label {background-color: #d4ebff;}div.sk-label input.sk-toggleable__control:checked~label.sk-toggleable__label {background-color: #d4ebff;}input.sk-hidden--visually {border: 0;clip: rect(1px 1px 1px 1px);clip: rect(1px, 1px, 1px, 1px);height: 1px;margin: -1px;overflow: hidden;padding: 0;position: absolute;width: 1px;}div.sk-estimator {font-family: monospace;background-color: #f0f8ff;margin: 0.25em 0.25em;border: 1px dotted black;border-radius: 0.25em;box-sizing: border-box;}div.sk-estimator:hover {background-color: #d4ebff;}div.sk-parallel-item::after {content: \"\";width: 100%;border-bottom: 1px solid gray;flex-grow: 1;}div.sk-label:hover label.sk-toggleable__label {background-color: #d4ebff;}div.sk-serial::before {content: \"\";position: absolute;border-left: 1px solid gray;box-sizing: border-box;top: 2em;bottom: 0;left: 50%;}div.sk-serial {display: flex;flex-direction: column;align-items: center;background-color: white;}div.sk-item {z-index: 1;}div.sk-parallel {display: flex;align-items: stretch;justify-content: center;background-color: white;}div.sk-parallel-item {display: flex;flex-direction: column;position: relative;background-color: white;}div.sk-parallel-item:first-child::after {align-self: flex-end;width: 50%;}div.sk-parallel-item:last-child::after {align-self: flex-start;width: 50%;}div.sk-parallel-item:only-child::after {width: 0;}div.sk-dashed-wrapped {border: 1px dashed gray;margin: 0.2em;box-sizing: border-box;padding-bottom: 0.1em;background-color: white;position: relative;}div.sk-label label {font-family: monospace;font-weight: bold;background-color: white;display: inline-block;line-height: 1.2em;}div.sk-label-container {position: relative;z-index: 2;text-align: center;}div.sk-container {display: inline-block;position: relative;}</style><div class=\"sk-top-container\"><div class=\"sk-container\"><div class=\"sk-item sk-dashed-wrapped\"><div class=\"sk-label-container\"><div class=\"sk-label sk-toggleable\"><input class=\"sk-toggleable__control sk-hidden--visually\" id=\"7ebcb198-9a23-47cb-b331-ebaac28d0f8f\" type=\"checkbox\" ><label class=\"sk-toggleable__label\" for=\"7ebcb198-9a23-47cb-b331-ebaac28d0f8f\">Pipeline</label><div class=\"sk-toggleable__content\"><pre>Pipeline(steps=[('preprocessor',\n",
       "                 ColumnTransformer(transformers=[('num',\n",
       "                                                  Pipeline(steps=[('num_imputer',\n",
       "                                                                   SimpleImputer()),\n",
       "                                                                  ('scaler',\n",
       "                                                                   StandardScaler())]),\n",
       "                                                  ['YearRemodAdd', 'YearBuilt',\n",
       "                                                   'TotRmsAbvGrd', 'FullBath',\n",
       "                                                   '1stFlrSF', 'GarageArea',\n",
       "                                                   'TotalBsmtSF', 'GarageCars',\n",
       "                                                   '2ndFlrSF', 'GrLivArea',\n",
       "                                                   'OverallQual']),\n",
       "                                                 ('cat',\n",
       "                                                  Pipeline(steps=[('cat_imputer',\n",
       "                                                                   SimpleImputer(strat...\n",
       "                                                   'Utilities', 'LotConfig',\n",
       "                                                   'LandSlope', 'Neighborhood',\n",
       "                                                   'Condition1', 'Condition2',\n",
       "                                                   'BldgType', 'HouseStyle',\n",
       "                                                   'RoofStyle', 'RoofMatl',\n",
       "                                                   'Exterior1st', 'Exterior2nd',\n",
       "                                                   'MasVnrType', 'ExterQual',\n",
       "                                                   'ExterCond', 'Foundation',\n",
       "                                                   'BsmtQual', 'BsmtCond',\n",
       "                                                   'BsmtExposure',\n",
       "                                                   'BsmtFinType1',\n",
       "                                                   'BsmtFinType2', 'Heating',\n",
       "                                                   'HeatingQC', 'CentralAir',\n",
       "                                                   'Electrical', 'KitchenQual', ...])])),\n",
       "                ('model', LinearRegression())])</pre></div></div></div><div class=\"sk-serial\"><div class=\"sk-item sk-dashed-wrapped\"><div class=\"sk-label-container\"><div class=\"sk-label sk-toggleable\"><input class=\"sk-toggleable__control sk-hidden--visually\" id=\"8a98d6d4-4f86-4215-bfb3-c8f841bed3fb\" type=\"checkbox\" ><label class=\"sk-toggleable__label\" for=\"8a98d6d4-4f86-4215-bfb3-c8f841bed3fb\">preprocessor: ColumnTransformer</label><div class=\"sk-toggleable__content\"><pre>ColumnTransformer(transformers=[('num',\n",
       "                                 Pipeline(steps=[('num_imputer',\n",
       "                                                  SimpleImputer()),\n",
       "                                                 ('scaler', StandardScaler())]),\n",
       "                                 ['YearRemodAdd', 'YearBuilt', 'TotRmsAbvGrd',\n",
       "                                  'FullBath', '1stFlrSF', 'GarageArea',\n",
       "                                  'TotalBsmtSF', 'GarageCars', '2ndFlrSF',\n",
       "                                  'GrLivArea', 'OverallQual']),\n",
       "                                ('cat',\n",
       "                                 Pipeline(steps=[('cat_imputer',\n",
       "                                                  SimpleImputer(strategy='most_frequent')),\n",
       "                                                 ('onehot',...\n",
       "                                  'LandContour', 'Utilities', 'LotConfig',\n",
       "                                  'LandSlope', 'Neighborhood', 'Condition1',\n",
       "                                  'Condition2', 'BldgType', 'HouseStyle',\n",
       "                                  'RoofStyle', 'RoofMatl', 'Exterior1st',\n",
       "                                  'Exterior2nd', 'MasVnrType', 'ExterQual',\n",
       "                                  'ExterCond', 'Foundation', 'BsmtQual',\n",
       "                                  'BsmtCond', 'BsmtExposure', 'BsmtFinType1',\n",
       "                                  'BsmtFinType2', 'Heating', 'HeatingQC',\n",
       "                                  'CentralAir', 'Electrical', 'KitchenQual', ...])])</pre></div></div></div><div class=\"sk-parallel\"><div class=\"sk-parallel-item\"><div class=\"sk-item\"><div class=\"sk-label-container\"><div class=\"sk-label sk-toggleable\"><input class=\"sk-toggleable__control sk-hidden--visually\" id=\"bde1aa9b-fbb6-4ce5-a7ae-7e1358c836ff\" type=\"checkbox\" ><label class=\"sk-toggleable__label\" for=\"bde1aa9b-fbb6-4ce5-a7ae-7e1358c836ff\">num</label><div class=\"sk-toggleable__content\"><pre>['YearRemodAdd', 'YearBuilt', 'TotRmsAbvGrd', 'FullBath', '1stFlrSF', 'GarageArea', 'TotalBsmtSF', 'GarageCars', '2ndFlrSF', 'GrLivArea', 'OverallQual']</pre></div></div></div><div class=\"sk-serial\"><div class=\"sk-item\"><div class=\"sk-serial\"><div class=\"sk-item\"><div class=\"sk-estimator sk-toggleable\"><input class=\"sk-toggleable__control sk-hidden--visually\" id=\"269b3a46-02fb-45eb-adce-271e16c756e1\" type=\"checkbox\" ><label class=\"sk-toggleable__label\" for=\"269b3a46-02fb-45eb-adce-271e16c756e1\">SimpleImputer</label><div class=\"sk-toggleable__content\"><pre>SimpleImputer()</pre></div></div></div><div class=\"sk-item\"><div class=\"sk-estimator sk-toggleable\"><input class=\"sk-toggleable__control sk-hidden--visually\" id=\"d405f61c-253c-4cf3-a3af-a17370d44d8e\" type=\"checkbox\" ><label class=\"sk-toggleable__label\" for=\"d405f61c-253c-4cf3-a3af-a17370d44d8e\">StandardScaler</label><div class=\"sk-toggleable__content\"><pre>StandardScaler()</pre></div></div></div></div></div></div></div></div><div class=\"sk-parallel-item\"><div class=\"sk-item\"><div class=\"sk-label-container\"><div class=\"sk-label sk-toggleable\"><input class=\"sk-toggleable__control sk-hidden--visually\" id=\"6a1bc438-e210-4c6c-98f8-5c2052eefa51\" type=\"checkbox\" ><label class=\"sk-toggleable__label\" for=\"6a1bc438-e210-4c6c-98f8-5c2052eefa51\">cat</label><div class=\"sk-toggleable__content\"><pre>['MSZoning', 'Street', 'LotShape', 'LandContour', 'Utilities', 'LotConfig', 'LandSlope', 'Neighborhood', 'Condition1', 'Condition2', 'BldgType', 'HouseStyle', 'RoofStyle', 'RoofMatl', 'Exterior1st', 'Exterior2nd', 'MasVnrType', 'ExterQual', 'ExterCond', 'Foundation', 'BsmtQual', 'BsmtCond', 'BsmtExposure', 'BsmtFinType1', 'BsmtFinType2', 'Heating', 'HeatingQC', 'CentralAir', 'Electrical', 'KitchenQual', 'Functional', 'FireplaceQu', 'GarageType', 'GarageFinish', 'GarageQual', 'GarageCond', 'PavedDrive', 'SaleType', 'SaleCondition']</pre></div></div></div><div class=\"sk-serial\"><div class=\"sk-item\"><div class=\"sk-serial\"><div class=\"sk-item\"><div class=\"sk-estimator sk-toggleable\"><input class=\"sk-toggleable__control sk-hidden--visually\" id=\"f7d89381-25a0-42d1-b744-0b946d44b48a\" type=\"checkbox\" ><label class=\"sk-toggleable__label\" for=\"f7d89381-25a0-42d1-b744-0b946d44b48a\">SimpleImputer</label><div class=\"sk-toggleable__content\"><pre>SimpleImputer(strategy='most_frequent')</pre></div></div></div><div class=\"sk-item\"><div class=\"sk-estimator sk-toggleable\"><input class=\"sk-toggleable__control sk-hidden--visually\" id=\"c08a1b61-05ab-4152-b0fc-51d5ceb6f1a8\" type=\"checkbox\" ><label class=\"sk-toggleable__label\" for=\"c08a1b61-05ab-4152-b0fc-51d5ceb6f1a8\">OneHotEncoder</label><div class=\"sk-toggleable__content\"><pre>OneHotEncoder(handle_unknown='ignore', sparse=False)</pre></div></div></div><div class=\"sk-item\"><div class=\"sk-estimator sk-toggleable\"><input class=\"sk-toggleable__control sk-hidden--visually\" id=\"254eaad9-ae7c-4d92-a8b0-4bcc980d9313\" type=\"checkbox\" ><label class=\"sk-toggleable__label\" for=\"254eaad9-ae7c-4d92-a8b0-4bcc980d9313\">PCA</label><div class=\"sk-toggleable__content\"><pre>PCA(n_components=150)</pre></div></div></div></div></div></div></div></div></div></div><div class=\"sk-item\"><div class=\"sk-estimator sk-toggleable\"><input class=\"sk-toggleable__control sk-hidden--visually\" id=\"dbae3419-696e-4867-8bc8-b12bc33ce3d2\" type=\"checkbox\" ><label class=\"sk-toggleable__label\" for=\"dbae3419-696e-4867-8bc8-b12bc33ce3d2\">LinearRegression</label><div class=\"sk-toggleable__content\"><pre>LinearRegression()</pre></div></div></div></div></div></div></div>"
      ],
      "text/plain": [
       "<IPython.core.display.HTML object>"
      ]
     },
     "metadata": {},
     "output_type": "display_data"
    }
   ],
   "source": [
    "from sklearn import set_config \n",
    "from sklearn.utils import estimator_html_repr \n",
    "from IPython.core.display import display, HTML \n",
    "\n",
    "set_config(display='diagram')\n",
    "display(HTML(estimator_html_repr(my_pipeline)))"
   ]
  },
  {
   "cell_type": "code",
   "execution_count": 178,
   "metadata": {},
   "outputs": [
    {
     "name": "stderr",
     "output_type": "stream",
     "text": [
      "/Users/awolfmann/miniconda3/envs/mkt/lib/python3.7/site-packages/ipykernel_launcher.py:1: SettingWithCopyWarning: \n",
      "A value is trying to be set on a copy of a slice from a DataFrame.\n",
      "Try using .loc[row_indexer,col_indexer] = value instead\n",
      "\n",
      "See the caveats in the documentation: http://pandas.pydata.org/pandas-docs/stable/indexing.html#indexing-view-versus-copy\n",
      "  \"\"\"Entry point for launching an IPython kernel.\n"
     ]
    }
   ],
   "source": [
    "sub_test['extend_pred_price'] = y_pred_2[:10]"
   ]
  },
  {
   "cell_type": "code",
   "execution_count": 180,
   "metadata": {},
   "outputs": [
    {
     "data": {
      "text/html": [
       "<div>\n",
       "<style scoped>\n",
       "    .dataframe tbody tr th:only-of-type {\n",
       "        vertical-align: middle;\n",
       "    }\n",
       "\n",
       "    .dataframe tbody tr th {\n",
       "        vertical-align: top;\n",
       "    }\n",
       "\n",
       "    .dataframe thead th {\n",
       "        text-align: right;\n",
       "    }\n",
       "</style>\n",
       "<table border=\"1\" class=\"dataframe\">\n",
       "  <thead>\n",
       "    <tr style=\"text-align: right;\">\n",
       "      <th></th>\n",
       "      <th>real_price</th>\n",
       "      <th>pred_price_knr</th>\n",
       "      <th>extend_pred_price</th>\n",
       "    </tr>\n",
       "  </thead>\n",
       "  <tbody>\n",
       "    <tr>\n",
       "      <th>460</th>\n",
       "      <td>263435</td>\n",
       "      <td>211880.0</td>\n",
       "      <td>224993.794027</td>\n",
       "    </tr>\n",
       "    <tr>\n",
       "      <th>1230</th>\n",
       "      <td>190000</td>\n",
       "      <td>313833.6</td>\n",
       "      <td>256994.291700</td>\n",
       "    </tr>\n",
       "    <tr>\n",
       "      <th>1312</th>\n",
       "      <td>302000</td>\n",
       "      <td>375008.2</td>\n",
       "      <td>119170.361503</td>\n",
       "    </tr>\n",
       "    <tr>\n",
       "      <th>996</th>\n",
       "      <td>136500</td>\n",
       "      <td>125300.0</td>\n",
       "      <td>290248.024743</td>\n",
       "    </tr>\n",
       "    <tr>\n",
       "      <th>754</th>\n",
       "      <td>156000</td>\n",
       "      <td>142400.0</td>\n",
       "      <td>247727.867334</td>\n",
       "    </tr>\n",
       "    <tr>\n",
       "      <th>398</th>\n",
       "      <td>67000</td>\n",
       "      <td>119480.0</td>\n",
       "      <td>64583.627654</td>\n",
       "    </tr>\n",
       "    <tr>\n",
       "      <th>1134</th>\n",
       "      <td>169000</td>\n",
       "      <td>175580.0</td>\n",
       "      <td>390996.100763</td>\n",
       "    </tr>\n",
       "    <tr>\n",
       "      <th>886</th>\n",
       "      <td>145000</td>\n",
       "      <td>222330.0</td>\n",
       "      <td>150938.028838</td>\n",
       "    </tr>\n",
       "    <tr>\n",
       "      <th>396</th>\n",
       "      <td>123000</td>\n",
       "      <td>138190.0</td>\n",
       "      <td>50707.063603</td>\n",
       "    </tr>\n",
       "    <tr>\n",
       "      <th>1114</th>\n",
       "      <td>117000</td>\n",
       "      <td>124000.0</td>\n",
       "      <td>203095.378378</td>\n",
       "    </tr>\n",
       "  </tbody>\n",
       "</table>\n",
       "</div>"
      ],
      "text/plain": [
       "      real_price  pred_price_knr  extend_pred_price\n",
       "460       263435        211880.0      224993.794027\n",
       "1230      190000        313833.6      256994.291700\n",
       "1312      302000        375008.2      119170.361503\n",
       "996       136500        125300.0      290248.024743\n",
       "754       156000        142400.0      247727.867334\n",
       "398        67000        119480.0       64583.627654\n",
       "1134      169000        175580.0      390996.100763\n",
       "886       145000        222330.0      150938.028838\n",
       "396       123000        138190.0       50707.063603\n",
       "1114      117000        124000.0      203095.378378"
      ]
     },
     "execution_count": 180,
     "metadata": {},
     "output_type": "execute_result"
    }
   ],
   "source": [
    "sub_test[['real_price', 'pred_price_knr', 'extend_pred_price']]"
   ]
  },
  {
   "cell_type": "code",
   "execution_count": 182,
   "metadata": {},
   "outputs": [
    {
     "data": {
      "text/plain": [
       "array([0.02779701, 0.01944503, 0.00470281, 0.00504195, 0.05292719,\n",
       "       0.01135634, 0.0725463 , 0.09448057, 0.04522047, 0.1501971 ,\n",
       "       0.51628524])"
      ]
     },
     "execution_count": 182,
     "metadata": {},
     "output_type": "execute_result"
    }
   ],
   "source": [
    "gbt.feature_importances_"
   ]
  },
  {
   "cell_type": "code",
   "execution_count": 183,
   "metadata": {},
   "outputs": [
    {
     "data": {
      "text/plain": [
       "Index(['YearRemodAdd', 'YearBuilt', 'TotRmsAbvGrd', 'FullBath', '1stFlrSF',\n",
       "       'GarageArea', 'TotalBsmtSF', 'GarageCars', '2ndFlrSF', 'GrLivArea',\n",
       "       'OverallQual'],\n",
       "      dtype='object')"
      ]
     },
     "execution_count": 183,
     "metadata": {},
     "output_type": "execute_result"
    }
   ],
   "source": [
    "X_train.columns"
   ]
  },
  {
   "cell_type": "markdown",
   "metadata": {},
   "source": [
    "# Clasificación"
   ]
  },
  {
   "cell_type": "markdown",
   "metadata": {},
   "source": [
    "Vamos a predecir la \"clase\" de casa, de la variable 'MSSubClass'"
   ]
  },
  {
   "cell_type": "code",
   "execution_count": 61,
   "metadata": {},
   "outputs": [
    {
     "data": {
      "text/plain": [
       "20     536\n",
       "60     299\n",
       "50     144\n",
       "120     87\n",
       "30      69\n",
       "160     63\n",
       "70      60\n",
       "80      58\n",
       "90      52\n",
       "190     30\n",
       "85      20\n",
       "75      16\n",
       "45      12\n",
       "180     10\n",
       "40       4\n",
       "Name: MSSubClass, dtype: int64"
      ]
     },
     "execution_count": 61,
     "metadata": {},
     "output_type": "execute_result"
    }
   ],
   "source": [
    "df['MSSubClass'].astype(str).value_counts()"
   ]
  },
  {
   "cell_type": "code",
   "execution_count": 88,
   "metadata": {},
   "outputs": [],
   "source": [
    "from sklearn.model_selection import train_test_split\n",
    "\n",
    "X_train_clf, X_test_clf, y_train_clf, y_test_clf = train_test_split(df_train, df['MSSubClass'].astype(str))"
   ]
  },
  {
   "cell_type": "code",
   "execution_count": 125,
   "metadata": {},
   "outputs": [],
   "source": [
    "from sklearn.ensemble import GradientBoostingClassifier\n",
    "clf_pipeline = Pipeline(steps=[\n",
    "    ('num_imputer', SimpleImputer(strategy='mean')),\n",
    "    ('scaler', StandardScaler()),\n",
    "    ('model', GradientBoostingClassifier(n_estimators=100, random_state=1))\n",
    "])"
   ]
  },
  {
   "cell_type": "code",
   "execution_count": 126,
   "metadata": {},
   "outputs": [],
   "source": [
    "# Preprocessing of training data, fit model \n",
    "clf_pipeline.fit(X_train_clf, y_train_clf)\n",
    "\n",
    "# Preprocessing of validation data, get predictions\n",
    "y_pred_clf = clf_pipeline.predict(X_test_clf)"
   ]
  },
  {
   "cell_type": "code",
   "execution_count": 127,
   "metadata": {},
   "outputs": [
    {
     "data": {
      "text/plain": [
       "array(['50', '120'], dtype=object)"
      ]
     },
     "execution_count": 127,
     "metadata": {},
     "output_type": "execute_result"
    }
   ],
   "source": [
    "y_pred_clf[:2]"
   ]
  },
  {
   "cell_type": "code",
   "execution_count": 128,
   "metadata": {},
   "outputs": [
    {
     "name": "stdout",
     "output_type": "stream",
     "text": [
      "              precision    recall  f1-score   support\n",
      "\n",
      "         120       0.88      0.70      0.78        20\n",
      "         160       1.00      0.73      0.85        15\n",
      "         180       0.83      1.00      0.91         5\n",
      "         190       0.17      0.14      0.15         7\n",
      "          20       0.79      0.97      0.87       131\n",
      "          30       0.83      0.79      0.81        19\n",
      "          45       0.00      0.00      0.00         3\n",
      "          50       0.77      0.75      0.76        40\n",
      "          60       0.93      0.95      0.94        78\n",
      "          70       0.67      0.67      0.67        12\n",
      "          75       0.50      0.50      0.50         4\n",
      "          80       0.75      0.19      0.30        16\n",
      "          85       0.33      0.20      0.25         5\n",
      "          90       0.83      0.50      0.62        10\n",
      "\n",
      "    accuracy                           0.81       365\n",
      "   macro avg       0.66      0.58      0.60       365\n",
      "weighted avg       0.80      0.81      0.79       365\n",
      "\n"
     ]
    },
    {
     "name": "stderr",
     "output_type": "stream",
     "text": [
      "/Users/awolfmann/miniconda3/envs/mkt/lib/python3.7/site-packages/sklearn/metrics/_classification.py:1221: UndefinedMetricWarning: Precision and F-score are ill-defined and being set to 0.0 in labels with no predicted samples. Use `zero_division` parameter to control this behavior.\n",
      "  _warn_prf(average, modifier, msg_start, len(result))\n"
     ]
    }
   ],
   "source": [
    "from sklearn.metrics import classification_report\n",
    "print(classification_report(y_test_clf, y_pred_clf))"
   ]
  },
  {
   "cell_type": "markdown",
   "metadata": {},
   "source": [
    "## Dataset desbalanceados\n",
    "- **Oversampling vs UnderSampling**\n",
    "    - Tomar un subconjunto de la clase mayoritaria\n",
    "    - Aumentar el dataset de la clase minoritaria\n",
    "\n",
    "- Spam / No Spam\n",
    "- Fraude\n",
    "\n"
   ]
  },
  {
   "cell_type": "markdown",
   "metadata": {},
   "source": [
    "## Libros\n",
    "- Python for Finance https://www.amazon.com/gp/product/1492024333/\n",
    "- Python for Data Analysis, Wes McKinney https://www.amazon.com/gp/product/1491957662/\n",
    "- Data Science from Scratch: First Principles with Python, Grus https://www.amazon.com/gp/product/149190142X/\n",
    "- Pattern Recognition, Bishop https://www.amazon.com/gp/product/0387310738\n",
    "- Statistical Learning, https://www.amazon.com/-/es/Trevor-Hastie/dp/0387848576\n",
    "- Machine Learning Yearning, Andrew NG. https://www.deeplearning.ai/machine-learning-yearning/\n",
    "\n"
   ]
  },
  {
   "cell_type": "markdown",
   "metadata": {},
   "source": [
    "## Conferencias / Meetups\n",
    "- En Córdoba se está desarrollando un ecosistema muy interesante.\n",
    "- Conferencias: PyData, JAIIO, etc. \n",
    "    - PyconAr: https://eventos.python.org.ar/events/pyconar2020/\n",
    "    - PyData Global: https://global.pydata.org/\n",
    "- Meetups: Data Science meetups.\n",
    "- Competencias online: **Kaggle** https://www.kaggle.com/learn/overview\n",
    "- Diplomatura en ciencia de datos.https://github.com/DiploDatos\n",
    "- **Stack Overflow** https://stackoverflow.com/ Es la wikipedia de todo programador. Aprender a googlear.\n",
    "- Tutorial SQL https://www.w3schools.com/sql/\n"
   ]
  },
  {
   "cell_type": "code",
   "execution_count": null,
   "metadata": {},
   "outputs": [],
   "source": []
  }
 ],
 "metadata": {
  "kernelspec": {
   "display_name": "Python 3",
   "language": "python",
   "name": "python3"
  },
  "language_info": {
   "codemirror_mode": {
    "name": "ipython",
    "version": 3
   },
   "file_extension": ".py",
   "mimetype": "text/x-python",
   "name": "python",
   "nbconvert_exporter": "python",
   "pygments_lexer": "ipython3",
   "version": "3.7.8"
  }
 },
 "nbformat": 4,
 "nbformat_minor": 4
}
