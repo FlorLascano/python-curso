{
 "cells": [
  {
   "cell_type": "markdown",
   "metadata": {},
   "source": [
    "<img src=\"assets/socalo-ICDA.png\">"
   ]
  },
  {
   "cell_type": "markdown",
   "metadata": {},
   "source": [
    "# Python para Finanzas y Ciencia de Datos\n",
    "Ariel Wolfmann | awolfmann@gmail.com\n",
    "\n",
    "_Jueves 29 Octubre 2020_"
   ]
  },
  {
   "cell_type": "markdown",
   "metadata": {},
   "source": [
    "## Sobre mi\n",
    "- Formación en Ciencias de la Computación, FaMAF UNC\n",
    "- Head / Director del area de datos en Rappi.\n",
    "- Organizador PyData Cordoba"
   ]
  },
  {
   "cell_type": "markdown",
   "metadata": {},
   "source": [
    "### Repaso\n",
    "- Programación -> Python: Variables, Estructura de datos, Tipo de datos, Bucle\n",
    "- Procesamiento de datos -> Numpy\n",
    "- Manipulación de datos -> Pandas\n",
    "- Visualización -> Matplot, Plotly\n",
    "- EDA: Analisis Exploratorio de datos\n"
   ]
  },
  {
   "cell_type": "markdown",
   "metadata": {},
   "source": [
    "## Introducción a Machine Learning"
   ]
  },
  {
   "cell_type": "markdown",
   "metadata": {},
   "source": [
    "<img src=\"https://files.realpython.com/media/Linear-Regression-in-Python_Watermarked.479f82188ace.jpg\"/>\n",
    "\n",
    "_Fuente: realpython.com_"
   ]
  },
  {
   "cell_type": "markdown",
   "metadata": {},
   "source": [
    "### Mensajes principales\n",
    "- Big Data ≠Machine Learning ≠ DS ≠ IA ≠ BI \n",
    "- Primero el negocio luego ML\n",
    "- Un KPI debe ser la metrica de ML sino es una perdida de tiempo y dinero\n",
    "- ML en un sistema real es una pasa de uva en un pan dulce\n",
    "- ML es un proceso cíclico e iterativo\n",
    "- No ML sin riesgo\n",
    "- ML no reemplaza a los humanos\n",
    "- NO hay ML sin sesgo."
   ]
  },
  {
   "cell_type": "markdown",
   "metadata": {},
   "source": [
    "# Conceptos y definiciones"
   ]
  },
  {
   "cell_type": "markdown",
   "metadata": {},
   "source": [
    "## Big Data  "
   ]
  },
  {
   "cell_type": "markdown",
   "metadata": {},
   "source": [
    "<img src=\"assets/bigdata.png\" style=\"width:600px;\">"
   ]
  },
  {
   "cell_type": "markdown",
   "metadata": {},
   "source": [
    "## Data Science\n",
    "- Dado un conjunto de datos de input produce un output definido, buscando patrones y aprendiendolos.\n",
    "- No es una bala de plata que sirve para todo, muchas veces no funciona.\n",
    "- Ayuda a la toma de decisiones basadas en datos.\n",
    "- Involucra un proceso de investigación y experimentación.\n",
    "- Es un proceso que contiene mucha incertidumbre, requiere manejo correcto de las expectativas."
   ]
  },
  {
   "cell_type": "markdown",
   "metadata": {},
   "source": [
    "<img src=\"assets/ml_system.png\" style=\"width:700px;\">"
   ]
  },
  {
   "cell_type": "markdown",
   "metadata": {},
   "source": [
    "## Machine Learning\n",
    "- Subarea de la inteligencia artificial donde el sistema aprende a encontrar patrones en los datos de ejemplo, tipicamente usando estadistica para hacer predicciones.\n",
    "- “Es el campo de estudio que le da a las computadoras la habilidad de aprender sin ser explícitamente programadas”\n",
    "Arthur Samuel, 1959. "
   ]
  },
  {
   "cell_type": "markdown",
   "metadata": {},
   "source": [
    "## Conceptos relacionados"
   ]
  },
  {
   "cell_type": "markdown",
   "metadata": {},
   "source": [
    "<img src=\"assets/bigdata_ml_ai.jpg\" style=\"width:600px;\">"
   ]
  },
  {
   "cell_type": "markdown",
   "metadata": {},
   "source": [
    "## Conceptos relacionados\n",
    "- **Inteligencia Artificial**: Computadoras emulando comportamientos humanos específicos.\n",
    "- **Big Data**: Disponibilidad de grandes volumenes de data y la capacidad de procesarlos.\n",
    "- **Machine Learning**: Predecir un comportamiento basado en métodos estadísticos, encontrando patrones.\n",
    "- **Deep Learning**: Subconjunto de  ML, sin necesidad de definir características pero requiere de mucho mayor volumen de datos.\n",
    "- **Bussiness Intelligence**: Orientado a medir y reportar eventos del pasado\n",
    "- **Data Science**: Transformar datos e hipotesis en información para la toma de decisiones o para predecir acciones.\n"
   ]
  },
  {
   "cell_type": "markdown",
   "metadata": {},
   "source": [
    "<img src=\"assets/data_science_ven_diagram.png\" style=\"width:600px;\">"
   ]
  },
  {
   "cell_type": "markdown",
   "metadata": {},
   "source": [
    "### Cuando usar Machine Learning?\n",
    "No es una solución para todo tipo de problemas.\n",
    "https://www.quora.com/What-can-machine-learning-do-and-cant-do\n",
    "\n",
    "**Situaciones típicas:**\n",
    "- No se puede codificar las reglas: demasiadas reglas y excepciones. \n",
    "- No es escalable: proceso manual tedioso.\n",
    "- Lo puede realizar una persona entrenada pero no requiere de un proceso creativo.\n",
    "\n",
    "**Si una persona no puede una máquina tampoco.**"
   ]
  },
  {
   "cell_type": "markdown",
   "metadata": {},
   "source": [
    "### Calidad de datos\n",
    "- **Completitud**  —  Tenemos toda la información necesaria\n",
    "- **Validez**  —  Es el tipo de datos correcto\n",
    "- **Precision**  —  Los datos reflejan precisamente los objetos que representan\n",
    "- **Integridad**  —  Las relaciones entre las entidades representadas son consistentes\n",
    "- **Consistencia**  —  Hay duplicados o inconsistencias dentro del sistema?\n",
    "- **Temporalidad** —  Los datos estan disponibles en el momento en el que se los requiere?"
   ]
  },
  {
   "cell_type": "markdown",
   "metadata": {},
   "source": [
    "### Modelo\n",
    "- Representación abstracta de la realidad\n",
    "- Es el artefacto entrenado, a partir del algoritmo de aprendizaje elegido y los datos provistos. \n",
    "- El modelo obtenido es quien se encarga luego de predecir sobre nuevas instancias de datos."
   ]
  },
  {
   "cell_type": "markdown",
   "metadata": {},
   "source": [
    "### Feature\n",
    "- Propiedad o característica mensurable de un objeto observado. \n",
    "- Permite distinguir un punto del conjunto de otro dentro del mismo.\n",
    "- La elección de features independientes, informativas y discriminantes es crucial para que los algoritmos de ML sean efectivos. \n",
    "- Feature engineering: combinación de arte y ciencia para obtener buenas features."
   ]
  },
  {
   "cell_type": "markdown",
   "metadata": {},
   "source": [
    "### Features numericas vs feature categoricas\n",
    "TBD"
   ]
  },
  {
   "cell_type": "markdown",
   "metadata": {},
   "source": [
    "### Entrenamiento\n",
    "- Proceso por el cual el model aprende a diferenciar cada registro, detectando patrones. \n",
    "- Requiere de un conjunto de datos de entrenamiento a partir del cual aprender. El modelo luego hará predicciones basado en lo que aprendió de este conjunto."
   ]
  },
  {
   "cell_type": "markdown",
   "metadata": {},
   "source": [
    "### Evaluación\n",
    "- Un modelo entrenado predice sobre nuevos datos basado en los ejemplos del conjunto de entrenamiento.\n",
    "- Para evaluar si un modelo es mejor que otro se definen métricas de performance del modelo sobre el conjunto de datos de evaluacion.\n",
    "- Los datos de evaluación deben ser representativos del problema y el objetivo."
   ]
  },
  {
   "cell_type": "markdown",
   "metadata": {},
   "source": [
    "<img src=\"assets/overfitting.png\" style=\"width:600px;\">"
   ]
  },
  {
   "cell_type": "markdown",
   "metadata": {},
   "source": [
    "## Métricas - KPIs\n",
    "Cómo defino el éxito de un proyecto de Machine Learning?\n",
    "\n",
    "Es importante que **SIEMPRE** el objetivo sea atado a mejorar un KPI del negocio.\n",
    "\n",
    "Si ML no está ligado a un KPI, es **“sólo”** ciencia.\n",
    "\n",
    "- Métricas Offline: performance del modelo. Error Cuadrático Medio (MSE) Precision, Recall, Accuracy. \n",
    "- Métricas Online:  atados a indicadores de negocio KPIs. CTR, Conversión\n"
   ]
  },
  {
   "cell_type": "markdown",
   "metadata": {},
   "source": [
    "## Aprendizaje Supervisado\n",
    "- Los datos de entrenamiento tienen una “etiqueta” validada por un humano. \n",
    "- Se conoce el valor de la variable a predecir al momento del entrenamiento.\n",
    "- Normalmente el conjunto de datos puede representarse como un vector: (x1, x2, .. , xn, Y)\n",
    "    - Donde xi es cada una de las features que representa a ese dato, Y es el valor de la variable a predecir."
   ]
  },
  {
   "cell_type": "markdown",
   "metadata": {},
   "source": [
    "### Clasificación\n",
    "\n",
    "- Determina a qué clase o categoría pertenece el dato.\n",
    "- Un sistema de clasificación puede distinguir entre 2 o mas clases.\n",
    "- Las clases son definidas basadas en los objetivos propuestos."
   ]
  },
  {
   "cell_type": "markdown",
   "metadata": {},
   "source": [
    "### Regresión\n",
    "Predice la relacion entre multiples variables cuando la variable objetivo predecir es un valor continuo.\n",
    "\n"
   ]
  },
  {
   "cell_type": "markdown",
   "metadata": {},
   "source": [
    "## Aprendizaje no supervisado\n",
    "Los datos de entrenamiento no poseen ningún tipo de etiqueta, el sistema debe aprender a ordenarlos en base a una función de distancia o similaridad.\n",
    "\n"
   ]
  },
  {
   "cell_type": "markdown",
   "metadata": {},
   "source": [
    "### Clustering\n",
    "- Encuentra relaciones entre los datos, tipicamente sin un conjunto de datos etiquetado.\n",
    "- Busca similaridad entre los ejemplos del conjunto de datos.\n",
    "- El sistema define sus \"propias\" categorias.\n"
   ]
  },
  {
   "cell_type": "markdown",
   "metadata": {},
   "source": [
    "### Tolerancia al error\n",
    "Existen determinadas problemáticas donde el error es tolerable y en otras no:\n",
    "- Baja tolerancia: \n",
    "    - Compra/venta de acciones\n",
    "    - Conducción autónoma\n",
    "- Tolerantes: \n",
    "    - Recomendar un producto\n",
    "    - Traducir un texto\n",
    "    - Personalización. \n"
   ]
  },
  {
   "cell_type": "markdown",
   "metadata": {},
   "source": [
    "### Fuentes de datos\n",
    "- Transaccionales: Compras, ventas, cotización de acciones en la bolsa, etc.\n",
    "- Conversacionales: chats, mails, grabaciones telefonicas.\n",
    "- Fotos y videos: subir a las redes sociales, etc.\n",
    "- Sensores: posicion del gps, acelerometro, etc.\n",
    "- IoT: smart tv, smart watch, alexa, etc.\n",
    "- registro de actividades: escuchar musica, leer un libro, buscar en google, comprar un artículo en un ecommerce (metadatos). \n"
   ]
  },
  {
   "cell_type": "markdown",
   "metadata": {},
   "source": [
    "### Tipos de datos\n",
    "- Texto \n",
    "- Imágenes\n",
    "- Sonido\n",
    "- Registros estructurados (Filas y columnas)\n",
    "- Registros semi estructurados (Documentos, Clave-Valor)\n"
   ]
  },
  {
   "cell_type": "markdown",
   "metadata": {},
   "source": [
    "### Procesamiento Lenguaje Natural NLP\n",
    "- Area especializada en texto\n",
    "- Inicialmente no se aplicaba ML.\n",
    "- Hoy en día gran parte de los proyectos de Data Science requieren manipulación de texto."
   ]
  },
  {
   "cell_type": "markdown",
   "metadata": {},
   "source": [
    "### Vision por computadoras\n",
    "- Area especializada en imágenes.\n",
    "- Inicialmente no se aplicaba ML.\n",
    "- En este campo surgió el boom de las redes neuronales."
   ]
  },
  {
   "cell_type": "markdown",
   "metadata": {},
   "source": [
    "### Forecasting\n",
    "- Utilizado para series de tiempo\n",
    "- Predice valores dado una secuencia."
   ]
  },
  {
   "cell_type": "markdown",
   "metadata": {},
   "source": [
    "### Garbage in, Garbage out\n",
    "**Si se entrena un modelo de ML con datos malos o poco representativos del universo, el output del modelo serán malas predicciones.**\n"
   ]
  },
  {
   "cell_type": "markdown",
   "metadata": {},
   "source": [
    "### Aplicaciones en Fintech\n",
    "- **Scoring Crediticio**: Predecir mora, adopción, cobranza y recompra.\n",
    "- **Pasarela de pagos**: Pre aprobación automáticas de pagos.\n",
    "- **Fraude**: Reducir contracargos."
   ]
  },
  {
   "cell_type": "markdown",
   "metadata": {},
   "source": [
    "### Soluciones de ML \n",
    "A partir de contestar estas preguntas podemos determinar si estamos ante una solución de ML:\n",
    "* ¿Estamos ayudando a encontrar lo correcto cuando nuestros usuarios buscan? **Ranking**.\n",
    "* ¿Damos a los usuarios cosas en las que podrían estar interesados? Incluso si no las están buscando. **Recomendaciones**.\n",
    "* ¿Averiguamos qué cosa es algo? **Clasificación**.\n",
    "* ¿Predecimos el valor numérico de algo? **Regresión**.\n",
    "* ¿Ponemos cosas similares juntas? **Clustering**.\n",
    "* ¿Encontramos cosas poco comunes? **Anomaly detection**."
   ]
  },
  {
   "cell_type": "markdown",
   "metadata": {},
   "source": [
    "### Ciclo de vida de un proyecto\n",
    "\n",
    "1. Definición de Objetivos\n",
    "2. Recolección de datos\n",
    "    - Es la etapa mas importante del proyecto\n",
    "    - Si los datos no son consumibles por un modelo hay que preprocesarlos\n",
    "    - Suele ser el 50/60% del tiempo del proyecto\n",
    "3. Construcción del modelo \n",
    "    - Analisis Exploratorio de : Estadistica descriptiva\n",
    "    - Hipotesis y Experimentación: método científico.\n",
    "    - Entrenamiento\n",
    "    - Evaluacion\n",
    "4. Puesta en producción.\n",
    "5. Monitoreo y retroalimentación.\n"
   ]
  },
  {
   "cell_type": "markdown",
   "metadata": {},
   "source": [
    "\n",
    "## Ejemplo: Precios de casas - Programación tradicional\n",
    "\n",
    "```python\n",
    "price = get_base_price()\n",
    "\n",
    "if num_bedrooms > 2:\n",
    "  price = price * 1.2\n",
    "\n",
    "if lot_size > 7000:\n",
    "  price = price * 1.1\n",
    "\n",
    "if waterfront:\n",
    "  price = price * 1.3\n",
    "\n",
    "if near_railroad:\n",
    "  price = price * 0.9\n",
    "```"
   ]
  },
  {
   "cell_type": "markdown",
   "metadata": {},
   "source": [
    "## Basado en reglas\n",
    "\n",
    "* Personas que desarrollan la lógica del flujo\n",
    "* Reglas del tipo If/then/else\n",
    "* Manejo de excepciones\n",
    "* Limitado al razonamiento humano\n",
    "* Expuesto al sesgo del que lo implementa"
   ]
  },
  {
   "cell_type": "markdown",
   "metadata": {},
   "source": [
    "## Machine Learning\n",
    "\n",
    "* Modelo entrenado con datos\n",
    "* Patrones emergentes en los datos\n",
    "* Proceso de hipotesis y experimentación, iterativo con refinamientos\n",
    "* Limitado al conjunto de datos de entrenamiento\n",
    "* Expuesto al sesgo del conjunto de datos"
   ]
  },
  {
   "cell_type": "markdown",
   "metadata": {},
   "source": [
    "## Scikit Learn\n",
    "- https://scikit-learn.org/stable/index.html\n",
    "- Librería mas popular en Python para Machine Learning\n",
    "- Gratis y Open source\n",
    "- Originalmente nace como un proyecto de investigación del INRIA.\n",
    "- Hoy en día es de las herramientas mas utilizadas en la industria."
   ]
  },
  {
   "cell_type": "markdown",
   "metadata": {},
   "source": [
    "### Veamos un poco de código!!"
   ]
  },
  {
   "cell_type": "code",
   "execution_count": 12,
   "metadata": {},
   "outputs": [
    {
     "name": "stdout",
     "output_type": "stream",
     "text": [
      "Requirement already satisfied: scikit-learn in /Users/awolfmann/miniconda3/envs/mkt/lib/python3.7/site-packages (0.23.2)\n",
      "Requirement already satisfied: scipy>=0.19.1 in /Users/awolfmann/miniconda3/envs/mkt/lib/python3.7/site-packages (from scikit-learn) (1.5.3)\n",
      "Requirement already satisfied: numpy>=1.13.3 in /Users/awolfmann/miniconda3/envs/mkt/lib/python3.7/site-packages (from scikit-learn) (1.16.4)\n",
      "Requirement already satisfied: threadpoolctl>=2.0.0 in /Users/awolfmann/miniconda3/envs/mkt/lib/python3.7/site-packages (from scikit-learn) (2.1.0)\n",
      "Requirement already satisfied: joblib>=0.11 in /Users/awolfmann/miniconda3/envs/mkt/lib/python3.7/site-packages (from scikit-learn) (0.17.0)\n"
     ]
    }
   ],
   "source": [
    "!pip install scikit-learn"
   ]
  },
  {
   "cell_type": "code",
   "execution_count": 3,
   "metadata": {},
   "outputs": [],
   "source": [
    "import pandas as pd\n",
    "import seaborn as sns\n",
    "import matplotlib.pyplot as plt"
   ]
  },
  {
   "cell_type": "code",
   "execution_count": 4,
   "metadata": {},
   "outputs": [
    {
     "data": {
      "text/html": [
       "<div>\n",
       "<style scoped>\n",
       "    .dataframe tbody tr th:only-of-type {\n",
       "        vertical-align: middle;\n",
       "    }\n",
       "\n",
       "    .dataframe tbody tr th {\n",
       "        vertical-align: top;\n",
       "    }\n",
       "\n",
       "    .dataframe thead th {\n",
       "        text-align: right;\n",
       "    }\n",
       "</style>\n",
       "<table border=\"1\" class=\"dataframe\">\n",
       "  <thead>\n",
       "    <tr style=\"text-align: right;\">\n",
       "      <th></th>\n",
       "      <th>Id</th>\n",
       "      <th>MSSubClass</th>\n",
       "      <th>MSZoning</th>\n",
       "      <th>LotFrontage</th>\n",
       "      <th>LotArea</th>\n",
       "      <th>Street</th>\n",
       "      <th>Alley</th>\n",
       "      <th>LotShape</th>\n",
       "      <th>LandContour</th>\n",
       "      <th>Utilities</th>\n",
       "      <th>...</th>\n",
       "      <th>PoolArea</th>\n",
       "      <th>PoolQC</th>\n",
       "      <th>Fence</th>\n",
       "      <th>MiscFeature</th>\n",
       "      <th>MiscVal</th>\n",
       "      <th>MoSold</th>\n",
       "      <th>YrSold</th>\n",
       "      <th>SaleType</th>\n",
       "      <th>SaleCondition</th>\n",
       "      <th>SalePrice</th>\n",
       "    </tr>\n",
       "  </thead>\n",
       "  <tbody>\n",
       "    <tr>\n",
       "      <th>0</th>\n",
       "      <td>1</td>\n",
       "      <td>60</td>\n",
       "      <td>RL</td>\n",
       "      <td>65.0</td>\n",
       "      <td>8450</td>\n",
       "      <td>Pave</td>\n",
       "      <td>NaN</td>\n",
       "      <td>Reg</td>\n",
       "      <td>Lvl</td>\n",
       "      <td>AllPub</td>\n",
       "      <td>...</td>\n",
       "      <td>0</td>\n",
       "      <td>NaN</td>\n",
       "      <td>NaN</td>\n",
       "      <td>NaN</td>\n",
       "      <td>0</td>\n",
       "      <td>2</td>\n",
       "      <td>2008</td>\n",
       "      <td>WD</td>\n",
       "      <td>Normal</td>\n",
       "      <td>208500</td>\n",
       "    </tr>\n",
       "    <tr>\n",
       "      <th>1</th>\n",
       "      <td>2</td>\n",
       "      <td>20</td>\n",
       "      <td>RL</td>\n",
       "      <td>80.0</td>\n",
       "      <td>9600</td>\n",
       "      <td>Pave</td>\n",
       "      <td>NaN</td>\n",
       "      <td>Reg</td>\n",
       "      <td>Lvl</td>\n",
       "      <td>AllPub</td>\n",
       "      <td>...</td>\n",
       "      <td>0</td>\n",
       "      <td>NaN</td>\n",
       "      <td>NaN</td>\n",
       "      <td>NaN</td>\n",
       "      <td>0</td>\n",
       "      <td>5</td>\n",
       "      <td>2007</td>\n",
       "      <td>WD</td>\n",
       "      <td>Normal</td>\n",
       "      <td>181500</td>\n",
       "    </tr>\n",
       "    <tr>\n",
       "      <th>2</th>\n",
       "      <td>3</td>\n",
       "      <td>60</td>\n",
       "      <td>RL</td>\n",
       "      <td>68.0</td>\n",
       "      <td>11250</td>\n",
       "      <td>Pave</td>\n",
       "      <td>NaN</td>\n",
       "      <td>IR1</td>\n",
       "      <td>Lvl</td>\n",
       "      <td>AllPub</td>\n",
       "      <td>...</td>\n",
       "      <td>0</td>\n",
       "      <td>NaN</td>\n",
       "      <td>NaN</td>\n",
       "      <td>NaN</td>\n",
       "      <td>0</td>\n",
       "      <td>9</td>\n",
       "      <td>2008</td>\n",
       "      <td>WD</td>\n",
       "      <td>Normal</td>\n",
       "      <td>223500</td>\n",
       "    </tr>\n",
       "    <tr>\n",
       "      <th>3</th>\n",
       "      <td>4</td>\n",
       "      <td>70</td>\n",
       "      <td>RL</td>\n",
       "      <td>60.0</td>\n",
       "      <td>9550</td>\n",
       "      <td>Pave</td>\n",
       "      <td>NaN</td>\n",
       "      <td>IR1</td>\n",
       "      <td>Lvl</td>\n",
       "      <td>AllPub</td>\n",
       "      <td>...</td>\n",
       "      <td>0</td>\n",
       "      <td>NaN</td>\n",
       "      <td>NaN</td>\n",
       "      <td>NaN</td>\n",
       "      <td>0</td>\n",
       "      <td>2</td>\n",
       "      <td>2006</td>\n",
       "      <td>WD</td>\n",
       "      <td>Abnorml</td>\n",
       "      <td>140000</td>\n",
       "    </tr>\n",
       "    <tr>\n",
       "      <th>4</th>\n",
       "      <td>5</td>\n",
       "      <td>60</td>\n",
       "      <td>RL</td>\n",
       "      <td>84.0</td>\n",
       "      <td>14260</td>\n",
       "      <td>Pave</td>\n",
       "      <td>NaN</td>\n",
       "      <td>IR1</td>\n",
       "      <td>Lvl</td>\n",
       "      <td>AllPub</td>\n",
       "      <td>...</td>\n",
       "      <td>0</td>\n",
       "      <td>NaN</td>\n",
       "      <td>NaN</td>\n",
       "      <td>NaN</td>\n",
       "      <td>0</td>\n",
       "      <td>12</td>\n",
       "      <td>2008</td>\n",
       "      <td>WD</td>\n",
       "      <td>Normal</td>\n",
       "      <td>250000</td>\n",
       "    </tr>\n",
       "  </tbody>\n",
       "</table>\n",
       "<p>5 rows × 81 columns</p>\n",
       "</div>"
      ],
      "text/plain": [
       "   Id  MSSubClass MSZoning  LotFrontage  LotArea Street Alley LotShape  \\\n",
       "0   1          60       RL         65.0     8450   Pave   NaN      Reg   \n",
       "1   2          20       RL         80.0     9600   Pave   NaN      Reg   \n",
       "2   3          60       RL         68.0    11250   Pave   NaN      IR1   \n",
       "3   4          70       RL         60.0     9550   Pave   NaN      IR1   \n",
       "4   5          60       RL         84.0    14260   Pave   NaN      IR1   \n",
       "\n",
       "  LandContour Utilities  ... PoolArea PoolQC Fence MiscFeature MiscVal MoSold  \\\n",
       "0         Lvl    AllPub  ...        0    NaN   NaN         NaN       0      2   \n",
       "1         Lvl    AllPub  ...        0    NaN   NaN         NaN       0      5   \n",
       "2         Lvl    AllPub  ...        0    NaN   NaN         NaN       0      9   \n",
       "3         Lvl    AllPub  ...        0    NaN   NaN         NaN       0      2   \n",
       "4         Lvl    AllPub  ...        0    NaN   NaN         NaN       0     12   \n",
       "\n",
       "  YrSold  SaleType  SaleCondition  SalePrice  \n",
       "0   2008        WD         Normal     208500  \n",
       "1   2007        WD         Normal     181500  \n",
       "2   2008        WD         Normal     223500  \n",
       "3   2006        WD        Abnorml     140000  \n",
       "4   2008        WD         Normal     250000  \n",
       "\n",
       "[5 rows x 81 columns]"
      ]
     },
     "execution_count": 4,
     "metadata": {},
     "output_type": "execute_result"
    }
   ],
   "source": [
    "df = pd.read_csv('clase8_train.csv')\n",
    "df.head()"
   ]
  },
  {
   "cell_type": "code",
   "execution_count": 9,
   "metadata": {},
   "outputs": [],
   "source": [
    "train_columns = ['YearRemodAdd', 'YearBuilt', 'TotRmsAbvGrd', 'FullBath', '1stFlrSF', 'GarageArea', 'TotalBsmtSF', \n",
    "                 'GarageCars','2ndFlrSF','GrLivArea','OverallQual']"
   ]
  },
  {
   "cell_type": "code",
   "execution_count": 10,
   "metadata": {},
   "outputs": [],
   "source": [
    "df_train = df[train_columns]"
   ]
  },
  {
   "cell_type": "code",
   "execution_count": 14,
   "metadata": {},
   "outputs": [],
   "source": [
    "from sklearn.model_selection import train_test_split\n",
    "\n",
    "X_train, X_test, y_train, y_test = train_test_split(df_train, df['SalePrice'])"
   ]
  },
  {
   "cell_type": "markdown",
   "metadata": {},
   "source": [
    "## Regresion Lineal\n",
    "Tiene un simple objetivo: encontrar una linea recta que mejor se ajuste al conjunto de datos."
   ]
  },
  {
   "cell_type": "markdown",
   "metadata": {},
   "source": [
    "!<img src=\"assets/linear_regression.png\" style=\"width:600px;\">"
   ]
  },
  {
   "cell_type": "code",
   "execution_count": 38,
   "metadata": {},
   "outputs": [],
   "source": [
    "from sklearn.linear_model import LinearRegression\n",
    "\n",
    "lr = LinearRegression()\n",
    "\n",
    "lr.fit(X_train, y_train)\n",
    "y_pred_lr = lr.predict(X_test)"
   ]
  },
  {
   "cell_type": "code",
   "execution_count": 17,
   "metadata": {},
   "outputs": [],
   "source": [
    "from sklearn.metrics import mean_squared_error, r2_score"
   ]
  },
  {
   "cell_type": "code",
   "execution_count": 39,
   "metadata": {},
   "outputs": [
    {
     "name": "stdout",
     "output_type": "stream",
     "text": [
      "Coefficients: \n",
      " [ 2.59634852e+02  2.32643767e+02  6.60217823e+01 -3.70329530e+03\n",
      "  5.45933986e+01  1.28046877e+01  1.91096753e+01  9.42768397e+03\n",
      "  3.65063037e+01  1.63257635e+01  2.13866540e+04]\n",
      "Mean squared error: 1338131749.72\n",
      "Coefficient of determination: 0.71\n"
     ]
    }
   ],
   "source": [
    "# The coefficients\n",
    "print('Coefficients: \\n', lr.coef_)\n",
    "# The mean squared error\n",
    "print('Mean squared error: %.2f'\n",
    "      % mean_squared_error(y_test, y_pred_lr))\n",
    "# The coefficient of determination: 1 is perfect prediction\n",
    "print('Coefficient of determination: %.2f'\n",
    "      % r2_score(y_test, y_pred_lr))"
   ]
  },
  {
   "cell_type": "markdown",
   "metadata": {},
   "source": [
    "## Arboles de decisión\n"
   ]
  },
  {
   "cell_type": "markdown",
   "metadata": {},
   "source": [
    "!<img src=\"assets/decision_tree.png\" style=\"width:600px;\">"
   ]
  },
  {
   "cell_type": "code",
   "execution_count": 45,
   "metadata": {},
   "outputs": [],
   "source": [
    "from sklearn.tree import DecisionTreeRegressor\n",
    "dtr = DecisionTreeRegressor()\n",
    "\n",
    "dtr.fit(X_train, y_train)\n",
    "y_pred_dtr = dtr.predict(X_test)"
   ]
  },
  {
   "cell_type": "code",
   "execution_count": 46,
   "metadata": {},
   "outputs": [
    {
     "name": "stdout",
     "output_type": "stream",
     "text": [
      "Mean squared error: 1704280566.22\n",
      "Coefficient of determination: 0.63\n"
     ]
    }
   ],
   "source": [
    "\n",
    "# The mean squared error\n",
    "print('Mean squared error: %.2f'\n",
    "      % mean_squared_error(y_test, y_pred_dtr))\n",
    "# The coefficient of determination: 1 is perfect prediction\n",
    "print('Coefficient of determination: %.2f'\n",
    "      % r2_score(y_test, y_pred_dtr))"
   ]
  },
  {
   "cell_type": "markdown",
   "metadata": {},
   "source": [
    "## Random Forest"
   ]
  },
  {
   "cell_type": "markdown",
   "metadata": {},
   "source": [
    "!<img src=\"assets/random_forest.png\" style=\"width:600px;\">"
   ]
  },
  {
   "cell_type": "code",
   "execution_count": 47,
   "metadata": {},
   "outputs": [],
   "source": [
    "from sklearn.ensemble import RandomForestRegressor\n",
    "rf = RandomForestRegressor()\n",
    "\n",
    "rf.fit(X_train, y_train)\n",
    "y_pred_rf = rf.predict(X_test)"
   ]
  },
  {
   "cell_type": "code",
   "execution_count": 48,
   "metadata": {},
   "outputs": [
    {
     "name": "stdout",
     "output_type": "stream",
     "text": [
      "Mean squared error: 1245550179.97\n",
      "Coefficient of determination: 0.73\n"
     ]
    }
   ],
   "source": [
    "# The mean squared error\n",
    "print('Mean squared error: %.2f'\n",
    "      % mean_squared_error(y_test, y_pred_rf))\n",
    "# The coefficient of determination: 1 is perfect prediction\n",
    "print('Coefficient of determination: %.2f'\n",
    "      % r2_score(y_test, y_pred_rf))"
   ]
  },
  {
   "cell_type": "code",
   "execution_count": null,
   "metadata": {},
   "outputs": [],
   "source": [
    "Scikit Learn: Estimadores, Transformadores, Pipeline, Metricas"
   ]
  },
  {
   "cell_type": "markdown",
   "metadata": {},
   "source": [
    "# Estimators\n",
    "\n",
    "```python\n",
    "from sklearn.datasets import make_regression\n",
    "from sklearn.linear_model import LinearRegression\n",
    "\n",
    "regression = LinearRegression()\n",
    "regression.fit(features, targets)\n",
    "predictions = regression.predict(features)\n",
    "```\n",
    "\n",
    "La mayor parte de los modelos en scikit learn son considerados estimadores. Un estimador dispone de 2 metodos: fit y predict.\n",
    "* Fit se usa para entrenar al modelo, se les pasa el conjunto de datos representado por features y en el caso de aprendizaje supervisado la variable a predecir.\n",
    "* Predict se utiliza para obterner las predicciones. Al llamarlo de le pasa un conjunto de datos representado de la misma forma que al momento de entrenar el modelo \n",
    "\n"
   ]
  },
  {
   "cell_type": "markdown",
   "metadata": {},
   "source": [
    "\n",
    "# Transformers\n",
    "\n",
    "```python\n",
    "from sklearn.preprocessing import MinMaxScaler\n",
    "\n",
    "transformer = MinMaxScaler()\n",
    "transformer.fit(features)\n",
    "features = transformer.transform(features)\n",
    "```\n",
    "\n",
    "En la práctica es muy raro que los datos lleguen perfectamente limpios para ser ingestados por un modelo. Para limpiarlos y hacer el preprocesamiento se utilizan los transformadores antes de llamar a un estimador para que sea entrenado.\n",
    "\n",
    "Transformers tienen 2 metodoso fit y transform. \n",
    "Fit calcula lo parámetros necesarios para hacer la transformación.\n",
    "Transform es el que aplica realmente la transformación.\n",
    "Existe el fit_transform que aplica ambos métodos en la misma llamada.\n"
   ]
  },
  {
   "cell_type": "markdown",
   "metadata": {},
   "source": [
    "\n",
    "# Pipelines\n",
    "```python\n",
    "from sklearn.pipeline import Pipeline\n",
    "\n",
    "features, targets = make_regression(\n",
    "  n_samples=10, n_features=1, \n",
    "  random_state=42, noise=5.0\n",
    ")\n",
    "\n",
    "pipeline = Pipeline([\n",
    "  ('scale', MinMaxScaler()),\n",
    "  ('regression', LinearRegression())\n",
    "])\n",
    "\n",
    "pipeline.fit(features, targets)\n",
    "\n",
    "predictions = pipeline.predict(features)\n",
    "```\n",
    "\n",
    "No es coincidencia que los transformadores tengan un fit y transform, y que los modelos tengan un fit.\n",
    "Esta interface comun a todas las clases permite a Scikit learn armar flujos compuestos por procesamiento de datos y construcción de modelos.\n",
    "Un Pipeline es simplemente una serie de transformadores con un estimador al final.\n"
   ]
  },
  {
   "cell_type": "markdown",
   "metadata": {},
   "source": [
    "\n",
    "# Metrics\n",
    "\n",
    "```python \n",
    "from sklearn.metrics import mean_squared_error\n",
    "\n",
    "mean_squared_error(targets, predictions)\n",
    "```\n",
    "\n",
    "Scikit-learn  provee muchas funciones para medir la performance del modelo dentro del paquete de metricas.\n"
   ]
  },
  {
   "cell_type": "markdown",
   "metadata": {},
   "source": [
    "## Conferencias / Meetups\n",
    "- En córdoba se está desarrollando un ecosistema muy interesante.\n",
    "- Conferencias: PyData, JAIIO, etc.\n",
    "- Meetups: Data Science meetups.\n",
    "- Competencias online: Kaggle.\n",
    "- **Stack Overflow** https://stackoverflow.com/ Es la wikipedia de todo programador. Aprender a googlear."
   ]
  },
  {
   "cell_type": "code",
   "execution_count": null,
   "metadata": {},
   "outputs": [],
   "source": []
  }
 ],
 "metadata": {
  "kernelspec": {
   "display_name": "Python 3",
   "language": "python",
   "name": "python3"
  },
  "language_info": {
   "codemirror_mode": {
    "name": "ipython",
    "version": 3
   },
   "file_extension": ".py",
   "mimetype": "text/x-python",
   "name": "python",
   "nbconvert_exporter": "python",
   "pygments_lexer": "ipython3",
   "version": "3.7.3"
  }
 },
 "nbformat": 4,
 "nbformat_minor": 4
}
