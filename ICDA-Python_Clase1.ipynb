{
 "cells": [
  {
   "cell_type": "markdown",
   "metadata": {},
   "source": [
    "<img src=\"socalo-ICDA.png\">"
   ]
  },
  {
   "cell_type": "markdown",
   "metadata": {},
   "source": [
    "# Python para Finanzas y Ciencia de Datos\n",
    "Federico Brun | fedejbrun@gmail.com\n",
    "\n",
    "_Jueves 03 Septiembre 2020_"
   ]
  },
  {
   "cell_type": "markdown",
   "metadata": {},
   "source": [
    "## Introducción a Python\n"
   ]
  },
  {
   "cell_type": "code",
   "execution_count": null,
   "metadata": {},
   "outputs": [],
   "source": [
    "course_name = \"Python Para Finanzas y Ciencia de Datos\"\n",
    "course_calendar = ['03-09: Introduccion a Python',\n",
    "                   '10-09: Sintaxis del Lenguaje',\n",
    "                   '17-09: Estructuras de Datos',\n",
    "                   '24-09: Terminar de definir']"
   ]
  },
  {
   "cell_type": "markdown",
   "metadata": {},
   "source": [
    "###### Impresión en consola"
   ]
  },
  {
   "cell_type": "code",
   "execution_count": null,
   "metadata": {},
   "outputs": [],
   "source": [
    "print(\"Bienvenidos al curso {}\".format(course_name))"
   ]
  },
  {
   "cell_type": "code",
   "execution_count": null,
   "metadata": {},
   "outputs": [],
   "source": [
    "print(\"El cronograma del curso es el siguiente:\")\n",
    "\n",
    "for class_day in course_calendar:\n",
    "    print(\"Jueves \" + class_day)"
   ]
  },
  {
   "cell_type": "markdown",
   "metadata": {},
   "source": [
    "###### Control de flujo y condicionales"
   ]
  },
  {
   "cell_type": "code",
   "execution_count": null,
   "metadata": {},
   "outputs": [],
   "source": [
    "if len(course_calendar) < 5:\n",
    "    print(\"El anterior cronograma no incluye los contenidos del modulo 2\")\n",
    "else:\n",
    "    print(\"El anterior cronograma no incluye los contenidos del modulo 2\")"
   ]
  },
  {
   "cell_type": "code",
   "execution_count": null,
   "metadata": {},
   "outputs": [],
   "source": [
    "x = 100\n",
    "y = 21\n",
    "print(x + y)    # Suma\n",
    "print(x - y)    # Resta\n",
    "print(x * y)    # Multiplicación\n",
    "print(x / y)    # División \n",
    "print(4 * y)    # División\n",
    "print(x % y)    # Módulo\n",
    "print(x ** 2)   # Exponente\n",
    "print(x // y)   # División Floor \n",
    "print(x == y)   # Igualdad\n",
    "print(x != y)   # Diferencia\n",
    "print(x >= y)   # Mayor o igual \n",
    "print(x <= y)   # Menor o igual"
   ]
  },
  {
   "cell_type": "code",
   "execution_count": null,
   "metadata": {},
   "outputs": [],
   "source": [
    "a = 200\n",
    "b = 33\n",
    "if b > a:\n",
    "  print(\"b is greater than a\")\n",
    "elif a == b:\n",
    "  print(\"a and b are equal\")\n",
    "else:\n",
    "  print(\"a is greater than b\")"
   ]
  },
  {
   "cell_type": "markdown",
   "metadata": {},
   "source": [
    "###### Comentarios"
   ]
  },
  {
   "cell_type": "code",
   "execution_count": null,
   "metadata": {},
   "outputs": [],
   "source": [
    "\"\"\"\n",
    "    Todo lo que se encuentra contenido entre tres comillas dobles\n",
    "    es un comentario de bloque, orientado a la documentacion de\n",
    "    codigo. (PYDOC)\n",
    "\"\"\"\n",
    "\n",
    "# Tambien puedo escribir comentarios de una sola linea\n",
    "\n",
    "'''\n",
    "   Documentar nuestro codigo es una muy buena practica para hacerlo\n",
    "   mantenible.\n",
    "'''\n",
    "\n",
    "print(\"Los comentarios son ignorados por el interprete\")\n"
   ]
  },
  {
   "cell_type": "markdown",
   "metadata": {},
   "source": [
    "###### Algunos tipos de variables"
   ]
  },
  {
   "cell_type": "code",
   "execution_count": null,
   "metadata": {},
   "outputs": [],
   "source": [
    "# Logicas o booleanas\n",
    "my_true = True\n",
    "my_false = False\n",
    "\n",
    "# Numeros\n",
    "my_int = 10\n",
    "my_float = 15.789\n",
    "\n",
    "# Texto\n",
    "my_string = \"Esto es una cadena\"\n",
    "my_char = 'p'\n",
    "\n",
    "# Sequencia o colecciones de datos\n",
    "my_list = [\"esto\", \"es \", \"una\", \"lista\"]\n",
    "my_tuple = (\"esto\", \"es \", \"una\", \"tupla\")\n",
    "\n",
    "# De mapeo\n",
    "my_dict = {\n",
    "    'clave1': 'valor1',\n",
    "    'clave2': 'valor2',\n",
    "    'clave3': 'valor3'\n",
    "}"
   ]
  },
  {
   "cell_type": "markdown",
   "metadata": {},
   "source": [
    "###### Iteraciones simples"
   ]
  },
  {
   "cell_type": "code",
   "execution_count": null,
   "metadata": {},
   "outputs": [],
   "source": [
    "i = 1\n",
    "while i < 6:\n",
    "  print(i)\n",
    "  i += 1 "
   ]
  },
  {
   "cell_type": "code",
   "execution_count": null,
   "metadata": {},
   "outputs": [],
   "source": [
    "for x in range(6):\n",
    "    print(x)"
   ]
  },
  {
   "cell_type": "markdown",
   "metadata": {},
   "source": [
    "###### Funciones"
   ]
  },
  {
   "cell_type": "code",
   "execution_count": null,
   "metadata": {},
   "outputs": [],
   "source": [
    "def my_function(class_day):\n",
    "    print(\"Estamos en la {}º clase del curso de\".format(class_day))\n",
    "    print(\"Python para Fianzas y Ciencia de Datos\")"
   ]
  },
  {
   "cell_type": "code",
   "execution_count": null,
   "metadata": {},
   "outputs": [],
   "source": [
    "my_function(1)"
   ]
  },
  {
   "cell_type": "markdown",
   "metadata": {},
   "source": [
    "## Algunos ejemplos mas avanzados"
   ]
  },
  {
   "cell_type": "markdown",
   "metadata": {},
   "source": [
    "### Descripción de Datos.\n",
    "\n",
    "+ **Conceptos:**\n",
    "    + **Estadística Descriptiva**:  presentación de la información de una forma clara, ordenada y sistematizada que permita a al observador tener una visión más precisa del problema que se tiene en frente.\n",
    "    \n",
    "    + **Inferencia Estadística**: busca extraer conclusiones respecto de el comportamiento de una o varias **variables** en una **población** a partir del estudio de una pequeña porción de dicha población, llamada **muestra**.\n",
    "    \n",
    "    + **Tipos de Datos:** *Cualitativos* vs *Cuantitativos*. \n",
    "    \n",
    "    + **Parámetros poblacionales** vs **Estimadores**. \n",
    "    \n",
    "    + **Variable Aleatoria (Va)**.    \n",
    "        + A) Cualitativas o Categóricas.\n",
    "        + B )Cuantitativas: a) Discretas; b) Continuas."
   ]
  },
  {
   "cell_type": "code",
   "execution_count": null,
   "metadata": {},
   "outputs": [],
   "source": [
    "#Librerías\n",
    "import statistics as sts\n",
    "import pandas as pd #https://es.wikipedia.org/wiki/Pandas\n",
    "import numpy as np #https://es.wikipedia.org/wiki/NumPy\n",
    "from patsy import dmatrices\n",
    "import statsmodels.api as sm #https://www.statsmodels.org/stable/datasets/statsmodels.datasets.get_rdataset.html"
   ]
  },
  {
   "cell_type": "markdown",
   "metadata": {},
   "source": [
    "Descargamos el conjunto de *Duncan's Occupational Prestige Data*. Descripción: datos sobre el prestigio y otras características de 45 ocupaciones estadounidenses en 1950. El data frame tiene 45 filas y 4 columnas."
   ]
  },
  {
   "cell_type": "code",
   "execution_count": null,
   "metadata": {},
   "outputs": [],
   "source": [
    "# Datos\n",
    "df = sm.datasets.get_rdataset(\"Duncan\", \"carData\").data"
   ]
  },
  {
   "cell_type": "code",
   "execution_count": null,
   "metadata": {},
   "outputs": [],
   "source": [
    "df.describe()"
   ]
  },
  {
   "cell_type": "code",
   "execution_count": null,
   "metadata": {},
   "outputs": [],
   "source": [
    "df.headd()"
   ]
  },
  {
   "cell_type": "code",
   "execution_count": null,
   "metadata": {},
   "outputs": [],
   "source": [
    "df_tf = df.groupby('type').count()\n",
    "df_tf['Frecuencia relativa'] = round(df_tf['income']/len(df),3)\n",
    "df_tf.drop(['education', 'prestige'],axis=1,inplace=True)\n",
    "df_tf['Frecuencia acumulada'] = round(df_tf['Frecuencia relativa'].cumsum(),3)\n",
    "df_tf"
   ]
  },
  {
   "cell_type": "code",
   "execution_count": null,
   "metadata": {},
   "outputs": [],
   "source": [
    "import plotly.express as px "
   ]
  },
  {
   "cell_type": "code",
   "execution_count": null,
   "metadata": {},
   "outputs": [],
   "source": [
    "fig = px.bar(df.sort_values(by='income', ascending=False), x=df.sort_values(by='income', ascending=False).index, y='income')\n",
    "fig.update_layout(\n",
    "    title=\"Gráfico de barras (variables cualitativas)\",\n",
    "    xaxis_title=\"Ocupaciones\",\n",
    "    yaxis_title=\"Ingreso\",\n",
    "    font=dict(\n",
    "        family=\"Arial, monospace\",\n",
    "        size=12,\n",
    "        color=\"#7f7f7f\"\n",
    "    )\n",
    ")\n",
    "fig.show()"
   ]
  },
  {
   "cell_type": "code",
   "execution_count": null,
   "metadata": {},
   "outputs": [],
   "source": [
    "fig = px.bar(df.groupby('type').mean().sort_values(by='income', ascending=False), \n",
    "             x=df.groupby('type').mean().sort_values(by='income', ascending=False).index, y='income')\n",
    "fig.update_layout(\n",
    "    title=\"Gráfico de barras (variables cualitativas)\",\n",
    "    xaxis_title=\"Ocupaciones Agrupadas\",\n",
    "    yaxis_title=\"Ingreso\",\n",
    "    font=dict(\n",
    "        family=\"Arial, monospace\",\n",
    "        size=12,\n",
    "        color=\"#7f7f7f\"\n",
    "    )\n",
    ")\n",
    "fig.show()"
   ]
  },
  {
   "cell_type": "code",
   "execution_count": null,
   "metadata": {},
   "outputs": [],
   "source": [
    "fig = px.histogram(df, x=\"prestige\",nbins=11)\n",
    "fig.update_layout(\n",
    "    title=\"Histograma (variables cuantitativas)\",\n",
    "    xaxis_title=\"Prestigio\",\n",
    "    yaxis_title=\"Fecuencia\",\n",
    "    font=dict(\n",
    "        family=\"Arial, monospace\",\n",
    "        size=12,\n",
    "        color=\"#7f7f7f\"\n",
    "    )\n",
    ")\n",
    "fig.update_traces(opacity=1.00)\n",
    "fig.show()"
   ]
  },
  {
   "cell_type": "code",
   "execution_count": null,
   "metadata": {},
   "outputs": [],
   "source": [
    "fig = px.histogram(df, x=\"education\", color=\"type\",nbins=11)\n",
    "fig.update_layout(\n",
    "    title=\"Histograma (variables cuantitativas)\",\n",
    "    xaxis_title=\"Education\",\n",
    "    yaxis_title=\"Fecuencia\",\n",
    "    font=dict(\n",
    "        family=\"Arial, monospace\",\n",
    "        size=12,\n",
    "        color=\"#7f7f7f\"\n",
    "    )\n",
    ")\n",
    "fig.update_traces(opacity=0.75)\n",
    "fig.show()"
   ]
  },
  {
   "cell_type": "code",
   "execution_count": null,
   "metadata": {},
   "outputs": [],
   "source": [
    "fig = px.scatter(df, x=\"education\", y=\"income\", size=\"prestige\", color=\"type\", hover_name=df.index,\n",
    "            size_max=50)\n",
    "fig.update_layout(\n",
    "    title=\"Scatter Plot\",\n",
    "    xaxis_title=\"Education\",\n",
    "    yaxis_title=\"Income\",\n",
    "    font=dict(\n",
    "        family=\"Arial, monospace\",\n",
    "        size=12,\n",
    "        color=\"#7f7f7f\"\n",
    "    )\n",
    ")\n",
    "fig.show()"
   ]
  },
  {
   "cell_type": "code",
   "execution_count": null,
   "metadata": {},
   "outputs": [],
   "source": [
    "fig = px.scatter(df, x=\"education\", y=\"income\", color=\"type\", marginal_y=\"box\",\n",
    "           marginal_x=\"box\", trendline=\"ols\")\n",
    "fig.update_layout(\n",
    "    title=\"Scatter Plot y Box Plots\",\n",
    "    xaxis_title=\"Education\",\n",
    "    yaxis_title=\"Income\",\n",
    "    font=dict(\n",
    "        family=\"Arial, monospace\",\n",
    "        size=12,\n",
    "        color=\"#7f7f7f\"\n",
    "    )\n",
    ")\n",
    "fig.show()"
   ]
  },
  {
   "cell_type": "markdown",
   "metadata": {},
   "source": [
    "**Medidas de Posición Central**\n",
    "\n",
    "a. **moda**\n",
    "\n",
    "b. **mediana**\n",
    "\n",
    "c. **media aritmética:** \n",
    "    \n",
    "$ \\mu_x=\\frac{1}{N}\\sum_{i=1}^{N}X_i $ (media poblacional).\n",
    "            \n",
    "$ \\bar{X} = \\frac{1}{n}\\sum_{i=1}^{n}X_i $ (media muestral)."
   ]
  },
  {
   "cell_type": "markdown",
   "metadata": {},
   "source": [
    "**Medidas de Dispersión**\n",
    "\n",
    "a. **Varianza:** \n",
    "    \n",
    "$ \\sigma^2 = \\frac{\\sum_{i=1}^{N}(X_i-\\bar{X})^2}{N} $ (varianza poblacional).\n",
    "        \n",
    "$ S^2 = \\frac{\\sum_{i=1}^{n}(X_i-\\bar{X})^2}{n-1} $ (varianza muestral).\n",
    "        \n",
    "        \n",
    "b. **Rango, Rango intercuartil**\n",
    "\n",
    "c. **Coeficiente de Variación**"
   ]
  },
  {
   "cell_type": "code",
   "execution_count": null,
   "metadata": {},
   "outputs": [],
   "source": [
    "df_stats = pd.DataFrame(round(df.describe(),2))\n",
    "df_stats"
   ]
  },
  {
   "cell_type": "markdown",
   "metadata": {},
   "source": [
    "**Medidas de Asimetría**\n",
    "\n",
    "a. **coeficiente de asimetría de Fisher:** \n",
    "\n",
    "$ \\gamma_1 = \\frac{\\mu_3}{\\sigma^3} =  \\frac{\\sum_{i=1}^{N}(X_i-\\mu)^3}{N\\sigma^3}$\n",
    "\n",
    "donde $ \\mu _{3}$ es el tercer momento en torno a la media y $\\sigma$ es la desviación estándar.\n",
    "\n",
    "Si $\\gamma _{1}>0$, la distribución es asimétrica positiva o a la derecha.\n",
    "\n",
    "Si $\\gamma _{1}<0$, la distribución es asimétrica negativa o a la izquierda.\n"
   ]
  },
  {
   "cell_type": "code",
   "execution_count": null,
   "metadata": {},
   "outputs": [],
   "source": [
    "s = round(pd.DataFrame(df.skew(), columns=['Skew']).T,2)\n",
    "df_stats = df_stats.append(s)       \n",
    "df_stats"
   ]
  },
  {
   "cell_type": "markdown",
   "metadata": {},
   "source": [
    "## Analisis de ADRs argentinas\n"
   ]
  },
  {
   "cell_type": "code",
   "execution_count": null,
   "metadata": {},
   "outputs": [],
   "source": [
    "import pandas as pd\n",
    "import numpy as np\n",
    "from datetime import datetime"
   ]
  },
  {
   "cell_type": "code",
   "execution_count": null,
   "metadata": {},
   "outputs": [],
   "source": [
    "t_0 = datetime(1990, 1,1, 21, 0).timestamp() #Starting Date\n",
    "t_end =  datetime.now() #End Date\n",
    "t_end = datetime(t_end.year, t_end.month, t_end.day, 21, 0).timestamp()\n",
    "\n",
    "## Grupo Financiero Galicia S.A. (GGAL)\n",
    "Ticker = 'GGAL'  #Ticker\n",
    "url = 'https://query1.finance.yahoo.com/v7/finance/download/'+ Ticker +'?period1='+str(int(t_0))+'&period2='+ str(int(t_end)) +'&interval=1d&events=history.csv'\n",
    "#url = 'https://query1.finance.yahoo.com/v7/finance/download/GGAL?period1=1432425600&period2=1590278400&interval=1d&events=history'\n",
    "df_ggal = pd.read_csv(url)\n",
    "df_ggal.set_index('Date', inplace=True)\n",
    "\n",
    "## Banco Macro S.A. (BMA)\n",
    "Ticker = 'BMA'  #Ticker\n",
    "url = 'https://query1.finance.yahoo.com/v7/finance/download/'+ Ticker +'?period1='+str(int(t_0))+'&period2='+ str(int(t_end)) +'&interval=1d&events=history.csv'\n",
    "df_bma = pd.read_csv(url)\n",
    "df_bma.set_index('Date', inplace=True)\n",
    "\n",
    "## Grupo Supervielle S.A. (SUPV)\n",
    "Ticker = 'SUPV'  #Ticker\n",
    "url = 'https://query1.finance.yahoo.com/v7/finance/download/'+ Ticker +'?period1='+str(int(t_0))+'&period2='+ str(int(t_end)) +'&interval=1d&events=history.csv'\n",
    "df_supv = pd.read_csv(url)\n",
    "df_supv.set_index('Date', inplace=True)"
   ]
  },
  {
   "cell_type": "code",
   "execution_count": null,
   "metadata": {},
   "outputs": [],
   "source": [
    "df = pd.concat([df_ggal['Close'].round(2), df_bma['Close'].round(2), df_supv['Close'].round(2)], axis=1, join='inner')\n",
    "df.columns = ['GGAL USD', 'BMA USD',  'SUPV USD']\n",
    "df"
   ]
  },
  {
   "cell_type": "code",
   "execution_count": null,
   "metadata": {},
   "outputs": [],
   "source": [
    "# conda install \"notebook>=5.3\" \"ipywidgets>=7.2\" \n",
    "\n",
    "import plotly.graph_objects as go\n",
    "import plotly.express as px\n",
    "from plotly.subplots import make_subplots\n",
    "import plotly.figure_factory as ff"
   ]
  },
  {
   "cell_type": "markdown",
   "metadata": {},
   "source": [
    "###### Series de tiempo"
   ]
  },
  {
   "cell_type": "code",
   "execution_count": null,
   "metadata": {},
   "outputs": [],
   "source": [
    "fig = make_subplots(rows=2, cols=3)\n",
    "\n",
    "fig.update_layout(height=700, width=950)\n",
    "\n",
    "fig.layout.title.text = \"Fig.: Acciones Bancarias Argentinas (Precios en USD y retornos diarios en %)\"\n",
    "#GGAL\n",
    "fig.add_scatter(\n",
    "    x= df.index,\n",
    "    y =df['GGAL USD'] ,\n",
    "    name='GGAL',\n",
    "    yaxis='y1',\n",
    "    line = dict(color = 'black'),\n",
    "    showlegend=False,\n",
    "    row=1, col=1\n",
    ")\n",
    "fig.add_scatter(\n",
    "    x= df.index,\n",
    "    y =df['GGAL USD'].pct_change()*100 ,\n",
    "    name='GGAL',\n",
    "    yaxis='y1',\n",
    "    line = dict(color = 'black'),\n",
    "    showlegend=False,\n",
    "    row=2, col=1\n",
    ")\n",
    "\n",
    "#BMA\n",
    "fig.add_scatter(\n",
    "    x= df.index,\n",
    "    y =df['BMA USD'] ,\n",
    "    name='BMA',\n",
    "    yaxis='y1',\n",
    "    line = dict(color = 'blue'),\n",
    "    showlegend=False,\n",
    "    row=1, col=2\n",
    ")\n",
    "fig.add_scatter(\n",
    "    x= df.index,\n",
    "    y =df['BMA USD'].pct_change()*100 ,\n",
    "    name='BMA',\n",
    "    yaxis='y1',\n",
    "    line = dict(color = 'blue'),\n",
    "    showlegend=False,\n",
    "    row=2, col=2\n",
    ")\n",
    "\n",
    "#SUPV\n",
    "fig.add_scatter(\n",
    "    x= df.index,\n",
    "    y =df['SUPV USD'] ,\n",
    "    name='SUPV',\n",
    "    yaxis='y1',\n",
    "    line = dict(color = 'red'),\n",
    "    showlegend=False,\n",
    "    row=1, col=3\n",
    ")\n",
    "fig.add_scatter(\n",
    "    x= df.index,\n",
    "    y =df['SUPV USD'].pct_change()*100 ,\n",
    "    name='SUPV',\n",
    "    yaxis='y1',\n",
    "    line = dict(color = 'red'),\n",
    "    showlegend=False,\n",
    "    row=2, col=3\n",
    ")\n",
    "\n",
    "fig.update_layout(showlegend=False)\n",
    "\n",
    "fig.update_yaxes(title_text='GGAL daily prices in USD',title_font=dict(size=14, family='arial', color='black'),row=1, col=1)\n",
    "fig.update_yaxes(title_text='BMA daily prices in USD',title_font=dict(size=14, family='arial', color='blue'),row=1, col=2)\n",
    "fig.update_yaxes(title_text='SUPV daily prices in USD',title_font=dict(size=14, family='arial', color='red'),row=1, col=3)\n",
    "\n",
    "\n",
    "fig.update_yaxes(title_text='GGAL daily return %',title_font=dict(size=14, family='arial', color='black'),row=2, col=1)\n",
    "fig.update_yaxes(title_text='BMA daily return %',title_font=dict(size=14, family='arial', color='blue'),row=2, col=2)\n",
    "fig.update_yaxes(title_text='SUPV daily return %',title_font=dict(size=14, family='arial', color='red'),row=2, col=3)"
   ]
  },
  {
   "cell_type": "markdown",
   "metadata": {},
   "source": [
    "###### Scatterplot Matrix"
   ]
  },
  {
   "cell_type": "code",
   "execution_count": null,
   "metadata": {},
   "outputs": [],
   "source": [
    "fig = make_subplots(rows=1, cols=2)\n",
    "\n",
    "fig.update_layout(height=900, width=1700)\n",
    "\n",
    "fig.layout.title.text = \"Fig.: Scatter Plots Acciones Bancarias Argentinas (Precios en USD y retornos diarios en %)\"\n",
    "\n",
    "fig.add_scatter(\n",
    "    x= df['BMA USD'],\n",
    "    y =df['GGAL USD'] ,\n",
    "    name='GGAL-BMA',\n",
    "    yaxis='y1',\n",
    "    mode='markers',\n",
    "    marker=dict(size=8, color='black'),\n",
    "    row=1, col=1\n",
    ")\n",
    "\n",
    "fig.add_scatter(\n",
    "    x= df['BMA USD'],\n",
    "    y =df['SUPV USD'] ,\n",
    "    name='SUPV-BMA',\n",
    "    yaxis='y1',\n",
    "    mode='markers',\n",
    "    marker=dict(size=8, color='red'),\n",
    "    row=1, col=1\n",
    ")\n",
    "\n",
    "fig.add_scatter(\n",
    "    x= df['BMA USD'].pct_change()*100,\n",
    "    y =df['GGAL USD'].pct_change()*100 ,\n",
    "    name='GGAL-BMA',\n",
    "    yaxis='y1',\n",
    "    mode='markers',\n",
    "    marker=dict(size=8, color='black'),\n",
    "    showlegend=False,\n",
    "    row=1, col=2\n",
    ")\n",
    "\n",
    "fig.add_scatter(\n",
    "    x= df['BMA USD'].pct_change()*100,\n",
    "    y =df['SUPV USD'].pct_change()*100 ,\n",
    "    name='SUPV',\n",
    "    yaxis='y1',\n",
    "    mode='markers',\n",
    "    marker=dict(size=8, color='red'),\n",
    "    showlegend=False,\n",
    "    row=1, col=2\n",
    ")\n",
    "\n",
    "fig.update_layout(legend=dict(x=.46, y=1))\n",
    "\n",
    "fig.update_xaxes(title_text='BMA daily prices in USD',row=1, col=1)\n",
    "fig.update_xaxes(title_text='BMA daily return %',row=1, col=2)\n",
    "\n",
    "fig.update_yaxes(title_text='GGAL and SUPV daily prices in USD',row=1, col=1)\n",
    "fig.update_yaxes(title_text='GGAL and SUPV daily return %',row=1, col=2)\n",
    "\n"
   ]
  },
  {
   "cell_type": "markdown",
   "metadata": {},
   "source": [
    "###### Correlation Heatmap"
   ]
  },
  {
   "cell_type": "code",
   "execution_count": null,
   "metadata": {},
   "outputs": [],
   "source": [
    "print( np.around(df.corr(), decimals=2))\n",
    "\n",
    "fig = make_subplots(rows=1, cols=1)\n",
    "\n",
    "fig.update_layout(height=400, width=800)\n",
    "\n",
    "fig.layout.title.text = \"Fig.: Correlation Heatmap para precios\"\n",
    "\n",
    "fig.add_heatmap(\n",
    "    z=df.corr(),\n",
    "    x=['GGAL', 'BMA', 'SUPV'],\n",
    "    y=['GGAL', 'BMA', 'SUPV'],\n",
    "    hoverongaps = False,\n",
    "    colorscale = 'Viridis' \n",
    ")\n",
    "\n",
    "fig.show()"
   ]
  },
  {
   "cell_type": "markdown",
   "metadata": {},
   "source": [
    "## El PODER de Python para la visualizacion de datos"
   ]
  },
  {
   "cell_type": "code",
   "execution_count": null,
   "metadata": {},
   "outputs": [],
   "source": [
    "# Import data\n",
    "import time\n",
    "import numpy as np\n",
    "\n",
    "# conda install -c anaconda scikit-image\n",
    "from skimage import io\n",
    "\n",
    "vol = io.imread(\"https://s3.amazonaws.com/assets.datacamp.com/blog_assets/attention-mri.tif\")\n",
    "volume = vol.T\n",
    "r, c = volume[0].shape\n",
    "\n",
    "# Define frames\n",
    "import plotly.graph_objects as go\n",
    "nb_frames = 68\n",
    "\n",
    "fig = go.Figure(frames=[go.Frame(data=go.Surface(\n",
    "    z=(6.7 - k * 0.1) * np.ones((r, c)),\n",
    "    surfacecolor=np.flipud(volume[67 - k]),\n",
    "    cmin=0, cmax=200\n",
    "    ),\n",
    "    name=str(k) # you need to name the frame for the animation to behave properly\n",
    "    )\n",
    "    for k in range(nb_frames)])\n",
    "\n",
    "# Add data to be displayed before animation starts\n",
    "fig.add_trace(go.Surface(\n",
    "    z=6.7 * np.ones((r, c)),\n",
    "    surfacecolor=np.flipud(volume[67]),\n",
    "    colorscale='Gray',\n",
    "    cmin=0, cmax=200,\n",
    "    colorbar=dict(thickness=20, ticklen=4)\n",
    "    ))\n",
    "\n",
    "\n",
    "def frame_args(duration):\n",
    "    return {\n",
    "            \"frame\": {\"duration\": duration},\n",
    "            \"mode\": \"immediate\",\n",
    "            \"fromcurrent\": True,\n",
    "            \"transition\": {\"duration\": duration, \"easing\": \"linear\"},\n",
    "        }\n",
    "\n",
    "sliders = [\n",
    "            {\n",
    "                \"pad\": {\"b\": 10, \"t\": 60},\n",
    "                \"len\": 0.9,\n",
    "                \"x\": 0.1,\n",
    "                \"y\": 0,\n",
    "                \"steps\": [\n",
    "                    {\n",
    "                        \"args\": [[f.name], frame_args(0)],\n",
    "                        \"label\": str(k),\n",
    "                        \"method\": \"animate\",\n",
    "                    }\n",
    "                    for k, f in enumerate(fig.frames)\n",
    "                ],\n",
    "            }\n",
    "        ]\n",
    "\n",
    "# Layout\n",
    "fig.update_layout(\n",
    "         title='Slices in volumetric data',\n",
    "         width=600,\n",
    "         height=600,\n",
    "         scene=dict(\n",
    "                    zaxis=dict(range=[-0.1, 6.8], autorange=False),\n",
    "                    aspectratio=dict(x=1, y=1, z=1),\n",
    "                    ),\n",
    "         updatemenus = [\n",
    "            {\n",
    "                \"buttons\": [\n",
    "                    {\n",
    "                        \"args\": [None, frame_args(50)],\n",
    "                        \"label\": \"&#9654;\", # play symbol\n",
    "                        \"method\": \"animate\",\n",
    "                    },\n",
    "                    {\n",
    "                        \"args\": [[None], frame_args(0)],\n",
    "                        \"label\": \"&#9724;\", # pause symbol\n",
    "                        \"method\": \"animate\",\n",
    "                    },\n",
    "                ],\n",
    "                \"direction\": \"left\",\n",
    "                \"pad\": {\"r\": 10, \"t\": 70},\n",
    "                \"type\": \"buttons\",\n",
    "                \"x\": 0.1,\n",
    "                \"y\": 0,\n",
    "            }\n",
    "         ],\n",
    "         sliders=sliders\n",
    ")\n",
    "\n",
    "fig.show()"
   ]
  },
  {
   "cell_type": "markdown",
   "metadata": {},
   "source": [
    "<a href=\"https://dash-gallery.plotly.host/dash-aerosandbox/\" target=\"_blank\">COOL PROJECT</a>"
   ]
  }
 ],
 "metadata": {
  "kernelspec": {
   "display_name": "Python 3",
   "language": "python",
   "name": "python3"
  },
  "language_info": {
   "codemirror_mode": {
    "name": "ipython",
    "version": 3
   },
   "file_extension": ".py",
   "mimetype": "text/x-python",
   "name": "python",
   "nbconvert_exporter": "python",
   "pygments_lexer": "ipython3",
   "version": "3.7.6"
  }
 },
 "nbformat": 4,
 "nbformat_minor": 2
}
