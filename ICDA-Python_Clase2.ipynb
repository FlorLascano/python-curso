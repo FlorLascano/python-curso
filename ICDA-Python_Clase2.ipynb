{
 "cells": [
  {
   "cell_type": "markdown",
   "metadata": {},
   "source": [
    "<img src=\"assets/socalo-ICDA.png\">"
   ]
  },
  {
   "cell_type": "markdown",
   "metadata": {},
   "source": [
    "# Python para Finanzas y Ciencia de Datos\n",
    "Federico Brun | fedejbrun@gmail.com\n",
    "\n",
    "_Jueves 10 Septiembre 2020_"
   ]
  },
  {
   "cell_type": "markdown",
   "metadata": {},
   "source": [
    "## Sintaxis del lenguaje\n"
   ]
  },
  {
   "cell_type": "markdown",
   "metadata": {},
   "source": [
    "Informalmente, podríamos decir que en __Python__ \"llevamos a cabo acciones sobre cosas\". \n",
    "\n",
    "Esas _acciones que llevamos a cabo_ toman la forma de ___operaciones___ y esas _cosas_ de las que hablamos, se refieren a los ___objetos___ sobre los cuales realizamos estas operaciones. \n",
    "\n",
    "Mas formalmente, decimos que en __Python__ la información y los datos toman la forma de ___objetos___. \n",
    "Si bien vamos a hablar de objetos y mas propiamente de Programación Orientada a Objetos __(OOP)__ en clases posteriores, lo que resulta importante comprender es que un objeto es escencialmente una pieza de memoria, con valores y operaciones asociadas.\n",
    "\n",
    "<img src=\"https://files.realpython.com/media/How-Does-Python-Memory-Management-Work_Watermarked.716f0a905800.jpg\">\n",
    "\n",
    "_Fuente: realpython.com_\n",
    "\n",
    "Cómo en __Python__ los objetos son el concepto mas fundamental a comprender, vamos a empezar por ahí.\n",
    "\n",
    "A modo de introducción, es conveniente primero establecer unna imagen clara de cómo se compone un flujo de trabajo en __Python__ :\n",
    "* Un programa de Python se compone de _módulos_.\n",
    "* Los módulos se componen de _sentencias_.\n",
    "* Las sentencias contienen _expresiones_.\n",
    "* Las expresiones _crean y procesan objetos_."
   ]
  },
  {
   "cell_type": "markdown",
   "metadata": {},
   "source": [
    "### Variables en programación \n",
    "\n",
    "En programación, una __variable__ está formada por un espacio en el sistema de almacenaje (memoria principal de un ordenador) y un nombre simbólico (un identificador) que está asociado a dicho espacio. Ese espacio contiene una cantidad de información conocida o desconocida, es decir un valor.\n",
    "\n",
    "El nombre de la variable es la forma usual de referirse al valor almacenado: esta separación entre nombre y contenido permite que el nombre sea usado independientemente de la información exacta que representa.\n",
    "\n",
    "El identificador, en el código fuente de la computadora puede estar ligado a un valor durante el tiempo de ejecución y el valor de la variable puede por lo tanto cambiar durante el curso de la ejecución del programa. \n",
    "\n",
    "### Constantes \n",
    "\n",
    "En programación las __constantes__ son un tipo de variable cuyo valor no cambia. Aqui es necesario hacer una salvedad conceptual: al hablar de una constante, entendemos que el valor de la misma _no debe y no se puede cambiar_. Particularmente en Python, no existe una forma de implementar constantes que no puedan cambiarse en python de forma directa, si no que se hace uso de convenciones y buenas prácticas.\n",
    "\n"
   ]
  },
  {
   "cell_type": "code",
   "execution_count": null,
   "metadata": {},
   "outputs": [],
   "source": [
    "var = 10\n",
    "print(var)"
   ]
  },
  {
   "cell_type": "code",
   "execution_count": null,
   "metadata": {},
   "outputs": [],
   "source": [
    "var = var * 10\n",
    "print(var)"
   ]
  },
  {
   "cell_type": "code",
   "execution_count": null,
   "metadata": {},
   "outputs": [],
   "source": [
    "var = \"Variable\"\n",
    "print(var)"
   ]
  },
  {
   "cell_type": "code",
   "execution_count": null,
   "metadata": {},
   "outputs": [],
   "source": [
    "PI = 3.14\n",
    "print(PI)"
   ]
  },
  {
   "cell_type": "code",
   "execution_count": null,
   "metadata": {},
   "outputs": [],
   "source": [
    "PI = 1234\n",
    "print(PI)"
   ]
  },
  {
   "cell_type": "markdown",
   "metadata": {},
   "source": [
    "### Python built-in types\n",
    "\n",
    "Python nos provee de diferentes y poderosos tipos de objetos como parte intrínseca del lenguaje.\n",
    "\n",
    "Algunas de las ventajas que encontramos al usar los tipos estnadar del lenguaje son:\n",
    "* Facilidad a la hora de escribir programas.\n",
    "* Los objetos (o tipos de datos) provistos por el lenguaje generalmente son mas performantes que los creados por nosotros como desarrolladores.\n",
    "* Son parte del estandar del lenguaje, por lo que promueven buenas prácticas, portabilidad y mantenimibilidad de neustros programas, por parte de otros programadores.\n"
   ]
  },
  {
   "cell_type": "code",
   "execution_count": null,
   "metadata": {},
   "outputs": [],
   "source": [
    "# Numbers\n",
    "int_number = 1234\n",
    "float_number = 3.1415\n",
    "complex_number = 3+4j\n",
    "\n",
    "# Strings\n",
    "first_string = \"Python\"\n",
    "second_string = 'Para Finanzas y Ciencia de Datos'\n",
    "\n",
    "# Lists\n",
    "int_list = [1, 2, 3, 4]\n",
    "ticker_list = ['GGAL', 'BMA', 'SUPV', \"BBAR\"]\n",
    "mixed_list = ['text', 4, True]\n",
    "\n",
    "# Booleans & None\n",
    "bool_true = True\n",
    "bool_false = False\n",
    "none_var = None\n",
    "\n",
    "# Tuples \n",
    "int_tuple = (1, 2, 3, 4)\n",
    "ticker_tuple = ('GGAL', 'BMA', 'SUPV', 'BBAR')\n",
    "mixed_tuple = ('text', 4, True)\n",
    "\n",
    "\"\"\"\n",
    "print(mixed_list)\n",
    "mixed_list[1] = 100\n",
    "print(mixed_list)\n",
    "\n",
    "print(mixed_tuple)\n",
    "mixed_tuple[1] = 100\n",
    "print(mixed_tuple)\n",
    "\"\"\"\n",
    "\n",
    "# Dictionaries\n",
    "ticker_dict = {\n",
    "    'GGAL': 10.26,\n",
    "    'BMA': 18.27,\n",
    "    'SUPV': 2.56,\n",
    "    \"BBAR\": 3.43 \n",
    "}\n",
    "\n",
    "\n",
    "print(ticker_dict.keys())\n",
    "print(ticker_dict.values())\n",
    "print(ticker_dict['GGAL'])\n"
   ]
  },
  {
   "cell_type": "markdown",
   "metadata": {},
   "source": [
    "En Python __todo__ es un objeto por cuestiones propias del diseño del lenguaje. \n",
    "\n",
    "<img src=\"objects1.png\">\n",
    "\n",
    "A diferencia de otros lenguajes, no hay _declaración de tipos_ en Python, sino que es la sintaxis de la expresión la que determina el tipo de dato _(tipo de objeto si hablamos con propiedad)_ que se crea y manipula.\n",
    "\n",
    "Igualmente importante es entender que Python es _dinamicamente tipeado_ es decir que mantiene un registro de los tipos de objetos de forma automatica sin que lo declaremos explicitamente; pero también es _fuertemente tipeado_ lo que significa que solo podemos llevar a cabo operaciones propias del tipo de objeto con el que estamos trabajando."
   ]
  },
  {
   "cell_type": "code",
   "execution_count": null,
   "metadata": {},
   "outputs": [],
   "source": [
    "x = \"string\"\n",
    "print(\"{} : {} , Tipo: {}\".format('x', x, type(x)))"
   ]
  },
  {
   "cell_type": "code",
   "execution_count": null,
   "metadata": {},
   "outputs": [],
   "source": [
    "x = 10\n",
    "print(\"{} : {} , Tipo: {}\".format('x', x, type(x)))"
   ]
  },
  {
   "cell_type": "code",
   "execution_count": null,
   "metadata": {},
   "outputs": [],
   "source": [
    "x = \"string\"\n",
    "print(\"{} : {} , Tipo: {}\".format('x', x.upper(), type(x)))"
   ]
  },
  {
   "cell_type": "code",
   "execution_count": null,
   "metadata": {},
   "outputs": [],
   "source": [
    "x = 10\n",
    "print(\"{} : {} , Tipo: {}\".format('x', x.upper(), type(x)))"
   ]
  },
  {
   "cell_type": "markdown",
   "metadata": {},
   "source": [
    "### Tipos numéricos y operaciones matemáticas\n",
    "\n",
    "Python soporta los tipos numéricos usualmente conocidos (enteros y de punto flotante), al igual que _literales_ para crear numeros y expresiones para trabajar con ellos. Además, provee soporte de programacion numérica mas avanzada y objetos mas avanzados para realizar para realizar trabajo mas avanzado, especialmente en campos como las __Finanzas y la Ciencia de Datos__.\n",
    "\n",
    "Los tipos numéricos provistos por Python son:\n",
    "* Números enteros.\n",
    "* Números de punto flotante.\n",
    "* Números complejos.\n",
    "* Números decimales de precisión fija.\n",
    "* Números racionales fraccionales.\n",
    "* Sets.\n",
    "* Booleanos.\n",
    "* Números enteros de precision ilimitada.\n",
    "* Tipos numéricos _built-in_ y módulos para cálculo numérico."
   ]
  },
  {
   "cell_type": "code",
   "execution_count": null,
   "metadata": {},
   "outputs": [],
   "source": [
    "123 + 30"
   ]
  },
  {
   "cell_type": "code",
   "execution_count": null,
   "metadata": {},
   "outputs": [],
   "source": [
    "1.4 * 4"
   ]
  },
  {
   "cell_type": "code",
   "execution_count": null,
   "metadata": {},
   "outputs": [],
   "source": [
    "_"
   ]
  },
  {
   "cell_type": "code",
   "execution_count": null,
   "metadata": {},
   "outputs": [],
   "source": [
    "_ * 2"
   ]
  },
  {
   "cell_type": "code",
   "execution_count": null,
   "metadata": {},
   "outputs": [],
   "source": [
    "2 ** 100"
   ]
  },
  {
   "cell_type": "markdown",
   "metadata": {},
   "source": [
    "### Herramientas para trabajar con tipos numéricos\n",
    "\n",
    "Además de los tipos numéricos que mencionamos anteriormente, Python hace uso de las siguiente herramientas para trabajar con ellos:\n",
    "\n",
    "* Operadores: `+, -, *, /, <, >, **, & ` entre otros.\n",
    "* Funciones matemáticas _built-in_ : `pow, abs, round, int, hex, bin`, etc.\n",
    "* Módulos utilitarios: `random, math`, etc.\n"
   ]
  },
  {
   "cell_type": "code",
   "execution_count": null,
   "metadata": {},
   "outputs": [],
   "source": [
    "x = 100\n",
    "y = 21\n",
    "print(x+y) #Suma\n",
    "print(x-y) #Resta\n",
    "print(x*y) #Multiplicación\n",
    "print(x/y) #División \n",
    "print(4*y) #División\n",
    "print(x % y) #Módulo\n",
    "print(x**2) #Exponente\n",
    "print(x//y) #División Floor \n",
    "\n",
    "print(x == y) #\n",
    "print(x != y) # \n",
    "print(x >= y) # \n",
    "print(x <= y) # "
   ]
  },
  {
   "cell_type": "code",
   "execution_count": null,
   "metadata": {},
   "outputs": [],
   "source": [
    "print(pow(2, 10))\n",
    "print(abs(-1245 * 2389))\n",
    "print(hex(1289544))"
   ]
  },
  {
   "cell_type": "code",
   "execution_count": null,
   "metadata": {},
   "outputs": [],
   "source": [
    "import math\n",
    "print(dir(math))"
   ]
  },
  {
   "cell_type": "code",
   "execution_count": null,
   "metadata": {},
   "outputs": [],
   "source": [
    "help(math)"
   ]
  },
  {
   "cell_type": "markdown",
   "metadata": {},
   "source": [
    "#### Precedencia de operadores"
   ]
  },
  {
   "cell_type": "code",
   "execution_count": null,
   "metadata": {},
   "outputs": [],
   "source": [
    "\n",
    "a = 20\n",
    "b = 10\n",
    "c = 15\n",
    "d = 5\n",
    "e = 0\n",
    "\n",
    "e = (a + b) * c / d       #( 30 * 15 ) / 5\n",
    "print(\"Value of (a + b) * c / d is \",  e)\n",
    "\n",
    "e = ((a + b) * c) / d     # (30 * 15 ) / 5\n",
    "print(\"Value of ((a + b) * c) / d is \",  e)\n",
    "\n",
    "e = (a + b) * (c / d);    # (30) * (15/5)\n",
    "print(\"Value of (a + b) * (c / d) is \",  e)\n",
    "\n",
    "e = a + (b * c) / d;      #  20 + (150/5)\n",
    "print( \"Value of a + (b * c) / d is \",  e)"
   ]
  },
  {
   "cell_type": "markdown",
   "metadata": {},
   "source": [
    "#### Formateo de resultados numéricos"
   ]
  },
  {
   "cell_type": "code",
   "execution_count": null,
   "metadata": {},
   "outputs": [],
   "source": [
    "num = 1 / 3.0\n",
    "print(num)"
   ]
  },
  {
   "cell_type": "code",
   "execution_count": null,
   "metadata": {},
   "outputs": [],
   "source": [
    "print('%e' % num)"
   ]
  },
  {
   "cell_type": "code",
   "execution_count": null,
   "metadata": {},
   "outputs": [],
   "source": [
    "'%4.2f' % num"
   ]
  },
  {
   "cell_type": "code",
   "execution_count": null,
   "metadata": {},
   "outputs": [],
   "source": [
    "'{0:4.2f}'.format(num)"
   ]
  },
  {
   "cell_type": "markdown",
   "metadata": {},
   "source": [
    "#### División: algunas consideraciones especiales"
   ]
  },
  {
   "cell_type": "code",
   "execution_count": null,
   "metadata": {},
   "outputs": [],
   "source": [
    "100 / 6 # Division clasica, mantiene el resto (Python 3)"
   ]
  },
  {
   "cell_type": "code",
   "execution_count": null,
   "metadata": {},
   "outputs": [],
   "source": [
    "100 // 6 # Division, resto \"truncado\""
   ]
  },
  {
   "cell_type": "code",
   "execution_count": null,
   "metadata": {},
   "outputs": [],
   "source": [
    "100 / 6.0 # Division clasica, mantiene el resto"
   ]
  },
  {
   "cell_type": "code",
   "execution_count": null,
   "metadata": {},
   "outputs": [],
   "source": [
    "100 // 6.0 # Division, resto \"truncado\" redondeado hacia abajo"
   ]
  },
  {
   "cell_type": "markdown",
   "metadata": {},
   "source": [
    "ATENCION: No confundir _truncar_ y _redondeo_ al hablar del operador //"
   ]
  },
  {
   "cell_type": "code",
   "execution_count": null,
   "metadata": {},
   "outputs": [],
   "source": [
    "print(math.floor(2.5))\n",
    "print(math.floor(-2.5))\n",
    "print(math.trunc(2.5))\n",
    "print(math.trunc(-2.5))"
   ]
  },
  {
   "cell_type": "markdown",
   "metadata": {},
   "source": [
    "### Tipos numéricos y operaciones matemáticas\n",
    "\n",
    "Los tipos String sonm junto a los tipos numericos, uno de los tipos que mas se utilizan en Python.\n",
    "\n",
    "Por String o _cadena_, entendemos una colección ordenada de caracteres utilizada para almacenar y representar información basada en texto.\n",
    "\n",
    "Desde un punto de vista funcional, los tipos String pueden ser utilizados para representar casi cualquier información que pueda ser codificada como texto: símbolos y palabras, contenidos de un archivo que se carga en memoria, direcciones de internet, programas de Python, etc.\n",
    "\n",
    "Los Strings en Python, están implementados como una sequencia inmutable, lo que significa que los caracteres que contienen se manipulan de izquierda a derecha en orden y no pueden ser modificados _in-place_."
   ]
  },
  {
   "cell_type": "markdown",
   "metadata": {},
   "source": [
    "#### Expresiones y operaciones más comunes para Strings"
   ]
  },
  {
   "cell_type": "code",
   "execution_count": null,
   "metadata": {},
   "outputs": [],
   "source": [
    "s1 = '' # Empty string\n",
    "s2 = \"spam's\" # Double quotes, same as single\n",
    "s3 = 's\\np\\ta\\x00m' # Escape sequences\n",
    "s4 = \"\"\"...\"\"\" # Triple-quoted block strings\n",
    "s5 = r'\\temp\\spam' # Raw strings\n",
    "s6 = b'spam' # Byte strings in 3.0\n",
    "s7 = u'spam' # Unicode strings in 2.6 only\n",
    "\n",
    "print(s2 + s4)\n",
    "print(s2[1])\n",
    "print(S[1:4])\n",
    "print(len(s1))\n",
    "print(\"Estamos en la clase {} del curso\".format(2))\n",
    "\n",
    "institution = \"ICDA - UCC\"\n",
    "\n",
    "print(institution.find(\"CDA\"))\n",
    "print(institution.replace(\"C\", \"8\"))\n",
    "print(institution.isdigit())\n",
    "print(institution.lower())\n",
    "for x in institution: print(\"---> \" + x)\n",
    "print(\"Curso de Python\" in institution)"
   ]
  },
  {
   "cell_type": "code",
   "execution_count": null,
   "metadata": {},
   "outputs": [],
   "source": [
    "type(institution)"
   ]
  },
  {
   "cell_type": "code",
   "execution_count": null,
   "metadata": {},
   "outputs": [],
   "source": [
    "help(str)"
   ]
  },
  {
   "cell_type": "code",
   "execution_count": null,
   "metadata": {},
   "outputs": [],
   "source": [
    "print(dir(str))"
   ]
  },
  {
   "cell_type": "code",
   "execution_count": null,
   "metadata": {},
   "outputs": [],
   "source": [
    "input(\"Para que quieren aprender a usar Python?\")º"
   ]
  },
  {
   "cell_type": "code",
   "execution_count": null,
   "metadata": {},
   "outputs": [],
   "source": [
    "student = input(\"Nombre? \")\n",
    "answer = input(\"Para que quiere {} aprender a usar Python? \".format(student))"
   ]
  },
  {
   "cell_type": "code",
   "execution_count": null,
   "metadata": {},
   "outputs": [],
   "source": [
    "print(\"\"\"\n",
    "{} dijo en la clase de hoy, que se inscribio en el curso\n",
    "\\ncon la intencion de {},\n",
    "\\nlo cual realmente es una excelente decision...\n",
    "\"\"\".format(student, answer))\n",
    "print(\"Felicitaciones {}!\".format(student).upper().center(50))"
   ]
  }
 ],
 "metadata": {
  "kernelspec": {
   "display_name": "Python 3",
   "language": "python",
   "name": "python3"
  },
  "language_info": {
   "codemirror_mode": {
    "name": "ipython",
    "version": 3
   },
   "file_extension": ".py",
   "mimetype": "text/x-python",
   "name": "python",
   "nbconvert_exporter": "python",
   "pygments_lexer": "ipython3",
   "version": "3.7.6"
  }
 },
 "nbformat": 4,
 "nbformat_minor": 2
}
