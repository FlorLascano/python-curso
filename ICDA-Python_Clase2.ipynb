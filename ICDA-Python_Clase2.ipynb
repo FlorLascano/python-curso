{
 "cells": [
  {
   "cell_type": "markdown",
   "metadata": {},
   "source": [
    "<img src=\"socalo-ICDA.png\">"
   ]
  },
  {
   "cell_type": "markdown",
   "metadata": {},
   "source": [
    "# Python para Finanzas y Ciencia de Datos\n",
    "Federico Brun | fedejbrun@gmail.com\n",
    "\n",
    "_Jueves 10 Septiembre 2020_"
   ]
  },
  {
   "cell_type": "markdown",
   "metadata": {},
   "source": [
    "## Sintaxis del lenguaje\n"
   ]
  },
  {
   "cell_type": "markdown",
   "metadata": {},
   "source": [
    "Informalmente, podríamos decir que en __Python__ \"llevamos a cabo acciones sobre cosas\". \n",
    "\n",
    "Esas _acciones que llevamos a cabo_ toman la forma de ___operaciones___ y esas _cosas_ de las que hablamos, se refieren a los ___objetos___ sobre los cuales realizamos estas operaciones. \n",
    "\n",
    "Mas formalmente, decimos que en __Python__ la información y los datos toman la forma de ___objetos___. \n",
    "Si bien vamos a hablar de objetos y mas propiamente de Programación Orientada a Objetos __(OOP)__ en clases posteriores, lo que resulta importante comprender es que un objeto es escencialmente una pieza de memoria, con valores y operaciones asociadas.\n",
    "\n",
    "<img src=\"https://files.realpython.com/media/How-Does-Python-Memory-Management-Work_Watermarked.716f0a905800.jpg\">\n",
    "\n",
    "_Fuente: realpython.com_\n",
    "\n",
    "Cómo en __Python__ los objetos son el concepto mas fundamental a comprender, vamos a empezar por ahí.\n",
    "\n",
    "A modo de introducción, es conveniente primero establecer unna imagen clara de cómo se compone un flujo de trabajo en __Python__ :\n",
    "* Un programa de Python se compone de _módulos_.\n",
    "* Los módulos se componen de _sentencias_.\n",
    "* Las sentencias contienen _expresiones_.\n",
    "* Las expresiones _crean y procesan objetos_."
   ]
  },
  {
   "cell_type": "markdown",
   "metadata": {},
   "source": [
    "### Python built-in types\n",
    "\n",
    "Python nos provee de diferentes y poderosos tipos de objetos como parte intrínseca del lenguaje.\n",
    "\n",
    "Algunas de las ventajas que encontramos al usar los tipos estnadar del lenguaje son:\n",
    "* Facilidad a la hora de escribir programas.\n",
    "* Los objetos (o tipos de datos) provistos por el lenguaje generalmente son mas performantes que los creados por nosotros como desarrolladores.\n",
    "* Son parte del estandar del lenguaje, por lo que promueven buenas prácticas, portabilidad y mantenimibilidad de neustros programas, por parte de otros programadores.\n"
   ]
  },
  {
   "cell_type": "markdown",
   "metadata": {},
   "source": [
    "###### Tipos de datos centrales de Python"
   ]
  },
  {
   "cell_type": "code",
   "execution_count": 1,
   "metadata": {},
   "outputs": [
    {
     "ename": "SyntaxError",
     "evalue": "invalid syntax (<ipython-input-1-a44e145915c6>, line 1)",
     "output_type": "error",
     "traceback": [
      "\u001b[0;36m  File \u001b[0;32m\"<ipython-input-1-a44e145915c6>\"\u001b[0;36m, line \u001b[0;32m1\u001b[0m\n\u001b[0;31m    Numbers 1234 , 3.1415 , 3+4j , Decimal , Fraction\u001b[0m\n\u001b[0m               ^\u001b[0m\n\u001b[0;31mSyntaxError\u001b[0m\u001b[0;31m:\u001b[0m invalid syntax\n"
     ]
    }
   ],
   "source": [
    "Numbers 1234 , 3.1415 , 3+4j , Decimal , Fraction\n",
    "Strings 'spam' , \"guido's\" , b'a\\x01c'\n",
    "Lists [1, [2, 'three'], 4]\n",
    "Dictionaries {'food': 'spam', 'taste': 'yum'}\n",
    "Tuples (1, 'spam', 4, 'U')\n",
    "Files myfile = open('eggs', 'r')\n",
    "Sets set('abc'), {'a', 'b', 'c'}\n",
    "Other core types Booleans, types, None"
   ]
  }
 ],
 "metadata": {
  "kernelspec": {
   "display_name": "Python 3",
   "language": "python",
   "name": "python3"
  },
  "language_info": {
   "codemirror_mode": {
    "name": "ipython",
    "version": 3
   },
   "file_extension": ".py",
   "mimetype": "text/x-python",
   "name": "python",
   "nbconvert_exporter": "python",
   "pygments_lexer": "ipython3",
   "version": "3.7.6"
  }
 },
 "nbformat": 4,
 "nbformat_minor": 2
}
