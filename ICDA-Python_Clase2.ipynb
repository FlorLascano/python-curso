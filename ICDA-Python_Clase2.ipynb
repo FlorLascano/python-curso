{
 "cells": [
  {
   "cell_type": "markdown",
   "metadata": {},
   "source": [
    "<img src=\"assets/socalo-ICDA.png\">"
   ]
  },
  {
   "cell_type": "markdown",
   "metadata": {},
   "source": [
    "# Python para Finanzas y Ciencia de Datos\n",
    "Federico Brun | fedejbrun@gmail.com\n",
    "\n",
    "_Jueves 10 Septiembre 2020_"
   ]
  },
  {
   "cell_type": "markdown",
   "metadata": {},
   "source": [
    "## Sintaxis del lenguaje\n"
   ]
  },
  {
   "cell_type": "markdown",
   "metadata": {},
   "source": [
    "Informalmente, podríamos decir que en __Python__ \"llevamos a cabo acciones sobre cosas\". \n",
    "\n",
    "Esas _acciones que llevamos a cabo_ toman la forma de ___operaciones___ y esas _cosas_ de las que hablamos, se refieren a los ___objetos___ sobre los cuales realizamos estas operaciones. \n",
    "\n",
    "Mas formalmente, decimos que en __Python__ la información y los datos toman la forma de ___objetos___. \n",
    "Si bien vamos a hablar de objetos y mas propiamente de Programación Orientada a Objetos __(OOP)__ en clases posteriores, lo que resulta importante comprender es que un objeto es escencialmente una pieza de memoria, con valores y operaciones asociadas.\n",
    "\n",
    "<img src=\"https://files.realpython.com/media/How-Does-Python-Memory-Management-Work_Watermarked.716f0a905800.jpg\">\n",
    "\n",
    "_Fuente: realpython.com_\n",
    "\n",
    "Cómo en __Python__ los objetos son el concepto mas fundamental a comprender, vamos a empezar por ahí.\n",
    "\n",
    "A modo de introducción, es conveniente primero establecer unna imagen clara de cómo se compone un flujo de trabajo en __Python__ :\n",
    "* Un programa de Python se compone de _módulos_.\n",
    "* Los módulos se componen de _sentencias_.\n",
    "* Las sentencias contienen _expresiones_.\n",
    "* Las expresiones _crean y procesan objetos_."
   ]
  },
  {
   "cell_type": "markdown",
   "metadata": {},
   "source": [
    "### Variables en programación \n",
    "\n",
    "En programación, una __variable__ está formada por un espacio en el sistema de almacenaje (memoria principal de un ordenador) y un nombre simbólico (un identificador) que está asociado a dicho espacio. Ese espacio contiene una cantidad de información conocida o desconocida, es decir un valor.\n",
    "\n",
    "El nombre de la variable es la forma usual de referirse al valor almacenado: esta separación entre nombre y contenido permite que el nombre sea usado independientemente de la información exacta que representa.\n",
    "\n",
    "El identificador, en el código fuente de la computadora puede estar ligado a un valor durante el tiempo de ejecución y el valor de la variable puede por lo tanto cambiar durante el curso de la ejecución del programa. \n",
    "\n",
    "### Constantes \n",
    "\n",
    "En programación las __constantes__ son un tipo de variable cuyo valor no cambia. Aqui es necesario hacer una salvedad conceptual: al hablar de una constante, entendemos que el valor de la misma _no debe y no se puede cambiar_. Particularmente en Python, no existe una forma de implementar constantes que no puedan cambiarse en python de forma directa, si no que se hace uso de convenciones y buenas prácticas.\n",
    "\n"
   ]
  },
  {
   "cell_type": "code",
   "execution_count": null,
   "metadata": {},
   "outputs": [],
   "source": [
    "var = 10\n",
    "print(var)"
   ]
  },
  {
   "cell_type": "code",
   "execution_count": null,
   "metadata": {},
   "outputs": [],
   "source": [
    "var = var * 10\n",
    "print(var)"
   ]
  },
  {
   "cell_type": "code",
   "execution_count": null,
   "metadata": {},
   "outputs": [],
   "source": [
    "var = \"Variable\"\n",
    "print(var)"
   ]
  },
  {
   "cell_type": "code",
   "execution_count": null,
   "metadata": {},
   "outputs": [],
   "source": [
    "PI = 3.14\n",
    "print(PI)"
   ]
  },
  {
   "cell_type": "code",
   "execution_count": null,
   "metadata": {},
   "outputs": [],
   "source": [
    "PI = 1234\n",
    "print(PI)"
   ]
  },
  {
   "cell_type": "markdown",
   "metadata": {},
   "source": [
    "### Python built-in types\n",
    "\n",
    "Python nos provee de diferentes y poderosos tipos de objetos como parte intrínseca del lenguaje.\n",
    "\n",
    "Algunas de las ventajas que encontramos al usar los tipos estnadar del lenguaje son:\n",
    "* Facilidad a la hora de escribir programas.\n",
    "* Los objetos (o tipos de datos) provistos por el lenguaje generalmente son mas performantes que los creados por nosotros como desarrolladores.\n",
    "* Son parte del estandar del lenguaje, por lo que promueven buenas prácticas, portabilidad y mantenimibilidad de neustros programas, por parte de otros programadores.\n"
   ]
  },
  {
   "cell_type": "code",
   "execution_count": null,
   "metadata": {},
   "outputs": [],
   "source": [
    "# Numbers\n",
    "int_number = 1234\n",
    "float_number = 3.1415\n",
    "complex_number = 3+4j\n",
    "\n",
    "# Strings\n",
    "first_string = \"Python\"\n",
    "second_string = 'Para Finanzas y Ciencia de Datos'\n",
    "\n",
    "# Lists\n",
    "int_list = [1, 2, 3, 4]\n",
    "ticker_list = ['GGAL', 'BMA', 'SUPV', \"BBAR\"]\n",
    "mixed_list = ['text', 4, True]\n",
    "\n",
    "# Booleans & None\n",
    "bool_true = True\n",
    "bool_false = False\n",
    "none_var = None\n",
    "\n",
    "# Tuples \n",
    "int_tuple = (1, 2, 3, 4)\n",
    "ticker_tuple = ('GGAL', 'BMA', 'SUPV', 'BBAR')\n",
    "mixed_tuple = ('text', 4, True)\n",
    "\n",
    "\"\"\"\n",
    "print(mixed_list)\n",
    "mixed_list[1] = 100\n",
    "print(mixed_list)\n",
    "\n",
    "print(mixed_tuple)\n",
    "mixed_tuple[1] = 100\n",
    "print(mixed_tuple)\n",
    "\"\"\"\n",
    "\n",
    "# Dictionaries\n",
    "ticker_dict = {\n",
    "    'GGAL': 10.26,\n",
    "    'BMA': 18.27,\n",
    "    'SUPV': 2.56,\n",
    "    \"BBAR\": 3.43 \n",
    "}\n",
    "\n",
    "\n",
    "print(ticker_dict.keys())\n",
    "print(ticker_dict.values())\n",
    "print(ticker_dict['GGAL'])\n"
   ]
  },
  {
   "cell_type": "markdown",
   "metadata": {},
   "source": [
    "En Python __todo__ es un objeto por cuestiones propias del diseño del lenguaje. \n",
    "\n",
    "<img src=\"objects1.png\">\n",
    "\n",
    "A diferencia de otros lenguajes, no hay _declaración de tipos_ en Python, sino que es la sintaxis de la expresión la que determina el tipo de dato _(tipo de objeto si hablamos con propiedad)_ que se crea y manipula.\n",
    "\n",
    "Igualmente importante es entender que Python es _dinamicamente tipeado_ es decir que mantiene un registro de los tipos de objetos de forma automatica sin que lo declaremos explicitamente; pero también es _fuertemente tipeado_ lo que significa que solo podemos llevar a cabo operaciones propias del tipo de objeto con el que estamos trabajando."
   ]
  },
  {
   "cell_type": "code",
   "execution_count": null,
   "metadata": {},
   "outputs": [],
   "source": [
    "x = \"string\"\n",
    "print(\"{} : {} , Tipo: {}\".format('x', x, type(x)))"
   ]
  },
  {
   "cell_type": "code",
   "execution_count": null,
   "metadata": {},
   "outputs": [],
   "source": [
    "x = 10\n",
    "print(\"{} : {} , Tipo: {}\".format('x', x, type(x)))"
   ]
  },
  {
   "cell_type": "code",
   "execution_count": null,
   "metadata": {},
   "outputs": [],
   "source": [
    "x = \"string\"\n",
    "print(\"{} : {} , Tipo: {}\".format('x', x.upper(), type(x)))"
   ]
  },
  {
   "cell_type": "code",
   "execution_count": null,
   "metadata": {},
   "outputs": [],
   "source": [
    "x = 10\n",
    "print(\"{} : {} , Tipo: {}\".format('x', x.upper(), type(x)))"
   ]
  },
  {
   "cell_type": "markdown",
   "metadata": {},
   "source": [
    "### Tipos numéricos y operaciones matemáticas\n",
    "\n",
    "Python soporta los tipos numéricos usualmente conocidos (enteros y de punto flotante), al igual que _literales_ para crear numeros y expresiones para trabajar con ellos. Además, provee soporte de programacion numérica mas avanzada y objetos mas avanzados para realizar un trabajo.\n",
    "\n",
    "Algunas de las ventajas que encontramos al usar los tipos estnadar del lenguaje son:\n",
    "* Facilidad a la hora de escribir programas.\n",
    "* Los objetos (o tipos de datos) provistos por el lenguaje generalmente son mas performantes que los creados por nosotros como desarrolladores.\n",
    "* Son parte del estandar del lenguaje, por lo que promueven buenas prácticas, portabilidad y mantenimibilidad de neustros programas, por parte de otros programadores.\n"
   ]
  },
  {
   "cell_type": "code",
   "execution_count": null,
   "metadata": {},
   "outputs": [],
   "source": [
    "123 + 30"
   ]
  },
  {
   "cell_type": "code",
   "execution_count": null,
   "metadata": {},
   "outputs": [],
   "source": [
    "1.4 * 4"
   ]
  },
  {
   "cell_type": "code",
   "execution_count": null,
   "metadata": {},
   "outputs": [],
   "source": [
    "2 ** 100"
   ]
  },
  {
   "cell_type": "code",
   "execution_count": null,
   "metadata": {},
   "outputs": [],
   "source": [
    "import math\n",
    "math.pi "
   ]
  },
  {
   "cell_type": "code",
   "execution_count": null,
   "metadata": {},
   "outputs": [],
   "source": [
    "_ "
   ]
  },
  {
   "cell_type": "code",
   "execution_count": null,
   "metadata": {},
   "outputs": [],
   "source": [
    "_ * 2"
   ]
  }
 ],
 "metadata": {
  "kernelspec": {
   "display_name": "Python 3",
   "language": "python",
   "name": "python3"
  },
  "language_info": {
   "codemirror_mode": {
    "name": "ipython",
    "version": 3
   },
   "file_extension": ".py",
   "mimetype": "text/x-python",
   "name": "python",
   "nbconvert_exporter": "python",
   "pygments_lexer": "ipython3",
   "version": "3.7.6"
  }
 },
 "nbformat": 4,
 "nbformat_minor": 2
}
