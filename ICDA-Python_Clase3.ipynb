{
 "cells": [
  {
   "cell_type": "markdown",
   "metadata": {},
   "source": [
    "<img src=\"assets/socalo-ICDA.png\">"
   ]
  },
  {
   "cell_type": "markdown",
   "metadata": {},
   "source": [
    "# Python para Finanzas y Ciencia de Datos\n",
    "Federico Brun | fedejbrun@gmail.com\n",
    "\n",
    "_Jueves 17 Septiembre 2020_"
   ]
  },
  {
   "cell_type": "markdown",
   "metadata": {},
   "source": [
    "## Variables, sintaxis y estructuras de datos "
   ]
  },
  {
   "cell_type": "markdown",
   "metadata": {},
   "source": [
    "Podriamos definir una variable como un *contenedor de información*.\n",
    "<img src=\"https://files.realpython.com/media/Newbie_Watermarked.a9319218252a.jpg\">\n",
    "\n",
    "_Fuente: realpython.com_\n",
    "\n",
    "En Python, debemos seguir una sintaxis propia del lenguaje para trabajar con variables. En términos mas técnicos, diríamos que *delcaramos*, *inicializamos*, y *asignamos* variables."
   ]
  },
  {
   "cell_type": "code",
   "execution_count": null,
   "metadata": {},
   "outputs": [],
   "source": [
    "my_string = \"Esta variable contiene texto\"\n",
    "my_int = 100\n",
    "\n",
    "print(\"La variable #1 contiene lo siguiente: \" + my_string)\n",
    "print(\"La variable #2 contiene lo siguiente: \" + str(my_int))\n"
   ]
  },
  {
   "cell_type": "markdown",
   "metadata": {},
   "source": [
    "Las variables posen un **identificador** o nombre, y un **valor** o datos.\n",
    "Los identificadores para variables en Python deben definirse en minúsculas, con nombres que sean intuitivos respecto de su contenido, separando palabras con \"_\".\n",
    "\n",
    "Por ejemplo, imaginemos que estamos construyendo un sistema bancario , para definir una variable que contiene el límite disponible de la tarjeta de crédito de un cliente las siguientes serían buenas y malas opciones:\n",
    "\n",
    "- `credit_limit = 15000`\n",
    "- `approved_limit = 15000`\n",
    "- `x = 15000`\n",
    "- `available_limit = 15000`\n",
    "- `Availablelimit = 15000`\n",
    "- `avLim = 15000`\n",
    "\n",
    "Podemos mezclar letras y números, procurando comenzar siempre con letras:\n",
    "\n",
    "- `client1 = \"Ricardo Guzman\"`\n",
    "- `credit_card1 = \"55489 9876 4567 7654\"`\n",
    "\n",
    "También hay que tener en cuenta que existe _palabras reservadas_ que no se pueden usar para definir nuestros objetos, porque tienen un significado y una función propia del lenguaje; por lo que es conveninete evitar usarlas para cinstruir identificadores."
   ]
  },
  {
   "cell_type": "markdown",
   "metadata": {},
   "source": [
    "### Variables en Python \n",
    "\n",
    "En Python podemos definir variables de muchos tipos diferentes.\n",
    "A diferencia de otros lenguajes de programación, en Python la _creación, inicialización y asignación_ de una variable, se puede hacer todo en una sola línea.\n",
    "\n",
    "Así por ejemplo definimos una variable cuyo identificador es `my_int` que contendrá numeros enteros, y cuyo valor inicial será `1000` en una sola línea:\n"
   ]
  },
  {
   "cell_type": "code",
   "execution_count": null,
   "metadata": {},
   "outputs": [],
   "source": [
    "my_int = 1000"
   ]
  },
  {
   "cell_type": "markdown",
   "metadata": {},
   "source": [
    "Ahora que la variable ya _existe_, podemos manipularla; esto es acceder al valor que contiene, modificarlo, asignarlo a otras variables, o realizar otro tipo de operaciones sobre ella."
   ]
  },
  {
   "cell_type": "code",
   "execution_count": null,
   "metadata": {},
   "outputs": [],
   "source": [
    "print(my_int)"
   ]
  },
  {
   "cell_type": "code",
   "execution_count": null,
   "metadata": {},
   "outputs": [],
   "source": [
    "account_credit = my_int\n",
    "print(\"El saldo en la cuenta del cliente es de $\" + str(account_credit))"
   ]
  },
  {
   "cell_type": "code",
   "execution_count": null,
   "metadata": {},
   "outputs": [],
   "source": [
    "purchase = 750\n",
    "print(\"Se ha registrado una compra por $\" + str(purchase))\n",
    "account_credit = account_credit - purchase\n",
    "print(\"El saldo actualizado en la cuenta del clientes es de $\" + str(account_credit))"
   ]
  },
  {
   "cell_type": "markdown",
   "metadata": {},
   "source": [
    "### Python built-in types\n",
    "\n",
    "Python nos provee de diferentes y poderosos tipos de objetos como parte intrínseca del lenguaje.\n",
    "\n",
    "Algunas de las ventajas que encontramos al usar los tipos standard del lenguaje son:\n",
    "* Facilidad a la hora de escribir programas.\n",
    "* Los objetos (o tipos de datos) provistos por el lenguaje generalmente son mas performantes que los creados por nosotros como desarrolladores.\n",
    "* Son parte del estandar del lenguaje, por lo que promueven buenas prácticas, portabilidad y mantenimibilidad de neustros programas, por parte de otros programadores.\n"
   ]
  },
  {
   "cell_type": "code",
   "execution_count": null,
   "metadata": {},
   "outputs": [],
   "source": [
    "# Numbers\n",
    "int_number = 1234\n",
    "float_number = 3.1415\n",
    "complex_number = 3+4j\n",
    "\n",
    "# Strings\n",
    "first_string = \"Python\"\n",
    "second_string = 'Para Finanzas y Ciencia de Datos'\n",
    "\n",
    "# Lists\n",
    "int_list = [1, 2, 3, 4]\n",
    "ticker_list = ['GGAL', 'BMA', 'SUPV', \"BBAR\"]\n",
    "mixed_list = ['text', 4, True]\n",
    "\n",
    "# Booleans & None\n",
    "bool_true = True\n",
    "bool_false = False\n",
    "none_var = None\n",
    "\n",
    "# Tuples \n",
    "int_tuple = (1, 2, 3, 4)\n",
    "ticker_tuple = ('GGAL', 'BMA', 'SUPV', 'BBAR')\n",
    "mixed_tuple = ('text', 4, True)\n",
    "\n",
    "\"\"\"\n",
    "print(mixed_list)\n",
    "mixed_list[1] = 100\n",
    "print(mixed_list)\n",
    "\n",
    "print(mixed_tuple)\n",
    "mixed_tuple[1] = 100\n",
    "print(mixed_tuple)\n",
    "\"\"\"\n",
    "\n",
    "# Dictionaries\n",
    "ticker_dict = {\n",
    "    'GGAL': 10.26,\n",
    "    'BMA': 18.27,\n",
    "    'SUPV': 2.56,\n",
    "    \"BBAR\": 3.43 \n",
    "}\n",
    "\n",
    "\n",
    "print(ticker_dict.keys())\n",
    "print(ticker_dict.values())\n",
    "print(ticker_dict['GGAL'])\n"
   ]
  },
  {
   "cell_type": "markdown",
   "metadata": {},
   "source": [
    "### Tipos numéricos y operaciones matemáticas\n",
    "\n",
    "Python soporta los tipos numéricos usualmente conocidos (enteros y de punto flotante), al igual que _literales_ para crear numeros y expresiones para trabajar con ellos. Además, provee soporte de programacion numérica mas avanzada y objetos mas avanzados para realizar para realizar trabajo mas avanzado, especialmente en campos como las __Finanzas y la Ciencia de Datos__.\n",
    "\n",
    "Los tipos numéricos provistos por Python son:\n",
    "* Números enteros.\n",
    "* Números de punto flotante.\n",
    "* Números complejos.\n",
    "* Números decimales de precisión fija.\n",
    "* Números racionales fraccionales.\n",
    "* Sets.\n",
    "* Booleanos.\n",
    "* Números enteros de precision ilimitada.\n",
    "* Tipos numéricos _built-in_ y módulos para cálculo numérico."
   ]
  },
  {
   "cell_type": "markdown",
   "metadata": {},
   "source": [
    "### Herramientas para trabajar con tipos numéricos\n",
    "\n",
    "Además de los tipos numéricos que mencionamos anteriormente, Python hace uso de las siguiente herramientas para trabajar con ellos:\n",
    "\n",
    "* Operadores: `+, -, *, /, <, >, **, & ` entre otros.\n",
    "* Funciones matemáticas _built-in_ : `pow, abs, round, int, hex, bin`, etc.\n",
    "* Módulos utilitarios: `random, math`, etc.\n"
   ]
  },
  {
   "cell_type": "code",
   "execution_count": null,
   "metadata": {},
   "outputs": [],
   "source": [
    "x = 100\n",
    "y = 21\n",
    "print(x+y) #Suma\n",
    "print(x-y) #Resta\n",
    "print(x*y) #Multiplicación\n",
    "print(x/y) #División \n",
    "print(4*y) #División\n",
    "print(x % y) #Módulo\n",
    "print(x**2) #Exponente\n",
    "print(x//y) #División Floor \n",
    "\n",
    "print(x == y) #\n",
    "print(x != y) # \n",
    "print(x >= y) # \n",
    "print(x <= y) # "
   ]
  },
  {
   "cell_type": "code",
   "execution_count": null,
   "metadata": {},
   "outputs": [],
   "source": [
    "print(pow(2, 10))\n",
    "print(abs(-1245 * 2389))\n",
    "print(hex(1289544))"
   ]
  },
  {
   "cell_type": "markdown",
   "metadata": {},
   "source": [
    "#### Precedencia de operadores"
   ]
  },
  {
   "cell_type": "code",
   "execution_count": null,
   "metadata": {},
   "outputs": [],
   "source": [
    "a = 20\n",
    "b = 10\n",
    "c = 15\n",
    "d = 5\n",
    "e = 0\n",
    "\n",
    "e = (a + b) * c / d       #( 30 * 15 ) / 5\n",
    "print(\"Value of (a + b) * c / d is \",  e)\n",
    "\n",
    "e = ((a + b) * c) / d     # (30 * 15 ) / 5\n",
    "print(\"Value of ((a + b) * c) / d is \",  e)\n",
    "\n",
    "e = (a + b) * (c / d);    # (30) * (15/5)\n",
    "print(\"Value of (a + b) * (c / d) is \",  e)\n",
    "\n",
    "e = a + (b * c) / d;      #  20 + (150/5)\n",
    "print( \"Value of a + (b * c) / d is \",  e)"
   ]
  },
  {
   "cell_type": "markdown",
   "metadata": {},
   "source": [
    "#### Formateo de resultados numéricos"
   ]
  },
  {
   "cell_type": "code",
   "execution_count": null,
   "metadata": {},
   "outputs": [],
   "source": [
    "num = 1 / 3.0\n",
    "print(num)"
   ]
  },
  {
   "cell_type": "code",
   "execution_count": null,
   "metadata": {},
   "outputs": [],
   "source": [
    "print('%e' % num)"
   ]
  },
  {
   "cell_type": "code",
   "execution_count": null,
   "metadata": {},
   "outputs": [],
   "source": [
    "'%4.2f' % num"
   ]
  },
  {
   "cell_type": "code",
   "execution_count": null,
   "metadata": {},
   "outputs": [],
   "source": [
    "'{0:4.2f}'.format(num)"
   ]
  },
  {
   "cell_type": "markdown",
   "metadata": {},
   "source": [
    "#### División: algunas consideraciones especiales"
   ]
  },
  {
   "cell_type": "code",
   "execution_count": null,
   "metadata": {},
   "outputs": [],
   "source": [
    "100 / 6 # Division clasica, mantiene el resto (Python 3)"
   ]
  },
  {
   "cell_type": "code",
   "execution_count": null,
   "metadata": {},
   "outputs": [],
   "source": [
    "100 // 6 # Division, resto \"truncado\""
   ]
  },
  {
   "cell_type": "code",
   "execution_count": null,
   "metadata": {},
   "outputs": [],
   "source": [
    "100 / 6.0 # Division clasica, mantiene el resto"
   ]
  },
  {
   "cell_type": "code",
   "execution_count": null,
   "metadata": {},
   "outputs": [],
   "source": [
    "100 // 6.0 # Division, resto \"truncado\" redondeado hacia abajo"
   ]
  },
  {
   "cell_type": "markdown",
   "metadata": {},
   "source": [
    "ATENCION: No confundir _truncar_ y _redondeo_ al hablar del operador //"
   ]
  },
  {
   "cell_type": "code",
   "execution_count": null,
   "metadata": {},
   "outputs": [],
   "source": [
    "import math\n",
    "\n",
    "print(math.floor(2.5))\n",
    "print(math.floor(-2.5))\n",
    "print(math.trunc(2.5))\n",
    "print(math.trunc(-2.5))"
   ]
  },
  {
   "cell_type": "code",
   "execution_count": null,
   "metadata": {},
   "outputs": [],
   "source": [
    "x = \"string\"\n",
    "print(\"{} : {} , Tipo: {}\".format('x', x, type(x)))"
   ]
  },
  {
   "cell_type": "code",
   "execution_count": null,
   "metadata": {},
   "outputs": [],
   "source": [
    "x = 10\n",
    "print(\"{} : {} , Tipo: {}\".format('x', x, type(x)))"
   ]
  },
  {
   "cell_type": "code",
   "execution_count": null,
   "metadata": {},
   "outputs": [],
   "source": [
    "x = \"string\"\n",
    "print(\"{} : {} , Tipo: {}\".format('x', x.upper(), type(x)))"
   ]
  },
  {
   "cell_type": "code",
   "execution_count": null,
   "metadata": {},
   "outputs": [],
   "source": [
    "x = 10\n",
    "print(\"{} : {} , Tipo: {}\".format('x', x.upper(), type(x)))"
   ]
  },
  {
   "cell_type": "code",
   "execution_count": null,
   "metadata": {},
   "outputs": [],
   "source": [
    "123 + 30"
   ]
  },
  {
   "cell_type": "code",
   "execution_count": null,
   "metadata": {},
   "outputs": [],
   "source": [
    "1.4 * 4"
   ]
  },
  {
   "cell_type": "code",
   "execution_count": null,
   "metadata": {},
   "outputs": [],
   "source": [
    "_"
   ]
  },
  {
   "cell_type": "code",
   "execution_count": null,
   "metadata": {},
   "outputs": [],
   "source": [
    "_ * 2"
   ]
  },
  {
   "cell_type": "code",
   "execution_count": null,
   "metadata": {},
   "outputs": [],
   "source": [
    "2 ** 100"
   ]
  },
  {
   "cell_type": "code",
   "execution_count": null,
   "metadata": {},
   "outputs": [],
   "source": [
    "print(dir(math))"
   ]
  },
  {
   "cell_type": "code",
   "execution_count": null,
   "metadata": {},
   "outputs": [],
   "source": [
    "help(math)"
   ]
  },
  {
   "cell_type": "markdown",
   "metadata": {},
   "source": [
    "### Tipos numéricos y operaciones matemáticas\n",
    "\n",
    "Los tipos String son junto a los tipos numericos, uno de los tipos que mas se utilizan en Python.\n",
    "\n",
    "Por String o _cadena_, entendemos una colección ordenada de caracteres utilizada para almacenar y representar información basada en texto.\n",
    "\n",
    "Desde un punto de vista funcional, los tipos String pueden ser utilizados para representar casi cualquier información que pueda ser codificada como texto: símbolos y palabras, contenidos de un archivo que se carga en memoria, direcciones de internet, programas de Python, etc.\n",
    "\n",
    "Los Strings en Python, están implementados como una sequencia inmutable, lo que significa que los caracteres que contienen se manipulan de izquierda a derecha en orden y no pueden ser modificados _in-place_."
   ]
  },
  {
   "cell_type": "markdown",
   "metadata": {},
   "source": [
    "#### Expresiones y operaciones más comunes para Strings"
   ]
  },
  {
   "cell_type": "code",
   "execution_count": null,
   "metadata": {},
   "outputs": [],
   "source": [
    "s1 = '' # Empty string\n",
    "s2 = \"spam's\" # Double quotes, same as single\n",
    "s3 = 's\\np\\ta\\x00m' # Escape sequences\n",
    "s4 = \"\"\"...\"\"\" # Triple-quoted block strings\n",
    "s5 = r'\\temp\\spam' # Raw strings\n",
    "s6 = b'spam' # Byte strings in 3.0\n",
    "s7 = u'spam' # Unicode strings in 2.6 only\n",
    "\n",
    "print(s2 + s4)\n",
    "print(s2[1])\n",
    "print(s2[1:4])\n",
    "print(len(s1))\n",
    "print(\"Estamos en la clase {} del curso\".format(2))\n",
    "\n",
    "institution = \"ICDA - UCC\"\n",
    "\n",
    "print(institution.find(\"CDA\"))\n",
    "print(institution.replace(\"C\", \"8\"))\n",
    "print(institution.isdigit())\n",
    "print(institution.lower())\n",
    "\n",
    "for x in institution: print(\"---> \" + x)\n",
    "print(\"Curso de Python\" in institution)"
   ]
  },
  {
   "cell_type": "code",
   "execution_count": null,
   "metadata": {},
   "outputs": [],
   "source": [
    "type(institution)"
   ]
  },
  {
   "cell_type": "code",
   "execution_count": null,
   "metadata": {},
   "outputs": [],
   "source": [
    "help(str)"
   ]
  },
  {
   "cell_type": "code",
   "execution_count": null,
   "metadata": {},
   "outputs": [],
   "source": [
    "print(dir(str))"
   ]
  },
  {
   "cell_type": "code",
   "execution_count": null,
   "metadata": {},
   "outputs": [],
   "source": [
    "input(\"Para que quieren aprender a usar Python?\")"
   ]
  },
  {
   "cell_type": "code",
   "execution_count": null,
   "metadata": {},
   "outputs": [],
   "source": [
    "student = input(\"Nombre? \")\n",
    "answer = input(\"Para que quiere {} aprender a usar Python? \".format(student))"
   ]
  },
  {
   "cell_type": "code",
   "execution_count": null,
   "metadata": {},
   "outputs": [],
   "source": [
    "print(\"\"\"\n",
    "{} dijo en la clase de hoy, que se inscribio en el curso\n",
    "\\ncon la intencion de {},\n",
    "\\nlo cual realmente es una excelente decision...\n",
    "\"\"\".format(student, answer))\n",
    "print(\"Felicitaciones {}!\".format(student).upper().center(50))"
   ]
  },
  {
   "cell_type": "markdown",
   "metadata": {},
   "source": [
    "### PEP8: Nuestra aliada para facilitar la lectura, comprensión y mantenimiento de nuestro código de Python\n",
    "\n",
    "<a href=\"https://www.python.org/dev/peps/pep-0008/\" target=\"_blank\"><img src=\"https://files.realpython.com/media/PEP-8-Tutorial-Python-Code-Formatting-Guide_Watermarked.9103cf7be328.jpg\"/></a>\n",
    "\n",
    "_Fuente: realpython.com_"
   ]
  },
  {
   "cell_type": "markdown",
   "metadata": {},
   "source": [
    "### Control de Flujo y Ciclos de Repetición\n",
    "\n",
    "De nada nos serviría un lenguaje que solo nos permita ejecutar instrucciones de manera secuencial. Acá es cuando conocer la sintaxis de los bloques de control de flujo de Python nos ayuda a representar mejor la realidad."
   ]
  },
  {
   "cell_type": "code",
   "execution_count": 1,
   "metadata": {},
   "outputs": [
    {
     "name": "stdout",
     "output_type": "stream",
     "text": [
      "Resultado si la condición evaluada es Verdadera\n"
     ]
    }
   ],
   "source": [
    "if (True):\n",
    "    print(\"Resultado si la condición evaluada es Verdadera\")"
   ]
  },
  {
   "cell_type": "code",
   "execution_count": 2,
   "metadata": {},
   "outputs": [
    {
     "name": "stdout",
     "output_type": "stream",
     "text": [
      "Resultado si la condición evaluada es Verdadera\n"
     ]
    }
   ],
   "source": [
    "if (True):\n",
    "    print(\"Resultado si la condición evaluada es Verdadera\")\n",
    "else:\n",
    "    print(\"Resultado si la condición evaluada es Falsa\")"
   ]
  },
  {
   "cell_type": "code",
   "execution_count": 3,
   "metadata": {},
   "outputs": [
    {
     "name": "stdout",
     "output_type": "stream",
     "text": [
      "La primera condición es Verdadera\n",
      "La segunda condicion también es Verdadera\n"
     ]
    }
   ],
   "source": [
    "if (True):\n",
    "    print(\"La primera condición es Verdadera\")\n",
    "    if(True):\n",
    "        print(\"La segunda condicion también es Verdadera\")\n",
    "else:\n",
    "    print(\"Resultado si la condición evaluada es Falsa\")"
   ]
  },
  {
   "cell_type": "code",
   "execution_count": 4,
   "metadata": {},
   "outputs": [
    {
     "name": "stdout",
     "output_type": "stream",
     "text": [
      "La segunda condicion es Verdadera\n"
     ]
    }
   ],
   "source": [
    "if (False):\n",
    "    print(\"La primera condición es Verdadera\")\n",
    "elif(True):\n",
    "    print(\"La segunda condicion es Verdadera\")\n",
    "else:\n",
    "    print(\"Resultado si ninguna de las condiciones es Verdadera (Default)\")"
   ]
  },
  {
   "cell_type": "markdown",
   "metadata": {},
   "source": [
    "Volvamos al ejemplo del sistema bancario. Si el usuario quiere realizar una compra pero excede su saldo, le avisaremos, sino, descontamos el gasto de su saldo y le informamos el estado de su cuenta actualizado."
   ]
  },
  {
   "cell_type": "code",
   "execution_count": 11,
   "metadata": {},
   "outputs": [
    {
     "name": "stdout",
     "output_type": "stream",
     "text": [
      "Saldo: $10000\n",
      "No tiene saldo suficiente para comprar por $15000\n",
      "Su saldo actualizao es de $10000\n"
     ]
    }
   ],
   "source": [
    "account = 10000\n",
    "print(\"Saldo: $\" + str(account))\n",
    "\n",
    "purchase1 = 15000\n",
    "\n",
    "if (purchase1 <= account):\n",
    "    account = account - purchase1\n",
    "    print(\"Usted acaba de realizar una compra por $\" + str(purchase1))\n",
    "    print(\"Su saldo actualizao es de $\" + str(account))\n",
    "else:    \n",
    "    print(\"No tiene saldo suficiente para comprar por $\" + str(purchase1))\n",
    "    print(\"Su saldo actualizao es de $\" + str(account))"
   ]
  },
  {
   "cell_type": "code",
   "execution_count": 12,
   "metadata": {},
   "outputs": [
    {
     "name": "stdout",
     "output_type": "stream",
     "text": [
      "Usted acaba de realizar una compra por $7000\n",
      "Su saldo actualizao es de $3000\n"
     ]
    }
   ],
   "source": [
    "purchase2 = 7000\n",
    "\n",
    "if (purchase2 <= account):\n",
    "    account = account - purchase2\n",
    "    print(\"Usted acaba de realizar una compra por $\" + str(purchase2))\n",
    "    print(\"Su saldo actualizao es de $\" + str(account))\n",
    "else:    \n",
    "    print(\"No tiene saldo suficiente para comprar por $\" + str(purchase2))\n",
    "    print(\"Su saldo actualizao es de $\" + str(account))"
   ]
  },
  {
   "cell_type": "code",
   "execution_count": null,
   "metadata": {},
   "outputs": [],
   "source": []
  }
 ],
 "metadata": {
  "kernelspec": {
   "display_name": "Python 3",
   "language": "python",
   "name": "python3"
  },
  "language_info": {
   "codemirror_mode": {
    "name": "ipython",
    "version": 3
   },
   "file_extension": ".py",
   "mimetype": "text/x-python",
   "name": "python",
   "nbconvert_exporter": "python",
   "pygments_lexer": "ipython3",
   "version": "3.7.6"
  }
 },
 "nbformat": 4,
 "nbformat_minor": 2
}
