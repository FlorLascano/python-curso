{
 "cells": [
  {
   "cell_type": "markdown",
   "metadata": {},
   "source": [
    "<img src=\"assets/socalo-ICDA.png\">"
   ]
  },
  {
   "cell_type": "markdown",
   "metadata": {},
   "source": [
    "\n"
   ]
  },
  {
   "cell_type": "markdown",
   "metadata": {},
   "source": [
    "# Python para Finanzas y Ciencia de Datos\n",
    "Federico Brun | fedejbrun@gmail.com\n",
    "\n",
    "_Jueves 24 Septiembre 2020_"
   ]
  },
  {
   "cell_type": "markdown",
   "metadata": {},
   "source": [
    "## Control de Flujo y Estructuras de datos"
   ]
  },
  {
   "cell_type": "markdown",
   "metadata": {},
   "source": [
    "<img src=\"https://robocrop.realpython.net/?url=https%3A//files.realpython.com/media/Python-Tricks-Chapter-on-Data-Structures_Watermarked.bafeb804a9db.jpg&w=960&sig=27e77510dc371d0b933baf7347d7310d7cc0616c\">\n",
    "\n",
    "_Fuente: realpython.com_\n",
    "\n",
    "Hasta ahora, todos los ejemplos que venimos tratando en el curso, siguen una naturaleza *secuencial*, pero a la hora de modelar la realidad utilizando programación, seguir un enfoque secuencial nos dejaría un poco limitados para implementar en nuestrs sistemas situaciones en las que la naturaleza misma de los acontecimientos no sea secuencial.\n",
    "\n",
    "Para ello, Python nos provee las siguientes estructuas **control de flujo**:\n",
    "* Condicionales\n",
    "* Bucles\n",
    "* Iteradores\n",
    "\n",
    "Una estructura de control dirije el orden de ejecucion de las instrucciones de un programa, lo que llamamos _control de flujo_."
   ]
  },
  {
   "cell_type": "markdown",
   "metadata": {},
   "source": [
    "### Condicional: IF\n",
    "\n",
    "La estructura de control condicional, es la forma que tenemos de evaluar información, y actuar según sea necesario.\n",
    "\n",
    "En su forma más sencilla, la estructura de control **`if`** ejecuta una instruccion, o un conjunto de instrucciones, según una **condición** sea evaluada como **`True`** o **`False`**.\n"
   ]
  },
  {
   "cell_type": "code",
   "execution_count": 1,
   "metadata": {},
   "outputs": [],
   "source": [
    "x = 100\n",
    "y = 200 "
   ]
  },
  {
   "cell_type": "code",
   "execution_count": 4,
   "metadata": {},
   "outputs": [
    {
     "name": "stdout",
     "output_type": "stream",
     "text": [
      "X es menor que Y\n"
     ]
    }
   ],
   "source": [
    "if x < y:\n",
    "    print(\"X es menor que Y\")"
   ]
  },
  {
   "cell_type": "code",
   "execution_count": 5,
   "metadata": {},
   "outputs": [],
   "source": [
    "if x > y:\n",
    "    print(\"X es mayor que Y\")"
   ]
  },
  {
   "cell_type": "markdown",
   "metadata": {},
   "source": [
    "En python, usamos la _indentación_ como herramienta para definir bloques de ejecución, en los que todas las instrucciones \"hermanas\" estan igualmente indentadas.\n",
    "\n",
    "Para esto usamos `tab`. Ejemplo:\n",
    "\n",
    "```\n",
    "if <expresión>:\n",
    "....<instrucción>\n",
    "....<instrucción>\n",
    "```"
   ]
  },
  {
   "cell_type": "code",
   "execution_count": 6,
   "metadata": {},
   "outputs": [
    {
     "name": "stdout",
     "output_type": "stream",
     "text": [
      "X es menor que Y\n",
      "Lo que significa que\n",
      "Y es mayor que X\n",
      "Cambiamos los valores para demostrar\n",
      "que se pueden ejecutar varias instrucciones\n",
      "dentro de un mismo bloque indentado\n"
     ]
    }
   ],
   "source": [
    "if x < y:\n",
    "    print(\"X es menor que Y\")\n",
    "    print(\"Lo que significa que\")\n",
    "    print(\"Y es mayor que X\")\n",
    "    print(\"Cambiamos los valores para demostrar\")\n",
    "    print(\"que se pueden ejecutar varias instrucciones\")\n",
    "    print(\"dentro de un mismo bloque indentado\")\n",
    "    x = x * y"
   ]
  },
  {
   "cell_type": "code",
   "execution_count": 7,
   "metadata": {},
   "outputs": [
    {
     "data": {
      "text/plain": [
       "20000"
      ]
     },
     "execution_count": 7,
     "metadata": {},
     "output_type": "execute_result"
    }
   ],
   "source": [
    "x"
   ]
  },
  {
   "cell_type": "code",
   "execution_count": 9,
   "metadata": {},
   "outputs": [
    {
     "name": "stdout",
     "output_type": "stream",
     "text": [
      "X es mayor que Y, el nuevo valor es: 20000\n"
     ]
    }
   ],
   "source": [
    "if x > y:\n",
    "    print(\"X es mayor que Y, el nuevo valor es: \" + str(x))"
   ]
  },
  {
   "cell_type": "markdown",
   "metadata": {},
   "source": [
    "Por ahora, solo podemos llevar acabo acciones **SI la expresión evaluada es Verdadera**.\n",
    "\n",
    "Para contemplar también el caso opuesto, usamos la estructura **`IF-ELSE`** la cual nos permite implementar una lógica para cuando la expresión es verdadera y otra para cuando _la condición_ es falsa."
   ]
  },
  {
   "cell_type": "code",
   "execution_count": 14,
   "metadata": {},
   "outputs": [
    {
     "name": "stdout",
     "output_type": "stream",
     "text": [
      "X es menor que Y\n"
     ]
    }
   ],
   "source": [
    "if x > y:\n",
    "    print(\"X es mayor que Y\")\n",
    "else:\n",
    "    print(\"X es menor que Y\")"
   ]
  },
  {
   "cell_type": "code",
   "execution_count": 15,
   "metadata": {},
   "outputs": [],
   "source": [
    "x = 0"
   ]
  },
  {
   "cell_type": "code",
   "execution_count": 16,
   "metadata": {},
   "outputs": [
    {
     "name": "stdout",
     "output_type": "stream",
     "text": [
      "X es menor que Y\n"
     ]
    }
   ],
   "source": [
    "if x > y:\n",
    "    print(\"X es mayor que Y\")\n",
    "else:\n",
    "    print(\"X es menor que Y\")"
   ]
  },
  {
   "cell_type": "markdown",
   "metadata": {},
   "source": [
    "Las instrucciones condicinales se pueden anidar, una dentro de otra."
   ]
  },
  {
   "cell_type": "code",
   "execution_count": 22,
   "metadata": {},
   "outputs": [],
   "source": [
    "x = 100\n",
    "y = 133"
   ]
  },
  {
   "cell_type": "code",
   "execution_count": 23,
   "metadata": {},
   "outputs": [
    {
     "name": "stdout",
     "output_type": "stream",
     "text": [
      "Y es mayor que X\n",
      "Y es impar\n"
     ]
    }
   ],
   "source": [
    "if x > y:\n",
    "    print(\"X es mayor que Y\")\n",
    "    \n",
    "    if x % 2 == 0:\n",
    "        print(\"X es par\")\n",
    "        \n",
    "    else:\n",
    "        print(\"X es impar\")\n",
    "else:\n",
    "    print(\"Y es mayor que X\")\n",
    "    \n",
    "    if y % 2 == 0:\n",
    "        print(\"Y es par\")\n",
    "    else:\n",
    "        print(\"Y es impar\")"
   ]
  },
  {
   "cell_type": "markdown",
   "metadata": {},
   "source": [
    "Es importante destacar la sintaxis que presentamos anteriormente:\n",
    "\n",
    "```\n",
    "if <expresión>:\n",
    "    <instrucción>\n",
    "    <instrucción>\n",
    "```\n",
    "\n",
    "Si prestamos atención, vemos que lo que se evalúa como **`True`** o **`False`** es una **expresión**. Esto quiere decir, que podemos construir condiciones complejas, adaptandonos a cualquier realidad que necesitemos evaluar."
   ]
  },
  {
   "cell_type": "code",
   "execution_count": 25,
   "metadata": {},
   "outputs": [
    {
     "name": "stdout",
     "output_type": "stream",
     "text": [
      "1 + 1 es igual a 2; Y la cadena \"Python\" se encuentra dentro de text_var\n"
     ]
    }
   ],
   "source": [
    "text_var = \"ICDA: Python para finanzas\"\n",
    "\n",
    "if (1 + 1) == 2 and (\"Python\" in text_var):\n",
    "    print(\"1 + 1 es igual a 2; Y la cadena \\\"Python\\\" se encuentra dentro de text_var\")\n",
    "else:\n",
    "    print(\"1 + 1 no es igual a 2; O la cadena \\\"Python\\\" no se encuentra dentro de text_var\")"
   ]
  },
  {
   "cell_type": "markdown",
   "metadata": {},
   "source": [
    "Para construir expresiones complejas, utilizamos **operadores lógicos con símbolos y palabras reservadas**:\n",
    "\n",
    "Operador | Comparación\n",
    "------------ | -------------\n",
    "a == b    | a **es igual que** b\n",
    "a != b    | a **es distinto de** b\n",
    "a < b    | a **es menor que** b\n",
    "a <= b    | a **es menor o igual que** b\n",
    "a > b    | a **es mayor que** b\n",
    "a >= b    | a **es mayor o igual igual que** b\n",
    "\n",
    "*Usados para comparar valores numéricos.\n"
   ]
  },
  {
   "cell_type": "code",
   "execution_count": 30,
   "metadata": {},
   "outputs": [],
   "source": [
    "a = 100\n",
    "b = 120"
   ]
  },
  {
   "cell_type": "code",
   "execution_count": 31,
   "metadata": {},
   "outputs": [
    {
     "name": "stdout",
     "output_type": "stream",
     "text": [
      "False\n"
     ]
    }
   ],
   "source": [
    "print(a == b)"
   ]
  },
  {
   "cell_type": "code",
   "execution_count": 32,
   "metadata": {},
   "outputs": [
    {
     "name": "stdout",
     "output_type": "stream",
     "text": [
      "True\n"
     ]
    }
   ],
   "source": [
    "print(a != b)"
   ]
  },
  {
   "cell_type": "code",
   "execution_count": 33,
   "metadata": {},
   "outputs": [
    {
     "name": "stdout",
     "output_type": "stream",
     "text": [
      "True\n"
     ]
    }
   ],
   "source": [
    "print(a < b)"
   ]
  },
  {
   "cell_type": "code",
   "execution_count": 35,
   "metadata": {},
   "outputs": [
    {
     "name": "stdout",
     "output_type": "stream",
     "text": [
      "True\n"
     ]
    }
   ],
   "source": [
    "print(a <= b)"
   ]
  },
  {
   "cell_type": "code",
   "execution_count": 36,
   "metadata": {},
   "outputs": [
    {
     "name": "stdout",
     "output_type": "stream",
     "text": [
      "False\n"
     ]
    }
   ],
   "source": [
    "print(a > b)"
   ]
  },
  {
   "cell_type": "code",
   "execution_count": 37,
   "metadata": {},
   "outputs": [
    {
     "name": "stdout",
     "output_type": "stream",
     "text": [
      "False\n"
     ]
    }
   ],
   "source": [
    "print(a >= b)"
   ]
  },
  {
   "cell_type": "markdown",
   "metadata": {},
   "source": [
    "Operador | Comparación\n",
    "------------ | -------------\n",
    "a and b    | Lado izquierdo y lado derecho **son True**\n",
    "a or b    | Lado izquierdo o derecho **es True**\n",
    "not a    | El valor **opuesto** de a\n",
    "\n",
    "*Usados para comparar expresiones lógicas booleanas.\n"
   ]
  },
  {
   "cell_type": "code",
   "execution_count": 26,
   "metadata": {},
   "outputs": [],
   "source": [
    "a = True\n",
    "b = False"
   ]
  },
  {
   "cell_type": "code",
   "execution_count": 27,
   "metadata": {},
   "outputs": [
    {
     "name": "stdout",
     "output_type": "stream",
     "text": [
      "False\n"
     ]
    }
   ],
   "source": [
    "print(a and b)"
   ]
  },
  {
   "cell_type": "code",
   "execution_count": 28,
   "metadata": {},
   "outputs": [
    {
     "name": "stdout",
     "output_type": "stream",
     "text": [
      "True\n"
     ]
    }
   ],
   "source": [
    "print(a or b)"
   ]
  },
  {
   "cell_type": "code",
   "execution_count": 29,
   "metadata": {},
   "outputs": [
    {
     "name": "stdout",
     "output_type": "stream",
     "text": [
      "False\n"
     ]
    }
   ],
   "source": [
    "print(not a)"
   ]
  },
  {
   "cell_type": "markdown",
   "metadata": {},
   "source": [
    "Para simplificar el código, podemos aprovechar la sintaxis reducida de Python para cuando tenemos que crear estructuras condicionales anidadas **IF-ELSE**, usando una estructura del tipo:\n",
    "```\n",
    "if <expresión1>:     <---- Evalúa expresión1\n",
    "    <instrucción>    <---- Si expresión1 es True ejecuta todo este bloque\n",
    "    <instrucción>\n",
    "    <instrucción>\n",
    "    <instrucción>\n",
    "elif <expresión2>:   <---- Si expresión1 es False evalúa expresión2\n",
    "    <instrucción>    <---- Si expresión2 es True ejecuta todo este bloque\n",
    "    <instrucción>\n",
    "    <instrucción>\n",
    "    <instrucción>\n",
    "else:                <---- Si expresión1 y expresión2 son False al mismo tiempo ejecuta el bloque de abajo\n",
    "    <instrucción>\n",
    "    <instrucción>\n",
    "    <instrucción>\n",
    "```"
   ]
  },
  {
   "cell_type": "code",
   "execution_count": null,
   "metadata": {},
   "outputs": [],
   "source": []
  }
 ],
 "metadata": {
  "kernelspec": {
   "display_name": "Python 3",
   "language": "python",
   "name": "python3"
  },
  "language_info": {
   "codemirror_mode": {
    "name": "ipython",
    "version": 3
   },
   "file_extension": ".py",
   "mimetype": "text/x-python",
   "name": "python",
   "nbconvert_exporter": "python",
   "pygments_lexer": "ipython3",
   "version": "3.7.6"
  }
 },
 "nbformat": 4,
 "nbformat_minor": 2
}
