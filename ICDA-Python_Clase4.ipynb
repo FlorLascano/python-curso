{
 "cells": [
  {
   "cell_type": "markdown",
   "metadata": {},
   "source": [
    "<img src=\"assets/socalo-ICDA.png\">"
   ]
  },
  {
   "cell_type": "markdown",
   "metadata": {},
   "source": [
    "\n"
   ]
  },
  {
   "cell_type": "markdown",
   "metadata": {},
   "source": [
    "# Python para Finanzas y Ciencia de Datos\n",
    "Federico Brun | fedejbrun@gmail.com\n",
    "\n",
    "_Jueves 24 Septiembre 2020_"
   ]
  },
  {
   "cell_type": "markdown",
   "metadata": {},
   "source": [
    "## Estructuras de datos y Control de Flujo"
   ]
  },
  {
   "cell_type": "markdown",
   "metadata": {},
   "source": [
    "<img src=\"https://robocrop.realpython.net/?url=https%3A//files.realpython.com/media/Python-Tricks-Chapter-on-Data-Structures_Watermarked.bafeb804a9db.jpg&w=960&sig=27e77510dc371d0b933baf7347d7310d7cc0616c\">\n",
    "\n",
    "_Fuente: realpython.com_\n",
    "\n",
    "Al trabajar con datos, y particularmente con grandes volúmenes de datos; surge la necesidad de ser capaces de manipular estructuras de datos que permitan agrupar esos datos siguiendo algún criterio.\n",
    "\n",
    "Por ejemplo una lista de clientes  y proveedores, un portfolio de acciones, un reporte de fallas ordenado pr fecha de algun tipo de servicio, etc.\n",
    "\n",
    "Python, entre muchas otras estructuras de datos, nos provee tres que serán objeto de estudio en el curso por su versatilidad, facilidad de uso y comprension:\n",
    "\n",
    "* Listas\n",
    "* Diccionarios\n",
    "* Tuplas"
   ]
  },
  {
   "cell_type": "markdown",
   "metadata": {},
   "source": [
    "### Listas\n",
    "\n",
    "Las listas en Python son el _tipo_ de objeto mas flexible para implementar colecciones de datos ordenados.\n",
    "\n",
    "Las listas en Python, pueden contener _cualquier_ tipo de dato, inclusive otras listas.\n",
    "Se pueden cambiar, reordenar, crecer según sea necesario, y proveen muchas funciones propias para trabajar sobre ellas."
   ]
  },
  {
   "cell_type": "code",
   "execution_count": null,
   "metadata": {},
   "outputs": [],
   "source": [
    "empty_list = []\n",
    "empty_list"
   ]
  },
  {
   "cell_type": "code",
   "execution_count": null,
   "metadata": {},
   "outputs": [],
   "source": [
    "int_list = [1, 2, 3, 4, 5, 6, 7]\n",
    "int_list"
   ]
  },
  {
   "cell_type": "code",
   "execution_count": null,
   "metadata": {},
   "outputs": [],
   "source": [
    "string_list = [\"Pablo\", \"Daniela\", \"Ruben\", \"Agustina\", \"Mariana\"]\n",
    "string_list"
   ]
  },
  {
   "cell_type": "code",
   "execution_count": null,
   "metadata": {},
   "outputs": [],
   "source": [
    "client = [15234, \"Ruben\", \" Guzmán\"]\n",
    "client"
   ]
  },
  {
   "cell_type": "code",
   "execution_count": null,
   "metadata": {},
   "outputs": [],
   "source": [
    "notas = [\n",
    "    [10, 7, 5, 10, 9],\n",
    "    [1, 6, 8, 9, 8],\n",
    "    [7, 8, 6, 8, 9]\n",
    "]"
   ]
  },
  {
   "cell_type": "code",
   "execution_count": null,
   "metadata": {},
   "outputs": [],
   "source": [
    "print(\"Notas del segundo parcial: \", notas[1])"
   ]
  },
  {
   "cell_type": "code",
   "execution_count": null,
   "metadata": {},
   "outputs": [],
   "source": [
    "print(\"Nota del segundo parcial para el último alumno de la lista: \", notas [1][4])"
   ]
  },
  {
   "cell_type": "code",
   "execution_count": null,
   "metadata": {},
   "outputs": [],
   "source": [
    "print(\"Nota del segundo parcial para el último alumno de la lista: \", notas [1][-1])"
   ]
  },
  {
   "cell_type": "markdown",
   "metadata": {},
   "source": [
    "#### Manipulación de Listas\n",
    "<img src=\"https://railsware.com/blog/wp-content/uploads/2018/10/positive-indexes.png\">\n",
    "\n",
    "Al ser la Lista una coleccion de datos **ordanados**, necesitamos un mecanismo de indexado que nos permita **acceder** a los mismos siguiendo alguna lógica, para poder trabajar con ellos (leer, modificar, agregar y borrar datos de la lista).\n",
    "\n",
    "En Python, para una lista con una longitud de `n` elementos, el índice de la lista empieza en `0` y termina en `n-1`."
   ]
  },
  {
   "cell_type": "code",
   "execution_count": null,
   "metadata": {},
   "outputs": [],
   "source": [
    "colors = ['red', 'green', 'blue', 'yellow', 'white', 'black']"
   ]
  },
  {
   "cell_type": "code",
   "execution_count": null,
   "metadata": {},
   "outputs": [],
   "source": [
    "colors[0]"
   ]
  },
  {
   "cell_type": "code",
   "execution_count": null,
   "metadata": {},
   "outputs": [],
   "source": [
    "colors[4]"
   ]
  },
  {
   "cell_type": "markdown",
   "metadata": {},
   "source": [
    "<img src=\"https://railsware.com/blog/wp-content/uploads/2018/10/negative-indexes.png\">"
   ]
  },
  {
   "cell_type": "code",
   "execution_count": null,
   "metadata": {},
   "outputs": [],
   "source": [
    "colors[-1]"
   ]
  },
  {
   "cell_type": "code",
   "execution_count": null,
   "metadata": {},
   "outputs": [],
   "source": [
    "colors[-6]"
   ]
  },
  {
   "cell_type": "markdown",
   "metadata": {},
   "source": [
    "Como mencionames, las Listas son mutables, por lo que podemos modificar sus valores."
   ]
  },
  {
   "cell_type": "code",
   "execution_count": null,
   "metadata": {},
   "outputs": [],
   "source": [
    "colors"
   ]
  },
  {
   "cell_type": "code",
   "execution_count": null,
   "metadata": {},
   "outputs": [],
   "source": [
    "colors[2] = \"orange\"\n",
    "colors"
   ]
  },
  {
   "cell_type": "code",
   "execution_count": null,
   "metadata": {},
   "outputs": [],
   "source": [
    "del colors[3]\n",
    "colors"
   ]
  },
  {
   "cell_type": "markdown",
   "metadata": {},
   "source": [
    "Podemos trabajar con **porciones** de las listas, indexandolas como sigue:\n",
    "\n",
    "<img src=\"https://railsware.com/blog/wp-content/uploads/2018/10/first-slice.png\"/>"
   ]
  },
  {
   "cell_type": "code",
   "execution_count": null,
   "metadata": {},
   "outputs": [],
   "source": [
    "int_list = [10, 20, 30, 40, 50, 60, 70, 80, 90]"
   ]
  },
  {
   "cell_type": "code",
   "execution_count": null,
   "metadata": {},
   "outputs": [],
   "source": [
    "int_list[2:7]"
   ]
  },
  {
   "cell_type": "code",
   "execution_count": null,
   "metadata": {},
   "outputs": [],
   "source": [
    "int_list[:5]"
   ]
  },
  {
   "cell_type": "code",
   "execution_count": null,
   "metadata": {},
   "outputs": [],
   "source": [
    "int_list[4:]"
   ]
  },
  {
   "cell_type": "code",
   "execution_count": null,
   "metadata": {},
   "outputs": [],
   "source": [
    "int_list[-4:]"
   ]
  },
  {
   "cell_type": "markdown",
   "metadata": {},
   "source": [
    "Podemos asignar estas porciones a una nueva lista:\n"
   ]
  },
  {
   "cell_type": "code",
   "execution_count": null,
   "metadata": {},
   "outputs": [],
   "source": [
    "new_int_list = int_list[-4:]"
   ]
  },
  {
   "cell_type": "code",
   "execution_count": null,
   "metadata": {},
   "outputs": [],
   "source": [
    "print(int_list)\n",
    "print(new_int_list)"
   ]
  },
  {
   "cell_type": "markdown",
   "metadata": {},
   "source": [
    "Podemos concatenar listas:"
   ]
  },
  {
   "cell_type": "code",
   "execution_count": null,
   "metadata": {},
   "outputs": [],
   "source": [
    "int_list + new_int_list"
   ]
  },
  {
   "cell_type": "markdown",
   "metadata": {},
   "source": [
    "Usando funciones propias de los tipos List, podemos:"
   ]
  },
  {
   "cell_type": "code",
   "execution_count": null,
   "metadata": {},
   "outputs": [],
   "source": [
    "# Agregar un elemento al final de la lista\n",
    "int_list.append(100)\n",
    "int_list"
   ]
  },
  {
   "cell_type": "code",
   "execution_count": null,
   "metadata": {},
   "outputs": [],
   "source": [
    "# Ordenar una lista\n",
    "int_list2 = [15, 90, 70, 2, 4, 1]\n",
    "int_list2.sort()\n",
    "int_list2"
   ]
  },
  {
   "cell_type": "markdown",
   "metadata": {},
   "source": [
    "### Diccionarios\n",
    "\n",
    "A diferencia de las Listas, los Diccionarios son una estructura de dato del tipo **clave-valor**, y no siguen un orden porque accedemos a los elementos a través de su clave, no de su índice.\n",
    "\n",
    "Lo que sí comparten ambas estructuras de datos es que son mutables, y pueden crecer según sea necesario."
   ]
  },
  {
   "cell_type": "code",
   "execution_count": null,
   "metadata": {},
   "outputs": [],
   "source": [
    "empty_dict = {}\n",
    "empty_dict"
   ]
  },
  {
   "cell_type": "code",
   "execution_count": null,
   "metadata": {},
   "outputs": [],
   "source": [
    "client = {'nombre': \"Ruben\", 'apellido': 'Gonzales', 'dni': 25487498}\n",
    "client"
   ]
  },
  {
   "cell_type": "code",
   "execution_count": null,
   "metadata": {},
   "outputs": [],
   "source": [
    "client = {\n",
    "    'nombre': \"Ruben\",\n",
    "    'apellido': 'Gonzales',\n",
    "    'dni': 25487498\n",
    "}\n",
    "client"
   ]
  },
  {
   "cell_type": "code",
   "execution_count": null,
   "metadata": {},
   "outputs": [],
   "source": [
    "notas = {\n",
    "    '1er': [6, 7, 8, 9, 10],\n",
    "    '2do': [10, 5, 6, 7, 8],\n",
    "    '3er': [9, 7, 8, 9, 9],\n",
    "}\n",
    "notas"
   ]
  },
  {
   "cell_type": "code",
   "execution_count": null,
   "metadata": {},
   "outputs": [],
   "source": [
    "print(notas['3er'])"
   ]
  },
  {
   "cell_type": "markdown",
   "metadata": {},
   "source": [
    "También los diccionarios tienen funciones propias para trabajar sobre la información que contienen:"
   ]
  },
  {
   "cell_type": "code",
   "execution_count": null,
   "metadata": {},
   "outputs": [],
   "source": [
    "notas.keys()"
   ]
  },
  {
   "cell_type": "code",
   "execution_count": null,
   "metadata": {},
   "outputs": [],
   "source": [
    "notas.values()"
   ]
  },
  {
   "cell_type": "code",
   "execution_count": null,
   "metadata": {},
   "outputs": [],
   "source": [
    "notas.items()"
   ]
  },
  {
   "cell_type": "code",
   "execution_count": null,
   "metadata": {},
   "outputs": [],
   "source": [
    "notas.get('1er')"
   ]
  },
  {
   "cell_type": "code",
   "execution_count": null,
   "metadata": {},
   "outputs": [],
   "source": [
    "notas.get('4to', \"No existe\")"
   ]
  },
  {
   "cell_type": "markdown",
   "metadata": {},
   "source": [
    "Al ser inmutables ya sabemos que los podemos modificar:"
   ]
  },
  {
   "cell_type": "code",
   "execution_count": null,
   "metadata": {},
   "outputs": [],
   "source": [
    "print(notas)\n",
    "notas['1er'][0] = 10\n",
    "print(notas)"
   ]
  },
  {
   "cell_type": "markdown",
   "metadata": {},
   "source": [
    "Importante recordar que las operaciones secuenciales no funcionan porque no se indexan como las listas y que las claves no necesariamente deben ser String."
   ]
  },
  {
   "cell_type": "code",
   "execution_count": null,
   "metadata": {},
   "outputs": [],
   "source": [
    "new_notas = {\n",
    "    1: [10, 10, 6, 7, 8],\n",
    "    2: [9, 10, 6, 8, 8],\n",
    "    3: [10, 10, 10, 7, 8],\n",
    "}\n",
    "new_notas"
   ]
  },
  {
   "cell_type": "markdown",
   "metadata": {},
   "source": [
    "### Tuplas\n",
    "\n",
    "La Tupla construye grupos simples de datos.\n",
    "\n",
    "Funcionan exactamente igual que las listas, a excepción de que no se pueden modificar despues de que son creadas. \n",
    "\n",
    "Si bien no se pueden usar axactamente todos las mismas funciones que con listas, se comportan de manera similar."
   ]
  },
  {
   "cell_type": "code",
   "execution_count": null,
   "metadata": {},
   "outputs": [],
   "source": [
    "empty_tuple = ()\n",
    "empty_tuple"
   ]
  },
  {
   "cell_type": "code",
   "execution_count": null,
   "metadata": {},
   "outputs": [],
   "source": [
    "int_tuple = (4, 7, 2, 7, 90)\n",
    "int_tuple"
   ]
  },
  {
   "cell_type": "code",
   "execution_count": null,
   "metadata": {},
   "outputs": [],
   "source": [
    "mixed_tuple = (3, 7, 'Python')\n",
    "mixed_tuple"
   ]
  },
  {
   "cell_type": "code",
   "execution_count": null,
   "metadata": {},
   "outputs": [],
   "source": [
    "int_tuple[-1]"
   ]
  },
  {
   "cell_type": "code",
   "execution_count": null,
   "metadata": {},
   "outputs": [],
   "source": [
    "int_tuple[:3]"
   ]
  },
  {
   "cell_type": "code",
   "execution_count": null,
   "metadata": {},
   "outputs": [],
   "source": [
    "new_int_tuple = (1, 2, 3, 4, 5, 6, 7, 8, 9, 10)\n",
    "for number in new_int_tuple:\n",
    "    print(number * 2)"
   ]
  },
  {
   "cell_type": "markdown",
   "metadata": {},
   "source": [
    "---\n",
    "\n",
    "Hasta ahora, todos los ejemplos que venimos tratando en el curso, siguen una naturaleza *secuencial*, pero a la hora de modelar la realidad utilizando programación, seguir un enfoque secuencial nos dejaría un poco limitados para implementar en nuestrs sistemas situaciones en las que la naturaleza misma de los acontecimientos no sea secuencial.\n",
    "\n",
    "Para ello, Python nos provee las siguientes estructuas **control de flujo**:\n",
    "* Condicionales\n",
    "* Bucles\n",
    "\n",
    "Una estructura de control dirije el orden de ejecucion de las instrucciones de un programa, lo que llamamos _control de flujo_."
   ]
  },
  {
   "cell_type": "markdown",
   "metadata": {},
   "source": [
    "### Condicional: IF\n",
    "\n",
    "La estructura de control condicional, es la forma que tenemos de evaluar información, y actuar según sea necesario.\n",
    "\n",
    "En su forma más sencilla, la estructura de control **`if`** ejecuta una instruccion, o un conjunto de instrucciones, según una **condición** sea evaluada como **`True`** o **`False`**.\n"
   ]
  },
  {
   "cell_type": "code",
   "execution_count": null,
   "metadata": {},
   "outputs": [],
   "source": [
    "x = 100\n",
    "y = 200 "
   ]
  },
  {
   "cell_type": "code",
   "execution_count": null,
   "metadata": {},
   "outputs": [],
   "source": [
    "if x < y:\n",
    "    print(\"X es menor que Y\")"
   ]
  },
  {
   "cell_type": "code",
   "execution_count": null,
   "metadata": {},
   "outputs": [],
   "source": [
    "if x > y:\n",
    "    print(\"X es mayor que Y\")"
   ]
  },
  {
   "cell_type": "markdown",
   "metadata": {},
   "source": [
    "En python, usamos la _indentación_ como herramienta para definir bloques de ejecución, en los que todas las instrucciones \"hermanas\" estan igualmente indentadas.\n",
    "\n",
    "Para esto usamos `tab`. Ejemplo:\n",
    "\n",
    "```\n",
    "if <expresión>:\n",
    "....<instrucción>\n",
    "....<instrucción>\n",
    "```"
   ]
  },
  {
   "cell_type": "code",
   "execution_count": null,
   "metadata": {},
   "outputs": [],
   "source": [
    "if x < y:\n",
    "    print(\"X es menor que Y\")\n",
    "    print(\"Lo que significa que\")\n",
    "    print(\"Y es mayor que X\")\n",
    "    print(\"Ahora vamos a cambiar los valores para demostrar\")\n",
    "    print(\"que se pueden ejecutar varias instrucciones\")\n",
    "    print(\"dentro de un mismo bloque indentado\")\n",
    "    x = x * y"
   ]
  },
  {
   "cell_type": "code",
   "execution_count": null,
   "metadata": {},
   "outputs": [],
   "source": [
    "x"
   ]
  },
  {
   "cell_type": "code",
   "execution_count": null,
   "metadata": {},
   "outputs": [],
   "source": [
    "if x > y:\n",
    "    print(\"X es mayor que Y, el nuevo valor es: \" + str(x))"
   ]
  },
  {
   "cell_type": "markdown",
   "metadata": {},
   "source": [
    "Por ahora, solo podemos llevar acabo acciones **SI la expresión evaluada es Verdadera**.\n",
    "\n",
    "Para contemplar también el caso opuesto, usamos la estructura **`IF-ELSE`** la cual nos permite implementar una lógica para cuando la expresión es verdadera y otra para cuando _la condición_ es falsa."
   ]
  },
  {
   "cell_type": "code",
   "execution_count": null,
   "metadata": {},
   "outputs": [],
   "source": [
    "if x > y:\n",
    "    print(\"X es mayor que Y\")\n",
    "else:\n",
    "    print(\"X es menor que Y\")"
   ]
  },
  {
   "cell_type": "code",
   "execution_count": null,
   "metadata": {},
   "outputs": [],
   "source": [
    "x = 0"
   ]
  },
  {
   "cell_type": "code",
   "execution_count": null,
   "metadata": {},
   "outputs": [],
   "source": [
    "if x > y:\n",
    "    print(\"X es mayor que Y\")\n",
    "else:\n",
    "    print(\"X es menor que Y\")"
   ]
  },
  {
   "cell_type": "markdown",
   "metadata": {},
   "source": [
    "Las instrucciones condicinales se pueden anidar, una dentro de otra."
   ]
  },
  {
   "cell_type": "code",
   "execution_count": null,
   "metadata": {},
   "outputs": [],
   "source": [
    "x = 100\n",
    "y = 133"
   ]
  },
  {
   "cell_type": "code",
   "execution_count": null,
   "metadata": {},
   "outputs": [],
   "source": [
    "if x > y:\n",
    "    print(\"X es mayor que Y\")\n",
    "    \n",
    "    if x % 2 == 0:\n",
    "        print(\"X es par\")\n",
    "        \n",
    "    else:\n",
    "        print(\"X es impar\")\n",
    "else:\n",
    "    print(\"Y es mayor que X\")\n",
    "    \n",
    "    if y % 2 == 0:\n",
    "        print(\"Y es par\")\n",
    "    else:\n",
    "        print(\"Y es impar\")"
   ]
  },
  {
   "cell_type": "markdown",
   "metadata": {},
   "source": [
    "Es importante destacar la sintaxis que presentamos anteriormente:\n",
    "\n",
    "```\n",
    "if <expresión>:\n",
    "    <instrucción>\n",
    "    <instrucción>\n",
    "```\n",
    "\n",
    "Si prestamos atención, vemos que lo que se evalúa como **`True`** o **`False`** es una **expresión**. Esto quiere decir, que podemos construir condiciones complejas, adaptandonos a cualquier realidad que necesitemos evaluar."
   ]
  },
  {
   "cell_type": "code",
   "execution_count": null,
   "metadata": {},
   "outputs": [],
   "source": [
    "text_var = \"ICDA: Python para finanzas\"\n",
    "\n",
    "if (1 + 1) == 2 and (\"Python\" in text_var):\n",
    "    print(\"1 + 1 es igual a 2; Y la cadena \\\"Python\\\" se encuentra dentro de text_var\")\n",
    "else:\n",
    "    print(\"1 + 1 no es igual a 2; O la cadena \\\"Python\\\" no se encuentra dentro de text_var\")"
   ]
  },
  {
   "cell_type": "markdown",
   "metadata": {},
   "source": [
    "Para construir expresiones complejas, utilizamos **operadores lógicos con símbolos y palabras reservadas**:\n",
    "\n",
    "Operador | Comparación\n",
    "------------ | -------------\n",
    "a == b    | a **es igual que** b\n",
    "a != b    | a **es distinto de** b\n",
    "a < b    | a **es menor que** b\n",
    "a <= b    | a **es menor o igual que** b\n",
    "a > b    | a **es mayor que** b\n",
    "a >= b    | a **es mayor o igual igual que** b\n",
    "\n",
    "*Usados para comparar valores numéricos.\n"
   ]
  },
  {
   "cell_type": "code",
   "execution_count": null,
   "metadata": {},
   "outputs": [],
   "source": [
    "a = 100\n",
    "b = 120"
   ]
  },
  {
   "cell_type": "code",
   "execution_count": null,
   "metadata": {},
   "outputs": [],
   "source": [
    "print(a == b)"
   ]
  },
  {
   "cell_type": "code",
   "execution_count": null,
   "metadata": {},
   "outputs": [],
   "source": [
    "print(a != b)"
   ]
  },
  {
   "cell_type": "code",
   "execution_count": null,
   "metadata": {},
   "outputs": [],
   "source": [
    "print(a < b)"
   ]
  },
  {
   "cell_type": "code",
   "execution_count": null,
   "metadata": {},
   "outputs": [],
   "source": [
    "print(a <= b)"
   ]
  },
  {
   "cell_type": "code",
   "execution_count": null,
   "metadata": {},
   "outputs": [],
   "source": [
    "print(a > b)"
   ]
  },
  {
   "cell_type": "code",
   "execution_count": null,
   "metadata": {},
   "outputs": [],
   "source": [
    "print(a >= b)"
   ]
  },
  {
   "cell_type": "markdown",
   "metadata": {},
   "source": [
    "Operador | Comparación\n",
    "------------ | -------------\n",
    "a and b    | Lado izquierdo y lado derecho **son True**\n",
    "a or b    | Lado izquierdo o derecho **es True**\n",
    "not a    | El valor **opuesto** de a\n",
    "\n",
    "*Usados para comparar expresiones lógicas booleanas.\n"
   ]
  },
  {
   "cell_type": "code",
   "execution_count": null,
   "metadata": {},
   "outputs": [],
   "source": [
    "a = True\n",
    "b = False"
   ]
  },
  {
   "cell_type": "code",
   "execution_count": null,
   "metadata": {},
   "outputs": [],
   "source": [
    "print(a and b)"
   ]
  },
  {
   "cell_type": "code",
   "execution_count": null,
   "metadata": {},
   "outputs": [],
   "source": [
    "print(a or b)"
   ]
  },
  {
   "cell_type": "code",
   "execution_count": null,
   "metadata": {},
   "outputs": [],
   "source": [
    "print(not a)"
   ]
  },
  {
   "cell_type": "markdown",
   "metadata": {},
   "source": [
    "Para simplificar el código, podemos aprovechar la sintaxis reducida de Python para cuando tenemos que crear estructuras condicionales anidadas **IF-ELSE**, usando una estructura del tipo **IF-ELIF-ELSE**:\n",
    "```\n",
    "if <expresión1>:     <---- Evalúa expresión1\n",
    "    <instrucción>    <---- Si expresión1 es True ejecuta todo este bloque\n",
    "    <instrucción>\n",
    "    <instrucción>\n",
    "    <instrucción>\n",
    "elif <expresión2>:   <---- Si expresión1 es False evalúa expresión2\n",
    "    <instrucción>    <---- Si expresión2 es True ejecuta todo este bloque\n",
    "    <instrucción>\n",
    "    <instrucción>\n",
    "    <instrucción>\n",
    "else:                <---- Si expresión1 y expresión2 son False al mismo tiempo ejecuta el bloque de abajo\n",
    "    <instrucción>\n",
    "    <instrucción>\n",
    "    <instrucción>\n",
    "```"
   ]
  },
  {
   "cell_type": "code",
   "execution_count": null,
   "metadata": {},
   "outputs": [],
   "source": [
    "name = \"Federico\"\n",
    "\n",
    "if name == \"Federico\":\n",
    "    print(\"Hola Fede!\")\n",
    "elif name == \"Mariana\":\n",
    "    print(\"Hola Mari!\")\n",
    "elif name == \"Joaquin\":\n",
    "    print(\"Hola Joaco!\")\n",
    "elif name == \"Agustina\":\n",
    "    print(\"Hola Agus!\")\n",
    "else:\n",
    "    print(\"Disculpame, todavía no te conozco!\")"
   ]
  },
  {
   "cell_type": "code",
   "execution_count": null,
   "metadata": {},
   "outputs": [],
   "source": [
    "name = \"Agustina\"\n",
    "\n",
    "if name == \"Federico\":\n",
    "    print(\"Hola Fede!\")\n",
    "elif name == \"Mariana\":\n",
    "    print(\"Hola Mari!\")\n",
    "elif name == \"Joaquin\":\n",
    "    print(\"Hola Joaco!\")\n",
    "elif name == \"Agustina\":\n",
    "    print(\"Hola Agus!\")\n",
    "else:\n",
    "    print(\"Disculpame, todavía no te conozco!\")"
   ]
  },
  {
   "cell_type": "code",
   "execution_count": null,
   "metadata": {},
   "outputs": [],
   "source": [
    "name = \"Ricardo\"\n",
    "\n",
    "if name == \"Federico\":\n",
    "    print(\"Hola Fede!\")\n",
    "elif name == \"Mariana\":\n",
    "    print(\"Hola Mari!\")\n",
    "elif name == \"Joaquin\":\n",
    "    print(\"Hola Joaco!\")\n",
    "elif name == \"Agustina\":\n",
    "    print(\"Hola Agus!\")\n",
    "else:\n",
    "    print(\"Disculpame, todavía no te conozco!\")"
   ]
  },
  {
   "cell_type": "markdown",
   "metadata": {},
   "source": [
    "Comprender la estructuras de control de flujo condicionales es importante porque nos permite representar la realidad de manera mas fidedigna, pudiendo _decidir_ entre diferentes caminos, sin necesidad de recorrer todos.\n",
    "Muchas de las funciones propias de Python, nos **devuelven** valores de tipo Booleanos (True/Falso) por lo que podemos usarlos como validacion en nuestros programas."
   ]
  },
  {
   "cell_type": "code",
   "execution_count": null,
   "metadata": {},
   "outputs": [],
   "source": [
    "student_age = input(\"Hola {}! Podrías decirme tu edad?: \".format(name))"
   ]
  },
  {
   "cell_type": "code",
   "execution_count": null,
   "metadata": {},
   "outputs": [],
   "source": [
    "if student_age.isdigit():\n",
    "    print(\"Muchas gracias!\")\n",
    "else:\n",
    "    print(\"Creo que tu respuesta no es un número...\")"
   ]
  },
  {
   "cell_type": "markdown",
   "metadata": {},
   "source": [
    "### Bucles: FOR y WHILE\n",
    "\n",
    "Ahora ya sabemos cómo hacer que nuestros programas ejecuten instrucciones según alguna condición, el próximo paso es aprender a llevar a ejecutar instrucciones o conjuntos de instrucciones de manera repetitiva.\n",
    "\n",
    "Para ello vamos a usar estructuras de **repetición**, tambien conocidas como **bucles**.\n",
    "\n",
    "Dependiendo cual sea la situacion que tengamos que modelar, podríamos necesitar _repetir_ instrucciones de manera **finita o definida**, por ejemplo \"dada una lista de alumnos, mandar un correo individual a cada uno informándole la nota de su examen\"; y repetir instrucciones de manera **indefinida** por ejemplo \"Hasta que el usuario no ingrese su contraseña correctamente informarle que es incorrecta y volver a pedírsela\".\n",
    "\n",
    "Cada uno de estos comportamientos posee una estructura de repetición asociada:\n",
    "* Repetición finita: **FOR**\n",
    "* Repetición infinita: **WHILE**"
   ]
  },
  {
   "cell_type": "markdown",
   "metadata": {},
   "source": [
    "La estructura **FOR** nos permite ejecutar un conjunto de instrucciones que definamos, un número finito de veces.\n",
    "\n",
    "Par llevar un control de _cúantas veces_ ejecutar las instrucciones, utilizamos un **rango**, o algún objeto *iterable* como una lista."
   ]
  },
  {
   "cell_type": "code",
   "execution_count": null,
   "metadata": {},
   "outputs": [],
   "source": [
    "# Iteracion por contador\n",
    "for i in range(10):\n",
    "    print(\"Iteración Nº {}\".format(i))"
   ]
  },
  {
   "cell_type": "code",
   "execution_count": null,
   "metadata": {},
   "outputs": [],
   "source": [
    "# Iteracion por contador con impresión de offset para usuario\n",
    "for i in range(10):\n",
    "    print(\"Iteración Nº {}\".format(i+1))"
   ]
  },
  {
   "cell_type": "code",
   "execution_count": null,
   "metadata": {},
   "outputs": [],
   "source": [
    "students = [\"Roberto\", \"Maria\", \"Joaquin\", \"Tomas\", \"Gustavo\", \"Delfina\"]"
   ]
  },
  {
   "cell_type": "code",
   "execution_count": null,
   "metadata": {},
   "outputs": [],
   "source": [
    "for student in students:\n",
    "    print(\"Hola \" + student + \" bienvenido a Python para Finanzas y Ciencia de Datos!\")"
   ]
  },
  {
   "cell_type": "code",
   "execution_count": null,
   "metadata": {},
   "outputs": [],
   "source": [
    "product_prices = [34, 76, 23, 76, 98, 23]\n",
    "for product in product_prices:\n",
    "    print(\"Producto \" + str(product_prices.index(product) + 1) +\": Precio$ \" + str(product) )"
   ]
  },
  {
   "cell_type": "markdown",
   "metadata": {},
   "source": [
    "Con las herramientas que contamos hasta ahora, podemos integrarlas para hacer soluciones mas complejas.\n",
    "Por ejemplo, vamos a crear una lista de enteros, y en una nueva lista, vamos a guardar solo los valores de la primera que sean pares:"
   ]
  },
  {
   "cell_type": "code",
   "execution_count": null,
   "metadata": {},
   "outputs": [],
   "source": [
    "int_list = [115, 200, 80, 24, 14, 675, 98, 50, 34, 89, 10, 24, 16]\n",
    "pairs_list = []\n",
    "\n",
    "print(int_list)\n",
    "print(pairs_list)"
   ]
  },
  {
   "cell_type": "code",
   "execution_count": null,
   "metadata": {},
   "outputs": [],
   "source": [
    "for number in int_list:\n",
    "    if number % 2 == 0:\n",
    "        pairs_list.append(number)"
   ]
  },
  {
   "cell_type": "code",
   "execution_count": null,
   "metadata": {},
   "outputs": [],
   "source": [
    "pairs_list"
   ]
  },
  {
   "cell_type": "code",
   "execution_count": null,
   "metadata": {},
   "outputs": [],
   "source": [
    "pairs_list.sort()\n",
    "pairs_list"
   ]
  },
  {
   "cell_type": "markdown",
   "metadata": {},
   "source": [
    "La estructura **WHILE** nos permite ejecutar un conjunto de instrucciones que definamos, un número infinito de veces, o en otra palabras, hasta que se cumpla una condición de corte."
   ]
  },
  {
   "cell_type": "code",
   "execution_count": null,
   "metadata": {},
   "outputs": [],
   "source": [
    "end = \"si\"\n",
    "\n",
    "while end != \"no\":\n",
    "    print(\"Hola!\")\n",
    "    end = input(\"Querés que te salude de nuevo? \")\n",
    "    \n",
    "print(\"Chau, que te vaya bien!\")"
   ]
  },
  {
   "cell_type": "code",
   "execution_count": null,
   "metadata": {},
   "outputs": [],
   "source": [
    "count = 10\n",
    "\n",
    "while count > 0:\n",
    "    print(\"La cuenta vale {}\".format(count))\n",
    "    count -= 1\n",
    "    print(\"La cuenta vale {}\".format(count))\n",
    "    print(\"=\"*20)"
   ]
  },
  {
   "cell_type": "markdown",
   "metadata": {},
   "source": [
    "Dependiendo la naturaleza de lo que estemos modelando, podemos tener un bucle que se ejecute da forma indeterminada. **MUCHO CUIDADO CON ESTO**."
   ]
  },
  {
   "cell_type": "code",
   "execution_count": null,
   "metadata": {},
   "outputs": [],
   "source": [
    "while True:\n",
    "    print(\"Hola\")"
   ]
  },
  {
   "cell_type": "markdown",
   "metadata": {},
   "source": [
    "---\n",
    "### Introducción a Pandas\n",
    "\n",
    "En el próximo módulo, vamos a empezar a ver herramientas que nos permiten manipular los datos de forma mas eficiente, solucionado muchos de los escenarrios en los que tendríamos que usar estructuras de datos y control de flujo."
   ]
  },
  {
   "cell_type": "code",
   "execution_count": null,
   "metadata": {},
   "outputs": [],
   "source": [
    "import pandas as pd"
   ]
  },
  {
   "cell_type": "code",
   "execution_count": null,
   "metadata": {},
   "outputs": [],
   "source": [
    "clients_from_xls = pd.read_excel(\"MOCK_DATA.xlsx\")"
   ]
  },
  {
   "cell_type": "code",
   "execution_count": null,
   "metadata": {},
   "outputs": [],
   "source": [
    "clients_from_xls"
   ]
  },
  {
   "cell_type": "code",
   "execution_count": null,
   "metadata": {},
   "outputs": [],
   "source": [
    "covid_data = pd.read_csv(\"https://covid19.who.int/WHO-COVID-19-global-data.csv\")"
   ]
  },
  {
   "cell_type": "code",
   "execution_count": null,
   "metadata": {},
   "outputs": [],
   "source": [
    "covid_data.describe()"
   ]
  },
  {
   "cell_type": "code",
   "execution_count": null,
   "metadata": {},
   "outputs": [],
   "source": [
    "covid_data.info()"
   ]
  },
  {
   "cell_type": "code",
   "execution_count": null,
   "metadata": {},
   "outputs": [],
   "source": [
    "covid_data.head()"
   ]
  },
  {
   "cell_type": "code",
   "execution_count": null,
   "metadata": {},
   "outputs": [],
   "source": [
    "covid_data.tail()"
   ]
  }
 ],
 "metadata": {
  "kernelspec": {
   "display_name": "Python 3",
   "language": "python",
   "name": "python3"
  },
  "language_info": {
   "codemirror_mode": {
    "name": "ipython",
    "version": 3
   },
   "file_extension": ".py",
   "mimetype": "text/x-python",
   "name": "python",
   "nbconvert_exporter": "python",
   "pygments_lexer": "ipython3",
   "version": "3.7.6"
  }
 },
 "nbformat": 4,
 "nbformat_minor": 2
}
