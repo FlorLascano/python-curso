{
 "cells": [
  {
   "cell_type": "markdown",
   "metadata": {},
   "source": [
    "<img src=\"assets/socalo-ICDA.png\">"
   ]
  },
  {
   "cell_type": "markdown",
   "metadata": {},
   "source": [
    "\n"
   ]
  },
  {
   "cell_type": "markdown",
   "metadata": {},
   "source": [
    "# Python para Finanzas y Ciencia de Datos\n",
    "Federico Brun | fedejbrun@gmail.com\n",
    "\n",
    "_Jueves 01 Octubre 2020_"
   ]
  },
  {
   "cell_type": "markdown",
   "metadata": {},
   "source": [
    "## Funciones, Archivos y Librerías: Introducción a Numpy"
   ]
  },
  {
   "cell_type": "markdown",
   "metadata": {},
   "source": [
    "<img src=\"https://robocrop.realpython.net/?url=https%3A//files.realpython.com/media/Descriptive-Statistics-in-Python_Watermarked.fec81e9a41f9.jpg&w=960&sig=274c90a9fc73c1aafccc437c2db2c7ba12bc4c4c\">\n",
    "\n",
    "_Fuente: realpython.com_\n",
    "\n",
    "Hasta ahora, ya sabemos lo que son variables, tipos, estructuras de datos, estructuras de control, y usamos algunas de las _funciones_ que nos provee Python.\n",
    "\n",
    "Ahora vamos a profundizar nuestro estudio de funciones, entdender qué son, y aprender cómo crear funciones propias, para poder implementar lo que necesitamos pra nuestros proyectos."
   ]
  },
  {
   "cell_type": "markdown",
   "metadata": {},
   "source": [
    "### Funciones\n",
    "\n",
    "Similar a una función matemática, una **función** en Python es una **relación o mapeo entre una o varias variables de entrada, y una salida**.\n",
    "\n",
    "Más precisamente en programación, una **función** es un **bloque de código autocontenido que encapsula una o varias tareas**."
   ]
  },
  {
   "cell_type": "code",
   "execution_count": 1,
   "metadata": {},
   "outputs": [
    {
     "data": {
      "text/plain": [
       "[1, 2, 3, 4, 5, 6, 7]"
      ]
     },
     "execution_count": 1,
     "metadata": {},
     "output_type": "execute_result"
    }
   ],
   "source": [
    "int_list = [1, 2, 3, 4, 5, 6, 7]\n",
    "int_list"
   ]
  },
  {
   "cell_type": "code",
   "execution_count": 7,
   "metadata": {},
   "outputs": [
    {
     "data": {
      "text/plain": [
       "7"
      ]
     },
     "execution_count": 7,
     "metadata": {},
     "output_type": "execute_result"
    }
   ],
   "source": [
    "len(int_list)"
   ]
  },
  {
   "cell_type": "code",
   "execution_count": 8,
   "metadata": {},
   "outputs": [
    {
     "data": {
      "text/plain": [
       "list"
      ]
     },
     "execution_count": 8,
     "metadata": {},
     "output_type": "execute_result"
    }
   ],
   "source": [
    "type(int_list)"
   ]
  },
  {
   "cell_type": "code",
   "execution_count": 14,
   "metadata": {},
   "outputs": [
    {
     "data": {
      "text/plain": [
       "[7, 6, 5, 4, 3, 2, 1]"
      ]
     },
     "execution_count": 14,
     "metadata": {},
     "output_type": "execute_result"
    }
   ],
   "source": [
    "int_list.sort(reverse=True)\n",
    "int_list"
   ]
  },
  {
   "cell_type": "code",
   "execution_count": 15,
   "metadata": {},
   "outputs": [
    {
     "data": {
      "text/plain": [
       "[1, 2, 3, 4, 5, 6, 7]"
      ]
     },
     "execution_count": 15,
     "metadata": {},
     "output_type": "execute_result"
    }
   ],
   "source": [
    "int_list.sort()\n",
    "int_list"
   ]
  },
  {
   "cell_type": "markdown",
   "metadata": {},
   "source": [
    "Como vemos, algunas de estas funciones reciben **argumentos** o **parámetros**, mientras que en otras es opcional como en `sort()`. Esto es a lo que llamamos **interface**, o en otras palabras, la forma en la que **interactuamos con la función**."
   ]
  },
  {
   "cell_type": "markdown",
   "metadata": {},
   "source": [
    "A grandes rasgos, la forma en que las funciones de Python se usan es la siguiente:\n",
    "1. Definimos la función.\n",
    "2. Llamamos la funcion desde algún lugar de nuestro código.\n",
    "    - El flujo de ejecución de nuestro programa se interrumpe para ir a la función y ejecutar las tareas que esta maneja. \n",
    "    - Se ejecutan las tareas especificadas en la función.\n",
    "    - La función puede devolver algún dato o no.\n",
    "3. El flujo de ejecución del programa continua inmediatamente después de donde estaba el _llamado_ a la función."
   ]
  },
  {
   "cell_type": "markdown",
   "metadata": {},
   "source": [
    "Imaginen que escribimos un código que realiza una funcionalidad útil. Al continuar neustro trabajo nos damos cuenta que necesitamos usar esa funcionalidad en mmás de un lugar de nuestro proyecto. Mas tarde llega un momento en el que queremos realizar alguna modificacion sencilla a esa funcionalidad, por ejemplo cambiar el mensaje que imprime en la pantalla.\n",
    "Si no usaramos funciones, deberíamos modificar esto en cada uno de los lugares donde escribimos este código.\n",
    "\n",
    "Usar funciones nos permite reutilizar  y modularizar el código, al igual que promueve la abstracción del mismo. Para definir una función, usamos la siguiente sintaxis genérica:\n",
    "\n",
    "```\n",
    "def <nombre_de_la_funcion>(<parametro1>, <parametro2>, ...):\n",
    "....<instrucción>\n",
    "....<instrucción>\n",
    "```"
   ]
  },
  {
   "cell_type": "code",
   "execution_count": 19,
   "metadata": {},
   "outputs": [],
   "source": [
    "def show_welcome():\n",
    "    print(\"============================================\")\n",
    "    print(\"Bienvenidos al MODULO II:\")\n",
    "    print(\"Librerías Fundamentales\")\n",
    "    print(\"del curso Python para Finanzas\")\n",
    "    print(\"y ciencia de Datos de ICDA\")\n",
    "    print(\"============================================\")"
   ]
  },
  {
   "cell_type": "markdown",
   "metadata": {},
   "source": [
    "Una vez que definimos la función, podemos **llamarla** desde cualquier loguar, usando su **firma**."
   ]
  },
  {
   "cell_type": "code",
   "execution_count": 20,
   "metadata": {},
   "outputs": [
    {
     "name": "stdout",
     "output_type": "stream",
     "text": [
      "Mensaje impreso ANTES de llamar la función\n",
      "============================================\n",
      "Bienvenidos al MODULO II:\n",
      "Librerías Fundamentales\n",
      "del curso Python para Finanzas\n",
      "y ciencia de Datos de ICDA\n",
      "============================================\n",
      "Mensaje impreso DESPUES de llamar la función\n"
     ]
    }
   ],
   "source": [
    "print(\"Mensaje impreso ANTES de llamar la función\")\n",
    "show_welcome()\n",
    "print(\"Mensaje impreso DESPUES de llamar la función\")"
   ]
  },
  {
   "cell_type": "markdown",
   "metadata": {},
   "source": [
    "Al definir una función, la misma puede recibir parámetros con los cuales trabajar o no, dependiendo de nuestras necesidades."
   ]
  },
  {
   "cell_type": "code",
   "execution_count": 31,
   "metadata": {},
   "outputs": [],
   "source": [
    "def show_welcome(student_name):\n",
    "    print(\"===============================\")\n",
    "    print(f\"Hola {student_name}!\")\n",
    "    print(\"Bienvenido al MODULO II:\")\n",
    "    print(\"Librerías Fundamentales\")\n",
    "    print(\"del curso Python para Finanzas\")\n",
    "    print(\"y ciencia de Datos de ICDA\")\n",
    "    print(\"===============================\")"
   ]
  },
  {
   "cell_type": "code",
   "execution_count": 32,
   "metadata": {},
   "outputs": [
    {
     "name": "stdout",
     "output_type": "stream",
     "text": [
      "Nombre del Alumno? Agustina\n",
      "===============================\n",
      "Hola Agustina!\n",
      "Bienvenido al MODULO II:\n",
      "Librerías Fundamentales\n",
      "del curso Python para Finanzas\n",
      "y ciencia de Datos de ICDA\n",
      "===============================\n"
     ]
    }
   ],
   "source": [
    "nombre = input(\"Nombre del Alumno? \")\n",
    "\n",
    "show_welcome(nombre)"
   ]
  },
  {
   "cell_type": "markdown",
   "metadata": {},
   "source": [
    "Las funciones pueden recibir más de un parámetro:\n",
    "<img src=\"https://cdn.kastatic.org/googleusercontent/Y2qnXXEO4SM_iSpCVJN67_J3REAFynT1UEYi4r6z_SWvp-UFRQGRW3r99hbxCJKTeCwHJ7ejCGIiDreS42DcZis\"/>"
   ]
  },
  {
   "cell_type": "code",
   "execution_count": 43,
   "metadata": {},
   "outputs": [],
   "source": [
    "def gravity_weight(mass, gravity):\n",
    "    weight = mass * gravity\n",
    "    print(f\"El peso del objeto de masa={mass}kg es {weight}kg*m/s²\")"
   ]
  },
  {
   "cell_type": "code",
   "execution_count": 44,
   "metadata": {},
   "outputs": [
    {
     "name": "stdout",
     "output_type": "stream",
     "text": [
      "El peso del objeto de masa=80kg es 784.0kg*m/s²\n"
     ]
    }
   ],
   "source": [
    "gravity_weight(80, 9.8)"
   ]
  },
  {
   "cell_type": "markdown",
   "metadata": {},
   "source": [
    "A su vez, las funciones puede **retornar** un valor o no:"
   ]
  },
  {
   "cell_type": "code",
   "execution_count": 9,
   "metadata": {},
   "outputs": [],
   "source": [
    "weight = 0\n",
    "\n",
    "def gravity_weight(mass, gravity):\n",
    "    global weight  # Por ahora la palabra global no es importante\n",
    "    weight = mass * gravity"
   ]
  },
  {
   "cell_type": "code",
   "execution_count": 10,
   "metadata": {},
   "outputs": [
    {
     "name": "stdout",
     "output_type": "stream",
     "text": [
      "W antes de la función: 0\n",
      "W después de la función: 784.0kg*m/s²\n"
     ]
    }
   ],
   "source": [
    "print(f\"W antes de la función: {weight}\")\n",
    "gravity_weight(80, 9.8)    \n",
    "print(f\"W después de la función: {weight}kg*m/s²\")"
   ]
  },
  {
   "cell_type": "code",
   "execution_count": 13,
   "metadata": {},
   "outputs": [],
   "source": [
    "weight = 0\n",
    "\n",
    "def gravity_weight(mass, gravity):\n",
    "    global weight  # Por ahora la palabra global no es importante\n",
    "    weight = mass * gravity\n",
    "    return weight"
   ]
  },
  {
   "cell_type": "code",
   "execution_count": 14,
   "metadata": {},
   "outputs": [
    {
     "name": "stdout",
     "output_type": "stream",
     "text": [
      "W antes de la función: 0\n",
      "W después de la función: 784.0kg*m/s²\n"
     ]
    }
   ],
   "source": [
    "print(f\"W antes de la función: {weight}\")\n",
    "weight = gravity_weight(80, 9.8)\n",
    "print(f\"W después de la función: {weight}kg*m/s²\")"
   ]
  },
  {
   "cell_type": "code",
   "execution_count": 15,
   "metadata": {},
   "outputs": [],
   "source": [
    "planets = [\"Mercurio\", \"Venus\", \"Tierra\", \"Marte\", \"Júpiter\", \"Saturno\", \"Urano\", \"Neptuno\" ]"
   ]
  },
  {
   "cell_type": "code",
   "execution_count": 16,
   "metadata": {},
   "outputs": [
    {
     "data": {
      "text/plain": [
       "8"
      ]
     },
     "execution_count": 16,
     "metadata": {},
     "output_type": "execute_result"
    }
   ],
   "source": [
    "len(planets)"
   ]
  },
  {
   "cell_type": "code",
   "execution_count": 17,
   "metadata": {},
   "outputs": [],
   "source": [
    "planets.sort()"
   ]
  },
  {
   "cell_type": "code",
   "execution_count": 18,
   "metadata": {},
   "outputs": [
    {
     "data": {
      "text/plain": [
       "['Júpiter',\n",
       " 'Marte',\n",
       " 'Mercurio',\n",
       " 'Neptuno',\n",
       " 'Saturno',\n",
       " 'Tierra',\n",
       " 'Urano',\n",
       " 'Venus']"
      ]
     },
     "execution_count": 18,
     "metadata": {},
     "output_type": "execute_result"
    }
   ],
   "source": [
    "planets"
   ]
  },
  {
   "cell_type": "markdown",
   "metadata": {},
   "source": [
    "Python también nos permite especificar parámetros predeterminados. Al momento de usar la fuunción, si no especificamos un valor para los paráametros predeterminados, se usará el que definamos nosotros."
   ]
  },
  {
   "cell_type": "code",
   "execution_count": 22,
   "metadata": {},
   "outputs": [],
   "source": [
    "def gravity_weight(mass, gravity=9.8):\n",
    "    weight = mass * gravity\n",
    "    return weight"
   ]
  },
  {
   "cell_type": "code",
   "execution_count": 23,
   "metadata": {},
   "outputs": [
    {
     "name": "stdout",
     "output_type": "stream",
     "text": [
      "W de un objeto de masa=80kg en la Tierra es de 784.0kg*m/s^2 \n",
      "W de un objeto de masa=80kg en Mercurio es de 296.0kg*m/s^2 \n"
     ]
    }
   ],
   "source": [
    "mass = 80\n",
    "\n",
    "weight_on_earth = gravity_weight(mass)\n",
    "print(f\"W de un objeto de masa={mass}kg en la Tierra es de {weight_on_earth}kg*m/s² \")\n",
    "\n",
    "weight_other_planet = gravity_weight(mass, 3.7)\n",
    "print(f\"W de un objeto de masa={mass}kg en Mercurio es de {weight_other_planet}kg*m/s² \")"
   ]
  },
  {
   "cell_type": "markdown",
   "metadata": {},
   "source": [
    "Los paráametros de una función pueden ser cualquier tipo de objeto de Python. Como es el caso por ejemplo de la función `len()` que ya conocemos. Esta realiza una acción _sobre_ un objeto de tipo lista o tupla, particularmente recorrer uno a uno sus elementos y decirnos la cantidad de estos."
   ]
  },
  {
   "cell_type": "code",
   "execution_count": 32,
   "metadata": {},
   "outputs": [],
   "source": [
    "def gravity_weight(mass, list_of_planets, planets_gravity_dictionary):\n",
    "        \n",
    "    for planet in list_of_planets:\n",
    "        planet_gravity = planets_gravity_dictionary.get(planet)\n",
    "        weight_on_planet = mass * planet_gravity\n",
    "        print(f\"W de un objeto de masa={mass}kg en {planet} es de {weight_on_planet}kg*m/s²\")"
   ]
  },
  {
   "cell_type": "code",
   "execution_count": 33,
   "metadata": {},
   "outputs": [],
   "source": [
    "planets_list1 = [\"Tierra\", \"Venus\"]\n",
    "planets_list2 = [\"Mercurio\", \"Venus\", \"Tierra\", \"Marte\", \"Júpiter\", \"Saturno\" , \"Urano\", \"Neptuno\"]\n",
    "planets_gravity ={\n",
    "    \"Mercurio\": 3.7,\n",
    "    \"Venus\": 8.9,\n",
    "    \"Tierra\": 9.8,\n",
    "    \"Marte\": 3.7,\n",
    "    \"Júpiter\": 24.8,\n",
    "    \"Saturno\": 10.4,\n",
    "    \"Urano\":8.9,\n",
    "    \"Neptuno\": 11.2\n",
    "}"
   ]
  },
  {
   "cell_type": "code",
   "execution_count": 34,
   "metadata": {},
   "outputs": [
    {
     "name": "stdout",
     "output_type": "stream",
     "text": [
      "W de un objeto de masa=80kg en Tierra es de 784.0kg*m/s²\n",
      "W de un objeto de masa=80kg en Venus es de 712.0kg*m/s²\n"
     ]
    }
   ],
   "source": [
    "gravity_weight(80, planets_list1, planets_gravity)"
   ]
  },
  {
   "cell_type": "code",
   "execution_count": 36,
   "metadata": {},
   "outputs": [
    {
     "name": "stdout",
     "output_type": "stream",
     "text": [
      "W de un objeto de masa=80kg en Mercurio es de 296.0kg*m/s²\n",
      "W de un objeto de masa=80kg en Venus es de 712.0kg*m/s²\n",
      "W de un objeto de masa=80kg en Tierra es de 784.0kg*m/s²\n",
      "W de un objeto de masa=80kg en Marte es de 296.0kg*m/s²\n",
      "W de un objeto de masa=80kg en Júpiter es de 1984.0kg*m/s²\n",
      "W de un objeto de masa=80kg en Saturno es de 832.0kg*m/s²\n",
      "W de un objeto de masa=80kg en Urano es de 712.0kg*m/s²\n",
      "W de un objeto de masa=80kg en Neptuno es de 896.0kg*m/s²\n"
     ]
    }
   ],
   "source": [
    "gravity_weight(80, planets_list2, planets_gravity)"
   ]
  },
  {
   "cell_type": "markdown",
   "metadata": {},
   "source": [
    "Una función puede __retornar__ un valor y además __realizar alguna operación__."
   ]
  },
  {
   "cell_type": "code",
   "execution_count": 46,
   "metadata": {},
   "outputs": [],
   "source": [
    "def max_gravity(dictionary_of_planets):\n",
    "    planet = max(dictionary_of_planets, key=dictionary_of_planets.get)\n",
    "    planet_gravity = dictionary_of_planets.get(planet)\n",
    "    print(f\"El planeta con el valor máas alto de gravedad es {planet} con g={planet_gravity}m/s²  \")\n",
    "    return planet, planet_gravity"
   ]
  },
  {
   "cell_type": "code",
   "execution_count": 47,
   "metadata": {},
   "outputs": [
    {
     "data": {
      "text/plain": [
       "{'Mercurio': 3.7,\n",
       " 'Venus': 8.9,\n",
       " 'Tierra': 9.8,\n",
       " 'Marte': 3.7,\n",
       " 'Júpiter': 24.8,\n",
       " 'Saturno': 10.4,\n",
       " 'Urano': 8.9,\n",
       " 'Neptuno': 11.2}"
      ]
     },
     "execution_count": 47,
     "metadata": {},
     "output_type": "execute_result"
    }
   ],
   "source": [
    "planets_gravity"
   ]
  },
  {
   "cell_type": "code",
   "execution_count": 52,
   "metadata": {},
   "outputs": [
    {
     "name": "stdout",
     "output_type": "stream",
     "text": [
      "Esto imprime la función\n",
      "El planeta con el valor máas alto de gravedad es Júpiter con g=24.8m/s²  \n",
      "\n",
      "Esto imprimo yo con los datos que me devolvió la función:\n",
      "Júpiter 24.8\n"
     ]
    }
   ],
   "source": [
    "print(\"Esto imprime la función:\")\n",
    "planet_max_grav, max_grav = max_gravity(planets_gravity)\n",
    "\n",
    "print(\"\\nEsto imprimo yo con los datos que me devolvió la función:\")\n",
    "print(planet_max_grav, max_grav)"
   ]
  },
  {
   "cell_type": "markdown",
   "metadata": {},
   "source": [
    "---"
   ]
  },
  {
   "cell_type": "markdown",
   "metadata": {},
   "source": [
    "### Archivos\n",
    "\n",
    "Hasta ahora, todo lo que venimos haciendo es lo que llamamos **trabajo en memoria**, es decir, que las variables, datos, funciones y básicamente todo nuestro codigo \"vive\" mientras estemos procesándolo, pero desaparece una vez que termina la ejecución.\n",
    "\n",
    "Para llevar a cabo acciones que se vean reflejadas en nuestro espacio de trabajo una vez que el programa termine de ejecutarse, o también usar información que existía antes de iniciar; necesitamos manipular **archivos**."
   ]
  },
  {
   "cell_type": "markdown",
   "metadata": {},
   "source": [
    "Cuando queremos trabajar con archivos en Python, lo primero que hay que hacer es **abrirlo**."
   ]
  },
  {
   "cell_type": "code",
   "execution_count": 15,
   "metadata": {},
   "outputs": [],
   "source": [
    "reader = open('lineas.txt')"
   ]
  },
  {
   "cell_type": "markdown",
   "metadata": {},
   "source": [
    "Luego de abrir el archivo y trabjar con el ya sea para leer o escribir datos, **SIEMPRE** hay que **cerrarlo**. "
   ]
  },
  {
   "cell_type": "code",
   "execution_count": 16,
   "metadata": {},
   "outputs": [
    {
     "name": "stdout",
     "output_type": "stream",
     "text": [
      "Esta es la primera linea del archivo\n",
      "\n"
     ]
    }
   ],
   "source": [
    "try:\n",
    "    print(reader.readline())\n",
    "finally:\n",
    "    reader.close()"
   ]
  },
  {
   "cell_type": "markdown",
   "metadata": {},
   "source": [
    "Para prevenir errores, es recomendable utilizar un **administrador de contexto** que se encarga de abrir y cerrar el archivo por nosotros, para no generar problemas con el sistema operativo."
   ]
  },
  {
   "cell_type": "code",
   "execution_count": 18,
   "metadata": {},
   "outputs": [
    {
     "name": "stdout",
     "output_type": "stream",
     "text": [
      "Esta es la primera linea del archivo\n",
      "\n"
     ]
    }
   ],
   "source": [
    "with open('lineas.txt') as reader:\n",
    "    print(reader.readline())"
   ]
  },
  {
   "cell_type": "markdown",
   "metadata": {},
   "source": [
    "El primer argumento que usamos es la **ruta**. Un segundo argumento que podemos usar dentro de la funcion `open()` es el **modo** en que vamos a abrir ese archivo:\n",
    "* Si lo abrimos para **leer** datos el modo es `r`.\n",
    "* Si lo abrimos para **escribir** datos (y sobreescribir, osea borrar lo que está y poner algo nuevo) el modo es `w`.\n",
    "* Si lo abrimos para **agregar** datos (que se agregan al final en nuevas líneas) el modo es `a`.\n",
    "\n",
    "<a src=\"https://docs.python.org/3/library/functions.html#open\" target=\"_blank\">Documentación completa</a>"
   ]
  },
  {
   "cell_type": "code",
   "execution_count": 19,
   "metadata": {},
   "outputs": [
    {
     "name": "stdout",
     "output_type": "stream",
     "text": [
      "Archivo sin modificar:\n",
      "\n",
      "Esta es la primera linea del archivo\n",
      "Esta es la segunda linea del archivo\n",
      "Esta es la tercera linea del archivo\n",
      "Esta es la cuarta linea del archivo\n",
      "Esta es la quinta linea del archivo\n",
      "Esta es la sexta y ultima linea del archivo\n"
     ]
    }
   ],
   "source": [
    "print(\"Archivo sin modificar:\\n\")\n",
    "\n",
    "with open('lineas.txt') as reader:\n",
    "    for line in reader.readlines():\n",
    "        print(line[:-1])"
   ]
  },
  {
   "cell_type": "code",
   "execution_count": 22,
   "metadata": {},
   "outputs": [
    {
     "name": "stdout",
     "output_type": "stream",
     "text": [
      "Cambiar totalmente el contenido del archivo\n",
      "\n",
      "Este es el nuevo contenido del archivo\n"
     ]
    }
   ],
   "source": [
    "message = \"Este es el nuevo contenido del archivo\"\n",
    "\n",
    "print(\"Cambiar totalmente el contenido del archivo\\n\")\n",
    "\n",
    "with open('lineas.txt', 'w') as writer:\n",
    "    writer.write(message)\n",
    "    \n",
    "with open('lineas.txt', 'r') as reader:\n",
    "    print(reader.readline())"
   ]
  },
  {
   "cell_type": "markdown",
   "metadata": {},
   "source": [
    "Los _modos_ se pueden combinar según sea necesario, y podemos trabajar con varios tipos de archivos, no solo de texto.\n",
    "\n",
    "<a href=\"https://www.pythonista.io/cursos/py101/escritura-y-lectura-de-archivos\" target=\"_blank\">Tutorial en español</a>\n",
    "\n",
    "Mas adelante vamos a usar archivos CSV (Comma Separated Values), que son archivos de texto con un formato especial, muy utilizado para procesamiento de datos por programas como Excel y librerías de Python como **Numpy** y **Pandas**."
   ]
  },
  {
   "cell_type": "markdown",
   "metadata": {},
   "source": [
    "---"
   ]
  },
  {
   "cell_type": "markdown",
   "metadata": {},
   "source": [
    "### Librerías\n",
    "\n",
    "En programación, podemos definir una **librería** como un conjunto de implementaciones funcionales, que ofrece una interfaz bien definida para la funcionalidad que se invoca."
   ]
  },
  {
   "cell_type": "code",
   "execution_count": 25,
   "metadata": {},
   "outputs": [
    {
     "name": "stdout",
     "output_type": "stream",
     "text": [
      "Hora y fecha actual: 2020-09-30 12:55:48.216872\n"
     ]
    }
   ],
   "source": [
    "import datetime\n",
    "\n",
    "hora_y_fecha = datetime.datetime.now()\n",
    "\n",
    "print(f\"Hora y fecha actual: {hora_y_fecha}\")"
   ]
  },
  {
   "cell_type": "markdown",
   "metadata": {},
   "source": [
    "Para usar funciones de librerías que no son las que vienen _built-in_ en Python, debemos importarlas."
   ]
  },
  {
   "cell_type": "code",
   "execution_count": 28,
   "metadata": {},
   "outputs": [],
   "source": [
    "import random\n",
    "\n",
    "# Nos devuelve un numero entero aleatorio entre 0 y 10\n",
    "x = random.randint(0, 10)"
   ]
  },
  {
   "cell_type": "code",
   "execution_count": 31,
   "metadata": {},
   "outputs": [
    {
     "name": "stdout",
     "output_type": "stream",
     "text": [
      "9\n",
      "0\n",
      "1\n",
      "9\n",
      "10\n",
      "1\n",
      "4\n",
      "7\n",
      "10\n",
      "6\n"
     ]
    }
   ],
   "source": [
    "for i in range(10):\n",
    "    print(random.randint(0, 10))"
   ]
  },
  {
   "cell_type": "markdown",
   "metadata": {},
   "source": [
    "Muchas veces, vamos a necesitar librerías para nuestros proyectos que no tenemos **instaladas**. Para instalarlas, necesitamos un **administrador de paquetes**. Los dos mmás usados son:\n",
    "* **PIP** (el \"oficial\" de Python)\n",
    "* **CONDA** (el de la distribución Anaconda)\n",
    "\n",
    "Anaconda ya trae instalado `pip` y `conda`, al igual que muchas librerías para el tratamiento y visualizacion de datos."
   ]
  },
  {
   "cell_type": "markdown",
   "metadata": {},
   "source": [
    "Al momento de usar una librería, debemos seguir las instrucciones de instalación oficial propuesta, pero generalmente son los siguientes comandos (se escriben en la consola):\n",
    "```\n",
    "pip install <libreria>\n",
    "```\n",
    "```\n",
    "conda install <libreria>\n",
    "```"
   ]
  },
  {
   "cell_type": "markdown",
   "metadata": {},
   "source": [
    "Después de instalar cualquier librería ya podemos usarla en nuestros proyectos."
   ]
  },
  {
   "cell_type": "code",
   "execution_count": 33,
   "metadata": {},
   "outputs": [],
   "source": [
    "import pandas as pd\n",
    "\n",
    "datos_covid = pd.read_csv('https://covid19.who.int/WHO-COVID-19-global-data.csv')"
   ]
  },
  {
   "cell_type": "code",
   "execution_count": 34,
   "metadata": {},
   "outputs": [
    {
     "data": {
      "text/html": [
       "<div>\n",
       "<style scoped>\n",
       "    .dataframe tbody tr th:only-of-type {\n",
       "        vertical-align: middle;\n",
       "    }\n",
       "\n",
       "    .dataframe tbody tr th {\n",
       "        vertical-align: top;\n",
       "    }\n",
       "\n",
       "    .dataframe thead th {\n",
       "        text-align: right;\n",
       "    }\n",
       "</style>\n",
       "<table border=\"1\" class=\"dataframe\">\n",
       "  <thead>\n",
       "    <tr style=\"text-align: right;\">\n",
       "      <th></th>\n",
       "      <th>Date_reported</th>\n",
       "      <th>Country_code</th>\n",
       "      <th>Country</th>\n",
       "      <th>WHO_region</th>\n",
       "      <th>New_cases</th>\n",
       "      <th>Cumulative_cases</th>\n",
       "      <th>New_deaths</th>\n",
       "      <th>Cumulative_deaths</th>\n",
       "    </tr>\n",
       "  </thead>\n",
       "  <tbody>\n",
       "    <tr>\n",
       "      <th>0</th>\n",
       "      <td>2020-01-03</td>\n",
       "      <td>AF</td>\n",
       "      <td>Afghanistan</td>\n",
       "      <td>EMRO</td>\n",
       "      <td>0</td>\n",
       "      <td>0</td>\n",
       "      <td>0</td>\n",
       "      <td>0</td>\n",
       "    </tr>\n",
       "    <tr>\n",
       "      <th>1</th>\n",
       "      <td>2020-01-04</td>\n",
       "      <td>AF</td>\n",
       "      <td>Afghanistan</td>\n",
       "      <td>EMRO</td>\n",
       "      <td>0</td>\n",
       "      <td>0</td>\n",
       "      <td>0</td>\n",
       "      <td>0</td>\n",
       "    </tr>\n",
       "    <tr>\n",
       "      <th>2</th>\n",
       "      <td>2020-01-05</td>\n",
       "      <td>AF</td>\n",
       "      <td>Afghanistan</td>\n",
       "      <td>EMRO</td>\n",
       "      <td>0</td>\n",
       "      <td>0</td>\n",
       "      <td>0</td>\n",
       "      <td>0</td>\n",
       "    </tr>\n",
       "    <tr>\n",
       "      <th>3</th>\n",
       "      <td>2020-01-06</td>\n",
       "      <td>AF</td>\n",
       "      <td>Afghanistan</td>\n",
       "      <td>EMRO</td>\n",
       "      <td>0</td>\n",
       "      <td>0</td>\n",
       "      <td>0</td>\n",
       "      <td>0</td>\n",
       "    </tr>\n",
       "    <tr>\n",
       "      <th>4</th>\n",
       "      <td>2020-01-07</td>\n",
       "      <td>AF</td>\n",
       "      <td>Afghanistan</td>\n",
       "      <td>EMRO</td>\n",
       "      <td>0</td>\n",
       "      <td>0</td>\n",
       "      <td>0</td>\n",
       "      <td>0</td>\n",
       "    </tr>\n",
       "    <tr>\n",
       "      <th>...</th>\n",
       "      <td>...</td>\n",
       "      <td>...</td>\n",
       "      <td>...</td>\n",
       "      <td>...</td>\n",
       "      <td>...</td>\n",
       "      <td>...</td>\n",
       "      <td>...</td>\n",
       "      <td>...</td>\n",
       "    </tr>\n",
       "    <tr>\n",
       "      <th>63803</th>\n",
       "      <td>2020-09-25</td>\n",
       "      <td>ZW</td>\n",
       "      <td>Zimbabwe</td>\n",
       "      <td>AFRO</td>\n",
       "      <td>0</td>\n",
       "      <td>7725</td>\n",
       "      <td>0</td>\n",
       "      <td>227</td>\n",
       "    </tr>\n",
       "    <tr>\n",
       "      <th>63804</th>\n",
       "      <td>2020-09-26</td>\n",
       "      <td>ZW</td>\n",
       "      <td>Zimbabwe</td>\n",
       "      <td>AFRO</td>\n",
       "      <td>62</td>\n",
       "      <td>7787</td>\n",
       "      <td>0</td>\n",
       "      <td>227</td>\n",
       "    </tr>\n",
       "    <tr>\n",
       "      <th>63805</th>\n",
       "      <td>2020-09-27</td>\n",
       "      <td>ZW</td>\n",
       "      <td>Zimbabwe</td>\n",
       "      <td>AFRO</td>\n",
       "      <td>16</td>\n",
       "      <td>7803</td>\n",
       "      <td>0</td>\n",
       "      <td>227</td>\n",
       "    </tr>\n",
       "    <tr>\n",
       "      <th>63806</th>\n",
       "      <td>2020-09-28</td>\n",
       "      <td>ZW</td>\n",
       "      <td>Zimbabwe</td>\n",
       "      <td>AFRO</td>\n",
       "      <td>9</td>\n",
       "      <td>7812</td>\n",
       "      <td>0</td>\n",
       "      <td>227</td>\n",
       "    </tr>\n",
       "    <tr>\n",
       "      <th>63807</th>\n",
       "      <td>2020-09-29</td>\n",
       "      <td>ZW</td>\n",
       "      <td>Zimbabwe</td>\n",
       "      <td>AFRO</td>\n",
       "      <td>4</td>\n",
       "      <td>7816</td>\n",
       "      <td>1</td>\n",
       "      <td>228</td>\n",
       "    </tr>\n",
       "  </tbody>\n",
       "</table>\n",
       "<p>63808 rows × 8 columns</p>\n",
       "</div>"
      ],
      "text/plain": [
       "      Date_reported  Country_code      Country  WHO_region   New_cases  \\\n",
       "0        2020-01-03            AF  Afghanistan        EMRO           0   \n",
       "1        2020-01-04            AF  Afghanistan        EMRO           0   \n",
       "2        2020-01-05            AF  Afghanistan        EMRO           0   \n",
       "3        2020-01-06            AF  Afghanistan        EMRO           0   \n",
       "4        2020-01-07            AF  Afghanistan        EMRO           0   \n",
       "...             ...           ...          ...         ...         ...   \n",
       "63803    2020-09-25            ZW     Zimbabwe        AFRO           0   \n",
       "63804    2020-09-26            ZW     Zimbabwe        AFRO          62   \n",
       "63805    2020-09-27            ZW     Zimbabwe        AFRO          16   \n",
       "63806    2020-09-28            ZW     Zimbabwe        AFRO           9   \n",
       "63807    2020-09-29            ZW     Zimbabwe        AFRO           4   \n",
       "\n",
       "        Cumulative_cases   New_deaths   Cumulative_deaths  \n",
       "0                      0            0                   0  \n",
       "1                      0            0                   0  \n",
       "2                      0            0                   0  \n",
       "3                      0            0                   0  \n",
       "4                      0            0                   0  \n",
       "...                  ...          ...                 ...  \n",
       "63803               7725            0                 227  \n",
       "63804               7787            0                 227  \n",
       "63805               7803            0                 227  \n",
       "63806               7812            0                 227  \n",
       "63807               7816            1                 228  \n",
       "\n",
       "[63808 rows x 8 columns]"
      ]
     },
     "execution_count": 34,
     "metadata": {},
     "output_type": "execute_result"
    }
   ],
   "source": [
    "datos_covid"
   ]
  },
  {
   "cell_type": "code",
   "execution_count": 36,
   "metadata": {},
   "outputs": [
    {
     "data": {
      "image/png": "[encoded data removed]",
      "text/plain": [
       "<Figure size 432x288 with 1 Axes>"
      ]
     },
     "metadata": {
      "needs_background": "light"
     },
     "output_type": "display_data"
    }
   ],
   "source": [
    "datos_covid.plot();"
   ]
  },
  {
   "cell_type": "code",
   "execution_count": 37,
   "metadata": {},
   "outputs": [],
   "source": [
    "import calendar"
   ]
  },
  {
   "cell_type": "code",
   "execution_count": 43,
   "metadata": {},
   "outputs": [
    {
     "name": "stdout",
     "output_type": "stream",
     "text": [
      "    October 2020\n",
      "Mo Tu We Th Fr Sa Su\n",
      "          1  2  3  4\n",
      " 5  6  7  8  9 10 11\n",
      "12 13 14 15 16 17 18\n",
      "19 20 21 22 23 24 25\n",
      "26 27 28 29 30 31\n",
      "\n"
     ]
    }
   ],
   "source": [
    "print(calendar.month(2020, 10))"
   ]
  },
  {
   "cell_type": "markdown",
   "metadata": {},
   "source": [
    "Las librerías son útiles para reutilizar código que ya funciona, aplicado a nuestras necesidades.\n",
    "Para saber qué funcionalidades nos provee una librería que tengamos instalada, las mejores opciones son una búsqueda en Google para ver ejemplos y aplicaciones, o localmente usando las funciones que ya conocen `dir()` y `help()`."
   ]
  },
  {
   "cell_type": "code",
   "execution_count": 45,
   "metadata": {},
   "outputs": [
    {
     "name": "stdout",
     "output_type": "stream",
     "text": [
      "Help on module calendar:\n",
      "\n",
      "NAME\n",
      "    calendar - Calendar printing functions\n",
      "\n",
      "MODULE REFERENCE\n",
      "    https://docs.python.org/3.7/library/calendar\n",
      "    \n",
      "    The following documentation is automatically generated from the Python\n",
      "    source files.  It may be incomplete, incorrect or include features that\n",
      "    are considered implementation detail and may vary between Python\n",
      "    implementations.  When in doubt, consult the module reference at the\n",
      "    location listed above.\n",
      "\n",
      "DESCRIPTION\n",
      "    Note when comparing these calendars to the ones printed by cal(1): By\n",
      "    default, these calendars have Monday as the first day of the week, and\n",
      "    Sunday as the last (the European convention). Use setfirstweekday() to\n",
      "    set the first day of the week (0=Monday, 6=Sunday).\n",
      "\n",
      "CLASSES\n",
      "    builtins.ValueError(builtins.Exception)\n",
      "        IllegalMonthError\n",
      "        IllegalWeekdayError\n",
      "    builtins.object\n",
      "        Calendar\n",
      "            HTMLCalendar\n",
      "                LocaleHTMLCalendar\n",
      "            TextCalendar\n",
      "                LocaleTextCalendar\n",
      "    \n",
      "    class Calendar(builtins.object)\n",
      "     |  Calendar(firstweekday=0)\n",
      "     |  \n",
      "     |  Base calendar class. This class doesn't do any formatting. It simply\n",
      "     |  provides data to subclasses.\n",
      "     |  \n",
      "     |  Methods defined here:\n",
      "     |  \n",
      "     |  __init__(self, firstweekday=0)\n",
      "     |      Initialize self.  See help(type(self)) for accurate signature.\n",
      "     |  \n",
      "     |  getfirstweekday(self)\n",
      "     |  \n",
      "     |  itermonthdates(self, year, month)\n",
      "     |      Return an iterator for one month. The iterator will yield datetime.date\n",
      "     |      values and will always iterate through complete weeks, so it will yield\n",
      "     |      dates outside the specified month.\n",
      "     |  \n",
      "     |  itermonthdays(self, year, month)\n",
      "     |      Like itermonthdates(), but will yield day numbers. For days outside\n",
      "     |      the specified month the day number is 0.\n",
      "     |  \n",
      "     |  itermonthdays2(self, year, month)\n",
      "     |      Like itermonthdates(), but will yield (day number, weekday number)\n",
      "     |      tuples. For days outside the specified month the day number is 0.\n",
      "     |  \n",
      "     |  itermonthdays3(self, year, month)\n",
      "     |      Like itermonthdates(), but will yield (year, month, day) tuples.  Can be\n",
      "     |      used for dates outside of datetime.date range.\n",
      "     |  \n",
      "     |  itermonthdays4(self, year, month)\n",
      "     |      Like itermonthdates(), but will yield (year, month, day, day_of_week) tuples.\n",
      "     |      Can be used for dates outside of datetime.date range.\n",
      "     |  \n",
      "     |  iterweekdays(self)\n",
      "     |      Return an iterator for one week of weekday numbers starting with the\n",
      "     |      configured first one.\n",
      "     |  \n",
      "     |  monthdatescalendar(self, year, month)\n",
      "     |      Return a matrix (list of lists) representing a month's calendar.\n",
      "     |      Each row represents a week; week entries are datetime.date values.\n",
      "     |  \n",
      "     |  monthdays2calendar(self, year, month)\n",
      "     |      Return a matrix representing a month's calendar.\n",
      "     |      Each row represents a week; week entries are\n",
      "     |      (day number, weekday number) tuples. Day numbers outside this month\n",
      "     |      are zero.\n",
      "     |  \n",
      "     |  monthdayscalendar(self, year, month)\n",
      "     |      Return a matrix representing a month's calendar.\n",
      "     |      Each row represents a week; days outside this month are zero.\n",
      "     |  \n",
      "     |  setfirstweekday(self, firstweekday)\n",
      "     |  \n",
      "     |  yeardatescalendar(self, year, width=3)\n",
      "     |      Return the data for the specified year ready for formatting. The return\n",
      "     |      value is a list of month rows. Each month row contains up to width months.\n",
      "     |      Each month contains between 4 and 6 weeks and each week contains 1-7\n",
      "     |      days. Days are datetime.date objects.\n",
      "     |  \n",
      "     |  yeardays2calendar(self, year, width=3)\n",
      "     |      Return the data for the specified year ready for formatting (similar to\n",
      "     |      yeardatescalendar()). Entries in the week lists are\n",
      "     |      (day number, weekday number) tuples. Day numbers outside this month are\n",
      "     |      zero.\n",
      "     |  \n",
      "     |  yeardayscalendar(self, year, width=3)\n",
      "     |      Return the data for the specified year ready for formatting (similar to\n",
      "     |      yeardatescalendar()). Entries in the week lists are day numbers.\n",
      "     |      Day numbers outside this month are zero.\n",
      "     |  \n",
      "     |  ----------------------------------------------------------------------\n",
      "     |  Data descriptors defined here:\n",
      "     |  \n",
      "     |  __dict__\n",
      "     |      dictionary for instance variables (if defined)\n",
      "     |  \n",
      "     |  __weakref__\n",
      "     |      list of weak references to the object (if defined)\n",
      "     |  \n",
      "     |  firstweekday\n",
      "    \n",
      "    class HTMLCalendar(Calendar)\n",
      "     |  HTMLCalendar(firstweekday=0)\n",
      "     |  \n",
      "     |  This calendar returns complete HTML pages.\n",
      "     |  \n",
      "     |  Method resolution order:\n",
      "     |      HTMLCalendar\n",
      "     |      Calendar\n",
      "     |      builtins.object\n",
      "     |  \n",
      "     |  Methods defined here:\n",
      "     |  \n",
      "     |  formatday(self, day, weekday)\n",
      "     |      Return a day as a table cell.\n",
      "     |  \n",
      "     |  formatmonth(self, theyear, themonth, withyear=True)\n",
      "     |      Return a formatted month as a table.\n",
      "     |  \n",
      "     |  formatmonthname(self, theyear, themonth, withyear=True)\n",
      "     |      Return a month name as a table row.\n",
      "     |  \n",
      "     |  formatweek(self, theweek)\n",
      "     |      Return a complete week as a table row.\n",
      "     |  \n",
      "     |  formatweekday(self, day)\n",
      "     |      Return a weekday name as a table header.\n",
      "     |  \n",
      "     |  formatweekheader(self)\n",
      "     |      Return a header for a week as a table row.\n",
      "     |  \n",
      "     |  formatyear(self, theyear, width=3)\n",
      "     |      Return a formatted year as a table of tables.\n",
      "     |  \n",
      "     |  formatyearpage(self, theyear, width=3, css='calendar.css', encoding=None)\n",
      "     |      Return a formatted year as a complete HTML page.\n",
      "     |  \n",
      "     |  ----------------------------------------------------------------------\n",
      "     |  Data and other attributes defined here:\n",
      "     |  \n",
      "     |  cssclass_month = 'month'\n",
      "     |  \n",
      "     |  cssclass_month_head = 'month'\n",
      "     |  \n",
      "     |  cssclass_noday = 'noday'\n",
      "     |  \n",
      "     |  cssclass_year = 'year'\n",
      "     |  \n",
      "     |  cssclass_year_head = 'year'\n",
      "     |  \n",
      "     |  cssclasses = ['mon', 'tue', 'wed', 'thu', 'fri', 'sat', 'sun']\n",
      "     |  \n",
      "     |  cssclasses_weekday_head = ['mon', 'tue', 'wed', 'thu', 'fri', 'sat', '...\n",
      "     |  \n",
      "     |  ----------------------------------------------------------------------\n",
      "     |  Methods inherited from Calendar:\n",
      "     |  \n",
      "     |  __init__(self, firstweekday=0)\n",
      "     |      Initialize self.  See help(type(self)) for accurate signature.\n",
      "     |  \n",
      "     |  getfirstweekday(self)\n",
      "     |  \n",
      "     |  itermonthdates(self, year, month)\n",
      "     |      Return an iterator for one month. The iterator will yield datetime.date\n",
      "     |      values and will always iterate through complete weeks, so it will yield\n",
      "     |      dates outside the specified month.\n",
      "     |  \n",
      "     |  itermonthdays(self, year, month)\n",
      "     |      Like itermonthdates(), but will yield day numbers. For days outside\n",
      "     |      the specified month the day number is 0.\n",
      "     |  \n",
      "     |  itermonthdays2(self, year, month)\n",
      "     |      Like itermonthdates(), but will yield (day number, weekday number)\n",
      "     |      tuples. For days outside the specified month the day number is 0.\n",
      "     |  \n",
      "     |  itermonthdays3(self, year, month)\n",
      "     |      Like itermonthdates(), but will yield (year, month, day) tuples.  Can be\n",
      "     |      used for dates outside of datetime.date range.\n",
      "     |  \n",
      "     |  itermonthdays4(self, year, month)\n",
      "     |      Like itermonthdates(), but will yield (year, month, day, day_of_week) tuples.\n",
      "     |      Can be used for dates outside of datetime.date range.\n",
      "     |  \n",
      "     |  iterweekdays(self)\n",
      "     |      Return an iterator for one week of weekday numbers starting with the\n",
      "     |      configured first one.\n",
      "     |  \n",
      "     |  monthdatescalendar(self, year, month)\n",
      "     |      Return a matrix (list of lists) representing a month's calendar.\n",
      "     |      Each row represents a week; week entries are datetime.date values.\n",
      "     |  \n",
      "     |  monthdays2calendar(self, year, month)\n",
      "     |      Return a matrix representing a month's calendar.\n",
      "     |      Each row represents a week; week entries are\n",
      "     |      (day number, weekday number) tuples. Day numbers outside this month\n",
      "     |      are zero.\n",
      "     |  \n",
      "     |  monthdayscalendar(self, year, month)\n",
      "     |      Return a matrix representing a month's calendar.\n",
      "     |      Each row represents a week; days outside this month are zero.\n",
      "     |  \n",
      "     |  setfirstweekday(self, firstweekday)\n",
      "     |  \n",
      "     |  yeardatescalendar(self, year, width=3)\n",
      "     |      Return the data for the specified year ready for formatting. The return\n",
      "     |      value is a list of month rows. Each month row contains up to width months.\n",
      "     |      Each month contains between 4 and 6 weeks and each week contains 1-7\n",
      "     |      days. Days are datetime.date objects.\n",
      "     |  \n",
      "     |  yeardays2calendar(self, year, width=3)\n",
      "     |      Return the data for the specified year ready for formatting (similar to\n",
      "     |      yeardatescalendar()). Entries in the week lists are\n",
      "     |      (day number, weekday number) tuples. Day numbers outside this month are\n",
      "     |      zero.\n",
      "     |  \n",
      "     |  yeardayscalendar(self, year, width=3)\n",
      "     |      Return the data for the specified year ready for formatting (similar to\n",
      "     |      yeardatescalendar()). Entries in the week lists are day numbers.\n",
      "     |      Day numbers outside this month are zero.\n",
      "     |  \n",
      "     |  ----------------------------------------------------------------------\n",
      "     |  Data descriptors inherited from Calendar:\n",
      "     |  \n",
      "     |  __dict__\n",
      "     |      dictionary for instance variables (if defined)\n",
      "     |  \n",
      "     |  __weakref__\n",
      "     |      list of weak references to the object (if defined)\n",
      "     |  \n",
      "     |  firstweekday\n",
      "    \n",
      "    class IllegalMonthError(builtins.ValueError)\n",
      "     |  IllegalMonthError(month)\n",
      "     |  \n",
      "     |  Inappropriate argument value (of correct type).\n",
      "     |  \n",
      "     |  Method resolution order:\n",
      "     |      IllegalMonthError\n",
      "     |      builtins.ValueError\n",
      "     |      builtins.Exception\n",
      "     |      builtins.BaseException\n",
      "     |      builtins.object\n",
      "     |  \n",
      "     |  Methods defined here:\n",
      "     |  \n",
      "     |  __init__(self, month)\n",
      "     |      Initialize self.  See help(type(self)) for accurate signature.\n",
      "     |  \n",
      "     |  __str__(self)\n",
      "     |      Return str(self).\n",
      "     |  \n",
      "     |  ----------------------------------------------------------------------\n",
      "     |  Data descriptors defined here:\n",
      "     |  \n",
      "     |  __weakref__\n",
      "     |      list of weak references to the object (if defined)\n",
      "     |  \n",
      "     |  ----------------------------------------------------------------------\n",
      "     |  Static methods inherited from builtins.ValueError:\n",
      "     |  \n",
      "     |  __new__(*args, **kwargs) from builtins.type\n",
      "     |      Create and return a new object.  See help(type) for accurate signature.\n",
      "     |  \n",
      "     |  ----------------------------------------------------------------------\n",
      "     |  Methods inherited from builtins.BaseException:\n",
      "     |  \n",
      "     |  __delattr__(self, name, /)\n",
      "     |      Implement delattr(self, name).\n",
      "     |  \n",
      "     |  __getattribute__(self, name, /)\n",
      "     |      Return getattr(self, name).\n",
      "     |  \n",
      "     |  __reduce__(...)\n",
      "     |      Helper for pickle.\n",
      "     |  \n",
      "     |  __repr__(self, /)\n",
      "     |      Return repr(self).\n",
      "     |  \n",
      "     |  __setattr__(self, name, value, /)\n",
      "     |      Implement setattr(self, name, value).\n",
      "     |  \n",
      "     |  __setstate__(...)\n",
      "     |  \n",
      "     |  with_traceback(...)\n",
      "     |      Exception.with_traceback(tb) --\n",
      "     |      set self.__traceback__ to tb and return self.\n",
      "     |  \n",
      "     |  ----------------------------------------------------------------------\n",
      "     |  Data descriptors inherited from builtins.BaseException:\n",
      "     |  \n",
      "     |  __cause__\n",
      "     |      exception cause\n",
      "     |  \n",
      "     |  __context__\n",
      "     |      exception context\n",
      "     |  \n",
      "     |  __dict__\n",
      "     |  \n",
      "     |  __suppress_context__\n",
      "     |  \n",
      "     |  __traceback__\n",
      "     |  \n",
      "     |  args\n",
      "    \n",
      "    class IllegalWeekdayError(builtins.ValueError)\n",
      "     |  IllegalWeekdayError(weekday)\n",
      "     |  \n",
      "     |  Inappropriate argument value (of correct type).\n",
      "     |  \n",
      "     |  Method resolution order:\n",
      "     |      IllegalWeekdayError\n",
      "     |      builtins.ValueError\n",
      "     |      builtins.Exception\n",
      "     |      builtins.BaseException\n",
      "     |      builtins.object\n",
      "     |  \n",
      "     |  Methods defined here:\n",
      "     |  \n",
      "     |  __init__(self, weekday)\n",
      "     |      Initialize self.  See help(type(self)) for accurate signature.\n",
      "     |  \n",
      "     |  __str__(self)\n",
      "     |      Return str(self).\n",
      "     |  \n",
      "     |  ----------------------------------------------------------------------\n",
      "     |  Data descriptors defined here:\n",
      "     |  \n",
      "     |  __weakref__\n",
      "     |      list of weak references to the object (if defined)\n",
      "     |  \n",
      "     |  ----------------------------------------------------------------------\n",
      "     |  Static methods inherited from builtins.ValueError:\n",
      "     |  \n",
      "     |  __new__(*args, **kwargs) from builtins.type\n",
      "     |      Create and return a new object.  See help(type) for accurate signature.\n",
      "     |  \n",
      "     |  ----------------------------------------------------------------------\n",
      "     |  Methods inherited from builtins.BaseException:\n",
      "     |  \n",
      "     |  __delattr__(self, name, /)\n",
      "     |      Implement delattr(self, name).\n",
      "     |  \n",
      "     |  __getattribute__(self, name, /)\n",
      "     |      Return getattr(self, name).\n",
      "     |  \n",
      "     |  __reduce__(...)\n",
      "     |      Helper for pickle.\n",
      "     |  \n",
      "     |  __repr__(self, /)\n",
      "     |      Return repr(self).\n",
      "     |  \n",
      "     |  __setattr__(self, name, value, /)\n",
      "     |      Implement setattr(self, name, value).\n",
      "     |  \n",
      "     |  __setstate__(...)\n",
      "     |  \n",
      "     |  with_traceback(...)\n",
      "     |      Exception.with_traceback(tb) --\n",
      "     |      set self.__traceback__ to tb and return self.\n",
      "     |  \n",
      "     |  ----------------------------------------------------------------------\n",
      "     |  Data descriptors inherited from builtins.BaseException:\n",
      "     |  \n",
      "     |  __cause__\n",
      "     |      exception cause\n",
      "     |  \n",
      "     |  __context__\n",
      "     |      exception context\n",
      "     |  \n",
      "     |  __dict__\n",
      "     |  \n",
      "     |  __suppress_context__\n",
      "     |  \n",
      "     |  __traceback__\n",
      "     |  \n",
      "     |  args\n",
      "    \n",
      "    class LocaleHTMLCalendar(HTMLCalendar)\n",
      "     |  LocaleHTMLCalendar(firstweekday=0, locale=None)\n",
      "     |  \n",
      "     |  This class can be passed a locale name in the constructor and will return\n",
      "     |  month and weekday names in the specified locale. If this locale includes\n",
      "     |  an encoding all strings containing month and weekday names will be returned\n",
      "     |  as unicode.\n",
      "     |  \n",
      "     |  Method resolution order:\n",
      "     |      LocaleHTMLCalendar\n",
      "     |      HTMLCalendar\n",
      "     |      Calendar\n",
      "     |      builtins.object\n",
      "     |  \n",
      "     |  Methods defined here:\n",
      "     |  \n",
      "     |  __init__(self, firstweekday=0, locale=None)\n",
      "     |      Initialize self.  See help(type(self)) for accurate signature.\n",
      "     |  \n",
      "     |  formatmonthname(self, theyear, themonth, withyear=True)\n",
      "     |      Return a month name as a table row.\n",
      "     |  \n",
      "     |  formatweekday(self, day)\n",
      "     |      Return a weekday name as a table header.\n",
      "     |  \n",
      "     |  ----------------------------------------------------------------------\n",
      "     |  Methods inherited from HTMLCalendar:\n",
      "     |  \n",
      "     |  formatday(self, day, weekday)\n",
      "     |      Return a day as a table cell.\n",
      "     |  \n",
      "     |  formatmonth(self, theyear, themonth, withyear=True)\n",
      "     |      Return a formatted month as a table.\n",
      "     |  \n",
      "     |  formatweek(self, theweek)\n",
      "     |      Return a complete week as a table row.\n",
      "     |  \n",
      "     |  formatweekheader(self)\n",
      "     |      Return a header for a week as a table row.\n",
      "     |  \n",
      "     |  formatyear(self, theyear, width=3)\n",
      "     |      Return a formatted year as a table of tables.\n",
      "     |  \n",
      "     |  formatyearpage(self, theyear, width=3, css='calendar.css', encoding=None)\n",
      "     |      Return a formatted year as a complete HTML page.\n",
      "     |  \n",
      "     |  ----------------------------------------------------------------------\n",
      "     |  Data and other attributes inherited from HTMLCalendar:\n",
      "     |  \n",
      "     |  cssclass_month = 'month'\n",
      "     |  \n",
      "     |  cssclass_month_head = 'month'\n",
      "     |  \n",
      "     |  cssclass_noday = 'noday'\n",
      "     |  \n",
      "     |  cssclass_year = 'year'\n",
      "     |  \n",
      "     |  cssclass_year_head = 'year'\n",
      "     |  \n",
      "     |  cssclasses = ['mon', 'tue', 'wed', 'thu', 'fri', 'sat', 'sun']\n",
      "     |  \n",
      "     |  cssclasses_weekday_head = ['mon', 'tue', 'wed', 'thu', 'fri', 'sat', '...\n",
      "     |  \n",
      "     |  ----------------------------------------------------------------------\n",
      "     |  Methods inherited from Calendar:\n",
      "     |  \n",
      "     |  getfirstweekday(self)\n",
      "     |  \n",
      "     |  itermonthdates(self, year, month)\n",
      "     |      Return an iterator for one month. The iterator will yield datetime.date\n",
      "     |      values and will always iterate through complete weeks, so it will yield\n",
      "     |      dates outside the specified month.\n",
      "     |  \n",
      "     |  itermonthdays(self, year, month)\n",
      "     |      Like itermonthdates(), but will yield day numbers. For days outside\n",
      "     |      the specified month the day number is 0.\n",
      "     |  \n",
      "     |  itermonthdays2(self, year, month)\n",
      "     |      Like itermonthdates(), but will yield (day number, weekday number)\n",
      "     |      tuples. For days outside the specified month the day number is 0.\n",
      "     |  \n",
      "     |  itermonthdays3(self, year, month)\n",
      "     |      Like itermonthdates(), but will yield (year, month, day) tuples.  Can be\n",
      "     |      used for dates outside of datetime.date range.\n",
      "     |  \n",
      "     |  itermonthdays4(self, year, month)\n",
      "     |      Like itermonthdates(), but will yield (year, month, day, day_of_week) tuples.\n",
      "     |      Can be used for dates outside of datetime.date range.\n",
      "     |  \n",
      "     |  iterweekdays(self)\n",
      "     |      Return an iterator for one week of weekday numbers starting with the\n",
      "     |      configured first one.\n",
      "     |  \n",
      "     |  monthdatescalendar(self, year, month)\n",
      "     |      Return a matrix (list of lists) representing a month's calendar.\n",
      "     |      Each row represents a week; week entries are datetime.date values.\n",
      "     |  \n",
      "     |  monthdays2calendar(self, year, month)\n",
      "     |      Return a matrix representing a month's calendar.\n",
      "     |      Each row represents a week; week entries are\n",
      "     |      (day number, weekday number) tuples. Day numbers outside this month\n",
      "     |      are zero.\n",
      "     |  \n",
      "     |  monthdayscalendar(self, year, month)\n",
      "     |      Return a matrix representing a month's calendar.\n",
      "     |      Each row represents a week; days outside this month are zero.\n",
      "     |  \n",
      "     |  setfirstweekday(self, firstweekday)\n",
      "     |  \n",
      "     |  yeardatescalendar(self, year, width=3)\n",
      "     |      Return the data for the specified year ready for formatting. The return\n",
      "     |      value is a list of month rows. Each month row contains up to width months.\n",
      "     |      Each month contains between 4 and 6 weeks and each week contains 1-7\n",
      "     |      days. Days are datetime.date objects.\n",
      "     |  \n",
      "     |  yeardays2calendar(self, year, width=3)\n",
      "     |      Return the data for the specified year ready for formatting (similar to\n",
      "     |      yeardatescalendar()). Entries in the week lists are\n",
      "     |      (day number, weekday number) tuples. Day numbers outside this month are\n",
      "     |      zero.\n",
      "     |  \n",
      "     |  yeardayscalendar(self, year, width=3)\n",
      "     |      Return the data for the specified year ready for formatting (similar to\n",
      "     |      yeardatescalendar()). Entries in the week lists are day numbers.\n",
      "     |      Day numbers outside this month are zero.\n",
      "     |  \n",
      "     |  ----------------------------------------------------------------------\n",
      "     |  Data descriptors inherited from Calendar:\n",
      "     |  \n",
      "     |  __dict__\n",
      "     |      dictionary for instance variables (if defined)\n",
      "     |  \n",
      "     |  __weakref__\n",
      "     |      list of weak references to the object (if defined)\n",
      "     |  \n",
      "     |  firstweekday\n",
      "    \n",
      "    class LocaleTextCalendar(TextCalendar)\n",
      "     |  LocaleTextCalendar(firstweekday=0, locale=None)\n",
      "     |  \n",
      "     |  This class can be passed a locale name in the constructor and will return\n",
      "     |  month and weekday names in the specified locale. If this locale includes\n",
      "     |  an encoding all strings containing month and weekday names will be returned\n",
      "     |  as unicode.\n",
      "     |  \n",
      "     |  Method resolution order:\n",
      "     |      LocaleTextCalendar\n",
      "     |      TextCalendar\n",
      "     |      Calendar\n",
      "     |      builtins.object\n",
      "     |  \n",
      "     |  Methods defined here:\n",
      "     |  \n",
      "     |  __init__(self, firstweekday=0, locale=None)\n",
      "     |      Initialize self.  See help(type(self)) for accurate signature.\n",
      "     |  \n",
      "     |  formatmonthname(self, theyear, themonth, width, withyear=True)\n",
      "     |      Return a formatted month name.\n",
      "     |  \n",
      "     |  formatweekday(self, day, width)\n",
      "     |      Returns a formatted week day name.\n",
      "     |  \n",
      "     |  ----------------------------------------------------------------------\n",
      "     |  Methods inherited from TextCalendar:\n",
      "     |  \n",
      "     |  formatday(self, day, weekday, width)\n",
      "     |      Returns a formatted day.\n",
      "     |  \n",
      "     |  formatmonth(self, theyear, themonth, w=0, l=0)\n",
      "     |      Return a month's calendar string (multi-line).\n",
      "     |  \n",
      "     |  formatweek(self, theweek, width)\n",
      "     |      Returns a single week in a string (no newline).\n",
      "     |  \n",
      "     |  formatweekheader(self, width)\n",
      "     |      Return a header for a week.\n",
      "     |  \n",
      "     |  formatyear(self, theyear, w=2, l=1, c=6, m=3)\n",
      "     |      Returns a year's calendar as a multi-line string.\n",
      "     |  \n",
      "     |  prmonth(self, theyear, themonth, w=0, l=0)\n",
      "     |      Print a month's calendar.\n",
      "     |  \n",
      "     |  prweek(self, theweek, width)\n",
      "     |      Print a single week (no newline).\n",
      "     |  \n",
      "     |  pryear(self, theyear, w=0, l=0, c=6, m=3)\n",
      "     |      Print a year's calendar.\n",
      "     |  \n",
      "     |  ----------------------------------------------------------------------\n",
      "     |  Methods inherited from Calendar:\n",
      "     |  \n",
      "     |  getfirstweekday(self)\n",
      "     |  \n",
      "     |  itermonthdates(self, year, month)\n",
      "     |      Return an iterator for one month. The iterator will yield datetime.date\n",
      "     |      values and will always iterate through complete weeks, so it will yield\n",
      "     |      dates outside the specified month.\n",
      "     |  \n",
      "     |  itermonthdays(self, year, month)\n",
      "     |      Like itermonthdates(), but will yield day numbers. For days outside\n",
      "     |      the specified month the day number is 0.\n",
      "     |  \n",
      "     |  itermonthdays2(self, year, month)\n",
      "     |      Like itermonthdates(), but will yield (day number, weekday number)\n",
      "     |      tuples. For days outside the specified month the day number is 0.\n",
      "     |  \n",
      "     |  itermonthdays3(self, year, month)\n",
      "     |      Like itermonthdates(), but will yield (year, month, day) tuples.  Can be\n",
      "     |      used for dates outside of datetime.date range.\n",
      "     |  \n",
      "     |  itermonthdays4(self, year, month)\n",
      "     |      Like itermonthdates(), but will yield (year, month, day, day_of_week) tuples.\n",
      "     |      Can be used for dates outside of datetime.date range.\n",
      "     |  \n",
      "     |  iterweekdays(self)\n",
      "     |      Return an iterator for one week of weekday numbers starting with the\n",
      "     |      configured first one.\n",
      "     |  \n",
      "     |  monthdatescalendar(self, year, month)\n",
      "     |      Return a matrix (list of lists) representing a month's calendar.\n",
      "     |      Each row represents a week; week entries are datetime.date values.\n",
      "     |  \n",
      "     |  monthdays2calendar(self, year, month)\n",
      "     |      Return a matrix representing a month's calendar.\n",
      "     |      Each row represents a week; week entries are\n",
      "     |      (day number, weekday number) tuples. Day numbers outside this month\n",
      "     |      are zero.\n",
      "     |  \n",
      "     |  monthdayscalendar(self, year, month)\n",
      "     |      Return a matrix representing a month's calendar.\n",
      "     |      Each row represents a week; days outside this month are zero.\n",
      "     |  \n",
      "     |  setfirstweekday(self, firstweekday)\n",
      "     |  \n",
      "     |  yeardatescalendar(self, year, width=3)\n",
      "     |      Return the data for the specified year ready for formatting. The return\n",
      "     |      value is a list of month rows. Each month row contains up to width months.\n",
      "     |      Each month contains between 4 and 6 weeks and each week contains 1-7\n",
      "     |      days. Days are datetime.date objects.\n",
      "     |  \n",
      "     |  yeardays2calendar(self, year, width=3)\n",
      "     |      Return the data for the specified year ready for formatting (similar to\n",
      "     |      yeardatescalendar()). Entries in the week lists are\n",
      "     |      (day number, weekday number) tuples. Day numbers outside this month are\n",
      "     |      zero.\n",
      "     |  \n",
      "     |  yeardayscalendar(self, year, width=3)\n",
      "     |      Return the data for the specified year ready for formatting (similar to\n",
      "     |      yeardatescalendar()). Entries in the week lists are day numbers.\n",
      "     |      Day numbers outside this month are zero.\n",
      "     |  \n",
      "     |  ----------------------------------------------------------------------\n",
      "     |  Data descriptors inherited from Calendar:\n",
      "     |  \n",
      "     |  __dict__\n",
      "     |      dictionary for instance variables (if defined)\n",
      "     |  \n",
      "     |  __weakref__\n",
      "     |      list of weak references to the object (if defined)\n",
      "     |  \n",
      "     |  firstweekday\n",
      "    \n",
      "    class TextCalendar(Calendar)\n",
      "     |  TextCalendar(firstweekday=0)\n",
      "     |  \n",
      "     |  Subclass of Calendar that outputs a calendar as a simple plain text\n",
      "     |  similar to the UNIX program cal.\n",
      "     |  \n",
      "     |  Method resolution order:\n",
      "     |      TextCalendar\n",
      "     |      Calendar\n",
      "     |      builtins.object\n",
      "     |  \n",
      "     |  Methods defined here:\n",
      "     |  \n",
      "     |  formatday(self, day, weekday, width)\n",
      "     |      Returns a formatted day.\n",
      "     |  \n",
      "     |  formatmonth(self, theyear, themonth, w=0, l=0)\n",
      "     |      Return a month's calendar string (multi-line).\n",
      "     |  \n",
      "     |  formatmonthname(self, theyear, themonth, width, withyear=True)\n",
      "     |      Return a formatted month name.\n",
      "     |  \n",
      "     |  formatweek(self, theweek, width)\n",
      "     |      Returns a single week in a string (no newline).\n",
      "     |  \n",
      "     |  formatweekday(self, day, width)\n",
      "     |      Returns a formatted week day name.\n",
      "     |  \n",
      "     |  formatweekheader(self, width)\n",
      "     |      Return a header for a week.\n",
      "     |  \n",
      "     |  formatyear(self, theyear, w=2, l=1, c=6, m=3)\n",
      "     |      Returns a year's calendar as a multi-line string.\n",
      "     |  \n",
      "     |  prmonth(self, theyear, themonth, w=0, l=0)\n",
      "     |      Print a month's calendar.\n",
      "     |  \n",
      "     |  prweek(self, theweek, width)\n",
      "     |      Print a single week (no newline).\n",
      "     |  \n",
      "     |  pryear(self, theyear, w=0, l=0, c=6, m=3)\n",
      "     |      Print a year's calendar.\n",
      "     |  \n",
      "     |  ----------------------------------------------------------------------\n",
      "     |  Methods inherited from Calendar:\n",
      "     |  \n",
      "     |  __init__(self, firstweekday=0)\n",
      "     |      Initialize self.  See help(type(self)) for accurate signature.\n",
      "     |  \n",
      "     |  getfirstweekday(self)\n",
      "     |  \n",
      "     |  itermonthdates(self, year, month)\n",
      "     |      Return an iterator for one month. The iterator will yield datetime.date\n",
      "     |      values and will always iterate through complete weeks, so it will yield\n",
      "     |      dates outside the specified month.\n",
      "     |  \n",
      "     |  itermonthdays(self, year, month)\n",
      "     |      Like itermonthdates(), but will yield day numbers. For days outside\n",
      "     |      the specified month the day number is 0.\n",
      "     |  \n",
      "     |  itermonthdays2(self, year, month)\n",
      "     |      Like itermonthdates(), but will yield (day number, weekday number)\n",
      "     |      tuples. For days outside the specified month the day number is 0.\n",
      "     |  \n",
      "     |  itermonthdays3(self, year, month)\n",
      "     |      Like itermonthdates(), but will yield (year, month, day) tuples.  Can be\n",
      "     |      used for dates outside of datetime.date range.\n",
      "     |  \n",
      "     |  itermonthdays4(self, year, month)\n",
      "     |      Like itermonthdates(), but will yield (year, month, day, day_of_week) tuples.\n",
      "     |      Can be used for dates outside of datetime.date range.\n",
      "     |  \n",
      "     |  iterweekdays(self)\n",
      "     |      Return an iterator for one week of weekday numbers starting with the\n",
      "     |      configured first one.\n",
      "     |  \n",
      "     |  monthdatescalendar(self, year, month)\n",
      "     |      Return a matrix (list of lists) representing a month's calendar.\n",
      "     |      Each row represents a week; week entries are datetime.date values.\n",
      "     |  \n",
      "     |  monthdays2calendar(self, year, month)\n",
      "     |      Return a matrix representing a month's calendar.\n",
      "     |      Each row represents a week; week entries are\n",
      "     |      (day number, weekday number) tuples. Day numbers outside this month\n",
      "     |      are zero.\n",
      "     |  \n",
      "     |  monthdayscalendar(self, year, month)\n",
      "     |      Return a matrix representing a month's calendar.\n",
      "     |      Each row represents a week; days outside this month are zero.\n",
      "     |  \n",
      "     |  setfirstweekday(self, firstweekday)\n",
      "     |  \n",
      "     |  yeardatescalendar(self, year, width=3)\n",
      "     |      Return the data for the specified year ready for formatting. The return\n",
      "     |      value is a list of month rows. Each month row contains up to width months.\n",
      "     |      Each month contains between 4 and 6 weeks and each week contains 1-7\n",
      "     |      days. Days are datetime.date objects.\n",
      "     |  \n",
      "     |  yeardays2calendar(self, year, width=3)\n",
      "     |      Return the data for the specified year ready for formatting (similar to\n",
      "     |      yeardatescalendar()). Entries in the week lists are\n",
      "     |      (day number, weekday number) tuples. Day numbers outside this month are\n",
      "     |      zero.\n",
      "     |  \n",
      "     |  yeardayscalendar(self, year, width=3)\n",
      "     |      Return the data for the specified year ready for formatting (similar to\n",
      "     |      yeardatescalendar()). Entries in the week lists are day numbers.\n",
      "     |      Day numbers outside this month are zero.\n",
      "     |  \n",
      "     |  ----------------------------------------------------------------------\n",
      "     |  Data descriptors inherited from Calendar:\n",
      "     |  \n",
      "     |  __dict__\n",
      "     |      dictionary for instance variables (if defined)\n",
      "     |  \n",
      "     |  __weakref__\n",
      "     |      list of weak references to the object (if defined)\n",
      "     |  \n",
      "     |  firstweekday\n",
      "\n",
      "FUNCTIONS\n",
      "    calendar = formatyear(theyear, w=2, l=1, c=6, m=3) method of TextCalendar instance\n",
      "        Returns a year's calendar as a multi-line string.\n",
      "    \n",
      "    firstweekday = getfirstweekday() method of TextCalendar instance\n",
      "    \n",
      "    isleap(year)\n",
      "        Return True for leap years, False for non-leap years.\n",
      "    \n",
      "    leapdays(y1, y2)\n",
      "        Return number of leap years in range [y1, y2).\n",
      "        Assume y1 <= y2.\n",
      "    \n",
      "    month = formatmonth(theyear, themonth, w=0, l=0) method of TextCalendar instance\n",
      "        Return a month's calendar string (multi-line).\n",
      "    \n",
      "    monthcalendar = monthdayscalendar(year, month) method of TextCalendar instance\n",
      "        Return a matrix representing a month's calendar.\n",
      "        Each row represents a week; days outside this month are zero.\n",
      "    \n",
      "    monthrange(year, month)\n",
      "        Return weekday (0-6 ~ Mon-Sun) and number of days (28-31) for\n",
      "        year, month.\n",
      "    \n",
      "    prcal = pryear(theyear, w=0, l=0, c=6, m=3) method of TextCalendar instance\n",
      "        Print a year's calendar.\n",
      "    \n",
      "    prmonth(theyear, themonth, w=0, l=0) method of TextCalendar instance\n",
      "        Print a month's calendar.\n",
      "    \n",
      "    setfirstweekday(firstweekday)\n",
      "    \n",
      "    timegm(tuple)\n",
      "        Unrelated but handy function to calculate Unix timestamp from GMT.\n",
      "    \n",
      "    weekday(year, month, day)\n",
      "        Return weekday (0-6 ~ Mon-Sun) for year, month (1-12), day (1-31).\n",
      "    \n",
      "    weekheader = formatweekheader(width) method of TextCalendar instance\n",
      "        Return a header for a week.\n",
      "\n",
      "DATA\n",
      "    __all__ = ['IllegalMonthError', 'IllegalWeekdayError', 'setfirstweekda...\n",
      "    day_abbr = <calendar._localized_day object>\n",
      "    day_name = <calendar._localized_day object>\n",
      "    month_abbr = <calendar._localized_month object>\n",
      "    month_name = <calendar._localized_month object>\n",
      "\n",
      "FILE\n",
      "    /home/fjb/anaconda3/lib/python3.7/calendar.py\n",
      "\n",
      "\n"
     ]
    }
   ],
   "source": [
    "help(calendar)"
   ]
  },
  {
   "cell_type": "markdown",
   "metadata": {},
   "source": [
    "Para esto es necesario saber escribir buena documentación para nuestros proyectos usando comentarios."
   ]
  },
  {
   "cell_type": "code",
   "execution_count": 46,
   "metadata": {},
   "outputs": [
    {
     "data": {
      "text/plain": [
       "['Calendar',\n",
       " 'EPOCH',\n",
       " 'FRIDAY',\n",
       " 'February',\n",
       " 'HTMLCalendar',\n",
       " 'IllegalMonthError',\n",
       " 'IllegalWeekdayError',\n",
       " 'January',\n",
       " 'LocaleHTMLCalendar',\n",
       " 'LocaleTextCalendar',\n",
       " 'MONDAY',\n",
       " 'SATURDAY',\n",
       " 'SUNDAY',\n",
       " 'THURSDAY',\n",
       " 'TUESDAY',\n",
       " 'TextCalendar',\n",
       " 'WEDNESDAY',\n",
       " '_EPOCH_ORD',\n",
       " '__all__',\n",
       " '__builtins__',\n",
       " '__cached__',\n",
       " '__doc__',\n",
       " '__file__',\n",
       " '__loader__',\n",
       " '__name__',\n",
       " '__package__',\n",
       " '__spec__',\n",
       " '_colwidth',\n",
       " '_locale',\n",
       " '_localized_day',\n",
       " '_localized_month',\n",
       " '_spacing',\n",
       " 'c',\n",
       " 'calendar',\n",
       " 'datetime',\n",
       " 'day_abbr',\n",
       " 'day_name',\n",
       " 'different_locale',\n",
       " 'error',\n",
       " 'firstweekday',\n",
       " 'format',\n",
       " 'formatstring',\n",
       " 'isleap',\n",
       " 'leapdays',\n",
       " 'main',\n",
       " 'mdays',\n",
       " 'month',\n",
       " 'month_abbr',\n",
       " 'month_name',\n",
       " 'monthcalendar',\n",
       " 'monthlen',\n",
       " 'monthrange',\n",
       " 'nextmonth',\n",
       " 'prcal',\n",
       " 'prevmonth',\n",
       " 'prmonth',\n",
       " 'prweek',\n",
       " 'repeat',\n",
       " 'setfirstweekday',\n",
       " 'sys',\n",
       " 'timegm',\n",
       " 'week',\n",
       " 'weekday',\n",
       " 'weekheader']"
      ]
     },
     "execution_count": 46,
     "metadata": {},
     "output_type": "execute_result"
    }
   ],
   "source": [
    "dir(calendar)"
   ]
  },
  {
   "cell_type": "markdown",
   "metadata": {},
   "source": [
    "---"
   ]
  },
  {
   "cell_type": "markdown",
   "metadata": {},
   "source": [
    "### Introducción a Numpy\n",
    "\n",
    "<img src=\"data:image/png;base64,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\"/>\n",
    "\n",
    "\n",
    "**Numpy** es una librería que provee soporte para grandes arreglos de datos multidimensionales, diseñada para hacer que sea mas sencillo llevar acabo operaciones matemáticas de naturaleza matricial sobre los mismos, con un aumento de performance."
   ]
  },
  {
   "cell_type": "code",
   "execution_count": 1,
   "metadata": {},
   "outputs": [],
   "source": [
    "import numpy as np"
   ]
  },
  {
   "cell_type": "markdown",
   "metadata": {},
   "source": [
    "Numpy trabaja con **arrays**, que es una _estructura de datos_ similar a una lista de Python. De hecho, podemos crear arrays a partir de listas."
   ]
  },
  {
   "cell_type": "code",
   "execution_count": 2,
   "metadata": {},
   "outputs": [],
   "source": [
    "int_list = [1, 2, 3, 4, 5, 6, 7, 8, 9, 10]\n",
    "\n",
    "a = np.array(int_list)"
   ]
  },
  {
   "cell_type": "code",
   "execution_count": 4,
   "metadata": {},
   "outputs": [
    {
     "data": {
      "text/plain": [
       "numpy.ndarray"
      ]
     },
     "execution_count": 4,
     "metadata": {},
     "output_type": "execute_result"
    }
   ],
   "source": [
    "type(a)"
   ]
  },
  {
   "cell_type": "markdown",
   "metadata": {},
   "source": [
    "Al _convertir_ una lista a un arreglo, ahora es un tipo de **objeto** distinto, que cuenta con las nuevas funciones provistas por Numpy."
   ]
  },
  {
   "cell_type": "code",
   "execution_count": 10,
   "metadata": {},
   "outputs": [],
   "source": [
    "matrix = [\n",
    "    [1, 2, 3, 4],\n",
    "    [6, 4, 5, 2],\n",
    "    [9, 8, 6, 4],\n",
    "    [7, 6, 4, 2]\n",
    "]\n",
    "\n",
    "a = np.array(matrix)"
   ]
  },
  {
   "cell_type": "code",
   "execution_count": 11,
   "metadata": {},
   "outputs": [
    {
     "data": {
      "text/plain": [
       "numpy.ndarray"
      ]
     },
     "execution_count": 11,
     "metadata": {},
     "output_type": "execute_result"
    }
   ],
   "source": [
    "type(a)"
   ]
  },
  {
   "cell_type": "markdown",
   "metadata": {},
   "source": [
    "print(a)"
   ]
  },
  {
   "cell_type": "code",
   "execution_count": 13,
   "metadata": {},
   "outputs": [
    {
     "data": {
      "text/plain": [
       "array([0., 0., 0., 0., 0., 0., 0., 0., 0., 0.])"
      ]
     },
     "execution_count": 13,
     "metadata": {},
     "output_type": "execute_result"
    }
   ],
   "source": [
    "np.zeros(10)"
   ]
  },
  {
   "cell_type": "code",
   "execution_count": 14,
   "metadata": {},
   "outputs": [
    {
     "data": {
      "text/plain": [
       "array([1., 1., 1., 1., 1., 1., 1., 1., 1., 1.])"
      ]
     },
     "execution_count": 14,
     "metadata": {},
     "output_type": "execute_result"
    }
   ],
   "source": [
    "np.ones(10)"
   ]
  },
  {
   "cell_type": "code",
   "execution_count": 27,
   "metadata": {},
   "outputs": [
    {
     "data": {
      "text/plain": [
       "array([1, 1, 1, 1, 1, 1, 1, 1, 1, 1])"
      ]
     },
     "execution_count": 27,
     "metadata": {},
     "output_type": "execute_result"
    }
   ],
   "source": [
    "np.ones(10, dtype=np.int64)"
   ]
  },
  {
   "cell_type": "code",
   "execution_count": 20,
   "metadata": {},
   "outputs": [
    {
     "data": {
      "text/plain": [
       "array([0, 1, 2, 3, 4, 5, 6, 7, 8, 9])"
      ]
     },
     "execution_count": 20,
     "metadata": {},
     "output_type": "execute_result"
    }
   ],
   "source": [
    "np.arange(10)"
   ]
  },
  {
   "cell_type": "code",
   "execution_count": 26,
   "metadata": {},
   "outputs": [
    {
     "data": {
      "text/plain": [
       "array([  0,   5,  10,  15,  20,  25,  30,  35,  40,  45,  50,  55,  60,\n",
       "        65,  70,  75,  80,  85,  90,  95, 100])"
      ]
     },
     "execution_count": 26,
     "metadata": {},
     "output_type": "execute_result"
    }
   ],
   "source": [
    "np.arange(0, 101, 5)"
   ]
  },
  {
   "cell_type": "code",
   "execution_count": 29,
   "metadata": {},
   "outputs": [
    {
     "name": "stdout",
     "output_type": "stream",
     "text": [
      "[[1 2 3 4]\n",
      " [6 4 5 2]\n",
      " [9 8 6 4]\n",
      " [7 6 4 2]]\n"
     ]
    }
   ],
   "source": [
    "a = np.array(matrix)\n",
    "\n",
    "print(a)"
   ]
  },
  {
   "cell_type": "code",
   "execution_count": 37,
   "metadata": {},
   "outputs": [
    {
     "data": {
      "text/plain": [
       "array([[1, 2, 3, 4],\n",
       "       [2, 4, 5, 6],\n",
       "       [4, 6, 8, 9],\n",
       "       [2, 4, 6, 7]])"
      ]
     },
     "execution_count": 37,
     "metadata": {},
     "output_type": "execute_result"
    }
   ],
   "source": [
    "matrix_np = np.sort(a)\n",
    "matrix_np"
   ]
  },
  {
   "cell_type": "code",
   "execution_count": 38,
   "metadata": {},
   "outputs": [
    {
     "data": {
      "text/plain": [
       "[[1, 2, 3, 4], [6, 4, 5, 2], [7, 6, 4, 2], [9, 8, 6, 4]]"
      ]
     },
     "execution_count": 38,
     "metadata": {},
     "output_type": "execute_result"
    }
   ],
   "source": [
    "matrix.sort()\n",
    "matrix"
   ]
  },
  {
   "cell_type": "code",
   "execution_count": 39,
   "metadata": {},
   "outputs": [
    {
     "name": "stdout",
     "output_type": "stream",
     "text": [
      "[1, 2, 3, 4]\n",
      "[6, 4, 5, 2]\n",
      "[7, 6, 4, 2]\n",
      "[9, 8, 6, 4]\n"
     ]
    }
   ],
   "source": [
    "for line in matrix:\n",
    "    print(line)"
   ]
  },
  {
   "cell_type": "code",
   "execution_count": 40,
   "metadata": {},
   "outputs": [
    {
     "data": {
      "text/plain": [
       "2"
      ]
     },
     "execution_count": 40,
     "metadata": {},
     "output_type": "execute_result"
    }
   ],
   "source": [
    "matrix_np.ndim"
   ]
  },
  {
   "cell_type": "code",
   "execution_count": 41,
   "metadata": {},
   "outputs": [
    {
     "data": {
      "text/plain": [
       "16"
      ]
     },
     "execution_count": 41,
     "metadata": {},
     "output_type": "execute_result"
    }
   ],
   "source": [
    "matrix_np.size"
   ]
  },
  {
   "cell_type": "code",
   "execution_count": 42,
   "metadata": {},
   "outputs": [
    {
     "data": {
      "text/plain": [
       "(4, 4)"
      ]
     },
     "execution_count": 42,
     "metadata": {},
     "output_type": "execute_result"
    }
   ],
   "source": [
    "matrix_np.shape"
   ]
  },
  {
   "cell_type": "code",
   "execution_count": 45,
   "metadata": {},
   "outputs": [
    {
     "name": "stdout",
     "output_type": "stream",
     "text": [
      "[ 0  1  2  3  4  5  6  7  8  9 10 11 12 13 14 15 16 17 18 19 20 21 22 23\n",
      " 24 25 26 27 28 29 30 31 32 33 34 35 36 37 38 39 40 41 42 43 44 45 46 47\n",
      " 48 49 50 51 52 53 54 55 56 57 58 59 60 61 62 63 64 65 66 67 68 69 70 71\n",
      " 72 73 74 75 76 77 78 79 80 81 82 83 84 85 86 87 88 89 90 91 92 93 94 95\n",
      " 96 97 98 99]\n"
     ]
    }
   ],
   "source": [
    "a = np.arange(100)\n",
    "print(a)"
   ]
  },
  {
   "cell_type": "code",
   "execution_count": 46,
   "metadata": {},
   "outputs": [
    {
     "name": "stdout",
     "output_type": "stream",
     "text": [
      "[[ 0  1  2  3  4  5  6  7  8  9]\n",
      " [10 11 12 13 14 15 16 17 18 19]\n",
      " [20 21 22 23 24 25 26 27 28 29]\n",
      " [30 31 32 33 34 35 36 37 38 39]\n",
      " [40 41 42 43 44 45 46 47 48 49]\n",
      " [50 51 52 53 54 55 56 57 58 59]\n",
      " [60 61 62 63 64 65 66 67 68 69]\n",
      " [70 71 72 73 74 75 76 77 78 79]\n",
      " [80 81 82 83 84 85 86 87 88 89]\n",
      " [90 91 92 93 94 95 96 97 98 99]]\n"
     ]
    }
   ],
   "source": [
    "b = a.reshape(10, 10)\n",
    "print(b)"
   ]
  },
  {
   "cell_type": "markdown",
   "metadata": {},
   "source": [
    "Soporta indexación como las listas y tuplas de Python."
   ]
  },
  {
   "attachments": {},
   "cell_type": "markdown",
   "metadata": {},
   "source": [
    "<img src=\"https://numpy.org/doc/stable/_images/np_indexing.png\"/>"
   ]
  },
  {
   "cell_type": "code",
   "execution_count": 47,
   "metadata": {},
   "outputs": [
    {
     "name": "stdout",
     "output_type": "stream",
     "text": [
      "[1 2]\n",
      "1\n",
      "2\n",
      "[2 3]\n",
      "[2 3]\n",
      "[1 2]\n"
     ]
    }
   ],
   "source": [
    "a = np.array([1, 2, 3])\n",
    "\n",
    "print(a[0:2])\n",
    "print(a[0])\n",
    "print(a[1])\n",
    "print(a[1:])\n",
    "print(a[-2:])\n",
    "print(a[0:2])"
   ]
  },
  {
   "cell_type": "markdown",
   "metadata": {},
   "source": [
    "Nos permite realizar operaciones _matemáticas y lógicas_ para cada uno de los elementos."
   ]
  },
  {
   "cell_type": "code",
   "execution_count": 56,
   "metadata": {},
   "outputs": [],
   "source": [
    "a = np.arange(10)\n",
    "unos = np.ones(10, dtype=np.int64)\n",
    "ceros = np.zeros(10, dtype=np.int64)"
   ]
  },
  {
   "cell_type": "code",
   "execution_count": 60,
   "metadata": {},
   "outputs": [],
   "source": [
    "multi1 = a * unos\n",
    "multi2 = a * ceros"
   ]
  },
  {
   "cell_type": "code",
   "execution_count": 61,
   "metadata": {},
   "outputs": [
    {
     "name": "stdout",
     "output_type": "stream",
     "text": [
      "[0 1 2 3 4 5 6 7 8 9]\n",
      "[0 0 0 0 0 0 0 0 0 0]\n"
     ]
    }
   ],
   "source": [
    "print(multi1)\n",
    "print(multi2)"
   ]
  },
  {
   "cell_type": "code",
   "execution_count": 62,
   "metadata": {},
   "outputs": [
    {
     "name": "stdout",
     "output_type": "stream",
     "text": [
      "[ 0  2  4  6  8 10 12 14 16 18]\n"
     ]
    }
   ],
   "source": [
    "suma = a + a\n",
    "print(suma)"
   ]
  },
  {
   "cell_type": "code",
   "execution_count": 63,
   "metadata": {},
   "outputs": [
    {
     "data": {
      "text/plain": [
       "45"
      ]
     },
     "execution_count": 63,
     "metadata": {},
     "output_type": "execute_result"
    }
   ],
   "source": [
    "suma_total = a.sum()\n",
    "suma_total"
   ]
  },
  {
   "cell_type": "code",
   "execution_count": 64,
   "metadata": {},
   "outputs": [],
   "source": [
    "a = np.array([[0.45053314, 0.17296777, 0.34376245, 0.5510652],\n",
    "              [0.54627315, 0.05093587, 0.40067661, 0.55645993],\n",
    "              [0.12697628, 0.82485143, 0.26590556, 0.56917101]])"
   ]
  },
  {
   "cell_type": "code",
   "execution_count": 65,
   "metadata": {},
   "outputs": [
    {
     "data": {
      "text/plain": [
       "0.05093587"
      ]
     },
     "execution_count": 65,
     "metadata": {},
     "output_type": "execute_result"
    }
   ],
   "source": [
    "a.min()"
   ]
  },
  {
   "cell_type": "code",
   "execution_count": 66,
   "metadata": {},
   "outputs": [
    {
     "data": {
      "text/plain": [
       "0.82485143"
      ]
     },
     "execution_count": 66,
     "metadata": {},
     "output_type": "execute_result"
    }
   ],
   "source": [
    "a.max()"
   ]
  }
 ],
 "metadata": {
  "kernelspec": {
   "display_name": "Python 3",
   "language": "python",
   "name": "python3"
  },
  "language_info": {
   "codemirror_mode": {
    "name": "ipython",
    "version": 3
   },
   "file_extension": ".py",
   "mimetype": "text/x-python",
   "name": "python",
   "nbconvert_exporter": "python",
   "pygments_lexer": "ipython3",
   "version": "3.7.6"
  }
 },
 "nbformat": 4,
 "nbformat_minor": 2
}
