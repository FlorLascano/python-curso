{
 "cells": [
  {
   "cell_type": "markdown",
   "metadata": {},
   "source": [
    "<img src=\"assets/socalo-ICDA.png\">"
   ]
  },
  {
   "cell_type": "markdown",
   "metadata": {},
   "source": [
    "\n"
   ]
  },
  {
   "cell_type": "markdown",
   "metadata": {},
   "source": [
    "# Python para Finanzas y Ciencia de Datos\n",
    "Federico Brun | fedejbrun@gmail.com\n",
    "\n",
    "_Jueves 01 Octubre 2020_"
   ]
  },
  {
   "cell_type": "markdown",
   "metadata": {},
   "source": [
    "## Funciones, Archivos y Librerías: Introducción a Numpy"
   ]
  },
  {
   "cell_type": "markdown",
   "metadata": {},
   "source": [
    "<img src=\"https://robocrop.realpython.net/?url=https%3A//files.realpython.com/media/Descriptive-Statistics-in-Python_Watermarked.fec81e9a41f9.jpg&w=960&sig=274c90a9fc73c1aafccc437c2db2c7ba12bc4c4c\">\n",
    "\n",
    "_Fuente: realpython.com_\n",
    "\n",
    "Hasta ahora, ya sabemos lo que son variables, tipos, estructuras de datos, estructuras de control, y usamos algunas de las _funciones_ que nos provee Python.\n",
    "\n",
    "Ahora vamos a profundizar nuestro estudio de funciones, entdender qué son, y aprender cómo crear funciones propias, para poder implementar lo que necesitamos pra nuestros proyectos."
   ]
  },
  {
   "cell_type": "markdown",
   "metadata": {},
   "source": [
    "### Funciones\n",
    "\n",
    "Similar a una función matemática, una **función** en Python es una **relación o mapeo entre una o varias variables de entrada, y una salida**.\n",
    "\n",
    "Más precisamente en programación, una **función** es un **bloque de código autocontenido que encapsula una o varias tareas**."
   ]
  },
  {
   "cell_type": "code",
   "execution_count": 1,
   "metadata": {},
   "outputs": [
    {
     "data": {
      "text/plain": [
       "[1, 2, 3, 4, 5, 6, 7]"
      ]
     },
     "execution_count": 1,
     "metadata": {},
     "output_type": "execute_result"
    }
   ],
   "source": [
    "int_list = [1, 2, 3, 4, 5, 6, 7]\n",
    "int_list"
   ]
  },
  {
   "cell_type": "code",
   "execution_count": 7,
   "metadata": {},
   "outputs": [
    {
     "data": {
      "text/plain": [
       "7"
      ]
     },
     "execution_count": 7,
     "metadata": {},
     "output_type": "execute_result"
    }
   ],
   "source": [
    "len(int_list)"
   ]
  },
  {
   "cell_type": "code",
   "execution_count": 8,
   "metadata": {},
   "outputs": [
    {
     "data": {
      "text/plain": [
       "list"
      ]
     },
     "execution_count": 8,
     "metadata": {},
     "output_type": "execute_result"
    }
   ],
   "source": [
    "type(int_list)"
   ]
  },
  {
   "cell_type": "code",
   "execution_count": 14,
   "metadata": {},
   "outputs": [
    {
     "data": {
      "text/plain": [
       "[7, 6, 5, 4, 3, 2, 1]"
      ]
     },
     "execution_count": 14,
     "metadata": {},
     "output_type": "execute_result"
    }
   ],
   "source": [
    "int_list.sort(reverse=True)\n",
    "int_list"
   ]
  },
  {
   "cell_type": "code",
   "execution_count": 15,
   "metadata": {},
   "outputs": [
    {
     "data": {
      "text/plain": [
       "[1, 2, 3, 4, 5, 6, 7]"
      ]
     },
     "execution_count": 15,
     "metadata": {},
     "output_type": "execute_result"
    }
   ],
   "source": [
    "int_list.sort()\n",
    "int_list"
   ]
  },
  {
   "cell_type": "markdown",
   "metadata": {},
   "source": [
    "Como vemos, algunas de estas funciones reciben **argumentos** o **parámetros**, mientras que en otras es opcional como en `sort()`. Esto es a lo que llamamos **interface**, o en otras palabras, la forma en la que **interactuamos con la función**."
   ]
  },
  {
   "cell_type": "markdown",
   "metadata": {},
   "source": [
    "A grandes rasgos, la forma en que las funciones de Python se usan es la siguiente:\n",
    "1. Definimos la función.\n",
    "2. Llamamos la funcion desde algún lugar de nuestro código.\n",
    "    - El flujo de ejecución de nuestro programa se interrumpe para ir a la función y ejecutar las tareas que esta maneja. \n",
    "    - Se ejecutan las tareas especificadas en la función.\n",
    "    - La función puede devolver algún dato o no.\n",
    "3. El flujo de ejecución del programa continua inmediatamente después de donde estaba el _llamado_ a la función."
   ]
  },
  {
   "cell_type": "markdown",
   "metadata": {},
   "source": [
    "Imaginen que escribimos un código que realiza una funcionalidad útil. Al continuar neustro trabajo nos damos cuenta que necesitamos usar esa funcionalidad en mmás de un lugar de nuestro proyecto. Mas tarde llega un momento en el que queremos realizar alguna modificacion sencilla a esa funcionalidad, por ejemplo cambiar el mensaje que imprime en la pantalla.\n",
    "Si no usaramos funciones, deberíamos modificar esto en cada uno de los lugares donde escribimos este código.\n",
    "\n",
    "Usar funciones nos permite reutilizar  y modularizar el código, al igual que promueve la abstracción del mismo. Para definir una función, usamos la siguiente sintaxis genérica:\n",
    "\n",
    "```\n",
    "def <nombre_de_la_funcion>(<parametro1>, <parametro2>, ...):\n",
    "....<instrucción>\n",
    "....<instrucción>\n",
    "```"
   ]
  },
  {
   "cell_type": "code",
   "execution_count": 19,
   "metadata": {},
   "outputs": [],
   "source": [
    "def show_welcome():\n",
    "    print(\"============================================\")\n",
    "    print(\"Bienvenidos al MODULO II:\")\n",
    "    print(\"Librerías Fundamentales\")\n",
    "    print(\"del curso Python para Finanzas\")\n",
    "    print(\"y ciencia de Datos de ICDA\")\n",
    "    print(\"============================================\")"
   ]
  },
  {
   "cell_type": "markdown",
   "metadata": {},
   "source": [
    "Una vez que definimos la función, podemos **llamarla** desde cualquier loguar, usando su **firma**."
   ]
  },
  {
   "cell_type": "code",
   "execution_count": 20,
   "metadata": {},
   "outputs": [
    {
     "name": "stdout",
     "output_type": "stream",
     "text": [
      "Mensaje impreso ANTES de llamar la función\n",
      "============================================\n",
      "Bienvenidos al MODULO II:\n",
      "Librerías Fundamentales\n",
      "del curso Python para Finanzas\n",
      "y ciencia de Datos de ICDA\n",
      "============================================\n",
      "Mensaje impreso DESPUES de llamar la función\n"
     ]
    }
   ],
   "source": [
    "print(\"Mensaje impreso ANTES de llamar la función\")\n",
    "show_welcome()\n",
    "print(\"Mensaje impreso DESPUES de llamar la función\")"
   ]
  },
  {
   "cell_type": "markdown",
   "metadata": {},
   "source": [
    "Al definir una función, la misma puede recibir parámetros con los cuales trabajar o no, dependiendo de nuestras necesidades."
   ]
  },
  {
   "cell_type": "code",
   "execution_count": 31,
   "metadata": {},
   "outputs": [],
   "source": [
    "def show_welcome(student_name):\n",
    "    print(\"===============================\")\n",
    "    print(f\"Hola {student_name}!\")\n",
    "    print(\"Bienvenido al MODULO II:\")\n",
    "    print(\"Librerías Fundamentales\")\n",
    "    print(\"del curso Python para Finanzas\")\n",
    "    print(\"y ciencia de Datos de ICDA\")\n",
    "    print(\"===============================\")"
   ]
  },
  {
   "cell_type": "code",
   "execution_count": 32,
   "metadata": {},
   "outputs": [
    {
     "name": "stdout",
     "output_type": "stream",
     "text": [
      "Nombre del Alumno? Agustina\n",
      "===============================\n",
      "Hola Agustina!\n",
      "Bienvenido al MODULO II:\n",
      "Librerías Fundamentales\n",
      "del curso Python para Finanzas\n",
      "y ciencia de Datos de ICDA\n",
      "===============================\n"
     ]
    }
   ],
   "source": [
    "nombre = input(\"Nombre del Alumno? \")\n",
    "\n",
    "show_welcome(nombre)"
   ]
  },
  {
   "cell_type": "markdown",
   "metadata": {},
   "source": [
    "Las funciones pueden recibir más de un parámetro:\n",
    "<img src=\"https://cdn.kastatic.org/googleusercontent/Y2qnXXEO4SM_iSpCVJN67_J3REAFynT1UEYi4r6z_SWvp-UFRQGRW3r99hbxCJKTeCwHJ7ejCGIiDreS42DcZis\"/>"
   ]
  },
  {
   "cell_type": "code",
   "execution_count": 43,
   "metadata": {},
   "outputs": [],
   "source": [
    "def gravity_weight(mass, gravity):\n",
    "    weight = mass * gravity\n",
    "    print(f\"El peso del objeto de masa={mass}kg es {weight}kg*m/s²\")"
   ]
  },
  {
   "cell_type": "code",
   "execution_count": 44,
   "metadata": {},
   "outputs": [
    {
     "name": "stdout",
     "output_type": "stream",
     "text": [
      "El peso del objeto de masa=80kg es 784.0kg*m/s²\n"
     ]
    }
   ],
   "source": [
    "gravity_weight(80, 9.8)"
   ]
  },
  {
   "cell_type": "markdown",
   "metadata": {},
   "source": [
    "A su vez, las funciones puede **retornar** un valor o no:"
   ]
  },
  {
   "cell_type": "code",
   "execution_count": 9,
   "metadata": {},
   "outputs": [],
   "source": [
    "weight = 0\n",
    "\n",
    "def gravity_weight(mass, gravity):\n",
    "    global weight  # Por ahora la palabra global no es importante\n",
    "    weight = mass * gravity"
   ]
  },
  {
   "cell_type": "code",
   "execution_count": 10,
   "metadata": {},
   "outputs": [
    {
     "name": "stdout",
     "output_type": "stream",
     "text": [
      "W antes de la función: 0\n",
      "W después de la función: 784.0kg*m/s²\n"
     ]
    }
   ],
   "source": [
    "print(f\"W antes de la función: {weight}\")\n",
    "gravity_weight(80, 9.8)    \n",
    "print(f\"W después de la función: {weight}kg*m/s²\")"
   ]
  },
  {
   "cell_type": "code",
   "execution_count": 13,
   "metadata": {},
   "outputs": [],
   "source": [
    "weight = 0\n",
    "\n",
    "def gravity_weight(mass, gravity):\n",
    "    global weight  # Por ahora la palabra global no es importante\n",
    "    weight = mass * gravity\n",
    "    return weight"
   ]
  },
  {
   "cell_type": "code",
   "execution_count": 14,
   "metadata": {},
   "outputs": [
    {
     "name": "stdout",
     "output_type": "stream",
     "text": [
      "W antes de la función: 0\n",
      "W después de la función: 784.0kg*m/s²\n"
     ]
    }
   ],
   "source": [
    "print(f\"W antes de la función: {weight}\")\n",
    "weight = gravity_weight(80, 9.8)\n",
    "print(f\"W después de la función: {weight}kg*m/s²\")"
   ]
  },
  {
   "cell_type": "code",
   "execution_count": 15,
   "metadata": {},
   "outputs": [],
   "source": [
    "planets = [\"Mercurio\", \"Venus\", \"Tierra\", \"Marte\", \"Júpiter\", \"Saturno\", \"Urano\", \"Neptuno\" ]"
   ]
  },
  {
   "cell_type": "code",
   "execution_count": 16,
   "metadata": {},
   "outputs": [
    {
     "data": {
      "text/plain": [
       "8"
      ]
     },
     "execution_count": 16,
     "metadata": {},
     "output_type": "execute_result"
    }
   ],
   "source": [
    "len(planets)"
   ]
  },
  {
   "cell_type": "code",
   "execution_count": 17,
   "metadata": {},
   "outputs": [],
   "source": [
    "planets.sort()"
   ]
  },
  {
   "cell_type": "code",
   "execution_count": 18,
   "metadata": {},
   "outputs": [
    {
     "data": {
      "text/plain": [
       "['Júpiter',\n",
       " 'Marte',\n",
       " 'Mercurio',\n",
       " 'Neptuno',\n",
       " 'Saturno',\n",
       " 'Tierra',\n",
       " 'Urano',\n",
       " 'Venus']"
      ]
     },
     "execution_count": 18,
     "metadata": {},
     "output_type": "execute_result"
    }
   ],
   "source": [
    "planets"
   ]
  },
  {
   "cell_type": "markdown",
   "metadata": {},
   "source": [
    "Python también nos permite especificar parámetros predeterminados. Al momento de usar la fuunción, si no especificamos un valor para los paráametros predeterminados, se usará el que definamos nosotros."
   ]
  },
  {
   "cell_type": "code",
   "execution_count": 22,
   "metadata": {},
   "outputs": [],
   "source": [
    "def gravity_weight(mass, gravity=9.8):\n",
    "    weight = mass * gravity\n",
    "    return weight"
   ]
  },
  {
   "cell_type": "code",
   "execution_count": 23,
   "metadata": {},
   "outputs": [
    {
     "name": "stdout",
     "output_type": "stream",
     "text": [
      "W de un objeto de masa=80kg en la Tierra es de 784.0kg*m/s^2 \n",
      "W de un objeto de masa=80kg en Mercurio es de 296.0kg*m/s^2 \n"
     ]
    }
   ],
   "source": [
    "mass = 80\n",
    "\n",
    "weight_on_earth = gravity_weight(mass)\n",
    "print(f\"W de un objeto de masa={mass}kg en la Tierra es de {weight_on_earth}kg*m/s² \")\n",
    "\n",
    "weight_other_planet = gravity_weight(mass, 3.7)\n",
    "print(f\"W de un objeto de masa={mass}kg en Mercurio es de {weight_other_planet}kg*m/s² \")"
   ]
  },
  {
   "cell_type": "markdown",
   "metadata": {},
   "source": [
    "Los paráametros de una función pueden ser cualquier tipo de objeto de Python. Como es el caso por ejemplo de la función `len()` que ya conocemos. Esta realiza una acción _sobre_ un objeto de tipo lista o tupla, particularmente recorrer uno a uno sus elementos y decirnos la cantidad de estos."
   ]
  },
  {
   "cell_type": "code",
   "execution_count": 32,
   "metadata": {},
   "outputs": [],
   "source": [
    "def gravity_weight(mass, list_of_planets, planets_gravity_dictionary):\n",
    "        \n",
    "    for planet in list_of_planets:\n",
    "        planet_gravity = planets_gravity_dictionary.get(planet)\n",
    "        weight_on_planet = mass * planet_gravity\n",
    "        print(f\"W de un objeto de masa={mass}kg en {planet} es de {weight_on_planet}kg*m/s²\")"
   ]
  },
  {
   "cell_type": "code",
   "execution_count": 33,
   "metadata": {},
   "outputs": [],
   "source": [
    "planets_list1 = [\"Tierra\", \"Venus\"]\n",
    "planets_list2 = [\"Mercurio\", \"Venus\", \"Tierra\", \"Marte\", \"Júpiter\", \"Saturno\" , \"Urano\", \"Neptuno\"]\n",
    "planets_gravity ={\n",
    "    \"Mercurio\": 3.7,\n",
    "    \"Venus\": 8.9,\n",
    "    \"Tierra\": 9.8,\n",
    "    \"Marte\": 3.7,\n",
    "    \"Júpiter\": 24.8,\n",
    "    \"Saturno\": 10.4,\n",
    "    \"Urano\":8.9,\n",
    "    \"Neptuno\": 11.2\n",
    "}"
   ]
  },
  {
   "cell_type": "code",
   "execution_count": 34,
   "metadata": {},
   "outputs": [
    {
     "name": "stdout",
     "output_type": "stream",
     "text": [
      "W de un objeto de masa=80kg en Tierra es de 784.0kg*m/s²\n",
      "W de un objeto de masa=80kg en Venus es de 712.0kg*m/s²\n"
     ]
    }
   ],
   "source": [
    "gravity_weight(80, planets_list1, planets_gravity)"
   ]
  },
  {
   "cell_type": "code",
   "execution_count": 36,
   "metadata": {},
   "outputs": [
    {
     "name": "stdout",
     "output_type": "stream",
     "text": [
      "W de un objeto de masa=80kg en Mercurio es de 296.0kg*m/s²\n",
      "W de un objeto de masa=80kg en Venus es de 712.0kg*m/s²\n",
      "W de un objeto de masa=80kg en Tierra es de 784.0kg*m/s²\n",
      "W de un objeto de masa=80kg en Marte es de 296.0kg*m/s²\n",
      "W de un objeto de masa=80kg en Júpiter es de 1984.0kg*m/s²\n",
      "W de un objeto de masa=80kg en Saturno es de 832.0kg*m/s²\n",
      "W de un objeto de masa=80kg en Urano es de 712.0kg*m/s²\n",
      "W de un objeto de masa=80kg en Neptuno es de 896.0kg*m/s²\n"
     ]
    }
   ],
   "source": [
    "gravity_weight(80, planets_list2, planets_gravity)"
   ]
  },
  {
   "cell_type": "markdown",
   "metadata": {},
   "source": [
    "Una función puede __retornar__ un valor y además __realizar alguna operación__."
   ]
  },
  {
   "cell_type": "code",
   "execution_count": 46,
   "metadata": {},
   "outputs": [],
   "source": [
    "def max_gravity(dictionary_of_planets):\n",
    "    planet = max(dictionary_of_planets, key=dictionary_of_planets.get)\n",
    "    planet_gravity = dictionary_of_planets.get(planet)\n",
    "    print(f\"El planeta con el valor máas alto de gravedad es {planet} con g={planet_gravity}m/s²  \")\n",
    "    return planet, planet_gravity"
   ]
  },
  {
   "cell_type": "code",
   "execution_count": 47,
   "metadata": {},
   "outputs": [
    {
     "data": {
      "text/plain": [
       "{'Mercurio': 3.7,\n",
       " 'Venus': 8.9,\n",
       " 'Tierra': 9.8,\n",
       " 'Marte': 3.7,\n",
       " 'Júpiter': 24.8,\n",
       " 'Saturno': 10.4,\n",
       " 'Urano': 8.9,\n",
       " 'Neptuno': 11.2}"
      ]
     },
     "execution_count": 47,
     "metadata": {},
     "output_type": "execute_result"
    }
   ],
   "source": [
    "planets_gravity"
   ]
  },
  {
   "cell_type": "code",
   "execution_count": 52,
   "metadata": {},
   "outputs": [
    {
     "name": "stdout",
     "output_type": "stream",
     "text": [
      "Esto imprime la función\n",
      "El planeta con el valor máas alto de gravedad es Júpiter con g=24.8m/s²  \n",
      "\n",
      "Esto imprimo yo con los datos que me devolvió la función:\n",
      "Júpiter 24.8\n"
     ]
    }
   ],
   "source": [
    "print(\"Esto imprime la función:\")\n",
    "planet_max_grav, max_grav = max_gravity(planets_gravity)\n",
    "\n",
    "print(\"\\nEsto imprimo yo con los datos que me devolvió la función:\")\n",
    "print(planet_max_grav, max_grav)"
   ]
  },
  {
   "cell_type": "markdown",
   "metadata": {},
   "source": [
    "---"
   ]
  },
  {
   "cell_type": "markdown",
   "metadata": {},
   "source": [
    "### Archivos\n",
    "\n",
    "Hasta ahora, todo lo que venimos haciendo es lo que llamamos **trabajo en memoria**, es decir, que las variables, datos, funciones y básicamente todo nuestro codigo \"vive\" mientras estemos procesándolo, pero desaparece una vez que termina la ejecución.\n",
    "\n",
    "Para llevar a cabo acciones que se vean reflejadas en nuestro espacio de trabajo una vez que el programa termine de ejecutarse, o también usar información que existía antes de iniciar; necesitamos manipular **archivos**."
   ]
  },
  {
   "cell_type": "markdown",
   "metadata": {},
   "source": [
    "<img src=\"https://robocrop.realpython.net/?url=https%3A//files.realpython.com/media/Descriptive-Statistics-in-Python_Watermarked.fec81e9a41f9.jpg&w=960&sig=274c90a9fc73c1aafccc437c2db2c7ba12bc4c4c\">\n",
    "\n",
    "_Fuente: realpython.com_"
   ]
  },
  {
   "cell_type": "markdown",
   "metadata": {},
   "source": [
    "https://realpython.com/read-write-files-python/"
   ]
  }
 ],
 "metadata": {
  "kernelspec": {
   "display_name": "Python 3",
   "language": "python",
   "name": "python3"
  },
  "language_info": {
   "codemirror_mode": {
    "name": "ipython",
    "version": 3
   },
   "file_extension": ".py",
   "mimetype": "text/x-python",
   "name": "python",
   "nbconvert_exporter": "python",
   "pygments_lexer": "ipython3",
   "version": "3.8.3"
  }
 },
 "nbformat": 4,
 "nbformat_minor": 2
}
