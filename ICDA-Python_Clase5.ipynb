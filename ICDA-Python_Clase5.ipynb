{
 "cells": [
  {
   "cell_type": "markdown",
   "metadata": {},
   "source": [
    "<img src=\"assets/socalo-ICDA.png\">"
   ]
  },
  {
   "cell_type": "markdown",
   "metadata": {},
   "source": [
    "\n"
   ]
  },
  {
   "cell_type": "markdown",
   "metadata": {},
   "source": [
    "# Python para Finanzas y Ciencia de Datos\n",
    "Federico Brun | fedejbrun@gmail.com\n",
    "\n",
    "_Jueves 01 Octubre 2020_"
   ]
  },
  {
   "cell_type": "markdown",
   "metadata": {},
   "source": [
    "## Funciones, Archivos y Librerías: Introducción a Numpy"
   ]
  },
  {
   "cell_type": "markdown",
   "metadata": {},
   "source": [
    "<img src=\"https://robocrop.realpython.net/?url=https%3A//files.realpython.com/media/Descriptive-Statistics-in-Python_Watermarked.fec81e9a41f9.jpg&w=960&sig=274c90a9fc73c1aafccc437c2db2c7ba12bc4c4c\">\n",
    "\n",
    "_Fuente: realpython.com_\n",
    "\n",
    "Hasta ahora, ya sabemos lo que son variables, tipos, estructuras de datos, estructuras de control, y usamos algunas de las _funciones_ que nos provee Python.\n",
    "\n",
    "Ahora vamos a profundizar nuestro estudio de funciones, entdender qué son, y aprender cómo crear funciones propias, para poder implementar lo que necesitamos pra nuestros proyectos."
   ]
  },
  {
   "cell_type": "markdown",
   "metadata": {},
   "source": [
    "### Funciones\n",
    "\n",
    "Similar a una función matemática, una **función** en Python es una **relación o mapeo entre una o varias variables de entrada, y una salida**.\n",
    "\n",
    "Más precisamente en programación, una **función** es un **bloque de código autocontenido que encapsula una o varias tareas**."
   ]
  },
  {
   "cell_type": "code",
   "execution_count": 1,
   "metadata": {},
   "outputs": [
    {
     "data": {
      "text/plain": [
       "[1, 2, 3, 4, 5, 6, 7]"
      ]
     },
     "execution_count": 1,
     "metadata": {},
     "output_type": "execute_result"
    }
   ],
   "source": [
    "int_list = [1, 2, 3, 4, 5, 6, 7]\n",
    "int_list"
   ]
  },
  {
   "cell_type": "code",
   "execution_count": 7,
   "metadata": {},
   "outputs": [
    {
     "data": {
      "text/plain": [
       "7"
      ]
     },
     "execution_count": 7,
     "metadata": {},
     "output_type": "execute_result"
    }
   ],
   "source": [
    "len(int_list)"
   ]
  },
  {
   "cell_type": "code",
   "execution_count": 8,
   "metadata": {},
   "outputs": [
    {
     "data": {
      "text/plain": [
       "list"
      ]
     },
     "execution_count": 8,
     "metadata": {},
     "output_type": "execute_result"
    }
   ],
   "source": [
    "type(int_list)"
   ]
  },
  {
   "cell_type": "code",
   "execution_count": 14,
   "metadata": {},
   "outputs": [
    {
     "data": {
      "text/plain": [
       "[7, 6, 5, 4, 3, 2, 1]"
      ]
     },
     "execution_count": 14,
     "metadata": {},
     "output_type": "execute_result"
    }
   ],
   "source": [
    "int_list.sort(reverse=True)\n",
    "int_list"
   ]
  },
  {
   "cell_type": "code",
   "execution_count": 15,
   "metadata": {},
   "outputs": [
    {
     "data": {
      "text/plain": [
       "[1, 2, 3, 4, 5, 6, 7]"
      ]
     },
     "execution_count": 15,
     "metadata": {},
     "output_type": "execute_result"
    }
   ],
   "source": [
    "int_list.sort()\n",
    "int_list"
   ]
  },
  {
   "cell_type": "markdown",
   "metadata": {},
   "source": [
    "Como vemos, algunas de estas funciones reciben **argumentos** o **parámetros**, mientras que en otras es opcional como en `sort()`. Esto es a lo que llamamos **interface**, o en otras palabras, la forma en la que **interactuamos con la función**."
   ]
  },
  {
   "cell_type": "markdown",
   "metadata": {},
   "source": [
    "A grandes rasgos, la forma en que las funciones de Python se usan es la siguiente:\n",
    "1. Definimos la función.\n",
    "2. Llamamos la funcion desde algún lugar de nuestro código.\n",
    "    - El flujo de ejecución de nuestro programa se interrumpe para ir a la función y ejecutar las tareas que esta maneja. \n",
    "    - Se ejecutan las tareas especificadas en la función.\n",
    "    - La función puede devolver algún dato o no.\n",
    "3. El flujo de ejecución del programa continua inmediatamente después de donde estaba el _llamado_ a la función."
   ]
  },
  {
   "cell_type": "markdown",
   "metadata": {},
   "source": [
    "Imaginen que escribimos un código que realiza una funcionalidad útil. Al continuar neustro trabajo nos damos cuenta que necesitamos usar esa funcionalidad en mmás de un lugar de nuestro proyecto. Mas tarde llega un momento en el que queremos realizar alguna modificacion sencilla a esa funcionalidad, por ejemplo cambiar el mensaje que imprime en la pantalla.\n",
    "Si no usaramos funciones, deberíamos modificar esto en cada uno de los lugares donde escribimos este código.\n",
    "\n",
    "Usar funciones nos permite reutilizar  y modularizar el código, al igual que promueve la abstracción del mismo. Para definir una función, usamos la siguiente sintaxis genérica:\n",
    "\n",
    "```\n",
    "def <nombre_de_la_funcion>(<parametro1>, <parametro2>, ...):\n",
    "....<instrucción>\n",
    "....<instrucción>\n",
    "```"
   ]
  },
  {
   "cell_type": "code",
   "execution_count": 19,
   "metadata": {},
   "outputs": [],
   "source": [
    "def show_welcome():\n",
    "    print(\"============================================\")\n",
    "    print(\"Bienvenidos al MODULO II:\")\n",
    "    print(\"Librerías Fundamentales\")\n",
    "    print(\"del curso Python para Finanzas\")\n",
    "    print(\"y ciencia de Datos de ICDA\")\n",
    "    print(\"============================================\")"
   ]
  },
  {
   "cell_type": "markdown",
   "metadata": {},
   "source": [
    "Una vez que definimos la función, podemos **llamarla** desde cualquier loguar, usando su **firma**."
   ]
  },
  {
   "cell_type": "code",
   "execution_count": 20,
   "metadata": {},
   "outputs": [
    {
     "name": "stdout",
     "output_type": "stream",
     "text": [
      "Mensaje impreso ANTES de llamar la función\n",
      "============================================\n",
      "Bienvenidos al MODULO II:\n",
      "Librerías Fundamentales\n",
      "del curso Python para Finanzas\n",
      "y ciencia de Datos de ICDA\n",
      "============================================\n",
      "Mensaje impreso DESPUES de llamar la función\n"
     ]
    }
   ],
   "source": [
    "print(\"Mensaje impreso ANTES de llamar la función\")\n",
    "show_welcome()\n",
    "print(\"Mensaje impreso DESPUES de llamar la función\")"
   ]
  },
  {
   "cell_type": "markdown",
   "metadata": {},
   "source": [
    "Al definir una función, la misma puede recibir parámetros con los cuales trabajar o no, dependiendo de nuestras necesidades."
   ]
  },
  {
   "cell_type": "code",
   "execution_count": 31,
   "metadata": {},
   "outputs": [],
   "source": [
    "def show_welcome(student_name):\n",
    "    print(\"===============================\")\n",
    "    print(f\"Hola {student_name}!\")\n",
    "    print(\"Bienvenido al MODULO II:\")\n",
    "    print(\"Librerías Fundamentales\")\n",
    "    print(\"del curso Python para Finanzas\")\n",
    "    print(\"y ciencia de Datos de ICDA\")\n",
    "    print(\"===============================\")"
   ]
  },
  {
   "cell_type": "code",
   "execution_count": 32,
   "metadata": {},
   "outputs": [
    {
     "name": "stdout",
     "output_type": "stream",
     "text": [
      "Nombre del Alumno? Agustina\n",
      "===============================\n",
      "Hola Agustina!\n",
      "Bienvenido al MODULO II:\n",
      "Librerías Fundamentales\n",
      "del curso Python para Finanzas\n",
      "y ciencia de Datos de ICDA\n",
      "===============================\n"
     ]
    }
   ],
   "source": [
    "nombre = input(\"Nombre del Alumno? \")\n",
    "\n",
    "show_welcome(nombre)"
   ]
  },
  {
   "cell_type": "markdown",
   "metadata": {},
   "source": [
    "Las funciones pueden recibir más de un parámetro:\n",
    "<img src=\"https://cdn.kastatic.org/googleusercontent/Y2qnXXEO4SM_iSpCVJN67_J3REAFynT1UEYi4r6z_SWvp-UFRQGRW3r99hbxCJKTeCwHJ7ejCGIiDreS42DcZis\"/>"
   ]
  },
  {
   "cell_type": "code",
   "execution_count": 43,
   "metadata": {},
   "outputs": [],
   "source": [
    "def gravity_weight(mass, gravity):\n",
    "    weight = mass * gravity\n",
    "    print(f\"El peso del objeto de masa={mass}kg es {weight}kg*m/s²\")"
   ]
  },
  {
   "cell_type": "code",
   "execution_count": 44,
   "metadata": {},
   "outputs": [
    {
     "name": "stdout",
     "output_type": "stream",
     "text": [
      "El peso del objeto de masa=80kg es 784.0kg*m/s²\n"
     ]
    }
   ],
   "source": [
    "gravity_weight(80, 9.8)"
   ]
  },
  {
   "cell_type": "markdown",
   "metadata": {},
   "source": [
    "A su vez, las funciones puede **retornar** un valor o no:"
   ]
  },
  {
   "cell_type": "code",
   "execution_count": 45,
   "metadata": {},
   "outputs": [
    {
     "name": "stdout",
     "output_type": "stream",
     "text": [
      "W antes de la función: 0\n",
      "W después de la función: 784.0kg*m/s²\n"
     ]
    }
   ],
   "source": [
    "weight = 0\n",
    "print(f\"W antes de la función: {weight}\")\n",
    "\n",
    "def gravity_weight(mass, gravity):\n",
    "    global weight  # Por ahora la palabra global no es importante\n",
    "    weight = mass * gravity\n",
    "    \n",
    "gravity_weight(80, 9.8)\n",
    "    \n",
    "print(f\"W después de la función: {weight}kg*m/s²\")"
   ]
  },
  {
   "cell_type": "code",
   "execution_count": 46,
   "metadata": {},
   "outputs": [
    {
     "name": "stdout",
     "output_type": "stream",
     "text": [
      "W antes de la función: 0\n",
      "W después de la función: 784.0kg*m/s²\n"
     ]
    }
   ],
   "source": [
    "weight = 0\n",
    "print(f\"W antes de la función: {weight}\")\n",
    "\n",
    "def gravity_weight(mass, gravity):\n",
    "    weight = mass * gravity\n",
    "    return weight\n",
    "    \n",
    "weight = gravity_weight(80, 9.8)\n",
    "    \n",
    "print(f\"W después de la función: {weight}kg*m/s²\")"
   ]
  },
  {
   "cell_type": "code",
   "execution_count": 50,
   "metadata": {},
   "outputs": [],
   "source": [
    "planets = [\"Mercurio\", \"Venus\", \"Tierra\", \"Marte\", \"Júpiter\", \"Saturno\", \"Urano\", \"Neptuno\" ]"
   ]
  },
  {
   "cell_type": "code",
   "execution_count": 51,
   "metadata": {},
   "outputs": [
    {
     "data": {
      "text/plain": [
       "8"
      ]
     },
     "execution_count": 51,
     "metadata": {},
     "output_type": "execute_result"
    }
   ],
   "source": [
    "len(planets)"
   ]
  },
  {
   "cell_type": "code",
   "execution_count": 52,
   "metadata": {},
   "outputs": [],
   "source": [
    "planets.sort()"
   ]
  },
  {
   "cell_type": "code",
   "execution_count": 53,
   "metadata": {},
   "outputs": [
    {
     "data": {
      "text/plain": [
       "['Júpiter',\n",
       " 'Marte',\n",
       " 'Mercurio',\n",
       " 'Neptuno',\n",
       " 'Saturno',\n",
       " 'Tierra',\n",
       " 'Urano',\n",
       " 'Venus']"
      ]
     },
     "execution_count": 53,
     "metadata": {},
     "output_type": "execute_result"
    }
   ],
   "source": [
    "planets"
   ]
  },
  {
   "cell_type": "markdown",
   "metadata": {},
   "source": [
    "# Sigue parámetros predeterminados\n",
    "Despues pasar el diccionario como parametro\n",
    "\n",
    "Despues for sobre diccionario usando funnción"
   ]
  },
  {
   "cell_type": "code",
   "execution_count": 55,
   "metadata": {},
   "outputs": [],
   "source": [
    "planets_gravity ={\n",
    "    \"Mercurio\": 3.7,\n",
    "    \"Venus\": 8.9,\n",
    "    \"Tierra\": 9.8,\n",
    "    \"Marte\": 3.7,\n",
    "    \"Júpiter\": 24.8,\n",
    "    \"Saturno\": 10.4,\n",
    "    \"Urano\":8.9,\n",
    "    \"Neptuno\": 11.2\n",
    "}"
   ]
  }
 ],
 "metadata": {
  "kernelspec": {
   "display_name": "Python 3",
   "language": "python",
   "name": "python3"
  },
  "language_info": {
   "codemirror_mode": {
    "name": "ipython",
    "version": 3
   },
   "file_extension": ".py",
   "mimetype": "text/x-python",
   "name": "python",
   "nbconvert_exporter": "python",
   "pygments_lexer": "ipython3",
   "version": "3.7.6"
  }
 },
 "nbformat": 4,
 "nbformat_minor": 2
}
