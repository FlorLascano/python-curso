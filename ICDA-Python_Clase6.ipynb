{
 "cells": [
  {
   "cell_type": "markdown",
   "metadata": {},
   "source": [
    "<img src=\"assets/socalo-ICDA.png\">"
   ]
  },
  {
   "cell_type": "markdown",
   "metadata": {},
   "source": [
    "\n"
   ]
  },
  {
   "cell_type": "markdown",
   "metadata": {},
   "source": [
    "# Python para Finanzas y Ciencia de Datos\n",
    "Federico Brun | fedejbrun@gmail.com\n",
    "\n",
    "_Jueves 08 Octubre 2020_"
   ]
  },
  {
   "cell_type": "markdown",
   "metadata": {},
   "source": [
    "## Interrupción de Flujo de Ejecución y Limpieza de datos con Numpy y Pandas"
   ]
  },
  {
   "cell_type": "markdown",
   "metadata": {},
   "source": [
    "<img src=\"https://files.realpython.com/media/A-Guide-to-Pandas-Dataframes_Watermarked.7330c8fd51bb.jpg\">\n",
    "\n",
    "_Fuente: realpython.com_"
   ]
  },
  {
   "cell_type": "markdown",
   "metadata": {},
   "source": [
    "### Break y Pass\n",
    "\n",
    "Cuando comenzamos nuestro estudio de estructuras de control, vimos la importancia de definir correctamente la **instrucción de corte** para poder interrumipir la ejecución de los mismos dada una condición.\n",
    "\n",
    "En algunas implementaciones, incluso definiendo correctamente dicha condición, vemos que se ejecutan instrucciones adicionales que no habíamos planificado. \n",
    "\n",
    "Para ello contamos con dos palabras reservadas en Python que cumplen diferentes funciones según sea necesario:\n",
    "* `break` interrumpe el flujo del bloque ejecutado, cancela las ejecuciones pendientes dentro del bucle y sale de este.\n",
    "* `pass` pasa de largo y permite que se ejecuten las siguientes instrucciones."
   ]
  },
  {
   "cell_type": "code",
   "execution_count": null,
   "metadata": {},
   "outputs": [],
   "source": [
    "# Queremos mostrar los elementos de una lista uno a uno, pero terminar\n",
    "# la ejecución cuando encontremos una texto específico\n",
    "\n",
    "nombres_de_alumnos = [\"Ricardo\", \"Martín\", \"Romina\", \"Federico\", \"Micaela\", \"Agustina\" ]"
   ]
  },
  {
   "cell_type": "code",
   "execution_count": null,
   "metadata": {},
   "outputs": [],
   "source": [
    "nombres_de_alumnos"
   ]
  },
  {
   "cell_type": "markdown",
   "metadata": {},
   "source": [
    "Vemoas que pasa si no usamos `break`."
   ]
  },
  {
   "cell_type": "code",
   "execution_count": null,
   "metadata": {},
   "outputs": [],
   "source": [
    "for alumno in nombres_de_alumnos:\n",
    "    if alumno == \"Federico\":\n",
    "        print(alumno)\n",
    "        print(\"Aca debería interrumpirse el bucle\")\n",
    "    else:\n",
    "        print(alumno)        "
   ]
  },
  {
   "cell_type": "markdown",
   "metadata": {},
   "source": [
    "Y ahora usando `break` para lograr lo que queremos."
   ]
  },
  {
   "cell_type": "code",
   "execution_count": null,
   "metadata": {},
   "outputs": [],
   "source": [
    "for alumno in nombres_de_alumnos:\n",
    "    if alumno == \"Federico\":\n",
    "        print(alumno)\n",
    "        print(\"Aca debería interrumpirse el bucle\")\n",
    "        break\n",
    "    else:\n",
    "        print(alumno)     "
   ]
  },
  {
   "cell_type": "markdown",
   "metadata": {},
   "source": [
    "Ahora veamos como funciona `pass` por ejemplo, para imprimir todos los nombres que NO sean \"Federico\"."
   ]
  },
  {
   "cell_type": "code",
   "execution_count": null,
   "metadata": {},
   "outputs": [],
   "source": [
    "for alumno in nombres_de_alumnos:\n",
    "    if alumno == \"Federico\":\n",
    "        pass\n",
    "    else:\n",
    "        print(alumno)     "
   ]
  },
  {
   "cell_type": "code",
   "execution_count": null,
   "metadata": {},
   "outputs": [],
   "source": [
    "for alumno in nombres_de_alumnos:\n",
    "    if alumno != \"Federico\":\n",
    "        print(alumno)\n",
    "    else:\n",
    "        pass     "
   ]
  },
  {
   "cell_type": "markdown",
   "metadata": {},
   "source": [
    "Un último ejemplo, en el armamos una estructura `while` pero usando un contador hacemos que se comporte como un `for`."
   ]
  },
  {
   "cell_type": "code",
   "execution_count": null,
   "metadata": {},
   "outputs": [],
   "source": [
    "win = 0  # Contador de clientes ganadores "
   ]
  },
  {
   "cell_type": "code",
   "execution_count": null,
   "metadata": {},
   "outputs": [],
   "source": [
    "while True:\n",
    "    win = win + 1\n",
    "    print(\"Felicitaciones, usted es el \" + str(win) + \"º ganador!\")\n",
    "        \n",
    "    if win == 10:\n",
    "        print(\"Y se ha llevado el ultimo premio!!!!!\")\n",
    "        break"
   ]
  },
  {
   "cell_type": "markdown",
   "metadata": {},
   "source": [
    "Veamos lo que pasa si no usamos la palabra `break` (Atentos para hacer click en el boton de pausa para interrumpir la ejecucion)."
   ]
  },
  {
   "cell_type": "code",
   "execution_count": null,
   "metadata": {},
   "outputs": [],
   "source": [
    "while True:\n",
    "    win = win + 1\n",
    "    print(\"Felicitaciones, usted es el \" + str(win) + \"º ganador!\")\n",
    "        \n",
    "    if win == 10:\n",
    "        print(\"Y se ha llevado el ultimo premio!!!!!\")\n",
    "        break"
   ]
  },
  {
   "cell_type": "markdown",
   "metadata": {},
   "source": [
    "Dependiendo la **lógica** que necesitemos implementar, ambas palabras reservadas pueden usarse en cualquier tipo de bloque de Python (funciones, `while`, `for`, `if`).\n",
    "\n",
    "Particularmente `pass` nos resulta muy util por ejemplo, cuando necesitamos definir una funcion pero todavía no implementamos 100% su funcionalidad. Si no lo hacemos el interprete de Python nos va a devolver un error."
   ]
  },
  {
   "cell_type": "code",
   "execution_count": null,
   "metadata": {},
   "outputs": [],
   "source": [
    "actividades_por_dia = {\n",
    "    1: 'Lunes = Gym',\n",
    "    2: 'Martes = Tenis',\n",
    "    3: 'Miercoles = Gym',\n",
    "    4: 'Jueves = Descanso',\n",
    "    5: 'Viernes = Natación',\n",
    "    6: 'Sabado = Gym',\n",
    "    7: 'Doming = Golf'\n",
    "}"
   ]
  },
  {
   "cell_type": "code",
   "execution_count": null,
   "metadata": {},
   "outputs": [],
   "source": [
    "dia = input(\"Numero de 1 a 6 que representa el día: \")"
   ]
  },
  {
   "cell_type": "markdown",
   "metadata": {},
   "source": [
    "Llamo a las posibles funciones sin haberlas definido. Por \"adelantarme\" al codigo, voy a tener errores porque las funciones que estoy llamando todavía no existen."
   ]
  },
  {
   "cell_type": "code",
   "execution_count": null,
   "metadata": {},
   "outputs": [],
   "source": [
    "if dia == \"1\":\n",
    "    print(actividades_por_dia.get(1))\n",
    "    gym()\n",
    "elif dia == \"2\":\n",
    "    print(actividades_por_dia.get(2))\n",
    "    tenis()\n",
    "elif dia == \"3\":\n",
    "    print(actividades_por_dia.get(3))\n",
    "    gym()\n",
    "elif dia == \"4\":\n",
    "    print(actividades_por_dia.get(4))\n",
    "    descanso()\n",
    "elif dia == \"5\":\n",
    "    print(actividades_por_dia.get(5))\n",
    "    natacion()\n",
    "elif dia == \"6\":\n",
    "    print(actividades_por_dia.get(6))\n",
    "    gym()\n",
    "elif dia == \"7\":\n",
    "    print(actividades_por_dia.get(6))\n",
    "    golf()"
   ]
  },
  {
   "cell_type": "markdown",
   "metadata": {},
   "source": [
    "Quiero que esos errores dejen de aparecer, pero todavia no se muy bien qué es lo que va a hacer cada funcion. <br>Defino las funciones y pongo dentro de ellas la palabra `pass`para que el interprete \"pase de largo\" sin mostrar errores."
   ]
  },
  {
   "cell_type": "code",
   "execution_count": null,
   "metadata": {},
   "outputs": [],
   "source": [
    "def gym():\n",
    "    pass\n",
    "\n",
    "def tenis():\n",
    "    pass\n",
    "\n",
    "def natacion():\n",
    "    pass\n",
    "\n",
    "def golf():\n",
    "    pass\n",
    "\n",
    "def descanso():\n",
    "    pass"
   ]
  },
  {
   "cell_type": "markdown",
   "metadata": {},
   "source": [
    "Ahora puedo seguir haciendo pruebas sin ver errores por no haber imlementado las funciones."
   ]
  },
  {
   "cell_type": "code",
   "execution_count": null,
   "metadata": {},
   "outputs": [],
   "source": [
    "dia = input(\"Numero de 1 a 6 que representa el día: \")"
   ]
  },
  {
   "cell_type": "code",
   "execution_count": null,
   "metadata": {},
   "outputs": [],
   "source": [
    "if dia == \"1\":\n",
    "    print(actividades_por_dia.get(1))\n",
    "    gym()\n",
    "elif dia == \"2\":\n",
    "    print(actividades_por_dia.get(2))\n",
    "    tenis()\n",
    "elif dia == \"3\":\n",
    "    print(actividades_por_dia.get(3))\n",
    "    gym()\n",
    "elif dia == \"4\":\n",
    "    print(actividades_por_dia.get(4))\n",
    "    descanso()\n",
    "elif dia == \"5\":\n",
    "    print(actividades_por_dia.get(5))\n",
    "    natacion()\n",
    "elif dia == \"6\":\n",
    "    print(actividades_por_dia.get(6))\n",
    "    gym()\n",
    "elif dia == \"7\":\n",
    "    print(actividades_por_dia.get(6))\n",
    "    golf()"
   ]
  },
  {
   "cell_type": "markdown",
   "metadata": {},
   "source": [
    "Implemento la lógica de cada funcion."
   ]
  },
  {
   "cell_type": "code",
   "execution_count": null,
   "metadata": {},
   "outputs": [],
   "source": [
    "def gym():\n",
    "    print(\"Los días de Gym entreno por 1 hora\")\n",
    "\n",
    "def tenis():\n",
    "    print(\"Los días de Tenis juego con mis amigos de la infancia\")\n",
    "\n",
    "def natacion():\n",
    "    print(\"Los días de Natación nado unos 1000 metros\")\n",
    "\n",
    "def golf():\n",
    "    print(\"Los dias de Golf nos encontramos con algunos compañeros de la oficina\")\n",
    "\n",
    "def descanso():\n",
    "    print(\"Los dias de descanso me gusta pasear junto a mi perra\")\n",
    "    print(\"y leer algun libro tomando mates\")"
   ]
  },
  {
   "cell_type": "code",
   "execution_count": null,
   "metadata": {},
   "outputs": [],
   "source": [
    "dia = input(\"Numero de 1 a 6 que representa el día: \")"
   ]
  },
  {
   "cell_type": "code",
   "execution_count": null,
   "metadata": {},
   "outputs": [],
   "source": [
    "if dia == \"1\":\n",
    "    print(actividades_por_dia.get(1))\n",
    "    gym()\n",
    "elif dia == \"2\":\n",
    "    print(actividades_por_dia.get(2))\n",
    "    tenis()\n",
    "elif dia == \"3\":\n",
    "    print(actividades_por_dia.get(3))\n",
    "    gym()\n",
    "elif dia == \"4\":\n",
    "    print(actividades_por_dia.get(4))\n",
    "    descanso()\n",
    "elif dia == \"5\":\n",
    "    print(actividades_por_dia.get(5))\n",
    "    natacion()\n",
    "elif dia == \"6\":\n",
    "    print(actividades_por_dia.get(6))\n",
    "    gym()\n",
    "elif dia == \"7\":\n",
    "    print(actividades_por_dia.get(6))\n",
    "    golf()"
   ]
  },
  {
   "cell_type": "markdown",
   "metadata": {},
   "source": [
    "Este ejemplo también ilustra cómo las funciones nos sirven para **reutilizar** código."
   ]
  },
  {
   "cell_type": "markdown",
   "metadata": {},
   "source": [
    "---"
   ]
  },
  {
   "cell_type": "markdown",
   "metadata": {},
   "source": [
    "### Limpieza de Datos con Numpy y Pandas\n",
    "\n",
    "<img src=\"https://upload.wikimedia.org/wikipedia/commons/thumb/e/ed/Pandas_logo.svg/1200px-Pandas_logo.svg.png\"/>\n",
    "\n",
    "\n",
    "**Pandas** es una librería que que proporciona unas estructuras de datos flexibles y que permiten trabajar con ellos de forma muy eficiente.\n",
    "\n",
    "Muy comúnmente utilizada junto a Numpy para limpiar y analizar conjuntos de datos; y junto a Matplotlib o Plotly para visualizarlos.\n",
    "\n",
    "<a href=\"https://covid19.who.int/\" target=\"_blank\">Motivación para el final del módulo</a>"
   ]
  },
  {
   "cell_type": "code",
   "execution_count": null,
   "metadata": {},
   "outputs": [],
   "source": [
    "import pandas as pd\n",
    "import numpy as np"
   ]
  },
  {
   "cell_type": "markdown",
   "metadata": {},
   "source": [
    "Las estructuras basicas de Pandas son **DataFrame** y **Series**.\n",
    "\n",
    "<img src=\"https://pandas.pydata.org/docs/_images/01_table_dataframe1.svg\"/>"
   ]
  },
  {
   "cell_type": "code",
   "execution_count": null,
   "metadata": {},
   "outputs": [],
   "source": [
    "covid_cases = {\n",
    "    \"pais\": ['Argentina', 'Brasil', 'Chile', 'Uruguay'],\n",
    "    \"casos\": [1150, 3000, 2500, 80]\n",
    "}"
   ]
  },
  {
   "cell_type": "code",
   "execution_count": null,
   "metadata": {},
   "outputs": [],
   "source": [
    "df = pd.DataFrame(covid_cases)"
   ]
  },
  {
   "cell_type": "code",
   "execution_count": null,
   "metadata": {},
   "outputs": [],
   "source": [
    "df"
   ]
  },
  {
   "cell_type": "code",
   "execution_count": null,
   "metadata": {},
   "outputs": [],
   "source": [
    "df.index = pd.RangeIndex(1, 5)\n",
    "df"
   ]
  },
  {
   "cell_type": "code",
   "execution_count": null,
   "metadata": {},
   "outputs": [],
   "source": [
    "df.loc[1]"
   ]
  },
  {
   "cell_type": "code",
   "execution_count": null,
   "metadata": {},
   "outputs": [],
   "source": [
    "df.iloc[1]"
   ]
  },
  {
   "cell_type": "markdown",
   "metadata": {},
   "source": [
    "<img src=\"https://files.realpython.com/media/iloc_vs_loc_80_border20.d5280f475f4e.png\" />"
   ]
  },
  {
   "cell_type": "markdown",
   "metadata": {},
   "source": [
    "Un **DataFrame** de Pandas, es una estructura de datos bidimensional, que puede almacenar diferentes tipos de datos en columnas. Similar a una hoja de calculo de Excel.\n",
    "\n",
    "Cada **columna** de un _DataFrame_ es una **Serie** de pandas.\n",
    "\n",
    "<img src=\"https://pandas.pydata.org/docs/_images/01_table_series.svg\"/>"
   ]
  },
  {
   "cell_type": "code",
   "execution_count": null,
   "metadata": {},
   "outputs": [],
   "source": [
    "paises = df[\"pais\"]\n",
    "paises"
   ]
  },
  {
   "cell_type": "code",
   "execution_count": null,
   "metadata": {},
   "outputs": [],
   "source": [
    "int_list = [1, 2, 3, 4, 5, 6, 7, 8, 9, 10]\n",
    "\n",
    "int_numpy_array = np.array(int_list)\n",
    "\n",
    "int_pandas_serie = pd.Series(int_list)"
   ]
  },
  {
   "cell_type": "code",
   "execution_count": null,
   "metadata": {},
   "outputs": [],
   "source": [
    "print(int_list)\n",
    "type(int_list)"
   ]
  },
  {
   "cell_type": "code",
   "execution_count": null,
   "metadata": {},
   "outputs": [],
   "source": [
    "print(int_numpy_array)\n",
    "type(int_numpy_array)"
   ]
  },
  {
   "cell_type": "code",
   "execution_count": null,
   "metadata": {},
   "outputs": [],
   "source": [
    "print(int_pandas_serie)\n",
    "type(int_pandas_serie)"
   ]
  },
  {
   "cell_type": "markdown",
   "metadata": {},
   "source": [
    "Si bien conceptualmente una lista, un arreglo de Numpy y una Serie de Pandas no son distintas, si son tres **tipos de objetos** distintos en Python, por lo tanto cuentan con sus propias funciones para manipularlos."
   ]
  },
  {
   "cell_type": "code",
   "execution_count": null,
   "metadata": {},
   "outputs": [],
   "source": [
    "help(int_pandas_serie)"
   ]
  },
  {
   "cell_type": "markdown",
   "metadata": {},
   "source": [
    "La forma mas intuitva de entender Pandas, es como una representacion de datos en **filas y columnas**, justo como Excel.\n",
    "\n",
    "De hecho, podemos crear DataFrames a partir de archivos de excel o archivos de tipo CSV.\n",
    "<img src=\"https://pandas.pydata.org/docs/_images/02_io_readwrite1.svg\" />\n",
    "_Algunos formatos soportados por Pandas para crear DataFrames a partir de archivos_ ."
   ]
  },
  {
   "cell_type": "markdown",
   "metadata": {},
   "source": [
    "Para empezar a aplicar los conceptos en un set de datos real, vamos a descargar la informacion de COVID-19 provista por la Organización Mundial de la Salud.\n",
    "Para ello vamos a descargar un archivo CSV y leerlo de forma local, y tambien usarlo directamente desde internet para tenerlo siempre actualizado.\n",
    "\n",
    "https://covid19.who.int/"
   ]
  },
  {
   "cell_type": "markdown",
   "metadata": {},
   "source": [
    "Al trabajar con datos usando Numpy, podemos proponer una serie de pasos a seguir:\n",
    "1. Obtener los datos\n",
    "2. Explorar y limpiar el set de datos\n",
    "3. Presentar los datos de acuerdo a nuestras necesidades"
   ]
  },
  {
   "cell_type": "markdown",
   "metadata": {},
   "source": [
    "#### 1. Obtener datos"
   ]
  },
  {
   "cell_type": "code",
   "execution_count": null,
   "metadata": {},
   "outputs": [],
   "source": [
    "covid_global_archivo = pd.read_csv('WHO-COVID-19-global-data.csv')"
   ]
  },
  {
   "cell_type": "code",
   "execution_count": null,
   "metadata": {},
   "outputs": [],
   "source": [
    "covid_global_web = pd.read_csv('https://covid19.who.int/WHO-COVID-19-global-data.csv')"
   ]
  },
  {
   "cell_type": "markdown",
   "metadata": {},
   "source": [
    "#### 2. Explorar y Limpiar datos"
   ]
  },
  {
   "cell_type": "code",
   "execution_count": null,
   "metadata": {},
   "outputs": [],
   "source": [
    "covid_global_web"
   ]
  },
  {
   "cell_type": "code",
   "execution_count": null,
   "metadata": {},
   "outputs": [],
   "source": [
    "type(covid_global_web)"
   ]
  },
  {
   "cell_type": "code",
   "execution_count": null,
   "metadata": {},
   "outputs": [],
   "source": [
    "covid_global_web.head()"
   ]
  },
  {
   "cell_type": "code",
   "execution_count": null,
   "metadata": {},
   "outputs": [],
   "source": [
    "covid_global_web.tail()"
   ]
  },
  {
   "cell_type": "code",
   "execution_count": null,
   "metadata": {},
   "outputs": [],
   "source": [
    "covid_global_web.dtypes"
   ]
  },
  {
   "cell_type": "code",
   "execution_count": null,
   "metadata": {},
   "outputs": [],
   "source": [
    "covid_global_web.info()"
   ]
  },
  {
   "cell_type": "code",
   "execution_count": null,
   "metadata": {},
   "outputs": [],
   "source": [
    "covid_global_web.to_excel('covid-clase6.xlsx')"
   ]
  },
  {
   "cell_type": "code",
   "execution_count": null,
   "metadata": {},
   "outputs": [],
   "source": [
    "covid_df = pd.read_excel('covid-clase6.xlsx')"
   ]
  },
  {
   "cell_type": "code",
   "execution_count": null,
   "metadata": {},
   "outputs": [],
   "source": [
    "covid_df"
   ]
  },
  {
   "cell_type": "markdown",
   "metadata": {},
   "source": [
    "### OBJETIVO: Obtener los datos pertinentes para Argentina (Nuevos Casos por dia y derivar Casos Acumulados usando pandas)"
   ]
  },
  {
   "cell_type": "code",
   "execution_count": null,
   "metadata": {},
   "outputs": [],
   "source": [
    "columnas_originales = covid_df.columns\n",
    "columnas_originales"
   ]
  },
  {
   "cell_type": "code",
   "execution_count": null,
   "metadata": {},
   "outputs": [],
   "source": [
    "ignorar_columnas = [\n",
    "    ' WHO_region',\n",
    "    ' Cumulative_cases',\n",
    "    ' New_deaths',\n",
    "    ' Cumulative_deaths'\n",
    "]"
   ]
  },
  {
   "cell_type": "code",
   "execution_count": null,
   "metadata": {},
   "outputs": [],
   "source": [
    "arg_df = covid_df\n",
    "arg_df"
   ]
  },
  {
   "cell_type": "code",
   "execution_count": null,
   "metadata": {},
   "outputs": [],
   "source": [
    "arg_df.drop(ignorar_columnas, inplace=True, axis=1)\n",
    "arg_df"
   ]
  },
  {
   "cell_type": "code",
   "execution_count": null,
   "metadata": {},
   "outputs": [],
   "source": [
    "arg_df.columns"
   ]
  },
  {
   "cell_type": "code",
   "execution_count": null,
   "metadata": {},
   "outputs": [],
   "source": [
    "arg_df.drop(arg_df.columns[0], inplace=True, axis=1)\n",
    "arg_df"
   ]
  },
  {
   "cell_type": "code",
   "execution_count": null,
   "metadata": {},
   "outputs": [],
   "source": [
    "arg_df.rename(columns={\n",
    "    'Date_reported': 'fecha',\n",
    "    ' Country_code': 'cod_pais',\n",
    "    ' Country': 'pais',\n",
    "    ' New_cases':'nuevos_casos'}\n",
    "              , inplace=True)\n",
    "arg_df"
   ]
  },
  {
   "cell_type": "code",
   "execution_count": null,
   "metadata": {},
   "outputs": [],
   "source": [
    "arg_df.index"
   ]
  },
  {
   "cell_type": "code",
   "execution_count": null,
   "metadata": {},
   "outputs": [],
   "source": [
    "arg_df.loc[0]"
   ]
  },
  {
   "cell_type": "code",
   "execution_count": null,
   "metadata": {},
   "outputs": [],
   "source": [
    "arg_df.values"
   ]
  },
  {
   "cell_type": "markdown",
   "metadata": {},
   "source": [
    "Atención cómo internamente Pandas hace uso de Numpy."
   ]
  },
  {
   "cell_type": "code",
   "execution_count": null,
   "metadata": {},
   "outputs": [],
   "source": [
    "type(arg_df.values)"
   ]
  },
  {
   "cell_type": "code",
   "execution_count": null,
   "metadata": {},
   "outputs": [],
   "source": [
    "arg_df"
   ]
  },
  {
   "cell_type": "code",
   "execution_count": null,
   "metadata": {},
   "outputs": [],
   "source": [
    "arg_df = arg_df[arg_df['pais'] == 'Argentina']\n",
    "arg_df"
   ]
  },
  {
   "cell_type": "markdown",
   "metadata": {},
   "source": [
    "#### 3. Mostrar datos"
   ]
  },
  {
   "cell_type": "code",
   "execution_count": null,
   "metadata": {},
   "outputs": [],
   "source": [
    "arg_df.plot()"
   ]
  },
  {
   "cell_type": "code",
   "execution_count": null,
   "metadata": {},
   "outputs": [],
   "source": [
    "arg_df['nuevos_casos'].cumsum().plot()"
   ]
  },
  {
   "cell_type": "markdown",
   "metadata": {},
   "source": [
    "Revisando mi set de datos, descubro que para realizar un análisis temporal, los índices de mi DataFrame no son descriptivos por lo que voy a cambiarlos para que sean las fechas."
   ]
  },
  {
   "cell_type": "code",
   "execution_count": null,
   "metadata": {},
   "outputs": [],
   "source": [
    "arg_df.set_index('fecha', inplace=True)\n",
    "arg_df"
   ]
  },
  {
   "cell_type": "code",
   "execution_count": null,
   "metadata": {},
   "outputs": [],
   "source": [
    "arg_df.plot();"
   ]
  },
  {
   "cell_type": "code",
   "execution_count": null,
   "metadata": {},
   "outputs": [],
   "source": [
    "arg_df['nuevos_casos'].cumsum().plot();"
   ]
  },
  {
   "cell_type": "markdown",
   "metadata": {},
   "source": [
    "Ahora sí nuestro DataFrame está mas \"limpio\" y lo fuimos modificando para que refleje la información que nos interesa."
   ]
  },
  {
   "cell_type": "code",
   "execution_count": null,
   "metadata": {},
   "outputs": [],
   "source": [
    "print(covid_global_archivo)\n",
    "print(\"=\"*70)\n",
    "print(arg_df)"
   ]
  },
  {
   "cell_type": "markdown",
   "metadata": {},
   "source": [
    "---\n",
    "Podemos continuar con un análisis exploratorio de los datos para obtener estadísticas."
   ]
  },
  {
   "cell_type": "code",
   "execution_count": null,
   "metadata": {},
   "outputs": [],
   "source": [
    "arg_df.describe()"
   ]
  },
  {
   "cell_type": "code",
   "execution_count": null,
   "metadata": {},
   "outputs": [],
   "source": [
    "max_nuevos_casos = arg_df.describe(include='all').loc['max']"
   ]
  },
  {
   "cell_type": "code",
   "execution_count": null,
   "metadata": {},
   "outputs": [],
   "source": [
    "max_nuevos_casos['nuevos_casos']"
   ]
  },
  {
   "cell_type": "code",
   "execution_count": null,
   "metadata": {},
   "outputs": [],
   "source": [
    "arg_df[arg_df['nuevos_casos'] == max_nuevos_casos['nuevos_casos']]"
   ]
  },
  {
   "cell_type": "code",
   "execution_count": null,
   "metadata": {},
   "outputs": [],
   "source": [
    "arg_df['casos_acumulados'] = arg_df['nuevos_casos'].cumsum()"
   ]
  },
  {
   "cell_type": "code",
   "execution_count": null,
   "metadata": {},
   "outputs": [],
   "source": [
    "arg_df"
   ]
  },
  {
   "cell_type": "code",
   "execution_count": null,
   "metadata": {},
   "outputs": [],
   "source": [
    "arg_df.plot();"
   ]
  },
  {
   "cell_type": "code",
   "execution_count": null,
   "metadata": {},
   "outputs": [],
   "source": [
    "arg_df.shape"
   ]
  },
  {
   "cell_type": "code",
   "execution_count": null,
   "metadata": {},
   "outputs": [],
   "source": [
    "arg_df['nuevos_casos'].plot.hist();"
   ]
  },
  {
   "cell_type": "markdown",
   "metadata": {},
   "source": [
    "Veamos ahora otras funcionalidades de Pandas"
   ]
  },
  {
   "cell_type": "code",
   "execution_count": null,
   "metadata": {},
   "outputs": [],
   "source": [
    "covid_global_web"
   ]
  },
  {
   "cell_type": "markdown",
   "metadata": {},
   "source": [
    "Agrupamos los casos por pais, sumando los resultados."
   ]
  },
  {
   "cell_type": "code",
   "execution_count": null,
   "metadata": {},
   "outputs": [],
   "source": [
    "covid_por_pais = covid_global_web.groupby([' Country'], as_index=False).sum()"
   ]
  },
  {
   "cell_type": "code",
   "execution_count": null,
   "metadata": {},
   "outputs": [],
   "source": [
    "covid_por_pais"
   ]
  },
  {
   "cell_type": "code",
   "execution_count": null,
   "metadata": {},
   "outputs": [],
   "source": [
    "covid_por_pais[covid_por_pais[' Country'] == \"Argentina\"]"
   ]
  },
  {
   "cell_type": "markdown",
   "metadata": {},
   "source": [
    "Si prestamos atención a la muestra anterior, los Casos acumulados son muy superiores a los casos nuevos.<br>\n",
    "Esto se debe a que en la transformacion anterior, sumamos todos los campos con si mismos. Por lo que ahora nuestro set de datos tiene informacion incorrecta."
   ]
  },
  {
   "cell_type": "code",
   "execution_count": null,
   "metadata": {},
   "outputs": [],
   "source": [
    "covid_por_pais.drop([' Cumulative_cases', ' Cumulative_deaths'], inplace=True, axis=1)"
   ]
  },
  {
   "cell_type": "code",
   "execution_count": null,
   "metadata": {},
   "outputs": [],
   "source": [
    "covid_por_pais[covid_por_pais[' Country'] == \"Argentina\"]"
   ]
  },
  {
   "cell_type": "markdown",
   "metadata": {},
   "source": [
    "Con el cambio que acabmos de hacer, los nombres de las columnas ya no son representativos, por lo que debo cambiarlos."
   ]
  },
  {
   "cell_type": "code",
   "execution_count": null,
   "metadata": {},
   "outputs": [],
   "source": [
    "covid_por_pais.rename(columns={\n",
    "    ' Country': 'pais',\n",
    "    ' New_cases': 'casos',\n",
    "    ' New_deaths': 'fatalidades'}\n",
    "                     , inplace=True)"
   ]
  },
  {
   "cell_type": "code",
   "execution_count": null,
   "metadata": {},
   "outputs": [],
   "source": [
    "covid_por_pais"
   ]
  },
  {
   "cell_type": "markdown",
   "metadata": {},
   "source": [
    "Puedo tomar muestras aleatorias de mis datos."
   ]
  },
  {
   "cell_type": "code",
   "execution_count": null,
   "metadata": {},
   "outputs": [],
   "source": [
    "covid_por_pais.sample()"
   ]
  },
  {
   "cell_type": "code",
   "execution_count": null,
   "metadata": {},
   "outputs": [],
   "source": [
    "covid_por_pais.sample()"
   ]
  },
  {
   "cell_type": "code",
   "execution_count": null,
   "metadata": {},
   "outputs": [],
   "source": [
    "covid_por_pais.sample()"
   ]
  },
  {
   "cell_type": "code",
   "execution_count": null,
   "metadata": {},
   "outputs": [],
   "source": [
    "covid_por_pais['pais'].nunique()"
   ]
  },
  {
   "cell_type": "code",
   "execution_count": null,
   "metadata": {},
   "outputs": [],
   "source": [
    "top5_casos = covid_por_pais.sort_values(by='casos', ascending=False)"
   ]
  },
  {
   "cell_type": "code",
   "execution_count": null,
   "metadata": {},
   "outputs": [],
   "source": [
    "top5_casos"
   ]
  },
  {
   "cell_type": "code",
   "execution_count": null,
   "metadata": {},
   "outputs": [],
   "source": [
    "top5_casos.head(5)"
   ]
  },
  {
   "cell_type": "code",
   "execution_count": null,
   "metadata": {},
   "outputs": [],
   "source": [
    "top5_casos['tasa-mortalidad'] = (top5_casos['fatalidades'] / top5_casos['casos']) * 100"
   ]
  },
  {
   "cell_type": "code",
   "execution_count": null,
   "metadata": {},
   "outputs": [],
   "source": [
    "top5_casos"
   ]
  },
  {
   "cell_type": "markdown",
   "metadata": {},
   "source": [
    "Podemos reemplazar los datos vacios por algo que tenga mas sentido."
   ]
  },
  {
   "cell_type": "code",
   "execution_count": null,
   "metadata": {},
   "outputs": [],
   "source": [
    "top5_casos.dropna(0)\n",
    "top5_casos."
   ]
  },
  {
   "cell_type": "code",
   "execution_count": null,
   "metadata": {},
   "outputs": [],
   "source": [
    "top5_casos[top5_casos['pais'] == 'Argentina']"
   ]
  },
  {
   "cell_type": "markdown",
   "metadata": {},
   "source": [
    "Finalmente mostramos nuestros resultados:"
   ]
  },
  {
   "cell_type": "code",
   "execution_count": null,
   "metadata": {},
   "outputs": [],
   "source": [
    "top5_casos"
   ]
  },
  {
   "cell_type": "code",
   "execution_count": null,
   "metadata": {},
   "outputs": [],
   "source": [
    "top5_casos.head(5).plot.scatter(x='pais', y='casos');"
   ]
  }
 ],
 "metadata": {
  "kernelspec": {
   "display_name": "Python 3",
   "language": "python",
   "name": "python3"
  },
  "language_info": {
   "codemirror_mode": {
    "name": "ipython",
    "version": 3
   },
   "file_extension": ".py",
   "mimetype": "text/x-python",
   "name": "python",
   "nbconvert_exporter": "python",
   "pygments_lexer": "ipython3",
   "version": "3.7.6"
  }
 },
 "nbformat": 4,
 "nbformat_minor": 2
}
