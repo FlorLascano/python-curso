{
 "cells": [
  {
   "cell_type": "markdown",
   "metadata": {},
   "source": [
    "<img src=\"assets/socalo-ICDA.png\">"
   ]
  },
  {
   "cell_type": "markdown",
   "metadata": {},
   "source": [
    "\n"
   ]
  },
  {
   "cell_type": "markdown",
   "metadata": {},
   "source": [
    "# Python para Finanzas y Ciencia de Datos\n",
    "Federico Brun | fedejbrun@gmail.com\n",
    "\n",
    "_Jueves 15 Octubre 2020_"
   ]
  },
  {
   "cell_type": "markdown",
   "metadata": {},
   "source": [
    "## Visualización de Datos en Python"
   ]
  },
  {
   "cell_type": "markdown",
   "metadata": {},
   "source": [
    "<img src=\"https://files.realpython.com/media/How-to-Plot-With-Pandas_Watermarked.f283f64b4ae3.jpg\">\n",
    "\n",
    "_Fuente: realpython.com_"
   ]
  },
  {
   "cell_type": "markdown",
   "metadata": {},
   "source": [
    "La Visualización de los Datos con que trabajamos cumple un rol muy importante a la hora de reportar y divulgar nuestro trabajo .\n",
    "La capacidad de saber utilizar las herramientas de visualización no solo es util para mostrar nuestros resultados a terceros, sino que ademas puede ayudarnos y guiar nuestro trabajo.\n",
    "\n",
    "En Python existen muchas librerías que nos asisten en esta tarea. Para nuestro estudio de datos nos vamoso a centrar en las tres mas utilizadas:\n",
    "* Matplotlib\n",
    "* Seaborn\n",
    "* Plotly\n",
    "\n",
    "con especial enfasis en Plotly dado que es la que mas popularidad esta ganando en el ultimo tiempo por su flexibilidad."
   ]
  },
  {
   "cell_type": "markdown",
   "metadata": {},
   "source": [
    "# Usar ejemplos simples, despues pasar a COVID con Plotly"
   ]
  },
  {
   "cell_type": "code",
   "execution_count": null,
   "metadata": {},
   "outputs": [],
   "source": []
  }
 ],
 "metadata": {
  "kernelspec": {
   "display_name": "Python 3",
   "language": "python",
   "name": "python3"
  },
  "language_info": {
   "codemirror_mode": {
    "name": "ipython",
    "version": 3
   },
   "file_extension": ".py",
   "mimetype": "text/x-python",
   "name": "python",
   "nbconvert_exporter": "python",
   "pygments_lexer": "ipython3",
   "version": "3.7.3"
  }
 },
 "nbformat": 4,
 "nbformat_minor": 2
}
