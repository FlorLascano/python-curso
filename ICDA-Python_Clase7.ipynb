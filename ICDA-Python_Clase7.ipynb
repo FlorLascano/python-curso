{
 "cells": [
  {
   "cell_type": "markdown",
   "metadata": {},
   "source": [
    "<img src=\"assets/socalo-ICDA.png\">"
   ]
  },
  {
   "cell_type": "markdown",
   "metadata": {},
   "source": [
    "\n"
   ]
  },
  {
   "cell_type": "markdown",
   "metadata": {},
   "source": [
    "# Python para Finanzas y Ciencia de Datos\n",
    "Federico Brun | fedejbrun@gmail.com\n",
    "\n",
    "_Jueves 15 Octubre 2020_"
   ]
  },
  {
   "cell_type": "markdown",
   "metadata": {},
   "source": [
    "## Visualización de Datos en Python"
   ]
  },
  {
   "cell_type": "markdown",
   "metadata": {},
   "source": [
    "<img src=\"https://files.realpython.com/media/How-to-Plot-With-Pandas_Watermarked.f283f64b4ae3.jpg\">\n",
    "\n",
    "_Fuente: realpython.com_"
   ]
  },
  {
   "cell_type": "markdown",
   "metadata": {},
   "source": [
    "La Visualización de los Datos con que trabajamos cumple un rol muy importante a la hora de reportar y divulgar nuestro trabajo .\n",
    "La capacidad de saber utilizar las herramientas de visualización no solo es útil para mostrar nuestros resultados a terceros, sino que además puede ayudarnos y guiar nuestro trabajo.\n",
    "\n",
    "En Python existen muchas librerías que nos asisten en esta tarea. \n",
    "En nuestro estudio de opciones veremos algunos ejemplos básicos con las alternativas mas ampliamente utilizadas."
   ]
  },
  {
   "cell_type": "markdown",
   "metadata": {},
   "source": [
    "## Instalar librerías con PIP y CONDA\n",
    "\n",
    "Como adelantamos, al usar Anaconda, muchas de las librerías que se usan para la Ciencia de Datos y Finanzas ya vienen incluidas en nuestra descarga.\n",
    "\n",
    "Pero como este no es siempre el caso, debemos aprender a descargar librerías de Python usando los administradores de paqeutes.\n",
    "\n",
    "Un administrador de paquetes es un programa que se utiliza para descargar, instalar y administrar paquetes de software escritos en Python.\n",
    "\n",
    "La gran mayoría de estos paquetes, los encontramos en <a href=\"https://pypi.org/\" target=\"_blank\">Python Package Index</a> cuando usamos PIP; y en <a href=\"https://anaconda.org/\" target=\"_blank\">Anaconda Cloud</a> cuando usamos CONDA."
   ]
  },
  {
   "cell_type": "markdown",
   "metadata": {},
   "source": [
    "Para instalar un paquete entonces, usando PIP o CONDA, tenemos las siguientes opciones:\n",
    "* Desde la terminal:\n",
    "\n",
    "``` pip install plotly ```\n",
    "\n",
    "``` conda install plotly ```\n",
    "\n",
    "* Desde JupyterNotebook en una celda de codigo:\n",
    "\n",
    "```!pip install plotly ```\n",
    "\n",
    "```!conda install plotly ```\n",
    "___"
   ]
  },
  {
   "cell_type": "markdown",
   "metadata": {},
   "source": [
    "## Matplotlib"
   ]
  },
  {
   "cell_type": "markdown",
   "metadata": {},
   "source": [
    "<img src=\"https://matplotlib.org/_static/logo2_compressed.svg\"/>Matplotlib es una librería para la generación de gráficos a partir de datos contenidos en listas o arrays en Python y su extensión matemática NumPy.\n",
    "\n",
    "https://matplotlib.org/"
   ]
  },
  {
   "cell_type": "code",
   "execution_count": null,
   "metadata": {},
   "outputs": [],
   "source": [
    "import matplotlib.pyplot as plt\n",
    "import numpy as np"
   ]
  },
  {
   "cell_type": "code",
   "execution_count": null,
   "metadata": {},
   "outputs": [],
   "source": [
    "plt.plot([1, 2, 3, 4], [1, 4, 2, 3])  # Plot some data on the axes."
   ]
  },
  {
   "cell_type": "markdown",
   "metadata": {},
   "source": [
    "Con algunas lineas adicionales, podemos mejorar la calidad de nuestro gráfico aumentando el tamaño de la visualización, y agregando referencias como una grilla, un titulo, y etiquetas para los ejes cartesianos."
   ]
  },
  {
   "cell_type": "code",
   "execution_count": null,
   "metadata": {},
   "outputs": [],
   "source": [
    "eje_x = [1, 2, 4, 6, 8, 9, 15, 17, 30]\n",
    "eje_y = [1, 3, 5, 7, 9, 9, 10, 18, 4]"
   ]
  },
  {
   "cell_type": "code",
   "execution_count": null,
   "metadata": {},
   "outputs": [],
   "source": [
    "plt.figure(figsize=(15,8))  # Agrandar el gráfico que se muestra \n",
    "plt.plot(eje_x, eje_y)\n",
    "\n",
    "# Agregar referencias\n",
    "plt.grid(True)\n",
    "plt.title('Primer Gráfico en Matplotlib', fontsize=24)\n",
    "plt.xlabel('x-axis', fontsize=16)\n",
    "plt.ylabel('y-axis', fontsize=16)"
   ]
  },
  {
   "cell_type": "markdown",
   "metadata": {},
   "source": [
    "Podemos tambien cambiar la representacion de los puntos que mostramos.\n",
    "Para no mostrar la dirección de memorio del gráfico, agregamos `;` en la ultima instrucción `plt` ."
   ]
  },
  {
   "cell_type": "code",
   "execution_count": null,
   "metadata": {},
   "outputs": [],
   "source": [
    "plt.figure(figsize=(15,8))  # Agrandar el gráfico que se muestra \n",
    "plt.plot(eje_x, eje_y, 'bs')\n",
    "\n",
    "# Agregar referencias\n",
    "plt.grid(True)\n",
    "plt.title('Cambiar puntos azules', fontsize=24)\n",
    "plt.xlabel('x-axis', fontsize=16)\n",
    "plt.ylabel('y-axis', fontsize=16);"
   ]
  },
  {
   "cell_type": "markdown",
   "metadata": {},
   "source": [
    "Podemos mostrar mas de una figura en un mismo grafico."
   ]
  },
  {
   "cell_type": "code",
   "execution_count": null,
   "metadata": {},
   "outputs": [],
   "source": [
    "plt.figure(figsize=(15,8))  # Agrandar el gráfico que se muestra \n",
    "plt.plot(eje_x, eje_y, 'bs',eje_x, eje_y, )\n",
    "\n",
    "# Agregar referencias\n",
    "plt.grid(True)\n",
    "plt.title('Linea y puntos', fontsize=24)\n",
    "plt.xlabel('x-axis', fontsize=16)\n",
    "plt.ylabel('y-axis', fontsize=16);"
   ]
  },
  {
   "cell_type": "code",
   "execution_count": null,
   "metadata": {},
   "outputs": [],
   "source": [
    "# evenly sampled time at 200ms intervals\n",
    "t = np.arange(0., 5., 0.2)\n",
    "\n",
    "# red dashes, blue squares and green triangles\n",
    "plt.figure(figsize=(15,8))\n",
    "plt.plot(t, t, 'r--', t, t**2, 'bs', t, t**3, 'g^')\n",
    "\n",
    "# Agregar referencias\n",
    "plt.grid(True)\n",
    "plt.title('Multiples trazos', fontsize=24)\n",
    "plt.xlabel('x-axis', fontsize=16)\n",
    "plt.ylabel('y-axis', fontsize=16);"
   ]
  },
  {
   "cell_type": "markdown",
   "metadata": {},
   "source": [
    "Y podemos trabajar con datos que almacenamos en una estructura de datos que no es una lsita, por ejemplo un diccionario o un **DataFrame** de Pandas."
   ]
  },
  {
   "cell_type": "code",
   "execution_count": null,
   "metadata": {},
   "outputs": [],
   "source": [
    "data = {'a': np.arange(50),\n",
    "        'c': np.random.randint(0, 50, 50),\n",
    "        'd': np.random.randn(50)}\n",
    "data['b'] = data['a'] + 10 * np.random.randn(50)\n",
    "data['d'] = np.abs(data['d']) * 100\n",
    "\n",
    "plt.figure(figsize=(15,8))\n",
    "plt.scatter('a', 'b', c='c', s='d', data=data)\n",
    "\n",
    "# Agregar referencias\n",
    "plt.grid(True)\n",
    "plt.title('Datos de un DataFrame', fontsize=24)\n",
    "plt.xlabel('x-axis', fontsize=16)\n",
    "plt.ylabel('y-axis', fontsize=16);"
   ]
  },
  {
   "cell_type": "markdown",
   "metadata": {},
   "source": [
    "En un mismo gráfico, podemos mostrar varias figuras y varios ejes."
   ]
  },
  {
   "cell_type": "code",
   "execution_count": null,
   "metadata": {},
   "outputs": [],
   "source": [
    "# Definimos una funcion matematica como las\n",
    "# que acostumbramos a graficar en papel\n",
    "def f(t):\n",
    "    return np.exp(-t) * np.cos(2*np.pi*t)"
   ]
  },
  {
   "cell_type": "markdown",
   "metadata": {},
   "source": [
    "$$f(t) = e^{-t} * cos(2 \\pi t)$$"
   ]
  },
  {
   "cell_type": "markdown",
   "metadata": {},
   "source": [
    "Si bien no es necesario en Jupyter, para mostrar los gráficos y para hacer que nuestro bloque de código de visualización sea mas comprensible, hacemos una llamada a la función `show()` del objeto `plt` al final del bloque."
   ]
  },
  {
   "cell_type": "code",
   "execution_count": null,
   "metadata": {},
   "outputs": [],
   "source": [
    "t1 = np.arange(0.0, 5.0, 0.1)\n",
    "t2 = np.arange(0.0, 5.0, 0.02)\n",
    "\n",
    "plt.figure(figsize=(15,8))\n",
    "\n",
    "plt.subplot(211)\n",
    "plt.plot(t1, f(t1), 'bo', t2, f(t2), 'k')\n",
    "plt.grid(True)\n",
    "plt.title('Primer conjuntos de datos', fontsize=24)\n",
    "plt.ylabel('y-axis', fontsize=16)\n",
    "\n",
    "plt.subplot(212)\n",
    "plt.plot(t2, np.cos(2*np.pi*t2), 'r--')\n",
    "plt.grid(True)\n",
    "plt.title('Segundo conjunto de datos', fontsize=24)\n",
    "plt.xlabel('x-axis', fontsize=16)\n",
    "plt.ylabel('y-axis', fontsize=16)\n",
    "\n",
    "plt.show();"
   ]
  },
  {
   "cell_type": "markdown",
   "metadata": {},
   "source": [
    "<a href=\"https://matplotlib.org/tutorials/introductory/sample_plots.html#sphx-glr-tutorials-introductory-sample-plots-py\" target=\"_blank\">Ejemplos de diferentes Gráficos con Matplotlib</a>\n",
    "\n",
    "---"
   ]
  },
  {
   "cell_type": "markdown",
   "metadata": {},
   "source": [
    "## Visualización de Datos de Numpy y Pandas con Matplotlib\n",
    "Matplotlib se integra muy facilmente con Numpy y Pandas, para poder mostrar nuestros datos de forma rápida y sencilla. "
   ]
  },
  {
   "cell_type": "markdown",
   "metadata": {},
   "source": [
    "Construimos una serie de números aleatorios con Numpy, para guardar en una **Serie** de Pandas."
   ]
  },
  {
   "cell_type": "code",
   "execution_count": null,
   "metadata": {},
   "outputs": [],
   "source": [
    "import pandas as pd\n",
    "import numpy as np\n",
    "import matplotlib.pyplot as plt"
   ]
  },
  {
   "cell_type": "code",
   "execution_count": null,
   "metadata": {},
   "outputs": [],
   "source": [
    "size, scale = 1000, 10\n",
    "muestra = pd.Series(np.random.gamma(scale, size=size) ** 1.5)"
   ]
  },
  {
   "cell_type": "code",
   "execution_count": null,
   "metadata": {},
   "outputs": [],
   "source": [
    "plt.figure(figsize=(15,8))\n",
    "muestra.plot.hist(bins=20, rwidth=0.9)\n",
    "\n",
    "plt.title('Tiempos de llegada de Servicios Emergencias Medicas', fontsize=24)\n",
    "plt.xlabel('Tiempo de llegada (min)', fontsize=16)\n",
    "plt.ylabel('Episodios', fontsize=16)\n",
    "plt.grid(axis='y', alpha=0.75)"
   ]
  },
  {
   "cell_type": "markdown",
   "metadata": {},
   "source": [
    "Para ir encaminando nuestro estudio enfocado a resolver un problema, volvamos al Dataset de informacion global de COVID."
   ]
  },
  {
   "cell_type": "code",
   "execution_count": null,
   "metadata": {},
   "outputs": [],
   "source": [
    "global_covid_df = pd.read_csv('https://covid19.who.int/WHO-COVID-19-global-data.csv')"
   ]
  },
  {
   "cell_type": "code",
   "execution_count": null,
   "metadata": {},
   "outputs": [],
   "source": [
    "global_covid_df"
   ]
  },
  {
   "cell_type": "markdown",
   "metadata": {},
   "source": [
    "Limpiamos un poco el DataFrame."
   ]
  },
  {
   "cell_type": "code",
   "execution_count": null,
   "metadata": {},
   "outputs": [],
   "source": [
    "ignorar_columnas = [\n",
    "    ' WHO_region',\n",
    "    ' Cumulative_cases',\n",
    "    ' New_deaths',\n",
    "    ' Cumulative_deaths'\n",
    "]\n",
    "\n",
    "global_covid_df.drop(ignorar_columnas, inplace=True, axis=1)"
   ]
  },
  {
   "cell_type": "code",
   "execution_count": null,
   "metadata": {},
   "outputs": [],
   "source": [
    "global_covid_df.rename(columns={\n",
    "    'Date_reported': 'fecha',\n",
    "    ' Country_code': 'cod_pais',\n",
    "    ' Country': 'pais',\n",
    "    ' New_cases': 'casos_nuevos'\n",
    "}, inplace=True)\n",
    "global_covid_df.set_index('fecha', inplace=True)\n",
    "global_covid_df"
   ]
  },
  {
   "cell_type": "code",
   "execution_count": null,
   "metadata": {},
   "outputs": [],
   "source": [
    "global_por_fecha = global_covid_df.groupby('fecha').sum()"
   ]
  },
  {
   "cell_type": "code",
   "execution_count": null,
   "metadata": {},
   "outputs": [],
   "source": [
    "global_por_fecha"
   ]
  },
  {
   "cell_type": "code",
   "execution_count": null,
   "metadata": {},
   "outputs": [],
   "source": [
    "global_por_fecha.plot(figsize=(20, 5))\n",
    "\n",
    "plt.title('Nuevos Casos Diarios')\n",
    "plt.xlabel('Fecha')\n",
    "plt.ylabel('Cantidad de nuevos casos')\n",
    "plt.grid(axis='y', alpha=0.75)"
   ]
  },
  {
   "cell_type": "code",
   "execution_count": null,
   "metadata": {},
   "outputs": [],
   "source": [
    "global_por_fecha.cumsum().plot(figsize=(20, 5))\n",
    "\n",
    "plt.title('Casos aumulados')\n",
    "plt.xlabel('Fecha')\n",
    "plt.ylabel('Casos acumulados (miles)')\n",
    "plt.grid(axis='y', alpha=0.75)"
   ]
  },
  {
   "cell_type": "code",
   "execution_count": null,
   "metadata": {},
   "outputs": [],
   "source": [
    "global_ultimos_30 = global_por_fecha.iloc[-30:, :]\n",
    "global_ultimos_30"
   ]
  },
  {
   "cell_type": "code",
   "execution_count": null,
   "metadata": {},
   "outputs": [],
   "source": [
    "global_ultimos_30.plot(figsize=(20, 5))\n",
    "\n",
    "plt.title('Nuevos casos diarios (Ultimos 30 dias)')\n",
    "plt.xlabel('Fecha')\n",
    "plt.ylabel('Nuevos casos diarios')\n",
    "plt.grid(axis='y', alpha=0.75)"
   ]
  },
  {
   "cell_type": "markdown",
   "metadata": {},
   "source": [
    "Si bien es una forma bastante \"directa\" de visualizar datos de Pandas, podemos observar algunas limitaciones, como por ejemplo la falta de interactividad de los gráficos, y lo \"básicos\" que resultan los gráfios que se crean por defecto sin que apliquemos ningun tipo de transformacion ni mejora en la presentación.\n",
    "\n",
    "Para mejorar nuestras visualizaciones de datos, vamos a usar **Plotly**.\n",
    "\n",
    "---"
   ]
  },
  {
   "cell_type": "markdown",
   "metadata": {},
   "source": [
    "## Plotly\n",
    "<img src='https://blog.f1000.com/wp-content/uploads/2017/07/logo.png'/>\n",
    "\n",
    "Plotly es una librería que nos permite crear gráficos al igual que Matplotlib. Las ventajas que nos da plotly son la interactividad en nuestras visualizaciones, la gran variedad de tipos de gráficos, soporte por parte de los desarrolladores del proyecto, y una fácil integración con herramientas mas avanzadas como por ejemplo **Dash** que nos permite generar tableros de datos interactivos como el que usamos de ejemplo de la OMS, y todo usando **solamente Python!**\n",
    "\n",
    "https://plotly.com/python/"
   ]
  },
  {
   "cell_type": "markdown",
   "metadata": {},
   "source": [
    "#### Primer paso instalar plotly si todavía no lo tenemos"
   ]
  },
  {
   "cell_type": "code",
   "execution_count": null,
   "metadata": {},
   "outputs": [],
   "source": [
    "!pip install plotly==4.11.0"
   ]
  },
  {
   "cell_type": "code",
   "execution_count": null,
   "metadata": {},
   "outputs": [],
   "source": [
    "!pip install \"notebook>=5.3\" \"ipywidgets>=7.2\""
   ]
  },
  {
   "cell_type": "markdown",
   "metadata": {},
   "source": [
    "#### Segundo paso importar plotly"
   ]
  },
  {
   "cell_type": "code",
   "execution_count": null,
   "metadata": {},
   "outputs": [],
   "source": [
    "import plotly.graph_objects as go\n",
    "import plotly.express as px\n",
    "from plotly.subplots import make_subplots\n",
    "import plotly.figure_factory as ff"
   ]
  },
  {
   "cell_type": "markdown",
   "metadata": {},
   "source": [
    "Primero creamos un objeto que sea de tipo `Figure`:"
   ]
  },
  {
   "cell_type": "code",
   "execution_count": null,
   "metadata": {},
   "outputs": [],
   "source": [
    "fig = go.Figure()\n",
    "\n",
    "fig.add_trace(go.Bar(x=[\"Lunes\", \"Martes\", \"Miercoles\", \"Jueves\", \"Viernes\"],\n",
    "                     y=[1, 1, 2, 4, 2]))\n",
    "\n",
    "fig.show()"
   ]
  },
  {
   "cell_type": "markdown",
   "metadata": {},
   "source": [
    "Podemos crear una figura vacía, para ir llenándola de elementos \"sobre la marcha\"."
   ]
  },
  {
   "cell_type": "code",
   "execution_count": null,
   "metadata": {},
   "outputs": [],
   "source": [
    "fig = go.Figure()\n",
    "fig.show()"
   ]
  },
  {
   "cell_type": "markdown",
   "metadata": {},
   "source": [
    "Podemos agregar títulos, al gráfico y a cada uno de los ejes."
   ]
  },
  {
   "cell_type": "code",
   "execution_count": null,
   "metadata": {},
   "outputs": [],
   "source": [
    "fig.add_trace(go.Scatter(x=[\"Lunes\", \"Martes\", \"Miercoles\", \"Jueves\", \"Viernes\"],\n",
    "                         y=[1, 1, 2, 4, 2],\n",
    "                        name=\"hs/dia\"))\n",
    "fig.update_layout(title=\"Horas por día dedicadas al curso ICDA Python\")\n",
    "fig.show()"
   ]
  },
  {
   "cell_type": "code",
   "execution_count": null,
   "metadata": {},
   "outputs": [],
   "source": [
    "fig.add_trace(go.Scatter(x=[\"Lunes\", \"Martes\", \"Miercoles\", \"Jueves\", \"Viernes\"],\n",
    "                         y=[5, 5, 4, 3, 2],\n",
    "                        name=\"energía\"))\n",
    "fig.update_layout(title=\"Horas por día dedicadas al curso ICDA Python vs Energía \")\n",
    "fig.show()"
   ]
  },
  {
   "cell_type": "markdown",
   "metadata": {},
   "source": [
    "#### Pie Charts\n",
    "\n",
    "<a href='https://plotly.com/python/pie-charts/' target='_blank'>Documentación: Pie charts con Plotly</a>"
   ]
  },
  {
   "cell_type": "code",
   "execution_count": null,
   "metadata": {},
   "outputs": [],
   "source": [
    "import pandas as pd\n",
    "\n",
    "portfolio = pd.read_csv('cartera-arg.csv')\n",
    "portfolio"
   ]
  },
  {
   "cell_type": "code",
   "execution_count": null,
   "metadata": {},
   "outputs": [],
   "source": [
    "import plotly.express as px\n",
    "fig = px.pie(portfolio, values='Cantidad', names='Ticker')\n",
    "fig.show()"
   ]
  },
  {
   "cell_type": "code",
   "execution_count": null,
   "metadata": {},
   "outputs": [],
   "source": [
    "import plotly.express as px\n",
    "fig = px.pie(portfolio, values='Cantidad', names='Ticker', color_discrete_sequence=px.colors.sequential.RdBu)\n",
    "fig.show()"
   ]
  },
  {
   "cell_type": "markdown",
   "metadata": {},
   "source": [
    "#### Scatter Plots \n",
    "\n",
    "<a href='https://plotly.com/python/line-and-scatter/' target='_blank'>Documentacion: Scatter Plots con Plotly</a>"
   ]
  },
  {
   "cell_type": "markdown",
   "metadata": {},
   "source": [
    "Datos descargados de Statsmodels, una librería para anáisis estadístico https://www.statsmodels.org/stable/datasets/index.html\n",
    "\n",
    "Descargamos el conjunto de Duncan's Occupational Prestige Data. Descripción: datos sobre el prestigio y otras características de 45 ocupaciones estadounidenses en 1950. El data frame tiene 45 filas y 4 columnas.\n",
    "\n",
    "Importamos primeros las librerías que nos permitirán descargar los datos y manipularlos."
   ]
  },
  {
   "cell_type": "code",
   "execution_count": null,
   "metadata": {},
   "outputs": [],
   "source": [
    "import statistics as sts\n",
    "import statsmodels.api as sm #https://www.statsmodels.org/stable/datasets/statsmodels.datasets.get_rdataset.html\n",
    "import pandas as pd #https://es.wikipedia.org/wiki/Pandas\n",
    "import numpy as np #https://es.wikipedia.org/wiki/NumPy\n",
    "from patsy import dmatrices"
   ]
  },
  {
   "cell_type": "code",
   "execution_count": null,
   "metadata": {},
   "outputs": [],
   "source": [
    "# Datos\n",
    "df = sm.datasets.get_rdataset(\"Duncan\", \"carData\").data\n",
    "df.head()"
   ]
  },
  {
   "cell_type": "markdown",
   "metadata": {},
   "source": [
    "**Descripción de los datos:**\n",
    "\n",
    "+ **type:** *Type of occupation.* A factor with the following levels: *prof*, professional and managerial; *wc*, white-collar; *bc*,\n",
    "   blue-collar. Los *white collars* son trabajadores de traje y corbata que trabajan en un escritorio y, estereotípicamente, evitan el trabajo físico. *blue-collars* se refiere a los trabajadores que realizan trabajos manuales duros, generalmente agricultura, manufactura, construcción, minería o mantenimiento.\n",
    "\n",
    "+ **income:** *Percentage of occupational incumbents in the 1950 US Census who earned USD 3,500 or more per year (about USD 36,000 in 2017 US dollars).*\n",
    "\n",
    "+ **education:** *Percentage of occupational incumbents in 1950 who were high school graduates (which, were we cynical, we would say is roughly equivalent to a PhD in 2017).*\n",
    "\n",
    "+ **prestige:** *Percentage of respondents in a social survey who rated the occupation as \"good\" or better in prestige.*"
   ]
  },
  {
   "cell_type": "code",
   "execution_count": null,
   "metadata": {},
   "outputs": [],
   "source": [
    "# Figura\n",
    "\n",
    "fig = px.scatter(df, x=\"education\", y=\"income\", size=\"prestige\", color=\"type\", hover_name=df.index,\n",
    "            size_max=50)\n",
    "fig.update_layout(\n",
    "    title=\"Scatter Plot\",\n",
    "    xaxis_title=\"Education\",\n",
    "    yaxis_title=\"Income\",\n",
    "    font=dict(\n",
    "        family=\"Arial, monospace\",\n",
    "        size=12,\n",
    "        color=\"#7f7f7f\"\n",
    "    )\n",
    ")"
   ]
  },
  {
   "cell_type": "markdown",
   "metadata": {},
   "source": [
    "#### Box Plots  \n",
    "\n",
    "<a href='https://plotly.com/python/box-plots/' target='_blank'>Documentación: Box Plots con Plotly</a>"
   ]
  },
  {
   "cell_type": "code",
   "execution_count": null,
   "metadata": {},
   "outputs": [],
   "source": [
    "fig = px.box(df, x='type', y=\"income\")\n",
    "fig.update_layout(\n",
    "    title=\"Box Plots\",\n",
    "    xaxis_title=\"Type\",\n",
    "    yaxis_title=\"Income\",\n",
    "    font=dict(\n",
    "        family=\"Arial, monospace\",\n",
    "        size=12,\n",
    "        color=\"#7f7f7f\"\n",
    "    )\n",
    ")\n",
    "fig.show()"
   ]
  },
  {
   "cell_type": "markdown",
   "metadata": {},
   "source": [
    "#### Análisis de Series de Tiempo\n",
    "Evaluamos el rendimiento de ADRs de tres bancos argentinos (Galicia, Macro y Supervielle) para estudiar que tan relacionados se encuentran para crear una estrategia de inversión."
   ]
  },
  {
   "cell_type": "markdown",
   "metadata": {},
   "source": [
    "Importamos librerías"
   ]
  },
  {
   "cell_type": "code",
   "execution_count": null,
   "metadata": {},
   "outputs": [],
   "source": [
    "import pandas as pd\n",
    "import numpy as np\n",
    "from datetime import datetime"
   ]
  },
  {
   "cell_type": "markdown",
   "metadata": {},
   "source": [
    "Descargamos los datos desde Yahoo Finance, buscando el enlace de descarga del CSV."
   ]
  },
  {
   "cell_type": "code",
   "execution_count": null,
   "metadata": {},
   "outputs": [],
   "source": [
    "t_0 = datetime(1990, 1,1, 21, 0).timestamp() #Starting Date\n",
    "t_end =  datetime.now() #End Date\n",
    "t_end = datetime(t_end.year, t_end.month, t_end.day, 21, 0).timestamp()\n",
    "\n",
    "## Grupo Financiero Galicia S.A. (GGAL)\n",
    "Ticker = 'GGAL'  #Ticker\n",
    "url = 'https://query1.finance.yahoo.com/v7/finance/download/'+ Ticker +'?period1='+str(int(t_0))+'&period2='+ str(int(t_end)) +'&interval=1d&events=history.csv'\n",
    "#url = 'https://query1.finance.yahoo.com/v7/finance/download/GGAL?period1=1432425600&period2=1590278400&interval=1d&events=history'\n",
    "df_ggal = pd.read_csv(url)\n",
    "df_ggal.set_index('Date', inplace=True)\n",
    "\n",
    "## Banco Macro S.A. (BMA)\n",
    "Ticker = 'BMA'  #Ticker\n",
    "url = 'https://query1.finance.yahoo.com/v7/finance/download/'+ Ticker +'?period1='+str(int(t_0))+'&period2='+ str(int(t_end)) +'&interval=1d&events=history.csv'\n",
    "df_bma = pd.read_csv(url)\n",
    "df_bma.set_index('Date', inplace=True)\n",
    "\n",
    "## Grupo Supervielle S.A. (SUPV)\n",
    "Ticker = 'SUPV'  #Ticker\n",
    "url = 'https://query1.finance.yahoo.com/v7/finance/download/'+ Ticker +'?period1='+str(int(t_0))+'&period2='+ str(int(t_end)) +'&interval=1d&events=history.csv'\n",
    "df_supv = pd.read_csv(url)\n",
    "df_supv.set_index('Date', inplace=True)"
   ]
  },
  {
   "cell_type": "markdown",
   "metadata": {},
   "source": [
    "A partir de los tres Dataframes que obtuvimos de la descarga, construimos un único Dataframe con la funcion `concat()` de Pandas."
   ]
  },
  {
   "cell_type": "code",
   "execution_count": null,
   "metadata": {},
   "outputs": [],
   "source": [
    "df = pd.concat([df_ggal['Close'].round(2), df_bma['Close'].round(2), df_supv['Close'].round(2)], axis=1, join='inner')\n",
    "df.columns = ['GGAL USD', 'BMA USD',  'SUPV USD']\n",
    "df"
   ]
  },
  {
   "cell_type": "markdown",
   "metadata": {},
   "source": [
    "Importamos librerías para graficar las series de tiempo."
   ]
  },
  {
   "cell_type": "code",
   "execution_count": null,
   "metadata": {},
   "outputs": [],
   "source": [
    "import plotly.graph_objects as go\n",
    "import plotly.express as px\n",
    "from plotly.subplots import make_subplots\n",
    "import plotly.figure_factory as ff"
   ]
  },
  {
   "cell_type": "markdown",
   "metadata": {},
   "source": [
    "#### Graficar series de Tiempo\n",
    "Vamos a usar `make_subplots()`, una función de Plotly que nos permite crear figuras con múltiples figuras dentro de si, o \"gráficos adentro de gráficos\".\n",
    "\n",
    "<a href='https://plotly.com/python/mixed-subplots/' target='_blank'>Documentación: Subplots Plotly</a>\n",
    "\n",
    "<a href='https://relopezbriega.github.io/blog/2016/09/26/series-de-tiempo-con-python/' target='_blank'>Tutorial sobre análisis de Series de Tiempo muy interesante</a>\n",
    "\n"
   ]
  },
  {
   "cell_type": "code",
   "execution_count": null,
   "metadata": {},
   "outputs": [],
   "source": [
    "fig = make_subplots(rows=2, cols=3, horizontal_spacing=0.10)\n",
    "\n",
    "fig.update_layout(height=700, width=950)\n",
    "\n",
    "fig.layout.title.text = \"Acciones Bancarias Argentinas (Precios en USD y retornos diarios en %)\"\n",
    "#GGAL\n",
    "fig.add_scatter(\n",
    "    x= df.index,\n",
    "    y =df['GGAL USD'] ,\n",
    "    name='GGAL',\n",
    "    yaxis='y1',\n",
    "    showlegend=False,\n",
    "    row=1, col=1,\n",
    "    line = dict(color='#ff7f0e')\n",
    ")\n",
    "fig.add_scatter(\n",
    "    x= df.index,\n",
    "    y =df['GGAL USD'].pct_change()*100 ,\n",
    "    name='GGAL',\n",
    "    yaxis='y1',\n",
    "    showlegend=False,\n",
    "    row=2, col=1,\n",
    "    line = dict(color='#ff7f0e')\n",
    ")\n",
    "\n",
    "#BMA\n",
    "fig.add_scatter(\n",
    "    x= df.index,\n",
    "    y =df['BMA USD'] ,\n",
    "    name='BMA',\n",
    "    yaxis='y1',\n",
    "    showlegend=False,\n",
    "    row=1, col=2,\n",
    "    line = dict(color='#17becf')\n",
    ")\n",
    "fig.add_scatter(\n",
    "    x= df.index,\n",
    "    y =df['BMA USD'].pct_change()*100 ,\n",
    "    name='BMA',\n",
    "    yaxis='y1',\n",
    "    showlegend=False,\n",
    "    row=2, col=2,\n",
    "    line = dict(color='#17becf')\n",
    ")\n",
    "\n",
    "#SUPV\n",
    "fig.add_scatter(\n",
    "    x= df.index,\n",
    "    y =df['SUPV USD'] ,\n",
    "    name='SUPV',\n",
    "    yaxis='y1',\n",
    "    showlegend=False,\n",
    "    row=1, col=3,\n",
    "    line = dict(color='#d62728')\n",
    ")\n",
    "fig.add_scatter(\n",
    "    x= df.index,\n",
    "    y =df['SUPV USD'].pct_change()*100 ,\n",
    "    name='SUPV',\n",
    "    yaxis='y1',\n",
    "    showlegend=False,\n",
    "    row=2, col=3,\n",
    "    line = dict(color='#d62728')\n",
    ")\n",
    "\n",
    "fig.update_layout(showlegend=False)\n",
    "\n",
    "fig.update_yaxes(title_text='GGAL daily prices in USD',title_font=dict(size=14, family='arial', color='#ff7f0e'),row=1, col=1)\n",
    "fig.update_yaxes(title_text='BMA daily prices in USD',title_font=dict(size=14, family='arial', color='#17becf'),row=1, col=2)\n",
    "fig.update_yaxes(title_text='SUPV daily prices in USD',title_font=dict(size=14, family='arial', color='#d62728'),row=1, col=3)\n",
    "\n",
    "\n",
    "fig.update_yaxes(title_text='GGAL daily return %',title_font=dict(size=14, family='arial', color='#ff7f0e'),row=2, col=1)\n",
    "fig.update_yaxes(title_text='BMA daily return %',title_font=dict(size=14, family='arial', color='#17becf'),row=2, col=2)\n",
    "fig.update_yaxes(title_text='SUPV daily return %',title_font=dict(size=14, family='arial', color='#d62728'),row=2, col=3)"
   ]
  },
  {
   "cell_type": "markdown",
   "metadata": {},
   "source": [
    "#### Correlation Heatmap\n",
    "También conocido como Matriz de Correlación, esta figura es ampliamente utilizada para el análisis exploratorio de datos. \n",
    "\n",
    "Ayuda a concer de manera gráfica, qué variables estan _correlacionadas_ y en qué medida.\n",
    "\n",
    "<a href='https://plotly.com/python/heatmaps/' target='_blank'>Documentación: Heatmaps Plotly</a>"
   ]
  },
  {
   "cell_type": "code",
   "execution_count": null,
   "metadata": {},
   "outputs": [],
   "source": [
    "print( np.around(df.corr(), decimals=2))\n",
    "\n",
    "fig = make_subplots(rows=1, cols=1)\n",
    "\n",
    "fig.update_layout(height=400, width=800)\n",
    "\n",
    "fig.layout.title.text = \"Fig.: Correlation Heatmap para precios\"\n",
    "\n",
    "fig.add_heatmap(\n",
    "    z=df.corr(),\n",
    "    x=['GGAL', 'BMA', 'SUPV'],\n",
    "    y=['GGAL', 'BMA', 'SUPV'],\n",
    "    hoverongaps = False, \n",
    "    colorscale='Viridis'\n",
    "    \n",
    ")\n",
    "\n",
    "fig.show()"
   ]
  },
  {
   "cell_type": "code",
   "execution_count": null,
   "metadata": {},
   "outputs": [],
   "source": [
    "print( np.around(df.pct_change().corr(), decimals=2))\n",
    "\n",
    "fig = make_subplots(rows=1, cols=1)\n",
    "\n",
    "fig.update_layout(height=400, width=800)\n",
    "\n",
    "fig.layout.title.text = \"Fig.: Correlation Heatmap para retornos\"\n",
    "\n",
    "fig.add_heatmap(\n",
    "    z=df.pct_change().corr(),\n",
    "    x=['GGAL', 'BMA', 'SUPV'],\n",
    "    y=['GGAL', 'BMA', 'SUPV'],\n",
    "    hoverongaps = False, \n",
    "    colorscale='Viridis'\n",
    ")\n",
    "\n",
    "fig.show()"
   ]
  },
  {
   "cell_type": "markdown",
   "metadata": {},
   "source": [
    "---\n",
    "Como ya dijimos, la mejor manera de aprender a usar Plotly al igual que las otras librerías para Ciencia de Datos, es buscando solucionar un problema específico. Para ello vamos a emular alguno de los gráficos del Dashboard de COVID de la OMS siguiendo el siguiente marco de trabajo:\n",
    "1. Definir nuestro objetivo: por ejemplo \"Replicar el gráfico de barras de los casos diarios Globales\".\n",
    "2. Buscar la documentación de la figura y ver ejemplos.\n",
    "3. Si es necesario limpiar nuestro set de datos.\n",
    "4. Adaptar la documentación del paso 2 a nuestras necesidades.\n",
    "5. Refinar la presentación hasta lograr un resultado satisfactorio."
   ]
  },
  {
   "cell_type": "markdown",
   "metadata": {},
   "source": [
    "#### 1º Definir el objetivo: Gráfico de barras de casos diarios Globales\n",
    "A partir de los datos del archvo de CSV, vamos a limpiarlos para obtener los casos diarios y graficar el avance de los mismos emulando la visualizacin de la página de la OMS (Gráfico \"Global Situation\")\n",
    "#### 2º Buscar documentación de la figura y ejemplos:\n",
    "Una búsqueda en Google con las palabras \"plotly time series bar chart\" nos arroja muchos resultados. El primero es la documentación oficial de la librería.\n",
    "<a href='https://plotly.com/python/time-series/' target='_blank'>Documentación: Series de Tiempo con Plotly</a>"
   ]
  },
  {
   "cell_type": "markdown",
   "metadata": {},
   "source": [
    "#### 3º Limpiar Dataset:\n",
    "Ya tenemos un DataFrame de Pandas que nos sirve, por lo que el trabajo de limpieza de datos en este caso será minimo."
   ]
  },
  {
   "cell_type": "code",
   "execution_count": null,
   "metadata": {},
   "outputs": [],
   "source": [
    "global_por_fecha"
   ]
  },
  {
   "cell_type": "markdown",
   "metadata": {},
   "source": [
    "#### 4º Adaptar la documentación del paso 2 a nuestras necesidades:"
   ]
  },
  {
   "cell_type": "code",
   "execution_count": null,
   "metadata": {},
   "outputs": [],
   "source": [
    "import plotly.express as px\n",
    "\n",
    "fig = px.line(global_por_fecha, global_por_fecha.index, y='casos_nuevos')\n",
    "fig.show()"
   ]
  },
  {
   "cell_type": "markdown",
   "metadata": {},
   "source": [
    "Para ver las diferencias con Matplotlib:\n",
    "* Interactividad\n",
    "* Indices inteligentes\n",
    "* Responsive\n",
    "* Gráficos básicos con mayor calidad de presentación"
   ]
  },
  {
   "cell_type": "code",
   "execution_count": null,
   "metadata": {},
   "outputs": [],
   "source": [
    "fig = px.line(global_por_fecha, global_por_fecha.index, y='casos_nuevos')\n",
    "fig.show()\n",
    "\n",
    "global_por_fecha.plot();"
   ]
  },
  {
   "cell_type": "markdown",
   "metadata": {},
   "source": [
    "#### 5º Refinar la presentación:\n",
    "Lograr una visualización que sea lo mas parecida posible al gráfico de la página de la OMS."
   ]
  },
  {
   "cell_type": "code",
   "execution_count": null,
   "metadata": {},
   "outputs": [],
   "source": [
    "fig = px.bar(global_por_fecha, x=global_por_fecha.index, y='casos_nuevos')\n",
    "fig.show()"
   ]
  },
  {
   "cell_type": "markdown",
   "metadata": {},
   "source": [
    "Cambiamos el color de los trazos a gris."
   ]
  },
  {
   "cell_type": "code",
   "execution_count": null,
   "metadata": {},
   "outputs": [],
   "source": [
    "fig.update_traces(marker_color='grey')"
   ]
  },
  {
   "cell_type": "markdown",
   "metadata": {},
   "source": [
    "Achicamos el tamaño vertical del gráfico (`height`) y agregamos un pequeño espacio entre barras."
   ]
  },
  {
   "cell_type": "code",
   "execution_count": null,
   "metadata": {},
   "outputs": [],
   "source": [
    "fig.update_layout(height=250, bargap=0.05)"
   ]
  },
  {
   "cell_type": "markdown",
   "metadata": {},
   "source": [
    "Quitamos las etiquetas de los ejes."
   ]
  },
  {
   "cell_type": "code",
   "execution_count": null,
   "metadata": {},
   "outputs": [],
   "source": [
    "fig.update_layout(\n",
    "    xaxis=dict(title=''), \n",
    "    yaxis=dict(title=''))"
   ]
  },
  {
   "cell_type": "markdown",
   "metadata": {},
   "source": [
    "Cambiamos el color del fondo por blanco."
   ]
  },
  {
   "cell_type": "code",
   "execution_count": null,
   "metadata": {},
   "outputs": [],
   "source": [
    "fig.update_layout(plot_bgcolor='rgba(0, 0, 0, 0)')"
   ]
  },
  {
   "cell_type": "markdown",
   "metadata": {},
   "source": [
    "Movemos las etiquetas del eje Y hacia la derecha."
   ]
  },
  {
   "cell_type": "code",
   "execution_count": null,
   "metadata": {},
   "outputs": [],
   "source": [
    "fig.update_layout(yaxis=dict(side='right'))"
   ]
  },
  {
   "cell_type": "markdown",
   "metadata": {},
   "source": [
    "Para agregar el número total de casos acumulados primero lo guardamos en una variable."
   ]
  },
  {
   "cell_type": "code",
   "execution_count": null,
   "metadata": {},
   "outputs": [],
   "source": [
    "global_por_fecha.cumsum().iloc[-1]['casos_nuevos']"
   ]
  },
  {
   "cell_type": "code",
   "execution_count": null,
   "metadata": {},
   "outputs": [],
   "source": [
    "total_casos_confirmados = global_por_fecha.cumsum().iloc[-1]['casos_nuevos']\n",
    "total_casos_confirmados"
   ]
  },
  {
   "cell_type": "markdown",
   "metadata": {},
   "source": [
    "Agregamos una anotación al gráfico."
   ]
  },
  {
   "cell_type": "code",
   "execution_count": null,
   "metadata": {},
   "outputs": [],
   "source": [
    "fig.add_annotation(font={'family': 'Arial',\n",
    "                        'size': 32},\n",
    "                   text=\"{:,}\".format(total_casos_confirmados),\n",
    "                   x='2020-01-01',\n",
    "                   y=400000,\n",
    "                  showarrow=False)\n",
    "fig.add_annotation(font={'family': 'Arial',\n",
    "                        'size': 16},\n",
    "                   text='casos confirmados',\n",
    "                   x='2020-01-01',\n",
    "                   y=300000,\n",
    "                  showarrow=False)"
   ]
  },
  {
   "cell_type": "markdown",
   "metadata": {},
   "source": [
    "Por último vamos a modificar el comportamiento al mover el mouse por encima de los datos, para que nos muestre la información correspondiente para la posición de X en la que nos encontremos."
   ]
  },
  {
   "cell_type": "code",
   "execution_count": null,
   "metadata": {},
   "outputs": [],
   "source": [
    "fig.update_layout(hovermode='x')"
   ]
  },
  {
   "cell_type": "code",
   "execution_count": null,
   "metadata": {},
   "outputs": [],
   "source": [
    "fig.update_layout(hoverlabel=dict(\n",
    "    bgcolor=\"white\",\n",
    "    font={'family': 'Arial', 'size': 16},\n",
    "))"
   ]
  },
  {
   "cell_type": "code",
   "execution_count": null,
   "metadata": {},
   "outputs": [],
   "source": [
    "fig.update_layout(title=\"Global Situation\")"
   ]
  }
 ],
 "metadata": {
  "kernelspec": {
   "display_name": "Python 3",
   "language": "python",
   "name": "python3"
  },
  "language_info": {
   "codemirror_mode": {
    "name": "ipython",
    "version": 3
   },
   "file_extension": ".py",
   "mimetype": "text/x-python",
   "name": "python",
   "nbconvert_exporter": "python",
   "pygments_lexer": "ipython3",
   "version": "3.7.6"
  }
 },
 "nbformat": 4,
 "nbformat_minor": 2
}
