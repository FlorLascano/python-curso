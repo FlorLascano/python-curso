{
 "cells": [
  {
   "cell_type": "markdown",
   "metadata": {},
   "source": [
    "<img src=\"assets/socalo-ICDA.png\">"
   ]
  },
  {
   "cell_type": "markdown",
   "metadata": {},
   "source": [
    "\n"
   ]
  },
  {
   "cell_type": "markdown",
   "metadata": {},
   "source": [
    "# Python para Finanzas y Ciencia de Datos\n",
    "Federico Brun | fedejbrun@gmail.com\n",
    "\n",
    "_Jueves 22 Octubre 2020_"
   ]
  },
  {
   "cell_type": "markdown",
   "metadata": {},
   "source": [
    "## Programación Orientada a Objetos en Python"
   ]
  },
  {
   "cell_type": "markdown",
   "metadata": {},
   "source": [
    "<img src=\"https://files.realpython.com/media/Object-Oriented-Programming-OOP-in-Python-3_Watermarked.0d29780806d5.jpg\">\n",
    "\n",
    "_Fuente: realpython.com_"
   ]
  },
  {
   "cell_type": "markdown",
   "metadata": {},
   "source": [
    "Hasta ahora, venimos trabajando con el paradigma de la Programación Orientada a Objetos (OOP) en Python, pero sin haberlo abordado de manera directa.\n",
    "\n",
    "De hecho, venimos trabajando con una mezcla de dos paradigmas sin haberlos abordado de manera directa: la OOP y la Programación Estructurada o Secuencial. \n",
    "\n",
    "En esta clase veremos las diferencias entre una y otra, profundizando con ejemplos que integren todo el estudio que ya hemos realizado orientado a la OOP."
   ]
  },
  {
   "cell_type": "markdown",
   "metadata": {},
   "source": [
    "## Paradigmas de Programación\n",
    "\n",
    "Un paradigma de programación es un marco conceptual, un conjunto de ideas que describe una forma de entender la construcción de programa, como tal define:\n",
    "* Las herramientas conceptuales que se pueden utilizar para construir un programa (objetos, relaciones, funciones, instrucciones).\n",
    "* Las formas válidas de combinarlas.\n",
    "\n",
    "Al ser Python un lenguaje de programación multipropósito, podemos implementar las herramientas conceptuales propias de cada paradigma."
   ]
  },
  {
   "cell_type": "markdown",
   "metadata": {},
   "source": [
    "Una definicion sencilla de cada uno de los paradigmas que hemos trabajado en el curso es la que sigue:\n",
    "\n",
    "**Programación Estructurada**: Secuencia ordenada de instrucciones que puede bifurcar y/o interrumpir el flujo de ejecución del programa.\n",
    "\n",
    "**Programación Orientada a Objetos**: En este modelo de paradigma se construyen modelos de objetos que representan elementos (objetos) del problema a resolver, que tienen características y funciones. "
   ]
  },
  {
   "cell_type": "markdown",
   "metadata": {},
   "source": [
    "## OOP en Python\n",
    "\n",
    "Permite separar los diferentes componentes de un programa, simplificando así su creación, depuración y posteriores mejoras. La programación orientada a objetos disminuye los errores y promociona la reutilización del código. Es una manera especial de programar, que se acerca de alguna manera a cómo expresaríamos las cosas en la vida real.\n",
    "\n",
    "En la OOP, definimos los siguientes componentes que tienen su correspondiente implementación en el lenguaje:\n",
    "* Clases\n",
    "* Objetos\n",
    "* Atributos\n",
    "* Métodos\n",
    "\n",
    "En este paradigma, cobra importancia conceptos como _abstracción de datos, encapsulamiento , y modularización_ .\n",
    "\n",
    "<div class=\"alert alert-block alert-info\">\n",
    "Una <b>clase</b> podría definirse como una plantilla para crear objetos.  Un <b>objeto</b> es una <i>instancia</i> de una <i>objeto</i> , con todos los atributos y métodos que actuan sobre esos atributos.</div>\n",
    "\n",
    "Un ejemplo muy común para ilsutrar el concepto, consta de pensar una **clase** como un plano o un boceto o prototipo de un objeto por ejemplo un auto; y un **objeto** como los diferentes modelos de auto que se pueden producir a partir de ese plano.\n",
    "\n",
    "A partir de eso, cada objeto de _tipo_ auto, tiene sus propios atributos y se comporta de una determinada manera.\n",
    "\n",
    "<img src=\"./assets/objects1.png\"/>"
   ]
  },
  {
   "cell_type": "markdown",
   "metadata": {},
   "source": [
    "En otras palabras, el paradigma Orientado a Objetos consiste en un efoque para modelar una porcion de la realidad que nos interesa, definiendo \"cosas\" de la vida real, y la \"relacion\" entre estas cosas. "
   ]
  },
  {
   "cell_type": "markdown",
   "metadata": {},
   "source": [
    "Veamos cómo veníamos modelando la realidad, usando los tipos de objetos básicos de Python, como por ejemplo listas, Strings y números enteros."
   ]
  },
  {
   "cell_type": "code",
   "execution_count": 6,
   "metadata": {},
   "outputs": [
    {
     "name": "stdout",
     "output_type": "stream",
     "text": [
      "Martin Gonzales\n",
      "Edad: 19\n",
      "Nro Legajo: 5234\n",
      "\n",
      "Antonia Lopez\n",
      "Edad: 9876\n"
     ]
    },
    {
     "ename": "IndexError",
     "evalue": "list index out of range",
     "output_type": "error",
     "traceback": [
      "\u001b[1;31m---------------------------------------------------------------------------\u001b[0m",
      "\u001b[1;31mIndexError\u001b[0m                                Traceback (most recent call last)",
      "\u001b[1;32m<ipython-input-6-93702897fc15>\u001b[0m in \u001b[0;36m<module>\u001b[1;34m\u001b[0m\n\u001b[0;32m      8\u001b[0m \u001b[0mprint\u001b[0m\u001b[1;33m(\u001b[0m\u001b[0malumno2\u001b[0m\u001b[1;33m[\u001b[0m\u001b[1;36m0\u001b[0m\u001b[1;33m]\u001b[0m\u001b[1;33m,\u001b[0m \u001b[0malumno2\u001b[0m\u001b[1;33m[\u001b[0m\u001b[1;36m1\u001b[0m\u001b[1;33m]\u001b[0m\u001b[1;33m)\u001b[0m\u001b[1;33m\u001b[0m\u001b[1;33m\u001b[0m\u001b[0m\n\u001b[0;32m      9\u001b[0m \u001b[0mprint\u001b[0m\u001b[1;33m(\u001b[0m\u001b[1;34m\"Edad: \"\u001b[0m \u001b[1;33m+\u001b[0m \u001b[0mstr\u001b[0m\u001b[1;33m(\u001b[0m\u001b[0malumno2\u001b[0m\u001b[1;33m[\u001b[0m\u001b[1;36m2\u001b[0m\u001b[1;33m]\u001b[0m\u001b[1;33m)\u001b[0m\u001b[1;33m)\u001b[0m\u001b[1;33m\u001b[0m\u001b[1;33m\u001b[0m\u001b[0m\n\u001b[1;32m---> 10\u001b[1;33m \u001b[0mprint\u001b[0m\u001b[1;33m(\u001b[0m\u001b[1;34m\"Nro Legajo: \"\u001b[0m \u001b[1;33m+\u001b[0m \u001b[0mstr\u001b[0m\u001b[1;33m(\u001b[0m\u001b[0malumno2\u001b[0m\u001b[1;33m[\u001b[0m\u001b[1;36m3\u001b[0m\u001b[1;33m]\u001b[0m\u001b[1;33m)\u001b[0m\u001b[1;33m)\u001b[0m\u001b[1;33m\u001b[0m\u001b[1;33m\u001b[0m\u001b[0m\n\u001b[0m",
      "\u001b[1;31mIndexError\u001b[0m: list index out of range"
     ]
    }
   ],
   "source": [
    "alumno1 = [\"Martin\", \"Gonzales\", 19, 5234]\n",
    "alumno2 = [\"Antonia\", \"Lopez\", 9876]\n",
    "\n",
    "print(alumno1[0], alumno1[1])\n",
    "print(\"Edad: \" + str(alumno1[2]))\n",
    "print(\"Nro Legajo: \" + str(alumno1[3]))\n",
    "print()\n",
    "print(alumno2[0], alumno2[1])\n",
    "print(\"Edad: \" + str(alumno2[2]))\n",
    "print(\"Nro Legajo: \" + str(alumno2[3]))"
   ]
  },
  {
   "cell_type": "markdown",
   "metadata": {},
   "source": [
    "Usando el enfoque anterior quedan en evidencia las limitaciones de modelar la relaidad usando tipos de datos que no estan pensados para esto. Para hacer que situaciones como la anterior mas manejables, usamos clases."
   ]
  },
  {
   "cell_type": "markdown",
   "metadata": {},
   "source": [
    "**Las clases o objetos sirven para definir estructuras de datos definidas por nosotros mismos.**"
   ]
  },
  {
   "cell_type": "code",
   "execution_count": 7,
   "metadata": {},
   "outputs": [],
   "source": [
    "class Car:\n",
    "    pass"
   ]
  },
  {
   "cell_type": "markdown",
   "metadata": {},
   "source": [
    "Recordemos que dijimos que las clases tienen sus propias _características_ y _comportamientos_, o en terminos mas tecnicos, **atributos** y **metodos**."
   ]
  },
  {
   "cell_type": "markdown",
   "metadata": {},
   "source": [
    "<img src=\"./assets/class.png\"/>"
   ]
  },
  {
   "cell_type": "markdown",
   "metadata": {},
   "source": [
    "Existen muchas propiedades que podemos modelar de un auto. Una vez identificadas las que necesitamos para el sistema que estemos armando, debemos definirlas.\n",
    "\n",
    "Para definirlas vamos a usar un metodo especial, llamado **constructor**."
   ]
  },
  {
   "cell_type": "code",
   "execution_count": 25,
   "metadata": {},
   "outputs": [],
   "source": [
    "class Car:\n",
    "    def __init__(self, manufacturer, model, year, color, acceleration, brake):\n",
    "        self.manufacturer = manufacturer\n",
    "        self.model = model\n",
    "        self.year = year \n",
    "        self.color = color \n",
    "        self.acceleration = acceleration\n",
    "        self.brake = brake"
   ]
  },
  {
   "cell_type": "markdown",
   "metadata": {},
   "source": [
    "Arriba, acabamos de definir el constructor, es decir, el metodo que va a hacer que la clase exista, con los parámetros que le especificamos a nuestra medida."
   ]
  },
  {
   "cell_type": "markdown",
   "metadata": {},
   "source": [
    "Los atributos creados en `__init__()` se llaman **atributos de instancia** porque seran propios de cada instancia una vez sean creadas."
   ]
  },
  {
   "cell_type": "markdown",
   "metadata": {},
   "source": [
    "<img src=\"./assets/objetos.png\"/>"
   ]
  },
  {
   "cell_type": "markdown",
   "metadata": {},
   "source": [
    "<div class=\"alert alert-block alert-info\">\n",
    "El proceso de crear un <b>objeto</b> a partir de una <b>clase</b> se denomina <b>Instanciación</b>.</div>"
   ]
  },
  {
   "cell_type": "code",
   "execution_count": 9,
   "metadata": {},
   "outputs": [],
   "source": [
    "class Car:\n",
    "    pass"
   ]
  },
  {
   "cell_type": "code",
   "execution_count": 10,
   "metadata": {},
   "outputs": [],
   "source": [
    "sport_car = Car()\n",
    "classic_car = Car()"
   ]
  },
  {
   "cell_type": "code",
   "execution_count": 11,
   "metadata": {},
   "outputs": [
    {
     "data": {
      "text/plain": [
       "<__main__.Car at 0x24ed412a400>"
      ]
     },
     "execution_count": 11,
     "metadata": {},
     "output_type": "execute_result"
    }
   ],
   "source": [
    "sport_car"
   ]
  },
  {
   "cell_type": "code",
   "execution_count": 12,
   "metadata": {},
   "outputs": [
    {
     "data": {
      "text/plain": [
       "<__main__.Car at 0x24ed412a280>"
      ]
     },
     "execution_count": 12,
     "metadata": {},
     "output_type": "execute_result"
    }
   ],
   "source": [
    "classic_car"
   ]
  },
  {
   "cell_type": "code",
   "execution_count": 13,
   "metadata": {},
   "outputs": [
    {
     "data": {
      "text/plain": [
       "False"
      ]
     },
     "execution_count": 13,
     "metadata": {},
     "output_type": "execute_result"
    }
   ],
   "source": [
    "sport_car == classic_car"
   ]
  },
  {
   "cell_type": "markdown",
   "metadata": {},
   "source": [
    "A pesar de que `sport_car` y `classic_car` son **instancias** de la clase `Car` , representan dos **objetos** diferentes. "
   ]
  },
  {
   "cell_type": "markdown",
   "metadata": {},
   "source": [
    "Ahora vamos a instanciar los objetos nuevamente, pero pasando atributos al constructor."
   ]
  },
  {
   "cell_type": "code",
   "execution_count": 15,
   "metadata": {},
   "outputs": [],
   "source": [
    "class Car:\n",
    "    def __init__(self, manufacturer, model, year, color, acceleration, brake):\n",
    "        self.manufacturer = manufacturer\n",
    "        self.model = model\n",
    "        self.year = year \n",
    "        self.color = color \n",
    "        self.acceleration = acceleration\n",
    "        self.brake = brake"
   ]
  },
  {
   "cell_type": "code",
   "execution_count": 16,
   "metadata": {},
   "outputs": [],
   "source": [
    "sport_car = Car(\"Ferrari\", \"Portofino\", 2020, \"Rojo\", 320, 5)\n",
    "classic_car = Car(\"Ford\", \"T\", 1927, \"Negro\", 71, 10 )"
   ]
  },
  {
   "cell_type": "markdown",
   "metadata": {},
   "source": [
    "Dónde quedo el parámetro `self`?\n",
    "\n",
    "Cuando instanciamos un objeto de tipo `Car` , Python crea una nueva instancia y la pasa como primer parámetro al constructor, por lo que no debemos preocuparnos por `self`. \n",
    "\n",
    "Despues de haber creado los dos objetos de tipo `Car` , podemos acceder a sus atributos utilizando `.` ."
   ]
  },
  {
   "cell_type": "code",
   "execution_count": 17,
   "metadata": {},
   "outputs": [
    {
     "data": {
      "text/plain": [
       "'Ferrari'"
      ]
     },
     "execution_count": 17,
     "metadata": {},
     "output_type": "execute_result"
    }
   ],
   "source": [
    "sport_car.manufacturer"
   ]
  },
  {
   "cell_type": "code",
   "execution_count": 18,
   "metadata": {},
   "outputs": [
    {
     "data": {
      "text/plain": [
       "'Portofino'"
      ]
     },
     "execution_count": 18,
     "metadata": {},
     "output_type": "execute_result"
    }
   ],
   "source": [
    "sport_car.model"
   ]
  },
  {
   "cell_type": "code",
   "execution_count": 19,
   "metadata": {},
   "outputs": [
    {
     "data": {
      "text/plain": [
       "1927"
      ]
     },
     "execution_count": 19,
     "metadata": {},
     "output_type": "execute_result"
    }
   ],
   "source": [
    "classic_car.year"
   ]
  },
  {
   "cell_type": "code",
   "execution_count": 20,
   "metadata": {},
   "outputs": [
    {
     "data": {
      "text/plain": [
       "'Negro'"
      ]
     },
     "execution_count": 20,
     "metadata": {},
     "output_type": "execute_result"
    }
   ],
   "source": [
    "classic_car.color"
   ]
  },
  {
   "cell_type": "markdown",
   "metadata": {},
   "source": [
    "Podemos cambiar los atributos de un objeto, de forma dinámica, luego de haberlo creado. Por ejemplo si pintamos nuestra ferrari de color azul:"
   ]
  },
  {
   "cell_type": "code",
   "execution_count": 21,
   "metadata": {},
   "outputs": [],
   "source": [
    "sport_car.color = \"Azul\""
   ]
  },
  {
   "cell_type": "code",
   "execution_count": 22,
   "metadata": {},
   "outputs": [
    {
     "data": {
      "text/plain": [
       "'Azul'"
      ]
     },
     "execution_count": 22,
     "metadata": {},
     "output_type": "execute_result"
    }
   ],
   "source": [
    "sport_car.color"
   ]
  },
  {
   "cell_type": "markdown",
   "metadata": {},
   "source": [
    "Hasta ahora definimos los atributos, nos queda definir el comportamiento de neustros objetos, o sus **metodos**:"
   ]
  },
  {
   "cell_type": "markdown",
   "metadata": {},
   "source": [
    "<img src=\"./assets/class.png\"/>"
   ]
  },
  {
   "cell_type": "code",
   "execution_count": 45,
   "metadata": {},
   "outputs": [],
   "source": [
    "class Car:\n",
    "    def __init__(self, manufacturer, model, year, color, acceleration, brake):\n",
    "        self.manufacturer = manufacturer\n",
    "        self.model = model\n",
    "        self.year = year \n",
    "        self.color = color \n",
    "        self.acceleration = acceleration\n",
    "        self.brake = brake\n",
    "        \n",
    "    def accelerate(self, speed):\n",
    "        print(\"Acelerando hasta los \" + str(speed) + \" km/h\")\n",
    "        \n",
    "    def deaccelerate(self, speed):\n",
    "        print(\"Frenando hasta los \" + str(speed) + \" km/h\")\n",
    "        \n",
    "    def print_car(self):\n",
    "        print(\"Manufacturer: \" + self.manufacturer\n",
    "              + \"\\nModel: \" + self.model \n",
    "              + \"\\nYear: \" + str(self.year) \n",
    "              + \"\\nColor: \" + self.color \n",
    "              + \"\\nAcceleration: \" + str(self.acceleration) \n",
    "              + \"\\nBrake: \" + str(self.brake)\n",
    "             )"
   ]
  },
  {
   "cell_type": "code",
   "execution_count": 46,
   "metadata": {},
   "outputs": [],
   "source": [
    "sport_car = Car(\"Ferrari\", \"Portofino\", 2020, \"Rojo\", 320, 5)\n",
    "classic_car = Car(\"Ford\", \"T\", 1927, \"Negro\", 71, 10 )"
   ]
  },
  {
   "cell_type": "code",
   "execution_count": 47,
   "metadata": {},
   "outputs": [
    {
     "name": "stdout",
     "output_type": "stream",
     "text": [
      "Manufacturer: Ferrari\n",
      "Model: Portofino\n",
      "Year: 2020\n",
      "Color: Rojo\n",
      "Acceleration: 320\n",
      "Brake: 5\n"
     ]
    }
   ],
   "source": [
    "sport_car.print_car()"
   ]
  },
  {
   "cell_type": "code",
   "execution_count": 48,
   "metadata": {},
   "outputs": [
    {
     "name": "stdout",
     "output_type": "stream",
     "text": [
      "Manufacturer: Ford\n",
      "Model: T\n",
      "Year: 1927\n",
      "Color: Negro\n",
      "Acceleration: 71\n",
      "Brake: 10\n"
     ]
    }
   ],
   "source": [
    "classic_car.print_car()"
   ]
  },
  {
   "cell_type": "code",
   "execution_count": 49,
   "metadata": {},
   "outputs": [
    {
     "name": "stdout",
     "output_type": "stream",
     "text": [
      "Acelerando hasta los 250 km/h\n"
     ]
    }
   ],
   "source": [
    "sport_car.accelerate(250)"
   ]
  },
  {
   "cell_type": "code",
   "execution_count": 50,
   "metadata": {},
   "outputs": [
    {
     "name": "stdout",
     "output_type": "stream",
     "text": [
      "Frenando hasta los 10 km/h\n"
     ]
    }
   ],
   "source": [
    "classic_car.deaccelerate(10)"
   ]
  }
 ],
 "metadata": {
  "kernelspec": {
   "display_name": "Python 3",
   "language": "python",
   "name": "python3"
  },
  "language_info": {
   "codemirror_mode": {
    "name": "ipython",
    "version": 3
   },
   "file_extension": ".py",
   "mimetype": "text/x-python",
   "name": "python",
   "nbconvert_exporter": "python",
   "pygments_lexer": "ipython3",
   "version": "3.8.3"
  }
 },
 "nbformat": 4,
 "nbformat_minor": 2
}
