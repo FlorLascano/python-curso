{
 "cells": [
  {
   "cell_type": "markdown",
   "metadata": {},
   "source": [
    "<img src=\"assets/socalo-ICDA.png\">"
   ]
  },
  {
   "cell_type": "markdown",
   "metadata": {},
   "source": [
    "\n"
   ]
  },
  {
   "cell_type": "markdown",
   "metadata": {},
   "source": [
    "# Python para Finanzas y Ciencia de Datos\n",
    "Federico Brun | fedejbrun@gmail.com\n",
    "\n",
    "_Jueves 22 Octubre 2020_"
   ]
  },
  {
   "cell_type": "markdown",
   "metadata": {},
   "source": [
    "## EDA con Python"
   ]
  },
  {
   "cell_type": "markdown",
   "metadata": {},
   "source": [
    "<img src=\"https://files.realpython.com/media/Descriptive-Statistics-in-Python_Watermarked.fec81e9a41f9.jpg\">\n",
    "\n",
    "_Fuente: realpython.com_"
   ]
  },
  {
   "cell_type": "markdown",
   "metadata": {},
   "source": [
    "El **Análisis Exploratorio de Datos** (EDA) es una forma de analizar datos, y consiste en _el tratamiento estadísitco al que se someten las muestras recogidas durante un proceso de investigación en cualquier campo científico_  , o de la Ciencia de Datos.\n",
    "\n",
    "Como ya hemos discutido, al usar Python contamos con un set de herramientas especializadas en las actividades que implica dicho tratamiento de los datos:\n",
    "* Pandas y Numpy para la obtención, organización, procesamiento y limpieza del conjunto de datos a analizar.\n",
    "* Matplotlib, Seaborn y Plotly parta la visualización del conjunto de dicho conjunto de datos."
   ]
  },
  {
   "cell_type": "markdown",
   "metadata": {},
   "source": [
    "## EDA sobre Dataset de Kaggle\n",
    "\n",
    "https://www.kaggle.com/c/house-prices-advanced-regression-techniques/overview/evaluation\n",
    "\n",
    "La competición consiste en construir un modelo de Machine Learning (ML) para predecir el precio de diferentes inmuebles.\n",
    "\n",
    "Lo que haremos sera el **paso previo**, que consiste en llevar a cabo un análisis EDA sobre los datos, que posteriormente podrían ser utilizados para generar un modelo predictivo de ML.\n",
    "\n",
    "**EL OBJETIVO** de este ejercicio , NO es llegar a alguna conclusión, sino **ANALIZAR** los datos utilizando las diferentes **HERRAMIENTAS** presentadas en el curso."
   ]
  },
  {
   "cell_type": "markdown",
   "metadata": {},
   "source": [
    "## 1. Exploración de datos\n",
    "#### 1.1 Visualización de datos sin procesar"
   ]
  },
  {
   "cell_type": "code",
   "execution_count": null,
   "metadata": {},
   "outputs": [],
   "source": [
    "import pandas as pd\n",
    "import seaborn as sns\n",
    "import matplotlib.pyplot as plt"
   ]
  },
  {
   "cell_type": "code",
   "execution_count": null,
   "metadata": {},
   "outputs": [],
   "source": [
    "df = pd.read_csv('clase8_train.csv')\n",
    "df.head()"
   ]
  },
  {
   "cell_type": "markdown",
   "metadata": {},
   "source": [
    "Más informacion de nuestro conjunto de datos"
   ]
  },
  {
   "cell_type": "code",
   "execution_count": null,
   "metadata": {},
   "outputs": [],
   "source": [
    "df.info()"
   ]
  },
  {
   "cell_type": "markdown",
   "metadata": {},
   "source": [
    "A partir de esta información, ya podemos ver que hay algunos datos que no van a ser relavantes en nuestro análisis exploratorio, dado que existen muchos datos incompletos (por ejemplo `Alley` y `PoolQC`).\n",
    "\n",
    "#### 1.2 Eliminar valores nulos\n",
    "\n",
    "Como el DataFrame ya nos provee un índice, vamos a limpiar el DataFrame eliminando la columna `Id` y todas las columnas o _feautures_ de los cuales exista una cantidad de datos vacios del 30%  mayor. \n",
    "\n",
    "Para conocer qué dato representa cada categoría (columnas), lo buscamos en el archivo `clase8_data_description.txt`."
   ]
  },
  {
   "cell_type": "code",
   "execution_count": null,
   "metadata": {},
   "outputs": [],
   "source": [
    "# La funcion df.count() no contbiliza valores vacios\n",
    "df2 = df[[column for column in df if df[column].count() / len(df) >= 0.3]]\n",
    "del df2['Id']\n",
    "print(\"Lista de columnas eliminadas:\", end=\" \")\n",
    "for c in df.columns:\n",
    "    if c not in df2.columns:\n",
    "        print(c, end=\", \")\n",
    "print('\\n')\n",
    "df = df2"
   ]
  },
  {
   "cell_type": "markdown",
   "metadata": {},
   "source": [
    "Para armar la lista de columnas a eliminar, en la línea 2 usamos una sintaxis particular denominada <a href=\"https://j2logo.com/list-comprehensions-en-python/\" target=\"_blank\">Comprensión de lista</a>, que nos permite definir una lista usando un bucle `for`, en una sola línea."
   ]
  },
  {
   "cell_type": "code",
   "execution_count": null,
   "metadata": {},
   "outputs": [],
   "source": [
    "df.info()"
   ]
  },
  {
   "cell_type": "markdown",
   "metadata": {},
   "source": [
    "A continuación veamos cómo se distribuye el precio de venta en la muestra completa."
   ]
  },
  {
   "cell_type": "code",
   "execution_count": null,
   "metadata": {},
   "outputs": [],
   "source": [
    "print(df['SalePrice'].describe())"
   ]
  },
  {
   "cell_type": "code",
   "execution_count": null,
   "metadata": {},
   "outputs": [],
   "source": [
    "print(df['SalePrice'].describe())\n",
    "\n",
    "plt.style.use('bmh')\n",
    "\n",
    "plt.figure(figsize=(15, 8))\n",
    "sns.distplot(df['SalePrice'], color='g', bins=100);"
   ]
  },
  {
   "cell_type": "markdown",
   "metadata": {},
   "source": [
    "Vemos que existe una asimetría con mayor densidad hacia la izquierda, y encontramos algunos valores extremos por encima de los USD 500,000 que eventualmente podríamos quitar del conjunto de datos, para obtener una distribución normal."
   ]
  },
  {
   "cell_type": "markdown",
   "metadata": {},
   "source": [
    "#### Distribucón numérica\n",
    "\n",
    "Ahora vamos a evaluar cómo se distribuyen numéricamente, todas las características del conjunto de datos, para poder visualizarlas mas claramente."
   ]
  },
  {
   "cell_type": "markdown",
   "metadata": {},
   "source": [
    "Primero veamos los diferentes tipos de datos que guardamos en el DataFrame."
   ]
  },
  {
   "cell_type": "code",
   "execution_count": null,
   "metadata": {},
   "outputs": [],
   "source": [
    "list(set(df.dtypes.tolist()))"
   ]
  },
  {
   "cell_type": "markdown",
   "metadata": {},
   "source": [
    "_La función `list()` convierte el paráemtro que recibe en una lista._\n",
    "\n",
    "_La función `set()` convierte el parámetro que recibe (un objeto iterable) en un set <a href=\"https://www.geeksforgeeks.org/python-set-method/#:~:text=set()%20method%20is%20used,dintinct%20elements%2C%20commonly%20called%20Set.&text=Parameters%20%3A%20Any%20iterable%20sequence%20like,if%20no%20element%20is%20passed.\" target=\"_blank\">Tutorial set()</a> ._"
   ]
  },
  {
   "cell_type": "markdown",
   "metadata": {},
   "source": [
    "Vamos a usar la lista anterior para filtrar solo los datos numéricos del DataFrame."
   ]
  },
  {
   "cell_type": "code",
   "execution_count": null,
   "metadata": {},
   "outputs": [],
   "source": [
    "df_num = df.select_dtypes(include = ['float64', 'int64'])\n",
    "df_num.head()"
   ]
  },
  {
   "cell_type": "markdown",
   "metadata": {},
   "source": [
    "Y ahora visualizamos un histograma para cada característica disponible."
   ]
  },
  {
   "cell_type": "code",
   "execution_count": null,
   "metadata": {},
   "outputs": [],
   "source": [
    "df_num.hist(figsize=(16, 20), bins=50, xlabelsize=8, ylabelsize=8); "
   ]
  },
  {
   "cell_type": "markdown",
   "metadata": {},
   "source": [
    "Observamos que características como `1stFlrSF`, `TotalBsmtSF`, `LotFrontage`, `GrLiveArea` parecen compartir distribuciones similares a la distribución que muestra `SalePrice`; algo para tener en cuenta para mas adelante.\n",
    "\n",
    "Recordemos el objetivo de este análisis EDA: Preparar los datos para entrenar un modelo de ML para **predecir el precio de un inmueble**. Con esto en mente, cobra mayor relevancia la observación del párrafo anterior."
   ]
  },
  {
   "cell_type": "markdown",
   "metadata": {},
   "source": [
    "#### 1.3 Buscar correlaciones\n",
    "\n",
    "A continuación, veamos qué caracterísitcas se encuentran más fuertemente correlacionadas con `SalePrice` y en qué medida.\n",
    "\n",
    "Recordemos que la correlación entre dos variables nos dá un indicio de qué tan relacionadas están dichas variables."
   ]
  },
  {
   "cell_type": "code",
   "execution_count": null,
   "metadata": {},
   "outputs": [],
   "source": [
    "df_num_corr = df_num.corr()['SalePrice'][:-1] # -1 porque la ultima fila es SalePrice\n",
    "\n",
    "golden_features_list = df_num_corr[abs(df_num_corr) > 0.5].sort_values(ascending=False)\n",
    "print(\"Existen {} características fuertemente correlacionadas con SalePrice:\\n{}\".format(len(golden_features_list), golden_features_list))"
   ]
  },
  {
   "cell_type": "markdown",
   "metadata": {},
   "source": [
    "Ahora contamos con una lista de características correlacionadas con `SalePrice`.\n",
    "\n",
    "Sin embargo, como veremos mas adelante en el curso, sabemos que los valores extremos de un conjunto de datos, pueden llevarnos a una conclusión incorrecta.\n",
    "\n",
    "Seguidamente vamos a eliminar estos valores extremos del conjunto de datos y repetir el proceso de buscar correlaciones entre las diferentes características y `SalePrice`. _(No vamos a profundizar en esta explicación ahora)._  \n"
   ]
  },
  {
   "cell_type": "code",
   "execution_count": null,
   "metadata": {},
   "outputs": [],
   "source": [
    "import operator\n",
    "\n",
    "individual_features_df = []\n",
    "for i in range(0, len(df_num.columns) - 1): # -1 because the last column is SalePrice\n",
    "    tmpDf = df_num[[df_num.columns[i], 'SalePrice']]\n",
    "    tmpDf = tmpDf[tmpDf[df_num.columns[i]] != 0]\n",
    "    individual_features_df.append(tmpDf)\n",
    "\n",
    "all_correlations = {feature.columns[0]: feature.corr()['SalePrice'][0] for feature in individual_features_df}\n",
    "all_correlations = sorted(all_correlations.items(), key=operator.itemgetter(1))\n",
    "for (key, value) in all_correlations:\n",
    "    print(\"{:>15}: {:>15}\".format(key, value))"
   ]
  },
  {
   "cell_type": "code",
   "execution_count": null,
   "metadata": {},
   "outputs": [],
   "source": [
    "from pprint import pprint\n",
    "\n",
    "golden_features_list =  [key for key, value in all_correlations if abs(value) >= 0.5]\n",
    "print(\"Existen {} características fuertemente correlacionadas con SalePrice:\\n\".format(len(golden_features_list)))\n",
    "pprint(golden_features_list)"
   ]
  },
  {
   "cell_type": "code",
   "execution_count": null,
   "metadata": {},
   "outputs": [],
   "source": [
    "all_correlations_df = pd.DataFrame().from_dict(all_correlations)\n",
    "all_correlations_df.set_index(0, inplace=True)\n",
    "\n",
    "# pprint(all_correlations_df)\n",
    "\n",
    "golden_features_list = all_correlations_df[abs(all_correlations_df[1]) > 0.5].sort_values(by=1, ascending=False)\n",
    "\n",
    "print(\"Nivel de correlación con SalePrice:\\n{}\".format(golden_features_list))"
   ]
  },
  {
   "cell_type": "markdown",
   "metadata": {},
   "source": [
    "Al ver la correlación entre las distribuciones numéricas de las diferentes características y `SalesPrice` encontramos que existe 11 caracterísitcas que presentan una relación fuerte con el precio de venta del inmueble.\n",
    "\n",
    "A continuación vamos a Visualizar la correlación entre todas las características, y aplicando una máscara vamos a ver aquellas cuyo coeficiente de correlación sea mayor a 0.5 y menor a -0.4 ; para ver si encontramos algun otro tipo de relación aparte de el precio de venta del inmueble."
   ]
  },
  {
   "cell_type": "code",
   "execution_count": null,
   "metadata": {},
   "outputs": [],
   "source": [
    "corr = df_num.drop('SalePrice', axis=1).corr() # Ya examinamos correlacion con SalesPrice\n",
    "\n",
    "plt.figure(figsize=(16, 14))\n",
    "\n",
    "sns.heatmap(corr[(corr >= 0.5) | (corr <= -0.4)], \n",
    "            cmap='viridis', vmax=1.0, vmin=-1.0, linewidths=0.1,\n",
    "            annot=True, annot_kws={\"size\": 8}, square=True);"
   ]
  },
  {
   "cell_type": "markdown",
   "metadata": {},
   "source": [
    "Vemos por ejemplo que hay una fuerte correlación postivia entre la superficie de la planta baja del inmueble y la superficie del sótano (`1stFlrSF/TotalBsmtSF`)."
   ]
  },
  {
   "cell_type": "code",
   "execution_count": null,
   "metadata": {},
   "outputs": [],
   "source": [
    "corr.loc['1stFlrSF', 'TotalBsmtSF']"
   ]
  },
  {
   "cell_type": "markdown",
   "metadata": {},
   "source": [
    "### 2. Análisis cuantitativo\n",
    "Veamos ahora las propiedades cuantitativas de nuestro conjunto de datos, para aplicar más herramientas de las que ya conocemos.\n",
    "\n",
    "Para empezar, vemos que algunas de las características descritas en el conjunto de datos son categóricas, y otras son cuantitativas.\n",
    "\n",
    "Vamos a separar unas de otras valiéndonos de la información provista en `clase8_data_description.text`.\n",
    "\n",
    "Construimos una lista de todas las variables cuantitativas del conjunto de datos."
   ]
  },
  {
   "cell_type": "code",
   "execution_count": null,
   "metadata": {},
   "outputs": [],
   "source": [
    "quantitative_features_list = ['LotFrontage', 'LotArea', 'MasVnrArea', 'BsmtFinSF1', 'BsmtFinSF2', 'TotalBsmtSF', '1stFlrSF',\n",
    "    '2ndFlrSF', 'LowQualFinSF', 'GrLivArea', 'BsmtFullBath', 'BsmtHalfBath', 'FullBath', 'HalfBath',\n",
    "    'BedroomAbvGr', 'KitchenAbvGr', 'TotRmsAbvGrd', 'Fireplaces', 'GarageCars', 'GarageArea', 'WoodDeckSF', 'OpenPorchSF', \n",
    "    'EnclosedPorch', '3SsnPorch', 'ScreenPorch', 'PoolArea', 'MiscVal', 'SalePrice']\n",
    "df_quantitative_values = df[quantitative_features_list]\n",
    "df_quantitative_values.head()"
   ]
  },
  {
   "cell_type": "markdown",
   "metadata": {},
   "source": [
    "A partir de esta lista que representa un subconjunto de datos a analizar, veamos aquellas que estan fuertemente correlacionadas a `SalePrice`."
   ]
  },
  {
   "cell_type": "code",
   "execution_count": null,
   "metadata": {},
   "outputs": [],
   "source": [
    "golden_features_list = [key for key, value in all_correlations if abs(value) >= 0.5]\n",
    "\n",
    "features_to_analyse = [x for x in quantitative_features_list if x in golden_features_list]\n",
    "features_to_analyse.append('SalePrice')\n",
    "features_to_analyse"
   ]
  },
  {
   "cell_type": "markdown",
   "metadata": {},
   "source": [
    "Ahora veamos las distribuciones de cada variable, junto a una regresion lineal ajustada para cada una.\n",
    "Recordemos el objetivo de este ejercicio."
   ]
  },
  {
   "cell_type": "code",
   "execution_count": null,
   "metadata": {},
   "outputs": [],
   "source": [
    "fig, ax = plt.subplots(round(len(features_to_analyse) / 3), 3, figsize = (18, 12))\n",
    "\n",
    "for i, ax in enumerate(fig.axes):\n",
    "    if i < len(features_to_analyse) - 1:\n",
    "        sns.regplot(x=features_to_analyse[i],y='SalePrice', data=df[features_to_analyse], ax=ax)"
   ]
  },
  {
   "cell_type": "markdown",
   "metadata": {},
   "source": [
    "Podemos observar que características como `TotalBsmtSF`, `1stFlrSF`, `GrLivArea` presentan grandes dispersiones."
   ]
  },
  {
   "cell_type": "markdown",
   "metadata": {},
   "source": [
    "Veamos ahora por ejemplo, que porcentaje de todos los inmuebles del conjunto de datos, cuentan con conchera para 1, 2, 3, 4 o nigún auto:"
   ]
  },
  {
   "cell_type": "code",
   "execution_count": null,
   "metadata": {},
   "outputs": [],
   "source": [
    "two_cars_garage = df_quantitative_values.groupby(['GarageCars'], as_index=False).count()\n",
    "two_cars_garage = two_cars_garage['SalePrice']"
   ]
  },
  {
   "cell_type": "code",
   "execution_count": null,
   "metadata": {},
   "outputs": [],
   "source": [
    "import plotly.express as px \n",
    "\n",
    "fig = px.pie(two_cars_garage, values=['SalePrice'], names=['SalePrice']) \n",
    "fig.show()\n"
   ]
  }
 ],
 "metadata": {
  "kernelspec": {
   "display_name": "Python 3",
   "language": "python",
   "name": "python3"
  },
  "language_info": {
   "codemirror_mode": {
    "name": "ipython",
    "version": 3
   },
   "file_extension": ".py",
   "mimetype": "text/x-python",
   "name": "python",
   "nbconvert_exporter": "python",
   "pygments_lexer": "ipython3",
   "version": "3.7.6"
  }
 },
 "nbformat": 4,
 "nbformat_minor": 2
}
