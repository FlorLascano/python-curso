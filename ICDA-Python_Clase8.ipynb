{
 "cells": [
  {
   "cell_type": "markdown",
   "metadata": {},
   "source": [
    "<img src=\"assets/socalo-ICDA.png\">"
   ]
  },
  {
   "cell_type": "markdown",
   "metadata": {},
   "source": [
    "\n"
   ]
  },
  {
   "cell_type": "markdown",
   "metadata": {},
   "source": [
    "# Python para Finanzas y Ciencia de Datos\n",
    "Federico Brun | fedejbrun@gmail.com\n",
    "\n",
    "_Jueves 22 Octubre 2020_"
   ]
  },
  {
   "cell_type": "markdown",
   "metadata": {},
   "source": [
    "## Programación Orientada a Objetos en Python"
   ]
  },
  {
   "cell_type": "markdown",
   "metadata": {},
   "source": [
    "<img src=\"https://files.realpython.com/media/Object-Oriented-Programming-OOP-in-Python-3_Watermarked.0d29780806d5.jpg\">\n",
    "\n",
    "_Fuente: realpython.com_"
   ]
  },
  {
   "cell_type": "markdown",
   "metadata": {},
   "source": [
    "Hasta ahora, venimos trabajando con el paradigma de la Programación Orientada a Objetos (OOP) en Python, pero sin haberlo abordado de manera directa.\n",
    "\n",
    "De hecho, venimos trabajando con una mezcla de dos paradigmas sin haberlos abordado de manera directa: la OOP y la Programación Estructurada o Secuencial. \n",
    "\n",
    "En esta clase veremos las diferencias entre una y otra, profundizando con ejemplos que integren todo el estudio que ya hemos realizado orientado a la OOP."
   ]
  },
  {
   "cell_type": "markdown",
   "metadata": {},
   "source": [
    "## Paradigmas de Programación\n",
    "\n",
    "Un paradigma de programación es un marco conceptual, un conjunto de ideas que describe una forma de entender la construcción de programa, como tal define:\n",
    "* Las herramientas conceptuales que se pueden utilizar para construir un programa (objetos, relaciones, funciones, instrucciones).\n",
    "* Las formas válidas de combinarlas.\n",
    "\n",
    "Al ser Python un lenguaje de programación multipropósito, podemos implementar las herramientas conceptuales propias de cada paradigma."
   ]
  },
  {
   "cell_type": "markdown",
   "metadata": {},
   "source": [
    "Una definicion sencilla de cada uno de los paradigmas que hemos trabajado en el curso es la que sigue:\n",
    "\n",
    "**Programación Estructurada**: Secuencia ordenada de instrucciones que puede bifurcar y/o interrumpir el flujo de ejecución del programa.\n",
    "\n",
    "**Programación Orientada a Objetos**: En este modelo de paradigma se construyen modelos de objetos que representan elementos (objetos) del problema a resolver, que tienen características y funciones. "
   ]
  },
  {
   "cell_type": "markdown",
   "metadata": {},
   "source": [
    "## OOP en Python\n",
    "\n",
    "Permite separar los diferentes componentes de un programa, simplificando así su creación, depuración y posteriores mejoras. La programación orientada a objetos disminuye los errores y promociona la reutilización del código. Es una manera especial de programar, que se acerca de alguna manera a cómo expresaríamos las cosas en la vida real.\n",
    "\n",
    "En la OOP, definimos los siguientes componentes que tienen su correspondiente implementación en el lenguaje:\n",
    "* Clases\n",
    "* Objetos\n",
    "* Atributos\n",
    "* Métodos\n",
    "\n",
    "En este paradigma, cobra importancia conceptos como _abstracción de datos, encapsulamiento , y modularización_ .\n",
    "\n",
    "<div class=\"alert alert-block alert-info\">\n",
    "Una <b>clase</b> podría definirse como una plantilla para crear objetos.  Un <b>objeto</b> es una <i>instancia</i> de una <i>objeto</i> , con todos los atributos y métodos que actuan sobre esos atributos.</div>\n",
    "\n",
    "Un ejemplo muy común para ilsutrar el concepto, consta de pensar una **clase** como un plano o un boceto o prototipo de un objeto por ejemplo un auto; y un **objeto** como los diferentes modelos de auto que se pueden producir a partir de ese plano.\n",
    "\n",
    "A partir de eso, cada objeto de _tipo_ auto, tiene sus propios atributos y se comporta de una determinada manera.\n",
    "\n",
    "<img src=\"./assets/objects1.png\"/>"
   ]
  },
  {
   "cell_type": "code",
   "execution_count": null,
   "metadata": {},
   "outputs": [],
   "source": []
  }
 ],
 "metadata": {
  "kernelspec": {
   "display_name": "Python 3",
   "language": "python",
   "name": "python3"
  },
  "language_info": {
   "codemirror_mode": {
    "name": "ipython",
    "version": 3
   },
   "file_extension": ".py",
   "mimetype": "text/x-python",
   "name": "python",
   "nbconvert_exporter": "python",
   "pygments_lexer": "ipython3",
   "version": "3.7.6"
  }
 },
 "nbformat": 4,
 "nbformat_minor": 2
}
