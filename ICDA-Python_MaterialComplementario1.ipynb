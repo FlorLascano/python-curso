{
 "cells": [
  {
   "cell_type": "markdown",
   "metadata": {},
   "source": [
    "<img src=\"assets/socalo-ICDA.png\">"
   ]
  },
  {
   "cell_type": "markdown",
   "metadata": {},
   "source": [
    "\n"
   ]
  },
  {
   "cell_type": "markdown",
   "metadata": {},
   "source": [
    "# Python para Finanzas y Ciencia de Datos\n",
    "Federico Brun | fedejbrun@gmail.com\n",
    "\n",
    "_Material complementario_"
   ]
  },
  {
   "cell_type": "markdown",
   "metadata": {},
   "source": [
    "## Programación Orientada a Objetos en Python"
   ]
  },
  {
   "cell_type": "markdown",
   "metadata": {},
   "source": [
    "<img src=\"https://files.realpython.com/media/Object-Oriented-Programming-OOP-in-Python-3_Watermarked.0d29780806d5.jpg\">\n",
    "\n",
    "_Fuente: realpython.com_"
   ]
  },
  {
   "cell_type": "markdown",
   "metadata": {},
   "source": [
    "Hasta ahora, venimos trabajando con el paradigma de la Programación Orientada a Objetos (OOP) en Python, pero sin haberlo abordado de manera directa.\n",
    "\n",
    "De hecho, venimos trabajando con una mezcla de dos paradigmas sin haberlos abordado de manera directa: la OOP y la Programación Estructurada o Secuencial. \n",
    "\n",
    "En esta clase veremos las diferencias entre una y otra, profundizando con ejemplos que integren todo el estudio que ya hemos realizado orientado a la OOP."
   ]
  },
  {
   "cell_type": "markdown",
   "metadata": {},
   "source": [
    "## Paradigmas de Programación\n",
    "\n",
    "Un paradigma de programación es un marco conceptual, un conjunto de ideas que describe una forma de entender la construcción de programa, como tal define:\n",
    "* Las herramientas conceptuales que se pueden utilizar para construir un programa (objetos, relaciones, funciones, instrucciones).\n",
    "* Las formas válidas de combinarlas.\n",
    "\n",
    "Al ser Python un lenguaje de programación multipropósito, podemos implementar las herramientas conceptuales propias de cada paradigma."
   ]
  },
  {
   "cell_type": "markdown",
   "metadata": {},
   "source": [
    "Una definicion sencilla de cada uno de los paradigmas que hemos trabajado en el curso es la que sigue:\n",
    "\n",
    "**Programación Estructurada**: Secuencia ordenada de instrucciones que puede bifurcar y/o interrumpir el flujo de ejecución del programa.\n",
    "\n",
    "**Programación Orientada a Objetos**: En este modelo de paradigma se construyen modelos de objetos que representan elementos (objetos) del problema a resolver, que tienen características y funciones. "
   ]
  },
  {
   "cell_type": "markdown",
   "metadata": {},
   "source": [
    "## OOP en Python\n",
    "\n",
    "Permite separar los diferentes componentes de un programa, simplificando así su creación, depuración y posteriores mejoras. La programación orientada a objetos disminuye los errores y promociona la reutilización del código. Es una manera especial de programar, que se acerca de alguna manera a cómo expresaríamos las cosas en la vida real.\n",
    "\n",
    "En la OOP, definimos los siguientes componentes que tienen su correspondiente implementación en el lenguaje:\n",
    "* Clases\n",
    "* Objetos\n",
    "* Atributos\n",
    "* Métodos\n",
    "\n",
    "En este paradigma, cobra importancia conceptos como _abstracción de datos, encapsulamiento , y modularización_ .\n",
    "\n",
    "<div class=\"alert alert-block alert-info\">\n",
    "Una <b>clase</b> podría definirse como una plantilla para crear objetos.  Un <b>objeto</b> es una <i>instancia</i> de una <i>objeto</i> , con todos los atributos y métodos que actuan sobre esos atributos.</div>\n",
    "\n",
    "Un ejemplo muy común para ilsutrar el concepto, consta de pensar una **clase** como un plano o un boceto o prototipo de un objeto por ejemplo un auto; y un **objeto** como los diferentes modelos de auto que se pueden producir a partir de ese plano.\n",
    "\n",
    "A partir de eso, cada objeto de _tipo_ auto, tiene sus propios atributos y se comporta de una determinada manera.\n",
    "\n",
    "<img src=\"./assets/objects1.png\"/>"
   ]
  },
  {
   "cell_type": "markdown",
   "metadata": {},
   "source": [
    "En otras palabras, el paradigma Orientado a Objetos consiste en un efoque para modelar una porcion de la realidad que nos interesa, definiendo \"cosas\" de la vida real, y la \"relacion\" entre estas cosas. "
   ]
  },
  {
   "cell_type": "markdown",
   "metadata": {},
   "source": [
    "Veamos cómo veníamos modelando la realidad, usando los tipos de objetos básicos de Python, como por ejemplo listas, Strings y números enteros."
   ]
  },
  {
   "cell_type": "code",
   "execution_count": null,
   "metadata": {},
   "outputs": [],
   "source": [
    "alumno1 = [\"Martin\", \"Gonzales\", 19, 5234]\n",
    "alumno2 = [\"Antonia\", \"Lopez\", 9876]\n",
    "\n",
    "print(alumno1[0], alumno1[1])\n",
    "print(\"Edad: \" + str(alumno1[2]))\n",
    "print(\"Nro Legajo: \" + str(alumno1[3]))\n",
    "print()\n",
    "print(alumno2[0], alumno2[1])\n",
    "print(\"Edad: \" + str(alumno2[2]))\n",
    "print(\"Nro Legajo: \" + str(alumno2[3]))"
   ]
  },
  {
   "cell_type": "markdown",
   "metadata": {},
   "source": [
    "Usando el enfoque anterior quedan en evidencia las limitaciones de modelar la relaidad usando tipos de datos que no estan pensados para esto. Para hacer que situaciones como la anterior mas manejables, usamos clases."
   ]
  },
  {
   "cell_type": "markdown",
   "metadata": {},
   "source": [
    "**Las clases o objetos sirven para definir estructuras de datos definidas por nosotros mismos.**"
   ]
  },
  {
   "cell_type": "code",
   "execution_count": null,
   "metadata": {},
   "outputs": [],
   "source": [
    "class Car:\n",
    "    pass"
   ]
  },
  {
   "cell_type": "markdown",
   "metadata": {},
   "source": [
    "Recordemos que dijimos que las clases tienen sus propias _características_ y _comportamientos_, o en terminos mas tecnicos, **atributos** y **metodos**."
   ]
  },
  {
   "cell_type": "markdown",
   "metadata": {},
   "source": [
    "<img src=\"./assets/class.png\"/>"
   ]
  },
  {
   "cell_type": "markdown",
   "metadata": {},
   "source": [
    "Existen muchas propiedades que podemos modelar de un auto. Una vez identificadas las que necesitamos para el sistema que estemos armando, debemos definirlas.\n",
    "\n",
    "Para definirlas vamos a usar un metodo especial, llamado **constructor**."
   ]
  },
  {
   "cell_type": "code",
   "execution_count": null,
   "metadata": {},
   "outputs": [],
   "source": [
    "class Car:\n",
    "    def __init__(self, manufacturer, model, year, color, acceleration, brake):\n",
    "        self.manufacturer = manufacturer\n",
    "        self.model = model\n",
    "        self.year = year \n",
    "        self.color = color \n",
    "        self.acceleration = acceleration\n",
    "        self.brake = brake"
   ]
  },
  {
   "cell_type": "markdown",
   "metadata": {},
   "source": [
    "Arriba, acabamos de definir el constructor, es decir, el metodo que va a hacer que la clase exista, con los parámetros que le especificamos a nuestra medida."
   ]
  },
  {
   "cell_type": "markdown",
   "metadata": {},
   "source": [
    "Los atributos creados en `__init__()` se llaman **atributos de instancia** porque seran propios de cada instancia una vez sean creadas."
   ]
  },
  {
   "cell_type": "markdown",
   "metadata": {},
   "source": [
    "<img src=\"./assets/objetos.png\"/>"
   ]
  },
  {
   "cell_type": "markdown",
   "metadata": {},
   "source": [
    "<div class=\"alert alert-block alert-info\">\n",
    "El proceso de crear un <b>objeto</b> a partir de una <b>clase</b> se denomina <b>Instanciación</b>.</div>"
   ]
  },
  {
   "cell_type": "code",
   "execution_count": null,
   "metadata": {},
   "outputs": [],
   "source": [
    "class Car:\n",
    "    pass"
   ]
  },
  {
   "cell_type": "code",
   "execution_count": null,
   "metadata": {},
   "outputs": [],
   "source": [
    "sport_car = Car()\n",
    "classic_car = Car()"
   ]
  },
  {
   "cell_type": "code",
   "execution_count": null,
   "metadata": {},
   "outputs": [],
   "source": [
    "sport_car"
   ]
  },
  {
   "cell_type": "code",
   "execution_count": null,
   "metadata": {},
   "outputs": [],
   "source": [
    "classic_car"
   ]
  },
  {
   "cell_type": "code",
   "execution_count": null,
   "metadata": {},
   "outputs": [],
   "source": [
    "sport_car == classic_car"
   ]
  },
  {
   "cell_type": "markdown",
   "metadata": {},
   "source": [
    "A pesar de que `sport_car` y `classic_car` son **instancias** de la clase `Car` , representan dos **objetos** diferentes. "
   ]
  },
  {
   "cell_type": "markdown",
   "metadata": {},
   "source": [
    "Ahora vamos a instanciar los objetos nuevamente, pero pasando atributos al constructor."
   ]
  },
  {
   "cell_type": "code",
   "execution_count": null,
   "metadata": {},
   "outputs": [],
   "source": [
    "class Car:\n",
    "    def __init__(self, manufacturer, model, year, color, acceleration, brake):\n",
    "        self.manufacturer = manufacturer\n",
    "        self.model = model\n",
    "        self.year = year \n",
    "        self.color = color \n",
    "        self.acceleration = acceleration\n",
    "        self.brake = brake"
   ]
  },
  {
   "cell_type": "code",
   "execution_count": null,
   "metadata": {},
   "outputs": [],
   "source": [
    "sport_car = Car(\"Ferrari\", \"Portofino\", 2020, \"Rojo\", 320, 5)\n",
    "classic_car = Car(\"Ford\", \"T\", 1927, \"Negro\", 71, 10 )"
   ]
  },
  {
   "cell_type": "markdown",
   "metadata": {},
   "source": [
    "Dónde quedo el parámetro `self`?\n",
    "\n",
    "Cuando instanciamos un objeto de tipo `Car` , Python crea una nueva instancia y la pasa como primer parámetro al constructor, por lo que no debemos preocuparnos por `self`. \n",
    "\n",
    "Despues de haber creado los dos objetos de tipo `Car` , podemos acceder a sus atributos utilizando `.` ."
   ]
  },
  {
   "cell_type": "code",
   "execution_count": null,
   "metadata": {},
   "outputs": [],
   "source": [
    "sport_car.manufacturer"
   ]
  },
  {
   "cell_type": "code",
   "execution_count": null,
   "metadata": {},
   "outputs": [],
   "source": [
    "sport_car.model"
   ]
  },
  {
   "cell_type": "code",
   "execution_count": null,
   "metadata": {},
   "outputs": [],
   "source": [
    "classic_car.year"
   ]
  },
  {
   "cell_type": "code",
   "execution_count": null,
   "metadata": {},
   "outputs": [],
   "source": [
    "classic_car.color"
   ]
  },
  {
   "cell_type": "markdown",
   "metadata": {},
   "source": [
    "Podemos cambiar los atributos de un objeto, de forma dinámica, luego de haberlo creado. Por ejemplo si pintamos nuestra ferrari de color azul:"
   ]
  },
  {
   "cell_type": "code",
   "execution_count": null,
   "metadata": {},
   "outputs": [],
   "source": [
    "sport_car.color = \"Azul\""
   ]
  },
  {
   "cell_type": "code",
   "execution_count": null,
   "metadata": {},
   "outputs": [],
   "source": [
    "sport_car.color"
   ]
  },
  {
   "cell_type": "markdown",
   "metadata": {},
   "source": [
    "Hasta ahora definimos los atributos, nos queda definir el comportamiento de neustros objetos, o sus **metodos**:"
   ]
  },
  {
   "cell_type": "markdown",
   "metadata": {},
   "source": [
    "<img src=\"./assets/objects1.png\"/>"
   ]
  },
  {
   "cell_type": "code",
   "execution_count": null,
   "metadata": {},
   "outputs": [],
   "source": [
    "class Car:\n",
    "    def __init__(self, manufacturer, model, year, color, acceleration, brake):\n",
    "        self.manufacturer = manufacturer\n",
    "        self.model = model\n",
    "        self.year = year \n",
    "        self.color = color \n",
    "        self.acceleration = acceleration\n",
    "        self.brake = brake\n",
    "        \n",
    "    def accelerate(self, speed):\n",
    "        print(\"Acelerando hasta los \" + str(speed) + \" km/h\")\n",
    "        \n",
    "    def deaccelerate(self, speed):\n",
    "        print(\"Frenando hasta los \" + str(speed) + \" km/h\")\n",
    "        \n",
    "    def print_car(self):\n",
    "        print(\"Manufacturer: \" + self.manufacturer\n",
    "              + \"\\nModel: \" + self.model \n",
    "              + \"\\nYear: \" + str(self.year) \n",
    "              + \"\\nColor: \" + self.color \n",
    "              + \"\\nAcceleration: \" + str(self.acceleration) \n",
    "              + \"\\nBrake: \" + str(self.brake)\n",
    "             )"
   ]
  },
  {
   "cell_type": "code",
   "execution_count": null,
   "metadata": {},
   "outputs": [],
   "source": [
    "sport_car = Car(\"Ferrari\", \"Portofino\", 2020, \"Rojo\", 320, 5)\n",
    "classic_car = Car(\"Ford\", \"T\", 1927, \"Negro\", 71, 10 )"
   ]
  },
  {
   "cell_type": "code",
   "execution_count": null,
   "metadata": {},
   "outputs": [],
   "source": [
    "sport_car.print_car()"
   ]
  },
  {
   "cell_type": "code",
   "execution_count": null,
   "metadata": {},
   "outputs": [],
   "source": [
    "classic_car.print_car()"
   ]
  },
  {
   "cell_type": "code",
   "execution_count": null,
   "metadata": {},
   "outputs": [],
   "source": [
    "sport_car.accelerate(250)"
   ]
  },
  {
   "cell_type": "code",
   "execution_count": null,
   "metadata": {},
   "outputs": [],
   "source": [
    "classic_car.deaccelerate(10)"
   ]
  },
  {
   "cell_type": "markdown",
   "metadata": {},
   "source": [
    "Esta estructura de datos definida por nosotros mismos, soporta todo lo que ya venimos estudiando. \n",
    "\n",
    "Probemos con otro ejemplo:"
   ]
  },
  {
   "cell_type": "markdown",
   "metadata": {},
   "source": [
    "<img src=\"./assets/students.png\">"
   ]
  },
  {
   "cell_type": "code",
   "execution_count": null,
   "metadata": {},
   "outputs": [],
   "source": [
    "class Student:\n",
    "    def __init__(self, name, surname, dni, birthday, grades={}):\n",
    "        self.name = name\n",
    "        self.surname = surname\n",
    "        self.dni = dni\n",
    "        self.birthday =  birthday\n",
    "        self.grades = grades\n",
    "        \n",
    "    def present(self):\n",
    "        print(f\"Hola, mi nombre es {self.name}{self.surname}\")\n",
    "        print(f\"Mi DNI es {self.dni}\")\n",
    "        print(\"Y soy alumno del curso Python para Finazas y Ciencia de Datos\")\n",
    "        \n",
    "    def show_dni(self):\n",
    "        return self.dni\n",
    "    \n",
    "    def show_grades(self):\n",
    "        if len(self.grades) == 0:\n",
    "            print(\"Todavía no tengo notas cargadas en el sistema.\")\n",
    "        else:\n",
    "            print(\"Mis notas del curso fueron:\")            \n",
    "            for key in self.grades.keys():\n",
    "                print(key, self.grades.get(key))\n",
    "                "
   ]
  },
  {
   "cell_type": "markdown",
   "metadata": {},
   "source": [
    "Definimos a Emanuel:"
   ]
  },
  {
   "cell_type": "code",
   "execution_count": null,
   "metadata": {},
   "outputs": [],
   "source": [
    "import datetime\n",
    "\n",
    "birthday = datetime.date(1995, 9, 12)\n",
    "emanuel = Student(\"Emanuel\", \"Lopez\", 34896987, birthday)"
   ]
  },
  {
   "cell_type": "code",
   "execution_count": null,
   "metadata": {},
   "outputs": [],
   "source": [
    "emanuel.present()"
   ]
  },
  {
   "cell_type": "code",
   "execution_count": null,
   "metadata": {},
   "outputs": [],
   "source": [
    "emanuel.show_grades()"
   ]
  },
  {
   "cell_type": "code",
   "execution_count": null,
   "metadata": {},
   "outputs": [],
   "source": [
    "print(\"Fecha de nacimiento de\", emanuel.name, emanuel.surname)\n",
    "print(emanuel.birthday)"
   ]
  },
  {
   "cell_type": "code",
   "execution_count": null,
   "metadata": {},
   "outputs": [],
   "source": [
    "print(\"DNI de\", emanuel.name, emanuel.surname)\n",
    "print(emanuel.show_dni())"
   ]
  },
  {
   "cell_type": "markdown",
   "metadata": {},
   "source": [
    "Definimos a Sofia:"
   ]
  },
  {
   "cell_type": "code",
   "execution_count": null,
   "metadata": {},
   "outputs": [],
   "source": [
    "notas_sofia = {'Tarea 1': 10,\n",
    "               'Tarea 2': 8,\n",
    "               'Tarea 3': 7,\n",
    "               'Tarea 4': 9}\n",
    "birthday = datetime.date(1995, 6, 7)\n",
    "sofia = Student(\"Sofia\", \"Martinez\", 35983789, birthday, notas_sofia)"
   ]
  },
  {
   "cell_type": "code",
   "execution_count": null,
   "metadata": {},
   "outputs": [],
   "source": [
    "sofia.present()"
   ]
  },
  {
   "cell_type": "code",
   "execution_count": null,
   "metadata": {},
   "outputs": [],
   "source": [
    "sofia.show_grades()"
   ]
  },
  {
   "cell_type": "code",
   "execution_count": null,
   "metadata": {},
   "outputs": [],
   "source": [
    "print(\"Fecha de nacimiento de\", sofia.name, sofia.surname)\n",
    "print(sofia.birthday)"
   ]
  },
  {
   "cell_type": "code",
   "execution_count": null,
   "metadata": {},
   "outputs": [],
   "source": [
    "print(\"DNI de\", sofia.name, sofia.surname)\n",
    "print(sofia.show_dni())"
   ]
  },
  {
   "cell_type": "markdown",
   "metadata": {},
   "source": [
    "Ya se cargaron en el sistema las notas de Emanuel!"
   ]
  },
  {
   "cell_type": "code",
   "execution_count": null,
   "metadata": {},
   "outputs": [],
   "source": [
    "notas_emanuel = {'Tarea 1': 6,\n",
    "               'Tarea 2': 9,\n",
    "               'Tarea 3': 9,\n",
    "               'Tarea 4': 8}\n",
    "emanuel.grades = notas_emanuel"
   ]
  },
  {
   "cell_type": "code",
   "execution_count": null,
   "metadata": {},
   "outputs": [],
   "source": [
    "emanuel.show_grades()"
   ]
  },
  {
   "cell_type": "markdown",
   "metadata": {},
   "source": [
    "---"
   ]
  },
  {
   "cell_type": "markdown",
   "metadata": {},
   "source": [
    "### Poruqué es importante conocer la OPP en Python"
   ]
  },
  {
   "cell_type": "markdown",
   "metadata": {},
   "source": [
    "Porque en Python **todo es un objeto !**\n",
    "\n",
    "De hecho, venimos usando OOP sin haberla abordado directamente. Veamos algunos ejemplos:"
   ]
  },
  {
   "cell_type": "code",
   "execution_count": null,
   "metadata": {},
   "outputs": [],
   "source": [
    "import pandas as pd\n",
    "\n",
    "df = pd.DataFrame(columns=['A', 'B', 'C'], data=[[4, 2, 6],[2, 6, 6] ,[6, 3, 8] ])\n",
    "df"
   ]
  },
  {
   "cell_type": "markdown",
   "metadata": {},
   "source": [
    "A partir de la clase `DataFrame` creamos una instancia `df` que es un **objeto**."
   ]
  },
  {
   "cell_type": "code",
   "execution_count": null,
   "metadata": {},
   "outputs": [],
   "source": [
    "df.columns"
   ]
  },
  {
   "cell_type": "markdown",
   "metadata": {},
   "source": [
    "`columns` es un **atributo** del objeto `df`."
   ]
  },
  {
   "cell_type": "code",
   "execution_count": null,
   "metadata": {},
   "outputs": [],
   "source": [
    "df.cumsum()"
   ]
  },
  {
   "cell_type": "markdown",
   "metadata": {},
   "source": [
    "`cumsum()` es un **método** del objeto `df`."
   ]
  },
  {
   "cell_type": "markdown",
   "metadata": {},
   "source": [
    "Cómo diferenciamos uno de otro, gracias a <a href=\"https://pep8.org/\" target=\"_blank\">PEP8</a>:\n",
    "* Clase()\n",
    "* atributo\n",
    "* metodo()"
   ]
  },
  {
   "cell_type": "code",
   "execution_count": null,
   "metadata": {},
   "outputs": [],
   "source": [
    "import plotly.graph_objects as go"
   ]
  },
  {
   "cell_type": "code",
   "execution_count": null,
   "metadata": {},
   "outputs": [],
   "source": [
    "mi_grafico = go.Figure()"
   ]
  },
  {
   "cell_type": "markdown",
   "metadata": {},
   "source": [
    "A partir de la clase `Figure` creamos una instancia `mi_grafico` que es un **objeto**."
   ]
  },
  {
   "cell_type": "code",
   "execution_count": null,
   "metadata": {},
   "outputs": [],
   "source": [
    "mi_grafico.add_trace(go.Bar(x=df.index,\n",
    "                     y=df['A']))"
   ]
  },
  {
   "cell_type": "markdown",
   "metadata": {},
   "source": [
    "`add_trace()` es un **método** del objeto `mi_grafico`."
   ]
  },
  {
   "cell_type": "code",
   "execution_count": null,
   "metadata": {},
   "outputs": [],
   "source": [
    "mi_grafico.data"
   ]
  },
  {
   "cell_type": "markdown",
   "metadata": {},
   "source": [
    "`data` es un **atributo** del objeto `mi_grafico`."
   ]
  },
  {
   "cell_type": "markdown",
   "metadata": {},
   "source": [
    "Ahora no solo vamos a poder entender mejor el código de otros programadores, sino que vamos a poder también definir nuestras propias estructuras de datos, a la medida de neustra necesidades, combinando muchos de los conceptos que ya hemos tratado.\n",
    "\n",
    "De esta forma, agregamos versatilidad a nuestros sistemas, pudiendo integrar tipos de datos por defecto, junto a estructuras de datos propias.\n",
    "\n",
    "El paradigma de la OOP nos permite entonces reutilizar código para modularizar nuestro sistema."
   ]
  },
  {
   "cell_type": "code",
   "execution_count": null,
   "metadata": {},
   "outputs": [],
   "source": [
    "class Curso:\n",
    "    def __init__(self, course_name, days, students=[]):\n",
    "        self.course_name = course_name\n",
    "        self.students = students\n",
    "        self.days = days\n",
    "        \n",
    "    def add_new_student(self, student):\n",
    "        self.students.append(student)\n",
    "        \n",
    "    def show_students(self):\n",
    "        print(\"La lista completa de estudiantes es:\")\n",
    "        for student in self.students:\n",
    "            print(student.name, student.surname)\n",
    "    \n",
    "    def show_days(self):\n",
    "        print(\"El curso se dicta todos los\", self.days)"
   ]
  },
  {
   "cell_type": "code",
   "execution_count": null,
   "metadata": {},
   "outputs": [],
   "source": [
    "curso_python = Curso(\"Python para Finazas y Ciencia de Datos\", \"Jueves\", [emanuel, sofia])"
   ]
  },
  {
   "cell_type": "code",
   "execution_count": null,
   "metadata": {},
   "outputs": [],
   "source": [
    "print(curso_python.course_name)\n",
    "curso_python.show_days()"
   ]
  },
  {
   "cell_type": "code",
   "execution_count": null,
   "metadata": {},
   "outputs": [],
   "source": [
    "curso_python.show_students()"
   ]
  },
  {
   "cell_type": "code",
   "execution_count": null,
   "metadata": {},
   "outputs": [],
   "source": [
    "curso_proba = Curso(\"Probabilidad y estadística I\", \"Lunes\")"
   ]
  },
  {
   "cell_type": "code",
   "execution_count": null,
   "metadata": {},
   "outputs": [],
   "source": [
    "print(curso_proba.course_name)\n",
    "curso_proba.show_days()"
   ]
  },
  {
   "cell_type": "code",
   "execution_count": null,
   "metadata": {},
   "outputs": [],
   "source": [
    "agustina = Student(\"Agustina\", \"Torres\", 39345789, birthday)"
   ]
  },
  {
   "cell_type": "code",
   "execution_count": null,
   "metadata": {},
   "outputs": [],
   "source": [
    "curso_proba.show_students()"
   ]
  },
  {
   "cell_type": "code",
   "execution_count": null,
   "metadata": {},
   "outputs": [],
   "source": [
    "curso_proba.add_new_student(agustina)"
   ]
  },
  {
   "cell_type": "code",
   "execution_count": null,
   "metadata": {},
   "outputs": [],
   "source": [
    "curso_proba.show_students()"
   ]
  },
  {
   "cell_type": "code",
   "execution_count": null,
   "metadata": {},
   "outputs": [],
   "source": [
    "curso_proba.add_new_student(emanuel)\n",
    "curso_proba.add_new_student(sofia)"
   ]
  },
  {
   "cell_type": "code",
   "execution_count": null,
   "metadata": {},
   "outputs": [],
   "source": [
    "curso_proba.show_students()"
   ]
  }
 ],
 "metadata": {
  "kernelspec": {
   "display_name": "Python 3",
   "language": "python",
   "name": "python3"
  },
  "language_info": {
   "codemirror_mode": {
    "name": "ipython",
    "version": 3
   },
   "file_extension": ".py",
   "mimetype": "text/x-python",
   "name": "python",
   "nbconvert_exporter": "python",
   "pygments_lexer": "ipython3",
   "version": "3.7.6"
  }
 },
 "nbformat": 4,
 "nbformat_minor": 2
}
