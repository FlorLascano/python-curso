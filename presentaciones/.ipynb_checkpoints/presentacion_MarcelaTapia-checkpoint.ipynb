{
 "cells": [
  {
   "cell_type": "markdown",
   "metadata": {},
   "source": [
    "<img src=\"Fig2b.png\"/>"
   ]
  },
  {
   "cell_type": "markdown",
   "metadata": {},
   "source": [
    "<img src=\"perfilbco.png\"/>"
   ]
  },
  {
   "cell_type": "markdown",
   "metadata": {},
   "source": [
    "### Nombre: \n",
    "Marcela Tapia\n",
    "\n",
    "### Profesion:\n",
    "Contadora\n",
    "#### Linkedin: www.linkedin.com/in/marcela-tapia-967421180"
   ]
  },
  {
   "cell_type": "code",
   "execution_count": 1,
   "metadata": {},
   "outputs": [
    {
     "name": "stdout",
     "output_type": "stream",
     "text": [
      "Celular: 351 3484420\n"
     ]
    }
   ],
   "source": [
    "y = 3484420\n",
    "x = 351\n",
    "print (\"Celular:\", x, y)"
   ]
  },
  {
   "cell_type": "markdown",
   "metadata": {},
   "source": [
    "#### Les cuento un poco de mi:\n",
    "Soy mama orgullosa de Valentino, tiene 12 años y me gusta en mis tiempos libres: leer, salir a caminar, cocinar, compartir en familia y con amigos. \n",
    "Practico Yoga 1 vez por semana y este año comence a cursar la Especializacion en Direcccion de Finanzas en el ICDA, todo un desafio que disfruto y supero mis expectativas."
   ]
  },
  {
   "cell_type": "markdown",
   "metadata": {},
   "source": [
    "#### Empresa Actual:\n",
    "BANCOR - Gerencia de Recursos Financieros\n",
    "<img src=\"divisas.png\"/>"
   ]
  },
  {
   "cell_type": "markdown",
   "metadata": {},
   "source": [
    "#### Puesto Actual:\n",
    "Analista de Mercado de Cambio "
   ]
  },
  {
   "cell_type": "markdown",
   "metadata": {},
   "source": [
    "<img src=\"OIP.png\"/>"
   ]
  },
  {
   "cell_type": "markdown",
   "metadata": {},
   "source": [
    "### Conocimiento Programacion:\n",
    "Introduccion y manejo de PYTHON en la materia: Matematica Aplicada a las Finanzas\n",
    "#### Docente: Jonatan Saul\n",
    "#### Especialización en Dirección de Finanzas (EFIN Cohorte 2020) \n",
    "#### ICDA - Universidad Católica de Córdoba"
   ]
  },
  {
   "cell_type": "markdown",
   "metadata": {},
   "source": [
    "<img src=\"Imagen1.png\"/>"
   ]
  },
  {
   "cell_type": "markdown",
   "metadata": {},
   "source": [
    "<img src=\"Fig.png\">"
   ]
  },
  {
   "cell_type": "code",
   "execution_count": null,
   "metadata": {},
   "outputs": [],
   "source": []
  }
 ],
 "metadata": {
  "kernelspec": {
   "display_name": "Python 3",
   "language": "python",
   "name": "python3"
  },
  "language_info": {
   "codemirror_mode": {
    "name": "ipython",
    "version": 3
   },
   "file_extension": ".py",
   "mimetype": "text/x-python",
   "name": "python",
   "nbconvert_exporter": "python",
   "pygments_lexer": "ipython3",
   "version": "3.7.6"
  }
 },
 "nbformat": 4,
 "nbformat_minor": 4
}
