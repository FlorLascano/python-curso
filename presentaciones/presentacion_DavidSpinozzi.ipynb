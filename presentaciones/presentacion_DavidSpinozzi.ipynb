{
 "cells": [
  {
   "cell_type": "markdown",
   "metadata": {},
   "source": [
    "# David Spinozzi\n",
    "\n",
    "### Presentación \n",
    "\n",
    "Hola a todos! Mi nombre es David Spinozzi.\n",
    "\n",
    "Me dicen ***El Pelado***.\n",
    "\n",
    "Nací en la ciudad de **Rosario de Santa Fe, Argentina**.\n",
    "\n",
    "Soy economista estudie y me recibi junto con el doctor Saul, actualmente trabajo en mis empresas, tengo una ***empresa importadora*** y una ***consultora***. Me encanta el ***trading*** y las ***finanzas***, pero actualmente hago mas las funciones de ***gestión de mis mepresas***. \n",
    "\n",
    "Mi expectativa del curso es poder aprender este amplio lenguaje de programación, para despues aplicarlo en un proyecto ***Fintech*** que actualmente estoy desarrollando."
   ]
  },
  {
   "cell_type": "markdown",
   "metadata": {},
   "source": [
    "### Sobre mí\n",
    "\n",
    "* Me encanta estar con mi familia, leer y escuchar musica. \n",
    "* Soy hincha de rosario central. Lamentablemente tengo una mala anecdota con el Dr Saul, cuando fuimos a rosario y nos gano talleres de local. \n",
    "* Me encanta viajar y conocer otras partes del mundo, descubrir como vive la gente en otros lugares.\n",
    "* Disfruto de una buena copa de vino\n",
    "---\n",
    "\n",
    "### Mi frase favorita:\n",
    "> \"Cuando baja la marea, ***se observa quien estaba nadando desnudo*** \" - Warren Buffet "
   ]
  },
  {
   "cell_type": "markdown",
   "metadata": {},
   "source": []
  }
 ],
 "metadata": {
  "kernelspec": {
   "display_name": "Python 3",
   "language": "python",
   "name": "python3"
  },
  "language_info": {
   "codemirror_mode": {
    "name": "ipython",
    "version": 3
   },
   "file_extension": ".py",
   "mimetype": "text/x-python",
   "name": "python",
   "nbconvert_exporter": "python",
   "pygments_lexer": "ipython3",
   "version": "3.8.3"
  }
 },
 "nbformat": 4,
 "nbformat_minor": 4
}
