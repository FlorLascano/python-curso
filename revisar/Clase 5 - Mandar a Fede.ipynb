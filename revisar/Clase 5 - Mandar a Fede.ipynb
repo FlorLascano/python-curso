{
 "cells": [
  {
   "cell_type": "code",
   "execution_count": 1,
   "metadata": {},
   "outputs": [],
   "source": [
    "my_clients=[[\"Maria Magdalena Casas\", 36354348, \"maguicasas33@gmail.com\"],\n",
    "             [\"Maria Angelica Casas\",35483574, \"aquicasas@hotmail.com\"],\n",
    "             [\"Solange Wirth\", 25638475,\"solyw@gmail.com\"],\n",
    "             [\"Ana Maria Villegas\", 16506384, \"a.villegas@yahoo.com.ar\"],\n",
    "             [\"Jorge Zinny\", 10741982, \"zinny.j@gmail.com\"],\n",
    "             [\"Carlos Carranza\", 36211983, \"cacho92@gmail.com\"]]\n"
   ]
  },
  {
   "cell_type": "code",
   "execution_count": 2,
   "metadata": {},
   "outputs": [
    {
     "name": "stdout",
     "output_type": "stream",
     "text": [
      "Bienvenido/a Maria Magdalena Casas a tu homebanking!\n",
      "Bienvenido/a Maria Angelica Casas a tu homebanking!\n",
      "Bienvenido/a Solange Wirth a tu homebanking!\n",
      "Bienvenido/a Ana Maria Villegas a tu homebanking!\n",
      "Bienvenido/a Jorge Zinny a tu homebanking!\n",
      "Bienvenido/a Carlos Carranza a tu homebanking!\n"
     ]
    }
   ],
   "source": [
    "#consigna 1 tarea clase 5\n",
    "\n",
    "def welcome():\n",
    "    \n",
    "    for client in my_clients:\n",
    "        \n",
    "        print(\"Bienvenido/a\"+\" \" + str(client[0])+ \" a tu homebanking!\")\n",
    "\n",
    "welcome()"
   ]
  },
  {
   "cell_type": "markdown",
   "metadata": {},
   "source": [
    "# Punto 2 estado de cuenta"
   ]
  },
  {
   "cell_type": "code",
   "execution_count": 3,
   "metadata": {},
   "outputs": [],
   "source": [
    "#Saldo clientes para manejar estado de cuenta\n",
    "\n",
    "saldo_Caja_de_ahorro_Casas=30000\n",
    "consumo_Casas=10000\n",
    "saldo_Casas= (saldo_Caja_de_ahorro_Casas - consumo_Casas)\n",
    "\n",
    "\n",
    "saldo_Caja_de_ahorro_ACasas=2000\n",
    "consumo_ACasas=10000\n",
    "saldo_ACasas= (saldo_Caja_de_ahorro_ACasas - consumo_ACasas)\n",
    "\n",
    "\n",
    "saldo_Caja_de_ahorro_Wirth=500000\n",
    "consumo_Wirth=100\n",
    "saldo_Wirth= (saldo_Caja_de_ahorro_Wirth - consumo_Wirth)\n",
    "\n",
    "saldo_Caja_de_ahorro_Villegas=30000\n",
    "consumo_Villegas=15000\n",
    "saldo_Villegas= (saldo_Caja_de_ahorro_Villegas - consumo_Villegas)\n",
    "\n",
    "saldo_Caja_de_ahorro_Zinny=70000\n",
    "consumo_Zinny=1500\n",
    "saldo_Zinny= (saldo_Caja_de_ahorro_Zinny - consumo_Zinny)\n",
    "\n",
    "saldo_Caja_de_ahorro_Carranza=90000\n",
    "consumo_Carranza=60000\n",
    "saldo_Carranza= (saldo_Caja_de_ahorro_Carranza - consumo_Carranza)"
   ]
  },
  {
   "cell_type": "markdown",
   "metadata": {},
   "source": [
    "## Redefini las listas"
   ]
  },
  {
   "cell_type": "code",
   "execution_count": 6,
   "metadata": {},
   "outputs": [],
   "source": [
    "saldo_f=[[saldo_Caja_de_ahorro_Casas,consumo_Casas],\n",
    "         [saldo_Caja_de_ahorro_ACasas,consumo_ACasas],\n",
    "         [saldo_Caja_de_ahorro_Wirth,consumo_Wirth],\n",
    "         [saldo_Caja_de_ahorro_Villegas,consumo_Villegas],\n",
    "         [saldo_Caja_de_ahorro_Zinny,consumo_Zinny],\n",
    "         [saldo_Caja_de_ahorro_Carranza,consumo_Carranza]]\n",
    "\n",
    "my_clients=[[\"Maria Magdalena Casas\", 36354348, \"maguicasas33@gmail.com\",saldo_Casas] ,\n",
    "             [\"Maria Angelica Casas\",35483574, \"aquicasas@hotmail.com\",saldo_ACasas] ,\n",
    "             [\"Solange Wirth\", 25638475,\"solyw@gmail.com\", saldo_Wirth],\n",
    "             [\"Ana Maria Villegas\", 16506384, \"a.villegas@yahoo.com.ar\", saldo_Villegas],\n",
    "             [\"Jorge Zinny\", 10741982, \"zinny.j@gmail.com\", saldo_Zinny],\n",
    "             [\"Carlos Carranza\", 36211983, \"cacho92@gmail.com\", saldo_Carranza]]"
   ]
  },
  {
   "cell_type": "code",
   "execution_count": 7,
   "metadata": {},
   "outputs": [
    {
     "data": {
      "text/plain": [
       "[[30000, 10000],\n",
       " [2000, 10000],\n",
       " [500000, 100],\n",
       " [30000, 15000],\n",
       " [70000, 1500],\n",
       " [90000, 60000]]"
      ]
     },
     "execution_count": 7,
     "metadata": {},
     "output_type": "execute_result"
    }
   ],
   "source": [
    "saldo_f"
   ]
  },
  {
   "cell_type": "code",
   "execution_count": 8,
   "metadata": {},
   "outputs": [
    {
     "data": {
      "text/plain": [
       "[['Maria Magdalena Casas', 36354348, 'maguicasas33@gmail.com', 20000],\n",
       " ['Maria Angelica Casas', 35483574, 'aquicasas@hotmail.com', -8000],\n",
       " ['Solange Wirth', 25638475, 'solyw@gmail.com', 499900],\n",
       " ['Ana Maria Villegas', 16506384, 'a.villegas@yahoo.com.ar', 15000],\n",
       " ['Jorge Zinny', 10741982, 'zinny.j@gmail.com', 68500],\n",
       " ['Carlos Carranza', 36211983, 'cacho92@gmail.com', 30000]]"
      ]
     },
     "execution_count": 8,
     "metadata": {},
     "output_type": "execute_result"
    }
   ],
   "source": [
    "my_clients"
   ]
  },
  {
   "cell_type": "markdown",
   "metadata": {},
   "source": [
    "### Cuando pruebo con la funcion, me salta error. ¿por qué no puedo sacar el dato de una lista?.\n",
    "* ¿Como hago para que calcule el saldo para TODOS mis clientes? -  cuando tengo que definir la variable antes de la funcion, no me deja dejarla vacia y asi no puedo usarla para todos. \n",
    "\n",
    "* Si np defino las variable arriba, tampoco me deja hacerlo porque me dice que los valores que yo quiero usar, estan en formato lista."
   ]
  },
  {
   "cell_type": "code",
   "execution_count": 9,
   "metadata": {},
   "outputs": [
    {
     "data": {
      "text/plain": [
       "20000"
      ]
     },
     "execution_count": 9,
     "metadata": {},
     "output_type": "execute_result"
    }
   ],
   "source": [
    "caja_de_ahorro=saldo_f[0][0]\n",
    "consumo=saldo_f[0][-1]\n",
    "\n",
    "def estado_de_cuenta (saldo_f, my_clients):\n",
    "\n",
    "    for cliente in my_clients:\n",
    "        cliente= my_clients[0]\n",
    "\n",
    "    for saldo in saldo_f:\n",
    "        x = caja_de_ahorro - consumo \n",
    "    return (x)\n",
    "\n",
    "    print(x)\n",
    "\n",
    "\n",
    "estado_de_cuenta(saldo_f,my_clients)\n"
   ]
  },
  {
   "cell_type": "markdown",
   "metadata": {},
   "source": [
    "## Creando un diccionario"
   ]
  },
  {
   "cell_type": "code",
   "execution_count": 23,
   "metadata": {},
   "outputs": [],
   "source": [
    "my_clients_dic= {\n",
    "    \"Magdalena Casas\" :[\"Maria Magdalena Casas\", 36354348, \"maguicasas33@gmail.com\",saldo_Casas],\n",
    "    \"Angelica Casas\": [\"Maria Angelica Casas\",35483574, \"aquicasas@hotmail.com\",saldo_ACasas],\n",
    "    \"Solange Wirth\": [\"Solange Wirth\", 25638475,\"solyw@gmail.com\", saldo_Wirth],\n",
    "     \"Ana Villegas\":[\"Ana Maria Villegas\", 16506384, \"a.villegas@yahoo.com.ar\", saldo_Villegas],\n",
    "     \"Jorge Zinny\":[\"Jorge Zinny\", 10741982, \"zinny.j@gmail.com\", saldo_Zinny],\n",
    "     \"Carlos Carranza\":[\"Carlos Carranza\", 36211983, \"cacho92@gmail.com\", saldo_Carranza]\n",
    "}"
   ]
  },
  {
   "cell_type": "code",
   "execution_count": 31,
   "metadata": {},
   "outputs": [
    {
     "data": {
      "text/plain": [
       "20000"
      ]
     },
     "execution_count": 31,
     "metadata": {},
     "output_type": "execute_result"
    }
   ],
   "source": [
    "my_clients_dic.get(\"Magdalena Casas\")[-1]"
   ]
  },
  {
   "cell_type": "code",
   "execution_count": 43,
   "metadata": {},
   "outputs": [
    {
     "name": "stdout",
     "output_type": "stream",
     "text": [
      "Magdalena Casas\n",
      "Angelica Casas\n",
      "Solange Wirth\n",
      "Ana Villegas\n",
      "Jorge Zinny\n",
      "Carlos Carranza\n"
     ]
    }
   ],
   "source": [
    "for key in my_clients_dic:\n",
    "    print(key)"
   ]
  },
  {
   "cell_type": "markdown",
   "metadata": {},
   "source": [
    "# No me deja operar ni sacar los datos del diccionario"
   ]
  },
  {
   "cell_type": "code",
   "execution_count": 53,
   "metadata": {},
   "outputs": [
    {
     "ename": "SyntaxError",
     "evalue": "invalid syntax (<ipython-input-53-e8bc786c0f14>, line 1)",
     "output_type": "error",
     "traceback": [
      "\u001b[1;36m  File \u001b[1;32m\"<ipython-input-53-e8bc786c0f14>\"\u001b[1;36m, line \u001b[1;32m1\u001b[0m\n\u001b[1;33m    def estado_cuenta (saldo_f, my_clients_dic)\u001b[0m\n\u001b[1;37m                                               ^\u001b[0m\n\u001b[1;31mSyntaxError\u001b[0m\u001b[1;31m:\u001b[0m invalid syntax\n"
     ]
    }
   ],
   "source": [
    "def estado_cuenta (saldo_f, my_clients_dic)\n",
    "        \n",
    "    for saldo in saldo_f:\n",
    "        names = my_clients_dic.get(key)\n",
    "        estado_f = sald_f[0] -saldo_f[1] #no me deja operar por ser parte de una lista\n",
    "        print(f\"Esrimado\" + names +\" el estado de su cuenta es\"{estado_f}\")"
   ]
  },
  {
   "cell_type": "markdown",
   "metadata": {},
   "source": [
    "## ¿Como hago esta funcion par todos?"
   ]
  },
  {
   "cell_type": "code",
   "execution_count": null,
   "metadata": {},
   "outputs": [],
   "source": [
    "\n",
    "def mail_estado (estado, fecha_de_hoy, fecha_vencimiento):\n",
    "    if estado < 0:\n",
    "        print(\"En el día de hoy \" + str(fecha_de_hoy))\n",
    "        print(\"Registra un saldo impago de $\" + str(estado))\n",
    "        print(\"Recuerde que tiene hasta el \" + str(fecha_vencimiento) + \" para realizar el pago, sino se aplicarán intereses\")\n",
    "    else:\n",
    "        print(\"En el día de hoy \" + str(fecha_de_hoy) +\" \" \"no registra saldos adeudados\")"
   ]
  }
 ],
 "metadata": {
  "kernelspec": {
   "display_name": "Python 3",
   "language": "python",
   "name": "python3"
  },
  "language_info": {
   "codemirror_mode": {
    "name": "ipython",
    "version": 3
   },
   "file_extension": ".py",
   "mimetype": "text/x-python",
   "name": "python",
   "nbconvert_exporter": "python",
   "pygments_lexer": "ipython3",
   "version": "3.7.3"
  }
 },
 "nbformat": 4,
 "nbformat_minor": 4
}
