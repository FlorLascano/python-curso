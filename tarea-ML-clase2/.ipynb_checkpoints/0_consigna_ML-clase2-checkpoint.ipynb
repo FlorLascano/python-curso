{
 "cells": [
  {
   "cell_type": "markdown",
   "metadata": {},
   "source": [
    "<img src=\"../assets/socalo-ICDA.png\">"
   ]
  },
  {
   "cell_type": "markdown",
   "metadata": {},
   "source": [
    "# Python para Finazas y Ciencia de Datos"
   ]
  },
  {
   "cell_type": "markdown",
   "metadata": {},
   "source": [
    "# Tarea\n",
    "<img src=\"https://files.realpython.com/media/python-basics-wide2.f73a9e9bf9b8.jpg\"/>"
   ]
  },
  {
   "cell_type": "markdown",
   "metadata": {},
   "source": [
    "\n",
    "##### Formato de entrega\n",
    "* Crear una nueva Jupyter Notebook implementando las funcionalidades requeridas.\n",
    "* Guardar la jupyter notebook con el siguiente formato de nombre:\n",
    "```\n",
    "            tarea_ML_clase2_NombreApellido.ipynb\n",
    "    EJEMPLO:tarea_ML_clase2_ArielWolfmann.ipynb\n",
    "```    \n",
    "    \n",
    "* Enviar Jupyter Notebook por mail."
   ]
  },
  {
   "cell_type": "markdown",
   "metadata": {},
   "source": [
    "### Consignas\n",
    "\n",
    "A partir del archivo CSV `clase8_train.csv`:\n",
    "   1. crear un dataframe.\n",
    "   2. elegir un subconjunto de 20 variables **numéricas** distintas a las utilizadas en clase para entrenar un modelo que nos permita predecir el precio (manteniendola como variable objetivo).\n",
    "   3. partir el dataframe entre train y test con un 70% para train y 30% para test.\n",
    "   4. investigar sobre alguno de los otros modelos de regresión disponibles en la librería de scikit learn que no fueron presentados en clase y entrenarlos. Ejemplos: SVR, KNeighborsRegressor, MLPRegressor, SGDRegressor, etc.\n",
    "   5.predecir sobre el conjunto de evaluación.\n",
    "   6. evaluar la performance del modelo con las métricas ya vistas (MSE, y R^2).\n",
    "   7. (opcional) evaluar la performance con alguna otra métrica de regresion. Ej: MAE, RMSE.\n",
    "    \n",
    "    "
   ]
  },
  {
   "cell_type": "markdown",
   "metadata": {},
   "source": [
    "Recuerden que pueden consultar la documentación de **Scikit Learn** https://scikit-learn.org/stable/index.html en la cual muestran casos de uso y tutoriales."
   ]
  },
  {
   "cell_type": "code",
   "execution_count": null,
   "metadata": {},
   "outputs": [],
   "source": []
  }
 ],
 "metadata": {
  "kernelspec": {
   "display_name": "Python 3",
   "language": "python",
   "name": "python3"
  },
  "language_info": {
   "codemirror_mode": {
    "name": "ipython",
    "version": 3
   },
   "file_extension": ".py",
   "mimetype": "text/x-python",
   "name": "python",
   "nbconvert_exporter": "python",
   "pygments_lexer": "ipython3",
   "version": "3.7.3"
  }
 },
 "nbformat": 4,
 "nbformat_minor": 4
}
