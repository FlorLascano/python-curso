{
 "cells": [
  {
   "cell_type": "markdown",
   "metadata": {},
   "source": [
    "# **PRESENTACION**\n",
    "## Antonio ALFONSO\n",
    "### JUJUY\n",
    "#### 13/09/2020\n",
    "Hola, mi nombre es Antonio Alfonso, soy Lic. en Administracion de Empresas, estudie en la UCC, clase 91.Vivo en Jujuy. Me dedique al comercio hasta febrero de este año. \n",
    "Actualmente me dedico a operar en la bolsa de comercio de Buenos Aires, especificamente en futuros de Rofex20 en la plataforma de Ecovalores.\n",
    "Tome algunos cursos en UCEMA y actualmente quiero conocer el potencial de Python y poder utilizarlo para mejorar mis trade, lograr eficiencia, automatizar tareas, simplificar informacion, dar ordenes automaticas, etc. etc.\n",
    "No tengo ni idea de programacion, entiendo algunos conceptos y terminologias pero por ahi me mareo, como que vengo de una estructura mental diferente y no veo el potencial de esto, manejo Office Excel Word y como que es amigable e intuitivo, esto lo veo complejo y rebuscado pero entiendo que esto es a modo de presentacion ya que por lo que investigue es un lenguage muy utilizado en inteligencia artificial. Las Clases estan bien sera hasta que me acomode por ahi me marea abrir tantas ventanas y me pierdo un poco, depende del dia...bueno ya estoy aca cuesta sentarse pero le estoy encontrando el gustito...abz!!! Hasta el Jueves..."
   ]
  },
  {
   "cell_type": "markdown",
   "metadata": {},
   "source": [
    "<img src=\"\\desktop\\antonio\\WhatsApp Image 2020-08-30 at 11.09.33.jpeg\""
   ]
  },
  {
   "cell_type": "markdown",
   "metadata": {},
   "source": [
    "no pude subir una foto ....lo veo en la semana, chauuuu"
   ]
  },
  {
   "cell_type": "code",
   "execution_count": 1,
   "metadata": {},
   "outputs": [
    {
     "ename": "SyntaxError",
     "evalue": "invalid syntax (<ipython-input-1-79ea9c15dda4>, line 1)",
     "output_type": "error",
     "traceback": [
      "\u001b[1;36m  File \u001b[1;32m\"<ipython-input-1-79ea9c15dda4>\"\u001b[1;36m, line \u001b[1;32m1\u001b[0m\n\u001b[1;33m    <img src=\"\\desktop\\antonio\\WhatsApp Image 2020-08-30 at 11.09.33.jpeg\"\u001b[0m\n\u001b[1;37m    ^\u001b[0m\n\u001b[1;31mSyntaxError\u001b[0m\u001b[1;31m:\u001b[0m invalid syntax\n"
     ]
    }
   ],
   "source": [
    "<img src=\"\\desktop\\antonio\\WhatsApp Image 2020-08-30 at 11.09.33.jpeg\""
   ]
  },
  {
   "cell_type": "code",
   "execution_count": null,
   "metadata": {},
   "outputs": [],
   "source": []
  },
  {
   "cell_type": "code",
   "execution_count": null,
   "metadata": {},
   "outputs": [],
   "source": []
  }
 ],
 "metadata": {
  "kernelspec": {
   "display_name": "Python 3",
   "language": "python",
   "name": "python3"
  },
  "language_info": {
   "codemirror_mode": {
    "name": "ipython",
    "version": 3
   },
   "file_extension": ".py",
   "mimetype": "text/x-python",
   "name": "python",
   "nbconvert_exporter": "python",
   "pygments_lexer": "ipython3",
   "version": "3.7.6"
  }
 },
 "nbformat": 4,
 "nbformat_minor": 4
}
