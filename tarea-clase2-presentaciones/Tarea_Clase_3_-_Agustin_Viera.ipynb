{
 "cells": [
  {
   "cell_type": "markdown",
   "metadata": {},
   "source": [
    "## Consigna\n",
    "\n",
    "Se nos encargó desarrollar un sistema de home banking por lo que tenemos que empezar con los primeros pasos. Por el momento solo contamos con un cliente.\n",
    "\n",
    "#### Requisitos minimos\n",
    "\n",
    "1. ~~Crear una variable para guardar el nombre del cliente.~~\n",
    "2. ~~Crear una variable para guardar el apellido del cliente.~~\n",
    "3. ~~Crear una variable para guardar el mail del cliente.~~\n",
    "4. ~~Crear una variable para guardar el DNI del cliente.~~\n",
    "5. ~~Como las variables Nombre, Apellido y DNI, **no cambiarán** , crear una variable que use una colección de datos que nos permita garantizar **inmutabilidad**.~~\n",
    "6. ~~Crear una variable con el saldo inicial de la cuenta del cliente.~~\n",
    "7. ~~Crear una variable con la cantidad de tarjetas que posee activas el cliente.~~\n",
    "8. ~~Crear una variable que contenga una **lista** de los productos que el cliente tiene dados de alta (serán \"caja de ahorro\", \"cuenta corriente\", \"tarjeta de credito\", \"tarjeta de debito\", \"plazo fijo\", \"cuenta comitente\").~~\n",
    "9. ~~Imprimir en pantalla todos los datos del cliente (Nombre, Apellido y DNI).~~\n",
    "10. ~~Imprimir en pantalla el mensaje \"Saldo inicial: \\pesos\" y agregar el saldo inicial del cliente.~~\n",
    "11. ~~Crear una variable que represente un gasto, por un valor especifico.~~\n",
    "12. ~~Restar el gasto al saldo de la cuenta del cliente.~~\n",
    "13. ~~Imprimir el mensaje \"Se realizo un gasto por \\pesos\" y agregar el monto gastado.~~\n",
    "14. ~~Informar al cliente su saldo actualizado con un mensaje pertinente.~~\n",
    "15. ~~Crear una variable que nos permita **validar** si un cliente está habilitado para pedir un prestamo o no (True o False).~~\n",
    "\n",
    "#### Requisitos extras\n",
    "1. ~~Usar comentarios en el código (no están explicados en esta libreta, debe buscar en la Clase 2 o investigar \"Comentarios en Python\" en internet).~~\n",
    "2. ~~Describir cada uno (o en grupos) los pasos de ***Requisitos minimos***, usando celdas de texto enriquecido.~~\n",
    "3. ~~Agregar una imagen de internet que sea relevante.~~ \n",
    "4. ~~Mantener el orden y la prolijidad de su libreta, al igual que hacer uso de las buenas practicas de programacion presentadas en clase (convenciones de nombres para variables).~~\n",
    "5. ~~Agregar alguna funcionalidad extra~~"
   ]
  },
  {
   "cell_type": "markdown",
   "metadata": {},
   "source": [
    "## Resolución Home Banking"
   ]
  },
  {
   "cell_type": "markdown",
   "metadata": {},
   "source": [
    "<img src=https://image.freepik.com/vector-gratis/sistema-banca-electronica-pagos-linea_82574-7477.jpg>"
   ]
  },
  {
   "cell_type": "markdown",
   "metadata": {},
   "source": [
    "#### Datos del Cliente\n",
    "Creación de variables que contienen los datos básicos del cliente (la mayoría de tipo string)."
   ]
  },
  {
   "cell_type": "code",
   "execution_count": 36,
   "metadata": {},
   "outputs": [
    {
     "name": "stdout",
     "output_type": "stream",
     "text": [
      "Nombre del Cliente: Agustín\n",
      "Apellido del Cliente: Viera\n",
      "Nombre completo del Cliente: Viera Agustín\n",
      "DNI del Cliente: 39421790\n",
      "Datos del Cliente: ('Viera', 'Agustín', 39421790)\n"
     ]
    }
   ],
   "source": [
    "client_first_name = 'Agustín'\n",
    "client_last_name = 'Viera'\n",
    "\n",
    "client_full_name = (client_last_name + ' ' + client_first_name)  #Concatenación de strings\n",
    "\n",
    "client_DNI = 39421790  #Número entero\n",
    "\n",
    "client = (client_last_name, client_first_name, client_DNI)  #Tupla para el perfil inmutable del cliente\n",
    "\n",
    "print('Nombre del Cliente: ' + client_first_name)\n",
    "print('Apellido del Cliente: ' + client_last_name)\n",
    "print('Nombre completo del Cliente: ' + client_full_name)\n",
    "print('DNI del Cliente: ' + str(client_DNI))\n",
    "print('Datos del Cliente: ' + str(client))"
   ]
  },
  {
   "cell_type": "code",
   "execution_count": 37,
   "metadata": {},
   "outputs": [
    {
     "name": "stdout",
     "output_type": "stream",
     "text": [
      "Mail del Cliente: agus_viera@hotmail.com\n",
      "Usuario: agus_viera\n",
      "Tipo de Mail: hotmail.com\n"
     ]
    }
   ],
   "source": [
    "client_mail = 'agus_viera@hotmail.com'\n",
    "\n",
    "print('Mail del Cliente: ' + client_mail)\n",
    "print('Usuario:', client_mail[:10])  #partes del mail de este cliente en particular\n",
    "print('Tipo de Mail:',  client_mail[11:])   #PREGUNTAR: se puede identificar el '@' para dividir las partes?"
   ]
  },
  {
   "cell_type": "markdown",
   "metadata": {},
   "source": [
    "#### Transacciones\n",
    "Creación de variables numéricas y funciones que contienen datos de montos sobre las transacciones realizadas por el cliente."
   ]
  },
  {
   "cell_type": "code",
   "execution_count": 38,
   "metadata": {},
   "outputs": [
    {
     "name": "stdout",
     "output_type": "stream",
     "text": [
      "El SALDO INICIAL de la Cuenta es = ARS $ 382,481.52\n",
      "El SALDO INICIAL de la cuenta es = USD $ 163,497.85\n"
     ]
    }
   ],
   "source": [
    "inicial_balance_ARS = 382481.52  #Números decimales\n",
    "inicial_balance_USD = 163497.85\n",
    "\n",
    "print('El SALDO INICIAL de la Cuenta es = ARS $ ' + format(inicial_balance_ARS, ',')) #nros decimales con separador de mil.\n",
    "print('El SALDO INICIAL de la cuenta es = USD $ ' + format(inicial_balance_USD, ','))\n",
    "#PREGUNTAR: se puede cambiar el formato y usar '.' para miles y ',' para decimal?"
   ]
  },
  {
   "cell_type": "code",
   "execution_count": 39,
   "metadata": {},
   "outputs": [
    {
     "name": "stdout",
     "output_type": "stream",
     "text": [
      "Se realizó un GASTO de = ARS $ 80,379.45\n",
      "Se realizó un GASTO de = USD $ 38,550.82\n"
     ]
    }
   ],
   "source": [
    "expense_ARS = 80379.45\n",
    "expense_USD = 38550.82\n",
    "\n",
    "print('Se realizó un GASTO de = ARS $ ' + format(expense_ARS, ','))\n",
    "print('Se realizó un GASTO de = USD $ ' + format(expense_USD, ','))"
   ]
  },
  {
   "cell_type": "code",
   "execution_count": 40,
   "metadata": {},
   "outputs": [
    {
     "name": "stdout",
     "output_type": "stream",
     "text": [
      "El SALDO ACTUALIZADO de la Cuenta es = ARS $ 302,102.07\n",
      "El SALDO ACTUALIZADO de la Cuenta es = USD $ 124,947.03\n"
     ]
    }
   ],
   "source": [
    "inicial_balance_ARS = 382481.52   #PREGUNTAR: como referenciar las cells anteriores sin tener que volver a ponerlas aca?\n",
    "inicial_balance_USD = 163497.85\n",
    "expense_ARS = 80379.45\n",
    "expense_USD = 38550.82\n",
    "\n",
    "balance_ARS = inicial_balance_ARS - expense_ARS\n",
    "balance_USD = inicial_balance_USD - expense_USD\n",
    "\n",
    "print('El SALDO ACTUALIZADO de la Cuenta es = ARS $ ' + str(format(balance_ARS, ',')))\n",
    "print('El SALDO ACTUALIZADO de la Cuenta es = USD $ ' + str(format(balance_USD, ',')))"
   ]
  },
  {
   "cell_type": "markdown",
   "metadata": {},
   "source": [
    "<img src=https://www.eluniverso.com/sites/default/files/styles/powgallery_1280/public/fotos/2020/03/banca.png?itok52qMvCSo>"
   ]
  },
  {
   "cell_type": "markdown",
   "metadata": {},
   "source": [
    "#### Préstamo\n",
    "Creación de variable booleana y función para determinar si el cliente puede acceder a créditos."
   ]
  },
  {
   "cell_type": "code",
   "execution_count": 43,
   "metadata": {
    "scrolled": true
   },
   "outputs": [
    {
     "name": "stdout",
     "output_type": "stream",
     "text": [
      "Viera Agustín se encuentra habilitado para solicitar un préstamo.\n",
      "Viera Agustín se encuentra habilitado para solicitar un préstamo.\n",
      "Viera Agustín NO se encuentra habilitado para solicitar un préstamo.\n"
     ]
    }
   ],
   "source": [
    "client_first_name = 'Agustín'  \n",
    "client_last_name = 'Viera'\n",
    "client_full_name = (client_last_name + ' ' + client_first_name)\n",
    "\n",
    "balance_ARS = 302102.07   \n",
    "loan_limit = 200000\n",
    "\n",
    "if balance_ARS > loan_limit: print(client_full_name + ' se encuentra habilitado para solicitar un préstamo.')\n",
    "else: print(client_full_name + ' NO se encuentra habilitado para solicitar un préstamo.')\n",
    "\n",
    "#PREGUNTAR: lógica de establecer true/false en este caso?\n",
    "loan = True\n",
    "print(client_full_name + ' se encuentra habilitado para solicitar un préstamo.')\n",
    "\n",
    "loan = False\n",
    "print(client_full_name + ' NO se encuentra habilitado para solicitar un préstamo.')"
   ]
  },
  {
   "cell_type": "markdown",
   "metadata": {},
   "source": [
    "#### Productos: Cuentas & Tarjetas\n",
    "Creación de variable de tipo lista y funciones para darle formato al output y poder contar los elementos de la variable."
   ]
  },
  {
   "cell_type": "code",
   "execution_count": 44,
   "metadata": {},
   "outputs": [
    {
     "name": "stdout",
     "output_type": "stream",
     "text": [
      "Los productos de Viera Agustín son: (6)\n",
      "* Caja de Ahorro\n",
      "* Cuenta Corriente\n",
      "* Tarjeta de Crédito\n",
      "* Tarjeta de Débito\n",
      "* Plazo Fijo\n",
      "* Cuenta comitente\n"
     ]
    }
   ],
   "source": [
    "client_first_name = 'Agustín'\n",
    "client_last_name = 'Viera'\n",
    "client_full_name = (client_last_name + ' ' + client_first_name)\n",
    "\n",
    "products = ['Caja de Ahorro', \n",
    "            'Cuenta Corriente', \n",
    "            'Tarjeta de Crédito', \n",
    "            'Tarjeta de Débito', \n",
    "            'Plazo Fijo', \n",
    "            'Cuenta comitente']\n",
    "\n",
    "print('Los productos de ' + client_full_name + ' son: ({})'.format(len(products)))\n",
    "#La función 'len()' sirve para contar el número de elementos de esta lista.\n",
    "\n",
    "for product in products: print('* ' + product)\n",
    "#La función 'for' sirve para darle un formato específico a los elementos de una variable."
   ]
  },
  {
   "cell_type": "markdown",
   "metadata": {},
   "source": [
    "<img src=https://thumbor.forbes.com/thumbor/fit-in/900x510/https://www.forbes.com/advisor/wp-content/uploads/2019/04/onlinebanking-e1555504251511.jpg>"
   ]
  }
 ],
 "metadata": {
  "kernelspec": {
   "display_name": "Python 3",
   "language": "python",
   "name": "python3"
  },
  "language_info": {
   "codemirror_mode": {
    "name": "ipython",
    "version": 3
   },
   "file_extension": ".py",
   "mimetype": "text/x-python",
   "name": "python",
   "nbconvert_exporter": "python",
   "pygments_lexer": "ipython3",
   "version": "3.7.6"
  }
 },
 "nbformat": 4,
 "nbformat_minor": 4
}
