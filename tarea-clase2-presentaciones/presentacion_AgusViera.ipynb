{
 "cells": [
  {
   "cell_type": "markdown",
   "metadata": {},
   "source": [
    "# Agustín Viera\n",
    "\n",
    "### Presentación\n",
    "\n",
    "Buenas! Soy Agus \n",
    "\n",
    "Tengo 24 años y vivo en **Ciudad de Córdoba, Argentina**.\n",
    "\n",
    "Me recibí de **Lic en Administracion de Empresas** en febrero de este año"
   ]
  },
  {
   "cell_type": "markdown",
   "metadata": {},
   "source": [
    "Mi ***Expectativa*** del curso es\n",
    "- disfrutar del aprendizaje de esta nueva herramienta, y poder complementarla a mi profesión!"
   ]
  },
  {
   "cell_type": "markdown",
   "metadata": {},
   "source": [
    "En mi ***Tiempo Libre*** disfruto\n",
    "- juntadas con amigos/as y la flia\n",
    "- escuchar música\n",
    "- salir a correr\n",
    "\n",
    "Algunos de mis ***Intereses*** son\n",
    "- idiomas (desde hace poco estoy aprendiendo italiano y retomé el ingles)\n",
    "- cocina (pero me gustaría algún día aprender mejor)\n",
    "- películas de suspenso & ciencia ficción"
   ]
  },
  {
   "cell_type": "markdown",
   "metadata": {},
   "source": [
    "### Presentación 'Python'"
   ]
  },
  {
   "cell_type": "code",
   "execution_count": 10,
   "metadata": {},
   "outputs": [],
   "source": [
    "my_name = \"Agus Viera\""
   ]
  },
  {
   "cell_type": "code",
   "execution_count": 11,
   "metadata": {},
   "outputs": [],
   "source": [
    "my_city_and_country = [\"Córdoba\", \"Argentina\"]"
   ]
  },
  {
   "cell_type": "code",
   "execution_count": 12,
   "metadata": {},
   "outputs": [],
   "source": [
    "import datetime as dt\n",
    "\n",
    "my_birthday = dt.datetime(1995, 12, 28)  # Año, Mes, Día\n",
    "\n",
    "if my_birthday.month == 1:\n",
    "    my_birthday_month = \"Enero\"\n",
    "elif my_birthday.month == 2:\n",
    "    my_birthday_month = \"Febrero\"\n",
    "elif my_birthday.month == 3:\n",
    "    my_birthday_month = \"Marzo\"\n",
    "elif my_birthday.month == 4:\n",
    "    my_birthday_month = \"Abril\"\n",
    "elif my_birthday.month == 5:\n",
    "    my_birthday_month = \"Mayo\"\n",
    "elif my_birthday.month == 6:\n",
    "    my_birthday_month = \"Junio\"\n",
    "elif my_birthday.month == 7:\n",
    "    my_birthday_month = \"Julio\"\n",
    "elif my_birthday.month == 8:\n",
    "    my_birthday_month = \"Agosto\"\n",
    "elif my_birthday.month == 9:\n",
    "    my_birthday_month = \"Septiembre\"\n",
    "elif my_birthday.month == 10:\n",
    "    my_birthday_month = \"Octubre\"\n",
    "elif my_birthday.month == 11:\n",
    "    my_birthday_month = \"Noviembre\"\n",
    "elif my_birthday.month == 12:\n",
    "    my_birthday_month = \"Diciembre\""
   ]
  },
  {
   "cell_type": "code",
   "execution_count": 17,
   "metadata": {},
   "outputs": [
    {
     "name": "stdout",
     "output_type": "stream",
     "text": [
      "------------------------------------------------------------\n",
      "Buenas! mi nombre es Agus Viera\n",
      "Vivo en Córdoba, Argentina\n",
      "Mi cumple es el 28 de Diciembre\n",
      "------------------------------------------------------------\n"
     ]
    }
   ],
   "source": [
    "print(\"-\"*60)\n",
    "print(\"Buenas! mi nombre es \" + my_name)\n",
    "print(\"Vivo en \" + my_city_and_country[0] + \", \" + my_city_and_country[1])\n",
    "print(\"Mi cumple es el \" + str(my_birthday.day) + \" de \" + str(my_birthday_month))\n",
    "print(\"-\"*60)"
   ]
  }
 ],
 "metadata": {
  "kernelspec": {
   "display_name": "Python 3",
   "language": "python",
   "name": "python3"
  },
  "language_info": {
   "codemirror_mode": {
    "name": "ipython",
    "version": 3
   },
   "file_extension": ".py",
   "mimetype": "text/x-python",
   "name": "python",
   "nbconvert_exporter": "python",
   "pygments_lexer": "ipython3",
   "version": "3.7.6"
  }
 },
 "nbformat": 4,
 "nbformat_minor": 4
}
