{
 "cells": [
  {
   "cell_type": "markdown",
   "metadata": {},
   "source": [
    "# Benjamín Rivero\n",
    "\n",
    "## Presentación\n",
    "\n",
    "Hola a todos! Me llamo Benjamín Rivero.\n",
    "\n",
    "Nací y actualmente vivo en San Salvador de Jujuy, Provincia de Jujuy.\n",
    "\n",
    "Soy Ingeniero Mecánico Electricista egresado de la UNC. Actualmente trabajo en EJESA (Empresa Jujeña de Energia S.A.) en el área de Gerencia Técnica, sector Calidad de Servicio. También me desempeño como docente en carreras de tecnicatura a nivel secundario y universitario. A su vez me encuentro cursando un MBA de la Universidad Católica de Salta.\n",
    "\n",
    "**Mis expectativas del curso**\n",
    "\n",
    "Comunmente suelo trabajar con archivos excel de enormes cantidades de filas y columnas relacionadas a Interrupciones en el servicio electrico por diversos motivos. Razón por la cual espero encontrar en este curso otra herramienta de anláisis para estos datos.\n",
    "\n"
   ]
  },
  {
   "cell_type": "markdown",
   "metadata": {},
   "source": [
    "### **Presentación en Python**"
   ]
  },
  {
   "cell_type": "code",
   "execution_count": 1,
   "metadata": {},
   "outputs": [],
   "source": [
    "my_name = \"Benjamin Rivero\""
   ]
  },
  {
   "cell_type": "code",
   "execution_count": 2,
   "metadata": {},
   "outputs": [],
   "source": [
    "my_nickname = \"Benja\""
   ]
  },
  {
   "cell_type": "code",
   "execution_count": 3,
   "metadata": {},
   "outputs": [],
   "source": [
    "my_fav_number = 11"
   ]
  },
  {
   "cell_type": "code",
   "execution_count": 4,
   "metadata": {},
   "outputs": [],
   "source": [
    "import datetime as dt\n",
    "\n",
    "my_birthday = dt.datetime(1988, 12, 9)  # Año, Mes, Día\n",
    "\n",
    "if my_birthday.month == 1:\n",
    "    my_birthday_month = \"Enero\"\n",
    "elif my_birthday.month == 2:\n",
    "    my_birthday_month = \"Febrero\"\n",
    "elif my_birthday.month == 3:\n",
    "    my_birthday_month = \"Marzo\"\n",
    "elif my_birthday.month == 4:\n",
    "    my_birthday_month = \"Abril\"\n",
    "elif my_birthday.month == 5:\n",
    "    my_birthday_month = \"Mayo\"\n",
    "elif my_birthday.month == 6:\n",
    "    my_birthday_month = \"Junio\"\n",
    "elif my_birthday.month == 7:\n",
    "    my_birthday_month = \"Julio\"\n",
    "elif my_birthday.month == 8:\n",
    "    my_birthday_month = \"Agosto\"\n",
    "elif my_birthday.month == 9:\n",
    "    my_birthday_month = \"Septiembre\"\n",
    "elif my_birthday.month == 10:\n",
    "    my_birthday_month = \"Octubre\"\n",
    "elif my_birthday.month == 11:\n",
    "    my_birthday_month = \"Noviembre\"\n",
    "elif my_birthday.month == 12:\n",
    "    my_birthday_month = \"Diciembre\""
   ]
  },
  {
   "cell_type": "code",
   "execution_count": 5,
   "metadata": {},
   "outputs": [],
   "source": [
    "my_fav_movies = ['Gladiador']"
   ]
  },
  {
   "cell_type": "code",
   "execution_count": 9,
   "metadata": {},
   "outputs": [
    {
     "name": "stdout",
     "output_type": "stream",
     "text": [
      "============================================================\n",
      "Hola! mi nombre es Benjamin Rivero Pero me dicen Benja\n",
      "Mi cumpleaños es el día 9 de Diciembre\n",
      "Mi pelicula favorita es Gladiador\n"
     ]
    }
   ],
   "source": [
    "print(\"=\"*60)\n",
    "print(\"Hola! mi nombre es \" + my_name + \" Pero me dicen \" + my_nickname)\n",
    "print(\"Mi cumpleaños es el día \" + str(my_birthday.day) + \" de \" + str(my_birthday_month))\n",
    "print(\"Mi pelicula favorita es \" + my_fav_movies[0])\n"
   ]
  }
 ],
 "metadata": {
  "kernelspec": {
   "display_name": "Python 3",
   "language": "python",
   "name": "python3"
  },
  "language_info": {
   "codemirror_mode": {
    "name": "ipython",
    "version": 3
   },
   "file_extension": ".py",
   "mimetype": "text/x-python",
   "name": "python",
   "nbconvert_exporter": "python",
   "pygments_lexer": "ipython3",
   "version": "3.8.3"
  }
 },
 "nbformat": 4,
 "nbformat_minor": 4
}
