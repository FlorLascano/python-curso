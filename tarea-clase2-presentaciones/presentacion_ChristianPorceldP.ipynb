{
 "cells": [
  {
   "cell_type": "markdown",
   "metadata": {},
   "source": [
    "# Christian Porcel de Peralta"
   ]
  },
  {
   "cell_type": "markdown",
   "metadata": {},
   "source": [
    "## Presentación "
   ]
  },
  {
   "cell_type": "markdown",
   "metadata": {},
   "source": [
    "### Buenas buenas ...\n",
    "\n",
    "Naci en la ciudad de *Cosquin, Cordoba*\n",
    "\n",
    "Estoy trabajando en un Broker de Seguros llamado **Organizacion Centro** como *Responsable del Dpto. de Sistemas y Soporte Técnico*."
   ]
  },
  {
   "cell_type": "markdown",
   "metadata": {},
   "source": [
    "<img src=\"https://www.organizacioncentro.com.ar/uploads/cache/section_soporte-tecnico-3330.jpg\">"
   ]
  },
  {
   "cell_type": "markdown",
   "metadata": {},
   "source": [
    "Le empresa tiene **40 sucursales**, lo cual hace entretenido el trabajo jajajajaja, disponemos de un parque informatico de mas de 110 Pcs.\n",
    "\n",
    "Trabajamos con **servidores en la nube, servidores virtualizados en la Casa Central.**\n",
    "\n",
    "Ya hace 6 años que venimos trabajando con Servidores en la Nube, lo cual nos permitio estar preparados para continuar con los trabajos desde nuestros hogares al comienzo de la cuarentena desde el 20 de Marzo y no interrumpir con la operatoria de la empresa.\n",
    "\n",
    "Estudie ***Ingenieria de Sistemas en la UCC*** ya hace algun tiempo pero por algunas cuestiones no pude finalizar los estudios.\n",
    "\n",
    "El año pasado realice la ***Diplomatura en Cyberseguridad*** que se dicto en la ***Facultad de Ingeniería de la UCC*** y el principal lenguaje de programación que se utiliza para el mismo es **Python**, por eso mi interés de comenzar en aprender un poco más."
   ]
  },
  {
   "cell_type": "code",
   "execution_count": 20,
   "metadata": {},
   "outputs": [
    {
     "name": "stdout",
     "output_type": "stream",
     "text": [
      "<<<<<<<<<<<<<<>>>>>>>>>>>>>>\n",
      "Mi Hobby es practicar el MTB\n"
     ]
    }
   ],
   "source": [
    "print((\"<\"*14) + (\">\"*14))\n",
    "print(\"Mi Hobby es practicar el MTB\")"
   ]
  },
  {
   "cell_type": "code",
   "execution_count": 21,
   "metadata": {},
   "outputs": [
    {
     "name": "stdout",
     "output_type": "stream",
     "text": [
      "En 4 oportunidades pude participar de la Famosa Carrera del Rio Pinto que se realiza en La Cumbre\n"
     ]
    }
   ],
   "source": [
    "print(\"En 4 oportunidades pude participar de la Famosa Carrera del Rio Pinto que se realiza en La Cumbre\")"
   ]
  },
  {
   "cell_type": "markdown",
   "metadata": {},
   "source": [
    "<img src=\"https://www.infosaladillo.com.ar/wp-content/uploads/2018/04/rio-pinto-largada.jpg\">"
   ]
  }
 ],
 "metadata": {
  "kernelspec": {
   "display_name": "Python 3",
   "language": "python",
   "name": "python3"
  },
  "language_info": {
   "codemirror_mode": {
    "name": "ipython",
    "version": 3
   },
   "file_extension": ".py",
   "mimetype": "text/x-python",
   "name": "python",
   "nbconvert_exporter": "python",
   "pygments_lexer": "ipython3",
   "version": "3.7.6"
  }
 },
 "nbformat": 4,
 "nbformat_minor": 4
}
