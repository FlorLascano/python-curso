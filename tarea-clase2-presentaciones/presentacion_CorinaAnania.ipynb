{
 "cells": [
  {
   "cell_type": "markdown",
   "metadata": {},
   "source": [
    "## Corina Anania\n",
    "\n",
    "### Presentación\n",
    "\n",
    "Hola! Me llamo _Corina_. Soy de un pueblito muy chiquito de la provincia de Santa Fe, que se llama Villa Trinidad. Bastante aburrido, pero creo que no hay mejor lugar para pasar esta pandemia.\n",
    "\n",
    "Soy __Licenciada en Administración de Empresas__ de la UCC. Actualmente estoy trabajando en una empresa agropecuaria, pero no veo la hora que esto termine para poder ser libre.\n",
    "\n",
    "---\n",
    "\n",
    "Me interesa mucho el área de finanzas, por lo que estoy aprovechando este tiempo para hacer cursos relacionados al área y comenzar a hacer mis primeros pasos como inversora. \n",
    "\n",
    "Una de mis mejores amigas de la universidad trabaja en una empresa tecnología y desde que comenzó nos dijo que __Python__ es el nuevo excel. Dentro de 20 años todo el mundo lo va a estar utilizando. Nunca sentí mucho interes por la programación, pero creo que es muy importante tener un conocimiento básico de lo que significa y el alcance que tiene."
   ]
  },
  {
   "cell_type": "markdown",
   "metadata": {},
   "source": [
    "### Un poquito sobre mi\n",
    "\n",
    "* Mi cuñada nos regalo un gatito al que todavia no le pudimos encontrar nombre que combine con su carite. Esta semana se llama __Oscar__.\n",
    "* El primer deporte habilitado en mi pueblo fue _tenis_ , por lo que me volví fan estos últimos meses.\n",
    "* Me encanta aprender idiomas. Hace poco logré leer la novela \"L'amica Geniale\" en _italiano_ (soy fan de la saga) y comencé con cuentos en _aleman_.\n",
    "\n",
    "<img src=\"https://pics.filmaffinity.com/La_amiga_estupenda_Serie_de_TV-395393570-large.jpg\">\n"
   ]
  },
  {
   "cell_type": "code",
   "execution_count": null,
   "metadata": {},
   "outputs": [],
   "source": []
  }
 ],
 "metadata": {
  "kernelspec": {
   "display_name": "Python 3",
   "language": "python",
   "name": "python3"
  },
  "language_info": {
   "codemirror_mode": {
    "name": "ipython",
    "version": 3
   },
   "file_extension": ".py",
   "mimetype": "text/x-python",
   "name": "python",
   "nbconvert_exporter": "python",
   "pygments_lexer": "ipython3",
   "version": "3.7.6"
  }
 },
 "nbformat": 4,
 "nbformat_minor": 4
}
