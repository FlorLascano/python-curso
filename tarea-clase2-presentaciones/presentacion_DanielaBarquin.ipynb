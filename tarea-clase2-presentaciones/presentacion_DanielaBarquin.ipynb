{
 "cells": [
  {
   "cell_type": "markdown",
   "metadata": {},
   "source": [
    "# Daniela Barquín"
   ]
  },
  {
   "cell_type": "markdown",
   "metadata": {},
   "source": [
    "### Presentación"
   ]
  },
  {
   "cell_type": "markdown",
   "metadata": {},
   "source": [
    "Hola, soy Daniela. Tengo **24 años** y soy de **Córdoba, Capital**.\n",
    "\n",
    "En **2019** me recibí en *Licenciatura en Economía* en la facultad de **Ciencias Enconómicas-UNC**.\n",
    "\n",
    "Actualemnte doy *clases particuales* en una academia on-line llamada *Magisteirus class*.~~Espero encontrar alguna otra salida laboral ya que la pandemia arruino una gran oportunidad laboral~~\n"
   ]
  },
  {
   "cell_type": "markdown",
   "metadata": {},
   "source": [
    "### Sobre mí\n",
    "\n",
    "-Amo cocinar.\n",
    "\n",
    "-No me gusta que me dspierten de mis siestas.\n",
    "\n",
    "\n",
    "### Mi lema\n",
    "\n",
    "***TODO SE SOLUCIONA CON UN TÉ DE TILO***\n",
    "\n",
    "\n"
   ]
  },
  {
   "cell_type": "markdown",
   "metadata": {},
   "source": [
    "### Presentación en Python"
   ]
  },
  {
   "cell_type": "code",
   "execution_count": 1,
   "metadata": {},
   "outputs": [],
   "source": [
    "my_name = \"Daniela\""
   ]
  },
  {
   "cell_type": "code",
   "execution_count": 9,
   "metadata": {},
   "outputs": [],
   "source": [
    "import datetime as dt\n",
    "\n",
    "my_birthday = dt.datetime(1995, 10, 30)\n",
    "\n",
    "if my_birthday.month == 1:\n",
    "       my_birthday_month = \"Enero\"\n",
    "elif my_birthday.month == 2:\n",
    "         my_birthday_month =\"Febrero\"\n",
    "elif my_birthday.month == 3:\n",
    "         my_birthday_month =\"Marzo\"\n",
    "elif my_birthday.month == 4:\n",
    "         my_birthday_month =\"Abril\"\n",
    "elif my_birthday.month == 5:\n",
    "         my_birthday_month =\"Mayo\"\n",
    "elif my_birthday.month == 6:\n",
    "         my_birthday_month =\"Junio\"\n",
    "elif my_birthday.month == 7:\n",
    "         my_birthday_month =\"Julio\"\n",
    "elif my_birthday.month == 8:\n",
    "         my_birthday_month =\"Agosto\"\n",
    "elif my_birthday.month == 9:\n",
    "         my_birthday_month =\"Septiembre\"\n",
    "elif my_birthday.month == 10:\n",
    "         my_birthday_month =\"Octubre\"\n",
    "elif my_birthday.month == 11:\n",
    "         my_birthday_month =\"Noviembre\"\n",
    "elif my_birthday.month == 12:\n",
    "         my_birthday_month = \"Diciembre\""
   ]
  },
  {
   "cell_type": "code",
   "execution_count": 4,
   "metadata": {},
   "outputs": [],
   "source": [
    "name_pet = \"Piri\""
   ]
  },
  {
   "cell_type": "code",
   "execution_count": 5,
   "metadata": {},
   "outputs": [],
   "source": [
    "i_like = [\"Cocinar\", \"Dormir\"]"
   ]
  },
  {
   "cell_type": "code",
   "execution_count": 10,
   "metadata": {},
   "outputs": [
    {
     "name": "stdout",
     "output_type": "stream",
     "text": [
      "============================================================\n",
      " Hola mi nombre es Daniela\n",
      " Mi cumple es el día 30 de Octubre\n",
      " Tengo un perro que se llama Piri\n",
      " Me gusta Cocinar y Dormir\n",
      "============================================================\n"
     ]
    }
   ],
   "source": [
    "print( \"=\"*60)\n",
    "print(\" Hola mi nombre es \" + my_name)\n",
    "print(\" Mi cumple es el día \" + str(my_birthday.day) + \" de \" + str(my_birthday_month))\n",
    "print(\" Tengo un perro que se llama \" + name_pet)\n",
    "print(\" Me gusta \" + i_like[0] + \" y \" + i_like[1])\n",
    "print( \"=\"*60)"
   ]
  },
  {
   "cell_type": "code",
   "execution_count": null,
   "metadata": {},
   "outputs": [],
   "source": []
  }
 ],
 "metadata": {
  "kernelspec": {
   "display_name": "Python 3",
   "language": "python",
   "name": "python3"
  },
  "language_info": {
   "codemirror_mode": {
    "name": "ipython",
    "version": 3
   },
   "file_extension": ".py",
   "mimetype": "text/x-python",
   "name": "python",
   "nbconvert_exporter": "python",
   "pygments_lexer": "ipython3",
   "version": "3.8.3"
  }
 },
 "nbformat": 4,
 "nbformat_minor": 4
}
