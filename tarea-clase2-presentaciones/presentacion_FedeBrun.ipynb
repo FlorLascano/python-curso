{
 "cells": [
  {
   "cell_type": "markdown",
   "metadata": {},
   "source": [
    "<img src=\"socalo-ICDA.png\">"
   ]
  },
  {
   "cell_type": "markdown",
   "metadata": {},
   "source": [
    "# Federico Brun\n",
    "\n",
    "### Presentación \n",
    "\n",
    "Hola a todos! Me llamo Federico José Brun. \n",
    "\n",
    "Me dicen ***TURI***.\n",
    "\n",
    "Nací en la ciudad de **Córdoba, Argentina**.\n",
    "\n",
    "Soy estudiante de ***Ingeniería Informática*** y actualmente trabajo en ***Grupo del Plata SA*** donde utilizo tecnologías como *Python*, HTML & CSS y Dash, para brindar soporte al área de ***trading*** de la empresa en los diferentes desafíos que se me plantean.\n",
    "\n",
    "Paralelamente estoy trabajando en un proyecto personal, en el que uso otras tecnologías orientadas al desarrollo de apps y conectividad de productos IoT.\n",
    "\n",
    "Mi expectativa del curso es poder brindarles las herramientas necesarias para que se sientan preparados para afrontar cualquier problema o desafío que pudiera surgir en sus carreras, pensando la solcuión de estos desde una perspectiva ***pythonica***."
   ]
  },
  {
   "cell_type": "markdown",
   "metadata": {},
   "source": [
    "### Sobre mí\n",
    "\n",
    "* Me encanta hacer deporte y actividad física en general.\n",
    "* Mi banda favorita es Aerosmith.\n",
    "* Hace 1 mes adopté una perrita, que se llama **PIPA** y ~~estoy agotado por cuidar a una cachorrita que rompe todo y no se cansa nunca~~ me encanta jugar con ella cuando vuelvo de la oficina para despejarme un poco.\n",
    "* Me encantan los idiomas. Desde chico hablo Inglés, y en los últimos años aprendí Portugués, Italiano y Francés.\n",
    "* Uno de mis sueños locos es hacer cumbre en el Aconcagua.\n",
    "\n",
    "---\n",
    "\n",
    "### Mi frase favorita:\n",
    "> \"Somos lo que hacemos repetidamente. Entonces la ***excelencia*** no es un acto, sino un ***hábito*** \" - Aristóteles "
   ]
  },
  {
   "cell_type": "markdown",
   "metadata": {},
   "source": [
    "### Presentación \"En Python\""
   ]
  },
  {
   "cell_type": "code",
   "execution_count": 34,
   "metadata": {},
   "outputs": [],
   "source": [
    "my_name = \"Federico Brun\""
   ]
  },
  {
   "cell_type": "code",
   "execution_count": 35,
   "metadata": {},
   "outputs": [],
   "source": [
    "my_nickname = \"Turi\""
   ]
  },
  {
   "cell_type": "code",
   "execution_count": 36,
   "metadata": {},
   "outputs": [],
   "source": [
    "my_fav_number = 6"
   ]
  },
  {
   "cell_type": "code",
   "execution_count": 37,
   "metadata": {},
   "outputs": [],
   "source": [
    "import datetime as dt\n",
    "\n",
    "my_birthday = dt.datetime(1996, 6, 12)  # Año, Mes, Día\n",
    "\n",
    "if my_birthday.month == 1:\n",
    "    my_birthday_month = \"Enero\"\n",
    "elif my_birthday.month == 2:\n",
    "    my_birthday_month = \"Febrero\"\n",
    "elif my_birthday.month == 3:\n",
    "    my_birthday_month = \"Marzo\"\n",
    "elif my_birthday.month == 4:\n",
    "    my_birthday_month = \"Abril\"\n",
    "elif my_birthday.month == 5:\n",
    "    my_birthday_month = \"Mayo\"\n",
    "elif my_birthday.month == 6:\n",
    "    my_birthday_month = \"Junio\"\n",
    "elif my_birthday.month == 7:\n",
    "    my_birthday_month = \"Julio\"\n",
    "elif my_birthday.month == 8:\n",
    "    my_birthday_month = \"Agosto\"\n",
    "elif my_birthday.month == 9:\n",
    "    my_birthday_month = \"Septiembre\"\n",
    "elif my_birthday.month == 10:\n",
    "    my_birthday_month = \"Octubre\"\n",
    "elif my_birthday.month == 11:\n",
    "    my_birthday_month = \"Noviembre\"\n",
    "elif my_birthday.month == 12:\n",
    "    my_birthday_month = \"Diciembre\""
   ]
  },
  {
   "cell_type": "code",
   "execution_count": 38,
   "metadata": {},
   "outputs": [],
   "source": [
    "my_fav_books_and_movies = [\"La sal de la Tierra\", 'Caballo de Guerra']"
   ]
  },
  {
   "cell_type": "code",
   "execution_count": 39,
   "metadata": {},
   "outputs": [
    {
     "name": "stdout",
     "output_type": "stream",
     "text": [
      "============================================================\n",
      "Hola! mi nombre es Federico Brun Pero me dicen Turi\n",
      "Mi cumpleaños es el día 12 de Junio\n",
      "Mi libro favorito es La sal de la Tierra\n",
      "Mi pelicula favorita es Caballo de Guerra\n",
      "============================================================\n"
     ]
    }
   ],
   "source": [
    "print(\"=\"*60)\n",
    "print(\"Hola! mi nombre es \" + my_name + \" Pero me dicen \" + my_nickname)\n",
    "print(\"Mi cumpleaños es el día \" + str(my_birthday.day) + \" de \" + str(my_birthday_month))\n",
    "print(\"Mi libro favorito es \" + my_fav_books_and_movies[0])\n",
    "print(\"Mi pelicula favorita es \" + my_fav_books_and_movies[1])\n",
    "print(\"=\"*60)"
   ]
  }
 ],
 "metadata": {
  "kernelspec": {
   "display_name": "Python 3",
   "language": "python",
   "name": "python3"
  },
  "language_info": {
   "codemirror_mode": {
    "name": "ipython",
    "version": 3
   },
   "file_extension": ".py",
   "mimetype": "text/x-python",
   "name": "python",
   "nbconvert_exporter": "python",
   "pygments_lexer": "ipython3",
   "version": "3.7.6"
  }
 },
 "nbformat": 4,
 "nbformat_minor": 4
}
