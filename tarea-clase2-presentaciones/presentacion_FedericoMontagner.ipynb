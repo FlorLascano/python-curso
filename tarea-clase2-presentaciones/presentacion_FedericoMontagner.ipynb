{
 "cells": [
  {
   "cell_type": "markdown",
   "metadata": {},
   "source": [
    "# Presentacion"
   ]
  },
  {
   "cell_type": "markdown",
   "metadata": {},
   "source": [
    "Mi nombre es Federico Montagner, egresado de *Contador publico* en la UCC, y hoy me encuentro trabajando en la empresa familiar dedicada a *fabricacion de semirremolques* de carga radicada en Villa Maria"
   ]
  },
  {
   "cell_type": "markdown",
   "metadata": {},
   "source": [
    "Frase no tengo, pero si un lema que sostengo: \"Si existe un problema, resuelvelo o intenta al menos!\""
   ]
  },
  {
   "cell_type": "markdown",
   "metadata": {},
   "source": [
    "## Presentancion en Python"
   ]
  },
  {
   "cell_type": "code",
   "execution_count": 7,
   "metadata": {},
   "outputs": [],
   "source": [
    "my_name = \"Federico Montagner\""
   ]
  },
  {
   "cell_type": "code",
   "execution_count": 11,
   "metadata": {},
   "outputs": [],
   "source": [
    "import datetime as dt\n",
    "\n",
    "my_birthday = dt.datetime(1993, 7, 9)  # Año, Mes, Día\n",
    "\n",
    "if my_birthday.month == 1:\n",
    "    my_birthday_month = \"Enero\"\n",
    "elif my_birthday.month == 2:\n",
    "    my_birthday_month = \"Febrero\"\n",
    "elif my_birthday.month == 3:\n",
    "    my_birthday_month = \"Marzo\"\n",
    "elif my_birthday.month == 4:\n",
    "    my_birthday_month = \"Abril\"\n",
    "elif my_birthday.month == 5:\n",
    "    my_birthday_month = \"Mayo\"\n",
    "elif my_birthday.month == 6:\n",
    "    my_birthday_month = \"Junio\"\n",
    "elif my_birthday.month == 7:\n",
    "    my_birthday_month = \"Julio\"\n",
    "elif my_birthday.month == 8:\n",
    "    my_birthday_month = \"Agosto\"\n",
    "elif my_birthday.month == 9:\n",
    "    my_birthday_month = \"Septiembre\"\n",
    "elif my_birthday.month == 10:\n",
    "    my_birthday_month = \"Octubre\"\n",
    "elif my_birthday.month == 11:\n",
    "    my_birthday_month = \"Noviembre\"\n",
    "elif my_birthday.month == 12:\n",
    "    my_birthday_month = \"Diciembre\""
   ]
  },
  {
   "cell_type": "code",
   "execution_count": 25,
   "metadata": {},
   "outputs": [
    {
     "name": "stdout",
     "output_type": "stream",
     "text": [
      "Hola! mi nombre es Federico Montagner\n",
      "Naci el 9 de Julio del 1993, por lo que tengo 27 años\n"
     ]
    }
   ],
   "source": [
    "print(\"Hola! mi nombre es \" + my_name )\n",
    "print(\"Naci el \" + str(my_birthday.day) + \" de \" + str(my_birthday_month) + \" del 1993, por lo que tengo 27\" + \" años\")\n"
   ]
  },
  {
   "cell_type": "code",
   "execution_count": null,
   "metadata": {},
   "outputs": [],
   "source": []
  }
 ],
 "metadata": {
  "kernelspec": {
   "display_name": "Python 3",
   "language": "python",
   "name": "python3"
  },
  "language_info": {
   "codemirror_mode": {
    "name": "ipython",
    "version": 3
   },
   "file_extension": ".py",
   "mimetype": "text/x-python",
   "name": "python",
   "nbconvert_exporter": "python",
   "pygments_lexer": "ipython3",
   "version": "3.7.6"
  }
 },
 "nbformat": 4,
 "nbformat_minor": 4
}
