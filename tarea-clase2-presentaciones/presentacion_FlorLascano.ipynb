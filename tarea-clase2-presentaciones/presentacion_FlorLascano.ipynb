{
 "cells": [
  {
   "cell_type": "markdown",
   "metadata": {},
   "source": [
    "# Florencia Lascano\n",
    "## Presentacion\n",
    "\n",
    "Hola a todos! Me llamo Florencia Lascano. \n",
    "\n",
    "Me dicen ***Flor, Lasquita o Lasqui***.\n",
    "\n",
    "Nací en la ciudad de **Córdoba, Argentina**.\n",
    "\n",
    "Soy ***Contadora Publica***, Magister en ***Finanzas*** y actualmente trabajo en ***Banco Julio SA*** en el area de Riesgo de Credito, donde utilizo *Excel*,*Fuentes de Informacion Diversas externas* y sistemas operativos internos. Brindo soporte desde mi area a las áreas de ***Credito y Comercial*** principalmente, estableciendo los margenes crediticios de nuestras \"Empresas Clientes\" en las diferentes lineas de credito que se plantean.\n",
    "\n",
    "Paralelamente estoy trabajando con mis hermanos en un supermercado, en la area de manejo precios y contratacion de personal.\n",
    "\n",
    "Tambien hago administracion de propiedades pero de una cartera limitada de clientes, no al publico en general.\n",
    "\n",
    "Estoy cursando una Diplomatura de Big Data y Analytics en la UESiglo 21, pero es bastante general.\n",
    "\n",
    "Mi expectativa del curso es poder aprender esta herramienta y utilizarla para realizar un manejo eficiente de datos, en sus distintas versiones, y llegar a un analisis en general de los distintos desafíos que pudieran surgir en mi carrera para brindar informacion en tiempo oportuno y tomar decisiones eficientes y acertadas. **\n"
   ]
  },
  {
   "cell_type": "code",
   "execution_count": null,
   "metadata": {},
   "outputs": [],
   "source": []
  }
 ],
 "metadata": {
  "kernelspec": {
   "display_name": "Python 3",
   "language": "python",
   "name": "python3"
  },
  "language_info": {
   "codemirror_mode": {
    "name": "ipython",
    "version": 3
   },
   "file_extension": ".py",
   "mimetype": "text/x-python",
   "name": "python",
   "nbconvert_exporter": "python",
   "pygments_lexer": "ipython3",
   "version": "3.8.3"
  }
 },
 "nbformat": 4,
 "nbformat_minor": 4
}
