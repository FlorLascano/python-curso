{
 "cells": [
  {
   "cell_type": "markdown",
   "metadata": {},
   "source": [
    "# QUINTANA MA. JULIANA\n",
    "\n",
    "## PRESENTACION\n",
    "\n",
    "Me dicen Juli y tengo 30 años.\n",
    "\n",
    "Naci en **San SAlvador de Jujuy**, pero me vine a estudiar a Cordoba y hace 13 años que vivo acá.\n",
    "\n",
    "Soy **contadora Publica** y me recibí en la UCC.\n",
    "\n",
    "Trabajo en un empresa llamada **El Progreso Servicios** que se dedica a la terciarizacion de servicios relacionados a la salud. estoy como Cordinadora del Área Contable.\n",
    "\n",
    "Me inscribi en este curso, porque me lo recomendo el profe ( ALejandro Fernandez) de un curso anterior que estaba haciendo **liderazgo y coaching**. La verdad que no tengo nada de conocimientos tecnologicos, y me cuesta bastante. Pero se que son herramientas super importantes para el desarrollo profesional de cada uno, de aca a un futuro.\n",
    "\n"
   ]
  },
  {
   "cell_type": "markdown",
   "metadata": {},
   "source": [
    "### sobre mi\n",
    "\n",
    "- Tengo dos hermanos: Uno que ya es ing Industrial y se volvio a vivir a Jujuy y el otro esta estudiando Ing. Civil y sigue viviendo aca en Cordoba, mi mamá y papá viven en jujuy y trabajan álla.\n",
    "- Me gusta mucho **Viajar**, pero con la pandemia ni siquiera puedo ir a jujuy (no vuelvo desde Febrero, que fui para el Carnaval).\n",
    "- Disfruto mucho juntarme con mis amigas y mi familia ( aunque los veo poco).\n",
    "- Me encanta leer libros.\n",
    "\n"
   ]
  },
  {
   "cell_type": "code",
   "execution_count": 3,
   "metadata": {},
   "outputs": [],
   "source": [
    "my_name = \"Juliana Quintana\""
   ]
  },
  {
   "cell_type": "code",
   "execution_count": 19,
   "metadata": {},
   "outputs": [],
   "source": [
    "my_nickname = \"Juli\""
   ]
  },
  {
   "cell_type": "code",
   "execution_count": 10,
   "metadata": {},
   "outputs": [],
   "source": [
    "import datetime as dt\n",
    "\n",
    "my_birthday = dt.datetime(1990, 1, 17)  # Año, Mes, Día\n",
    "\n",
    "if my_birthday.month == 1:\n",
    "    my_birthday_month = \"Enero\"\n",
    "elif my_birthday.month == 2:\n",
    "    my_birthday_month = \"Febrero\"\n",
    "elif my_birthday.month == 3:\n",
    "    my_birthday_month = \"Marzo\"\n",
    "elif my_birthday.month == 4:\n",
    "    my_birthday_month = \"Abril\"\n",
    "elif my_birthday.month == 5:\n",
    "    my_birthday_month = \"Mayo\"\n",
    "elif my_birthday.month == 6:\n",
    "    my_birthday_month = \"Junio\"\n",
    "elif my_birthday.month == 7:\n",
    "    my_birthday_month = \"Julio\"\n",
    "elif my_birthday.month == 8:\n",
    "    my_birthday_month = \"Agosto\"\n",
    "elif my_birthday.month == 9:\n",
    "    my_birthday_month = \"Septiembre\"\n",
    "elif my_birthday.month == 10:\n",
    "    my_birthday_month = \"Octubre\"\n",
    "elif my_birthday.month == 11:\n",
    "    my_birthday_month = \"Noviembre\"\n",
    "elif my_birthday.month == 12:\n",
    "    my_birthday_month = \"Diciembre\""
   ]
  },
  {
   "cell_type": "code",
   "execution_count": 11,
   "metadata": {},
   "outputs": [],
   "source": [
    "mi_lugar_fav = \"Jujuy\""
   ]
  },
  {
   "cell_type": "code",
   "execution_count": 18,
   "metadata": {},
   "outputs": [
    {
     "name": "stdout",
     "output_type": "stream",
     "text": [
      "============================================================\n",
      "hola mi nombre es Juliana Quintana me dicen JULI\n",
      "mi cumpleaños es el 17 de Enero\n",
      "mi lugar favorito es Jujuy\n",
      "============================================================\n"
     ]
    }
   ],
   "source": [
    "print(\"=\"*60)\n",
    "print(\"hola mi nombre es \"  + my_name +  \" me dicen \" +  my_nickname)\n",
    "print(\"mi cumpleaños es el \"  + str(my_birthday.day) + \" de \" + str(my_birthday_month))\n",
    "print(\"mi lugar favorito es \"  +  mi_lugar_fav)\n",
    "print(\"=\"*60)"
   ]
  },
  {
   "cell_type": "code",
   "execution_count": null,
   "metadata": {},
   "outputs": [],
   "source": []
  }
 ],
 "metadata": {
  "kernelspec": {
   "display_name": "Python 3",
   "language": "python",
   "name": "python3"
  },
  "language_info": {
   "codemirror_mode": {
    "name": "ipython",
    "version": 3
   },
   "file_extension": ".py",
   "mimetype": "text/x-python",
   "name": "python",
   "nbconvert_exporter": "python",
   "pygments_lexer": "ipython3",
   "version": "3.8.3"
  }
 },
 "nbformat": 4,
 "nbformat_minor": 4
}
