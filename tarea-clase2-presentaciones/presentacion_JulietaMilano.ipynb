{
 "cells": [
  {
   "cell_type": "markdown",
   "metadata": {},
   "source": [
    "# Julieta Milano\n",
    "\n",
    "### Presentación \n",
    "\n",
    "Hola mi nombre es *Maria Julieta Milano*\n",
    "\n",
    "Me dicen ***Juli***.\n",
    "\n",
    "Nací en la ciudad de **Córdoba, Argentina**.\n",
    "\n",
    "Soy Administradora de empresas graduada en la Universidad Católica de Córdoba y Graduada en ADE (administración y dirección de\n",
    "empresas) de la Uniersidad de Murcia, España. Actualmente me encuentro trabajanado en *TECTUM* arquitectura y desarrollos donde \n",
    "me desarrollo como administradora de la misma. Tambien soy parte de dos cátedras en la Universidad, una Administración de \n",
    "Operaciones y la otra Seminario de Operaciones en ambas me desarrollo como jefa de trabajos practicos."
   ]
  },
  {
   "cell_type": "markdown",
   "metadata": {},
   "source": [
    "### Sobre mi\n",
    "\n",
    "* Me enanta jugar juegos de mesa.\n",
    "* Aún no se que campo de la administración quiero realmente ejercer.\n",
    "* Sueño con conocer Edimburgo.\n",
    "* Me encanta aprender sobre otras culturas cuanto mas diferentes, mejor.\n",
    "* Para mi no existe nada más rico que las pastas."
   ]
  },
  {
   "cell_type": "markdown",
   "metadata": {},
   "source": []
  }
 ],
 "metadata": {
  "kernelspec": {
   "display_name": "Python 3",
   "language": "python",
   "name": "python3"
  },
  "language_info": {
   "codemirror_mode": {
    "name": "ipython",
    "version": 3
   },
   "file_extension": ".py",
   "mimetype": "text/x-python",
   "name": "python",
   "nbconvert_exporter": "python",
   "pygments_lexer": "ipython3",
   "version": "3.8.5"
  }
 },
 "nbformat": 4,
 "nbformat_minor": 4
}
