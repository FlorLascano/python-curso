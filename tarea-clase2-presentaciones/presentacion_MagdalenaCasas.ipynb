{
 "cells": [
  {
   "cell_type": "markdown",
   "metadata": {},
   "source": [
    "***Python para Finanzas y Ciencia de Datos***\n",
    "\n",
    "Magdalena Casas | maguicasas33@gmail.com\n",
    "\n",
    "10 de Septiembre 2020"
   ]
  },
  {
   "cell_type": "markdown",
   "metadata": {},
   "source": [
    "# Presentacion\n"
   ]
  },
  {
   "cell_type": "markdown",
   "metadata": {},
   "source": [
    "Hola! Mi nombre es Magdaena Casas,\n",
    "\n",
    "Me dicen ***Magui***.\n",
    "\n",
    "Me interesa aprender Python aplicado a la  Ciencia de Datos para poder manejar y analizar los datos de forma mas eficiente."
   ]
  },
  {
   "cell_type": "markdown",
   "metadata": {},
   "source": [
    "*Sobre mí*\n",
    "\n",
    "Me encanta hacer leer y aprender diferentes cosas.\n",
    "\n",
    "Soy amante de los animales. Actualente tengo tres perras malcriadas.\n",
    "\n",
    "Me gusta llevar mis perras al rio y caminar con ellas.\n",
    "\n",
    "Me gusta el Arte y cuando puedo, aprendo tecnicas nuevas de pintura\n",
    "\n"
   ]
  },
  {
   "cell_type": "markdown",
   "metadata": {},
   "source": [
    "<img src=\"Pimienta.png\">"
   ]
  },
  {
   "cell_type": "code",
   "execution_count": 16,
   "metadata": {},
   "outputs": [],
   "source": [
    "my_name= \"Maria Magdalena Casas\"\n",
    "\n",
    "my_nickname=\"Magui\"\n",
    "\n",
    "my_dogsname=\" Pimienta, Arya y Remi\"\n",
    "\n",
    "my_birthday=\"21 de mayo\"\n"
   ]
  },
  {
   "cell_type": "code",
   "execution_count": 17,
   "metadata": {},
   "outputs": [
    {
     "name": "stdout",
     "output_type": "stream",
     "text": [
      "************************************************************\n",
      "Hola! mi nombre es Maria Magdalena Casas Pero me dicen Magui\n",
      "Tengo tres perras  Pimienta, Arya y Remi\n",
      "Mi cumpleaños es el día 21 de mayo\n",
      "************************************************************\n"
     ]
    }
   ],
   "source": [
    "print(\"*\"*60)\n",
    "print(\"Hola! mi nombre es \" + my_name + \" Pero me dicen \" + my_nickname)\n",
    "print(\"Tengo tres perras \"   + my_dogsname)\n",
    "print(\"Mi cumpleaños es el día \" + my_birthday )\n",
    "print(\"*\"*60)"
   ]
  },
  {
   "cell_type": "code",
   "execution_count": null,
   "metadata": {},
   "outputs": [],
   "source": []
  }
 ],
 "metadata": {
  "kernelspec": {
   "display_name": "Python 3",
   "language": "python",
   "name": "python3"
  },
  "language_info": {
   "codemirror_mode": {
    "name": "ipython",
    "version": 3
   },
   "file_extension": ".py",
   "mimetype": "text/x-python",
   "name": "python",
   "nbconvert_exporter": "python",
   "pygments_lexer": "ipython3",
   "version": "3.8.3"
  }
 },
 "nbformat": 4,
 "nbformat_minor": 4
}
