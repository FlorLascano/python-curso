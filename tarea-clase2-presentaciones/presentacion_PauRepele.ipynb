{
 "cells": [
  {
   "cell_type": "markdown",
   "metadata": {},
   "source": [
    "<img src=\"socalo-ICDA.png\">"
   ]
  },
  {
   "cell_type": "markdown",
   "metadata": {},
   "source": [
    "# Ma. Paula Repele\n",
    "\n",
    "### Presentación \n",
    "\n",
    "Hola a todos! Me llamo Maria Paula Repele. \n",
    "\n",
    "Me dicen ***Pau***.\n",
    "\n",
    "Soy de  **Catamarca, Argentina** pero vivo en **Córdoba, Argentina**\n",
    "\n",
    "Me recibi de  ***Contadora*** y actualmente trabajo en una empresa como encargada del área contable y administrativa.\n",
    "\n",
    "\n",
    "Mi expectativa del curso es poder aprender y adquirir nuevas herramientas para usarlas y aplicarlas en mi trabajo como profesional."
   ]
  },
  {
   "cell_type": "markdown",
   "metadata": {},
   "source": [
    "### Sobre mí\n",
    "\n",
    "* Me encanta hacer viajar y amo a mi perro, que se llama TANO, es un westie, y quiere salir todo el dia.\n",
    "* Me gusta cocinar pero no me sale bien y me gusta juntarme con amigos y la familia.\n",
    "\n",
    "\n",
    "---\n",
    "\n",
    "### Mi frase favorita:\n",
    "> \"Somos lo que hacemos repetidamente. Entonces la ***excelencia*** no es un acto, sino un ***hábito*** \" - Aristóteles (esta te la copio FEDE)"
   ]
  },
  {
   "cell_type": "markdown",
   "metadata": {},
   "source": [
    "### Presentación \"En Python\""
   ]
  },
  {
   "cell_type": "code",
   "execution_count": 9,
   "metadata": {},
   "outputs": [],
   "source": [
    "my_name = \"Maria Paula Repele\""
   ]
  },
  {
   "cell_type": "code",
   "execution_count": 11,
   "metadata": {},
   "outputs": [],
   "source": [
    "my_city = \"Córdoba\""
   ]
  },
  {
   "cell_type": "code",
   "execution_count": 26,
   "metadata": {},
   "outputs": [],
   "source": [
    "my_fav_color = \"rojo\""
   ]
  },
  {
   "cell_type": "code",
   "execution_count": 27,
   "metadata": {},
   "outputs": [],
   "source": [
    "import datetime as dt\n",
    "\n",
    "my_birthday = dt.datetime(1990, 2, 9)  # Año, Mes, Día\n",
    "\n",
    "if my_birthday.month == 1:\n",
    "    my_birthday_month = \"Enero\"\n",
    "elif my_birthday.month == 2:\n",
    "    my_birthday_month = \"Febrero\"\n",
    "elif my_birthday.month == 3:\n",
    "    my_birthday_month = \"Marzo\"\n",
    "elif my_birthday.month == 4:\n",
    "    my_birthday_month = \"Abril\"\n",
    "elif my_birthday.month == 5:\n",
    "    my_birthday_month = \"Mayo\"\n",
    "elif my_birthday.month == 6:\n",
    "    my_birthday_month = \"Junio\"\n",
    "elif my_birthday.month == 7:\n",
    "    my_birthday_month = \"Julio\"\n",
    "elif my_birthday.month == 8:\n",
    "    my_birthday_month = \"Agosto\"\n",
    "elif my_birthday.month == 9:\n",
    "    my_birthday_month = \"Septiembre\"\n",
    "elif my_birthday.month == 10:\n",
    "    my_birthday_month = \"Octubre\"\n",
    "elif my_birthday.month == 11:\n",
    "    my_birthday_month = \"Noviembre\"\n",
    "elif my_birthday.month == 12:\n",
    "    my_birthday_month = \"Diciembre\""
   ]
  },
  {
   "cell_type": "code",
   "execution_count": 28,
   "metadata": {},
   "outputs": [],
   "source": [
    "my_fav_books_and_movies = [\"Caballo de Fuego\", 'Interestelar']"
   ]
  },
  {
   "cell_type": "code",
   "execution_count": 30,
   "metadata": {},
   "outputs": [
    {
     "name": "stdout",
     "output_type": "stream",
     "text": [
      "============================================================\n",
      "Hola! mi nombre es Maria Paula Repele vivo en Córdoba\n",
      "Mi color favorito es rojo\n",
      "Mi cumpleaños es el día 9 de Febrero\n",
      "Mi libro favorito es Caballo de Fuego\n",
      "Mi pelicula favorita es Interestelar\n",
      "============================================================\n"
     ]
    }
   ],
   "source": [
    "print(\"=\"*60)\n",
    "print(\"Hola! mi nombre es \" + my_name + \" vivo en \" + my_city)\n",
    "print(\"Mi color favorito es \" + my_fav_color ) \n",
    "print(\"Mi cumpleaños es el día \" + str(my_birthday.day) + \" de \" + str(my_birthday_month))\n",
    "print(\"Mi libro favorito es \" + my_fav_books_and_movies[0])\n",
    "print(\"Mi pelicula favorita es \" + my_fav_books_and_movies[1])\n",
    "print(\"=\"*60)"
   ]
  },
  {
   "cell_type": "code",
   "execution_count": null,
   "metadata": {},
   "outputs": [],
   "source": []
  }
 ],
 "metadata": {
  "kernelspec": {
   "display_name": "Python 3",
   "language": "python",
   "name": "python3"
  },
  "language_info": {
   "codemirror_mode": {
    "name": "ipython",
    "version": 3
   },
   "file_extension": ".py",
   "mimetype": "text/x-python",
   "name": "python",
   "nbconvert_exporter": "python",
   "pygments_lexer": "ipython3",
   "version": "3.8.3"
  }
 },
 "nbformat": 4,
 "nbformat_minor": 4
}
