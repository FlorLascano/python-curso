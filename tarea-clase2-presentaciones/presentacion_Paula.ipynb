{
 "cells": [
  {
   "cell_type": "markdown",
   "metadata": {},
   "source": [
    "# Presentación ICDA"
   ]
  },
  {
   "cell_type": "markdown",
   "metadata": {},
   "source": [
    "***\n",
    "\n",
    "**Sobre mí:** \n",
    "\n",
    "*Me llamo Paula\n",
    "\n",
    "*Nací y vivo en Córdoba, Argentina.\n",
    "\n",
    "*Tengo 24 años\n",
    "\n",
    "\n",
    "\n",
    "***\n",
    "\n",
    "**Sobre mi carrera profesional:**\n",
    "\n",
    "*Soy Licenciada en Administración de empresas\n",
    "\n",
    "*Actualmente trabajo en el area de Administración y Finanzas de Fligoo, una empresa de software orientada a datos, la cual despertó mi interés por el mundo de los datos y la programación.\n",
    "\n",
    "***\n",
    "\n",
    "**Sobre mis hobbies:**\n",
    "\n",
    "*Disfruto mucho de:*\n",
    "\n",
    "*Pasar tiempo al aire libre\n",
    "\n",
    "*Hacer trekking \n",
    "\n",
    "*Leer\n",
    "\n",
    "*Pasar tiempo con familia y amigos\n",
    "\n",
    "***\n",
    "\n",
    "\n"
   ]
  },
  {
   "cell_type": "markdown",
   "metadata": {},
   "source": [
    "**Presentación en Python:**"
   ]
  },
  {
   "cell_type": "code",
   "execution_count": 22,
   "metadata": {},
   "outputs": [
    {
     "name": "stdout",
     "output_type": "stream",
     "text": [
      "Hola! Mi nombre es Paula Scarafia\n",
      "Naci y vivo en Córdoba\n",
      "Tengo 24 años\n"
     ]
    }
   ],
   "source": [
    "my_name = 'Paula Scarafia'\n",
    "my_city = 'Córdoba'\n",
    "my_age = '24 años'\n",
    "\n",
    "print (\"Hola! Mi nombre es \"+ my_name +\"\")\n",
    "print (\"Naci y vivo en \"+ my_city +\"\")\n",
    "print (\"Tengo \"+ my_age+\"\")\n"
   ]
  }
 ],
 "metadata": {
  "kernelspec": {
   "display_name": "Python 3",
   "language": "python",
   "name": "python3"
  },
  "language_info": {
   "codemirror_mode": {
    "name": "ipython",
    "version": 3
   },
   "file_extension": ".py",
   "mimetype": "text/x-python",
   "name": "python",
   "nbconvert_exporter": "python",
   "pygments_lexer": "ipython3",
   "version": "3.8.5"
  }
 },
 "nbformat": 4,
 "nbformat_minor": 4
}
