{
 "cells": [
  {
   "cell_type": "markdown",
   "metadata": {},
   "source": [
    "<img src=\"assets/socalo-ICDA.png\">"
   ]
  },
  {
   "cell_type": "markdown",
   "metadata": {},
   "source": [
    "# Python para Finanzas y Ciencia de Datos\n",
    "Vladimir Gregorieu | vladgregorieu@gmail.com\n",
    "\n",
    "_Jueves 10 Septiembre 2020_"
   ]
  },
  {
   "cell_type": "markdown",
   "metadata": {},
   "source": [
    "# Presentación "
   ]
  },
  {
   "cell_type": "markdown",
   "metadata": {},
   "source": [
    "Hola! Mi nombre es Vladimir Gregorieu, \n",
    "\n",
    "Me dicen ***VLAD***.\n",
    "\n",
    "Soy Economista, analista de datos y Desarrollador Web Full Stack. Actualmente esty cursando en ICDA el curso de Python para Finanzas y Ciencia de Datos con el objetivo de profundizar mis conocimientos en tal lenguaje y adquirir nuevas herramientas para analisis financieros.\n"
   ]
  },
  {
   "cell_type": "markdown",
   "metadata": {},
   "source": [
    "## Sobre Mí"
   ]
  },
  {
   "cell_type": "markdown",
   "metadata": {},
   "source": [
    "Tengo mucho interes en el analisis de datos y la generación de estadisticas para la toma de decisiones. Fuera del area de programación en mis ratos libres salgo a correr habitualmente y juego al LOL (pasen usuarios para armar unas partidas). Soy medio loco por los animales, tengo tres perros y dos gatos los cuales fueron todos rescatados de la calle. \n",
    "\n",
    "Uno de mis objetivos es irme a otro pais tanto para conocerlo como asi tambien para estudiar alguna maestria que tenga que ver con mi carrera y mis intereses.  "
   ]
  },
  {
   "cell_type": "markdown",
   "metadata": {},
   "source": [
    "## Lo que me interesa en el area de Programación"
   ]
  },
  {
   "cell_type": "markdown",
   "metadata": {},
   "source": [
    "- Programación y Desarrollo Web\n",
    "- Ciencia de Datos y Machine Learning\n",
    "- Investigacion de Mercado y Business Intelligence \n",
    "- Creacion y Almacenamiento en Base de Datos. Conexión con respectivas APIS"
   ]
  },
  {
   "cell_type": "markdown",
   "metadata": {},
   "source": [
    "### Mi frase favorita:\n",
    "> \"La victoria ama a la preparación\" - Gayo Valerio Cátulo "
   ]
  },
  {
   "cell_type": "code",
   "execution_count": null,
   "metadata": {},
   "outputs": [],
   "source": []
  }
 ],
 "metadata": {
  "kernelspec": {
   "display_name": "Python 3",
   "language": "python",
   "name": "python3"
  },
  "language_info": {
   "codemirror_mode": {
    "name": "ipython",
    "version": 3
   },
   "file_extension": ".py",
   "mimetype": "text/x-python",
   "name": "python",
   "nbconvert_exporter": "python",
   "pygments_lexer": "ipython3",
   "version": "3.8.3"
  }
 },
 "nbformat": 4,
 "nbformat_minor": 4
}
