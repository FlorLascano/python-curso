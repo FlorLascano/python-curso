{
 "cells": [
  {
   "cell_type": "markdown",
   "metadata": {},
   "source": [
    "# Nombre\n",
    "***H. Agustín Parodi***\n",
    "\n",
    "## Edad\n",
    "31 AÑOS\n",
    "\n",
    "## Ciudad \n",
    "RIO CUARTO, CÓRDOBA\n",
    "\n",
    "\n",
    "<img src=\"https://p16-va-default.akamaized.net/img/musically-maliva-obj/1626723791038469~c5_720x720.jpeg\" width=\"200\" height=\"400\">\n",
    "\n",
    "### **Administrador de empresas.**\n",
    "> Universidad Carolica de Córdoba\n",
    "\n",
    "\n",
    "### **Oficial de atención de empresas**\n",
    "> Banco Galicia\n",
    "\n",
    "<div class=\"alert alert-block alert-danger\">\n",
    "<b>ATENCIÓN:</b> Alguna vez había hecho algo en html lo que facilita un poquito todo! \n",
    "</div>\n",
    "\n",
    "\n"
   ]
  },
  {
   "cell_type": "markdown",
   "metadata": {},
   "source": [
    "<div class=\"alert alert-block alert-info\">\n",
    "<b>Contacto:</b> + 549 351 3255262 /  horacio_parodi@hotmail.com </div>"
   ]
  },
  {
   "cell_type": "markdown",
   "metadata": {},
   "source": [
    "### CONTINENTES VISITADOS:\n",
    "- [x] Américab\n",
    "- [x] Europa\n",
    "- [ ] África\n",
    "- [x] Asia\n",
    "- [ ] Oceanía"
   ]
  }
 ],
 "metadata": {
  "kernelspec": {
   "display_name": "Python 3",
   "language": "python",
   "name": "python3"
  },
  "language_info": {
   "codemirror_mode": {
    "name": "ipython",
    "version": 3
   },
   "file_extension": ".py",
   "mimetype": "text/x-python",
   "name": "python",
   "nbconvert_exporter": "python",
   "pygments_lexer": "ipython3",
   "version": "3.7.6"
  }
 },
 "nbformat": 4,
 "nbformat_minor": 4
}
