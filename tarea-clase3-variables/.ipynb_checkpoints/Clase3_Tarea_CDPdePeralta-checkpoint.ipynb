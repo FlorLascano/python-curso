{
 "cells": [
  {
   "cell_type": "markdown",
   "metadata": {},
   "source": [
    "<img src=\"https://cdn.urgente24.com/sites/default/files/2019-09/online_banking.jpg\"/>"
   ]
  },
  {
   "cell_type": "markdown",
   "metadata": {},
   "source": [
    "# Sistema Home Banking"
   ]
  },
  {
   "cell_type": "markdown",
   "metadata": {},
   "source": [
    "## Ingresamos los Datos del Cliente"
   ]
  },
  {
   "cell_type": "code",
   "execution_count": 145,
   "metadata": {},
   "outputs": [],
   "source": [
    "# Primer Nombre Cliente\n",
    "client_first_name = \"Esteban\""
   ]
  },
  {
   "cell_type": "code",
   "execution_count": 146,
   "metadata": {},
   "outputs": [],
   "source": [
    "# Apellido Cliente\n",
    "client_last_name = \"Quito\""
   ]
  },
  {
   "cell_type": "code",
   "execution_count": 147,
   "metadata": {},
   "outputs": [],
   "source": [
    "# email Cliente\n",
    "client_email = \"estebanquito@gmail.com\""
   ]
  },
  {
   "cell_type": "code",
   "execution_count": 148,
   "metadata": {},
   "outputs": [],
   "source": [
    "# DNI Cliente\n",
    "client_dni = 40687958"
   ]
  },
  {
   "cell_type": "code",
   "execution_count": 149,
   "metadata": {},
   "outputs": [],
   "source": [
    "name_complet_dni = (client_first_name, client_last_name, client_dni)"
   ]
  },
  {
   "cell_type": "code",
   "execution_count": 150,
   "metadata": {},
   "outputs": [],
   "source": [
    "# Saldo Inicial\n",
    "saldo_inicial = 15000"
   ]
  },
  {
   "cell_type": "code",
   "execution_count": 151,
   "metadata": {},
   "outputs": [],
   "source": [
    "# Cantidad de Tarjeta de Credito\n",
    "cant_credit_card = 2"
   ]
  },
  {
   "cell_type": "code",
   "execution_count": 152,
   "metadata": {},
   "outputs": [],
   "source": [
    "# Productos del Cliente\n",
    "client_product = ['caja de ahorro', 'cuenta corriente', 'tarjeta de credito', 'tarjeta de debito', 'plazo fijo', 'cuenta comitente']"
   ]
  },
  {
   "cell_type": "code",
   "execution_count": 153,
   "metadata": {},
   "outputs": [
    {
     "name": "stdout",
     "output_type": "stream",
     "text": [
      "('Esteban', 'Quito', 40687958)\n"
     ]
    }
   ],
   "source": [
    "print(name_complet_dni)"
   ]
  },
  {
   "cell_type": "code",
   "execution_count": 154,
   "metadata": {},
   "outputs": [
    {
     "name": "stdout",
     "output_type": "stream",
     "text": [
      "Saldo Inicial $15000\n"
     ]
    }
   ],
   "source": [
    "print(\"Saldo Inicial $\" + str(saldo_inicial))"
   ]
  },
  {
   "cell_type": "code",
   "execution_count": 155,
   "metadata": {},
   "outputs": [],
   "source": [
    "gasto_tarjeta_credito = 2584"
   ]
  },
  {
   "cell_type": "code",
   "execution_count": 156,
   "metadata": {},
   "outputs": [],
   "source": [
    "saldo_tarjeta_credito = saldo_inicial - gasto_tarjeta_credito"
   ]
  },
  {
   "cell_type": "code",
   "execution_count": 157,
   "metadata": {},
   "outputs": [
    {
     "name": "stdout",
     "output_type": "stream",
     "text": [
      "Se realizo un gasto por $2584\n"
     ]
    }
   ],
   "source": [
    "print(\"Se realizo un gasto por $\" + str(gasto_tarjeta_credito))"
   ]
  },
  {
   "cell_type": "code",
   "execution_count": 158,
   "metadata": {},
   "outputs": [
    {
     "name": "stdout",
     "output_type": "stream",
     "text": [
      "Ud. cuenta con un saldo en su Tarjeta de Credito Prepaga de $12416\n"
     ]
    }
   ],
   "source": [
    "print(\"Ud. cuenta con un saldo en su Tarjeta de Credito Prepaga de $\" + str(saldo_tarjeta_credito))"
   ]
  },
  {
   "cell_type": "code",
   "execution_count": 159,
   "metadata": {},
   "outputs": [],
   "source": [
    "client_prestamo_si = True\n",
    "client_prestamo_no = False"
   ]
  },
  {
   "cell_type": "code",
   "execution_count": 160,
   "metadata": {},
   "outputs": [
    {
     "name": "stdout",
     "output_type": "stream",
     "text": [
      "12416\n"
     ]
    }
   ],
   "source": [
    "print(saldo_tarjeta_credito)"
   ]
  },
  {
   "cell_type": "code",
   "execution_count": 161,
   "metadata": {},
   "outputs": [
    {
     "name": "stdout",
     "output_type": "stream",
     "text": [
      "Cliente Esteban Quito se encuentra en condiciones de solicitar un prestamo\n"
     ]
    }
   ],
   "source": [
    "if saldo_tarjeta_credito > 10000:\n",
    "    print(\"Cliente \" + client_first_name +\" \" + client_last_name + \" se encuentra en condiciones de solicitar un prestamo\")\n",
    "else:\n",
    "    print(\"Cliente \" + client_first_name +\" \" + client_last_name + \" no califica para solicitar un prestamo\")"
   ]
  },
  {
   "cell_type": "code",
   "execution_count": 162,
   "metadata": {},
   "outputs": [],
   "source": [
    "saldo_tarjeta_credito = saldo_tarjeta_credito - 5000"
   ]
  },
  {
   "cell_type": "code",
   "execution_count": 163,
   "metadata": {},
   "outputs": [
    {
     "name": "stdout",
     "output_type": "stream",
     "text": [
      "7416\n"
     ]
    }
   ],
   "source": [
    "print(saldo_tarjeta_credito)"
   ]
  },
  {
   "cell_type": "code",
   "execution_count": 164,
   "metadata": {},
   "outputs": [
    {
     "name": "stdout",
     "output_type": "stream",
     "text": [
      "Cliente Esteban Quito no califica para solicitar un prestamo\n"
     ]
    }
   ],
   "source": [
    "if saldo_tarjeta_credito > 10000:\n",
    "    print(\"Cliente \" + client_first_name +\" \" + client_last_name + \" se encuentra en condiciones de solicitar un prestamo\")\n",
    "else:\n",
    "    print(\"Cliente \" + client_first_name +\" \" + client_last_name + \" no califica para solicitar un prestamo\")"
   ]
  }
 ],
 "metadata": {
  "kernelspec": {
   "display_name": "Python 3",
   "language": "python",
   "name": "python3"
  },
  "language_info": {
   "codemirror_mode": {
    "name": "ipython",
    "version": 3
   },
   "file_extension": ".py",
   "mimetype": "text/x-python",
   "name": "python",
   "nbconvert_exporter": "python",
   "pygments_lexer": "ipython3",
   "version": "3.7.6"
  }
 },
 "nbformat": 4,
 "nbformat_minor": 4
}
