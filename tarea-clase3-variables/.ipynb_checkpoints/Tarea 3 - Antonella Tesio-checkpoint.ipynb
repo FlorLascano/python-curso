{
 "cells": [
  {
   "cell_type": "markdown",
   "metadata": {},
   "source": [
    "# Tarea 3"
   ]
  },
  {
   "cell_type": "markdown",
   "metadata": {},
   "source": [
    "#### Variables para guardar nombre, apellido, mail y DNI del cliente"
   ]
  },
  {
   "cell_type": "code",
   "execution_count": 1,
   "metadata": {},
   "outputs": [],
   "source": [
    "client_name = \"Antonella\"\n",
    "client_last_name = \"Tesio\"\n",
    "client_mail = \"antotesio@gmail.com\"\n",
    "client_DNI = 123456789"
   ]
  },
  {
   "cell_type": "markdown",
   "metadata": {},
   "source": [
    "#### Variable que usa una colección de datos que permite la inmutabilidad"
   ]
  },
  {
   "cell_type": "code",
   "execution_count": 2,
   "metadata": {},
   "outputs": [],
   "source": [
    "client_data = (client_name, client_last_name, client_DNI) #Tupla para datos inmutables"
   ]
  },
  {
   "cell_type": "markdown",
   "metadata": {},
   "source": [
    "#### Variable con el saldo inicial de la cuenta del cliente y la cantidad de tarjetas que posee activas"
   ]
  },
  {
   "cell_type": "code",
   "execution_count": 3,
   "metadata": {},
   "outputs": [],
   "source": [
    "client_balance = 98520\n",
    "client_cards = 3"
   ]
  },
  {
   "cell_type": "markdown",
   "metadata": {},
   "source": [
    "#### Variable que contiene una lista de los productos que el cliente tiene dados de alta y muestro"
   ]
  },
  {
   "cell_type": "code",
   "execution_count": 4,
   "metadata": {},
   "outputs": [
    {
     "name": "stdout",
     "output_type": "stream",
     "text": [
      "Los productos que posee el cliente son (6):\n",
      "- Caja de ahorro\n",
      "- Cuenta corriente\n",
      "- Tarjeta de crédito\n",
      "- Tarjeta de débito\n",
      "- Plazo fijo\n",
      "- Cuenta comitente\n"
     ]
    }
   ],
   "source": [
    "client_products = [\"Caja de ahorro\", \"Cuenta corriente\", \"Tarjeta de crédito\", \"Tarjeta de débito\", \"Plazo fijo\", \"Cuenta comitente\"] #Lista para datos que sí pueden modificarse\n",
    "print (\"Los productos que posee el cliente son ({}):\".format(len(client_products)))\n",
    "#len devuelve la cantidad de elementos de la lista\n",
    "\n",
    "for product in client_products: #Muestro en forma de lista\n",
    "    print(\"- \" + product)"
   ]
  },
  {
   "cell_type": "markdown",
   "metadata": {},
   "source": [
    "#### Muestro datos del cliente y saldo inicial"
   ]
  },
  {
   "cell_type": "code",
   "execution_count": 5,
   "metadata": {},
   "outputs": [
    {
     "name": "stdout",
     "output_type": "stream",
     "text": [
      "('Antonella', 'Tesio', 123456789)\n",
      "Saldo inicial: $ 98520\n"
     ]
    }
   ],
   "source": [
    "print (client_data)\n",
    "print (\"Saldo inicial: $\", client_balance)"
   ]
  },
  {
   "cell_type": "markdown",
   "metadata": {},
   "source": [
    "#### Variable que representa un gasto y muestro"
   ]
  },
  {
   "cell_type": "code",
   "execution_count": 6,
   "metadata": {},
   "outputs": [
    {
     "name": "stdout",
     "output_type": "stream",
     "text": [
      "Se realizó un gasto por $5890\n"
     ]
    }
   ],
   "source": [
    "client_expenses = 5890\n",
    "print (\"Se realizó un gasto por $\" + str(client_expenses))"
   ]
  },
  {
   "cell_type": "markdown",
   "metadata": {},
   "source": [
    "#### Cálculo de saldo actualizado y muestro saldo"
   ]
  },
  {
   "cell_type": "code",
   "execution_count": 7,
   "metadata": {},
   "outputs": [
    {
     "name": "stdout",
     "output_type": "stream",
     "text": [
      "Monto actualizado del saldo: $ 92630\n"
     ]
    }
   ],
   "source": [
    "updated_balance = client_balance - client_expenses\n",
    "print (\"Monto actualizado del saldo: $\", updated_balance)"
   ]
  },
  {
   "cell_type": "markdown",
   "metadata": {},
   "source": [
    "#### Variable para validar si un cliente está habilitado para pedir un préstamo y muestro "
   ]
  },
  {
   "cell_type": "code",
   "execution_count": 8,
   "metadata": {},
   "outputs": [],
   "source": [
    "if updated_balance >= 100000: #Uso función condicional if \n",
    "    client_loan = True\n",
    "else:\n",
    "    client_loan = False"
   ]
  },
  {
   "cell_type": "code",
   "execution_count": 9,
   "metadata": {},
   "outputs": [
    {
     "name": "stdout",
     "output_type": "stream",
     "text": [
      "El cliente Antonella Tesio no se encuentra habilitado para solicitar un préstamo\n"
     ]
    }
   ],
   "source": [
    "if client_loan == True: #uso nuevamente la función if en base al resultado anterior\n",
    "    print (\"El cliente\", client_name, client_last_name, \"se encuentra habilitado para solicitar un préstamo\")\n",
    "else:\n",
    "    print (\"El cliente\", client_name, client_last_name, \"no se encuentra habilitado para solicitar un préstamo\")"
   ]
  },
  {
   "cell_type": "markdown",
   "metadata": {},
   "source": [
    "<img src=\"https://pbs.twimg.com/media/D6oeOGxW0AAKQoo?format=jpg&name=large\">"
   ]
  },
  {
   "cell_type": "code",
   "execution_count": null,
   "metadata": {},
   "outputs": [],
   "source": []
  }
 ],
 "metadata": {
  "kernelspec": {
   "display_name": "Python 3",
   "language": "python",
   "name": "python3"
  },
  "language_info": {
   "codemirror_mode": {
    "name": "ipython",
    "version": 3
   },
   "file_extension": ".py",
   "mimetype": "text/x-python",
   "name": "python",
   "nbconvert_exporter": "python",
   "pygments_lexer": "ipython3",
   "version": "3.7.6"
  }
 },
 "nbformat": 4,
 "nbformat_minor": 4
}
