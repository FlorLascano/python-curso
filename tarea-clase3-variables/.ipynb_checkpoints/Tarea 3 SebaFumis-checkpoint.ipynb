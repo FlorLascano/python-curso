{
 "cells": [
  {
   "cell_type": "markdown",
   "metadata": {},
   "source": [
    "# Estimado cliente  \n",
    "de **Subanking** nos ponemos en contacto porque tenemos *novedades de su interés*:\n",
    "![Imagen](https://www.cronista.com/__export/1506707189402/sites/diarioelcronista/img/2017/09/29/bancos.jpg_258117318.jpg)\n",
    "Fuente: https://www.cronista.com/__export/1506707189402/sites/diarioelcronista/img/2017/09/29/bancos.jpg_258117318.jpg \n",
    "No dude en consultarnos en [NUESTRA WEB](https://campus.icda.ucc.edu.ar/)"
   ]
  },
  {
   "cell_type": "code",
   "execution_count": 26,
   "metadata": {},
   "outputs": [
    {
     "name": "stdout",
     "output_type": "stream",
     "text": [
      "('Sebastián', 'Fumis', 'sfumis@gmail.com', 22161117)\n"
     ]
    }
   ],
   "source": [
    "client_name = \"Sebastián\"\n",
    "client_surname = \"Fumis\"\n",
    "client_email = \"sfumis@gmail.com\"\n",
    "client_city = \"Santa Fe\"\n",
    "client_sex= \"Masculino\"\n",
    "client_DNI = 22161117\n",
    "client_year_incomes = 1000000 #utilizamos este dato para hacer un calculo del limite crediticio\n",
    "client = (client_name, client_surname, client_email, client_DNI)\n",
    "client_full_name = (str (client_name) + \" \" + str (client_surname))\n",
    "print(client)"
   ]
  },
  {
   "cell_type": "code",
   "execution_count": 177,
   "metadata": {},
   "outputs": [
    {
     "name": "stdout",
     "output_type": "stream",
     "text": [
      "Los productos del cliente son(6):\n",
      "- caja de ahorro\n",
      "- cuenta corriente\n",
      "- tarjeta de credito\n",
      "- tarjeta de debito\n",
      "- plazo fijo\n",
      "- cuenta comitente\n"
     ]
    }
   ],
   "source": [
    "productos = [\"caja de ahorro\", \"cuenta corriente\", \"tarjeta de credito\", \"tarjeta de debito\", \"plazo fijo\", \"cuenta comitente\"] #aca el profe castellanizó la variable :)\n",
    "\n",
    "# Puntos extra para el que use esta forma de \n",
    "# combinar texto y variables y sea capaz de \n",
    "# explicar que hace .format() y len(productos)\n",
    "print(\"Los productos del cliente son({}):\".format(len(productos)))\n",
    "\n",
    "# Esto lo vamos a ver mas adelante\n",
    "for product in productos:\n",
    "    print(\"- \" + product)"
   ]
  },
  {
   "cell_type": "code",
   "execution_count": 86,
   "metadata": {},
   "outputs": [
    {
     "name": "stdout",
     "output_type": "stream",
     "text": [
      "La cantidad de tarjetas de crédito del cliente es: 0\n"
     ]
    }
   ],
   "source": [
    "cant_tarjetas = 0\n",
    "print(\"La cantidad de tarjetas de crédito del cliente es: \" + str(cant_tarjetas))"
   ]
  },
  {
   "cell_type": "code",
   "execution_count": 157,
   "metadata": {},
   "outputs": [
    {
     "name": "stdout",
     "output_type": "stream",
     "text": [
      "[1, 2, 3, 4, 5]\n",
      "(1, 2, 3, 4, 5)\n",
      "Las opciones para completar el sexo del cliente son:('Masculino', 'Femenino')\n",
      "La diferencia entre una lista y una tupla, \n",
      "es que la tupla es INMUTABLE y la lista NO.\n"
     ]
    }
   ],
   "source": [
    "my_list = [1, 2, 3, 4, 5]  # Una lista de números enteros\n",
    "my_tuple = (1, 2, 3, 4, 5)  #Una tupla de numeros enteros\n",
    "sex_tuple =('Masculino', 'Femenino') #La tupla de Sexo está pensada para cambiar el encabezado de Sr o Sra\n",
    "print(my_list)\n",
    "print(my_tuple)\n",
    "print(\"Las opciones para completar el sexo del cliente son:\" + str(sex_tuple)) \n",
    "\n",
    "difference = \"La diferencia entre una lista y una tupla, \\nes que la tupla es INMUTABLE y la lista NO.\"\n",
    "\n",
    "print(difference)"
   ]
  },
  {
   "cell_type": "code",
   "execution_count": 110,
   "metadata": {},
   "outputs": [
    {
     "name": "stdout",
     "output_type": "stream",
     "text": [
      "Estimado Cliente Sr. Sebastián Fumis se encuentra habilitado para solicitar un prestamo.\n"
     ]
    }
   ],
   "source": [
    "prestamo = True\n",
    "print(\"Estimado Cliente Sr. \" + client_name + \" \" + client_surname + \" se encuentra habilitado para solicitar un prestamo.\")"
   ]
  },
  {
   "cell_type": "code",
   "execution_count": 44,
   "metadata": {},
   "outputs": [
    {
     "name": "stdout",
     "output_type": "stream",
     "text": [
      "El saldo en la cuenta es de: $3555.98\n"
     ]
    }
   ],
   "source": [
    "saldo = 3555.98\n",
    "print(\"El saldo en la cuenta es de: $\" + str(saldo))"
   ]
  },
  {
   "cell_type": "code",
   "execution_count": 88,
   "metadata": {},
   "outputs": [
    {
     "name": "stdout",
     "output_type": "stream",
     "text": [
      "300\n"
     ]
    }
   ],
   "source": [
    "extract = 300\n",
    "print(extract)"
   ]
  },
  {
   "cell_type": "code",
   "execution_count": 160,
   "metadata": {},
   "outputs": [
    {
     "data": {
      "text/plain": [
       "2055.98"
      ]
     },
     "execution_count": 160,
     "metadata": {},
     "output_type": "execute_result"
    }
   ],
   "source": [
    "saldo - extract"
   ]
  },
  {
   "cell_type": "code",
   "execution_count": 162,
   "metadata": {},
   "outputs": [
    {
     "name": "stdout",
     "output_type": "stream",
     "text": [
      "Sebastián Fumis\n",
      "Saldo inicial $: 2355.98\n",
      "Se realizo un gasto por $: 300\n",
      "Su saldo actualizado es de $: 2055.98\n"
     ]
    }
   ],
   "source": [
    "print (client_full_name)\n",
    "print (\"Saldo inicial $: \" + str(saldo))\n",
    "print (\"Se realizo un gasto por $: \" + str (extract))\n",
    "print (\"Su saldo actualizado es de $: \" + str (saldo-extract)) #no me gusta para nada esta solucion, \n",
    "#quisiera que se actualice la misma variable saldo y no lo pude lobrar"
   ]
  },
  {
   "cell_type": "markdown",
   "metadata": {},
   "source": [
    "## El comando .format:\n",
    "Sirve para rellenar el espacio entre corchetes anterior a su propia ubicación y lo rellena con la función posterior a .format. En este caso le estamos pidiendo que tome la longitud (o cantidad de elementos) que el cliente posee de su lista de productos."
   ]
  },
  {
   "cell_type": "code",
   "execution_count": 48,
   "metadata": {},
   "outputs": [
    {
     "name": "stdout",
     "output_type": "stream",
     "text": [
      "173778.62666666665\n"
     ]
    }
   ],
   "source": [
    "saldo2 = float(saldo)\n",
    "credit_limit = (saldo2 *4 + client_year_incomes/3)/2\n",
    "print (credit_limit)"
   ]
  },
  {
   "cell_type": "code",
   "execution_count": 62,
   "metadata": {},
   "outputs": [
    {
     "name": "stdin",
     "output_type": "stream",
     "text": [
      "Ingrese el monto solicitado $:  150000\n"
     ]
    }
   ],
   "source": [
    "requested_amount = input('Ingrese el monto solicitado $: ')"
   ]
  },
  {
   "cell_type": "code",
   "execution_count": 63,
   "metadata": {},
   "outputs": [
    {
     "name": "stdout",
     "output_type": "stream",
     "text": [
      "Felicitaciones!!! Ud. ha calificado \n",
      " satisfactoriamente para un préstamo de $:150000\n"
     ]
    }
   ],
   "source": [
    "int_requested_amount = int(requested_amount)\n",
    "if int_requested_amount < credit_limit:\n",
    "    print ('Felicitaciones!!! Ud. ha calificado \\n satisfactoriamente para un préstamo de $:' + str(int_requested_amount))"
   ]
  },
  {
   "cell_type": "code",
   "execution_count": 81,
   "metadata": {},
   "outputs": [
    {
     "name": "stdout",
     "output_type": "stream",
     "text": [
      "Las condiciones de su crédito son:\n",
      "{'Cuotas': '12', 'Tasa': '0.02'}\n",
      "dict_keys(['Cuotas', 'Tasa'])\n",
      "dict_values(['12', '0.02'])\n"
     ]
    }
   ],
   "source": [
    "credit_line1 = {'Cuotas': '12', 'Tasa': '0.02'} #condiciones de la linea de credito cantidad de cuotas y tasa de interes\n",
    "print(\"Las condiciones de su crédito son:\")\n",
    "print(credit_line1)\n",
    "print(credit_line1.keys())\n",
    "print(credit_line1.values())"
   ]
  },
  {
   "cell_type": "code",
   "execution_count": 103,
   "metadata": {},
   "outputs": [
    {
     "name": "stdout",
     "output_type": "stream",
     "text": [
      "Ud. ha solicitado un prestamo en 12 cuotas, \n",
      "con una tasa de interés mensual del 0.02\n",
      "El monto de la cuota mensual será de: 15500.0\n"
     ]
    },
    {
     "data": {
      "text/plain": [
       "dict_values(['12', '0.02'])"
      ]
     },
     "execution_count": 103,
     "metadata": {},
     "output_type": "execute_result"
    }
   ],
   "source": [
    "payments_quantity = credit_line1.get('Cuotas')\n",
    "rate = credit_line1.get('Tasa')\n",
    "print ('Ud. ha solicitado un prestamo en ' + payments_quantity +' cuotas, \\ncon una tasa de interés mensual del ' + rate)\n",
    "payments_quantity1 = int(payments_quantity)\n",
    "rate1= float(rate)\n",
    "payment = int_requested_amount * (1/payments_quantity1+rate1) #formula para calcular la cuota a devolver\n",
    "credit_enabled = True #no estoy entendiendo como usar esta condicion booleana\n",
    "print ('El monto de la cuota mensual será de: '+ str(payment))\n",
    "credit_line1.values()"
   ]
  },
  {
   "cell_type": "markdown",
   "metadata": {},
   "source": [
    "## Subanking es tu Banco!!!!! Gracias por elegirnos\n",
    "### Te esperamos nuevamente"
   ]
  }
 ],
 "metadata": {
  "kernelspec": {
   "display_name": "Python 3",
   "language": "python",
   "name": "python3"
  },
  "language_info": {
   "codemirror_mode": {
    "name": "ipython",
    "version": 3
   },
   "file_extension": ".py",
   "mimetype": "text/x-python",
   "name": "python",
   "nbconvert_exporter": "python",
   "pygments_lexer": "ipython3",
   "version": "3.7.6"
  }
 },
 "nbformat": 4,
 "nbformat_minor": 4
}
