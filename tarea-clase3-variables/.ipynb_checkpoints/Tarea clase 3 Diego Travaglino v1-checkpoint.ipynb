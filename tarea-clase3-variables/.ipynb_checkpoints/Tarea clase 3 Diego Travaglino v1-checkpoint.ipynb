{
 "cells": [
  {
   "cell_type": "markdown",
   "metadata": {},
   "source": [
    "#consigna\n",
    "Se nos encargó desarrollar un sistema de home banking por lo que tenemos que empezar con los primeros pasos. Por el momento solo contamos con un cliente.\n",
    "\n",
    "Requisitos minimos\n",
    "1.-Crear una variable para guardar el nombre del cliente.\n",
    "2.-Crear una variable para guardar el apellido del cliente.\n",
    "3.-Crear una variable para guardar el mail del cliente.\n",
    "4.-Crear una variable para guardar el DNI del cliente.\n",
    "5.-Como las variables Nombre, Apellido y DNI, no cambiarán , crear una variable que use una colección de datos que nos permita garantizar inmutabilidad.\n",
    "6.-Crear una variable con el saldo inicial de la cuenta del cliente.\n",
    "7.-Crear una variable con la cantidad de tarjetas que posee activas el cliente.\n",
    "8.-Crear una variable que contenga una lista de los productos que el cliente tiene dados de alta (serán \"caja de ahorro\", \"cuenta corriente\", \"tarjeta de credito\", \"tarjeta de debito\", \"plazo fijo\", \"cuenta comitente\").\n",
    "9.-Imprimir en pantalla todos los datos del cliente (Nombre, Apellido y DNI).\n",
    "10.-Imprimir en pantalla el mensaje \"Saldo inicial: \\$\" y agregar el saldo inicial del cliente.\n",
    "12.-Crear una variable que represente un gasto, por un valor especifico.\n",
    "13.- Restar el gasto al saldo de la cuenta del cliente.\n",
    "14.-Imprimir el mensaje \"Se realizo un gasto por \\$\" y agregar el monto gastado.\n",
    "15.-Informar al cliente su saldo actualizado con un mensaje pertinente.\n",
    "16.-Crear una variable que nos permita validar si un cliente está habilitado para pedir un prestamo o no (True o False).\n",
    "\n",
    "Requisitos extras\n",
    "Usar comentarios en el código (no están explicados en esta libreta, debe buscar en la Clase 2 o investigar \"Comentarios en Python\" en internet).\n",
    "Describir cada uno (o en grupos) los pasos de Requisitos minimos, usando celdas de texto enriquecido.\n",
    "Agregar una imagen de internet que sea relevante.\n",
    "Mantener el orden y la prolijidad de su libreta, al igual que hacer uso de las buenas practicas de programacion presentadas en clase (convenciones de nombres para variables).\n",
    "Agregar alguna funcionalidad extra\n",
    "Ejemplo simple\n",
    "In [ ]:\n",
    "client_name = \"Federico\"\n",
    "client_DNI = 12345236567\n",
    "\n",
    "client = (client_name, client_DNI)\n",
    "\n",
    "print(client)\n",
    "\n",
    "In [ ]:\n",
    "prestamo = True\n",
    "print(client_name + \" se encuentra habilitado para solicitar un prestamo.\")\n",
    "In [ ]:\n",
    "saldo = 156982.98\n",
    "print(\"El saldo en la cuenta es de: $\" + str(saldo))\n",
    "In [ ]:\n",
    "productos = [\"tarjeta de credito\", \"caja de ahorro\"]\n",
    "\n",
    "# Puntos extra para el que use esta forma de \n",
    "# combinar texto y variables y sea capaz de \n",
    "# explicar que hace .format() y len(productos)\n",
    "print(\"Los productos del cliente son({}):\".format(len(productos)))\n",
    "\n",
    "# Esto lo vamos a ver mas adelante\n",
    "for product in productos:\n",
    "        print(\"- \" + product)"
   ]
  },
  {
   "cell_type": "code",
   "execution_count": 40,
   "metadata": {},
   "outputs": [],
   "source": [
    "nombre_cliente = \"Diego\""
   ]
  },
  {
   "cell_type": "code",
   "execution_count": 41,
   "metadata": {},
   "outputs": [],
   "source": [
    "apellido_cliente = \"Travaglino\""
   ]
  },
  {
   "cell_type": "code",
   "execution_count": 42,
   "metadata": {},
   "outputs": [],
   "source": [
    "mail_cliente = \"dtravaglino@gmail.com\""
   ]
  },
  {
   "cell_type": "code",
   "execution_count": 43,
   "metadata": {},
   "outputs": [],
   "source": [
    "dni_cliente = \"20145727\""
   ]
  },
  {
   "cell_type": "code",
   "execution_count": 44,
   "metadata": {},
   "outputs": [],
   "source": [
    "cliente_tupla = (nombre_cliente, apellido_cliente, mail_cliente, dni_cliente)"
   ]
  },
  {
   "cell_type": "code",
   "execution_count": 45,
   "metadata": {},
   "outputs": [],
   "source": [
    "saldo_inicial = 0"
   ]
  },
  {
   "cell_type": "code",
   "execution_count": 46,
   "metadata": {},
   "outputs": [],
   "source": [
    "cantidad_tarjetas = 1"
   ]
  },
  {
   "cell_type": "code",
   "execution_count": 47,
   "metadata": {},
   "outputs": [],
   "source": [
    "lista_productos = \"caja de ahorro\", \"cuenta corriente\", \"tarjeta de credito\", \"tarjeta de debito\", \"plazo fijo\", \"cuenta comitente\""
   ]
  },
  {
   "cell_type": "code",
   "execution_count": 48,
   "metadata": {},
   "outputs": [
    {
     "name": "stdout",
     "output_type": "stream",
     "text": [
      "Diego Travaglino 20145727\n"
     ]
    }
   ],
   "source": [
    "print(nombre_cliente, apellido_cliente, dni_cliente)"
   ]
  },
  {
   "cell_type": "code",
   "execution_count": 49,
   "metadata": {},
   "outputs": [
    {
     "name": "stdout",
     "output_type": "stream",
     "text": [
      "Saldo inicial: \\$ 0\n"
     ]
    }
   ],
   "source": [
    "print(\"Saldo inicial: \\$\", saldo_inicial)"
   ]
  },
  {
   "cell_type": "code",
   "execution_count": 50,
   "metadata": {},
   "outputs": [],
   "source": [
    "gasto_mantenimiento = 250"
   ]
  },
  {
   "cell_type": "code",
   "execution_count": 51,
   "metadata": {},
   "outputs": [
    {
     "name": "stdout",
     "output_type": "stream",
     "text": [
      "-250\n"
     ]
    }
   ],
   "source": [
    "print(saldo_inicial-gasto_mantenimiento)"
   ]
  },
  {
   "cell_type": "code",
   "execution_count": 52,
   "metadata": {},
   "outputs": [
    {
     "name": "stdout",
     "output_type": "stream",
     "text": [
      "Se realizo un gasto, en concepto mantenimiento cuenta por \\$ 250\n"
     ]
    }
   ],
   "source": [
    "print(\"Se realizo un gasto, en concepto mantenimiento cuenta por \\$\", gasto_mantenimiento)"
   ]
  },
  {
   "cell_type": "code",
   "execution_count": 53,
   "metadata": {},
   "outputs": [],
   "source": [
    "saldo_actual = saldo_inicial - gasto_mantenimiento"
   ]
  },
  {
   "cell_type": "code",
   "execution_count": 54,
   "metadata": {},
   "outputs": [
    {
     "name": "stdout",
     "output_type": "stream",
     "text": [
      "Su saldo actual es -250\n"
     ]
    }
   ],
   "source": [
    "print(\"Su saldo actual es\", str(saldo_actual))"
   ]
  },
  {
   "cell_type": "code",
   "execution_count": 55,
   "metadata": {},
   "outputs": [],
   "source": [
    "# ahora busque una imagen para que el cliente pueda de forma grafica ver su saldo"
   ]
  },
  {
   "cell_type": "markdown",
   "metadata": {},
   "source": [
    "<img src=http://www.consultarsaldo.com/wp-content/uploads/2015/12/saldo-alelo-refei%C3%A7%C3%A3o.jpg>"
   ]
  },
  {
   "cell_type": "code",
   "execution_count": 56,
   "metadata": {},
   "outputs": [],
   "source": [
    "habilitacion_credito = \"true\""
   ]
  },
  {
   "cell_type": "code",
   "execution_count": null,
   "metadata": {},
   "outputs": [],
   "source": []
  }
 ],
 "metadata": {
  "kernelspec": {
   "display_name": "Python 3",
   "language": "python",
   "name": "python3"
  },
  "language_info": {
   "codemirror_mode": {
    "name": "ipython",
    "version": 3
   },
   "file_extension": ".py",
   "mimetype": "text/x-python",
   "name": "python",
   "nbconvert_exporter": "python",
   "pygments_lexer": "ipython3",
   "version": "3.7.6"
  }
 },
 "nbformat": 4,
 "nbformat_minor": 4
}
