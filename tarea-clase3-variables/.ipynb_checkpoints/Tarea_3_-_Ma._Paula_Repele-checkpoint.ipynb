{
 "cells": [
  {
   "cell_type": "markdown",
   "metadata": {},
   "source": [
    "# BANCO JUPITER"
   ]
  },
  {
   "cell_type": "markdown",
   "metadata": {},
   "source": [
    "## Home Banking"
   ]
  },
  {
   "cell_type": "markdown",
   "metadata": {},
   "source": [
    "<img src=\"https://www.bna.com.ar/Images/internas/interna-homebanking.jpg\"/>"
   ]
  },
  {
   "cell_type": "markdown",
   "metadata": {},
   "source": [
    "\n",
    "1. **Nombre** del cliente.\n",
    "2. **Aapellido** del cliente.\n",
    "3. **Mail** del cliente.\n",
    "4. **DNI** del cliente.\n",
    "5. Colección de datos que nos permita garantizar **inmutabilidad**.\n",
    "6. **Saldo inicial** de la cuenta del cliente.\n",
    "7. **Cantidad de tarjetas** que posee activas el cliente.\n",
    "8. **Lista** de los productos que el cliente tiene dados de alta"
   ]
  },
  {
   "cell_type": "code",
   "execution_count": 91,
   "metadata": {},
   "outputs": [],
   "source": [
    "\n",
    "client_name = \"Maria Paula\"\n",
    "\n",
    "client_lastname = \"Repele\"\n",
    "\n",
    "client_mail = \"paurepele@gmail.com\"\n",
    "\n",
    "client_DNI = 34186641\n",
    "\n",
    "client = (\"client_name\", \"client_lastname\", \"client_DNI\", \"client_mail\")\n",
    "\n",
    "saldo = 10000\n",
    "\n",
    "num_tarjetas = 2\n",
    "tarjeta1 = \"Visa Crédito\"\n",
    "tarjeta2 = \"Visa Débito\"\n",
    "\n",
    "productos = [\"caja de ahorro\", \"cuenta corriente\", \"tarjeta de credito\", \"tarjeta de debito\", \"plazo fijo\", \"cuenta comitente\"]"
   ]
  },
  {
   "cell_type": "markdown",
   "metadata": {},
   "source": [
    "9.Imprimir en pantalla todos los **datos del cliente**"
   ]
  },
  {
   "cell_type": "code",
   "execution_count": 83,
   "metadata": {
    "scrolled": true
   },
   "outputs": [
    {
     "name": "stdout",
     "output_type": "stream",
     "text": [
      "Datos del Cliente:\n",
      "('Maria Paula', 'Repele', 34186641, 'paurepele@gmail.com')\n",
      "Cantidad de tarjetas activas: 2\n",
      "Visa Crédito\n",
      "Visa Débito\n"
     ]
    }
   ],
   "source": [
    "print(\"Datos del Cliente:\")\n",
    "print(client)\n",
    "print(\"Cantidad de tarjetas activas: \" + str(num_tarjetas))\n",
    "print(tarjeta1)\n",
    "print(tarjeta2)"
   ]
  },
  {
   "cell_type": "code",
   "execution_count": 89,
   "metadata": {},
   "outputs": [
    {
     "name": "stdout",
     "output_type": "stream",
     "text": [
      "Los productos del cliente son(6):\n",
      "- caja de ahorro\n",
      "- cuenta corriente\n",
      "- tarjeta de credito\n",
      "- tarjeta de debito\n",
      "- plazo fijo\n",
      "- cuenta comitente\n"
     ]
    }
   ],
   "source": [
    "print(\"Los productos del cliente son({}):\".format(len(productos)))\n",
    "for product in productos:\n",
    "    print(\"- \" + product)"
   ]
  },
  {
   "cell_type": "markdown",
   "metadata": {},
   "source": [
    "10.Imprimir en pantalla el mensaje **\"Saldo inicial: $\"** y agregar el saldo inicial del cliente."
   ]
  },
  {
   "cell_type": "code",
   "execution_count": 86,
   "metadata": {},
   "outputs": [
    {
     "name": "stdout",
     "output_type": "stream",
     "text": [
      "El saldo inicial en la cuenta es de: $10000\n"
     ]
    }
   ],
   "source": [
    "\n",
    "print(\"El saldo inicial en la cuenta es de: $\" + str(saldo))"
   ]
  },
  {
   "cell_type": "markdown",
   "metadata": {},
   "source": [
    "11.Variable que represente un **gasto**, por un valor especifico\n",
    "12.Restar el gasto al saldo de la cuenta del cliente.\n",
    "13.Imprimir el mensaje **\"Se realizo un gasto por $\"** y agregar el monto gastado"
   ]
  },
  {
   "cell_type": "code",
   "execution_count": 87,
   "metadata": {},
   "outputs": [
    {
     "name": "stdout",
     "output_type": "stream",
     "text": [
      "Se realizo un gasto por $ -4000\n",
      "Detalle consumo: farmacity\n"
     ]
    }
   ],
   "source": [
    "nombre_gasto = \"farmacity\"\n",
    "monto_gasto = -4000\n",
    "consumo = (\"nombre_gasto\", \"Str(monto_gasto)\")\n",
    "\n",
    "print(\"Se realizo un gasto por $ \" + str(monto_gasto))\n",
    "print(\"Detalle consumo: \" +  nombre_gasto)"
   ]
  },
  {
   "cell_type": "markdown",
   "metadata": {},
   "source": [
    "14.Informar al cliente su **saldo actualizado** con un mensaje pertinente."
   ]
  },
  {
   "cell_type": "code",
   "execution_count": 51,
   "metadata": {},
   "outputs": [
    {
     "name": "stdout",
     "output_type": "stream",
     "text": [
      "Saldo final\n",
      "6000\n"
     ]
    }
   ],
   "source": [
    "print(\"Saldo final\")\n",
    "print(saldo + monto_gasto)"
   ]
  },
  {
   "cell_type": "markdown",
   "metadata": {},
   "source": [
    "15.Validar si un cliente está habilitado para **pedir un prestamo** "
   ]
  },
  {
   "cell_type": "code",
   "execution_count": 94,
   "metadata": {},
   "outputs": [
    {
     "name": "stdout",
     "output_type": "stream",
     "text": [
      "Maria Paula se encuentra habilitado para solicitar un préstamo.\n"
     ]
    }
   ],
   "source": [
    "prestamo = True\n",
    "print(client_name + \" se encuentra habilitado para solicitar un préstamo.\")"
   ]
  },
  {
   "cell_type": "code",
   "execution_count": null,
   "metadata": {},
   "outputs": [],
   "source": [
    "\n",
    "    "
   ]
  },
  {
   "cell_type": "code",
   "execution_count": null,
   "metadata": {},
   "outputs": [],
   "source": []
  }
 ],
 "metadata": {
  "kernelspec": {
   "display_name": "Python 3",
   "language": "python",
   "name": "python3"
  },
  "language_info": {
   "codemirror_mode": {
    "name": "ipython",
    "version": 3
   },
   "file_extension": ".py",
   "mimetype": "text/x-python",
   "name": "python",
   "nbconvert_exporter": "python",
   "pygments_lexer": "ipython3",
   "version": "3.7.6"
  }
 },
 "nbformat": 4,
 "nbformat_minor": 4
}
