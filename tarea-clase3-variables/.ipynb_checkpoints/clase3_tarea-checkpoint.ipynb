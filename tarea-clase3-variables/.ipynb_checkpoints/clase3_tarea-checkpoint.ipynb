{
 "cells": [
  {
   "cell_type": "markdown",
   "metadata": {},
   "source": [
    "<img src=\"../assets/socalo-ICDA.png\">"
   ]
  },
  {
   "cell_type": "markdown",
   "metadata": {},
   "source": [
    "# Python para Finanzas y Ciencia de Datos"
   ]
  },
  {
   "cell_type": "markdown",
   "metadata": {},
   "source": [
    "## Clase 3: Repaso y Tarea\n",
    "\n",
    "### Variables \n",
    "\n",
    "Una variable es un contenedor de información.\n",
    "\n",
    "En Python definimos una variable usando un **identificador** y asignando un **valor** al mismo.\n",
    "\n",
    "Los nombres de variables en Python deben escribirse en minusclas, separando palabras con \"_\" , y usando nombres representativos del valor que contienen."
   ]
  },
  {
   "cell_type": "code",
   "execution_count": null,
   "metadata": {},
   "outputs": [],
   "source": [
    "var = \"Python\"\n",
    "print(\"El nombre de la variable es var y su valor es \" + var)"
   ]
  },
  {
   "cell_type": "markdown",
   "metadata": {},
   "source": [
    "Podemos inicializar y asignar valores a muchas variables en una sola linea:"
   ]
  },
  {
   "cell_type": "code",
   "execution_count": null,
   "metadata": {},
   "outputs": [],
   "source": [
    "x, y, z = 1, 10, 100\n",
    "print(x)\n",
    "print(y)\n",
    "print(z)"
   ]
  },
  {
   "cell_type": "markdown",
   "metadata": {},
   "source": [
    "Python define los siguientes **tipos** de variables:\n",
    "* Numéricas"
   ]
  },
  {
   "cell_type": "code",
   "execution_count": null,
   "metadata": {},
   "outputs": [],
   "source": [
    "int_number = 100  # Numero entero\n",
    "float_number = 123.54  # Numero decimal\n",
    "\n",
    "print(\"Numero entero: \" + str(int_number))\n",
    "print(\"Numero decimal: \" + str(float_number))"
   ]
  },
  {
   "cell_type": "markdown",
   "metadata": {},
   "source": [
    "* String (cadenas de caracteres y texto en general)"
   ]
  },
  {
   "cell_type": "code",
   "execution_count": null,
   "metadata": {},
   "outputs": [],
   "source": [
    "my_text = \"ICDA - Python Para Finanzas\"\n",
    "\n",
    "print(my_text)"
   ]
  },
  {
   "cell_type": "markdown",
   "metadata": {},
   "source": [
    "* Listas y Tuplas. Son secuencias, colecciones o estructuras de datos (usadas para almacenar mas de un valor, siguiendo una logica determinada)"
   ]
  },
  {
   "cell_type": "code",
   "execution_count": null,
   "metadata": {},
   "outputs": [],
   "source": [
    "my_list = [1, 2, 3, 4, 5]  # Una lista de números enteros\n",
    "my_tuple = (1, 2, 3, 4, 5)  #Una tupla de numeros enteros\n",
    "\n",
    "print(my_list)\n",
    "print(my_tuple)\n",
    "\n",
    "difference = \"La diferencia entre una lista y una tupla, \\nes que la tupla es INMUTABLE y la lista NO.\"\n",
    "\n",
    "print(difference)"
   ]
  },
  {
   "cell_type": "markdown",
   "metadata": {},
   "source": [
    "* Diccionarios. Son otro tipo otro tipo de coleccion de datos que _mapean_ una clave, con un valor; igual que un diciconario de algun idioma _mapea_ una palabra con su significado."
   ]
  },
  {
   "cell_type": "code",
   "execution_count": null,
   "metadata": {},
   "outputs": [],
   "source": [
    "my_dict = {'clave1': 'valor 1', 'clave2': 'valor2', 'clave3': 'valor3'}"
   ]
  },
  {
   "cell_type": "code",
   "execution_count": null,
   "metadata": {},
   "outputs": [],
   "source": [
    "print(\"Diccionario\")\n",
    "print(my_dict)\n",
    "print(my_dict.keys())\n",
    "print(my_dict.values())"
   ]
  },
  {
   "cell_type": "markdown",
   "metadata": {},
   "source": [
    "* Tipo Booleano . Solo hay doy opciones posubles True y False (se usan para hacer validaciones)"
   ]
  },
  {
   "cell_type": "code",
   "execution_count": null,
   "metadata": {},
   "outputs": [],
   "source": [
    "bool1 = True\n",
    "bool2 = False\n",
    "\n",
    "print(bool1)\n",
    "print(bool2)"
   ]
  },
  {
   "cell_type": "markdown",
   "metadata": {},
   "source": [
    "### Funciones\n",
    "\n",
    "En Python podemos usar funciones para realizar operaciones sobre nuestros datos. Algunas son propias del lenguaje y podemos usarlas sin mayor trabajo. Otras podemos usarla desde alguna libreria, e incluso podemos definir las nuestras.\n",
    "\n",
    "Al igual que con las variables, los nombres de funciones se escriben en minusculas, palabras separadas por \"_\" y nomrbes representativos. Sumamos que van acompañadas de \"()\" , que es la \"bolsa donde metemos todo lo que va a procesar esa funcion\".\n",
    "\n",
    "Lo que va dentro de la funcion se llama **parametro**."
   ]
  },
  {
   "cell_type": "code",
   "execution_count": null,
   "metadata": {},
   "outputs": [],
   "source": [
    "print(\"La funcion print() es propia de Python\")\n",
    "print(\"lo que hace es imprimir en la consola todo lo que le\")\n",
    "print(\"pasemos como parámetro, transformandolo a texto (string).\")\n",
    "print(\"Cada vez que usamos una funcion print(), agrega una linea de texto nueva debajo de la ultima.\")"
   ]
  },
  {
   "cell_type": "raw",
   "metadata": {},
   "source": [
    "Otras funciones propias del lenguaje que utilizaremos bastante son:"
   ]
  },
  {
   "cell_type": "markdown",
   "metadata": {},
   "source": [
    "* type(): Nos dice a que **tipo** de dato pertenece lo que pasemos como parametro."
   ]
  },
  {
   "cell_type": "code",
   "execution_count": null,
   "metadata": {},
   "outputs": [],
   "source": [
    "number1 = 1678\n",
    "type(number1)"
   ]
  },
  {
   "cell_type": "markdown",
   "metadata": {},
   "source": [
    "* str(): Convierte todo lo que pasemos como parametro a String (texto)."
   ]
  },
  {
   "cell_type": "code",
   "execution_count": null,
   "metadata": {},
   "outputs": [],
   "source": [
    "number1 = 1678\n",
    "type(str(number1))"
   ]
  },
  {
   "cell_type": "markdown",
   "metadata": {},
   "source": [
    "* int() y float(): Convierte todo lo que pasemos como parametro a numeros enteros o decimales respectivamente."
   ]
  },
  {
   "cell_type": "code",
   "execution_count": null,
   "metadata": {},
   "outputs": [],
   "source": [
    "number1 = 1678\n",
    "number2 = 1252.34563"
   ]
  },
  {
   "cell_type": "code",
   "execution_count": null,
   "metadata": {},
   "outputs": [],
   "source": [
    "type(number1)"
   ]
  },
  {
   "cell_type": "code",
   "execution_count": null,
   "metadata": {},
   "outputs": [],
   "source": [
    "type(float(number1))"
   ]
  },
  {
   "cell_type": "code",
   "execution_count": null,
   "metadata": {},
   "outputs": [],
   "source": [
    "type(number2)"
   ]
  },
  {
   "cell_type": "code",
   "execution_count": null,
   "metadata": {},
   "outputs": [],
   "source": [
    "type(int(number2))"
   ]
  },
  {
   "cell_type": "markdown",
   "metadata": {},
   "source": [
    "### Operaciones con variables\n",
    "\n",
    "Cada tipo de variable nos permite hacer operaciones sobre esta, propias de su tipo.\n",
    "\n",
    "Por ejemplo con variables numericas podemos hacer todas las operaciones matematicas conocidas:"
   ]
  },
  {
   "cell_type": "code",
   "execution_count": null,
   "metadata": {},
   "outputs": [],
   "source": [
    "print(\"Suma 12 + 54\")\n",
    "print(12 + 54)"
   ]
  },
  {
   "cell_type": "code",
   "execution_count": null,
   "metadata": {},
   "outputs": [],
   "source": [
    "print(\"Resta de dos variables numericas a=20 y b=14\")\n",
    "\n",
    "a = 20\n",
    "b = 14\n",
    "\n",
    "print(a - b)"
   ]
  },
  {
   "cell_type": "code",
   "execution_count": null,
   "metadata": {},
   "outputs": [],
   "source": [
    "print(\"Multiplicar una variable x=5 por un numero decimal 43.5\")\n",
    "\n",
    "x = 5\n",
    "\n",
    "print(x * 43.5)"
   ]
  },
  {
   "cell_type": "code",
   "execution_count": null,
   "metadata": {},
   "outputs": [],
   "source": [
    "print(\"Dividir dos numeros enteros y asignar el resultado a una variable\")\n",
    "\n",
    "result = 34 / 2\n",
    "\n",
    "print(result)"
   ]
  },
  {
   "cell_type": "markdown",
   "metadata": {},
   "source": [
    "Podemos usar mas funciones propias de Python para trabajar con numeros como por ejemplo:"
   ]
  },
  {
   "cell_type": "markdown",
   "metadata": {},
   "source": [
    "* pow(base, exponente): Potenciacion con base y exponente como parametros."
   ]
  },
  {
   "cell_type": "code",
   "execution_count": null,
   "metadata": {},
   "outputs": [],
   "source": [
    "pow(2, 12)"
   ]
  },
  {
   "cell_type": "code",
   "execution_count": null,
   "metadata": {},
   "outputs": [],
   "source": [
    "print(\"Asignamos el valor anterior a una variable\")\n",
    "\n",
    "power = pow(2, 12)\n",
    "\n",
    "print(power)"
   ]
  },
  {
   "cell_type": "markdown",
   "metadata": {},
   "source": [
    "Con variables de tipo String podemos realizar la siguientes operaciones:"
   ]
  },
  {
   "cell_type": "code",
   "execution_count": null,
   "metadata": {},
   "outputs": [],
   "source": [
    "string1 = \"Python \"\n",
    "string2 = \"para Finanzas \"\n",
    "string3 = \"y Ciencia de Datos\""
   ]
  },
  {
   "cell_type": "markdown",
   "metadata": {},
   "source": [
    "* Concatenacion"
   ]
  },
  {
   "cell_type": "code",
   "execution_count": null,
   "metadata": {},
   "outputs": [],
   "source": [
    "print(string1 + string2 + string3)"
   ]
  },
  {
   "cell_type": "code",
   "execution_count": null,
   "metadata": {},
   "outputs": [],
   "source": [
    "curso = string1 + string2 + string3"
   ]
  },
  {
   "cell_type": "code",
   "execution_count": null,
   "metadata": {},
   "outputs": [],
   "source": [
    "print(curso)"
   ]
  },
  {
   "cell_type": "markdown",
   "metadata": {},
   "source": [
    "* Usar funciones especiales para tipos String:\n"
   ]
  },
  {
   "cell_type": "code",
   "execution_count": null,
   "metadata": {},
   "outputs": [],
   "source": [
    "curso_mayuscula = curso.upper()"
   ]
  },
  {
   "cell_type": "code",
   "execution_count": null,
   "metadata": {},
   "outputs": [],
   "source": [
    "print(curso)\n",
    "print(curso_mayuscula)"
   ]
  },
  {
   "cell_type": "markdown",
   "metadata": {},
   "source": [
    "* Repetir una determinada cantidad de veces una cadena"
   ]
  },
  {
   "cell_type": "code",
   "execution_count": null,
   "metadata": {},
   "outputs": [],
   "source": [
    "himno1 = \"Oid mortales el grito sagrado:\"\n",
    "himno2 = \"Libertad \"\n",
    "print(himno1)\n",
    "print(himno2 * 3 + \"!\")  # Al final CONCATENAMOS todo con un signo de exclamacion"
   ]
  },
  {
   "cell_type": "markdown",
   "metadata": {},
   "source": [
    "* Extraer una porcion del texto (Slice)"
   ]
  },
  {
   "cell_type": "code",
   "execution_count": null,
   "metadata": {},
   "outputs": [],
   "source": [
    "mail = \"fedejbrun@gmail.com\"\n",
    "print(\"usuario:\" , mail[:9])"
   ]
  },
  {
   "cell_type": "code",
   "execution_count": null,
   "metadata": {},
   "outputs": [],
   "source": [
    "print(\"tipo de mail: \", mail[10:])"
   ]
  },
  {
   "cell_type": "markdown",
   "metadata": {},
   "source": [
    "Revisar este tutorial para ver mas sobre cómo se usan los indices de un string (seccion 7.4): <a href=\"http://www.openbookproject.net/thinkcs/archive/python/spanish2e/cap07.html\" targfet=\"_blank\">String slicing</a> "
   ]
  },
  {
   "cell_type": "markdown",
   "metadata": {},
   "source": [
    "# Tarea\n",
    "<img src=\"https://files.realpython.com/media/python-basics-wide2.f73a9e9bf9b8.jpg\"/>"
   ]
  },
  {
   "cell_type": "markdown",
   "metadata": {},
   "source": [
    "### Consigna\n",
    "\n",
    "Se nos encargó desarrollar un sistema de home banking por lo que tenemos que empezar con los primeros pasos. Por el momento solo contamos con un cliente.\n",
    "\n",
    "##### Requisitos minimos\n",
    "\n",
    "1. Crear una variable para guardar el nombre del cliente.\n",
    "2. Crear una variable para guardar el apellido del cliente.\n",
    "3. Crear una variable para guardar el mail del cliente.\n",
    "4. Crear una variable para guardar el DNI del cliente.\n",
    "5. Como las variables Nombre, Apellido y DNI, **no cambiarán** , crear una variable que use una colección de datos que nos permita garantizar **inmutabilidad**.\n",
    "6. Crear una variable con el saldo inicial de la cuenta del cliente.\n",
    "7. Crear una variable con la cantidad de tarjetas que posee activas el cliente.\n",
    "8. Crear una variable que contenga una **lista** de los productos que el cliente tiene dados de alta (serán \"caja de ahorro\", \"cuenta corriente\", \"tarjeta de credito\", \"tarjeta de debito\", \"plazo fijo\", \"cuenta comitente\").\n",
    "9. Imprimir en pantalla todos los datos del cliente (Nombre, Apellido y DNI).\n",
    "10. Imprimir en pantalla el mensaje \"Saldo inicial: \\$\" y agregar el saldo inicial del cliente.\n",
    "11. Crear una variable que represente un gasto, por un valor especifico.\n",
    "12. Restar el gasto al saldo de la cuenta del cliente.\n",
    "13. Imprimir el mensaje \"Se realizo un gasto por \\$\" y agregar el monto gastado.\n",
    "14. Informar al cliente su saldo actualizado con un mensaje pertinente.\n",
    "15. Crear una variable que nos permita **validar** si un cliente está habilitado para pedir un prestamo o no (True o False).\n",
    "\n",
    "##### Requisitos extras\n",
    "1. Usar comentarios en el código (no están explicados en esta libreta, debe buscar en la Clase 2 o investigar \"Comentarios en Python\" en internet).\n",
    "2. Describir cada uno (o en grupos) los pasos de ***Requisitos minimos***, usando celdas de texto enriquecido.\n",
    "3. Agregar una imagen de internet que sea relevante.\n",
    "4. Mantener el orden y la prolijidad de su libreta, al igual que hacer uso de las buenas practicas de programacion presentadas en clase (convenciones de nombres para variables).\n",
    "5. Agregar alguna funcionalidad extra"
   ]
  },
  {
   "cell_type": "markdown",
   "metadata": {},
   "source": [
    "### Ejemplo simple\n"
   ]
  },
  {
   "cell_type": "code",
   "execution_count": null,
   "metadata": {},
   "outputs": [],
   "source": [
    "client_name = \"Federico\"\n",
    "client_DNI = 12345236567\n",
    "\n",
    "client = (client_name, client_DNI)\n",
    "\n",
    "print(client)"
   ]
  },
  {
   "cell_type": "code",
   "execution_count": null,
   "metadata": {},
   "outputs": [],
   "source": [
    "prestamo = True\n",
    "print(client_name + \" se encuentra habilitado para solicitar un prestamo.\")"
   ]
  },
  {
   "cell_type": "code",
   "execution_count": null,
   "metadata": {},
   "outputs": [],
   "source": [
    "saldo = 156982.98\n",
    "print(\"El saldo en la cuenta es de: $\" + str(saldo))"
   ]
  },
  {
   "cell_type": "code",
   "execution_count": null,
   "metadata": {},
   "outputs": [],
   "source": [
    "productos = [\"tarjeta de credito\", \"caja de ahorro\"]\n",
    "\n",
    "# Puntos extra para el que use esta forma de \n",
    "# combinar texto y variables y sea capaz de \n",
    "# explicar que hace .format() y len(productos)\n",
    "print(\"Los productos del cliente son({}):\".format(len(productos)))\n",
    "\n",
    "# Esto lo vamos a ver mas adelante\n",
    "for product in productos:\n",
    "    print(\"- \" + product)\n",
    "    \n",
    "    \n"
   ]
  }
 ],
 "metadata": {
  "kernelspec": {
   "display_name": "Python 3",
   "language": "python",
   "name": "python3"
  },
  "language_info": {
   "codemirror_mode": {
    "name": "ipython",
    "version": 3
   },
   "file_extension": ".py",
   "mimetype": "text/x-python",
   "name": "python",
   "nbconvert_exporter": "python",
   "pygments_lexer": "ipython3",
   "version": "3.7.6"
  }
 },
 "nbformat": 4,
 "nbformat_minor": 4
}
