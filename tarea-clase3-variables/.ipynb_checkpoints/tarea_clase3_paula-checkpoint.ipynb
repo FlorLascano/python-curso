{
 "cells": [
  {
   "cell_type": "markdown",
   "metadata": {},
   "source": [
    "### Consigna\n",
    "\n",
    "Se nos encargó desarrollar un sistema de home banking por lo que tenemos que empezar con los primeros pasos. Por el momento solo contamos con un cliente.\n",
    "\n",
    "##### Requisitos minimos\n",
    "\n",
    "1. Crear una variable para guardar el nombre del cliente.\n",
    "2. Crear una variable para guardar el apellido del cliente.\n",
    "3. Crear una variable para guardar el mail del cliente.\n",
    "4. Crear una variable para guardar el DNI del cliente.\n",
    "5. Como las variables Nombre, Apellido y DNI, **no cambiarán** , crear una variable que use una colección de datos que nos permita garantizar **inmutabilidad**.\n",
    "6. Crear una variable con el saldo inicial de la cuenta del cliente.\n",
    "7. Crear una variable con la cantidad de tarjetas que posee activas el cliente.\n",
    "8. Crear una variable que contenga una **lista** de los productos que el cliente tiene dados de alta (serán \"caja de ahorro\", \"cuenta corriente\", \"tarjeta de credito\", \"tarjeta de debito\", \"plazo fijo\", \"cuenta comitente\").\n",
    "9. Imprimir en pantalla todos los datos del cliente (Nombre, Apellido y DNI).\n",
    "10. Imprimir en pantalla el mensaje \"Saldo inicial: \\$\" y agregar el saldo inicial del cliente.\n",
    "11. Crear una variable que represente un gasto, por un valor especifico.\n",
    "12. Restar el gasto al saldo de la cuenta del cliente.\n",
    "13. Imprimir el mensaje \"Se realizo un gasto por \\$\" y agregar el monto gastado.\n",
    "14. Informar al cliente su saldo actualizado con un mensaje pertinente.\n",
    "15. Crear una variable que nos permita **validar** si un cliente está habilitado para pedir un prestamo o no (True o False).\n",
    "\n",
    "##### Requisitos extras\n",
    "1. Usar comentarios en el código (no están explicados en esta libreta, debe buscar en la Clase 2 o investigar \"Comentarios en Python\" en internet).\n",
    "2. Describir cada uno (o en grupos) los pasos de ***Requisitos minimos***, usando celdas de texto enriquecido.\n",
    "3. Agregar una imagen de internet que sea relevante.\n",
    "4. Mantener el orden y la prolijidad de su libreta, al igual que hacer uso de las buenas practicas de programacion presentadas en clase (convenciones de nombres para variables).\n",
    "5. Agregar alguna funcionalidad extra"
   ]
  },
  {
   "cell_type": "markdown",
   "metadata": {},
   "source": [
    "## Solución"
   ]
  },
  {
   "cell_type": "markdown",
   "metadata": {},
   "source": [
    "En los puntos _1 a 4_ definimos las ***variables*** con informacion relevante sobre el cliente.\n",
    "\n",
    "En el punto _5_ definimos una ***tupla*** que contiene esta informacion. Lo hacemos de esta manera ya que es informacion que no se vera modificada."
   ]
  },
  {
   "cell_type": "code",
   "execution_count": 8,
   "metadata": {},
   "outputs": [],
   "source": [
    "# puntos 1 a 5\n",
    "\n",
    "client_name = 'Paula'\n",
    "client_surname = 'Scarafia'\n",
    "client_email = 'paularscarafia@gmail.com'\n",
    "client_ID = 39620462\n",
    "\n",
    "client = (client_name, client_surname, client_ID)\n"
   ]
  },
  {
   "cell_type": "markdown",
   "metadata": {},
   "source": [
    "En los puntos _6 y 7_ definimos las ***variables*** con el saldo inicial y la cantidad de tarjetas que posee el cliente.\n",
    "\n",
    "En el punto _8_ definimos una ***lista*** con los productos que tiene el cliente. Lo hacemos de esta manera ya que es informacion que podra verse modificada.\n"
   ]
  },
  {
   "cell_type": "code",
   "execution_count": 19,
   "metadata": {},
   "outputs": [],
   "source": [
    "# puntos 6 a 8\n",
    "\n",
    "initial_balance = 15000\n",
    "active_cards = 2\n",
    "active_products = [\"caja de ahorro\", \"cuenta corriente\", \"tarjeta de credito\", \"tarjeta de debito\", \"plazo fijo\", \"cuenta comitente\"]\n"
   ]
  },
  {
   "cell_type": "markdown",
   "metadata": {},
   "source": [
    "En el punto _9_ ***imprimimos*** la tupla que contiene la informacion del cliente"
   ]
  },
  {
   "cell_type": "code",
   "execution_count": 9,
   "metadata": {},
   "outputs": [
    {
     "name": "stdout",
     "output_type": "stream",
     "text": [
      "('Paula', 'Scarafia', 39620462)\n"
     ]
    }
   ],
   "source": [
    "# 9\n",
    "\n",
    "print(client)"
   ]
  },
  {
   "cell_type": "markdown",
   "metadata": {},
   "source": [
    "En el punto _10_ ***imprimimos*** el mensaje que contiene el saldo inicial del cliente."
   ]
  },
  {
   "cell_type": "code",
   "execution_count": 44,
   "metadata": {},
   "outputs": [
    {
     "name": "stdout",
     "output_type": "stream",
     "text": [
      "El saldo inicial es de $ 15000\n"
     ]
    }
   ],
   "source": [
    "#10\n",
    "print ('El saldo inicial es de $ ' + str(initial_balance))"
   ]
  },
  {
   "cell_type": "markdown",
   "metadata": {},
   "source": [
    "En los puntos _11 y 12_ definimos la variable de gasto realizado por el cliente, y realizamos la ***operacion*** de restarlo al saldo incial"
   ]
  },
  {
   "cell_type": "code",
   "execution_count": 28,
   "metadata": {},
   "outputs": [],
   "source": [
    "# 11 y 12\n",
    "\n",
    "expense = 6000\n",
    "new_balance = (initial_balance - expense)"
   ]
  },
  {
   "cell_type": "markdown",
   "metadata": {},
   "source": [
    "En el punto _13_ ***imprimimos*** el mensaje que contiene el gasto realizado por el cliente."
   ]
  },
  {
   "cell_type": "code",
   "execution_count": 30,
   "metadata": {},
   "outputs": [
    {
     "name": "stdout",
     "output_type": "stream",
     "text": [
      "Se realizo un gasto por $ 9000\n"
     ]
    }
   ],
   "source": [
    "# 13\n",
    "\n",
    "print ('Se realizo un gasto por $ ' +str (new_balance))"
   ]
  },
  {
   "cell_type": "markdown",
   "metadata": {},
   "source": [
    "En el punto _14_ ***imprimimos*** el mensaje que contiene el aviso al cliente."
   ]
  },
  {
   "cell_type": "code",
   "execution_count": 32,
   "metadata": {},
   "outputs": [
    {
     "name": "stdout",
     "output_type": "stream",
     "text": [
      "Estimado cliente, le informamos que su nuevo saldo es de $ 9000\n"
     ]
    }
   ],
   "source": [
    "# 14\n",
    "\n",
    "print ('Estimado cliente, le informamos que su nuevo saldo es de $ '+ str (new_balance))"
   ]
  },
  {
   "cell_type": "markdown",
   "metadata": {},
   "source": [
    "En el punto _15_ ***imprimimos*** el mensaje que contiene el aviso al cliente."
   ]
  },
  {
   "cell_type": "code",
   "execution_count": 39,
   "metadata": {},
   "outputs": [
    {
     "name": "stdout",
     "output_type": "stream",
     "text": [
      "Paula se encuentra habilitado para pedir un prestamo\n"
     ]
    }
   ],
   "source": [
    "# 15\n",
    "\n",
    "prestamo = True\n",
    "print (client_name + ' se encuentra habilitado para pedir un prestamo')\n"
   ]
  },
  {
   "cell_type": "markdown",
   "metadata": {},
   "source": [
    "\n",
    "<img src=\"https://www.cronista.com/__export/1584324034054/sites/diarioelcronista/img/2020/03/15/fym160320-004f01_crop1584324033475.jpg_258117318.jpg\">"
   ]
  }
 ],
 "metadata": {
  "kernelspec": {
   "display_name": "Python 3",
   "language": "python",
   "name": "python3"
  },
  "language_info": {
   "codemirror_mode": {
    "name": "ipython",
    "version": 3
   },
   "file_extension": ".py",
   "mimetype": "text/x-python",
   "name": "python",
   "nbconvert_exporter": "python",
   "pygments_lexer": "ipython3",
   "version": "3.7.6"
  }
 },
 "nbformat": 4,
 "nbformat_minor": 4
}
