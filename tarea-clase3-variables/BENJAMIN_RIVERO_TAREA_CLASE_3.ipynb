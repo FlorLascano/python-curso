{
 "cells": [
  {
   "cell_type": "markdown",
   "metadata": {},
   "source": [
    "# Python para Finanzas y Ciencia de Datos"
   ]
  },
  {
   "cell_type": "markdown",
   "metadata": {},
   "source": [
    "## BENJAMIN RIVERO\n",
    "<img src=\"https://lh3.googleusercontent.com/pg4MiMkewxSs6HQdyRfkdVA2eXl33t1ep__grbHLLgBPxICMb_XmNGiRdU_9ORDfvA\">\n",
    "\n",
    "### Consigna\n",
    "\n",
    "Se nos encargó desarrollar un sistema de home banking por lo que tenemos que empezar con los primeros pasos. Por el momento solo contamos con un cliente.\n",
    "\n",
    "##### Requisitos minimos\n",
    "\n",
    "1. Crear una variable para guardar el nombre del cliente.\n",
    "2. Crear una variable para guardar el apellido del cliente.\n",
    "3. Crear una variable para guardar el mail del cliente.\n",
    "4. Crear una variable para guardar el DNI del cliente.\n",
    "5. Como las variables Nombre, Apellido y DNI, **no cambiarán** , crear una variable que use una colección de datos que nos permita garantizar **inmutabilidad**.\n",
    "6. Crear una variable con el saldo inicial de la cuenta del cliente.\n",
    "7. Crear una variable con la cantidad de tarjetas que posee activas el cliente.\n",
    "8. Crear una variable que contenga una **lista** de los productos que el cliente tiene dados de alta (serán \"caja de ahorro\", \"cuenta corriente\", \"tarjeta de credito\", \"tarjeta de debito\", \"plazo fijo\", \"cuenta comitente\").\n",
    "9. Imprimir en pantalla todos los datos del cliente (Nombre, Apellido y DNI).\n",
    "10. Imprimir en pantalla el mensaje \"Saldo inicial: \\$\" y agregar el saldo inicial del cliente.\n",
    "11. Crear una variable que represente un gasto, por un valor especifico.\n",
    "12. Restar el gasto al saldo de la cuenta del cliente.\n",
    "13. Imprimir el mensaje \"Se realizo un gasto por \\$\" y agregar el monto gastado.\n",
    "14. Informar al cliente su saldo actualizado con un mensaje pertinente.\n",
    "15. Crear una variable que nos permita **validar** si un cliente está habilitado para pedir un prestamo o no (True o False).\n",
    "\n",
    "##### Requisitos extras\n",
    "1. Usar comentarios en el código (no están explicados en esta libreta, debe buscar en la Clase 2 o investigar \"Comentarios en Python\" en internet).\n",
    "2. Describir cada uno (o en grupos) los pasos de ***Requisitos minimos***, usando celdas de texto enriquecido.\n",
    "3. Agregar una imagen de internet que sea relevante.\n",
    "4. Mantener el orden y la prolijidad de su libreta, al igual que hacer uso de las buenas practicas de programacion presentadas en clase (convenciones de nombres para variables).\n",
    "5. Agregar alguna funcionalidad extra"
   ]
  },
  {
   "cell_type": "markdown",
   "metadata": {},
   "source": [
    "## Desarrollo de Tarea\n",
    "\n"
   ]
  },
  {
   "cell_type": "code",
   "execution_count": 40,
   "metadata": {},
   "outputs": [
    {
     "name": "stdout",
     "output_type": "stream",
     "text": [
      "('Benjamin', 'Rivero', 34071343)\n"
     ]
    }
   ],
   "source": [
    "client_name = \"Benjamin\"\n",
    "client_apellido = \"Rivero\"\n",
    "client_mail = \"benjaminrivero88@gmail.com\"\n",
    "client_DNI = 34071343\n",
    "\n",
    "#La siguiente variable almacena los principales datos del cliente\n",
    "client = (client_name, client_apellido, client_DNI)\n",
    "\n",
    "print(client)"
   ]
  },
  {
   "cell_type": "markdown",
   "metadata": {},
   "source": [
    "# Saldo inicial del cliente"
   ]
  },
  {
   "cell_type": "code",
   "execution_count": 41,
   "metadata": {},
   "outputs": [
    {
     "name": "stdout",
     "output_type": "stream",
     "text": [
      "El saldo en la cuenta es de: $156982.98\n"
     ]
    }
   ],
   "source": [
    "saldo_inicial = 156982.98\n",
    "print(\"El saldo en la cuenta es de: $\" + str(saldo_inicial))"
   ]
  },
  {
   "cell_type": "markdown",
   "metadata": {},
   "source": [
    "# La cantidad de Tarjetas activas que posee el cliente es:"
   ]
  },
  {
   "cell_type": "code",
   "execution_count": 43,
   "metadata": {},
   "outputs": [
    {
     "name": "stdout",
     "output_type": "stream",
     "text": [
      "El cliente Benjamin Rivero tiene 2 tarjetas activas\n"
     ]
    }
   ],
   "source": [
    "tarjetas_activas = 2\n",
    "print(\"El cliente \" +str (client_name)+ \" \" + str(client_apellido) + \" tiene \" + str(tarjetas_activas) + \" tarjetas activas\")"
   ]
  },
  {
   "cell_type": "markdown",
   "metadata": {},
   "source": [
    "# Los productos que dispone el cliente son:"
   ]
  },
  {
   "cell_type": "code",
   "execution_count": 42,
   "metadata": {},
   "outputs": [
    {
     "name": "stdout",
     "output_type": "stream",
     "text": [
      "=============================\n",
      "Nombre del cliente: Benjamin\n",
      "Apellido del cliente: Rivero\n",
      "DNI del cliente: 34071343\n",
      "Saldo inicial: $ 156982.98\n",
      "Los productos del cliente son(6):\n",
      "- tarjeta de credito\n",
      "- tarjeta de debito\n",
      "- caja de ahorro\n",
      "- cuenta corriente\n",
      "- plazo fijo\n",
      "-  cuenta comitente\n",
      "=============================\n"
     ]
    }
   ],
   "source": [
    "productos = [\"tarjeta de credito\", \"tarjeta de debito\", \"caja de ahorro\", \"cuenta corriente\", \"plazo fijo\", \" cuenta comitente\"]\n",
    "# Puntos extra para el que use esta forma de \n",
    "# combinar texto y variables y sea capaz de \n",
    "# explicar que hace .format() y len(productos)\n",
    "print(\"=============================\")\n",
    "print(\"Nombre del cliente: \" + str(client_name))\n",
    "print(\"Apellido del cliente: \" + str(client_apellido))\n",
    "print(\"DNI del cliente: \" + str(client_DNI))\n",
    "print(\"Saldo inicial: $ \" + str(saldo_inicial))\n",
    "#La siguiente línea, entre corchetes se indica que se va a leer una \n",
    "#lista  y format(len())analiza la cantidad de elementos de la lista\n",
    "print(\"Los productos del cliente son({}):\".format(len(productos)))\n",
    "for product in productos:\n",
    "    print(\"- \" + product)\n",
    "print(\"=============================\")\n",
    "\n",
    "\n"
   ]
  },
  {
   "cell_type": "code",
   "execution_count": 37,
   "metadata": {},
   "outputs": [
    {
     "name": "stdout",
     "output_type": "stream",
     "text": [
      "Se realizó un gasto por $ 1345.3\n",
      "Señor cliente resta en su cuenta $ 155637.68000000002\n"
     ]
    }
   ],
   "source": [
    "gasto= 1345.3\n",
    "dif_gasto_saldo=saldo_inicial-gasto\n",
    "print(\"Se realizó un gasto por $ \" + str(gasto))\n",
    "print(\"Señor cliente resta en su cuenta $ \" + str(dif_gasto_saldo))"
   ]
  },
  {
   "cell_type": "code",
   "execution_count": 39,
   "metadata": {},
   "outputs": [
    {
     "name": "stdout",
     "output_type": "stream",
     "text": [
      "Señor Benjamin Rivero Ud. se encuentra habilitado para recibir un prestamo\n"
     ]
    }
   ],
   "source": [
    "\n",
    "prestamo_habilitado= True\n",
    "print(\"Señor \" + str(client_name) + \" \" + str(client_apellido)+ \" Ud. se encuentra habilitado para recibir un prestamo\")\n",
    "\n",
    " "
   ]
  }
 ],
 "metadata": {
  "kernelspec": {
   "display_name": "Python 3",
   "language": "python",
   "name": "python3"
  },
  "language_info": {
   "codemirror_mode": {
    "name": "ipython",
    "version": 3
   },
   "file_extension": ".py",
   "mimetype": "text/x-python",
   "name": "python",
   "nbconvert_exporter": "python",
   "pygments_lexer": "ipython3",
   "version": "3.8.3"
  }
 },
 "nbformat": 4,
 "nbformat_minor": 4
}
