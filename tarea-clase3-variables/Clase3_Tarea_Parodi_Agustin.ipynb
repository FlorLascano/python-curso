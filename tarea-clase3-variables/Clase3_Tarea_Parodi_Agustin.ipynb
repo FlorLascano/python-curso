{
 "cells": [
  {
   "cell_type": "markdown",
   "metadata": {},
   "source": [
    "# Home Banking - Clientes\n",
    "### Parodi, Horacio Agustín\n",
    "<img src=\"https://www.edesur.com.ar/wordpress/wp-content/uploads/2018/10/opcionesdepago-header2.jpg\">"
   ]
  },
  {
   "cell_type": "markdown",
   "metadata": {},
   "source": [
    "## Se definen variables del cliente. \n",
    "* Datos obligatorios"
   ]
  },
  {
   "cell_type": "code",
   "execution_count": 104,
   "metadata": {},
   "outputs": [],
   "source": [
    "client_name = \"Agustin\" # Variable del nombre del cliente\n",
    "client_lastname =\"Parodi\" # Variable del apellido del cliente\n",
    "client_typedoc = \"DNI\" # Variable del tipo de documento del cliente\n",
    "client_numberdoc = \"34455935\" # Variable del número de documento del cliente tipo string\n",
    "client_mail = \"haparodi833@gmail.com\" # Variable del mail del cliente\n",
    "client_score_nosis = 551 # Score nosis extraido."
   ]
  },
  {
   "cell_type": "code",
   "execution_count": 105,
   "metadata": {},
   "outputs": [],
   "source": [
    "# Generamos una tupla de datos del cliente inmutables\n",
    "client_info = (client_name, client_lastname, client_typedoc, client_numberdoc, client_mail)"
   ]
  },
  {
   "cell_type": "code",
   "execution_count": 106,
   "metadata": {},
   "outputs": [],
   "source": [
    "# Saldo inicial\n",
    "balance_initial = 10.10"
   ]
  },
  {
   "cell_type": "code",
   "execution_count": 107,
   "metadata": {},
   "outputs": [],
   "source": [
    "# Cantidad de tarjetas de crédito\n",
    "quantity_creditcards = 2"
   ]
  },
  {
   "cell_type": "code",
   "execution_count": 108,
   "metadata": {},
   "outputs": [],
   "source": [
    "client_products = [\"caja de ahorro\", \"cuenta corriente\", \"tarjeta de credito\", \"tarjeta de debito\", \"plazo fijo\", \"cuenta comitente\"]"
   ]
  },
  {
   "cell_type": "markdown",
   "metadata": {},
   "source": [
    "## Datos del cliente"
   ]
  },
  {
   "cell_type": "code",
   "execution_count": 109,
   "metadata": {},
   "outputs": [
    {
     "name": "stdout",
     "output_type": "stream",
     "text": [
      "Agustin Parodi\n",
      "DNI 34455935\n",
      "Los productos de Agustin son(6):\n",
      "- caja de ahorro\n",
      "- cuenta corriente\n",
      "- tarjeta de credito\n",
      "- tarjeta de debito\n",
      "- plazo fijo\n",
      "- cuenta comitente\n"
     ]
    }
   ],
   "source": [
    "# Impresión datos cliente\n",
    "print(client_name + \" \" + client_lastname)\n",
    "print(client_typedoc, client_numberdoc)\n",
    "print(\"Los productos de \" +  client_name + \" son({}):\".format(len(client_products))) # detallamos los productos\n",
    "for indiv_produc in client_products:\n",
    "    print(\"- \" + indiv_produc)\n"
   ]
  },
  {
   "cell_type": "markdown",
   "metadata": {},
   "source": [
    "## Saldo inicial en cuenta bancaria"
   ]
  },
  {
   "cell_type": "code",
   "execution_count": 110,
   "metadata": {},
   "outputs": [
    {
     "name": "stdout",
     "output_type": "stream",
     "text": [
      "Saldo inicial: $ 10.1\n"
     ]
    }
   ],
   "source": [
    "print(\"Saldo inicial: $ \" + str(balance_initial))\n",
    "#Impresión saldo inicial"
   ]
  },
  {
   "cell_type": "markdown",
   "metadata": {},
   "source": [
    "## Compra medio litro de nafta super en caja de ahorros"
   ]
  },
  {
   "cell_type": "code",
   "execution_count": 111,
   "metadata": {},
   "outputs": [
    {
     "name": "stdout",
     "output_type": "stream",
     "text": [
      "Realizó un gasto por: $ 21\n"
     ]
    }
   ],
   "source": [
    "mov_negative = 21\n",
    "print(\"Realizó un gasto por: $ \" + str(mov_negative))"
   ]
  },
  {
   "cell_type": "markdown",
   "metadata": {},
   "source": [
    "## Saldo actualizado en cuenta"
   ]
  },
  {
   "cell_type": "code",
   "execution_count": 112,
   "metadata": {},
   "outputs": [
    {
     "name": "stdout",
     "output_type": "stream",
     "text": [
      "Estimado Agustin Parodi su saldo en cuenta actualizado es de: $ -10.9\n"
     ]
    }
   ],
   "source": [
    "balance_final = balance_initial - mov_negative\n",
    "print(\"Estimado \" + client_name + \" \" + client_lastname + \" su saldo en cuenta actualizado es de: $ \" + str(balance_final))"
   ]
  },
  {
   "cell_type": "markdown",
   "metadata": {},
   "source": [
    "## Disponibilidad de toma de préstamo según Score Nosis\n"
   ]
  },
  {
   "cell_type": "code",
   "execution_count": 113,
   "metadata": {},
   "outputs": [
    {
     "name": "stdout",
     "output_type": "stream",
     "text": [
      "Usted Está calificado para tomar un préstamo\n"
     ]
    }
   ],
   "source": [
    "# Definimos según el score informado por Nosis el riesgo crediticio del cliente: \n",
    "if client_score_nosis < 500:\n",
    "    print (\"Disculpe, debido al riesgo alto informado por Nosis no podemos otorgarle un préstamo\")\n",
    "elif client_score_nosis > 501:\n",
    "    print(\"Usted Está calificado para tomar un préstamo\")"
   ]
  },
  {
   "cell_type": "markdown",
   "metadata": {},
   "source": [
    "## Disponibilidad de toma de préstamo según el propio banco\n"
   ]
  },
  {
   "cell_type": "code",
   "execution_count": 114,
   "metadata": {},
   "outputs": [
    {
     "name": "stdout",
     "output_type": "stream",
     "text": [
      "Disculpe, debido a que su cuenta se encuentra en mora, no es posible disponibilizar préstamo\n"
     ]
    }
   ],
   "source": [
    "# Definimos según el saldo final del cliente la posibilidad de tomar préstamo: \n",
    "if balance_final < 0:\n",
    "    print (\"Disculpe, debido a que su cuenta se encuentra en mora, no es posible disponibilizar préstamo\")\n",
    "else:\n",
    "    print(\"Usted Está calificado para tomar un préstamo\")"
   ]
  },
  {
   "cell_type": "code",
   "execution_count": null,
   "metadata": {},
   "outputs": [],
   "source": []
  }
 ],
 "metadata": {
  "kernelspec": {
   "display_name": "Python 3",
   "language": "python",
   "name": "python3"
  },
  "language_info": {
   "codemirror_mode": {
    "name": "ipython",
    "version": 3
   },
   "file_extension": ".py",
   "mimetype": "text/x-python",
   "name": "python",
   "nbconvert_exporter": "python",
   "pygments_lexer": "ipython3",
   "version": "3.8.3"
  }
 },
 "nbformat": 4,
 "nbformat_minor": 4
}
