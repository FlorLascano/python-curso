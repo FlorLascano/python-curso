{
 "cells": [
  {
   "cell_type": "markdown",
   "metadata": {},
   "source": [
    "## Tarea clase 3\n",
    "\n",
    "### Julieta Milano\n",
    "\n",
    "#### Puntos _1 a 5_\n",
    "\n",
    "Primero realizamos los puntos 1 a 5. Creando en el paso 5 una tupla para que las variables nombre, apellido y dni no se puedan modificar"
   ]
  },
  {
   "cell_type": "code",
   "execution_count": 1,
   "metadata": {},
   "outputs": [],
   "source": [
    "client_name = 'Julieta'\n",
    "client_surname = 'Milano'\n",
    "client_email = 'julietamilano1995@gmail.com'\n",
    "client_id = 39079724\n",
    "\n",
    "\n",
    "client_data=(client_name, client_surname, client_id)"
   ]
  },
  {
   "cell_type": "markdown",
   "metadata": {},
   "source": [
    "#### Puntos _6 a 8_\n",
    "\n",
    "En los puntos 6 y 7 lo que creamos son variables\n",
    "en el punto 8 lo que se crea es una lista con las _diferentes_ opciones que posee la cuenta bancaria del cliente"
   ]
  },
  {
   "cell_type": "code",
   "execution_count": 3,
   "metadata": {},
   "outputs": [],
   "source": [
    "inicial_balance= 200000\n",
    "active_cards= 3\n",
    "active_products= { \"caja de ahorro\", \"cuenta corriente\", \"tarjeta de credito\", \"tarjeta de debito\", \"plazo fijo\", \"cuenta comitente\"}\n",
    "\n"
   ]
  },
  {
   "cell_type": "markdown",
   "metadata": {},
   "source": [
    "#### Punto _9_\n",
    "\n",
    "Ahora lo que haremos es _imprimir_ todos los datos del cliente"
   ]
  },
  {
   "cell_type": "code",
   "execution_count": 5,
   "metadata": {},
   "outputs": [
    {
     "name": "stdout",
     "output_type": "stream",
     "text": [
      "('Julieta', 'Milano', 39079724)\n"
     ]
    }
   ],
   "source": [
    "print(client_data)"
   ]
  },
  {
   "cell_type": "markdown",
   "metadata": {},
   "source": [
    "#### Punto _10_\n",
    "\n",
    "Ahora lo que haremos es _imprimir_ un mensaje que contenga el saldo inicial del cliente"
   ]
  },
  {
   "cell_type": "code",
   "execution_count": 6,
   "metadata": {},
   "outputs": [
    {
     "name": "stdout",
     "output_type": "stream",
     "text": [
      "Saldo inicial del cliente es de $200000\n"
     ]
    }
   ],
   "source": [
    "print (\"Saldo inicial del cliente es de $\" + str (inicial_balance))"
   ]
  },
  {
   "cell_type": "markdown",
   "metadata": {},
   "source": [
    "#### Puntos _11 y 12_ \n",
    "\n",
    "Ahora _definimos_ la _variable_ del gasto por un valor especifico definido por nosotros y _restamos_ el gasto a la cuenta del cliente"
   ]
  },
  {
   "cell_type": "code",
   "execution_count": 7,
   "metadata": {},
   "outputs": [],
   "source": [
    "spending = 10000\n",
    "\n",
    "new_balance = (inicial_balance - spending)"
   ]
  },
  {
   "cell_type": "markdown",
   "metadata": {},
   "source": [
    "#### Punto _13_\n",
    "\n",
    "Ahora lo que haremos es _imprimir_ un mensaje que contenga el gasto realizado por el cliente"
   ]
  },
  {
   "cell_type": "code",
   "execution_count": 9,
   "metadata": {},
   "outputs": [
    {
     "name": "stdout",
     "output_type": "stream",
     "text": [
      "Se realizo un gasto por $10000\n"
     ]
    }
   ],
   "source": [
    "print(\"Se realizo un gasto por $\" + str (spending))"
   ]
  },
  {
   "cell_type": "markdown",
   "metadata": {},
   "source": [
    "#### Punto _14_\n",
    "\n",
    "Le informaremos al cliente su _saldo_"
   ]
  },
  {
   "cell_type": "code",
   "execution_count": 10,
   "metadata": {},
   "outputs": [
    {
     "name": "stdout",
     "output_type": "stream",
     "text": [
      "Estimado, su saldo luego de lo abanodo hasta la fecha es de $190000\n"
     ]
    }
   ],
   "source": [
    "print(\"Estimado, su saldo luego de lo abanodo hasta la fecha es de $\" + str(new_balance))"
   ]
  },
  {
   "cell_type": "markdown",
   "metadata": {},
   "source": [
    "#### Punto _15_\n",
    "\n",
    "Por ultimo _validaremos_ si el cliente es apto o no para un prestamo e _imprimimos_ el mensaje al cliente"
   ]
  },
  {
   "cell_type": "code",
   "execution_count": 16,
   "metadata": {},
   "outputs": [
    {
     "name": "stdout",
     "output_type": "stream",
     "text": [
      "Estimado/a Julieta queremos informarle que usted se encuentra habilitado para pedir un prestamo\n"
     ]
    }
   ],
   "source": [
    "Prestamo = True\n",
    "\n",
    "print (\"Estimado/a \" +  client_name  + \" queremos informarle que usted se encuentra habilitado para pedir un prestamo\")\n"
   ]
  },
  {
   "cell_type": "markdown",
   "metadata": {},
   "source": [
    "<img src=\"https://www.santander.com.ar/banco/wcm/connect/e350c441-571c-42cb-a951-9ae2eb2e0fdc/pagina_de_inicio_mobile.jpg?MOD=AJPERES&CACHEID=ROOTWORKSPACE-e350c441-571c-42cb-a951-9ae2eb2e0fdc-mHCl.fJ\"/></a>"
   ]
  },
  {
   "cell_type": "code",
   "execution_count": null,
   "metadata": {},
   "outputs": [],
   "source": []
  }
 ],
 "metadata": {
  "kernelspec": {
   "display_name": "Python 3",
   "language": "python",
   "name": "python3"
  },
  "language_info": {
   "codemirror_mode": {
    "name": "ipython",
    "version": 3
   },
   "file_extension": ".py",
   "mimetype": "text/x-python",
   "name": "python",
   "nbconvert_exporter": "python",
   "pygments_lexer": "ipython3",
   "version": "3.7.6"
  }
 },
 "nbformat": 4,
 "nbformat_minor": 4
}
