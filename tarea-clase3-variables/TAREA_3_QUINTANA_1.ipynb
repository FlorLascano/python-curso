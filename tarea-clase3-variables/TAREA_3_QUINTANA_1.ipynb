{
 "cells": [
  {
   "cell_type": "markdown",
   "metadata": {},
   "source": [
    "# Cliente numero uno \n",
    "\n",
    "## Datos del cliente\n"
   ]
  },
  {
   "cell_type": "markdown",
   "metadata": {},
   "source": [
    "<img src=\"TAREA_TRES.png\">"
   ]
  },
  {
   "cell_type": "markdown",
   "metadata": {},
   "source": [
    "1. Numero de cliente.\n",
    "2. Nombre del cliente.\n",
    "3. Apellido del cliente.\n",
    "4. Mail del cliente.\n",
    "5. DNI del cliente.\n",
    "6. Saldo del cliente.\n",
    "7. Cantidad de trajetas.\n",
    "8. Productos activos .\n"
   ]
  },
  {
   "cell_type": "code",
   "execution_count": 1,
   "metadata": {},
   "outputs": [],
   "source": [
    "#1 \n",
    "num_cliente = 1\n",
    "#2\n",
    "nombre_cliente = \"juliana\" #no va a variar \n",
    "#3\n",
    "apellido_cliente = \"Quintana\" #no va a varia \n",
    "#4\n",
    "mail_cliente = \"july_quin@hotmail.com\" #puede modificarse en el futuro\n",
    "#5\n",
    "dni_cliente = 34914012 #no va a varias\n",
    " \n",
    "\n",
    "cliente_uno = (nombre_cliente, apellido_cliente, dni_cliente) #datos que no varian\n",
    "#6\n",
    "saldo = 40000\n",
    "#7\n",
    "cantidad_tarjetas = (1, 2, 3)\n",
    "#8\n",
    "productos = [\"caja de ahorro\" , \"cuenta corriente\" , \"tarjeta de credito\" , \"tarjeta de debito\" , \"plazo fijo\" , \"cuenta corriente\"]\n",
    " #LISTA DE PRODUCTOS ACTIVOS\n",
    "\n"
   ]
  },
  {
   "cell_type": "code",
   "execution_count": 11,
   "metadata": {},
   "outputs": [
    {
     "name": "stdout",
     "output_type": "stream",
     "text": [
      "('juliana', 'Quintana', 34914012)\n",
      "el saldo del cliente es de $40000\n"
     ]
    }
   ],
   "source": [
    "print(cliente_uno)\n",
    "print(\"el saldo del cliente es de $\" + str(saldo))"
   ]
  },
  {
   "cell_type": "code",
   "execution_count": 13,
   "metadata": {},
   "outputs": [
    {
     "name": "stdout",
     "output_type": "stream",
     "text": [
      "5000\n"
     ]
    }
   ],
   "source": [
    "y = 3000 #supermercado\n",
    "x = 2000 #farmacia\n",
    "compra_debito = y + x #suma\n",
    "print(compra_debito)\n",
    "\n"
   ]
  },
  {
   "cell_type": "code",
   "execution_count": 14,
   "metadata": {},
   "outputs": [
    {
     "name": "stdout",
     "output_type": "stream",
     "text": [
      "35000\n"
     ]
    }
   ],
   "source": [
    "print(saldo-compra_debito)\n",
    "saldo_actual = saldo - compra_debito #ACTUALIZANDO SALDO"
   ]
  },
  {
   "cell_type": "code",
   "execution_count": 15,
   "metadata": {},
   "outputs": [
    {
     "name": "stdout",
     "output_type": "stream",
     "text": [
      "se realizo un gasto por $5000\n",
      "su saldo actualizado es de $35000\n"
     ]
    }
   ],
   "source": [
    "print(\"se realizo un gasto por $\" + str(compra_debito))\n",
    "print(\"su saldo actualizado es de $\"+ str(saldo_actual))"
   ]
  },
  {
   "cell_type": "code",
   "execution_count": 24,
   "metadata": {},
   "outputs": [
    {
     "name": "stdout",
     "output_type": "stream",
     "text": [
      "al tener un saldo de $ 35000se encuentra habilitado a solicitar un prestamo.\n"
     ]
    }
   ],
   "source": [
    "bool1 = True\n",
    "bool2 = False\n",
    "\n",
    "prestamo = True\n",
    "print(\"al tener un saldo de $ \" + str(saldo_actual) + \"se encuentra habilitado a solicitar un prestamo.\")"
   ]
  },
  {
   "cell_type": "code",
   "execution_count": null,
   "metadata": {},
   "outputs": [],
   "source": []
  }
 ],
 "metadata": {
  "kernelspec": {
   "display_name": "Python 3",
   "language": "python",
   "name": "python3"
  },
  "language_info": {
   "codemirror_mode": {
    "name": "ipython",
    "version": 3
   },
   "file_extension": ".py",
   "mimetype": "text/x-python",
   "name": "python",
   "nbconvert_exporter": "python",
   "pygments_lexer": "ipython3",
   "version": "3.8.3"
  }
 },
 "nbformat": 4,
 "nbformat_minor": 4
}
