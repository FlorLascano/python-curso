{
 "cells": [
  {
   "cell_type": "markdown",
   "metadata": {},
   "source": [
    "![title](img/Fig2b.png)"
   ]
  },
  {
   "cell_type": "markdown",
   "metadata": {},
   "source": [
    "\n",
    " ### Consigna\n",
    "Se nos encargó desarrollar un sistema de home banking por lo que tenemos que empezar con los primeros pasos. Por el momento solo contamos con un cliente."
   ]
  },
  {
   "cell_type": "markdown",
   "metadata": {},
   "source": [
    "![title](img/PythonClassesInstancesAttributes.png)"
   ]
  },
  {
   "cell_type": "code",
   "execution_count": 33,
   "metadata": {},
   "outputs": [
    {
     "name": "stdout",
     "output_type": "stream",
     "text": [
      "('JuanPerez', ('dni', 24738396))\n",
      "juancito@hotmail.com\n",
      "Juan Perez, dni 24738396\n"
     ]
    }
   ],
   "source": [
    "client_name = 'Juan' #Crear una variable para guardar el nombre del cliente\n",
    "last_name = 'Perez' #Crear una variable para guardar el apellido del cliente\n",
    "id_client = ('dni', 24738396) #Crear una variable para guardar el dni del cliente\n",
    "mail = 'juancito@hotmail.com' #Crear una variable para guardar el mail del cliente\n",
    "client = (client_name + last_name, id_client)\n",
    "mixed_tuple = ('Juan Perez, dni 24738396') #Como las variables Nombre, Apellido y DNI, no cambiarán , crear una variable que use una colección de datos que nos permita garantizar inmutabilidad\n",
    "print(client) #Imprimir en pantalla todos los datos del cliente (Nombre, Apellido y DNI)\n",
    "print(mail)\n",
    "print(mixed_tuple)"
   ]
  },
  {
   "cell_type": "code",
   "execution_count": 36,
   "metadata": {},
   "outputs": [
    {
     "name": "stdout",
     "output_type": "stream",
     "text": [
      "Saldo inicial: \\$ 10000\n"
     ]
    }
   ],
   "source": [
    "initial_bank_account = 10000\n",
    "print('Saldo inicial: \\$', initial_bank_account) # Imprimir en pantalla el mensaje \"Saldo inicial: \\$\" y agregar el saldo inicial del cliente"
   ]
  },
  {
   "cell_type": "code",
   "execution_count": 56,
   "metadata": {},
   "outputs": [
    {
     "name": "stdout",
     "output_type": "stream",
     "text": [
      "['caja de ahorro', 'cuenta corriente', 'tarjeta de credito', 'tarjeta de debito', 'plazo fijo', 'cuenta comitente']\n"
     ]
    }
   ],
   "source": [
    "productos_activos = ['caja de ahorro $', 'cuenta corriente $', 'tarjeta de credito', 'tarjeta de debito', 'plazo fijo', 'cuenta comitente']\n",
    "productos_baja = ['caja de ahorro U$S', 'plazo fijo U$S']\n",
    "print(productos) #Crear una variable que contenga una lista de los productos que el cliente tiene dados de alta (serán \"caja de ahorro\", \"cuenta corriente\", \"tarjeta de credito\", \"tarjeta de debito\", \"plazo fijo\", \"cuenta comitente\")\n"
   ]
  },
  {
   "cell_type": "code",
   "execution_count": 54,
   "metadata": {
    "scrolled": true
   },
   "outputs": [
    {
     "name": "stdout",
     "output_type": "stream",
     "text": [
      "Se realizo un gasto por: \\$ 5\n",
      "final_balance: \\$ 9995\n"
     ]
    }
   ],
   "source": [
    "initial_bank_account = 10000 \n",
    "extraction_cost = 3 #Crear una variable que represente un gasto, por un valor especifico\n",
    "tax = 2 #Crear una variable que represente un gasto, por un valor especifico\n",
    "total_cost = extraction_cost + tax \n",
    "final_balance = initial_bank_account - total_cost #Restar el gasto al saldo de la cuenta del cliente\n",
    "print('Se realizo un gasto por: \\$', total_cost) #Imprimir el mensaje \"Se realizo un gasto por \\$\" y agregar el monto gastado\n",
    "print('final_balance: \\$', final_balance)"
   ]
  },
  {
   "cell_type": "markdown",
   "metadata": {},
   "source": []
  },
  {
   "cell_type": "markdown",
   "metadata": {},
   "source": [
    "### Bank summary\n",
    "#### Chase Bank\n",
    "##### OhioWest - Virginia Market                                                                                                    \n",
    "BOX:487564 AS\n",
    "_____________________________________________________________________________________________________________________________\n",
    "\n",
    "#### Date summary:      24.09.2020            Custumer Service Information "
   ]
  },
  {
   "cell_type": "code",
   "execution_count": 9,
   "metadata": {},
   "outputs": [
    {
     "name": "stdout",
     "output_type": "stream",
     "text": [
      "initial_bank_account:$10000\n",
      "total_cost $5\n",
      "your summary bank is: $9995\n"
     ]
    }
   ],
   "source": [
    "initial_bank_account = 10000\n",
    "total_cost = 5\n",
    "final_balance = 9995\n",
    "\n",
    "print(\"initial_bank_account:$\" + str(initial_bank_account))\n",
    "print(\"total_cost $\" + str(total_cost))\n",
    "print(\"your summary bank is: $\" + str(final_balance)) #informar saldo mediante mensaje"
   ]
  },
  {
   "cell_type": "code",
   "execution_count": 12,
   "metadata": {},
   "outputs": [
    {
     "name": "stdout",
     "output_type": "stream",
     "text": [
      "Juan Perez, dni 24738396\n",
      "se encuentra habilitado para pedir un prestamo\n"
     ]
    }
   ],
   "source": [
    "client_name = 'Juan' \n",
    "last_name = 'Perez' \n",
    "id_client = ('dni', 24738396) \n",
    "client = (client_name + last_name, id_client)\n",
    "mixed_tuple = ('Juan Perez, dni 24738396') \n",
    "final_balance = 9995\n",
    "print(mixed_tuple)\n",
    "if final_balance > 5000 : \n",
    "    print(\"se encuentra habilitado para pedir un prestamo\")\n",
    "else:\n",
    "    print(client_name + \" \"\"No se encuentra habilitado para pedir un prestamo\") #Crear una variable que nos permita validar si un cliente está habilitado para pedir un prestamo o no (True o False)."
   ]
  },
  {
   "cell_type": "markdown",
   "metadata": {},
   "source": [
    "![title](img/Fig.png)"
   ]
  }
 ],
 "metadata": {
  "kernelspec": {
   "display_name": "Python 3",
   "language": "python",
   "name": "python3"
  },
  "language_info": {
   "codemirror_mode": {
    "name": "ipython",
    "version": 3
   },
   "file_extension": ".py",
   "mimetype": "text/x-python",
   "name": "python",
   "nbconvert_exporter": "python",
   "pygments_lexer": "ipython3",
   "version": "3.8.3"
  }
 },
 "nbformat": 4,
 "nbformat_minor": 4
}
