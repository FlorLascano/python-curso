{
 "cells": [
  {
   "cell_type": "markdown",
   "metadata": {},
   "source": [
    "# Tarea N°2: Sistema de Homebanking\n",
    "Barquín Daniela | barquindanielaok@gmail.com"
   ]
  },
  {
   "cell_type": "markdown",
   "metadata": {},
   "source": [
    "<img src=\"TAREA_TRES.png\">"
   ]
  },
  {
   "cell_type": "code",
   "execution_count": 70,
   "metadata": {},
   "outputs": [
    {
     "name": "stdout",
     "output_type": "stream",
     "text": [
      "('Serafin', 'Mabel', 16304899, 'MSerafin@gmail.com')\n"
     ]
    }
   ],
   "source": [
    "# Registramos la información del cliente\n",
    "\n",
    "client_name = \"Mabel\"\n",
    "client_surname = \"Serafin\"\n",
    "client_DNI = 16304899\n",
    "client_email = \"MSerafin@gmail.com\"\n",
    "\n",
    "# Usamos tuple para garantizar inmutabilidad de la colección de datos\n",
    "\n",
    "client_info = (client_surname, client_name, client_DNI, client_email)\n",
    "\n",
    "print(client_info)\n",
    "\n"
   ]
  },
  {
   "cell_type": "code",
   "execution_count": 71,
   "metadata": {},
   "outputs": [],
   "source": [
    "# Información bancaria \n",
    "\n",
    "initial_balance = 500000\n",
    "cards_amount = 2\n",
    "types_accounts_and_cards =[\"Caja de ahorro\", \"Cuenta corriente\", \"Tarjeta de credito\", \"Tarjeta de debito\", \"Plazo fijo\"]"
   ]
  },
  {
   "cell_type": "code",
   "execution_count": 72,
   "metadata": {},
   "outputs": [
    {
     "name": "stdout",
     "output_type": "stream",
     "text": [
      " El apellido y nombre del cliente es Serafin Mabel\n",
      " Su DNI es: 16304899\n",
      " Todas las notificaciones se le enviaran al siguiente correo: MSerafin@gmail.com\n"
     ]
    }
   ],
   "source": [
    "# Imprimimos datos basicos del cliente\n",
    "\n",
    "print(\" El apellido y nombre del cliente es \" + client_surname + \" \"+ client_name)\n",
    "print(\" Su DNI es: \" + str(client_DNI))\n",
    "print(\" Todas las notificaciones se le enviaran al siguiente correo:\" +\" \"+ client_email)"
   ]
  },
  {
   "cell_type": "code",
   "execution_count": 73,
   "metadata": {},
   "outputs": [
    {
     "name": "stdout",
     "output_type": "stream",
     "text": [
      " El saldo inicial de la Sra. Serafin es de $500000\n"
     ]
    }
   ],
   "source": [
    "# Saldo inicial del cliente\n",
    "\n",
    "print(\" El saldo inicial de la Sra.\" + \" \" + client_surname +  \" es de $\" + str(initial_balance))"
   ]
  },
  {
   "cell_type": "code",
   "execution_count": 74,
   "metadata": {},
   "outputs": [
    {
     "name": "stdout",
     "output_type": "stream",
     "text": [
      "La clienta Serafin extrajo $50000\n"
     ]
    }
   ],
   "source": [
    "# Mabel saca $50000 para pagar el arreglo del choque del auto que hizo su hija\n",
    "\n",
    "extract_money = 50000\n",
    "current_balance = initial_balance - extract_money\n",
    "\n",
    "print(\"La clienta\" + \" \" + client_surname +\" \"+ \"extrajo $\" + str(extract_money))"
   ]
  },
  {
   "cell_type": "code",
   "execution_count": 75,
   "metadata": {},
   "outputs": [
    {
     "name": "stdout",
     "output_type": "stream",
     "text": [
      "Estimada su saldo actual es de $450000\n"
     ]
    }
   ],
   "source": [
    "# Comunicado del saldo actual a la clienta\n",
    "\n",
    "print(\"Estimada su saldo actual es de $\" + str(current_balance))"
   ]
  },
  {
   "cell_type": "markdown",
   "metadata": {},
   "source": [
    "Mabel pidio un prestamo, para ello debe pasar ciertos requisitos para que el mismo sea aprobado por el banco"
   ]
  },
  {
   "cell_type": "code",
   "execution_count": 76,
   "metadata": {},
   "outputs": [
    {
     "name": "stdout",
     "output_type": "stream",
     "text": [
      "Dar prestamo\n"
     ]
    }
   ],
   "source": [
    "# Requisitos para la otorgación del prestamos\n",
    "\n",
    "has_job = True          \n",
    "client_age = 57\n",
    "client_seniority = 10\n",
    "savings_bank = 100000\n",
    "has_loans = False\n",
    "credit_card_balance = 12000\n",
    "\n",
    "def giveLoan(has_job, client_age, client_seniority, savings_bank, has_loans, credit_card_balance):\n",
    "    if(has_job and 30 < age <65 and customer_seniority>5 and savings_bank>50000 and not has_loans and credit_card_balance<20000):\n",
    "        print(\"Dar prestamo\")\n",
    "    else:\n",
    "        print(\"No dar prestamo\")\n",
    "\n",
    "giveLoan(has_job, client_age, client_seniority, savings_bank, has_loans, credit_card_balance)\n",
    "            "
   ]
  },
  {
   "cell_type": "code",
   "execution_count": 77,
   "metadata": {},
   "outputs": [
    {
     "name": "stdout",
     "output_type": "stream",
     "text": [
      "Los intereses que tendra la Sra. Serafin son de $40000.0\n"
     ]
    }
   ],
   "source": [
    "# ya que a Mabel le otrogaron un prestamo de $200000,los mismos van a ser colocado en un Plazo fijo para el casamiento de su hijo\n",
    "# a una tasa de interes del 20% a 30 dias\n",
    "\n",
    "interest = 0.2\n",
    "client_loan = 200000\n",
    "\n",
    "interests_client_fixed_term = client_loan*interest\n",
    "print(\"Los intereses que tendra la Sra. \" + str(client_surname) + \"\" + \" son de $\" + str(interests_client_fixed_term))\n"
   ]
  },
  {
   "cell_type": "code",
   "execution_count": null,
   "metadata": {},
   "outputs": [],
   "source": []
  },
  {
   "cell_type": "code",
   "execution_count": null,
   "metadata": {},
   "outputs": [],
   "source": []
  }
 ],
 "metadata": {
  "kernelspec": {
   "display_name": "Python 3",
   "language": "python",
   "name": "python3"
  },
  "language_info": {
   "codemirror_mode": {
    "name": "ipython",
    "version": 3
   },
   "file_extension": ".py",
   "mimetype": "text/x-python",
   "name": "python",
   "nbconvert_exporter": "python",
   "pygments_lexer": "ipython3",
   "version": "3.8.3"
  }
 },
 "nbformat": 4,
 "nbformat_minor": 4
}
