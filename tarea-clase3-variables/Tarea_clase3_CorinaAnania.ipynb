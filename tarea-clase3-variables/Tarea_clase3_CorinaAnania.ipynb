{
 "cells": [
  {
   "cell_type": "markdown",
   "metadata": {},
   "source": [
    "<img src=\"../assets/socalo-ICDA.png\">"
   ]
  },
  {
   "cell_type": "markdown",
   "metadata": {},
   "source": [
    "# Python para Finanzas y Ciencia de Datos\n",
    "\n",
    "## Clase 3: tarea\n",
    "\n",
    "Corina Anania | cori.anania@gmail.com\n",
    "\n",
    "_Jueves 24 de septiembre de 2020_"
   ]
  },
  {
   "cell_type": "markdown",
   "metadata": {},
   "source": [
    "* Creación de __variables__ con datos relevantes del cliente. Como las variables _Nombre_ , _Apellido_ , y _DNI_ son inmutables, utilizaremos una tupla para garantizar que no cambien los valores."
   ]
  },
  {
   "cell_type": "code",
   "execution_count": 10,
   "metadata": {},
   "outputs": [
    {
     "name": "stdout",
     "output_type": "stream",
     "text": [
      "('Corina', 'Anania', 41240041)\n"
     ]
    }
   ],
   "source": [
    "# Puntos 1 a 5\n",
    "client_name = \"Corina\"\n",
    "client_surname = \"Anania\"\n",
    "client_mail = \"cori.anania@hotmail.com\"\n",
    "client_DNI = 41240041\n",
    "\n",
    "client_tuple = (client_name, client_surname, client_DNI)\n",
    "client = client_tuple\n"
   ]
  },
  {
   "cell_type": "markdown",
   "metadata": {},
   "source": [
    "* Creación de __variables__ que contengan el saldo inicial de la cuenta del cliente, la cantidad de tarjetas que posee y una lista de los productos que serán dados de alta."
   ]
  },
  {
   "cell_type": "code",
   "execution_count": 22,
   "metadata": {},
   "outputs": [],
   "source": [
    "# Puntos 6 a 8\n",
    "\n",
    "initial_balance = 100000\n",
    "q_cards = 2\n",
    "products_list = (\"caja de ahorro\", \"cuenta corriente\", \"tarjeta de credito\", \"tarjeta de debito\", \"plazo fijo\", \"cuenta corriente\")\n"
   ]
  },
  {
   "cell_type": "markdown",
   "metadata": {},
   "source": [
    "* Impresión de la tupla con los datos del cliente y de su saldo incial."
   ]
  },
  {
   "cell_type": "code",
   "execution_count": 24,
   "metadata": {},
   "outputs": [
    {
     "name": "stdout",
     "output_type": "stream",
     "text": [
      "('Corina', 'Anania', 41240041)\n",
      "El saldo inicial es de $100000\n"
     ]
    }
   ],
   "source": [
    "# Puntos 9 a 10\n",
    "\n",
    "print (client)\n",
    "print (\"El saldo inicial es de $\" + str(initial_balance))\n"
   ]
  },
  {
   "cell_type": "markdown",
   "metadata": {},
   "source": [
    "* Creación de una __variable__ que represente un gasto a través de un número entero. Impresión de información para el cliente."
   ]
  },
  {
   "cell_type": "code",
   "execution_count": 21,
   "metadata": {},
   "outputs": [
    {
     "name": "stdout",
     "output_type": "stream",
     "text": [
      "Se realizo un gasto por $25000\n",
      "Estimado cliente Anania, el saldo de su cuenta es de: $75000\n"
     ]
    }
   ],
   "source": [
    "# Puntos 11 a 14\n",
    "spending = 25000\n",
    "\n",
    "balance = initial_balance - spending\n",
    "\n",
    "print(\"Se realizo un gasto por $\" + str(spending))\n",
    "print(\"Estimado cliente \" + str(client_surname) + \", el saldo de su cuenta es de: $\" + str(balance))"
   ]
  },
  {
   "cell_type": "markdown",
   "metadata": {},
   "source": [
    "* Creación de una variable que nos permita validar si el cliente puede pedir un prestamo o no."
   ]
  },
  {
   "cell_type": "code",
   "execution_count": 19,
   "metadata": {},
   "outputs": [
    {
     "name": "stdout",
     "output_type": "stream",
     "text": [
      "Estimado cliente Anania, le informamos que se encuentra habilitado para pedir un préstamo\n"
     ]
    }
   ],
   "source": [
    "# Punto 15\n",
    "\n",
    "loan = True\n",
    "print (\"Estimado cliente \" + str(client_surname) + \", le informamos que se encuentra habilitado para pedir un préstamo\")"
   ]
  },
  {
   "cell_type": "markdown",
   "metadata": {},
   "source": [
    "### Funcionalidad extra"
   ]
  },
  {
   "cell_type": "markdown",
   "metadata": {},
   "source": [
    "Otra forma de saber si el cliente puede pedir un préstamo, suponiendo que el único requisito que tiene el banco es que no se encuentre en descubierto bancario. Para eso utilizamos condicionales."
   ]
  },
  {
   "cell_type": "code",
   "execution_count": 33,
   "metadata": {},
   "outputs": [
    {
     "name": "stdout",
     "output_type": "stream",
     "text": [
      "La srita Anania se encuentra habilitada para solicitar un prestamo.\n"
     ]
    }
   ],
   "source": [
    "\n",
    "bool(initial_balance>0)\n",
    "\n",
    "if initial_balance>0 :\n",
    "    print (\"La srita \" + client_surname + \" se encuentra habilitada para solicitar un prestamo.\")\n",
    "else:  \n",
    "    print (\"La srita\" + client_surname + \"NO se cuentra habilitada para solicitar un prestamo.\")"
   ]
  },
  {
   "cell_type": "code",
   "execution_count": 2,
   "metadata": {},
   "outputs": [
    {
     "data": {
      "text/plain": [
       "True"
      ]
     },
     "execution_count": 2,
     "metadata": {},
     "output_type": "execute_result"
    }
   ],
   "source": [
    "initial_balance = -\n",
    "bool(initial_balance > 0)"
   ]
  },
  {
   "cell_type": "code",
   "execution_count": null,
   "metadata": {},
   "outputs": [],
   "source": []
  },
  {
   "cell_type": "markdown",
   "metadata": {},
   "source": [
    "<img src=\"https://lh3.googleusercontent.com/proxy/G0Ze76dK9p1uhAK0k9qYqP4PYWZUvxFPdgtxdwtgxQxtf2U8Zj0imlAMcnhcmYcWLtp9DimajZOiovcxhRaviis1YuXLp4q_VXWNrqb-jLPIO4IKE0p6\">"
   ]
  }
 ],
 "metadata": {
  "kernelspec": {
   "display_name": "Python 3",
   "language": "python",
   "name": "python3"
  },
  "language_info": {
   "codemirror_mode": {
    "name": "ipython",
    "version": 3
   },
   "file_extension": ".py",
   "mimetype": "text/x-python",
   "name": "python",
   "nbconvert_exporter": "python",
   "pygments_lexer": "ipython3",
   "version": "3.7.6"
  }
 },
 "nbformat": 4,
 "nbformat_minor": 4
}
