{
 "cells": [
  {
   "cell_type": "markdown",
   "metadata": {},
   "source": [
    "# **TAREA CLASE 3**\n",
    "\n",
    "Para la tarea de la clase tres vamos a crear un homebanking resumido. Para ello vamos a seguir los siguientes pasos: \n",
    "\n",
    "* Creamos las variables basicas\n",
    "* Armamos una tupla para los datos nombre,apellido y DNI\n",
    "* Creamos una variable para el saldo de cuenta\n",
    "* Creamos una lista de productos del cliente\n",
    "* Imprimimos la salida con los datos del cliente y su saldo\n",
    "* definimos gastos bancarios\n",
    "* realizamos una resta al saldo inicial de los gastos y originamos la variable saldo final\n",
    "* Imprimimos el saldo final \n",
    "* creamos una variable verdadera o falsa para la aptitud de credito\n"
   ]
  },
  {
   "cell_type": "code",
   "execution_count": 45,
   "metadata": {},
   "outputs": [],
   "source": [
    "client_name = \"Federico\"                        # NOMBRE\n",
    "client_surname = \"Tavarone\"                     # APELLIDO\n",
    "client_mail = \"Federicotavarone_95@hotmail.com\" # MAIL\n",
    "client_dni = \"38407204\"                         #DNI"
   ]
  },
  {
   "cell_type": "markdown",
   "metadata": {},
   "source": [
    "En el paso anterior hemos declarado las variables y les hemos asignado un valor, en este caso texto"
   ]
  },
  {
   "cell_type": "code",
   "execution_count": 46,
   "metadata": {},
   "outputs": [],
   "source": [
    "client_dates = (client_name, client_surname, client_dni)"
   ]
  },
  {
   "cell_type": "markdown",
   "metadata": {},
   "source": [
    "En este caso creamos una tupla ya que estos valores no seran modificados"
   ]
  },
  {
   "cell_type": "code",
   "execution_count": 47,
   "metadata": {},
   "outputs": [],
   "source": [
    "client_balance = 10000 #SALDO"
   ]
  },
  {
   "cell_type": "code",
   "execution_count": 48,
   "metadata": {},
   "outputs": [],
   "source": [
    "client_cards = 2 #TARJETAS"
   ]
  },
  {
   "cell_type": "code",
   "execution_count": 49,
   "metadata": {},
   "outputs": [],
   "source": [
    "client_products = [\"caja de ahorro\",\n",
    "                   \"cuenta corriente\",\n",
    "                   \"tarjeta credito\", \n",
    "                   \"tarjeta debito\", \n",
    "                   \"plazo fijo\",\n",
    "                   \"cuenta comitente\"]         #LISTA PRODUCTOS"
   ]
  },
  {
   "cell_type": "markdown",
   "metadata": {},
   "source": [
    "En este caso los datos si pueden modificarse por lo que creamos una lista"
   ]
  },
  {
   "cell_type": "code",
   "execution_count": 50,
   "metadata": {},
   "outputs": [
    {
     "name": "stdout",
     "output_type": "stream",
     "text": [
      "Federico Tavarone 38407204\n"
     ]
    }
   ],
   "source": [
    "print (client_name, client_surname, client_dni) "
   ]
  },
  {
   "cell_type": "code",
   "execution_count": 51,
   "metadata": {},
   "outputs": [
    {
     "name": "stdout",
     "output_type": "stream",
     "text": [
      "saldo incial: $10000\n"
     ]
    }
   ],
   "source": [
    "print (\"saldo incial: $\"+ str (client_balance))"
   ]
  },
  {
   "cell_type": "markdown",
   "metadata": {},
   "source": [
    "Aqui concatenamos un texto con el saldo inicial"
   ]
  },
  {
   "cell_type": "code",
   "execution_count": 52,
   "metadata": {},
   "outputs": [],
   "source": [
    "banking_expenses = 2500   #GASTOS BANCARIOS"
   ]
  },
  {
   "cell_type": "code",
   "execution_count": 53,
   "metadata": {
    "scrolled": true
   },
   "outputs": [
    {
     "data": {
      "text/plain": [
       "7500"
      ]
     },
     "execution_count": 53,
     "metadata": {},
     "output_type": "execute_result"
    }
   ],
   "source": [
    "client_balance - banking_expenses"
   ]
  },
  {
   "cell_type": "code",
   "execution_count": 54,
   "metadata": {},
   "outputs": [],
   "source": [
    "client_finbalance = client_balance - banking_expenses #SALDO FINAL"
   ]
  },
  {
   "cell_type": "markdown",
   "metadata": {},
   "source": [
    "Creamos una nueva variable a partir de la diferencia de las dos variables anteriores"
   ]
  },
  {
   "cell_type": "code",
   "execution_count": 55,
   "metadata": {},
   "outputs": [
    {
     "name": "stdout",
     "output_type": "stream",
     "text": [
      "se realizo un gasto por 2500\n"
     ]
    }
   ],
   "source": [
    "print (\"se realizo un gasto por \" + str (banking_expenses))"
   ]
  },
  {
   "cell_type": "code",
   "execution_count": 56,
   "metadata": {},
   "outputs": [
    {
     "name": "stdout",
     "output_type": "stream",
     "text": [
      "su saldo actual es 7500\n"
     ]
    }
   ],
   "source": [
    "print (\"su saldo actual es \" + str (client_finbalance))"
   ]
  },
  {
   "cell_type": "code",
   "execution_count": 57,
   "metadata": {},
   "outputs": [],
   "source": [
    "loan_qualification = client_finbalance > 5000 #APTITUD PARA PRESTAMO"
   ]
  },
  {
   "cell_type": "markdown",
   "metadata": {},
   "source": [
    "Creamos una variable tipo boleana que tendra solo dos resultados, verdadero o falso , para definir aptitud del credito"
   ]
  },
  {
   "cell_type": "code",
   "execution_count": 58,
   "metadata": {},
   "outputs": [
    {
     "name": "stdout",
     "output_type": "stream",
     "text": [
      "True\n"
     ]
    }
   ],
   "source": [
    "print (loan_qualification)"
   ]
  }
 ],
 "metadata": {
  "kernelspec": {
   "display_name": "Python 3",
   "language": "python",
   "name": "python3"
  },
  "language_info": {
   "codemirror_mode": {
    "name": "ipython",
    "version": 3
   },
   "file_extension": ".py",
   "mimetype": "text/x-python",
   "name": "python",
   "nbconvert_exporter": "python",
   "pygments_lexer": "ipython3",
   "version": "3.8.3"
  }
 },
 "nbformat": 4,
 "nbformat_minor": 4
}
