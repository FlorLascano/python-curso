{
 "cells": [
  {
   "cell_type": "markdown",
   "metadata": {},
   "source": [
    "# Python para Finanzas y Ciencia de Datos\n",
    "\n",
    "## Clase 3: Tarea\n",
    "\n",
    "### Magdalena Casas\n"
   ]
  },
  {
   "cell_type": "code",
   "execution_count": 1,
   "metadata": {},
   "outputs": [],
   "source": [
    "#variables\n",
    "client_name= \"Maria Magdalena\" \n",
    "client_surname= \"Casas\"\n",
    "client_dni= \"Dni:36.354.348\"\n",
    "client_mail= \"maguicasas33@gamil.com\"\n",
    "saldo_inicial=30000\n",
    "client_credit_card=2\n",
    "gasto=2000\n",
    "saldo= (saldo_inicial - gasto)\n",
    "prestamo= True\n",
    "\n",
    "#tupla\n",
    "my_tuple =(client_name,client_surname,client_dni)\n",
    "\n",
    "\n",
    "# Lista de productos dados de alta por el cliente\n",
    "\n",
    "my_prodcucts = [\"caja de ahorro\",\n",
    "                \"cuenta corriente\",\n",
    "                \"tarjeta de credito\",\n",
    "                \"tarjeta de debito\",\n",
    "                \"plazo fijo\",\n",
    "                \"cuenta comitente\"]\n",
    "\n"
   ]
  },
  {
   "cell_type": "code",
   "execution_count": 2,
   "metadata": {},
   "outputs": [
    {
     "name": "stdout",
     "output_type": "stream",
     "text": [
      "('Maria Magdalena', 'Casas', 'Dni:36.354.348')\n"
     ]
    }
   ],
   "source": [
    "#datos cliente\n",
    "\n",
    "print(my_tuple)\n"
   ]
  },
  {
   "cell_type": "code",
   "execution_count": 3,
   "metadata": {},
   "outputs": [
    {
     "name": "stdout",
     "output_type": "stream",
     "text": [
      "Nombre completo del cliente: Maria Magdalena Casas numero de Dni:36.354.348\n"
     ]
    }
   ],
   "source": [
    "print(\"Nombre completo del cliente:\" \" \" + client_name+ \" \" + client_surname + \" \"+\"numero de\" \" \"+ client_dni)\n"
   ]
  },
  {
   "cell_type": "code",
   "execution_count": 4,
   "metadata": {},
   "outputs": [
    {
     "name": "stdout",
     "output_type": "stream",
     "text": [
      "Saldo inicial:$30000\n",
      "Se realizó un gasto por $2000\n",
      "su Saldo actual es: $28000\n"
     ]
    }
   ],
   "source": [
    "#SALDO\n",
    "\n",
    "print(\"Saldo inicial:$\" + str(saldo_inicial))\n",
    "\n",
    "print(\"Se realizó un gasto por $\" + str(gasto))\n",
    "\n",
    "print(\"su Saldo actual es: $\" + str(saldo))"
   ]
  },
  {
   "cell_type": "code",
   "execution_count": 5,
   "metadata": {},
   "outputs": [
    {
     "name": "stdout",
     "output_type": "stream",
     "text": [
      "Maria Magdalena se encuentra habilitado para pedir un prestamo\n"
     ]
    }
   ],
   "source": [
    "#condicionales\n",
    "if saldo > 5000 : \n",
    "    print(client_name + \" \"\"se encuentra habilitado para pedir un prestamo\")\n",
    "else:\n",
    "    print(client_name + \" \"\"No se encuentra habilitado para pedir un prestamo\")\n",
    "    \n"
   ]
  },
  {
   "cell_type": "code",
   "execution_count": 6,
   "metadata": {},
   "outputs": [
    {
     "name": "stdout",
     "output_type": "stream",
     "text": [
      "Maria Magdalena se encuentra habilitado para pedir un prestamo\n"
     ]
    }
   ],
   "source": [
    "print(client_name + \" \"\"se encuentra habilitado para pedir un prestamo\")"
   ]
  },
  {
   "cell_type": "code",
   "execution_count": null,
   "metadata": {},
   "outputs": [],
   "source": []
  }
 ],
 "metadata": {
  "kernelspec": {
   "display_name": "Python 3",
   "language": "python",
   "name": "python3"
  },
  "language_info": {
   "codemirror_mode": {
    "name": "ipython",
    "version": 3
   },
   "file_extension": ".py",
   "mimetype": "text/x-python",
   "name": "python",
   "nbconvert_exporter": "python",
   "pygments_lexer": "ipython3",
   "version": "3.7.6"
  }
 },
 "nbformat": 4,
 "nbformat_minor": 4
}
