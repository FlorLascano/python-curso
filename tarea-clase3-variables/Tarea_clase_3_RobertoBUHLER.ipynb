{
 "cells": [
  {
   "cell_type": "code",
   "execution_count": 1,
   "metadata": {},
   "outputs": [
    {
     "name": "stdout",
     "output_type": "stream",
     "text": [
      "('Carlos', 'Fernandez')\n"
     ]
    }
   ],
   "source": [
    "client_name = \"Carlos\"\n",
    "last_name_client = \"Fernandez\"\n",
    "mail_cliente = \"fernandez@mail.com\"\n",
    "client = (client_name, last_name_client)\n",
    "print(client)\n",
    "\n"
   ]
  },
  {
   "cell_type": "code",
   "execution_count": 3,
   "metadata": {},
   "outputs": [
    {
     "name": "stdout",
     "output_type": "stream",
     "text": [
      "3\n"
     ]
    }
   ],
   "source": [
    "initial_balance = 34000\n",
    "cards_list =[\"Visa\", \"Cabal\", \"Mastercard\"]\n",
    "active_cards = len (cards_list)\n",
    "print(active_cards)"
   ]
  },
  {
   "cell_type": "code",
   "execution_count": 7,
   "metadata": {},
   "outputs": [
    {
     "name": "stdout",
     "output_type": "stream",
     "text": [
      "3\n"
     ]
    }
   ],
   "source": [
    "active_products = [\"Caja de Ahorro\", \"Cta. Cte\", \"Seguro de Vida\"]\n",
    "numbers_products_active = len(active_products)\n",
    "print(numbers_products_active)"
   ]
  },
  {
   "cell_type": "code",
   "execution_count": 51,
   "metadata": {},
   "outputs": [
    {
     "name": "stdout",
     "output_type": "stream",
     "text": [
      "Nombre y apellido cliente: Carlos Fernandez\n",
      "['Visa', 'Cabal', 'Mastercard']\n",
      "Número de tarjetas activas 3\n"
     ]
    }
   ],
   "source": [
    "print(\"Nombre y apellido cliente: \" +client_name + \" \"+ last_name_client)\n",
    "print(cards_list)\n",
    "print(\"Número de tarjetas activas \"+ str((active_cards)))"
   ]
  },
  {
   "cell_type": "code",
   "execution_count": 34,
   "metadata": {},
   "outputs": [
    {
     "name": "stdout",
     "output_type": "stream",
     "text": [
      "Sr. Carlos Fernandez usted ha efectuado un gasto de $ 1000\n"
     ]
    }
   ],
   "source": [
    "consumption = 1000\n",
    "print(\"Sr. \" + str(client_name) + \" \" +str(last_name_client) +\" usted ha efectuado un gasto de $ \" + str(consumption))"
   ]
  },
  {
   "cell_type": "code",
   "execution_count": 35,
   "metadata": {},
   "outputs": [
    {
     "name": "stdout",
     "output_type": "stream",
     "text": [
      "Su saldo actual es de $ 33000\n"
     ]
    }
   ],
   "source": [
    "final_balance = initial_balance - consumption\n",
    "print(\"Su saldo actual es de $ \" + str(final_balance))"
   ]
  },
  {
   "cell_type": "code",
   "execution_count": 40,
   "metadata": {},
   "outputs": [
    {
     "name": "stdout",
     "output_type": "stream",
     "text": [
      "Crédito otorgado\n"
     ]
    }
   ],
   "source": [
    "if final_balance >=15000 and numbers_products_active + active_cards >= 4:\n",
    "            print(\"Crédito otorgado\")\n",
    "        \n",
    "else: print(\"No cumple con los requisitos mínimos\")"
   ]
  },
  {
   "cell_type": "code",
   "execution_count": null,
   "metadata": {},
   "outputs": [],
   "source": []
  },
  {
   "cell_type": "code",
   "execution_count": null,
   "metadata": {},
   "outputs": [],
   "source": []
  }
 ],
 "metadata": {
  "kernelspec": {
   "display_name": "Python 3",
   "language": "python",
   "name": "python3"
  },
  "language_info": {
   "codemirror_mode": {
    "name": "ipython",
    "version": 3
   },
   "file_extension": ".py",
   "mimetype": "text/x-python",
   "name": "python",
   "nbconvert_exporter": "python",
   "pygments_lexer": "ipython3",
   "version": "3.8.3"
  }
 },
 "nbformat": 4,
 "nbformat_minor": 4
}
