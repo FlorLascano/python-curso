{
 "cells": [
  {
   "cell_type": "markdown",
   "metadata": {},
   "source": [
    "#https://github.com/fedeturi/icda-python-para-finanzas/blob/master/tarea-clase3-variables/tarea_clase3.ipynb\n"
   ]
  },
  {
   "cell_type": "markdown",
   "metadata": {},
   "source": [
    "## Presentacion de los datos del cliente"
   ]
  },
  {
   "cell_type": "code",
   "execution_count": 98,
   "metadata": {},
   "outputs": [],
   "source": [
    "client_name = \"Federico montagner\"  \n",
    "client_mail = \"enriqles@mail\"\n",
    "client_dni = \"37437496\"\n",
    "client_creditscore = 1\n"
   ]
  },
  {
   "cell_type": "code",
   "execution_count": 26,
   "metadata": {},
   "outputs": [
    {
     "name": "stdout",
     "output_type": "stream",
     "text": [
      "el nombre del cliente es Federico montagner; su direccion de correo es enriqles@mail y su Dni es 37437496\n"
     ]
    }
   ],
   "source": [
    "print (\"el nombre del cliente es \" \n",
    "       + client_name + \"; su direccion de correo es \"+ client_mail + \" y su Dni es \" + client_dni)\n",
    "\n"
   ]
  },
  {
   "cell_type": "markdown",
   "metadata": {},
   "source": [
    "## Saldo cuenta"
   ]
  },
  {
   "cell_type": "code",
   "execution_count": 67,
   "metadata": {},
   "outputs": [],
   "source": [
    "client_sinicialca = 20000"
   ]
  },
  {
   "cell_type": "code",
   "execution_count": 79,
   "metadata": {},
   "outputs": [],
   "source": [
    "client_saldoca = str(client_sinicialca - ca_movimtotal)"
   ]
  },
  {
   "cell_type": "code",
   "execution_count": 80,
   "metadata": {},
   "outputs": [
    {
     "name": "stdout",
     "output_type": "stream",
     "text": [
      "el Saldo inicial de su Caja de Ahorro es: $20000\n"
     ]
    }
   ],
   "source": [
    "print (\"el Saldo inicial de su Caja de Ahorro es: $\" + str(client_sinicialca))"
   ]
  },
  {
   "cell_type": "code",
   "execution_count": 38,
   "metadata": {},
   "outputs": [],
   "source": [
    "client_products = [\"caja de ahorro\", \"tarjeta credito\", \"tarjeta debito\", \"cuenta comitente\"]"
   ]
  },
  {
   "cell_type": "code",
   "execution_count": 88,
   "metadata": {},
   "outputs": [
    {
     "name": "stdout",
     "output_type": "stream",
     "text": [
      "Realizo gastos por un total de $340\n"
     ]
    }
   ],
   "source": [
    "ca_movim1 = 100 #Detallamos los movimientos del cliente.\n",
    "ca_movim2 = 55\n",
    "ca_movim3 = 185\n",
    "ca_movimtotal = ca_movim1 + ca_movim2 + ca_movim3\n",
    "print (\"Realizo gastos por un total de $\" + str(ca_movimtotal))"
   ]
  },
  {
   "cell_type": "code",
   "execution_count": 37,
   "metadata": {},
   "outputs": [
    {
     "name": "stdout",
     "output_type": "stream",
     "text": [
      "Los productos de Federico montagner son(4):\n",
      "- caja de ahorro\n",
      "- tarjeta credito\n",
      "- tarjeta debito\n",
      "- cuenta comitente\n"
     ]
    }
   ],
   "source": [
    "\n",
    "print(\"Los productos de \" +  client_name + \" son({}):\".format(len(client_products))) # detallamos los productos \n",
    "for indiv_produc in client_products:\n",
    "    print(\"- \" + indiv_produc)"
   ]
  },
  {
   "cell_type": "code",
   "execution_count": 87,
   "metadata": {},
   "outputs": [
    {
     "name": "stdout",
     "output_type": "stream",
     "text": [
      "Federico montagner su saldo caja de ahorro es $19660\n"
     ]
    }
   ],
   "source": [
    "print (client_name + \" su saldo caja de ahorro es $\" + str(client_saldoca))"
   ]
  },
  {
   "cell_type": "code",
   "execution_count": 104,
   "metadata": {},
   "outputs": [
    {
     "name": "stdout",
     "output_type": "stream",
     "text": [
      "Usted Está calificado para tomar un préstamo de hasta $20000\n"
     ]
    }
   ],
   "source": [
    "# Definimos aprobacion de prestamos segun escala que varia de 1 a 5, siendo 5 el mayor grado de insolvencia.\n",
    "if client_creditscore > 1:\n",
    "    print (\"Disculpe, debido al riesgo alto informado no podemos otorgarle un préstamo\")\n",
    "elif client_creditscore < 2:\n",
    "    print(\"Usted Está calificado para tomar un préstamo de hasta $\" + str(client_sinicialca))"
   ]
  },
  {
   "cell_type": "code",
   "execution_count": null,
   "metadata": {},
   "outputs": [],
   "source": []
  }
 ],
 "metadata": {
  "kernelspec": {
   "display_name": "Python 3",
   "language": "python",
   "name": "python3"
  },
  "language_info": {
   "codemirror_mode": {
    "name": "ipython",
    "version": 3
   },
   "file_extension": ".py",
   "mimetype": "text/x-python",
   "name": "python",
   "nbconvert_exporter": "python",
   "pygments_lexer": "ipython3",
   "version": "3.7.6"
  }
 },
 "nbformat": 4,
 "nbformat_minor": 4
}
