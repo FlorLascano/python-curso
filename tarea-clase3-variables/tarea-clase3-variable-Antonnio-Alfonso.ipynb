{
 "cells": [
  {
   "cell_type": "markdown",
   "metadata": {},
   "source": [
    "# Python para Finanzas y Ciencia de Datos\n",
    "## Tarea Consigna:\n",
    "\n",
    "Se nos encargó desarrollar un sistema de home banking por lo que tenemos que empezar con los primeros pasos. Por el momento solo contamos con un cliente.\n",
    "\n",
    "Requisitos minimos\n",
    "    Crear una variable para guardar el nombre del cliente.\n",
    "    Crear una variable para guardar el apellido del cliente.\n",
    "    Crear una variable para guardar el mail del cliente.\n",
    "    Crear una variable para guardar el DNI del cliente.\n",
    "    Como las variables Nombre, Apellido y DNI, no cambiarán , crear una variable que use una colección de datos que nos permita garantizar inmutabilidad.\n",
    "    Crear una variable con el saldo inicial de la cuenta del cliente.\n",
    "    Crear una variable con la cantidad de tarjetas que posee activas el cliente.\n",
    "    Crear una variable que contenga una lista de los productos que el cliente tiene dados de alta (serán \"caja de ahorro\", \"cuenta corriente\", \"tarjeta de credito\", \"tarjeta de debito\", \"plazo fijo\", \"cuenta comitente\").\n",
    "    Imprimir en pantalla todos los datos del cliente (Nombre, Apellido y DNI).\n",
    "    Imprimir en pantalla el mensaje \"Saldo inicial: \\$\" y agregar el saldo inicial del cliente.\n",
    "    Crear una variable que represente un gasto, por un valor especifico.\n",
    "    Restar el gasto al saldo de la cuenta del cliente.\n",
    "    Imprimir el mensaje \"Se realizo un gasto por \\$\" y agregar el monto gastado.\n",
    "    Informar al cliente su saldo actualizado con un mensaje pertinente.\n",
    "    Crear una variable que nos permita validar si un cliente está habilitado para pedir un prestamo o no (True o False)."
   ]
  },
  {
   "cell_type": "markdown",
   "metadata": {},
   "source": [
    "nota: no se por que lo muestra con este tipo de formato. "
   ]
  },
  {
   "cell_type": "code",
   "execution_count": 4,
   "metadata": {},
   "outputs": [],
   "source": [
    "# puntos 1 a 5\n",
    "client_nombre='Victoria'\n",
    "client_apellido= 'ALfonso'\n",
    "client_email='aalfonso2205@gmail.com'\n",
    "client_dni='45169523'\n",
    "client_datos= (client_nombre, client_apellido, client_dni)"
   ]
  },
  {
   "cell_type": "markdown",
   "metadata": {},
   "source": [
    "Defini las variables segun los puntos 1 a 5 de la consiga"
   ]
  },
  {
   "cell_type": "code",
   "execution_count": 5,
   "metadata": {},
   "outputs": [],
   "source": [
    "# puntos 6 a 8 \n",
    "saldo_inicial= 15000\n",
    "tarjeta_credito= 2\n",
    "porduct_ativados=(\"caja de ahorro\", \"cuenta corriente\", \"tarjeta de credito\", \"tarjeta de debito\", \"plazo fijo\", \"cuenta comitente\")"
   ]
  },
  {
   "cell_type": "markdown",
   "metadata": {},
   "source": [
    "Se asignaron los valores a las variables sobre los productos que tiene el cliente segun puntos 6 y 7, tambien se creo una variable con una lista que incluye los datos del cliente."
   ]
  },
  {
   "cell_type": "code",
   "execution_count": 6,
   "metadata": {},
   "outputs": [
    {
     "name": "stdout",
     "output_type": "stream",
     "text": [
      "('Victoria', 'ALfonso', '45169523')\n"
     ]
    }
   ],
   "source": [
    "# 9\n",
    "print(client_datos)"
   ]
  },
  {
   "cell_type": "code",
   "execution_count": 8,
   "metadata": {},
   "outputs": [
    {
     "name": "stdout",
     "output_type": "stream",
     "text": [
      "El saldo inicial es de $15000\n"
     ]
    }
   ],
   "source": [
    "# 10\n",
    "print('El saldo inicial es de $' + str (saldo_inicial))"
   ]
  },
  {
   "cell_type": "code",
   "execution_count": 12,
   "metadata": {},
   "outputs": [],
   "source": [
    "# 11 y 12\n",
    "gastos= 5000\n",
    "saldo_temporal= (saldo_inicial - gastos)"
   ]
  },
  {
   "cell_type": "code",
   "execution_count": 13,
   "metadata": {},
   "outputs": [
    {
     "name": "stdout",
     "output_type": "stream",
     "text": [
      "Se realizo un gasto por $10000\n"
     ]
    }
   ],
   "source": [
    "# 13\n",
    "print('Se realizo un gasto por $' + str (saldo_temporal))"
   ]
  },
  {
   "cell_type": "code",
   "execution_count": 14,
   "metadata": {},
   "outputs": [
    {
     "name": "stdout",
     "output_type": "stream",
     "text": [
      "Sr. cliente, por la presente le comunicamos que su nuevo saldo es de $10000\n"
     ]
    }
   ],
   "source": [
    "# 14\n",
    "print('Sr. cliente, por la presente le comunicamos que su nuevo saldo es de $' + str (saldo_temporal))"
   ]
  },
  {
   "cell_type": "code",
   "execution_count": 19,
   "metadata": {},
   "outputs": [
    {
     "name": "stdout",
     "output_type": "stream",
     "text": [
      "Victoria esta habilitado para pedir un prestamo\n"
     ]
    }
   ],
   "source": [
    "# 15\n",
    "prestamo= True\n",
    "print(client_nombre + ' esta habilitado para pedir un prestamo')"
   ]
  },
  {
   "cell_type": "code",
   "execution_count": 22,
   "metadata": {},
   "outputs": [
    {
     "ename": "SyntaxError",
     "evalue": "invalid syntax (<ipython-input-22-3b85541215e1>, line 1)",
     "output_type": "error",
     "traceback": [
      "\u001b[1;36m  File \u001b[1;32m\"<ipython-input-22-3b85541215e1>\"\u001b[1;36m, line \u001b[1;32m1\u001b[0m\n\u001b[1;33m    <img src=\"\\data:image/png;base64,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\"\u001b[0m\n\u001b[1;37m    ^\u001b[0m\n\u001b[1;31mSyntaxError\u001b[0m\u001b[1;31m:\u001b[0m invalid syntax\n"
     ]
    }
   ],
   "source": [
    "<img src=\"\\data:image/png;base64,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\""
   ]
  },
  {
   "cell_type": "markdown",
   "metadata": {},
   "source": [
    "nota: quise agregar una imagen pero no pude"
   ]
  },
  {
   "cell_type": "code",
   "execution_count": null,
   "metadata": {},
   "outputs": [],
   "source": []
  }
 ],
 "metadata": {
  "kernelspec": {
   "display_name": "Python 3",
   "language": "python",
   "name": "python3"
  },
  "language_info": {
   "codemirror_mode": {
    "name": "ipython",
    "version": 3
   },
   "file_extension": ".py",
   "mimetype": "text/x-python",
   "name": "python",
   "nbconvert_exporter": "python",
   "pygments_lexer": "ipython3",
   "version": "3.8.3"
  }
 },
 "nbformat": 4,
 "nbformat_minor": 4
}
