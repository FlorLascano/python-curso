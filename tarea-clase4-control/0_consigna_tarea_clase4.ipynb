{
 "cells": [
  {
   "cell_type": "markdown",
   "metadata": {},
   "source": [
    "<img src=\"../assets/socalo-ICDA.png\">"
   ]
  },
  {
   "cell_type": "markdown",
   "metadata": {},
   "source": [
    "# Python para Finazas y Ciencia de Datos\n",
    "\n",
    "## Clase 4: Repaso y Tarea\n",
    "\n",
    "### Estructuras de Datos\n",
    "\n",
    "#### Listas\n",
    "\n",
    "* Colección de datos **ordenados**.\n",
    "* Pueden contener cualquier _tipo_ de dato.\n",
    "* Son **modificables**.\n",
    "* Siendo `n` la cantidad de elementos o _longitud_ de la lsita, se indexan con números enteros, empezando por `0` hasta `n-1`.\n",
    "* Se pueden indexar de principio a fin con índices positvos, o de fin a principio con índices negativos.\n",
    "* Se definen usando corchetes, y cada uno de sus elementos se separa con `,`."
   ]
  },
  {
   "cell_type": "code",
   "execution_count": null,
   "metadata": {},
   "outputs": [],
   "source": [
    "int_list = [4, 7, 90, 12, 1, 0, 45, 67, 56, 10]"
   ]
  },
  {
   "cell_type": "code",
   "execution_count": null,
   "metadata": {},
   "outputs": [],
   "source": [
    "print(\"Longitud de la lista: \" + str(len(int_list)))"
   ]
  },
  {
   "cell_type": "code",
   "execution_count": null,
   "metadata": {},
   "outputs": [],
   "source": [
    "# Indexacion: guardando el primer y el ultimo elemento de la lista en variables\n",
    "# para usarlos en operaciones matematicas\n",
    "a = int_list[0]\n",
    "b = int_list[-1]"
   ]
  },
  {
   "cell_type": "code",
   "execution_count": null,
   "metadata": {},
   "outputs": [],
   "source": [
    "print(\" a + b: \" , a + b)\n",
    "print(\" a - b: \" , a - b)\n",
    "print(\" a * b: \" , a * b)\n",
    "print(\" a / b: \" , a / b)"
   ]
  },
  {
   "cell_type": "code",
   "execution_count": null,
   "metadata": {},
   "outputs": [],
   "source": [
    "# List-slicing: Armando sublistas a partir de porciones de la lista original\n",
    "new_list = int_list[4:8]\n",
    "new_list2 = int_list[:-3]\n",
    "new_list3 = int_list[-4:]"
   ]
  },
  {
   "cell_type": "code",
   "execution_count": null,
   "metadata": {},
   "outputs": [],
   "source": [
    "print(new_list)\n",
    "print(new_list2)\n",
    "print(new_list3)"
   ]
  },
  {
   "cell_type": "code",
   "execution_count": null,
   "metadata": {},
   "outputs": [],
   "source": [
    "# Algunas funciones: Ordenar\n",
    "print(int_list)\n",
    "int_list.sort()\n",
    "print(int_list)"
   ]
  },
  {
   "cell_type": "code",
   "execution_count": null,
   "metadata": {},
   "outputs": [],
   "source": [
    "# Algunas funciones: Agregar elementos al final\n",
    "print(int_list)\n",
    "int_list.append(17)\n",
    "int_list.append(100)\n",
    "print(int_list)"
   ]
  },
  {
   "cell_type": "code",
   "execution_count": null,
   "metadata": {},
   "outputs": [],
   "source": [
    "# Algunas funciones: Eliminar elementos segun su indice\n",
    "# en este ejemplo siempre eliminamos el ultimo elemento\n",
    "print(int_list)\n",
    "del int_list[-1]\n",
    "del int_list[-1]\n",
    "del int_list[-1]\n",
    "del int_list[-1]\n",
    "del int_list[-1]\n",
    "print(int_list)"
   ]
  },
  {
   "cell_type": "markdown",
   "metadata": {},
   "source": [
    "#### Diccionarios\n",
    "\n",
    "* Colección de datos **desordenado**.\n",
    "* Pueden contener cualquier _tipo_ de dato.\n",
    "* Son **modificables**.\n",
    "* Los elementos contienen una **clave** y un **valor**.\n",
    "* Se definen usando llaves, y cada uno de sus elementos se separa con `,`."
   ]
  },
  {
   "cell_type": "code",
   "execution_count": null,
   "metadata": {},
   "outputs": [],
   "source": [
    "client = {\n",
    "    'clientID': 53459,\n",
    "    'nombre': 'Martin',\n",
    "    'apellido': 'Torres',\n",
    "    'mail': 'mtorres@gmail.com'\n",
    "}"
   ]
  },
  {
   "cell_type": "code",
   "execution_count": null,
   "metadata": {},
   "outputs": [],
   "source": [
    "print(client)"
   ]
  },
  {
   "cell_type": "code",
   "execution_count": null,
   "metadata": {},
   "outputs": [],
   "source": [
    "# Guardando el mail en una variable\n",
    "send_mail = client.get('mail')\n",
    "\n",
    "# Guardando el apellido en una variable\n",
    "surname = client['apellido']"
   ]
  },
  {
   "cell_type": "code",
   "execution_count": null,
   "metadata": {},
   "outputs": [],
   "source": [
    "print(\"Enviar mail a:\", send_mail)\n",
    "print(\"Estimado Sr.\", surname, \",\")\n",
    "print(\"Nos dirijioms a usted para avisarle que . . .\")"
   ]
  },
  {
   "cell_type": "markdown",
   "metadata": {},
   "source": [
    "_Presten atenciòn a las ultimas funcinoes `print()` a las que le pasamos varias variables de tipo String, seaprados por coma, y se imprimen uno a lado del otro. Esta es una de las muchas formas que tenemos de imprimir mas de un texto junto a otro._"
   ]
  },
  {
   "cell_type": "markdown",
   "metadata": {},
   "source": [
    "#### Tuplas\n",
    "\n",
    "* Colección de datos **ordenados**.\n",
    "* Pueden contener cualquier _tipo_ de dato.\n",
    "* Son **inmutables**.\n",
    "* Se pueden manejar en gran parte igual a las listas.\n",
    "* Se definen usando parentesis, y cada uno de sus elementos se separa con `,`."
   ]
  },
  {
   "cell_type": "code",
   "execution_count": null,
   "metadata": {},
   "outputs": [],
   "source": [
    "int_tuple = (1, 3, 5)"
   ]
  },
  {
   "cell_type": "code",
   "execution_count": null,
   "metadata": {},
   "outputs": [],
   "source": [
    "print(int_tuple)"
   ]
  },
  {
   "cell_type": "code",
   "execution_count": null,
   "metadata": {},
   "outputs": [],
   "source": [
    "print(int_tuple[-1])"
   ]
  },
  {
   "cell_type": "markdown",
   "metadata": {},
   "source": [
    "### Estructuras de Control\n",
    "\n",
    "#### Condicional: IF / IF-ELSE / IF-ELIF-ELSE\n",
    "\n",
    "* Evalua si una o varias condiciones son **True** o **False**, y nos permite efectuar cualquier set de instrucciones para cada posible resultado."
   ]
  },
  {
   "cell_type": "code",
   "execution_count": null,
   "metadata": {},
   "outputs": [],
   "source": [
    "jefe = \"Martin\"\n",
    "cliente1 = \"Mariana\"\n",
    "proveedor = \"Ricardo\"\n",
    "\n",
    "nombre1 = \"Martin\"\n",
    "nombre2 = \"Mariana\"\n",
    "nombre3 = \"Ricardo\"\n",
    "nombre4 = \"Laura\""
   ]
  },
  {
   "cell_type": "code",
   "execution_count": null,
   "metadata": {},
   "outputs": [],
   "source": [
    "if nombre1 == jefe:\n",
    "    print(\"Buen dia Jefe!\")"
   ]
  },
  {
   "cell_type": "code",
   "execution_count": null,
   "metadata": {},
   "outputs": [],
   "source": [
    "if nombre3 == jefe:\n",
    "    print(\"Buen dia Jefe!\")\n",
    "elif nombre2 == cliente1:\n",
    "    print(\"Buen dìa \" + cliente1 + \", bienvenida de nuevo a neustra sucursal!\")"
   ]
  },
  {
   "cell_type": "code",
   "execution_count": null,
   "metadata": {},
   "outputs": [],
   "source": [
    "if nombre3 == jefe:\n",
    "    print(\"Buen dia Jefe!\")\n",
    "elif nombre3 == cliente1:\n",
    "    print(\"Buen dìa \" + cliente1 + \", bienvenida de nuevo a neustra sucursal!\")\n",
    "elif nombre3 == proveedor:\n",
    "    print(\"Hola \" + proveedor + \", ya te paso la lista de stock faltante.\")\n"
   ]
  },
  {
   "cell_type": "code",
   "execution_count": null,
   "metadata": {},
   "outputs": [],
   "source": [
    "if nombre4 == jefe:\n",
    "    print(\"Buen dia Jefe!\")\n",
    "elif nombre4 == cliente1:\n",
    "    print(\"Buen dìa \" + cliente1 + \", bienvenida de nuevo a neustra sucursal!\")\n",
    "elif nombre4 == proveedor:\n",
    "    print(\"Hola \" + proveedor + \", ya te paso la lista de stock faltante.\")\n",
    "else:\n",
    "    print(\"Hola \" + nombre4 + \", en que te ayudo?\")"
   ]
  },
  {
   "cell_type": "markdown",
   "metadata": {},
   "source": [
    "<a href=\"https://www.programiz.com/python-programming/if-elif-else\" target=\"_blank\">Tutorial en Ingles</a>\n",
    "\n",
    "<a href=\"https://entrenamiento-python-basico.readthedocs.io/es/latest/leccion4/condicional_if.html\" target=\"_blank\">Tutorial en Español</a>"
   ]
  },
  {
   "cell_type": "markdown",
   "metadata": {},
   "source": [
    "#### Repeticion Finita: FOR\n",
    "\n",
    "* Ejecuta un set de instrucciones de manera iterativa.\n",
    "* Se contruye usando una _variable_ con la cual trabajar _sobre alguna estructura de datos_ (lista, diccionario, tupla, rango de numeros enteros, etc). "
   ]
  },
  {
   "cell_type": "markdown",
   "metadata": {},
   "source": [
    "Para trabajar sobre un rango de numeros enteros, por ejemplo \"repetir una instruccion 10 veces; usamos la funcion range(), la cual construye una lista de numeros enteros, de longitud n."
   ]
  },
  {
   "cell_type": "code",
   "execution_count": null,
   "metadata": {},
   "outputs": [],
   "source": [
    "for variable in range(10):\n",
    "    print(variable)"
   ]
  },
  {
   "cell_type": "markdown",
   "metadata": {},
   "source": [
    "Para trabajar sobre unna estructura de datos, usamos la estructura como el rango sobre el cual vamos a iterar \"tantas veces como elementos tenga la estructura\"."
   ]
  },
  {
   "cell_type": "code",
   "execution_count": null,
   "metadata": {},
   "outputs": [],
   "source": [
    "alumnos = [\"Pablo\", \"Romina\", \"Esteban\", \"Raul\", \"Mariana\", \"Agustina\", \"Florencia\"]"
   ]
  },
  {
   "cell_type": "code",
   "execution_count": null,
   "metadata": {},
   "outputs": [],
   "source": [
    "for alumno in alumnos:\n",
    "    print(\"Hola\", alumno)"
   ]
  },
  {
   "cell_type": "markdown",
   "metadata": {},
   "source": [
    "<a href=\"https://www.programiz.com/python-programming/for-loop\" target=\"_blank\">Tutorial en Ingles</a>\n",
    "\n",
    "<a href=\"https://entrenamiento-python-basico.readthedocs.io/es/latest/leccion4/bucle_for.html\" target=\"_blank\">Tutorial en Español</a>"
   ]
  },
  {
   "cell_type": "markdown",
   "metadata": {},
   "source": [
    "#### Repeticion Infinita: WHILE\n",
    "\n",
    "* Ejecuta un set de instrucciones de manera iterativa, mientras una condicion se cumple.\n",
    "* Se contruye con una condicion que se evalua. Si esta se cumple, ejecuta las instrucciones que especificamos dentro del bloque. "
   ]
  },
  {
   "cell_type": "code",
   "execution_count": null,
   "metadata": {},
   "outputs": [],
   "source": [
    "suma = 0\n",
    "a = 1\n",
    "b = 2\n",
    "\n",
    "while suma < 20:\n",
    "    print(\"La suma es menor a 20\")\n",
    "    print(\"Suma acumulada antes:\", suma)\n",
    "    suma = suma + a + b\n",
    "    print(\"Suma acumulada despues:\", suma)\n",
    "    print(\"---------------------------\")\n",
    "\n",
    "print(\"La suma es mayor a 20\")\n"
   ]
  },
  {
   "cell_type": "code",
   "execution_count": null,
   "metadata": {},
   "outputs": [],
   "source": [
    "contador = 10\n",
    "while contador > 0:\n",
    "    print(\"Contador antes de decrementarlo:\", contador)\n",
    "    contador = contador - 1\n",
    "    print(\"Contador despues de decrementarlo:\", contador)\n",
    "    print(\"--------------------------------------\")"
   ]
  },
  {
   "cell_type": "markdown",
   "metadata": {},
   "source": [
    "<a href=\"https://www.programiz.com/python-programming/while-loop\" target=\"_blank\">Tutorial en Ingles</a>\n",
    "\n",
    "<a href=\"https://entrenamiento-python-basico.readthedocs.io/es/latest/leccion4/bucle_while.html \" target=\"_blank\">Tutorial en Español</a>"
   ]
  },
  {
   "cell_type": "markdown",
   "metadata": {},
   "source": [
    "# Tarea\n",
    "<img src=\"https://files.realpython.com/media/python-basics-wide2.f73a9e9bf9b8.jpg\"/>"
   ]
  },
  {
   "cell_type": "markdown",
   "metadata": {},
   "source": [
    "### Consigna\n",
    "\n",
    "Para mejorar la atencion al cliente y la experiencia de homebanking, nos encargaron agregar nuevas funcionalidades al sistema que desarrollamos anteriormente.\n",
    "\n",
    "##### Formato de entrega\n",
    "* Crear una nueva Jupyter Notebook imlementando las funcionalidades requeridas.\n",
    "* Guardar la jupyter notebook con el siguiente formato de nombre:\n",
    "```\n",
    "            tarea_clase4_NombreApellido.ipynb\n",
    "    EJEMPLO:tarea_clase4_FedericoBrun.ipynb\n",
    "```    \n",
    "    \n",
    "* Enviar Jupyter Notebook por mail.\n",
    "\n",
    "##### Requisitos minimos\n",
    "\n",
    "(Datos de cliente a utilizar: nombre, apellido, dni, mail)\n",
    "\n",
    "1. Crear una variable para guardar los datos del cliente en un diccionario. apellido del cliente.\n",
    "2. Crear una variable con el saldo en la Caja de Ahorro del cliente.\n",
    "3. Crear una variable con el total de los consumos de una de las tarjetas de credito del cliente.\n",
    "4. Crear una variable con el pago de la tarjeta de credito realizado por el cliente, y una con la resta de consumos menos pago.\n",
    "5. Crear una variable de tipo Booleana que valide si el cliente presenta saldos impagos en la tarjeta. Para ello asignar el resultado de _evaluar si el total de consumos menos el pago realizado por el cliente es mayor a cero_ , a una variable con identificador `saldo_impago_check`.\n",
    "6. Usando una estructura condicional, validar si el cliente presenta saldos impagos y mandarle un mail informandole (usando `print()`).\n",
    "7. Crear una lista de clientes. Para ello crear una lista, donde cada elemento es a su vez una lista, conteniendo los datos de cliente.\n",
    "8. Usando una estructura de repeticion finita, enviar un mail a cada cliente, avisando que el sistema de homebanking esta en mantenimiento.\n",
    "9. Armar un ChatBot de atencion al cliente simple que realice lo siguiente:\n",
    "    - Cuando se loguea el cliente, preguntarle su nombre usando la funcion `input()` <a href=\"https://entrenamiento-python-basico.readthedocs.io/es/latest/leccion5/funciones_integradas.html#input\" target=\"_blank\">Cómo se usa la funcion input()</a>.\n",
    "    - Saludarlo y preguntar \"En que lo puedo ayudar?\"\n",
    "    - Usando una estructura de repeticion infinita (tener en cuenta que necesitamos delcarar antes de entrar a esta, una variable que va a ser la respuesta del cliente que vamos a evaluar), evaluar la respuesta numerica del cliente y mostrar los siguientes mensajes:\n",
    "        - 1 = Reclamos: \"Enseguida lo comunico con un asesor\"\n",
    "        - 2 = Consulta de saldo: \"El saldo en su Caja de Ahorro es $xxxx\"\n",
    "        - 3 = Apertura de cuentas: \"Para abrir una cuenta llamar al 0800 12344567\"\n",
    "        - Opcion invalida: \"Perdon, creo que no te entiendo\"\n",
    "    - Preguntar si necesita algo más, si escribe \"no\" o \"No\" o \"NO\", despedirse\n",
    "    \n",
    "10. Usando las funciones `help()` y `dir()` mostrar al menos 2 funciones que se pueden aplicar sobre listas, 2 sobre diccionarios y 2 sobre tuplas; distintas a las que ya se vieron.\n",
    "        \n",
    "\n",
    "##### Requisitos extras\n",
    "1. Usar comentarios en el código (no están explicados en esta libreta, debe buscar en la Clase 2 o investigar \"Comentarios en Python\" en internet).\n",
    "2. Describir cada uno (o en grupos) los pasos de ***Requisitos minimos***, usando celdas de texto enriquecido.\n",
    "3. Agregar una imagen de internet que sea relevante.\n",
    "4. Mantener el orden y la prolijidad de su libreta, al igual que hacer uso de las buenas practicas de programacion presentadas en clase (convenciones de nombres para variables)."
   ]
  },
  {
   "cell_type": "markdown",
   "metadata": {},
   "source": [
    "### Ejemplo simple\n"
   ]
  },
  {
   "cell_type": "code",
   "execution_count": null,
   "metadata": {},
   "outputs": [],
   "source": [
    "cliente = {\n",
    "    'nombre': 'Federico',\n",
    "    'mail': 'fedejbrun@gmail.com'\n",
    "}\n",
    "cliente"
   ]
  },
  {
   "cell_type": "code",
   "execution_count": null,
   "metadata": {},
   "outputs": [],
   "source": [
    "consumos = 10000\n",
    "pago = 7000\n",
    "\n",
    "caja_de_ahorro = 8000\n",
    "\n",
    "saldo_impago_check = ((consumos - pago) > 0)\n",
    "diferencia = consumos - pago"
   ]
  },
  {
   "cell_type": "code",
   "execution_count": null,
   "metadata": {},
   "outputs": [],
   "source": [
    "if saldo_impago_check:\n",
    "    print(\"Presenta un saldo impago por $\", diferencia)\n",
    "else:\n",
    "    print(\"No presenta saldos impagos\")"
   ]
  },
  {
   "cell_type": "markdown",
   "metadata": {},
   "source": [
    "***Cuál es la diferencia entre `saldo_impago_check` y `diferencia` ?***"
   ]
  },
  {
   "cell_type": "code",
   "execution_count": null,
   "metadata": {},
   "outputs": [],
   "source": [
    "clientes = [\n",
    "    [\"Federico\", \"fedejbrun@gmail.com\"]\n",
    "]"
   ]
  },
  {
   "cell_type": "code",
   "execution_count": null,
   "metadata": {},
   "outputs": [],
   "source": [
    "for cliente in clientes:\n",
    "    print(\"Mandar mail a:\", cliente[1])\n",
    "    print(\"Estimado cliente\", cliente[0])\n",
    "    print(\"Le informamos que nuestro sistema de Home Banking esta en mantenimiento\")"
   ]
  },
  {
   "cell_type": "markdown",
   "metadata": {},
   "source": [
    "#### Chatbot"
   ]
  },
  {
   "cell_type": "code",
   "execution_count": null,
   "metadata": {},
   "outputs": [],
   "source": [
    "nombre = input(\"Cómo se llama?\")\n",
    "\n",
    "respuesta = \"si\"\n",
    "\n",
    "print(\"Hola\", nombre)\n",
    "\n",
    "# La condicion de corte es que la respuesta sea DISTINTA de \"no\"\n",
    "# Osea, si la respuesta es distinta a \"no\", la condicion es TRUE y comienza el WHILE\n",
    "while respuesta.lower() != \"no\": \n",
    "    print()\n",
    "    print(\"OPCIONES:\")\n",
    "    print(\"1: Reclamos\")\n",
    "    print(\"2: Reclamos\")   \n",
    "    print(\"3: Reclamos\")   \n",
    "    print(\"No: Salir\")\n",
    "    \n",
    "    respuesta = input(\"\\nEn que lo puedo ayudar? \")\n",
    "    \n",
    "    if respuesta == \"1\":\n",
    "        print()\n",
    "        print(\"Enseguida lo comunico con un asesor\")\n",
    "    elif respuesta == \"2\":\n",
    "        print()\n",
    "        print( \"El saldo en su Caja de Ahorro es de $\", str(caja_de_ahorro))\n",
    "    elif respuesta == \"3\":\n",
    "        print()\n",
    "        print(\"Para abrir una cuenta llamar al 0800 12344567\")\n",
    "    elif respuesta.lower() == \"no\":\n",
    "        respuesta = \"no\"\n",
    "        print(\"\")\n",
    "        print(\"Hasta pronto\", nombre)\n",
    "    else:\n",
    "        print()\n",
    "        print(\"Perdon, creo que no te entiendo\")"
   ]
  },
  {
   "cell_type": "code",
   "execution_count": null,
   "metadata": {},
   "outputs": [],
   "source": []
  }
 ],
 "metadata": {
  "kernelspec": {
   "display_name": "Python 3",
   "language": "python",
   "name": "python3"
  },
  "language_info": {
   "codemirror_mode": {
    "name": "ipython",
    "version": 3
   },
   "file_extension": ".py",
   "mimetype": "text/x-python",
   "name": "python",
   "nbconvert_exporter": "python",
   "pygments_lexer": "ipython3",
   "version": "3.7.6"
  }
 },
 "nbformat": 4,
 "nbformat_minor": 4
}
