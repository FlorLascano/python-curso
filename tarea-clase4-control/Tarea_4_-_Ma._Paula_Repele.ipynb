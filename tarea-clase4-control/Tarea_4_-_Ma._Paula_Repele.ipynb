{
 "cells": [
  {
   "cell_type": "markdown",
   "metadata": {},
   "source": [
    "# BANCO JUPITER"
   ]
  },
  {
   "cell_type": "markdown",
   "metadata": {},
   "source": [
    "## Home Banking"
   ]
  },
  {
   "cell_type": "markdown",
   "metadata": {},
   "source": [
    "<img src=\"https://www.bna.com.ar/Images/internas/interna-homebanking.jpg\"/>"
   ]
  },
  {
   "cell_type": "code",
   "execution_count": 3,
   "metadata": {},
   "outputs": [
    {
     "name": "stdout",
     "output_type": "stream",
     "text": [
      "{'clientID': 34186641, 'nombre': 'Maria Paula', 'apellido': 'Repele', 'mail': 'paurepele@gmail.com'}\n"
     ]
    }
   ],
   "source": [
    "#Crear una variable para guardar los datos del cliente en un diccionario. apellido del cliente.\n",
    "client = {\n",
    "    'clientID': 34186641,\n",
    "    'nombre': 'Maria Paula',\n",
    "    'apellido': 'Repele',\n",
    "    'mail': 'paurepele@gmail.com'\n",
    "}\n",
    "\n",
    "send_mail = client.get('mail')\n",
    "surname = client['apellido']\n",
    "name = client['nombre']\n",
    "print(client)"
   ]
  },
  {
   "cell_type": "code",
   "execution_count": 6,
   "metadata": {},
   "outputs": [
    {
     "name": "stdout",
     "output_type": "stream",
     "text": [
      "-2000\n"
     ]
    }
   ],
   "source": [
    "#Crear una variable con el saldo en la Caja de Ahorro del cliente.\n",
    "#Crear una variable con el total de los consumos de una de las tarjetas de credito del cliente.\n",
    "#Crear una variable con el pago de la tarjeta de credito realizado por el cliente, y una con la resta de consumos menos pago.\n",
    "\n",
    "\n",
    "saldo = 1000\n",
    "consumos = 10000\n",
    "pago = 7000\n",
    "caja_de_ahorro = (saldo - consumos + pago)\n",
    "\n",
    "#Crear una variable de tipo Booleana que valide si el cliente presenta saldos impagos en la tarjeta.\n",
    "#Para ello asignar el resultado de evaluar si el total de consumos menos el pago realizado por el cliente es mayor a cero , \n",
    "#a una variable con identificador saldo_impago_check.\n",
    "\n",
    "saldo_impago_check = ((consumos - pago) > 0)\n",
    "diferencia = consumos - pago\n",
    "print(caja_de_ahorro)"
   ]
  },
  {
   "cell_type": "code",
   "execution_count": 7,
   "metadata": {},
   "outputs": [
    {
     "name": "stdout",
     "output_type": "stream",
     "text": [
      "Saldo impago de tarjeta por $ 3000\n",
      "Enviar mail a: paurepele@gmail.com\n",
      "Estimado Sr. Repele ,\n",
      "Nos dirijioms a usted para avisarle que su saldo de la tarjeta se encuentra impago . . .\n"
     ]
    }
   ],
   "source": [
    "#Usando una estructura condicional, validar si el cliente presenta saldos impagos y mandarle un mail \n",
    "#informandole (usando print()).\n",
    "\n",
    "if saldo_impago_check:\n",
    "    print(\"Saldo impago de tarjeta por $\", diferencia)\n",
    "    print(\"Enviar mail a:\", send_mail)\n",
    "    print(\"Estimado Sr.\", surname, \",\")\n",
    "    print(\"Nos dirijioms a usted para avisarle que su saldo de la tarjeta se encuentra impago . . .\")\n",
    "else:\n",
    "    print(\"No presenta saldos impagos\")\n",
    "    print(\"Enviar mail a:\", send_mail)\n",
    "    print(\"Estimado Sr.\", surname, \",\")\n",
    "    print(\"Nos dirijioms a usted para avisarle que se ha abonado de forma correcta su tarjeta . . .\")"
   ]
  },
  {
   "cell_type": "code",
   "execution_count": 8,
   "metadata": {},
   "outputs": [],
   "source": [
    "#Crear una lista de clientes. Para ello crear una lista, donde cada elemento es a su vez una lista,\n",
    "#conteniendo los datos de cliente.\n",
    "\n",
    "clientes = [\n",
    "    (\"Paula\", \"paula@gmail.com\"),\n",
    "    (\"Agustina\", \"agus@gmail.com\"),\n",
    "    (\"Martin\", \"martin@gmail.com\"),\n",
    "    (\"Jose\", \"jose@gmail.com\")]"
   ]
  },
  {
   "cell_type": "code",
   "execution_count": 9,
   "metadata": {},
   "outputs": [
    {
     "name": "stdout",
     "output_type": "stream",
     "text": [
      "Mandar mail a: paula@gmail.com\n",
      "Estimado/a cliente Paula\n",
      "Le informamos que nuestro sistema de Home Banking esta en mantenimiento\n",
      "Mandar mail a: agus@gmail.com\n",
      "Estimado/a cliente Agustina\n",
      "Le informamos que nuestro sistema de Home Banking esta en mantenimiento\n",
      "Mandar mail a: martin@gmail.com\n",
      "Estimado/a cliente Martin\n",
      "Le informamos que nuestro sistema de Home Banking esta en mantenimiento\n",
      "Mandar mail a: jose@gmail.com\n",
      "Estimado/a cliente Jose\n",
      "Le informamos que nuestro sistema de Home Banking esta en mantenimiento\n"
     ]
    }
   ],
   "source": [
    "#Usando una estructura de repeticion finita, enviar un mail a cada cliente, \n",
    "#avisando que el sistema de homebanking esta en mantenimiento.\n",
    "\n",
    "for cliente in clientes:\n",
    "    print(\"Mandar mail a:\", cliente[1])\n",
    "    print(\"Estimado/a cliente\", cliente[0])\n",
    "    print(\"Le informamos que nuestro sistema de Home Banking esta en mantenimiento\")"
   ]
  },
  {
   "cell_type": "markdown",
   "metadata": {},
   "source": [
    "<img src= \"https://www.socialchef.es/wp-content/uploads/atencion_cliente_social-media.jpg\"/>\n"
   ]
  },
  {
   "cell_type": "code",
   "execution_count": 21,
   "metadata": {},
   "outputs": [
    {
     "name": "stdout",
     "output_type": "stream",
     "text": [
      " ¿Cómo se llama?berma\n",
      "Hola berma\n",
      "\n",
      "OPCIONES:\n",
      "1: Reclamos\n",
      "2: Consultas saldo\n",
      "3: Apertura de cuentas\n",
      "No: Salir\n",
      "En que lo puedo ayudar? 1\n",
      "\n",
      "Enseguida lo comunico con un asesor\n",
      "\n",
      "¿Lo puedo ayudar con algo mas?\n",
      "\n",
      "OPCIONES:\n",
      "1: Reclamos\n",
      "2: Consultas saldo\n",
      "3: Apertura de cuentas\n",
      "No: Salir\n",
      "En que lo puedo ayudar? 2\n",
      "\n",
      "El saldo en su **Caja de Ahorro** es de $ -2000\n",
      "\n",
      "¿Lo puedo ayudar con algo mas?\n",
      "\n",
      "OPCIONES:\n",
      "1: Reclamos\n",
      "2: Consultas saldo\n",
      "3: Apertura de cuentas\n",
      "No: Salir\n",
      "En que lo puedo ayudar? 3\n",
      "\n",
      "Para abrir una cuenta llamar al 0800 12344567\n",
      "\n",
      "¿Lo puedo ayudar con algo mas?\n",
      "\n",
      "OPCIONES:\n",
      "1: Reclamos\n",
      "2: Consultas saldo\n",
      "3: Apertura de cuentas\n",
      "No: Salir\n",
      "En que lo puedo ayudar? me duele cabeza\n",
      "\n",
      "Perdon, creo que no te entiendo\n",
      "\n",
      "Por favor elija alguna de las siguientes opciones:\n",
      "\n",
      "OPCIONES:\n",
      "1: Reclamos\n",
      "2: Consultas saldo\n",
      "3: Apertura de cuentas\n",
      "No: Salir\n",
      "En que lo puedo ayudar? no\n",
      "\n",
      "Hasta pronto berma\n"
     ]
    }
   ],
   "source": [
    "nombre = input(\" ¿Cómo se llama?\")\n",
    "\n",
    "respuesta = \"si\"\n",
    "\n",
    "print(\"Hola\", nombre)\n",
    "\n",
    "while respuesta.lower() != \"no\": \n",
    "    print()\n",
    "    print(\"OPCIONES:\")\n",
    "    print(\"1: Reclamos\")\n",
    "    print(\"2: Consultas saldo\")   \n",
    "    print(\"3: Apertura de cuentas\")   \n",
    "    print(\"No: Salir\")\n",
    "  \n",
    "    \n",
    "    respuesta = input(\"En que lo puedo ayudar? \")\n",
    "    \n",
    "    if respuesta == \"1\":\n",
    "        print()\n",
    "        print(\"Enseguida lo comunico con un asesor\")\n",
    "        print()\n",
    "        print(\"¿Lo puedo ayudar con algo mas?\")\n",
    "    elif respuesta == \"2\":\n",
    "        print()\n",
    "        print( \"El saldo en su **Caja de Ahorro** es de $\", str(caja_de_ahorro))\n",
    "        print()\n",
    "        print(\"¿Lo puedo ayudar con algo mas?\")\n",
    "    elif respuesta == \"3\":\n",
    "        print()\n",
    "        print(\"Para abrir una cuenta llamar al 0800 12344567\")\n",
    "        print()\n",
    "        print(\"¿Lo puedo ayudar con algo mas?\")\n",
    "    elif respuesta.lower() == \"no\":\n",
    "        respuesta = \"no\"\n",
    "        print(\"\")\n",
    "        print(\"Hasta pronto\", nombre)\n",
    "    else:\n",
    "        print()\n",
    "        print(\"Perdon, creo que no te entiendo\")\n",
    "        print()\n",
    "        print(\"Por favor elija alguna de las siguientes opciones:\")"
   ]
  },
  {
   "cell_type": "code",
   "execution_count": null,
   "metadata": {},
   "outputs": [],
   "source": []
  },
  {
   "cell_type": "code",
   "execution_count": null,
   "metadata": {},
   "outputs": [],
   "source": [
    "\n",
    "    "
   ]
  },
  {
   "cell_type": "code",
   "execution_count": null,
   "metadata": {},
   "outputs": [],
   "source": []
  }
 ],
 "metadata": {
  "kernelspec": {
   "display_name": "Python 3",
   "language": "python",
   "name": "python3"
  },
  "language_info": {
   "codemirror_mode": {
    "name": "ipython",
    "version": 3
   },
   "file_extension": ".py",
   "mimetype": "text/x-python",
   "name": "python",
   "nbconvert_exporter": "python",
   "pygments_lexer": "ipython3",
   "version": "3.8.3"
  }
 },
 "nbformat": 4,
 "nbformat_minor": 4
}
