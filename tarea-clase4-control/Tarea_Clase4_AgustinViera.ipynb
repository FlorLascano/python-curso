{
 "cells": [
  {
   "cell_type": "markdown",
   "metadata": {},
   "source": [
    "## Consigna\n",
    "\n",
    "Para mejorar la atencion al cliente y la experiencia de homebanking, nos encargaron agregar nuevas funcionalidades al sistema que desarrollamos anteriormente.\n",
    "\n",
    "#### Requisitos minimos\n",
    "\n",
    "(Datos de cliente a utilizar: nombre, apellido, dni, mail)\n",
    "\n",
    "1. ~~Crear una variable para guardar los datos del cliente en un diccionario. apellido del cliente.~~\n",
    "2. ~~Crear una variable con el saldo en la Caja de Ahorro del cliente.~~\n",
    "3. ~~Crear una variable con el total de los consumos de una de las tarjetas de credito del cliente.~~\n",
    "4. ~~Crear una variable con el pago de la tarjeta de credito realizado por el cliente, y una con la resta de consumos menos pago.~~\n",
    "5. ~~Crear una variable de tipo Booleana que valide si el cliente presenta saldos impagos en la tarjeta. Para ello asignar el resultado de _evaluar si el total de consumos menos el pago realizado por el cliente es mayor a cero_ , a una variable con identificador `saldo_impago_check`.~~\n",
    "6. ~~Usando una estructura condicional, validar si el cliente presenta saldos impagos y mandarle un mail informandole (usando `print()`).~~\n",
    "7. ~~Crear una lista de clientes. Para ello crear una lista, donde cada elemento es a su vez una lista, conteniendo los datos de cliente.~~\n",
    "8. ~~Usando una estructura de repeticion finita, enviar un mail a cada cliente, avisando que el sistema de homebanking esta en mantenimiento.~~\n",
    "9. ~~Armar un ChatBot de atencion al cliente simple que realice lo siguiente:~~\n",
    "    ~~- Cuando se loguea el cliente, preguntarle su nombre usando la funcion `input()` ~~<a href=\"https://entrenamiento-python-basico.readthedocs.io/es/latest/leccion5/funciones_integradas.html#input\" target=\"_blank\">Cómo se usa la funcion input()</a>.\n",
    "    ~~- Saludarlo y preguntar \"En que lo puedo ayudar?\"~~\n",
    "    ~~- Usando una estructura de repeticion infinita (tener en cuenta que necesitamos delcarar antes de entrar a esta, una variable que va a ser la respuesta del cliente que vamos a evaluar), evaluar la respuesta numerica del cliente y mostrar los siguientes mensajes:~~\n",
    "        - 1 = Reclamos: \"Enseguida lo comunico con un asesor\"\n",
    "        - 2 = Consulta de saldo: \"El saldo en su Caja de Ahorro es pesosxxxx\"\n",
    "        - 3 = Apertura de cuentas: \"Para abrir una cuenta llamar al 0800 12344567\"\n",
    "        - Opcion invalida: \"Perdon, creo que no te entiendo\"\n",
    "    ~~- Preguntar si necesita algo más, si escribe \"no\" o \"No\" o \"NO\", despedirse~~\n",
    "    \n",
    "10. ~~Usando las funciones `help()` y `dir()` mostrar al menos 2 funciones que se pueden aplicar sobre listas, 2 sobre diccionarios y 2 sobre tuplas; distintas a las que ya se vieron.~~\n",
    "        \n",
    "\n",
    "#### Requisitos extras\n",
    "1. ~~Usar comentarios en el código (no están explicados en esta libreta, debe buscar en la Clase 2 o investigar \"Comentarios en Python\" en internet).~~\n",
    "2. ~~Describir cada uno (o en grupos) los pasos de ***Requisitos minimos***, usando celdas de texto enriquecido.~~\n",
    "3. ~~Agregar una imagen de internet que sea relevante.~~\n",
    "4. ~~Mantener el orden y la prolijidad de su libreta, al igual que hacer uso de las buenas practicas de programacion presentadas en clase (convenciones de nombres para variables).~~"
   ]
  },
  {
   "cell_type": "markdown",
   "metadata": {},
   "source": [
    "## Resolución Home Banking"
   ]
  },
  {
   "cell_type": "markdown",
   "metadata": {},
   "source": [
    "<img src=https://image.freepik.com/vector-gratis/sistema-banca-electronica-pagos-linea_82574-7477.jpg>"
   ]
  },
  {
   "cell_type": "markdown",
   "metadata": {},
   "source": [
    "#### Datos del Cliente\n",
    "Creación de variable 'Diccionario' con los datos de un cliente."
   ]
  },
  {
   "cell_type": "code",
   "execution_count": 71,
   "metadata": {},
   "outputs": [
    {
     "name": "stdout",
     "output_type": "stream",
     "text": [
      "{'ID': 40000, 'Nombre': 'Agustin', 'Apellido': 'Viera', 'DNI': 39421790, 'Mail': 'agus_viera@hotmail.com'}\n"
     ]
    }
   ],
   "source": [
    "client = {\n",
    "    'ID': 40000,\n",
    "    'Nombre': 'Agustin',\n",
    "    'Apellido': 'Viera',\n",
    "    'DNI' : 39421790,\n",
    "    'Mail': 'agus_viera@hotmail.com'}\n",
    "\n",
    "print(client) \n",
    "client_full_name = client['Nombre'] +' '+ client['Apellido']"
   ]
  },
  {
   "cell_type": "markdown",
   "metadata": {},
   "source": [
    "#### Caja de Ahorro - Tarjeta de Débito\n",
    "Creación de variables 'Número Entero', operaciones matemáticas y función condicional referida a la deuda del cliente."
   ]
  },
  {
   "cell_type": "code",
   "execution_count": 72,
   "metadata": {},
   "outputs": [
    {
     "name": "stdout",
     "output_type": "stream",
     "text": [
      "25000\n",
      "True\n"
     ]
    }
   ],
   "source": [
    "consumos_total = 55000\n",
    "pagos_total = 30000\n",
    "saldo_a_pagar = consumos_total - pagos_total\n",
    "saldo_impago_check = ((saldo_a_pagar)>0)  #Para verificar si tiene deuda\n",
    "\n",
    "caja_ahorro = 45000\n",
    "\n",
    "print(saldo_a_pagar)\n",
    "print(saldo_impago_check) #Al ser 'true' significa que el saldo impago es mayor a cero, es decir tiene deuda."
   ]
  },
  {
   "cell_type": "code",
   "execution_count": 73,
   "metadata": {},
   "outputs": [
    {
     "name": "stdout",
     "output_type": "stream",
     "text": [
      "Agustin Viera, presenta un saldo impago por $ 25000\n"
     ]
    }
   ],
   "source": [
    "if saldo_impago_check:\n",
    "    print(client_full_name + ', ' + \"presenta un saldo impago por $\", saldo_a_pagar) #Usamos + para unir strings\n",
    "else:                                                                                #y usamos , para unir string con enteros\n",
    "    print(client_full_name +', '+\"no presenta saldos impagos.\")"
   ]
  },
  {
   "cell_type": "markdown",
   "metadata": {},
   "source": [
    "<img src = https://image.freepik.com/vector-gratis/pagos-cajeros-automaticos-personas-cartel-horizontal-ilustracion-horizontal-multicolor-sobre-tema-retiro-pagos-cajeros-automaticos-otras-transacciones-finanzas-negocios-personas-pequenas-alrededor-objetos-simbolos-bancarios_139630-179.jpg>"
   ]
  },
  {
   "cell_type": "markdown",
   "metadata": {},
   "source": [
    "#### Otros Clientes\n",
    "Creación de variable 'Lista' para definir datos de diferentes clientes (listas dentro de una lista madre) y uso de la función 'for: repetición finita' para mandar un mail a cada cliente definido."
   ]
  },
  {
   "cell_type": "code",
   "execution_count": 74,
   "metadata": {},
   "outputs": [
    {
     "data": {
      "text/plain": [
       "[['Corina', 'Anania', 'cori_anania@hotmail.com'],\n",
       " ['Julieta', 'Milano', 'juli_milano@hotmail.com'],\n",
       " ['Paula', 'Scarafia', 'pau_scarafia@hotmail.com']]"
      ]
     },
     "execution_count": 74,
     "metadata": {},
     "output_type": "execute_result"
    }
   ],
   "source": [
    "clients = [\n",
    "    ['Corina', 'Anania','cori_anania@hotmail.com'],\n",
    "    ['Julieta', 'Milano', 'juli_milano@hotmail.com'],\n",
    "    ['Paula', 'Scarafia', 'pau_scarafia@hotmail.com']\n",
    "] #Lista con otras listas dentro que contienen datos de diferentes clientes.\n",
    "\n",
    "clients  #Al no usar print() el output mantiene el formato de la definición de la variable."
   ]
  },
  {
   "cell_type": "code",
   "execution_count": 75,
   "metadata": {},
   "outputs": [
    {
     "name": "stdout",
     "output_type": "stream",
     "text": [
      "Mandar mail a: cori_anania@hotmail.com\n",
      "Corina Anania, \n",
      "Le informamos que momentáneamente nuestro sistema de Home Banking se encuentra en mantenimiento.\n",
      "Disculpe las molestias!\n",
      "----------------------------------------\n",
      "Mandar mail a: juli_milano@hotmail.com\n",
      "Julieta Milano, \n",
      "Le informamos que momentáneamente nuestro sistema de Home Banking se encuentra en mantenimiento.\n",
      "Disculpe las molestias!\n",
      "----------------------------------------\n",
      "Mandar mail a: pau_scarafia@hotmail.com\n",
      "Paula Scarafia, \n",
      "Le informamos que momentáneamente nuestro sistema de Home Banking se encuentra en mantenimiento.\n",
      "Disculpe las molestias!\n",
      "----------------------------------------\n"
     ]
    }
   ],
   "source": [
    "for cliente in clients:\n",
    "    print('Mandar mail a: ' + cliente[2])\n",
    "    print(cliente[0] +' '+ cliente[1] + ', ')\n",
    "    print(\"Le informamos que momentáneamente nuestro sistema de Home Banking se encuentra en mantenimiento.\")\n",
    "    print('Disculpe las molestias!')\n",
    "    print('-'*40)\n",
    "    \n",
    "#El contador 'cliente' trata a cada elementos de la lista ppal x separado para ubicar sus elementos internos"
   ]
  },
  {
   "cell_type": "markdown",
   "metadata": {},
   "source": [
    "#### ChatBot\n",
    "Uso de la función 'Input' y 'While: Repetición Infinita' para crear un chatbot como servicio para los clientes."
   ]
  },
  {
   "cell_type": "code",
   "execution_count": 76,
   "metadata": {},
   "outputs": [
    {
     "name": "stdout",
     "output_type": "stream",
     "text": [
      "Por favor, ingresá tu NOMBRE: Agustin\n",
      "\n",
      "Hola  Agustin !\n",
      "========================================\n",
      "Acciones Disponibles:\n",
      "----------------------------------------\n",
      "1: Reclamos\n",
      "2: Consulta de Saldo\n",
      "3: Apertura de Cuenta\n",
      "x: Salir\n",
      "\n",
      "En que puedo ayudarte? x\n",
      "----------------------------------------\n",
      "Hasta pronto  Agustin !\n"
     ]
    }
   ],
   "source": [
    "name = input('Por favor, ingresá tu NOMBRE: ') #Aca va a ser donde el cliente ingresa su nombre\n",
    "answer = 'si'                                  #Y el nombre ingresado queda definido como la variable 'name'.\n",
    "print()\n",
    "print('Hola ', name, '!')\n",
    "\n",
    "while answer.lower() != 'x':  #Mientras no se ingrese el elemento 'x' aquí definido, se va a seguir ejecutando lo siguiente:\n",
    "    print('='*40)\n",
    "    print('Acciones Disponibles:')\n",
    "    print('-'*40)\n",
    "    print('1: Reclamos')\n",
    "    print('2: Consulta de Saldo')\n",
    "    print('3: Apertura de Cuenta')\n",
    "    print('x: Salir')\n",
    "    \n",
    "    print()\n",
    "    answer = input('En que puedo ayudarte? ')  #Aca nuevamente el cliente ingresa valores\n",
    "    if answer == '1':                          #Con las funciones condicionales vamos definiéndole el camino al cliente\n",
    "        print('-'*40)                                                           #a cerca de los valores ingresados.\n",
    "        print('Enseguida te comunicaré con un Asesor.')\n",
    "    elif answer == '2':\n",
    "        print('-'*40)\n",
    "        print('El Saldo en tu Caja de Ahorro es $', caja_ahorro) \n",
    "    elif answer == '3':\n",
    "        print('-'*40)\n",
    "        print('Para abrir una Cuenta, llamar al +0800 44488505')\n",
    "    elif answer.lower() == 'x':  #Usamos el elemento que corta la función 'while' como último condicional.\n",
    "        print('-'*40)\n",
    "        print('Hasta pronto ', name, '!')\n",
    "    else: \n",
    "        print('-'*40)\n",
    "        print('Perdón, no te entiendo!')\n"
   ]
  },
  {
   "cell_type": "markdown",
   "metadata": {},
   "source": [
    "<img src = http://blog.desafiolatam.com/wp-content/uploads/2018/10/chatbot-y-humano.png>"
   ]
  },
  {
   "cell_type": "markdown",
   "metadata": {},
   "source": [
    "#### Help & Dir\n",
    "Uso de las funciones 'help' y 'dir' para obtener ayuda y funciones posibles a ejecutar en cada una de las estructuras de datos creadas."
   ]
  },
  {
   "cell_type": "markdown",
   "metadata": {},
   "source": [
    "- Listas"
   ]
  },
  {
   "cell_type": "code",
   "execution_count": 78,
   "metadata": {},
   "outputs": [
    {
     "name": "stdout",
     "output_type": "stream",
     "text": [
      "['__add__', '__class__', '__contains__', '__delattr__', '__delitem__', '__dir__', '__doc__', '__eq__', '__format__', '__ge__', '__getattribute__', '__getitem__', '__gt__', '__hash__', '__iadd__', '__imul__', '__init__', '__init_subclass__', '__iter__', '__le__', '__len__', '__lt__', '__mul__', '__ne__', '__new__', '__reduce__', '__reduce_ex__', '__repr__', '__reversed__', '__rmul__', '__setattr__', '__setitem__', '__sizeof__', '__str__', '__subclasshook__', 'append', 'clear', 'copy', 'count', 'extend', 'index', 'insert', 'pop', 'remove', 'reverse', 'sort']\n"
     ]
    }
   ],
   "source": [
    "print(dir(clients))"
   ]
  },
  {
   "cell_type": "code",
   "execution_count": 79,
   "metadata": {},
   "outputs": [
    {
     "name": "stdout",
     "output_type": "stream",
     "text": [
      "Help on class list in module builtins:\n",
      "\n",
      "class list(object)\n",
      " |  list(iterable=(), /)\n",
      " |  \n",
      " |  Built-in mutable sequence.\n",
      " |  \n",
      " |  If no argument is given, the constructor creates a new empty list.\n",
      " |  The argument must be an iterable if specified.\n",
      " |  \n",
      " |  Methods defined here:\n",
      " |  \n",
      " |  __add__(self, value, /)\n",
      " |      Return self+value.\n",
      " |  \n",
      " |  __contains__(self, key, /)\n",
      " |      Return key in self.\n",
      " |  \n",
      " |  __delitem__(self, key, /)\n",
      " |      Delete self[key].\n",
      " |  \n",
      " |  __eq__(self, value, /)\n",
      " |      Return self==value.\n",
      " |  \n",
      " |  __ge__(self, value, /)\n",
      " |      Return self>=value.\n",
      " |  \n",
      " |  __getattribute__(self, name, /)\n",
      " |      Return getattr(self, name).\n",
      " |  \n",
      " |  __getitem__(...)\n",
      " |      x.__getitem__(y) <==> x[y]\n",
      " |  \n",
      " |  __gt__(self, value, /)\n",
      " |      Return self>value.\n",
      " |  \n",
      " |  __iadd__(self, value, /)\n",
      " |      Implement self+=value.\n",
      " |  \n",
      " |  __imul__(self, value, /)\n",
      " |      Implement self*=value.\n",
      " |  \n",
      " |  __init__(self, /, *args, **kwargs)\n",
      " |      Initialize self.  See help(type(self)) for accurate signature.\n",
      " |  \n",
      " |  __iter__(self, /)\n",
      " |      Implement iter(self).\n",
      " |  \n",
      " |  __le__(self, value, /)\n",
      " |      Return self<=value.\n",
      " |  \n",
      " |  __len__(self, /)\n",
      " |      Return len(self).\n",
      " |  \n",
      " |  __lt__(self, value, /)\n",
      " |      Return self<value.\n",
      " |  \n",
      " |  __mul__(self, value, /)\n",
      " |      Return self*value.\n",
      " |  \n",
      " |  __ne__(self, value, /)\n",
      " |      Return self!=value.\n",
      " |  \n",
      " |  __repr__(self, /)\n",
      " |      Return repr(self).\n",
      " |  \n",
      " |  __reversed__(self, /)\n",
      " |      Return a reverse iterator over the list.\n",
      " |  \n",
      " |  __rmul__(self, value, /)\n",
      " |      Return value*self.\n",
      " |  \n",
      " |  __setitem__(self, key, value, /)\n",
      " |      Set self[key] to value.\n",
      " |  \n",
      " |  __sizeof__(self, /)\n",
      " |      Return the size of the list in memory, in bytes.\n",
      " |  \n",
      " |  append(self, object, /)\n",
      " |      Append object to the end of the list.\n",
      " |  \n",
      " |  clear(self, /)\n",
      " |      Remove all items from list.\n",
      " |  \n",
      " |  copy(self, /)\n",
      " |      Return a shallow copy of the list.\n",
      " |  \n",
      " |  count(self, value, /)\n",
      " |      Return number of occurrences of value.\n",
      " |  \n",
      " |  extend(self, iterable, /)\n",
      " |      Extend list by appending elements from the iterable.\n",
      " |  \n",
      " |  index(self, value, start=0, stop=9223372036854775807, /)\n",
      " |      Return first index of value.\n",
      " |      \n",
      " |      Raises ValueError if the value is not present.\n",
      " |  \n",
      " |  insert(self, index, object, /)\n",
      " |      Insert object before index.\n",
      " |  \n",
      " |  pop(self, index=-1, /)\n",
      " |      Remove and return item at index (default last).\n",
      " |      \n",
      " |      Raises IndexError if list is empty or index is out of range.\n",
      " |  \n",
      " |  remove(self, value, /)\n",
      " |      Remove first occurrence of value.\n",
      " |      \n",
      " |      Raises ValueError if the value is not present.\n",
      " |  \n",
      " |  reverse(self, /)\n",
      " |      Reverse *IN PLACE*.\n",
      " |  \n",
      " |  sort(self, /, *, key=None, reverse=False)\n",
      " |      Sort the list in ascending order and return None.\n",
      " |      \n",
      " |      The sort is in-place (i.e. the list itself is modified) and stable (i.e. the\n",
      " |      order of two equal elements is maintained).\n",
      " |      \n",
      " |      If a key function is given, apply it once to each list item and sort them,\n",
      " |      ascending or descending, according to their function values.\n",
      " |      \n",
      " |      The reverse flag can be set to sort in descending order.\n",
      " |  \n",
      " |  ----------------------------------------------------------------------\n",
      " |  Static methods defined here:\n",
      " |  \n",
      " |  __new__(*args, **kwargs) from builtins.type\n",
      " |      Create and return a new object.  See help(type) for accurate signature.\n",
      " |  \n",
      " |  ----------------------------------------------------------------------\n",
      " |  Data and other attributes defined here:\n",
      " |  \n",
      " |  __hash__ = None\n",
      "\n"
     ]
    }
   ],
   "source": [
    "help(list)"
   ]
  },
  {
   "cell_type": "code",
   "execution_count": 82,
   "metadata": {},
   "outputs": [],
   "source": [
    "clients.append(['Matias', 'Fernandez', 'mati_fernandez@hotmail.com']) \n",
    "#Cada vez que se ejecuta esta celda, se agrega el elemento a la lista."
   ]
  },
  {
   "cell_type": "code",
   "execution_count": 83,
   "metadata": {},
   "outputs": [
    {
     "name": "stdout",
     "output_type": "stream",
     "text": [
      "[['Corina', 'Anania', 'cori_anania@hotmail.com'], ['Julieta', 'Milano', 'juli_milano@hotmail.com'], ['Paula', 'Scarafia', 'pau_scarafia@hotmail.com'], ['Matias', 'Fernandez', 'mati_fernandez@hotmail.com'], ['Matias', 'Fernandez', 'mati_fernandez@hotmail.com']]\n"
     ]
    }
   ],
   "source": [
    "print(clients)"
   ]
  },
  {
   "cell_type": "code",
   "execution_count": 84,
   "metadata": {},
   "outputs": [],
   "source": [
    "clients.remove(['Matias', 'Fernandez', 'mati_fernandez@hotmail.com'])\n",
    "#Cada vez que se ejecuta esta celda, se remueve el elemento de la lista hasta que no esté mas."
   ]
  },
  {
   "cell_type": "code",
   "execution_count": 85,
   "metadata": {},
   "outputs": [
    {
     "name": "stdout",
     "output_type": "stream",
     "text": [
      "[['Corina', 'Anania', 'cori_anania@hotmail.com'], ['Julieta', 'Milano', 'juli_milano@hotmail.com'], ['Paula', 'Scarafia', 'pau_scarafia@hotmail.com'], ['Matias', 'Fernandez', 'mati_fernandez@hotmail.com']]\n"
     ]
    }
   ],
   "source": [
    "print(clients)"
   ]
  },
  {
   "cell_type": "code",
   "execution_count": 86,
   "metadata": {},
   "outputs": [],
   "source": [
    "clients.sort() #Acomoda los elementos de la lista (en este caso en orden alfabetico x el primer elemento de la lista interna)"
   ]
  },
  {
   "cell_type": "code",
   "execution_count": 87,
   "metadata": {},
   "outputs": [
    {
     "name": "stdout",
     "output_type": "stream",
     "text": [
      "[['Corina', 'Anania', 'cori_anania@hotmail.com'], ['Julieta', 'Milano', 'juli_milano@hotmail.com'], ['Matias', 'Fernandez', 'mati_fernandez@hotmail.com'], ['Paula', 'Scarafia', 'pau_scarafia@hotmail.com']]\n"
     ]
    }
   ],
   "source": [
    "print(clients)"
   ]
  },
  {
   "cell_type": "markdown",
   "metadata": {},
   "source": [
    "- Diccionarios"
   ]
  },
  {
   "cell_type": "code",
   "execution_count": 88,
   "metadata": {},
   "outputs": [
    {
     "name": "stdout",
     "output_type": "stream",
     "text": [
      "['__class__', '__contains__', '__delattr__', '__delitem__', '__dir__', '__doc__', '__eq__', '__format__', '__ge__', '__getattribute__', '__getitem__', '__gt__', '__hash__', '__init__', '__init_subclass__', '__iter__', '__le__', '__len__', '__lt__', '__ne__', '__new__', '__reduce__', '__reduce_ex__', '__repr__', '__reversed__', '__setattr__', '__setitem__', '__sizeof__', '__str__', '__subclasshook__', 'clear', 'copy', 'fromkeys', 'get', 'items', 'keys', 'pop', 'popitem', 'setdefault', 'update', 'values']\n"
     ]
    }
   ],
   "source": [
    "print(dir(client))"
   ]
  },
  {
   "cell_type": "code",
   "execution_count": 89,
   "metadata": {},
   "outputs": [
    {
     "name": "stdout",
     "output_type": "stream",
     "text": [
      "Help on class dict in module builtins:\n",
      "\n",
      "class dict(object)\n",
      " |  dict() -> new empty dictionary\n",
      " |  dict(mapping) -> new dictionary initialized from a mapping object's\n",
      " |      (key, value) pairs\n",
      " |  dict(iterable) -> new dictionary initialized as if via:\n",
      " |      d = {}\n",
      " |      for k, v in iterable:\n",
      " |          d[k] = v\n",
      " |  dict(**kwargs) -> new dictionary initialized with the name=value pairs\n",
      " |      in the keyword argument list.  For example:  dict(one=1, two=2)\n",
      " |  \n",
      " |  Built-in subclasses:\n",
      " |      StgDict\n",
      " |  \n",
      " |  Methods defined here:\n",
      " |  \n",
      " |  __contains__(self, key, /)\n",
      " |      True if the dictionary has the specified key, else False.\n",
      " |  \n",
      " |  __delitem__(self, key, /)\n",
      " |      Delete self[key].\n",
      " |  \n",
      " |  __eq__(self, value, /)\n",
      " |      Return self==value.\n",
      " |  \n",
      " |  __ge__(self, value, /)\n",
      " |      Return self>=value.\n",
      " |  \n",
      " |  __getattribute__(self, name, /)\n",
      " |      Return getattr(self, name).\n",
      " |  \n",
      " |  __getitem__(...)\n",
      " |      x.__getitem__(y) <==> x[y]\n",
      " |  \n",
      " |  __gt__(self, value, /)\n",
      " |      Return self>value.\n",
      " |  \n",
      " |  __init__(self, /, *args, **kwargs)\n",
      " |      Initialize self.  See help(type(self)) for accurate signature.\n",
      " |  \n",
      " |  __iter__(self, /)\n",
      " |      Implement iter(self).\n",
      " |  \n",
      " |  __le__(self, value, /)\n",
      " |      Return self<=value.\n",
      " |  \n",
      " |  __len__(self, /)\n",
      " |      Return len(self).\n",
      " |  \n",
      " |  __lt__(self, value, /)\n",
      " |      Return self<value.\n",
      " |  \n",
      " |  __ne__(self, value, /)\n",
      " |      Return self!=value.\n",
      " |  \n",
      " |  __repr__(self, /)\n",
      " |      Return repr(self).\n",
      " |  \n",
      " |  __reversed__(self, /)\n",
      " |      Return a reverse iterator over the dict keys.\n",
      " |  \n",
      " |  __setitem__(self, key, value, /)\n",
      " |      Set self[key] to value.\n",
      " |  \n",
      " |  __sizeof__(...)\n",
      " |      D.__sizeof__() -> size of D in memory, in bytes\n",
      " |  \n",
      " |  clear(...)\n",
      " |      D.clear() -> None.  Remove all items from D.\n",
      " |  \n",
      " |  copy(...)\n",
      " |      D.copy() -> a shallow copy of D\n",
      " |  \n",
      " |  get(self, key, default=None, /)\n",
      " |      Return the value for key if key is in the dictionary, else default.\n",
      " |  \n",
      " |  items(...)\n",
      " |      D.items() -> a set-like object providing a view on D's items\n",
      " |  \n",
      " |  keys(...)\n",
      " |      D.keys() -> a set-like object providing a view on D's keys\n",
      " |  \n",
      " |  pop(...)\n",
      " |      D.pop(k[,d]) -> v, remove specified key and return the corresponding value.\n",
      " |      If key is not found, d is returned if given, otherwise KeyError is raised\n",
      " |  \n",
      " |  popitem(self, /)\n",
      " |      Remove and return a (key, value) pair as a 2-tuple.\n",
      " |      \n",
      " |      Pairs are returned in LIFO (last-in, first-out) order.\n",
      " |      Raises KeyError if the dict is empty.\n",
      " |  \n",
      " |  setdefault(self, key, default=None, /)\n",
      " |      Insert key with a value of default if key is not in the dictionary.\n",
      " |      \n",
      " |      Return the value for key if key is in the dictionary, else default.\n",
      " |  \n",
      " |  update(...)\n",
      " |      D.update([E, ]**F) -> None.  Update D from dict/iterable E and F.\n",
      " |      If E is present and has a .keys() method, then does:  for k in E: D[k] = E[k]\n",
      " |      If E is present and lacks a .keys() method, then does:  for k, v in E: D[k] = v\n",
      " |      In either case, this is followed by: for k in F:  D[k] = F[k]\n",
      " |  \n",
      " |  values(...)\n",
      " |      D.values() -> an object providing a view on D's values\n",
      " |  \n",
      " |  ----------------------------------------------------------------------\n",
      " |  Class methods defined here:\n",
      " |  \n",
      " |  fromkeys(iterable, value=None, /) from builtins.type\n",
      " |      Create a new dictionary with keys from iterable and values set to value.\n",
      " |  \n",
      " |  ----------------------------------------------------------------------\n",
      " |  Static methods defined here:\n",
      " |  \n",
      " |  __new__(*args, **kwargs) from builtins.type\n",
      " |      Create and return a new object.  See help(type) for accurate signature.\n",
      " |  \n",
      " |  ----------------------------------------------------------------------\n",
      " |  Data and other attributes defined here:\n",
      " |  \n",
      " |  __hash__ = None\n",
      "\n"
     ]
    }
   ],
   "source": [
    "help(dict)"
   ]
  },
  {
   "cell_type": "code",
   "execution_count": 92,
   "metadata": {},
   "outputs": [
    {
     "data": {
      "text/plain": [
       "dict_items([('ID', 40000), ('Nombre', 'Agustin'), ('Apellido', 'Viera'), ('DNI', 39421790), ('Mail', 'agus_viera@hotmail.com')])"
      ]
     },
     "execution_count": 92,
     "metadata": {},
     "output_type": "execute_result"
    }
   ],
   "source": [
    "client.items()"
   ]
  },
  {
   "cell_type": "code",
   "execution_count": 93,
   "metadata": {},
   "outputs": [
    {
     "data": {
      "text/plain": [
       "dict_keys(['ID', 'Nombre', 'Apellido', 'DNI', 'Mail'])"
      ]
     },
     "execution_count": 93,
     "metadata": {},
     "output_type": "execute_result"
    }
   ],
   "source": [
    "client.keys()"
   ]
  },
  {
   "cell_type": "code",
   "execution_count": 94,
   "metadata": {},
   "outputs": [
    {
     "data": {
      "text/plain": [
       "dict_values([40000, 'Agustin', 'Viera', 39421790, 'agus_viera@hotmail.com'])"
      ]
     },
     "execution_count": 94,
     "metadata": {},
     "output_type": "execute_result"
    }
   ],
   "source": [
    "client.values()"
   ]
  },
  {
   "cell_type": "code",
   "execution_count": 95,
   "metadata": {},
   "outputs": [
    {
     "data": {
      "text/plain": [
       "24"
      ]
     },
     "execution_count": 95,
     "metadata": {},
     "output_type": "execute_result"
    }
   ],
   "source": [
    "client.setdefault('Edad', 24) #Devuelve 24 porque en la lista original, la clave edad no existe. (Lo añade al dicc)"
   ]
  },
  {
   "cell_type": "code",
   "execution_count": 96,
   "metadata": {},
   "outputs": [
    {
     "data": {
      "text/plain": [
       "'agus_viera@hotmail.com'"
      ]
     },
     "execution_count": 96,
     "metadata": {},
     "output_type": "execute_result"
    }
   ],
   "source": [
    "client.setdefault('Mail', 'agusviera44@gmail.com') #Devuelve eso porque en la lista original ya existe esa clave."
   ]
  },
  {
   "cell_type": "code",
   "execution_count": 97,
   "metadata": {},
   "outputs": [
    {
     "data": {
      "text/plain": [
       "'Agustin'"
      ]
     },
     "execution_count": 97,
     "metadata": {},
     "output_type": "execute_result"
    }
   ],
   "source": [
    "client.get('Nombre')"
   ]
  },
  {
   "cell_type": "code",
   "execution_count": 98,
   "metadata": {},
   "outputs": [
    {
     "data": {
      "text/plain": [
       "'Argentina'"
      ]
     },
     "execution_count": 98,
     "metadata": {},
     "output_type": "execute_result"
    }
   ],
   "source": [
    "client.get('Pais de Origen', 'Argentina') #No lo agrega al dicc."
   ]
  },
  {
   "cell_type": "code",
   "execution_count": 99,
   "metadata": {},
   "outputs": [
    {
     "name": "stdout",
     "output_type": "stream",
     "text": [
      "{'ID': 40000, 'Nombre': 'Agustin', 'Apellido': 'Viera', 'DNI': 39421790, 'Mail': 'agus_viera@hotmail.com', 'Edad': 24}\n"
     ]
    }
   ],
   "source": [
    "print(client)"
   ]
  },
  {
   "cell_type": "markdown",
   "metadata": {},
   "source": [
    "- Tuplas"
   ]
  },
  {
   "cell_type": "code",
   "execution_count": 100,
   "metadata": {},
   "outputs": [
    {
     "name": "stdout",
     "output_type": "stream",
     "text": [
      "['__add__', '__class__', '__contains__', '__delattr__', '__dir__', '__doc__', '__eq__', '__format__', '__ge__', '__getattribute__', '__getitem__', '__getnewargs__', '__gt__', '__hash__', '__init__', '__init_subclass__', '__iter__', '__le__', '__len__', '__lt__', '__mul__', '__ne__', '__new__', '__reduce__', '__reduce_ex__', '__repr__', '__rmul__', '__setattr__', '__sizeof__', '__str__', '__subclasshook__', 'count', 'index']\n"
     ]
    }
   ],
   "source": [
    "print(dir(tuple))"
   ]
  },
  {
   "cell_type": "code",
   "execution_count": 101,
   "metadata": {},
   "outputs": [
    {
     "name": "stdout",
     "output_type": "stream",
     "text": [
      "Help on class tuple in module builtins:\n",
      "\n",
      "class tuple(object)\n",
      " |  tuple(iterable=(), /)\n",
      " |  \n",
      " |  Built-in immutable sequence.\n",
      " |  \n",
      " |  If no argument is given, the constructor returns an empty tuple.\n",
      " |  If iterable is specified the tuple is initialized from iterable's items.\n",
      " |  \n",
      " |  If the argument is a tuple, the return value is the same object.\n",
      " |  \n",
      " |  Built-in subclasses:\n",
      " |      asyncgen_hooks\n",
      " |      UnraisableHookArgs\n",
      " |  \n",
      " |  Methods defined here:\n",
      " |  \n",
      " |  __add__(self, value, /)\n",
      " |      Return self+value.\n",
      " |  \n",
      " |  __contains__(self, key, /)\n",
      " |      Return key in self.\n",
      " |  \n",
      " |  __eq__(self, value, /)\n",
      " |      Return self==value.\n",
      " |  \n",
      " |  __ge__(self, value, /)\n",
      " |      Return self>=value.\n",
      " |  \n",
      " |  __getattribute__(self, name, /)\n",
      " |      Return getattr(self, name).\n",
      " |  \n",
      " |  __getitem__(self, key, /)\n",
      " |      Return self[key].\n",
      " |  \n",
      " |  __getnewargs__(self, /)\n",
      " |  \n",
      " |  __gt__(self, value, /)\n",
      " |      Return self>value.\n",
      " |  \n",
      " |  __hash__(self, /)\n",
      " |      Return hash(self).\n",
      " |  \n",
      " |  __iter__(self, /)\n",
      " |      Implement iter(self).\n",
      " |  \n",
      " |  __le__(self, value, /)\n",
      " |      Return self<=value.\n",
      " |  \n",
      " |  __len__(self, /)\n",
      " |      Return len(self).\n",
      " |  \n",
      " |  __lt__(self, value, /)\n",
      " |      Return self<value.\n",
      " |  \n",
      " |  __mul__(self, value, /)\n",
      " |      Return self*value.\n",
      " |  \n",
      " |  __ne__(self, value, /)\n",
      " |      Return self!=value.\n",
      " |  \n",
      " |  __repr__(self, /)\n",
      " |      Return repr(self).\n",
      " |  \n",
      " |  __rmul__(self, value, /)\n",
      " |      Return value*self.\n",
      " |  \n",
      " |  count(self, value, /)\n",
      " |      Return number of occurrences of value.\n",
      " |  \n",
      " |  index(self, value, start=0, stop=9223372036854775807, /)\n",
      " |      Return first index of value.\n",
      " |      \n",
      " |      Raises ValueError if the value is not present.\n",
      " |  \n",
      " |  ----------------------------------------------------------------------\n",
      " |  Static methods defined here:\n",
      " |  \n",
      " |  __new__(*args, **kwargs) from builtins.type\n",
      " |      Create and return a new object.  See help(type) for accurate signature.\n",
      "\n"
     ]
    }
   ],
   "source": [
    "help(tuple)"
   ]
  },
  {
   "cell_type": "code",
   "execution_count": 102,
   "metadata": {},
   "outputs": [
    {
     "name": "stdout",
     "output_type": "stream",
     "text": [
      "Nombre del Cliente: José\n",
      "Apellido del Cliente: Martinez\n",
      "Nombre completo del Cliente: Martinez José\n",
      "DNI del Cliente: 30567914\n",
      "Datos del Cliente: ('Martinez', 'José', 30567914)\n"
     ]
    }
   ],
   "source": [
    "#Ejemplo de Tupla de la Tarea_3.\n",
    "\n",
    "client_first_name = 'José'\n",
    "client_last_name = 'Martinez'\n",
    "\n",
    "client_full_name = (client_last_name + ' ' + client_first_name) \n",
    "\n",
    "client_DNI = 30567914 \n",
    "\n",
    "client_tuple = (client_last_name, client_first_name, client_DNI)  #Tupla para el perfil inmutable del cliente\n",
    "\n",
    "print('Nombre del Cliente: ' + client_first_name)\n",
    "print('Apellido del Cliente: ' + client_last_name)\n",
    "print('Nombre completo del Cliente: ' + client_full_name)\n",
    "print('DNI del Cliente: ' + str(client_DNI))\n",
    "print('Datos del Cliente: ' + str(client_tuple))"
   ]
  },
  {
   "cell_type": "code",
   "execution_count": 103,
   "metadata": {},
   "outputs": [
    {
     "data": {
      "text/plain": [
       "1"
      ]
     },
     "execution_count": 103,
     "metadata": {},
     "output_type": "execute_result"
    }
   ],
   "source": [
    "client_tuple.count('José') #Cantidad de veces que el elemento se encuentra en la tupla"
   ]
  },
  {
   "cell_type": "code",
   "execution_count": 104,
   "metadata": {},
   "outputs": [
    {
     "data": {
      "text/plain": [
       "2"
      ]
     },
     "execution_count": 104,
     "metadata": {},
     "output_type": "execute_result"
    }
   ],
   "source": [
    "client_tuple.index(30567914) #Ubicación del elemento en la tupla"
   ]
  },
  {
   "cell_type": "markdown",
   "metadata": {},
   "source": [
    "<img src=https://thumbor.forbes.com/thumbor/fit-in/900x510/https://www.forbes.com/advisor/wp-content/uploads/2019/04/onlinebanking-e1555504251511.jpg>"
   ]
  }
 ],
 "metadata": {
  "kernelspec": {
   "display_name": "Python 3",
   "language": "python",
   "name": "python3"
  },
  "language_info": {
   "codemirror_mode": {
    "name": "ipython",
    "version": 3
   },
   "file_extension": ".py",
   "mimetype": "text/x-python",
   "name": "python",
   "nbconvert_exporter": "python",
   "pygments_lexer": "ipython3",
   "version": "3.8.3"
  }
 },
 "nbformat": 4,
 "nbformat_minor": 4
}
