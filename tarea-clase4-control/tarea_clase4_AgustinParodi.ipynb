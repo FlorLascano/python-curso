{
 "cells": [
  {
   "cell_type": "markdown",
   "metadata": {},
   "source": [
    "# Home Banking - Clientes\n",
    "### Parodi, Horacio Agustín\n",
    "<img src=\"https://lujan365.com.ar/download/multimedia.normal.92bb66a29a0607f1.34386663613434666530623861643863623139333465636631383536376330375f6e6f726d616c2e706e67.png\" width=\"500\" height=\"800\">"
   ]
  },
  {
   "cell_type": "code",
   "execution_count": 2,
   "metadata": {},
   "outputs": [],
   "source": [
    "client = {\n",
    "    'nombre' : 'Agustin', \n",
    "    'apellido' : 'Parodi',\n",
    "    'tipo de doc' : 'DNI',\n",
    "    'número de doc' : '34455935',\n",
    "    'mail' : 'haparodi833@gmail.com'\n",
    "}"
   ]
  },
  {
   "cell_type": "code",
   "execution_count": 3,
   "metadata": {},
   "outputs": [],
   "source": [
    "#guardo los datos del dicc en variables para dsp consutarlos\n",
    "client_name = client.get('nombre')\n",
    "client_lastname = client.get('apellido')\n",
    "client_typedoc = client.get('tipo de doc')\n",
    "client_numberdoc = client.get('número de doc')\n",
    "client_mail = client.get('mail')"
   ]
  },
  {
   "cell_type": "code",
   "execution_count": 4,
   "metadata": {},
   "outputs": [],
   "source": [
    "# Saldo inicial en CA / Consumo en TC / pago de TC / Saldo impago en TC\n",
    "account_balance_initial = 1000\n",
    "creditcard_balance = 150\n",
    "creditcard_payment = 1\n",
    "creditcard_unpaid = creditcard_balance - creditcard_payment\n",
    "creditcard_balance_check = ((creditcard_balance - creditcard_payment) == 0)\n",
    "creditcard_payment_check = (creditcard_payment == 0)"
   ]
  },
  {
   "cell_type": "code",
   "execution_count": 5,
   "metadata": {},
   "outputs": [
    {
     "name": "stdout",
     "output_type": "stream",
     "text": [
      "Agustin ténes un saldo impago de $ \u001b[1m149\n"
     ]
    }
   ],
   "source": [
    "# condicional de si es =0, mayor o menor, ya que puede tener saldo a favor en la tarjeta. \n",
    "if creditcard_payment_check:\n",
    "    print( client_name + '\\033[1m' + \" NO \" + '\\033[0m' + \"registramos el pago de tu tarjeta de crédito\") # comando para darle formato negrita en python y dsp lo saco\n",
    "elif creditcard_balance_check:\n",
    "    print( client_name + \" no tenés saldo impagos en tu tarjeta de crédito\")\n",
    "elif creditcard_unpaid > 0:\n",
    "    print( client_name + \" ténes un saldo impago de $ \" + '\\033[1m' + str(creditcard_unpaid)) #tmb pongo formato para negrita solo el saldo impago\n",
    "else:\n",
    "    print(\"tiene saldo a favor\")"
   ]
  },
  {
   "cell_type": "code",
   "execution_count": 6,
   "metadata": {},
   "outputs": [],
   "source": [
    "clients = [\n",
    "    [\"Horacio\", \"Parodi\", \"haparodi833@gmail.com\"],\n",
    "    [\"Natalia\", \"Gutierrez\", \"naty_guty@hotmail.com\"],\n",
    "    [\"Ratón\", \"Perez\", \"sarasa1@gmail.com\"],\n",
    "    [\"Ignacio\", \"Lopez\", \"sarasa1@gmail.com\"]\n",
    "]"
   ]
  },
  {
   "cell_type": "code",
   "execution_count": 7,
   "metadata": {},
   "outputs": [
    {
     "name": "stdout",
     "output_type": "stream",
     "text": [
      "\u001b[0;34mEnviar a: \u001b[1;30mhaparodi833@gmail.com\n",
      "\u001b[0;31m  Estimado Horacio , le informamos que nuestro sistema de Home Banking esta en mantenimiento\n",
      "\u001b[0;34mEnviar a: \u001b[1;30mnaty_guty@hotmail.com\n",
      "\u001b[0;31m  Estimado Natalia , le informamos que nuestro sistema de Home Banking esta en mantenimiento\n",
      "\u001b[0;34mEnviar a: \u001b[1;30msarasa1@gmail.com\n",
      "\u001b[0;31m  Estimado Ratón , le informamos que nuestro sistema de Home Banking esta en mantenimiento\n",
      "\u001b[0;34mEnviar a: \u001b[1;30msarasa1@gmail.com\n",
      "\u001b[0;31m  Estimado Ignacio , le informamos que nuestro sistema de Home Banking esta en mantenimiento\n"
     ]
    }
   ],
   "source": [
    "#defino sys, para despues poder darle color y bold en el for. \n",
    "import sys\n",
    "for client in clients:\n",
    "    sys.stdout.write(\"\\033[0;34m\") #aca da color celeste, thin\n",
    "    print ('Enviar a: ' + '\\033[1;30m' + client[2]) #da el color celeste hasta que defino color negro bold\n",
    "    sys.stdout.write(\"\\033[0;31m\") #defino que a partir de acá es color rojo\n",
    "    print(\"  Estimado\", client[0], \", le informamos que nuestro sistema de Home Banking esta en mantenimiento\") "
   ]
  },
  {
   "cell_type": "code",
   "execution_count": null,
   "metadata": {},
   "outputs": [],
   "source": [
    "document2 = input(\"Buen día!! Para empezar, necesito que ingreses tu número de documento: \")  # tiene que ingresar el DNI para  el log in\n",
    "\n",
    "if document2 == client_numberdoc:\n",
    "    print(\"hola \" + '\\033[1m' + client_name + '\\033[0m' + \" por favor seleccioná la opción que deseas: \") # si esta en la base, le da las opciones\n",
    "else:\n",
    "    print (\"No tenemos registrado tu DNI, Usar el único dni en la base: 34455935 \")   # si no esta en la base le da el mensaje y mando de nuevo el input\n",
    "    document2 = input(\"Buen día!! Para empezar, necesito que ingreses tu número de documento: \")\n",
    "    \n",
    "if document2 == client_numberdoc:\n",
    "    print(\"hola \" + '\\033[1m' + client_name + '\\033[0m' + \" por favor seleccioná la opción que deseas: \") # lo pego varias veces por que no se como hacer para uqe vuelva a hacer la consulta arriba\n",
    "else:\n",
    "    print (\"No tenemos registrado tu DNI, Usar el único dni en la base: 34455935 \")\n",
    "    document2 = input(\"Buen día!! Para empezar, necesito que ingreses tu número de documento: \")\n",
    "    \n",
    "if document2 == client_numberdoc:\n",
    "    print(\"hola \" + '\\033[1m' + client_name + '\\033[0m' + \" por favor seleccioná la opción que deseas: \")\n",
    "else:\n",
    "    print (\"No tenemos registrado tu DNI, Usar el único dni en la base: 34455935 \")\n",
    "    document2 = input(\"Buen día!! Para empezar, necesito que ingreses tu número de documento: \")\n",
    "\n",
    "respuesta = \"si\"\n",
    "\n",
    "\n",
    "\n",
    "while respuesta.lower() != \"no\":\n",
    "    if document2 == client_numberdoc:\n",
    "        print()\n",
    "        print(\"Seleccioná la opción:\")\n",
    "        print(\"1: Reclamos\")\n",
    "        print(\"2: Consulta de saldo\")   \n",
    "        print(\"3: Apertura de cuentas\")   \n",
    "        print(\"No: Salir\")\n",
    "\n",
    "\n",
    "    \n",
    "        respuesta = input(\"En que lo puedo ayudar? \")\n",
    "    \n",
    "        if respuesta == \"1\":\n",
    "            print()\n",
    "            print(\"Enseguida lo comunico con un asesor\")\n",
    "        elif respuesta == \"2\":\n",
    "            print()\n",
    "            print( \"El saldo en su Caja de Ahorro es de $\"+ '\\033[1m' + str(account_balance_initial) + '\\033[0m' ) # da a conocer solo el saldo del dni ingresado, en negrita\n",
    "        elif respuesta == \"3\":\n",
    "            print()\n",
    "            print(\"Para abrir una cuenta llamar al 0800 12344567\")\n",
    "        elif respuesta.lower() == \"no\":\n",
    "            respuesta = \"no\"\n",
    "            print(\"\")\n",
    "            print(\"Hasta pronto\", client_name)\n",
    "        else:\n",
    "            print()\n",
    "            print(\"Perdon, creo que no te entiendo\")\n",
    "\n",
    "        "
   ]
  },
  {
   "cell_type": "code",
   "execution_count": null,
   "metadata": {},
   "outputs": [],
   "source": []
  }
 ],
 "metadata": {
  "kernelspec": {
   "display_name": "Python 3",
   "language": "python",
   "name": "python3"
  }
 },
 "nbformat": 4,
 "nbformat_minor": 4
}
