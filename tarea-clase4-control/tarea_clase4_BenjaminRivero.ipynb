{
 "cells": [
  {
   "cell_type": "markdown",
   "metadata": {},
   "source": [
    "# TAREA\n",
    "\n",
    "## BENJAMIN RIVERO\n",
    "<img src=\"https://lh3.googleusercontent.com/pg4MiMkewxSs6HQdyRfkdVA2eXl33t1ep__grbHLLgBPxICMb_XmNGiRdU_9ORDfvA\">\n",
    "\n",
    "\n",
    "### Consigna\n",
    "\n",
    "Para mejorar la atencion al cliente y la experiencia de homebanking, nos encargaron agregar nuevas funcionalidades al sistema que desarrollamos anteriormente.\n",
    "\n",
    "##### Formato de entrega\n",
    "* Crear una nueva Jupyter Notebook imlementando las funcionalidades requeridas.\n",
    "* Guardar la jupyter notebook con el siguiente formato de nombre:\n",
    "```\n",
    "            tarea_clase4_NombreApellido.ipynb\n",
    "    EJEMPLO:tarea_clase4_FedericoBrun.ipynb\n",
    "```    \n",
    "    \n",
    "* Enviar Jupyter Notebook por mail.\n",
    "\n",
    "##### Requisitos minimos\n",
    "\n",
    "(Datos de cliente a utilizar: nombre, apellido, dni, mail)\n",
    "\n",
    "1. Crear una variable para guardar los datos del cliente en un diccionario. apellido del cliente.\n",
    "2. Crear una variable con el saldo en la Caja de Ahorro del cliente.\n",
    "3. Crear una variable con el total de los consumos de una de las tarjetas de credito del cliente.\n",
    "4. Crear una variable con el pago de la tarjeta de credito realizado por el cliente, y una con la resta de consumos menos pago.\n",
    "5. Crear una variable de tipo Booleana que valide si el cliente presenta saldos impagos en la tarjeta. Para ello asignar el resultado de _evaluar si el total de consumos menos el pago realizado por el cliente es mayor a cero_ , a una variable con identificador `saldo_impago_check`.\n",
    "6. Usando una estructura condicional, validar si el cliente presenta saldos impagos y mandarle un mail informandole (usando `print()`).\n",
    "7. Crear una lista de clientes. Para ello crear una lista, donde cada elemento es a su vez una lista, conteniendo los datos de cliente.\n",
    "8. Usando una estructura de repeticion finita, enviar un mail a cada cliente, avisando que el sistema de homebanking esta en mantenimiento.\n",
    "9. Armar un ChatBot de atencion al cliente simple que realice lo siguiente:\n",
    "    - Cuando se loguea el cliente, preguntarle su nombre usando la funcion `input()` <a href=\"https://entrenamiento-python-basico.readthedocs.io/es/latest/leccion5/funciones_integradas.html#input\" target=\"_blank\">Cómo se usa la funcion input()</a>.\n",
    "    - Saludarlo y preguntar \"En que lo puedo ayudar?\"\n",
    "    - Usando una estructura de repeticion infinita (tener en cuenta que necesitamos delcarar antes de entrar a esta, una variable que va a ser la respuesta del cliente que vamos a evaluar), evaluar la respuesta numerica del cliente y mostrar los siguientes mensajes:\n",
    "        - 1 = Reclamos: \"Enseguida lo comunico con un asesor\"\n",
    "        - 2 = Consulta de saldo: \"El saldo en su Caja de Ahorro es $xxxx\"\n",
    "        - 3 = Apertura de cuentas: \"Para abrir una cuenta llamar al 0800 12344567\"\n",
    "        - Opcion invalida: \"Perdon, creo que no te entiendo\"\n",
    "    - Preguntar si necesita algo más, si escribe \"no\" o \"No\" o \"NO\", despedirse\n",
    "    \n",
    "10. Usando las funciones `help()` y `dir()` mostrar al menos 2 funciones que se pueden aplicar sobre listas, 2 sobre diccionarios y 2 sobre tuplas; distintas a las que ya se vieron.\n",
    "        \n",
    "\n",
    "##### Requisitos extras\n",
    "1. Usar comentarios en el código (no están explicados en esta libreta, debe buscar en la Clase 2 o investigar \"Comentarios en Python\" en internet).\n",
    "2. Describir cada uno (o en grupos) los pasos de ***Requisitos minimos***, usando celdas de texto enriquecido.\n",
    "3. Agregar una imagen de internet que sea relevante.\n",
    "4. Mantener el orden y la prolijidad de su libreta, al igual que hacer uso de las buenas practicas de programacion presentadas en clase (convenciones de nombres para variables)."
   ]
  },
  {
   "cell_type": "markdown",
   "metadata": {},
   "source": [
    "## Desarrollo Tarea"
   ]
  },
  {
   "cell_type": "markdown",
   "metadata": {},
   "source": [
    "### Diccionario que contiene los datos del cliente:"
   ]
  },
  {
   "cell_type": "code",
   "execution_count": null,
   "metadata": {},
   "outputs": [],
   "source": [
    "# Se crea variable \"cliente\" para guardar los datos del cliente\n",
    "cliente = {\n",
    "    'nombre': 'Benjamin',\n",
    "    'apellido':'Rivero'\n",
    "    'DNI':'34071343'\n",
    "    'mail': 'benjaminrivero88@gmail.com'\n",
    "}\n",
    "cliente"
   ]
  },
  {
   "cell_type": "markdown",
   "metadata": {},
   "source": [
    "### A continuación se almacenan los datos de la tarjeta:"
   ]
  },
  {
   "cell_type": "code",
   "execution_count": null,
   "metadata": {},
   "outputs": [],
   "source": [
    "\n",
    "caja_de_ahorro = 7000 # Variable que almacena el saldo en caja de ahorro del cliente\n",
    "consumos = 1200 # Se almacena lo gastado por el cliente \n",
    "pago = 5000 # Variable que almacena el pago de la tarjeta realizado por el cliente\n",
    "\n",
    "saldo_impago_check = ((consumos - pago) > 0) # Variable booleana. Si los consumos son mayores que lo pagado arroja un False \n",
    "diferencia = consumos - pago\n",
    "print(\"Monto Pagado por el cliente:$ \" + str(pago))\n",
    "print (\"El cliente tiene un sonsumo de:$ \" + str(consumos))\n",
    "if saldo_impago_check == False:  # Si la variable es false imprimi que el cliente presenta saldo impago y lo que adeuda \n",
    " print(\"¿El cliente presenta saldo impago?: SI\")\n",
    " print(\"El Saldo impago de la tarjeta es:$ \"+ str(diferencia))\n",
    "else:\n",
    " print(\"¿El cliente presenta saldo impago?: NO\")\n",
    "\n"
   ]
  },
  {
   "cell_type": "markdown",
   "metadata": {},
   "source": [
    "### Lista de Clientes:\n",
    "Se crea lista de los clientes a enviar e-mail."
   ]
  },
  {
   "cell_type": "code",
   "execution_count": null,
   "metadata": {},
   "outputs": [],
   "source": [
    "# Se crea lista que contiene Nombres y e-mail de los clientes\n",
    "clientes = [[\"Benjamin\", \"benjaminrivero88@gmail.com\"],[\"Sofia\", \"sofia@gmail.com\"],[\"Magalí\", \"magalí@gmail.com\"]]"
   ]
  },
  {
   "cell_type": "markdown",
   "metadata": {},
   "source": [
    "Se envía e-mail a todos los clientes contenidos en la lista."
   ]
  },
  {
   "cell_type": "code",
   "execution_count": null,
   "metadata": {},
   "outputs": [],
   "source": [
    "for cliente in clientes: # Se envía e-mail a todos los clientes almacenados en la lista anterior\n",
    "    print(\"Mandar mail a:\", cliente[1])\n",
    "    print(\"Estimado cliente\", cliente[0])\n",
    "    print(\"Le informamos que nuestro sistema de Home Banking esta en mantenimiento\")"
   ]
  },
  {
   "cell_type": "markdown",
   "metadata": {},
   "source": [
    "# Chatbot"
   ]
  },
  {
   "cell_type": "code",
   "execution_count": null,
   "metadata": {},
   "outputs": [
    {
     "name": "stdout",
     "output_type": "stream",
     "text": [
      "Cómo se llama?benjamin\n",
      "Hola benjamin\n",
      "\n",
      "OPCIONES:\n",
      "1: Reclamos\n",
      "2: Reclamos\n",
      "3: Reclamos\n",
      "No: Salir\n",
      "\n",
      "En que lo puedo ayudar? 1\n",
      "\n",
      "Enseguida lo comunico con un asesor\n",
      "\n",
      "OPCIONES:\n",
      "1: Reclamos\n",
      "2: Reclamos\n",
      "3: Reclamos\n",
      "No: Salir\n",
      "\n",
      "En que lo puedo ayudar? 2\n",
      "\n",
      "El saldo en su Caja de Ahorro es de $ 7000\n",
      "\n",
      "OPCIONES:\n",
      "1: Reclamos\n",
      "2: Reclamos\n",
      "3: Reclamos\n",
      "No: Salir\n"
     ]
    }
   ],
   "source": [
    "nombre = input(\"Cómo se llama?\")\n",
    "\n",
    "respuesta = \"si\"\n",
    "\n",
    "print(\"Hola\", nombre)\n",
    "\n",
    "# La condicion de corte es que la respuesta sea DISTINTA de \"no\"\n",
    "# Osea, si la respuesta es distinta a \"no\", la condicion es TRUE y comienza el WHILE\n",
    "while respuesta.lower() != \"no\": \n",
    "    print()\n",
    "    print(\"OPCIONES:\")\n",
    "    print(\"1: Reclamos\")\n",
    "    print(\"2: Reclamos\")   \n",
    "    print(\"3: Reclamos\")   \n",
    "    print(\"No: Salir\")\n",
    "    \n",
    "    respuesta = input(\"\\nEn que lo puedo ayudar? \")\n",
    "    \n",
    "    if respuesta == \"1\":\n",
    "        print()\n",
    "        print(\"Enseguida lo comunico con un asesor\")\n",
    "    elif respuesta == \"2\":\n",
    "        print()\n",
    "        print( \"El saldo en su Caja de Ahorro es de $\", str(caja_de_ahorro))\n",
    "    elif respuesta == \"3\":\n",
    "        print()\n",
    "        print(\"Para abrir una cuenta llamar al 0800 12344567\")\n",
    "    elif respuesta.lower() == \"no\":\n",
    "        respuesta = \"no\"\n",
    "        print(\"\")\n",
    "        print(\"Hasta pronto\", nombre)\n",
    "    else:\n",
    "        print()\n",
    "        print(\"Perdon, creo que no te entiendo\")"
   ]
  }
 ],
 "metadata": {
  "kernelspec": {
   "display_name": "Python 3",
   "language": "python",
   "name": "python3"
  },
  "language_info": {
   "codemirror_mode": {
    "name": "ipython",
    "version": 3
   },
   "file_extension": ".py",
   "mimetype": "text/x-python",
   "name": "python",
   "nbconvert_exporter": "python",
   "pygments_lexer": "ipython3",
   "version": "3.7.6"
  }
 },
 "nbformat": 4,
 "nbformat_minor": 4
}
