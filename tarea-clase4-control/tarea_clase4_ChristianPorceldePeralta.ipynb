{
 "cells": [
  {
   "cell_type": "markdown",
   "metadata": {},
   "source": [
    "# Continuamos desarrollando la aplicacion para Home Banking"
   ]
  },
  {
   "cell_type": "markdown",
   "metadata": {},
   "source": [
    "### Diccionario con los datos del cliente"
   ]
  },
  {
   "cell_type": "code",
   "execution_count": 279,
   "metadata": {},
   "outputs": [
    {
     "data": {
      "text/plain": [
       "{'Nombre': 'Carlos',\n",
       " 'Apellido': 'Perez',\n",
       " 'DNI': 32957852,\n",
       " 'Mail': 'carlos.perez@gmail.com'}"
      ]
     },
     "execution_count": 279,
     "metadata": {},
     "output_type": "execute_result"
    }
   ],
   "source": [
    "client = {'Nombre' : \"Carlos\", 'Apellido' : \"Perez\", 'DNI' : 32957852, 'Mail' : \"carlos.perez@gmail.com\"}\n",
    "client"
   ]
  },
  {
   "cell_type": "markdown",
   "metadata": {},
   "source": [
    "### Saldo de la Caja de Ahorro"
   ]
  },
  {
   "cell_type": "code",
   "execution_count": 280,
   "metadata": {},
   "outputs": [
    {
     "name": "stdout",
     "output_type": "stream",
     "text": [
      "El saldo de la Caja de Ahorro es de $10000\n"
     ]
    }
   ],
   "source": [
    "saldo_ca = 10000\n",
    "print (\"El saldo de la Caja de Ahorro es de $\" + str(saldo_ca))"
   ]
  },
  {
   "cell_type": "markdown",
   "metadata": {},
   "source": [
    "### Realizamos un consumo en una de las tarjetas de credito"
   ]
  },
  {
   "cell_type": "code",
   "execution_count": 281,
   "metadata": {},
   "outputs": [
    {
     "name": "stdout",
     "output_type": "stream",
     "text": [
      "Los consumos efectuados con su tarjeta de Credito Visa son de $5874\n"
     ]
    }
   ],
   "source": [
    "tarjeta_credito1 = \"Visa\"\n",
    "tarjeta_credito2 = \"Mastercard\"\n",
    "compras_tc1 = 5874\n",
    "consumos_tc1 = compras_tc1\n",
    "print (\"Los consumos efectuados con su tarjeta de Credito \" + tarjeta_credito1 + \" son de $\" + str(consumos_tc1))"
   ]
  },
  {
   "cell_type": "markdown",
   "metadata": {},
   "source": [
    "### Realizamos una extraccion por Cajero - Podemos modificar la variable por $2000-5000-10.000 pesos"
   ]
  },
  {
   "cell_type": "code",
   "execution_count": 282,
   "metadata": {},
   "outputs": [
    {
     "name": "stdout",
     "output_type": "stream",
     "text": [
      "Carlos Perez a realizado una extraccion de $ 2000\n",
      "Saldo en su Caja de Ahorro $ 8000\n"
     ]
    }
   ],
   "source": [
    "extracciones_ca = 2000\n",
    "print (client['Nombre'] + \" \"+ client.get('Apellido') + \" a realizado una extraccion de $ \" + str(extracciones_ca))\n",
    "saldo_ca = saldo_ca - extracciones_ca\n",
    "print (\"Saldo en su Caja de Ahorro $ \" + str(saldo_ca))"
   ]
  },
  {
   "cell_type": "markdown",
   "metadata": {},
   "source": [
    "### Comprobamos si podemos realizar el o no pago del Resumen de la Tarjeta o Pago Parcial"
   ]
  },
  {
   "cell_type": "code",
   "execution_count": 283,
   "metadata": {},
   "outputs": [
    {
     "name": "stdout",
     "output_type": "stream",
     "text": [
      "Ud. realizo el pago total del Resumen de su Tarjeta de Credito Visa por un importe de $ 5874\n",
      "Saldo disponible en su Caja de Ahorro $2126\n"
     ]
    }
   ],
   "source": [
    "if saldo_ca > consumos_tc1:\n",
    "    pago_total = consumos_tc1\n",
    "    saldo_ca = saldo_ca - pago_total\n",
    "    saldo_tc1 = 0\n",
    "    print(\"Ud. realizo el pago total del Resumen de su Tarjeta de Credito \" + tarjeta_credito1 +\n",
    "         \" por un importe de $ \" + str(pago_total))\n",
    "else:\n",
    "    if saldo_ca == 0:\n",
    "        saldo_tc1 = consumos_tc1\n",
    "        print(\"No se dispone de saldo para pagar el resumen de su tarjeta de credito\")\n",
    "    else:\n",
    "        pago_parcial = saldo_ca\n",
    "        saldo_tc1 = consumos_tc1 - pago_parcial\n",
    "        saldo_ca = saldo_ca - pago_parcial\n",
    "        print(\"Estimado Cliente \" + client['Nombre'] + \" \"+ client.get('Apellido') +\n",
    "              \" ,no se pudo debitar el monto total de su Resumen, le quedo un saldo pendiente de $ \" + str(saldo_tc1) +\n",
    "              \" ,el sistema le enviara un mail a la direccion \" + client.get('Mail'))    \n",
    "print (\"Saldo disponible en su Caja de Ahorro $\"+ str(saldo_ca))"
   ]
  },
  {
   "cell_type": "markdown",
   "metadata": {},
   "source": [
    "## Verificamos si presenta saldos impagos en el resumen"
   ]
  },
  {
   "cell_type": "code",
   "execution_count": 284,
   "metadata": {},
   "outputs": [
    {
     "name": "stdout",
     "output_type": "stream",
     "text": [
      "Estimado Cliente Carlos Perez , no presenta saldos impagos en su tarjeta de credito Visa\n"
     ]
    }
   ],
   "source": [
    "if saldo_tc1 > 0:    \n",
    "    saldo_impago_chek = saldo_tc1\n",
    "    print(\"Estimado Cliente \" + client['Nombre'] + \" \"+ client.get('Apellido') +\n",
    "              \" , no se pudo debitar el monto total de su Resumen, le quedo un saldo pendiente de $ \" + str(saldo_tc1))\n",
    "else:\n",
    "    print(\"Estimado Cliente \" + client['Nombre'] + \" \"+ client.get('Apellido') +\n",
    "              \" , no presenta saldos impagos en su tarjeta de credito \" + tarjeta_credito1 )"
   ]
  },
  {
   "cell_type": "markdown",
   "metadata": {},
   "source": [
    "## Creacion de listas con Nombre/Email"
   ]
  },
  {
   "cell_type": "code",
   "execution_count": 285,
   "metadata": {},
   "outputs": [
    {
     "name": "stdout",
     "output_type": "stream",
     "text": [
      "[['Marcelo', 'marce@gmail.com'], ['Andrea', 'andre@gmail.com'], ['Gerardo', 'gera@gmail.com'], ['Cecilia', 'ceci@gmail.com']]\n"
     ]
    }
   ],
   "source": [
    "clientes = [[\"Marcelo\", \"marce@gmail.com\"],\n",
    "            [\"Andrea\", \"andre@gmail.com\"], \n",
    "            [\"Gerardo\", \"gera@gmail.com\"], \n",
    "            [\"Cecilia\", \"ceci@gmail.com\"] ]\n",
    "print (clientes)"
   ]
  },
  {
   "cell_type": "markdown",
   "metadata": {},
   "source": [
    "## Enviamos mail a los clientes"
   ]
  },
  {
   "cell_type": "code",
   "execution_count": 286,
   "metadata": {},
   "outputs": [
    {
     "name": "stdout",
     "output_type": "stream",
     "text": [
      "Enviar mail a: marce@gmail.com\n",
      "Estimado cliente Marcelo Le informamos que nuestro sistema de Home Banking se encuentra en mantenimiento\n",
      "\n",
      "Enviar mail a: andre@gmail.com\n",
      "Estimado cliente Andrea Le informamos que nuestro sistema de Home Banking se encuentra en mantenimiento\n",
      "\n",
      "Enviar mail a: gera@gmail.com\n",
      "Estimado cliente Gerardo Le informamos que nuestro sistema de Home Banking se encuentra en mantenimiento\n",
      "\n",
      "Enviar mail a: ceci@gmail.com\n",
      "Estimado cliente Cecilia Le informamos que nuestro sistema de Home Banking se encuentra en mantenimiento\n",
      "\n"
     ]
    }
   ],
   "source": [
    "for cliente in clientes:\n",
    "    print(\"Enviar mail a:\", cliente[1])\n",
    "    print(\"Estimado cliente\", cliente[0] + \" Le informamos que nuestro sistema de Home Banking se encuentra en mantenimiento\")\n",
    "    print()  "
   ]
  },
  {
   "cell_type": "markdown",
   "metadata": {},
   "source": [
    "<img src=\"https://live-tv-channels.org/pt-data/uploads/logo/uk-chat-box.jpg\">"
   ]
  },
  {
   "cell_type": "code",
   "execution_count": 287,
   "metadata": {},
   "outputs": [
    {
     "name": "stdout",
     "output_type": "stream",
     "text": [
      "Gracias por comunicarse con IT Solutions, me dice su nombre por favor: Christian\n"
     ]
    }
   ],
   "source": [
    "nombre_contacto = input(\"Gracias por comunicarse con IT Solutions, me dice su nombre por favor: \")"
   ]
  },
  {
   "cell_type": "code",
   "execution_count": 288,
   "metadata": {},
   "outputs": [
    {
     "name": "stdout",
     "output_type": "stream",
     "text": [
      "Hola Christian en que lo puedo ayudar?\n"
     ]
    }
   ],
   "source": [
    "print (\"Hola \" + nombre_contacto + \" en que lo puedo ayudar?\")"
   ]
  },
  {
   "cell_type": "code",
   "execution_count": 289,
   "metadata": {},
   "outputs": [
    {
     "name": "stdout",
     "output_type": "stream",
     "text": [
      "\n",
      "Para reclamos presione 1\n",
      "Para consultar su saldo presione  2\n",
      "Para realizar una apertura de cuenta presione 3\n",
      "No: Salir\n",
      "1\n",
      "\n",
      "Enseguida lo comunico con un asesor\n",
      "\n",
      "Para reclamos presione 1\n",
      "Para consultar su saldo presione  2\n",
      "Para realizar una apertura de cuenta presione 3\n",
      "No: Salir\n",
      "2\n",
      "\n",
      "El saldo de su Caja de Ahorro es $2126\n",
      "\n",
      "Para reclamos presione 1\n",
      "Para consultar su saldo presione  2\n",
      "Para realizar una apertura de cuenta presione 3\n",
      "No: Salir\n",
      "3\n",
      "\n",
      "Para Abrir una cuenta llamar al 0800 12344567\n",
      "\n",
      "Para reclamos presione 1\n",
      "Para consultar su saldo presione  2\n",
      "Para realizar una apertura de cuenta presione 3\n",
      "No: Salir\n",
      "no\n",
      "\n",
      "Hasta pronto CHRISTIAN\n"
     ]
    }
   ],
   "source": [
    "consulta = \"si\"\n",
    "\n",
    "while consulta.lower() != \"no\":\n",
    "    print ()\n",
    "    print (\"Para reclamos presione 1\")\n",
    "    print (\"Para consultar su saldo presione  2\")\n",
    "    print (\"Para realizar una apertura de cuenta presione 3\")\n",
    "    print (\"No: Salir\")\n",
    "    opcion = input(\"\")\n",
    "    \n",
    "    if opcion == \"1\":\n",
    "            print()\n",
    "            print(\"Enseguida lo comunico con un asesor\")\n",
    "    elif opcion == \"2\":\n",
    "            print(\"\")\n",
    "            print(\"El saldo de su Caja de Ahorro es $\" + str(saldo_ca))         \n",
    "    elif opcion == \"3\":\n",
    "            print(\"\")            \n",
    "            print(\"Para Abrir una cuenta llamar al 0800 12344567\")\n",
    "    elif opcion.lower() == \"no\":\n",
    "        consulta = \"no\"\n",
    "        print(\"\")\n",
    "        print (\"Hasta pronto\", nombre_contacto.upper())\n",
    "    else:\n",
    "        print ()\n",
    "        print (\"Perdon, ha ingresado una opcion incorrecta\")\n",
    "            \n",
    "            "
   ]
  },
  {
   "cell_type": "code",
   "execution_count": 290,
   "metadata": {},
   "outputs": [
    {
     "name": "stdout",
     "output_type": "stream",
     "text": [
      "Help on method_descriptor:\n",
      "\n",
      "pop(self, index=-1, /)\n",
      "    Remove and return item at index (default last).\n",
      "    \n",
      "    Raises IndexError if list is empty or index is out of range.\n",
      "\n"
     ]
    }
   ],
   "source": [
    "help(list.pop) #esta funcion devuelve el ultimo elemento de la lista y lo borra de la misma"
   ]
  },
  {
   "cell_type": "code",
   "execution_count": 291,
   "metadata": {},
   "outputs": [
    {
     "name": "stdout",
     "output_type": "stream",
     "text": [
      "['__call__', '__class__', '__delattr__', '__dir__', '__doc__', '__eq__', '__format__', '__ge__', '__get__', '__getattribute__', '__gt__', '__hash__', '__init__', '__init_subclass__', '__le__', '__lt__', '__name__', '__ne__', '__new__', '__objclass__', '__qualname__', '__reduce__', '__reduce_ex__', '__repr__', '__setattr__', '__sizeof__', '__str__', '__subclasshook__', '__text_signature__']\n"
     ]
    }
   ],
   "source": [
    "print(dir(list.pop))"
   ]
  },
  {
   "cell_type": "code",
   "execution_count": 1,
   "metadata": {},
   "outputs": [
    {
     "name": "stdout",
     "output_type": "stream",
     "text": [
      "Help on method_descriptor:\n",
      "\n",
      "insert(self, index, object, /)\n",
      "    Insert object before index.\n",
      "\n"
     ]
    }
   ],
   "source": [
    "help(list.insert) #esta funcion inserta un elemento x en la lista "
   ]
  },
  {
   "cell_type": "code",
   "execution_count": null,
   "metadata": {},
   "outputs": [],
   "source": [
    "print(dir(list.insert))"
   ]
  }
 ],
 "metadata": {
  "kernelspec": {
   "display_name": "Python 3",
   "language": "python",
   "name": "python3"
  },
  "language_info": {
   "codemirror_mode": {
    "name": "ipython",
    "version": 3
   },
   "file_extension": ".py",
   "mimetype": "text/x-python",
   "name": "python",
   "nbconvert_exporter": "python",
   "pygments_lexer": "ipython3",
   "version": "3.7.6"
  }
 },
 "nbformat": 4,
 "nbformat_minor": 4
}
