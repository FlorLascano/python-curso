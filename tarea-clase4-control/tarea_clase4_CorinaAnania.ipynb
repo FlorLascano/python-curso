{
 "cells": [
  {
   "cell_type": "markdown",
   "metadata": {},
   "source": [
    "<img src=\"assets/socalo-ICDA.png\">"
   ]
  },
  {
   "cell_type": "markdown",
   "metadata": {},
   "source": [
    "# Python para Finanzas y Ciencia de Datos\n",
    "\n",
    "## Clase 4: tarea\n",
    "\n",
    "Corina Anania | cori.anania@gmail.com\n",
    "\n",
    "_Jueves 1 de octubre de 2020_"
   ]
  },
  {
   "cell_type": "markdown",
   "metadata": {},
   "source": [
    "* En el primer punto de esta tarea creamos un diccionario con datos de nuestro cliente. El __identificador__ client cuenta con cuatro __elementos__, name/surname/dni/mail son las __claves__, y su contenido se denominan __valores__."
   ]
  },
  {
   "cell_type": "code",
   "execution_count": 20,
   "metadata": {},
   "outputs": [
    {
     "name": "stdout",
     "output_type": "stream",
     "text": [
      "{'name': 'Corina', 'surname': 'Anania', 'dni': 39126766, 'mail': 'cori.anania@gmail.com'}\n"
     ]
    }
   ],
   "source": [
    "# Punto 1\n",
    "client = {\"name\": \"Corina\", \"surname\": \"Anania\", \"dni\": 39126766, \"mail\": \"cori.anania@gmail.com\"}\n",
    "print(client)"
   ]
  },
  {
   "cell_type": "markdown",
   "metadata": {},
   "source": [
    "* A continuación creamos las __variables__ caja de ahorro, consumos de tarjeta de credito y una que contenga los pagos realizados en las tarjetas. Todas estas variables contienen numeros enteros. "
   ]
  },
  {
   "cell_type": "code",
   "execution_count": 13,
   "metadata": {},
   "outputs": [],
   "source": [
    "# Punto 2 a 4\n",
    "savings_account_balance = 100000\n",
    "credit_card = 15000\n",
    "credit_card_payment = 15000"
   ]
  },
  {
   "cell_type": "markdown",
   "metadata": {},
   "source": [
    "* La variable _balance_ contiene el saldo de la tarjeta de credito luego de efectuar el pago. Con una variable de tipo Booleana podemos comprobar si el cliente ha realizado el pago en su totalidad o le queda algun saldo. Python devolverá __True__ cuando el saldo sea cancelado en su totalidad."
   ]
  },
  {
   "cell_type": "code",
   "execution_count": 14,
   "metadata": {},
   "outputs": [
    {
     "data": {
      "text/plain": [
       "True"
      ]
     },
     "execution_count": 14,
     "metadata": {},
     "output_type": "execute_result"
    }
   ],
   "source": [
    "# Punto 5\n",
    "balance = credit_card - credit_card_payment\n",
    "balance\n",
    "saldo_impago_check = (balance <= 0)\n",
    "saldo_impago_check"
   ]
  },
  {
   "cell_type": "markdown",
   "metadata": {},
   "source": [
    "* Utilizando una estructura condicional, mandaremos un mail al cliente indicado el estado de su cuenta dependiendo de su condición. En el segundo punto combinamos esta estructura con la variable booleana."
   ]
  },
  {
   "cell_type": "code",
   "execution_count": 24,
   "metadata": {},
   "outputs": [
    {
     "name": "stdout",
     "output_type": "stream",
     "text": [
      "Estimado cliente le informamos que no presenta saldos impagos a la fecha\n"
     ]
    }
   ],
   "source": [
    "# Punto 6\n",
    "if balance <= 0:\n",
    "    print (\"Estimado cliente le informamos que no presenta saldos impagos a la fecha\")\n",
    "else:\n",
    "    print (\"Estimada cliente le informamos que adeuda una suma de $\" + str(balance) + \" a la fecha del día de hoy\")"
   ]
  },
  {
   "cell_type": "code",
   "execution_count": 26,
   "metadata": {},
   "outputs": [
    {
     "name": "stdout",
     "output_type": "stream",
     "text": [
      "Estimada señorita le informamos que no presenta saldos impagos a la fecha\n"
     ]
    }
   ],
   "source": [
    "# Otra forma de realizar el punto 6\n",
    "if saldo_impago_check:\n",
    "    print (\"Estimada señorita le informamos que no presenta saldos impagos a la fecha\")\n",
    "else: \n",
    "    print (\"Estimada señorita le informamos que adeuda una suma de $\" + str(balance) + \" a la fecha del día de hoy\")"
   ]
  },
  {
   "cell_type": "markdown",
   "metadata": {},
   "source": [
    "* Creación de una lista con datos de nuevos clientes."
   ]
  },
  {
   "cell_type": "code",
   "execution_count": 29,
   "metadata": {},
   "outputs": [],
   "source": [
    "# Punto 7\n",
    "clients_list = [\n",
    "    [\"Martin\", \"Rivero\", 41240047 , \"martin.rivero@gmail.com\"],\n",
    "    [\"Andrea\", \"Martino\", 37542362 , \"andrea.martino@gmail.com\"],\n",
    "    [\"Celeste\", \"Raviolo\", 39521102 , \"celeste.raviolo@gmail.com\"]\n",
    "]"
   ]
  },
  {
   "cell_type": "markdown",
   "metadata": {},
   "source": [
    "* Usando una estructura de repetición finita __for__, le mandamos un mail a cada cliente, indicando que la pagina de Home Banking se encuentra en mantenimiento."
   ]
  },
  {
   "cell_type": "code",
   "execution_count": 61,
   "metadata": {},
   "outputs": [
    {
     "name": "stdout",
     "output_type": "stream",
     "text": [
      "Mandar mail a: martin.rivero@gmail.com\n",
      "Estimado cliente Rivero estamos mejorando nuestra pagina de Home Banking para usted. Sepa disculpar.\n",
      "Mandar mail a: andrea.martino@gmail.com\n",
      "Estimado cliente Martino estamos mejorando nuestra pagina de Home Banking para usted. Sepa disculpar.\n",
      "Mandar mail a: celeste.raviolo@gmail.com\n",
      "Estimado cliente Raviolo estamos mejorando nuestra pagina de Home Banking para usted. Sepa disculpar.\n"
     ]
    }
   ],
   "source": [
    "# Punto 8\n",
    "for client in clients_list:\n",
    "    print(\"Mandar mail a:\", client[3])\n",
    "    print(\"Estimado cliente\", client[1], \"estamos mejorando nuestra pagina de Home Banking para usted. Sepa disculpar.\")   "
   ]
  },
  {
   "cell_type": "code",
   "execution_count": 30,
   "metadata": {},
   "outputs": [
    {
     "name": "stdout",
     "output_type": "stream",
     "text": [
      "Mandar mail a: martin.rivero@gmail.com\n",
      "Estimada señorita Rivero estamos mejorando nuestra pagina de Home Banking para usted. Sepa disculpar.\n",
      "Mandar mail a: andrea.martino@gmail.com\n",
      "Estimada señorita Martino estamos mejorando nuestra pagina de Home Banking para usted. Sepa disculpar.\n",
      "Mandar mail a: celeste.raviolo@gmail.com\n",
      "Estimada señorita Raviolo estamos mejorando nuestra pagina de Home Banking para usted. Sepa disculpar.\n"
     ]
    }
   ],
   "source": [
    "# Punto 8\n",
    "for client in clients_list:\n",
    "    print(\"Mandar mail a:\", client[3])\n",
    "    if clients_list [0][-1] == \"H\":\n",
    "        print(\"Estimado señor\", client[1], \"estamos mejorando nuestra pagina de Home Banking para usted. Sepa disculpar.\")\n",
    "    else:\n",
    "        print(\"Estimada señorita\", client[1], \"estamos mejorando nuestra pagina de Home Banking para usted. Sepa disculpar.\")"
   ]
  },
  {
   "cell_type": "markdown",
   "metadata": {},
   "source": [
    "### ChatBot"
   ]
  },
  {
   "cell_type": "code",
   "execution_count": 4,
   "metadata": {},
   "outputs": [
    {
     "name": "stdout",
     "output_type": "stream",
     "text": [
      "Como se llama?5\n",
      "\n",
      "Hola 5\n",
      "\n",
      "OPCIONES:\n",
      "1. Reclamos.\n",
      "2. Consulta de saldo.\n",
      "3. Apertura de cuenta.\n",
      "No. Salir.\n",
      "En que lo puedo ayudar?5\n",
      "\n",
      "Perdon, creo que no te entiendo\n",
      "\n",
      "OPCIONES:\n",
      "1. Reclamos.\n",
      "2. Consulta de saldo.\n",
      "3. Apertura de cuenta.\n",
      "No. Salir.\n",
      "En que lo puedo ayudar?NO\n",
      "\n",
      "Hasta pronto 5\n"
     ]
    }
   ],
   "source": [
    "# Punto 9\n",
    "name = input(\"Como se llama?\")\n",
    "\n",
    "respuesta = \"si\"\n",
    "\n",
    "print()\n",
    "print(\"Hola\", name)\n",
    "\n",
    "while respuesta.lower() != \"no\":\n",
    "    print()\n",
    "    print(\"OPCIONES:\")\n",
    "    print(\"1. Reclamos.\")\n",
    "    print(\"2. Consulta de saldo.\")\n",
    "    print(\"3. Apertura de cuenta.\")\n",
    "    print(\"No. Salir.\")\n",
    "    \n",
    "    respuesta = input(\"En que lo puedo ayudar?\")\n",
    "    \n",
    "    if respuesta == \"1\":\n",
    "        print ()\n",
    "        print (\"Enseguida lo comunico con un asesor\")\n",
    "        print (\"Lo puedo ayudar en algo más?\")\n",
    "    elif respuesta == \"2\":\n",
    "        print ()\n",
    "        print (\"El saldo en su caja de ahorro es de $\" + str(balance))\n",
    "        print (\"Lo puedo ayudar en algo más?\")\n",
    "    elif respuesta == \"3\":\n",
    "        print ()\n",
    "        print (\"Para abrir una cuenta llamar al 0800 12344567\")\n",
    "        print (\"Lo puedo ayudar en algo más?\")\n",
    "    elif respuesta == \"no\":\n",
    "        print ()\n",
    "        print(\"Hasta pronto\", name)\n",
    "    elif respuesta == \"No\":\n",
    "        print ()\n",
    "        print(\"Hasta pronto\", name)\n",
    "    elif respuesta == \"NO\":\n",
    "        print()\n",
    "        print (\"Hasta pronto\", name)\n",
    "    else:\n",
    "        print()\n",
    "        print(\"Perdon, creo que no te entiendo\")"
   ]
  },
  {
   "cell_type": "markdown",
   "metadata": {},
   "source": [
    "Utilizando las funciones help() by dir() mostraré seis funciones distintas que se pueden utilizar. \n",
    "\n",
    "#### LISTAS\n",
    "* Función __clear__: método que vacia la lista.\n",
    "* Función __reverse__: método que invierte el orden de la lista.\n",
    "\n",
    "#### DICCIONARIOS\n",
    "* Función __update__: inserta un item en el diccionario\n",
    "* Función __pop__: método que elimina un elemento específico del diccionario.\n",
    "\n",
    "#### TUPLAS\n",
    "* Función __count__: devuelve la cantidad de veces que un valor aparece en la tupla.\n",
    "* Función __max__: devuelve el elemento de máximo valor."
   ]
  },
  {
   "cell_type": "code",
   "execution_count": 1,
   "metadata": {},
   "outputs": [
    {
     "name": "stdout",
     "output_type": "stream",
     "text": [
      "['skirts', 'dresses', 'coats']\n",
      "[]\n",
      "['pants', 't-shirts', 'shoes']\n",
      "['shoes', 't-shirts', 'pants']\n"
     ]
    }
   ],
   "source": [
    "# Punto 10\n",
    "# LISTAS\n",
    "\n",
    "clothes = [\"skirts\", \"dresses\", \"coats\"]\n",
    "print(clothes)\n",
    "clothes.clear()\n",
    "print(clothes)\n",
    "\n",
    "clothes = [\"pants\", \"t-shirts\", \"shoes\"]\n",
    "print (clothes)\n",
    "clothes.reverse()\n",
    "print (clothes)\n"
   ]
  },
  {
   "cell_type": "code",
   "execution_count": 2,
   "metadata": {},
   "outputs": [
    {
     "name": "stdout",
     "output_type": "stream",
     "text": [
      "{'brand': 'kosiuko', 'article': 'jeans', 'size': 'm'}\n",
      "{'brand': 'kosiuko', 'article': 'jeans', 'size': 'm', 'color': 'blue'}\n",
      "{'brand': 'kosiuko', 'article': 'jeans', 'color': 'blue'}\n"
     ]
    }
   ],
   "source": [
    "# DICCIONARIOS\n",
    "\n",
    "clothes_d = {\n",
    "    \"brand\": \"kosiuko\",\n",
    "    \"article\": \"jeans\",\n",
    "    \"size\": \"m\",\n",
    "}\n",
    "print(clothes_d)\n",
    "\n",
    "clothes_d.update ({\"color\": \"blue\"})\n",
    "print(clothes_d)\n",
    "\n",
    "clothes_d.pop(\"size\")\n",
    "print(clothes_d)"
   ]
  },
  {
   "cell_type": "code",
   "execution_count": 3,
   "metadata": {},
   "outputs": [
    {
     "name": "stdout",
     "output_type": "stream",
     "text": [
      "2\n",
      "El número más alto de la tupla es  11\n"
     ]
    }
   ],
   "source": [
    "# TUPLAS\n",
    "\n",
    "my_tuple = (1, 5, 6, 8, 2, 5, 7, 3, 6, 2, 5, 9, 11, 0, 1, 4, 3, 5)\n",
    "x = my_tuple.count(1)\n",
    "print(x)\n",
    "print(\"El número más alto de la tupla es \", max(my_tuple))\n",
    "\n",
    "\n"
   ]
  }
 ],
 "metadata": {
  "kernelspec": {
   "display_name": "Python 3",
   "language": "python",
   "name": "python3"
  },
  "language_info": {
   "codemirror_mode": {
    "name": "ipython",
    "version": 3
   },
   "file_extension": ".py",
   "mimetype": "text/x-python",
   "name": "python",
   "nbconvert_exporter": "python",
   "pygments_lexer": "ipython3",
   "version": "3.7.6"
  }
 },
 "nbformat": 4,
 "nbformat_minor": 4
}
