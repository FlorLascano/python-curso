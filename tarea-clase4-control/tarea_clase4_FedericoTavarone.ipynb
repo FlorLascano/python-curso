{
 "cells": [
  {
   "cell_type": "code",
   "execution_count": 1,
   "metadata": {},
   "outputs": [],
   "source": [
    "dates_client1 = {\"Nombre\": \"Federico\", \"Apellido\": \"Tavarone\", \"DNI\" : 38407204, \"Mail\" : \"Federicotavarone_95@hotmail.com\"}"
   ]
  },
  {
   "cell_type": "code",
   "execution_count": null,
   "metadata": {},
   "outputs": [],
   "source": [
    "client_balance = 5000"
   ]
  },
  {
   "cell_type": "code",
   "execution_count": 5,
   "metadata": {},
   "outputs": [],
   "source": [
    "credit_card_cost = 3500"
   ]
  },
  {
   "cell_type": "code",
   "execution_count": 33,
   "metadata": {},
   "outputs": [],
   "source": [
    "client_payment = 2000"
   ]
  },
  {
   "cell_type": "code",
   "execution_count": 32,
   "metadata": {},
   "outputs": [],
   "source": [
    "credit_card_balance = credit_card_cost - client_payment"
   ]
  },
  {
   "cell_type": "code",
   "execution_count": 34,
   "metadata": {},
   "outputs": [],
   "source": [
    "saldo_impago_check = credit_card_balance > 0"
   ]
  },
  {
   "cell_type": "code",
   "execution_count": 35,
   "metadata": {},
   "outputs": [
    {
     "name": "stdout",
     "output_type": "stream",
     "text": [
      "True\n"
     ]
    }
   ],
   "source": [
    "print (saldo_impago_check)"
   ]
  },
  {
   "cell_type": "code",
   "execution_count": 36,
   "metadata": {},
   "outputs": [
    {
     "name": "stdout",
     "output_type": "stream",
     "text": [
      "Tiene saldo impago por  1500\n"
     ]
    }
   ],
   "source": [
    "if saldo_impago_check:\n",
    "    print (\"Tiene saldo impago por \", credit_card_balance)\n",
    "else:\n",
    "    print (\"No posee saldos\")"
   ]
  },
  {
   "cell_type": "code",
   "execution_count": 51,
   "metadata": {},
   "outputs": [],
   "source": [
    "client = [[\"Federico\", \"Tavarone\", \"federicotavarone_95@hotmail.com\"]]"
   ]
  },
  {
   "cell_type": "code",
   "execution_count": 54,
   "metadata": {},
   "outputs": [
    {
     "name": "stdout",
     "output_type": "stream",
     "text": [
      "Mandar mail a: federicotavarone_95@hotmail.com\n",
      "Estimado cliente Federico\n",
      "Le informamos que nuestro sistema de Home Banking esta en mantenimiento\n"
     ]
    }
   ],
   "source": [
    "for cliente in client:\n",
    "    print(\"Mandar mail a:\", cliente[2])\n",
    "    print(\"Estimado cliente\", cliente[0])\n",
    "    print(\"Le informamos que nuestro sistema de Home Banking esta en mantenimiento\")"
   ]
  },
  {
   "cell_type": "code",
   "execution_count": 4,
   "metadata": {},
   "outputs": [
    {
     "name": "stdout",
     "output_type": "stream",
     "text": [
      "Como es su nombre?federico\n",
      "Hola federico\n",
      "\n",
      "OPCIONES:\n",
      "1:reclamos\n",
      "2:consulta saldo\n",
      "3: abrir una cuenta\n",
      "No, Salir\n",
      "en que lo puedo ayudar?3\n",
      "\n",
      "para abrir una cuenta por favor llame al 0800\n",
      "\n",
      "OPCIONES:\n",
      "1:reclamos\n",
      "2:consulta saldo\n",
      "3: abrir una cuenta\n",
      "No, Salir\n",
      "en que lo puedo ayudar?4\n",
      "\n",
      "Lo siento, no lo entiendo\n",
      "\n",
      "OPCIONES:\n",
      "1:reclamos\n",
      "2:consulta saldo\n",
      "3: abrir una cuenta\n",
      "No, Salir\n",
      "en que lo puedo ayudar?0\n",
      "\n",
      "Lo siento, no lo entiendo\n",
      "\n",
      "OPCIONES:\n",
      "1:reclamos\n",
      "2:consulta saldo\n",
      "3: abrir una cuenta\n",
      "No, Salir\n",
      "en que lo puedo ayudar?carne\n",
      "\n",
      "Lo siento, no lo entiendo\n",
      "\n",
      "OPCIONES:\n",
      "1:reclamos\n",
      "2:consulta saldo\n",
      "3: abrir una cuenta\n",
      "No, Salir\n",
      "en que lo puedo ayudar?no\n",
      "\n",
      "Lo siento, no lo entiendo\n"
     ]
    }
   ],
   "source": [
    "nombre = input(\"Como es su nombre?\")\n",
    "\n",
    "respuesta = \"si\"\n",
    "\n",
    "print (\"Hola\", nombre)\n",
    "\n",
    "while respuesta.lower() != \"no\":\n",
    "    print ()\n",
    "    print (\"OPCIONES:\")\n",
    "    print (\"1:reclamos\")\n",
    "    print (\"2:consulta saldo\")\n",
    "    print (\"3: abrir una cuenta\")\n",
    "    print (\"No, Salir\")\n",
    "    \n",
    "    respuesta = input (\"en que lo puedo ayudar?\")\n",
    "   \n",
    "    if respuesta == \"1\":\n",
    "        print()\n",
    "        print(\"enseguida lo comunico con un asesor\")\n",
    "    elif respuesta == \"2\":\n",
    "        print ()\n",
    "        print(\"su saldo es $\", str(client_balance))\n",
    "    elif respuesta == \"3\":\n",
    "        print ()\n",
    "        print (\"para abrir una cuenta por favor llame al 0800\")\n",
    "    elif respuesta.lower == \"no\":\n",
    "        respuesta = \"no\"\n",
    "        print ()\n",
    "        print (\"Hasta pronto!\")\n",
    "    else: \n",
    "        print ()\n",
    "        print (\"Lo siento, no lo entiendo\")"
   ]
  },
  {
   "cell_type": "code",
   "execution_count": null,
   "metadata": {},
   "outputs": [],
   "source": []
  }
 ],
 "metadata": {
  "kernelspec": {
   "display_name": "Python 3",
   "language": "python",
   "name": "python3"
  },
  "language_info": {
   "codemirror_mode": {
    "name": "ipython",
    "version": 3
   },
   "file_extension": ".py",
   "mimetype": "text/x-python",
   "name": "python",
   "nbconvert_exporter": "python",
   "pygments_lexer": "ipython3",
   "version": "3.7.6"
  }
 },
 "nbformat": 4,
 "nbformat_minor": 4
}
