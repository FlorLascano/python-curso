{
 "cells": [
  {
   "cell_type": "markdown",
   "metadata": {},
   "source": [
    "## Requisitos minimos\n",
    "(Datos de cliente a utilizar: nombre, apellido, dni, mail)\n",
    "\n",
    "### 1. Crear una variable para guardar los datos del cliente en un diccionario. apellido del cliente.\n",
    "### 2. Crear una variable con el saldo en la Caja de Ahorro del cliente.\n",
    "### 3. Crear una variable con el total de los consumos de una de las tarjetas de credito del cliente.\n",
    "### 4. Crear una variable con el pago de la tarjeta de credito realizado por el cliente, y una con la resta de consumos menos pago.\n",
    "### 5. Crear una variable de tipo Booleana que valide si el cliente presenta saldos impagos en la tarjeta. Para ello asignar el resultado de evaluar si el total de consumos menos el pago realizado por el cliente es mayor a cero , a una variable con identificador saldo_impago_check.\n",
    "### 6. Usando una estructura condicional, validar si el cliente presenta saldos impagos y mandarle un mail informandole (usando print()).\n",
    "### 7. Crear una lista de clientes. Para ello crear una lista, donde cada elemento es a su vez una lista, conteniendo los datos de cliente.\n",
    "### 8. Usando una estructura de repeticion finita, enviar un mail a cada cliente, avisando que el sistema de homebanking esta en mantenimiento.\n",
    "### 9. Armar un ChatBot de atencion al cliente simple que realice lo siguiente:\n",
    "\n",
    "Cuando se loguea el cliente, preguntarle su nombre usando la funcion input() \n",
    "\n",
    "Saludarlo y preguntar \"En que lo puedo ayudar?\"\n",
    "\n",
    "Usando una estructura de repeticion infinita (tener en cuenta que necesitamos declarar antes de entrar a esta, una variable que va a ser la respuesta del cliente que vamos a evaluar), evaluar la respuesta numerica del cliente y mostrar los siguientes mensajes:\n",
    "\n",
    "1 = Reclamos: \"Enseguida lo comunico con un asesor\"\n",
    "\n",
    "2 = Consulta de saldo: \"El saldo en su Caja de Ahorro es $xxxx\"\n",
    "\n",
    "3 = Apertura de cuentas: \"Para abrir una cuenta llamar al 0800 12344567\"\n",
    "\n",
    "*Opcion invalida: \"Perdon, creo que no te entiendo\"\n",
    "\n",
    "Preguntar si necesita algo más, si escribe \"no\" o \"No\" o \"NO\", despedirse\n",
    "\n",
    "Usando las funciones help() y dir() mostrar al menos 2 funciones que se pueden aplicar sobre listas, 2 sobre diccionarios y 2 sobre tuplas; distintas a las que ya se vieron.*"
   ]
  },
  {
   "cell_type": "markdown",
   "metadata": {},
   "source": [
    "# Requisitos extras:\n",
    "**Usar comentarios en el código (no están explicados en esta libreta, debe buscar en la Clase 2 o investigar \"Comentarios en Python\" en internet).\n",
    "Describir cada uno (o en grupos) los pasos de Requisitos minimos, usando celdas de texto enriquecido.\n",
    "Agregar una imagen de internet que sea relevante.\n",
    "Mantener el orden y la prolijidad de su libreta, al igual que hacer uso de las buenas practicas de programacion presentadas en clase (convenciones de nombres para variables).**"
   ]
  },
  {
   "cell_type": "code",
   "execution_count": 1,
   "metadata": {},
   "outputs": [
    {
     "data": {
      "text/plain": [
       "{'nombre': 'Florencia',\n",
       " 'apellido': 'Lascano',\n",
       " 'dni': '31222890',\n",
       " 'mail': 'florencialascano@gmail.com'}"
      ]
     },
     "execution_count": 1,
     "metadata": {},
     "output_type": "execute_result"
    }
   ],
   "source": [
    "client = {\n",
    "    \"nombre\" : \"Florencia\",\n",
    "    \"apellido\" : \"Lascano\",\n",
    "    \"dni\" : \"31222890\",\n",
    "    \"mail\" : \"florencialascano@gmail.com\"\n",
    "}\n",
    "client"
   ]
  },
  {
   "cell_type": "code",
   "execution_count": 2,
   "metadata": {},
   "outputs": [
    {
     "name": "stdout",
     "output_type": "stream",
     "text": [
      "31222890\n"
     ]
    }
   ],
   "source": [
    "print(client[\"dni\"])"
   ]
  },
  {
   "cell_type": "code",
   "execution_count": 3,
   "metadata": {},
   "outputs": [],
   "source": [
    "saldo_caja = 10000"
   ]
  },
  {
   "cell_type": "markdown",
   "metadata": {},
   "source": [
    "![Image](data:image/jpeg;base64,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)"
   ]
  },
  {
   "cell_type": "code",
   "execution_count": 6,
   "metadata": {},
   "outputs": [],
   "source": [
    "consumo_tarjeta = 3000"
   ]
  },
  {
   "cell_type": "code",
   "execution_count": 8,
   "metadata": {},
   "outputs": [],
   "source": [
    "pago_tarjeta = 2000"
   ]
  },
  {
   "cell_type": "code",
   "execution_count": 15,
   "metadata": {},
   "outputs": [],
   "source": [
    "saldo_impago_check = ((consumo_tarjeta - pago_tarjeta) >= 0)"
   ]
  },
  {
   "cell_type": "code",
   "execution_count": 16,
   "metadata": {},
   "outputs": [],
   "source": [
    "saldo_pago_check = ((consumo_tarjeta - pago_tarjeta) <= 0)"
   ]
  },
  {
   "cell_type": "code",
   "execution_count": 17,
   "metadata": {},
   "outputs": [],
   "source": [
    "diferencia = (consumo_tarjeta - pago_tarjeta)"
   ]
  },
  {
   "cell_type": "code",
   "execution_count": 23,
   "metadata": {},
   "outputs": [],
   "source": [
    "#Guardando el mail en una variable\n",
    "client_send_mail = client.get (\"mail\")"
   ]
  },
  {
   "cell_type": "code",
   "execution_count": 27,
   "metadata": {},
   "outputs": [],
   "source": [
    "string_list_clients = [[\"Florencia\", \"Lascano\", \"31222890\", \"florencialascano@gmail.com\"],\n",
    "                       [\"Maria\", \"Fernandez\", \"32456789\", \"mariafernadez@gmail.com\"],\n",
    "                       [\"Lucia\", \"Gomez\", \"16999065\", \"luciagomez@gmail.com\"],\n",
    "                       [\"Laura\", \"Funez\", \"23436787\", \"laurafunez@gmail.com\"]]"
   ]
  },
  {
   "cell_type": "code",
   "execution_count": 33,
   "metadata": {},
   "outputs": [
    {
     "name": "stdout",
     "output_type": "stream",
     "text": [
      "Enviar mail a: florencialascano@gmail.com\n",
      "Usted tiene un saldo impago en su tarjeta de $ 1000\n",
      "Enviar mail a: mariafernadez@gmail.com\n",
      "Usted tiene un saldo impago en su tarjeta de $ 1000\n",
      "Enviar mail a: luciagomez@gmail.com\n",
      "Usted tiene un saldo impago en su tarjeta de $ 1000\n",
      "Enviar mail a: laurafunez@gmail.com\n",
      "Usted tiene un saldo impago en su tarjeta de $ 1000\n"
     ]
    }
   ],
   "source": [
    "if saldo_impago_check:\n",
    "    for client in string_list_clients: \n",
    "        print(\"Enviar mail a:\", client[3])\n",
    "        print(\"Usted tiene un saldo impago en su tarjeta de $\",diferencia)\n",
    "else:\n",
    "    for client in string_list_clients: \n",
    "        print(\"Enviar mail a:\", client[3])\n",
    "        print(\"Usted no posee saldos a pagar\")"
   ]
  },
  {
   "cell_type": "code",
   "execution_count": 35,
   "metadata": {},
   "outputs": [
    {
     "name": "stdout",
     "output_type": "stream",
     "text": [
      "Enviar mail a: florencialascano@gmail.com\n",
      "El sistema de homebanking esta en mantenimiento\n",
      "Enviar mail a: mariafernadez@gmail.com\n",
      "El sistema de homebanking esta en mantenimiento\n",
      "Enviar mail a: luciagomez@gmail.com\n",
      "El sistema de homebanking esta en mantenimiento\n",
      "Enviar mail a: laurafunez@gmail.com\n",
      "El sistema de homebanking esta en mantenimiento\n"
     ]
    }
   ],
   "source": [
    "for client in string_list_clients: \n",
    "        print(\"Enviar mail a:\", client[3])\n",
    "        print(\"El sistema de homebanking esta en mantenimiento\")"
   ]
  },
  {
   "cell_type": "code",
   "execution_count": null,
   "metadata": {},
   "outputs": [],
   "source": [
    "nombre = input (\"Como es su nombre?\")\n",
    "print(\"Hola\", nombre)"
   ]
  },
  {
   "cell_type": "code",
   "execution_count": null,
   "metadata": {},
   "outputs": [],
   "source": [
    "respuesta = \"si\""
   ]
  },
  {
   "cell_type": "code",
   "execution_count": null,
   "metadata": {},
   "outputs": [],
   "source": [
    "# La condicion de corte es que la respuesta sea DISTINTA de \"no\"\n",
    "# Osea, si la respuesta es distinta a \"no\", la condicion es TRUE y comienza el WHILE\n",
    "\n",
    "while respuesta.lower() ! =\"no\" \n",
    "    print(), \n",
    "    print(\"OPCIONES\"), \n",
    "    print(1:\"Reclamos\"), \n",
    "    print(2:\"Consultas\"), \n",
    "    print(3:\"Apertura de Cuenta\")\n",
    "    \n",
    "    respuesta = input(\"\\nEn que lo puedo ayudar? \")\n",
    "    if respuesta ==\"1\": \n",
    "        print()\n",
    "        print(\"Enseguida lo comunico con un asesor)\n",
    "    elif respuesta ==\"2\": \n",
    "        print()\n",
    "        print(\"El saldo en su Caja de Ahorro es $\", str (saldo_caja))\n",
    "    elif respuesta ==\"3\": \n",
    "        print()\n",
    "        print(\"Para abrir una cuenta llamar al 0800 12344567\")\n",
    "    else:\n",
    "        print()\n",
    "        print(\"Perdon, creo que no lo entiendo\")"
   ]
  },
  {
   "cell_type": "code",
   "execution_count": null,
   "metadata": {},
   "outputs": [],
   "source": [
    "if respuesta = \"no\"\n",
    "print(\"Muchas gracias, saludos!\")"
   ]
  }
 ],
 "metadata": {
  "kernelspec": {
   "display_name": "Python 3",
   "language": "python",
   "name": "python3"
  },
  "language_info": {
   "codemirror_mode": {
    "name": "ipython",
    "version": 3
   },
   "file_extension": ".py",
   "mimetype": "text/x-python",
   "name": "python",
   "nbconvert_exporter": "python",
   "pygments_lexer": "ipython3",
   "version": "3.7.6"
  }
 },
 "nbformat": 4,
 "nbformat_minor": 4
}
