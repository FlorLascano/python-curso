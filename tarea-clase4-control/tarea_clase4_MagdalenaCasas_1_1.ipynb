{
 "cells": [
  {
   "cell_type": "markdown",
   "metadata": {},
   "source": [
    "# Python para Finanzas y Ciencia de Datos\n",
    "## Clase 4: Tarea\n",
    "#### Magdalena Casas"
   ]
  },
  {
   "cell_type": "markdown",
   "metadata": {},
   "source": [
    "## Declaracion de Variables"
   ]
  },
  {
   "cell_type": "code",
   "execution_count": null,
   "metadata": {},
   "outputs": [],
   "source": [
    "\n",
    "#variables\n",
    "client_name= \"Maria Magdalena\" \n",
    "client_surname= \"Casas\"\n",
    "client_dni= \"Dni:36.354.348\"\n",
    "client_mail= \"maguicasas33@gamil.com\"\n"
   ]
  },
  {
   "cell_type": "markdown",
   "metadata": {},
   "source": [
    "## Diccionario"
   ]
  },
  {
   "cell_type": "code",
   "execution_count": null,
   "metadata": {},
   "outputs": [],
   "source": [
    "#diccionario\n",
    "\n",
    "my_client= {'nombre':client_name, \n",
    "          'apellido':client_surname,\n",
    "           'dni':client_dni,\n",
    "           'mail':client_mail}\n",
    "\n",
    "\n",
    "\n",
    "print(my_client['nombre'])\n",
    "print(my_client['apellido'])\n",
    "print(my_client['dni'])\n"
   ]
  },
  {
   "cell_type": "markdown",
   "metadata": {},
   "source": [
    "### Condicionales"
   ]
  },
  {
   "cell_type": "code",
   "execution_count": null,
   "metadata": {},
   "outputs": [],
   "source": [
    "\n",
    "#condicionales con pago parcial de la deuda\n",
    "\n",
    "saldo_Caja_de_ahorro=30000\n",
    "client_credit_card=\"Visa\", \"Naranja\"\n",
    "consumo_Visa=10000\n",
    "consumo_Naranja=0\n",
    "pago_Visa=1000\n",
    "pago_Naranja=0\n",
    "\n",
    "pago=(pago_Visa+ pago_Naranja)\n",
    "consumo=(consumo_Visa + consumo_Naranja)\n",
    "saldo= (saldo_Caja_de_ahorro - consumo)\n",
    "saldo_impago_check=(consumo - pago)\n",
    "\n",
    "\n",
    "if consumo_Visa == pago_Visa:\n",
    "    print(\"Pago completo realizado, su cuenta no presenta deudas\")\n",
    "else:\n",
    "    print(\"su cuenta presenta deudas, por favor ingresar a la app para mas informacion\")\n",
    "\n",
    "    \n",
    "if saldo > 0 :\n",
    "    print (\"su saldo actual es igua a $\", (saldo))\n",
    "    \n",
    "\n",
    "\n",
    "saldo_impago_check > 0\n",
    "    "
   ]
  },
  {
   "cell_type": "code",
   "execution_count": 2,
   "metadata": {},
   "outputs": [
    {
     "name": "stdout",
     "output_type": "stream",
     "text": [
      "Pago completo realizado, su cuenta no presenta deudas\n",
      "su saldo actual es igua a $ 20000\n"
     ]
    },
    {
     "data": {
      "text/plain": [
       "False"
      ]
     },
     "execution_count": 2,
     "metadata": {},
     "output_type": "execute_result"
    }
   ],
   "source": [
    "#condicional con pago total de la deuda\n",
    "\n",
    "saldo_Caja_de_ahorro=30000\n",
    "client_credit_card=\"Visa\", \"Naranja\"\n",
    "consumo_Visa=10000\n",
    "consumo_Naranja=0\n",
    "pago_Visa=10000\n",
    "pago_Naranja=0\n",
    "\n",
    "pago=(pago_Visa+ pago_Naranja)\n",
    "consumo=(consumo_Visa + consumo_Naranja)\n",
    "saldo= (saldo_Caja_de_ahorro - consumo)\n",
    "saldo_impago_check=(consumo - pago)\n",
    "\n",
    "\n",
    "if consumo_Visa == pago_Visa:\n",
    "    print(\"Pago completo realizado, su cuenta no presenta deudas\")\n",
    "else:\n",
    "    print(\"su cuenta presenta deudas, por favor ingresar a la app para mas informacion\")\n",
    "\n",
    "    \n",
    "if saldo > 0 :\n",
    "    print (\"su saldo actual es igua a $\", (saldo))\n",
    "    \n",
    "\n",
    "\n",
    "saldo_impago_check > 0\n",
    "    "
   ]
  },
  {
   "cell_type": "code",
   "execution_count": 3,
   "metadata": {},
   "outputs": [
    {
     "data": {
      "text/plain": [
       "True"
      ]
     },
     "execution_count": 3,
     "metadata": {},
     "output_type": "execute_result"
    }
   ],
   "source": [
    "#booleano para pago de deuda\n",
    "\n",
    "consumo_Visa == pago_Visa"
   ]
  },
  {
   "cell_type": "markdown",
   "metadata": {},
   "source": [
    "## Listas"
   ]
  },
  {
   "cell_type": "code",
   "execution_count": 1,
   "metadata": {
    "scrolled": true
   },
   "outputs": [
    {
     "name": "stdout",
     "output_type": "stream",
     "text": [
      "['Maria Magdalena Casas', 'Maria Angelica Casas', 'Solange Wirth', 'Ana Maria Villegas', 'Jorge Zinny', 'Carlos Carranza']\n"
     ]
    }
   ],
   "source": [
    "# Lista de clientes\n",
    "\n",
    "my_clients=[[\"Maria Magdalena Casas\", 36354348, \"maguicasas33@gmail.com\"],\n",
    "             [\"Maria Angelica Casas\",35483574, \"aquicasas@hotmail.com\"],\n",
    "             [\"Solange Wirth\", 25638475,\"solyw@gmail.com\"],\n",
    "             [\"Ana Maria Villegas\", 16506384, \"a.villegas@yahoo.com.ar\"],\n",
    "             [\"Jorge Zinny\", 10741982, \"zinny.j@gmail.com\"],\n",
    "             [\"Carlos Carranza\", 36211983, \"cacho92@gmail.com\"]]\n",
    "\n",
    "my_clients [0]\n",
    "my_clients[0][0]\n",
    "my_clients_names=[my_clients[0][0], my_clients[1][0], my_clients[2][0], my_clients[3][0], my_clients[4][0],my_clients[5][0]]\n",
    "print(my_clients_names)"
   ]
  },
  {
   "cell_type": "code",
   "execution_count": 2,
   "metadata": {},
   "outputs": [
    {
     "name": "stdout",
     "output_type": "stream",
     "text": [
      "Buen dia, Maria Magdalena Casas\n",
      "Buen dia, Maria Angelica Casas\n",
      "Buen dia, Solange Wirth\n",
      "Buen dia, Ana Maria Villegas\n",
      "Buen dia, Jorge Zinny\n",
      "Buen dia, Carlos Carranza\n"
     ]
    }
   ],
   "source": [
    "for clientes in my_clients_names:\n",
    "    print(\"Buen dia,\" \" \"+ clientes)\n",
    "    "
   ]
  },
  {
   "cell_type": "code",
   "execution_count": 3,
   "metadata": {},
   "outputs": [
    {
     "name": "stdout",
     "output_type": "stream",
     "text": [
      "['maguicasas33@gmail.com', 'aquicasas@hotmail.com', 'solyw@gmail.com', 'a.villegas@yahoo.com.ar', 'zinny.j@gmail.com', 'cacho92@gmail.com']\n"
     ]
    }
   ],
   "source": [
    "my_clients_email =[my_clients[0][2],\n",
    "                  my_clients[1][2],\n",
    "                  my_clients[2][2],\n",
    "                  my_clients[3][2],\n",
    "                  my_clients[4][2],\n",
    "                  my_clients[5][2]]\n",
    "print(my_clients_email)"
   ]
  },
  {
   "cell_type": "code",
   "execution_count": 4,
   "metadata": {},
   "outputs": [
    {
     "name": "stdout",
     "output_type": "stream",
     "text": [
      "mandar un mail a maguicasas33@gmail.com\n",
      "mandar un mail a aquicasas@hotmail.com\n",
      "mandar un mail a solyw@gmail.com\n",
      "mandar un mail a a.villegas@yahoo.com.ar\n",
      "mandar un mail a zinny.j@gmail.com\n",
      "mandar un mail a cacho92@gmail.com\n"
     ]
    }
   ],
   "source": [
    "for mail in my_clients_email:\n",
    "    print(\"mandar un mail a\" \" \"  + mail)\n",
    "    "
   ]
  },
  {
   "cell_type": "code",
   "execution_count": 5,
   "metadata": {},
   "outputs": [
    {
     "name": "stdout",
     "output_type": "stream",
     "text": [
      "Estimado Maria Magdalena Casas el sistema de homebankin esta en mantenimiento, por favor disculpe las molestias\n",
      "Estimado Maria Angelica Casas el sistema de homebankin esta en mantenimiento, por favor disculpe las molestias\n",
      "Estimado Solange Wirth el sistema de homebankin esta en mantenimiento, por favor disculpe las molestias\n",
      "Estimado Ana Maria Villegas el sistema de homebankin esta en mantenimiento, por favor disculpe las molestias\n",
      "Estimado Jorge Zinny el sistema de homebankin esta en mantenimiento, por favor disculpe las molestias\n",
      "Estimado Carlos Carranza el sistema de homebankin esta en mantenimiento, por favor disculpe las molestias\n"
     ]
    }
   ],
   "source": [
    "for clientes in my_clients_names:\n",
    "    print(\"Estimado\"\" \" + clientes + \" \" \"el sistema de homebankin esta en mantenimiento, por favor disculpe las molestias\")"
   ]
  },
  {
   "cell_type": "code",
   "execution_count": 6,
   "metadata": {},
   "outputs": [],
   "source": [
    "magui=[\"Maria Magdalena Casas\", \"maguicasas33@gmail.com\"]"
   ]
  },
  {
   "cell_type": "code",
   "execution_count": 7,
   "metadata": {},
   "outputs": [
    {
     "name": "stdout",
     "output_type": "stream",
     "text": [
      "Mandar mail a: maguicasas33@gmail.com\n",
      "Estimado cliente Maria Magdalena Casas\n",
      "Le informamos que nuestro sistema de Home Banking esta en mantenimiento\n",
      "Mandar mail a: maguicasas33@gmail.com\n",
      "Estimado cliente Maria Magdalena Casas\n",
      "Le informamos que nuestro sistema de Home Banking esta en mantenimiento\n"
     ]
    }
   ],
   "source": [
    "for cliente in magui:\n",
    "    print(\"Mandar mail a:\", magui[1])\n",
    "    print(\"Estimado cliente\", magui[0])\n",
    "    print(\"Le informamos que nuestro sistema de Home Banking esta en mantenimiento\")\n"
   ]
  },
  {
   "cell_type": "markdown",
   "metadata": {},
   "source": [
    "# Usando la lista de clientes, mandarle un mail a cada uno para informar cambios en el sistema de Home Banking"
   ]
  },
  {
   "cell_type": "code",
   "execution_count": 8,
   "metadata": {},
   "outputs": [
    {
     "name": "stdout",
     "output_type": "stream",
     "text": [
      "Mandar un mail a maguicasas33@gmail.com\n",
      "Estimado cliente Maria Magdalena Casas\n",
      "Nuestro sistema de Home Banking se encuentra en mantenimiento\n",
      "=============================================================\n",
      "Mandar un mail a aquicasas@hotmail.com\n",
      "Estimado cliente Maria Angelica Casas\n",
      "Nuestro sistema de Home Banking se encuentra en mantenimiento\n",
      "=============================================================\n",
      "Mandar un mail a solyw@gmail.com\n",
      "Estimado cliente Solange Wirth\n",
      "Nuestro sistema de Home Banking se encuentra en mantenimiento\n",
      "=============================================================\n",
      "Mandar un mail a a.villegas@yahoo.com.ar\n",
      "Estimado cliente Ana Maria Villegas\n",
      "Nuestro sistema de Home Banking se encuentra en mantenimiento\n",
      "=============================================================\n",
      "Mandar un mail a zinny.j@gmail.com\n",
      "Estimado cliente Jorge Zinny\n",
      "Nuestro sistema de Home Banking se encuentra en mantenimiento\n",
      "=============================================================\n",
      "Mandar un mail a cacho92@gmail.com\n",
      "Estimado cliente Carlos Carranza\n",
      "Nuestro sistema de Home Banking se encuentra en mantenimiento\n",
      "=============================================================\n"
     ]
    }
   ],
   "source": [
    "for client in my_clients:\n",
    "    print(\"Mandar un mail a\", client[2])\n",
    "    print(\"Estimado cliente\", client[0])\n",
    "    print(\"Nuestro sistema de Home Banking se encuentra en mantenimiento\")\n",
    "    print(\"=\"* 61)\n"
   ]
  },
  {
   "cell_type": "markdown",
   "metadata": {},
   "source": [
    "* El **FOR** de arriba va a repetir las instrucciones que especificamos (cuatro líneas `print()`).\n",
    "* La variable `client` que usamos para llevar el control, va a tomar como valor, cada uno de los elementos de la lista `my_clients` , que eneste caso, son otras listas. Entonces, sobre la variable `client` podemos llevar a cabo las operaciones que podemos en cualquier lista, una de ellas es acceder a sus elementos por indicie.\n",
    "* El indice 0 en tu programa es el nombre, el 1 es el DNI y el 2 es el mail."
   ]
  },
  {
   "cell_type": "markdown",
   "metadata": {},
   "source": [
    "# While "
   ]
  },
  {
   "cell_type": "markdown",
   "metadata": {},
   "source": [
    "Armar un ChatBot de atencion al cliente simple que realice lo siguiente:\n",
    "\n",
    "Cuando se loguea el cliente, preguntarle su nombre usando la funcion input() Cómo se usa la funcion input().\n",
    "Saludarlo y preguntar \"En que lo puedo ayudar?\"\n",
    "Usando una estructura de repeticion infinita (tener en cuenta que necesitamos delcarar antes de entrar a esta, una variable que va a ser la respuesta del cliente que vamos a evaluar), evaluar la respuesta numerica del cliente y mostrar los siguientes mensajes:\n",
    "1 = Reclamos: \"Enseguida lo comunico con un asesor\"\n",
    "2 = Consulta de saldo: \"El saldo en su Caja de Ahorro es $xxxx\"\n",
    "3 = Apertura de cuentas: \"Para abrir una cuenta llamar al 0800 12344567\"\n",
    "Opcion invalida: \"Perdon, creo que no te entiendo\"\n",
    "Preguntar si necesita algo más, si escribe \"no\" o \"No\" o \"NO\", despedirse\n",
    "Usando las funciones help() y dir() mostrar al menos 2 funciones que se pueden aplicar sobre listas, 2 sobre diccionarios y 2 sobre tuplas; distintas a las que ya se vieron.\n",
    "\n",
    "Requisitos extras"
   ]
  },
  {
   "cell_type": "code",
   "execution_count": null,
   "metadata": {},
   "outputs": [],
   "source": [
    "name=input(\"Por favor, escribe tu nombre completo\")\n",
    "print(\"Hola\" \" \"+ name)\n",
    "\n",
    "respuesta=\"si\"\n",
    "while respuesta.lower() != \"no\": \n",
    "    print()\n",
    "    print(\"OPCIONES:\")\n",
    "    print(\"1: Reclamos\")\n",
    "    print(\"2: Consulta de Saldo\")   \n",
    "    print(\"3: Apertura de cuenta\")   \n",
    "    print(\"4: Salir del menu\")\n",
    "    print(\"No: Salir\")\n",
    "    \n",
    "    respuesta = input(\"\\nEn que lo puedo ayudar? \")\n",
    "    \n",
    "    if respuesta== \"1\":\n",
    "        print(\"En seguida lo comunico con el area de Reclamos\")\n",
    "    elif respuesta == \"2\":\n",
    "        print(\"Su saldo en Caja de ahorro es $\", str(saldo))\n",
    "        \n",
    "    elif respuesta==\"3\":\n",
    "        print(\"Para abrir una cuenta llamar al 0800 1234456\")\n",
    "    elif respuesta==\"4\":\n",
    "        print(input(\"Necesita ayuda con algo mas\"))\n",
    "        \n",
    "    elif respuesta.lower() == \"no\":\n",
    "        respuesta = \"no\"\n",
    "        print(\"\")\n",
    "        print(\"Hasta pronto\", nombre)\n",
    "    else:\n",
    "        print()\n",
    "        print(\"Perdon, creo que no te entiendo\")\n",
    "\n"
   ]
  },
  {
   "cell_type": "code",
   "execution_count": null,
   "metadata": {},
   "outputs": [],
   "source": []
  },
  {
   "cell_type": "markdown",
   "metadata": {},
   "source": [
    "# Prueba con Locales"
   ]
  },
  {
   "cell_type": "code",
   "execution_count": 9,
   "metadata": {},
   "outputs": [],
   "source": [
    "# Lista de Locales\n",
    "\n",
    "locales_Reggia2=[[\"Loc 1\", True, \"ley nueva\", \"panaderia\",\"Federico\"],\n",
    "             [\"Loc 2\",True, \"ley vieja\", \"dietetica\", \"Melina\"],\n",
    "             [\"Loc 3\", False,\"   \",\"  \", \"   \" ],\n",
    "             [\"Loc 4\", True, \"ley nueva\", \"casa de deporte\", \"Agustin\"],\n",
    "             [\"Loc 5\", False,\"   \",\"  \", \"   \" ],\n",
    "             [\"Loc 6\", True, \"ley vieja\", \"casa de celulares\", \"Franco\"]]\n"
   ]
  },
  {
   "cell_type": "code",
   "execution_count": 10,
   "metadata": {},
   "outputs": [
    {
     "name": "stdout",
     "output_type": "stream",
     "text": [
      "El local esta alquilado\n"
     ]
    }
   ],
   "source": [
    "if locales_Reggia2[0][1] ==True:\n",
    "    print(\"El local esta alquilado\")\n",
    "    "
   ]
  },
  {
   "cell_type": "code",
   "execution_count": 11,
   "metadata": {},
   "outputs": [
    {
     "name": "stdout",
     "output_type": "stream",
     "text": [
      "Este local Loc 1 está alquilado\n",
      "Este local Loc 2 está alquilado\n",
      "este local Loc 3 esta libre, si desea alquilarlo comunicarse al 08001010102\n",
      "Este local Loc 4 está alquilado\n",
      "este local Loc 5 esta libre, si desea alquilarlo comunicarse al 08001010102\n",
      "Este local Loc 6 está alquilado\n"
     ]
    }
   ],
   "source": [
    "for locales in locales_Reggia2:\n",
    "    if locales [1] == True:\n",
    "        print(\"Este local\", locales[0],  \"está alquilado\")\n",
    "    else:\n",
    "        print(\"este local\", locales [0], \"esta libre, si desea alquilarlo comunicarse al 08001010102\")\n",
    "    "
   ]
  },
  {
   "cell_type": "code",
   "execution_count": 12,
   "metadata": {},
   "outputs": [
    {
     "name": "stdout",
     "output_type": "stream",
     "text": [
      "Por favor, recuerda que Loc 1 firmo contrato con la ley nueva de alquileres\n",
      "********************************************************************************\n",
      "********************************************************************************\n",
      "********************************************************************************\n",
      "Por favor, recuerda que Loc 4 firmo contrato con la ley nueva de alquileres\n",
      "********************************************************************************\n",
      "********************************************************************************\n",
      "********************************************************************************\n"
     ]
    }
   ],
   "source": [
    "for local in locales_Reggia2:\n",
    "    if local [1]==True and local [2]==\"ley nueva\":\n",
    "        print(\"Por favor, recuerda que\", local[0], \"firmo contrato con la ley nueva de alquileres\")\n",
    "            \n",
    "    print(\"********\" * 10)\n"
   ]
  },
  {
   "cell_type": "code",
   "execution_count": 13,
   "metadata": {},
   "outputs": [
    {
     "name": "stdout",
     "output_type": "stream",
     "text": [
      "[['Loc 1', True, 'ley nueva', 'panaderia', 'Federico'], ['Loc 2', True, 'ley vieja', 'dietetica', 'Melina'], ['Loc 3', True, 'ley nueva', 'Vinoteca', 'Macarena'], ['Loc 4', True, 'ley nueva', 'casa de deporte', 'Agustin'], ['Loc 5', False, '   ', '  ', '   '], ['Loc 6', True, 'ley vieja', 'casa de celulares', 'Franco']]\n"
     ]
    }
   ],
   "source": [
    "#Modificar la lista\n",
    "locales_Reggia2[2][1]=True\n",
    "locales_Reggia2[2][2]=\"ley nueva\"\n",
    "locales_Reggia2[2][3]=\"Vinoteca\"\n",
    "locales_Reggia2[2][4]=\"Macarena\"\n",
    "print(locales_Reggia2)\n",
    "    "
   ]
  },
  {
   "cell_type": "markdown",
   "metadata": {},
   "source": [
    "# ver por qué no aparece el corchete de la lista del loc 6"
   ]
  },
  {
   "cell_type": "code",
   "execution_count": 14,
   "metadata": {},
   "outputs": [
    {
     "name": "stdout",
     "output_type": "stream",
     "text": [
      "['Loc 1', True, 'ley nueva', 'panaderia', 'Federico']\n",
      "[['Loc 1', True, 'ley nueva', 'panaderia', 'Federico'], ['Loc 2', True, 'ley vieja', 'dietetica', 'Melina'], ['Loc 3', True, 'ley nueva', 'Vinoteca', 'Macarena'], ['Loc 4', True, 'ley nueva', 'casa de deporte', 'Agustin'], 'Loc 6', True, 'ley vieja', 'casa de celulares', 'Franco']\n"
     ]
    }
   ],
   "source": [
    "#indexar lista\n",
    "print(locales_Reggia2[0])\n",
    "\n",
    "locales_alquilados=locales_Reggia2[0:4] + locales_Reggia2[-1]\n",
    "\n",
    "print(locales_alquilados)"
   ]
  },
  {
   "cell_type": "markdown",
   "metadata": {},
   "source": [
    "# ver con fede por que se sale el corchete y no puedo borrar de la lista el true del local 6"
   ]
  },
  {
   "cell_type": "code",
   "execution_count": 133,
   "metadata": {},
   "outputs": [
    {
     "name": "stdout",
     "output_type": "stream",
     "text": [
      "[['Loc 1', 'ley nueva', 'panaderia', 'Federico'], ['Loc 2', 'ley vieja', 'dietetica', 'Melina'], ['Loc 3', 'ley nueva', 'Vinoteca', 'Macarena'], ['Loc 4', 'ley nueva', 'casa de deporte', 'Agustin'], 'Loc 6', True, 'ley vieja', 'casa de celulares', 'Franco']\n"
     ]
    }
   ],
   "source": [
    "#ver con Fede por que se borra el corchete del local 6- no me deja trabajar con la lista nueva\n",
    "\n",
    "del locales_alquilados[0][1]\n",
    "del locales_alquilados[1][1]\n",
    "del locales_alquilados[2][1]\n",
    "del locales_alquilados[3][1]\n",
    "\n",
    "print(locales_alquilados)"
   ]
  },
  {
   "cell_type": "code",
   "execution_count": 3,
   "metadata": {},
   "outputs": [],
   "source": [
    "\n",
    "locales_alquilados_Reggia2=[[\"Loc 1\", \"ley nueva\", \"panaderia\",\"Federico\"],\n",
    "             [\"Loc 2\", \"ley veija\", \"dietetica\", \"Melina\"],\n",
    "             [\"Loc 3\", \" ley nueva\",\"Vinoteca  \", \"Macarena\" ],\n",
    "             [\"Loc 4\",  \"ley nueva\", \"casa de deporte\", \"Agustin\"],\n",
    "             [\"Loc 6\",  \"ley veija\", \"casa de celulares\", \"Franco\"]]"
   ]
  },
  {
   "cell_type": "code",
   "execution_count": 4,
   "metadata": {},
   "outputs": [
    {
     "name": "stdout",
     "output_type": "stream",
     "text": [
      "[['Loc 1', 'ley nueva', 'panaderia', 'Federico'], ['Loc 2', 'ley veija', 'dietetica', 'Melina'], ['Loc 3', ' ley nueva', 'Vinoteca  ', 'Macarena'], ['Loc 4', 'ley nueva', 'casa de deporte', 'Agustin'], ['Loc 6', 'ley veija', 'casa de celulares', 'Franco']]\n"
     ]
    }
   ],
   "source": [
    "print(locales_alquilados_Reggia2)"
   ]
  },
  {
   "cell_type": "code",
   "execution_count": 5,
   "metadata": {},
   "outputs": [
    {
     "name": "stdout",
     "output_type": "stream",
     "text": [
      "Estimado Federico el alquiler esta sujeto a los DNU emitidos durante la pandemia\n",
      "El local Loc 1 Esta ubicado en el Reggia 2\n",
      "el local Loc 1 se dedica al rubro panaderia\n",
      "************************************************************************************************************************************************************************************************************************************************\n",
      "Estimado Melina el alquiler esta sujeto a los DNU emitidos durante la pandemia\n",
      "El local Loc 2 Esta ubicado en el Reggia 2\n",
      "el local Loc 2 se dedica al rubro dietetica\n",
      "************************************************************************************************************************************************************************************************************************************************\n",
      "Estimado Macarena el alquiler esta sujeto a los DNU emitidos durante la pandemia\n",
      "El local Loc 3 Esta ubicado en el Reggia 2\n",
      "el local Loc 3 se dedica al rubro Vinoteca  \n",
      "************************************************************************************************************************************************************************************************************************************************\n",
      "Estimado Agustin el alquiler esta sujeto a los DNU emitidos durante la pandemia\n",
      "El local Loc 4 Esta ubicado en el Reggia 2\n",
      "el local Loc 4 se dedica al rubro casa de deporte\n",
      "************************************************************************************************************************************************************************************************************************************************\n",
      "Estimado Franco el alquiler esta sujeto a los DNU emitidos durante la pandemia\n",
      "El local Loc 6 Esta ubicado en el Reggia 2\n",
      "el local Loc 6 se dedica al rubro casa de celulares\n",
      "************************************************************************************************************************************************************************************************************************************************\n"
     ]
    }
   ],
   "source": [
    "for local in locales_alquilados_Reggia2:\n",
    "    print(\"Estimado\", local[-1], \"el alquiler esta sujeto a los DNU emitidos durante la pandemia\")\n",
    "    \n",
    "    print(\"El local\", local[0], \"Esta ubicado en el Reggia 2\")\n",
    "\n",
    "    print(\"el local\", local[0] + \" \"\"se dedica al rubro\", local [2])\n",
    "    \n",
    "    print(\"********\" * 30)\n",
    "    "
   ]
  },
  {
   "cell_type": "markdown",
   "metadata": {},
   "source": [
    "Chatboot"
   ]
  },
  {
   "cell_type": "code",
   "execution_count": null,
   "metadata": {},
   "outputs": [],
   "source": [
    "locales_disponibles= \"Local 5\"\n",
    "rubro_locales= [\"Panaderia\",\"Dietetica\", \"Vinoteca\",\"Casa de deporte\", \"Venta de celulares y accesorios\"]\n"
   ]
  },
  {
   "cell_type": "code",
   "execution_count": null,
   "metadata": {},
   "outputs": [],
   "source": [
    "#variables\n",
    "name=input(\"Porfavor dime tu nombre\")\n",
    "mail=input(\"por favor escribe tu mail\")\n",
    "locales_disponibles= \"Local 5\"\n",
    "\n",
    "#listas\n",
    "rubro_locales= [\"Panaderia\",\"Dietetica\", \"Vinoteca\",\"Casa de deporte\", \"Venta de celulares y accesorios\"]\n",
    "\n",
    "#while\n",
    "\n",
    "respuesta=\"si\"\n",
    "\n",
    "print(\"Hola\", name)\n",
    "\n",
    "while respuesta != \"no\":\n",
    "    print (\"   \")\n",
    "    print(\"Gracias por comunicarte con nosotros, por favo, elige una opcion\")\n",
    "    print (\"   \")\n",
    "    print (\"OPCIONES\")\n",
    "    print (\"1: si deseas alquilar un local\")\n",
    "    print (\"2: si deseas saber los rubros de los locales del Edificio\")\n",
    "    print (\"3: si deseas pagar el alquiler\")\n",
    "    print (\"no: salir del menu\")\n",
    "\n",
    "    respuesta = input(\"\\nEn que lo puedo ayudar? \")\n",
    "\n",
    "    if respuesta == \"1\":\n",
    "        print(\"los locales disponibles en este momento son:\" +\" \" + locales_disponibles)\n",
    "\n",
    "    elif respuesta ==\"2\":\n",
    "        print(\"los rubros de los locales alquilados son:\"+ str(rubro_locales))\n",
    "\n",
    "    elif respuesta==\"3\":\n",
    "        print(\"El pago de alquiler se realiza del 1 al 10 de cada mes en la oficina o a traves de tranferencia bancaria\")\n",
    "\n",
    "    elif respuesta.lower ()==\"no\":\n",
    "         respuesta=\"no\"\n",
    "         print(\"gracias por comunicarte\")\n",
    "\n",
    "    else:\n",
    "         print(\"lo siento, no entiendo\")"
   ]
  },
  {
   "cell_type": "code",
   "execution_count": null,
   "metadata": {},
   "outputs": [],
   "source": []
  }
 ],
 "metadata": {
  "kernelspec": {
   "display_name": "Python 3",
   "language": "python",
   "name": "python3"
  },
  "language_info": {
   "codemirror_mode": {
    "name": "ipython",
    "version": 3
   },
   "file_extension": ".py",
   "mimetype": "text/x-python",
   "name": "python",
   "nbconvert_exporter": "python",
   "pygments_lexer": "ipython3",
   "version": "3.7.3"
  }
 },
 "nbformat": 4,
 "nbformat_minor": 4
}
