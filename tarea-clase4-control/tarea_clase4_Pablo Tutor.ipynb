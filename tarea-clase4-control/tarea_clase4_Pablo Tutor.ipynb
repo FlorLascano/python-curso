{
 "cells": [
  {
   "cell_type": "markdown",
   "metadata": {},
   "source": [
    "## PABLO TUTOR"
   ]
  },
  {
   "cell_type": "code",
   "execution_count": null,
   "metadata": {},
   "outputs": [],
   "source": [
    "customer_data = {\"nombre\": \"Lisandro\", \"apellido\": \"Luna\", \"dni\": 22350888, \"email\": \"lisandroluna@gmail.com\" }\n",
    "#variable que contiene datos de un cliente en un diccionario.\n"
   ]
  },
  {
   "cell_type": "code",
   "execution_count": null,
   "metadata": {},
   "outputs": [],
   "source": [
    "account_balance = 10000 # saldo en la caja de ahorro del cliente\n",
    "creditcard_expenses = 5000 # total de consumos de una tarjeta de crédito\n",
    "creditcard_payments = 2000 # pago de la tarjeta realizado por el cliente\n",
    "creditcard_balance = creditcard_expenses - creditcard_payments # saldo de la tarjeta\n"
   ]
  },
  {
   "cell_type": "code",
   "execution_count": 11,
   "metadata": {},
   "outputs": [
    {
     "name": "stdout",
     "output_type": "stream",
     "text": [
      "presenta un saldo impago por $ 3000\n"
     ]
    }
   ],
   "source": [
    "saldo_impago_check = creditcard_balance\n",
    "\n",
    "if saldo_impago_check > 0 :\n",
    "    print(\"presenta un saldo impago por $\", saldo_impago_check) \n",
    "else: \n",
    "    print(\"no presenta saldos impagos\")"
   ]
  },
  {
   "cell_type": "code",
   "execution_count": 3,
   "metadata": {},
   "outputs": [],
   "source": [
    "clients_list = [[\"Pedro Santarelli\", 21350885, \"pedrosantarelli@hotmail.com\"], [\"Julieta Marquez\", 16524735, \"jm@hotmail.com\"],[\"Lucas Moyano\", 23145879, \"lucasmoyano@gmail.com\"]]        "
   ]
  },
  {
   "cell_type": "code",
   "execution_count": 6,
   "metadata": {},
   "outputs": [
    {
     "name": "stdout",
     "output_type": "stream",
     "text": [
      "Enviar mail a: pedrosantarelli@hotmail.com\n",
      "Estimado Pedro Santarelli\n",
      "Lamentamos informarmarle que el sistema de homebanking se encuentra fuera de servicio\n",
      "Enviar mail a: jm@hotmail.com\n",
      "Estimado Julieta Marquez\n",
      "Lamentamos informarmarle que el sistema de homebanking se encuentra fuera de servicio\n",
      "Enviar mail a: lucasmoyano@gmail.com\n",
      "Estimado Lucas Moyano\n",
      "Lamentamos informarmarle que el sistema de homebanking se encuentra fuera de servicio\n"
     ]
    }
   ],
   "source": [
    "for client in clients_list:\n",
    "    print(\"Enviar mail a:\", client[2])\n",
    "    print(\"Estimado\", client[0])\n",
    "    print(\"Lamentamos informarmarle que el sistema de homebanking se encuentra fuera de servicio\")"
   ]
  },
  {
   "cell_type": "code",
   "execution_count": 4,
   "metadata": {},
   "outputs": [
    {
     "name": "stdout",
     "output_type": "stream",
     "text": [
      "Cual es su nombre?Jorge\n",
      "Bienvenido Jorge En que lo puedo ayudar?\n"
     ]
    }
   ],
   "source": [
    "nombre = input(\"Cual es su nombre?\")\n",
    "respuesta = \"si\"\n",
    "print(\"Bienvenido\", nombre, \"En que lo puedo ayudar?\")\n"
   ]
  },
  {
   "cell_type": "code",
   "execution_count": null,
   "metadata": {},
   "outputs": [
    {
     "name": "stdout",
     "output_type": "stream",
     "text": [
      "\n",
      "Opciones\n",
      "1: Reclamos\n",
      "2: Consulta de Saldo\n",
      "3: Apertura de Cuentas\n",
      "No: Salir\n"
     ]
    }
   ],
   "source": [
    "while respuesta.lower() !=\"no\":\n",
    "    print()\n",
    "    print(\"Opciones\")\n",
    "    print(\"1: Reclamos\")\n",
    "    print(\"2: Consulta de Saldo\")\n",
    "    print(\"3: Apertura de Cuentas\")\n",
    "    print(\"No: Salir\")\n",
    "    \n",
    "    respuesta = input( \"En que lo puedo ayudar?\")\n",
    "    \n",
    "    if respuesta == \"1\":\n",
    "        print()\n",
    "        print(\"Enseguida lo comunico con un asesor\")\n",
    "    elif respuesta == \"2\":\n",
    "        print()\n",
    "        print(\"Elsaldo en su caja de ahorro es de $\", str(caja_de_ahorro))\n",
    "    elif respuesta == \"3\":\n",
    "        print()\n",
    "        print(\"Para abrir una cuenta llamar al 0800 335332\")\n",
    "    elif respuesta ==\"no\":\n",
    "        print(\"Hasta luego\", nombre)\n",
    "    else:\n",
    "        print()\n",
    "        print(\"Perdón, creo que no lo entiendo\")"
   ]
  },
  {
   "cell_type": "markdown",
   "metadata": {},
   "source": [
    "En primer lugar se definió una variable: **customer data** conteniendo los datos del cliente en un diccionario. Luego se definieron las variables relativas a los datos de la cuenta **account_balance** y a la tarjeta de crédito: **creditcard_expenses, creditcard_payments y creditcard_balance**.\n",
    "\n",
    "Posteriormente se creó una variable para validar si el cliente presenta saldos impagos: **saldo_impago_check**, y en ese caso a través de una estructura condicional se le mandó un mail.\n",
    "\n",
    "Luego se creó una lista de clientes con sus datos y usando una **for in** se envió un mail informando que el sistema de homebanking se encontraba fuera de servicio.\n",
    "\n",
    "Finalmente se creó un **chatbot** de Atención al Cliente."
   ]
  },
  {
   "attachments": {
    "chatbot-espa%C3%B1ol.png": {
     "image/png": "[encoded data removed]"
    }
   },
   "cell_type": "markdown",
   "metadata": {},
   "source": [
    "![chatbot-espa%C3%B1ol.png](attachment:chatbot-espa%C3%B1ol.png)"
   ]
  }
 ],
 "metadata": {
  "kernelspec": {
   "display_name": "Python 3",
   "language": "python",
   "name": "python3"
  },
  "language_info": {
   "codemirror_mode": {
    "name": "ipython",
    "version": 3
   },
   "file_extension": ".py",
   "mimetype": "text/x-python",
   "name": "python",
   "nbconvert_exporter": "python",
   "pygments_lexer": "ipython3",
   "version": "3.7.6"
  }
 },
 "nbformat": 4,
 "nbformat_minor": 4
}
