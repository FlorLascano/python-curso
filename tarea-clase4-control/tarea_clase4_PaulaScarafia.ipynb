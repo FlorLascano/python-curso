{
 "cells": [
  {
   "cell_type": "markdown",
   "metadata": {},
   "source": [
    "### Tarea Clase 4"
   ]
  },
  {
   "cell_type": "markdown",
   "metadata": {},
   "source": [
    "##### Requisitos minimos\n",
    "\n",
    "(Datos de cliente a utilizar: nombre, apellido, dni, mail)\n",
    "\n",
    "1. Crear una variable para guardar los datos del cliente en un diccionario. apellido del cliente.\n",
    "2. Crear una variable con el saldo en la Caja de Ahorro del cliente.\n",
    "3. Crear una variable con el total de los consumos de una de las tarjetas de credito del cliente.\n",
    "4. Crear una variable con el pago de la tarjeta de credito realizado por el cliente, y una con la resta de consumos menos pago.\n",
    "5. Crear una variable de tipo Booleana que valide si el cliente presenta saldos impagos en la tarjeta. Para ello asignar el resultado de _evaluar si el total de consumos menos el pago realizado por el cliente es mayor a cero_ , a una variable con identificador `saldo_impago_check`.\n",
    "6. Usando una estructura condicional, validar si el cliente presenta saldos impagos y mandarle un mail informandole (usando `print()`).\n",
    "7. Crear una lista de clientes. Para ello crear una lista, donde cada elemento es a su vez una lista, conteniendo los datos de cliente.\n",
    "8. Usando una estructura de repeticion finita, enviar un mail a cada cliente, avisando que el sistema de homebanking esta en mantenimiento.\n",
    "9. Armar un ChatBot de atencion al cliente simple que realice lo siguiente:\n",
    "    - Cuando se loguea el cliente, preguntarle su nombre usando la funcion `input()` <a href=\"https://entrenamiento-python-basico.readthedocs.io/es/latest/leccion5/funciones_integradas.html#input\" target=\"_blank\">Cómo se usa la funcion input()</a>.\n",
    "    - Saludarlo y preguntar \"En que lo puedo ayudar?\"\n",
    "    - Usando una estructura de repeticion infinita (tener en cuenta que necesitamos delcarar antes de entrar a esta, una variable que va a ser la respuesta del cliente que vamos a evaluar), evaluar la respuesta numerica del cliente y mostrar los siguientes mensajes:\n",
    "        - 1 = Reclamos: \"Enseguida lo comunico con un asesor\"\n",
    "        - 2 = Consulta de saldo: \"El saldo en su Caja de Ahorro es $xxxx\"\n",
    "        - 3 = Apertura de cuentas: \"Para abrir una cuenta llamar al 0800 12344567\"\n",
    "        - Opcion invalida: \"Perdon, creo que no te entiendo\"\n",
    "    - Preguntar si necesita algo más, si escribe \"no\" o \"No\" o \"NO\", despedirse\n",
    "    \n",
    "10. Usando las funciones `help()` y `dir()` mostrar al menos 2 funciones que se pueden aplicar sobre listas, 2 sobre diccionarios y 2 sobre tuplas; distintas a las que ya se vieron.\n",
    "        \n",
    "\n",
    "##### Requisitos extras\n",
    "1. Usar comentarios en el código (no están explicados en esta libreta, debe buscar en la Clase 2 o investigar \"Comentarios en Python\" en internet).\n",
    "2. Describir cada uno (o en grupos) los pasos de ***Requisitos minimos***, usando celdas de texto enriquecido.\n",
    "3. Agregar una imagen de internet que sea relevante.\n",
    "4. Mantener el orden y la prolijidad de su libreta, al igual que hacer uso de las buenas practicas de programacion presentadas en clase (convenciones de nombres para variables)."
   ]
  },
  {
   "cell_type": "markdown",
   "metadata": {},
   "source": [
    "1. Crear una variable para guardar los datos del cliente en un diccionario"
   ]
  },
  {
   "cell_type": "code",
   "execution_count": 3,
   "metadata": {},
   "outputs": [
    {
     "data": {
      "text/plain": [
       "{'nombre': 'Paula',\n",
       " 'apellido': 'Scarafia',\n",
       " 'dni': 39620462,\n",
       " 'email': 'paularscarafia@gmail.com'}"
      ]
     },
     "execution_count": 3,
     "metadata": {},
     "output_type": "execute_result"
    }
   ],
   "source": [
    "#Creación del diccionario\n",
    "\n",
    "cliente = { 'nombre' : 'Paula', 'apellido' : 'Scarafia' , 'dni' : 39620462 , 'email' : 'paularscarafia@gmail.com'}\n",
    "cliente"
   ]
  },
  {
   "cell_type": "markdown",
   "metadata": {},
   "source": [
    "2. Crear una variable con el saldo en la Caja de Ahorro del cliente."
   ]
  },
  {
   "cell_type": "code",
   "execution_count": 4,
   "metadata": {},
   "outputs": [],
   "source": [
    "#Creación de la variable\n",
    "\n",
    "saldo_caja_ahorro = 10000"
   ]
  },
  {
   "cell_type": "markdown",
   "metadata": {},
   "source": [
    "3. Crear una variable con el total de los consumos de una de las tarjetas de credito del cliente."
   ]
  },
  {
   "cell_type": "code",
   "execution_count": 2,
   "metadata": {},
   "outputs": [],
   "source": [
    "consumos_tc = 7500"
   ]
  },
  {
   "cell_type": "markdown",
   "metadata": {},
   "source": [
    "4. Crear una variable con el pago de la tarjeta de credito realizado por el cliente, y una con la resta de consumos menos pago."
   ]
  },
  {
   "cell_type": "code",
   "execution_count": 6,
   "metadata": {},
   "outputs": [],
   "source": [
    "pago_tc = 2500\n",
    "saldo_impago = consumos_tc - pago_tc"
   ]
  },
  {
   "cell_type": "markdown",
   "metadata": {},
   "source": [
    "5. Crear una variable de tipo Booleana que valide si el cliente presenta saldos impagos en la tarjeta. Para ello asignar el resultado de evaluar si el total de consumos menos el pago realizado por el cliente es mayor a cero , a una variable con identificador saldo_impago_check."
   ]
  },
  {
   "cell_type": "code",
   "execution_count": 9,
   "metadata": {},
   "outputs": [
    {
     "data": {
      "text/plain": [
       "True"
      ]
     },
     "execution_count": 9,
     "metadata": {},
     "output_type": "execute_result"
    }
   ],
   "source": [
    "saldo_impago_check = (saldo_impago > 0)\n",
    "saldo_impago_check"
   ]
  },
  {
   "cell_type": "markdown",
   "metadata": {},
   "source": [
    "6. Usando una estructura condicional, validar si el cliente presenta saldos impagos y mandarle un mail informandole (usando print())."
   ]
  },
  {
   "cell_type": "code",
   "execution_count": 13,
   "metadata": {},
   "outputs": [
    {
     "name": "stdout",
     "output_type": "stream",
     "text": [
      "Estimado Cliente, presenta un saldo impago de $ 5000\n"
     ]
    }
   ],
   "source": [
    "if saldo_impago_check == True:\n",
    "    print ('Estimado Cliente, presenta un saldo impago de $ ' +str (saldo_impago))"
   ]
  },
  {
   "cell_type": "markdown",
   "metadata": {},
   "source": [
    "7. Crear una lista de clientes. Para ello crear una lista, donde cada elemento es a su vez una lista, conteniendo los datos de cliente."
   ]
  },
  {
   "cell_type": "code",
   "execution_count": 17,
   "metadata": {},
   "outputs": [
    {
     "data": {
      "text/plain": [
       "[['Paula', 'Scarafia', 39620462],\n",
       " ['Andrea', 'Lopez', 30444590],\n",
       " ['Julian', 'Arguello', 22632189]]"
      ]
     },
     "execution_count": 17,
     "metadata": {},
     "output_type": "execute_result"
    }
   ],
   "source": [
    "cliente_1 = ['Paula', 'Scarafia', 39620462]\n",
    "cliente_2 = ['Andrea' , 'Lopez', 30444590]\n",
    "cliente_3 = ['Julian' , 'Arguello', 22632189]\n",
    "lista_clientes = [cliente_1, cliente_2, cliente_3]\n",
    "lista_clientes"
   ]
  },
  {
   "cell_type": "markdown",
   "metadata": {},
   "source": [
    "8. Usando una estructura de repeticion finita, enviar un mail a cada cliente, avisando que el sistema de homebanking esta en mantenimiento."
   ]
  },
  {
   "cell_type": "code",
   "execution_count": 26,
   "metadata": {},
   "outputs": [
    {
     "name": "stdout",
     "output_type": "stream",
     "text": [
      "Estimado Cliente, el sistema de homebanikg se encuentra en mantenimiento\n",
      "Estimado Cliente, el sistema de homebanikg se encuentra en mantenimiento\n",
      "Estimado Cliente, el sistema de homebanikg se encuentra en mantenimiento\n"
     ]
    }
   ],
   "source": [
    "for cliente in lista_clientes:\n",
    "    print ('Estimado Cliente, el sistema de homebanikg se encuentra en mantenimiento')"
   ]
  },
  {
   "cell_type": "markdown",
   "metadata": {},
   "source": [
    "9. Armar un ChatBot de atencion al cliente simple que realice lo siguiente:\n",
    "\n",
    "Cuando se loguea el cliente, preguntarle su nombre usando la funcion input() Cómo se usa la funcion input().\n",
    "\n",
    "Saludarlo y preguntar \"En que lo puedo ayudar?\"\n",
    "\n",
    "Usando una estructura de repeticion infinita (tener en cuenta que necesitamos delcarar antes de entrar a esta, una variable que va a ser la respuesta del cliente que vamos a evaluar), evaluar la respuesta numerica del cliente y mostrar los siguientes mensajes:\n",
    "\n",
    "1 = Reclamos: \"Enseguida lo comunico con un asesor\"\n",
    "\n",
    "2 = Consulta de saldo: \"El saldo en su Caja de Ahorro es $xxxx\"\n",
    "\n",
    "3 = Apertura de cuentas: \"Para abrir una cuenta llamar al 0800 12344567\"\n",
    "\n",
    "Opcion invalida: \"Perdon, creo que no te entiendo\"\n",
    "\n",
    "Preguntar si necesita algo más, si escribe \"no\" o \"No\" o \"NO\", despedirse"
   ]
  },
  {
   "cell_type": "code",
   "execution_count": 3,
   "metadata": {},
   "outputs": [
    {
     "name": "stdin",
     "output_type": "stream",
     "text": [
      "Por favor ingrese su nombre Paula\n"
     ]
    },
    {
     "name": "stdout",
     "output_type": "stream",
     "text": [
      "Hola Paula\n",
      "\n",
      "OPCIONES:\n",
      "1: Reclamos\n",
      "2: Reclamos\n",
      "3: Reclamos\n",
      "No: Salir\n"
     ]
    },
    {
     "name": "stdin",
     "output_type": "stream",
     "text": [
      "\n",
      "En que lo puedo ayudar?  no\n"
     ]
    },
    {
     "name": "stdout",
     "output_type": "stream",
     "text": [
      "\n",
      "Hasta pronto Paula\n"
     ]
    }
   ],
   "source": [
    "nombre_cliente = input ('Por favor ingrese su nombre')\n",
    "print ('Hola', nombre_cliente)\n",
    "\n",
    "respuesta = 'si'\n",
    "\n",
    "while respuesta == 'si':\n",
    "    print()\n",
    "    print(\"OPCIONES:\")\n",
    "    print(\"1: Reclamos\")\n",
    "    print(\"2: Reclamos\")   \n",
    "    print(\"3: Reclamos\")   \n",
    "    print(\"No: Salir\")\n",
    "    \n",
    "    respuesta = input(\"\\nEn que lo puedo ayudar? \")\n",
    "    \n",
    "    if respuesta == \"1\":\n",
    "        print()\n",
    "        print(\"Enseguida lo comunico con un asesor\")\n",
    "    elif respuesta == \"2\":\n",
    "        print()\n",
    "        print( \"El saldo en su Caja de Ahorro es de $\", str(saldo_caja_ahorro))\n",
    "    elif respuesta == \"3\":\n",
    "        print()\n",
    "        print(\"Para abrir una cuenta llamar al 0800 12344567\")\n",
    "    elif respuesta == \"no\":\n",
    "        respuesta = \"no\"\n",
    "        print(\"\")\n",
    "        print(\"Hasta pronto\", nombre_cliente)\n",
    "    else:\n",
    "        print()\n",
    "        print(\"Perdon, creo que no te entiendo\")\n"
   ]
  },
  {
   "cell_type": "markdown",
   "metadata": {},
   "source": [
    "8. Usando las funciones help() y dir() mostrar al menos 2 funciones que se pueden aplicar sobre listas, 2 sobre diccionarios y 2 sobre tuplas; distintas a las que ya se vieron."
   ]
  },
  {
   "cell_type": "markdown",
   "metadata": {},
   "source": [
    "a) Funciones sobre ***listas***\n"
   ]
  },
  {
   "cell_type": "code",
   "execution_count": 6,
   "metadata": {},
   "outputs": [
    {
     "name": "stdout",
     "output_type": "stream",
     "text": [
      "[0, 1, 2, 3, 4, 5]\n"
     ]
    }
   ],
   "source": [
    "# Agregar un elemento en un lugar especifico\n",
    "\n",
    "list = [0,1,2,3,5]\n",
    "\n",
    "list.insert(4,4)\n",
    "\n",
    "print(list)"
   ]
  },
  {
   "cell_type": "code",
   "execution_count": 9,
   "metadata": {},
   "outputs": [
    {
     "name": "stdout",
     "output_type": "stream",
     "text": [
      "[0, 1, 2, 3, 4, 5, 6, 7, 8, 9, 10, 6, 7, 8, 9, 10]\n"
     ]
    }
   ],
   "source": [
    "# Concatenar lista\n",
    "\n",
    "list_2 = [6,7,8,9,10]\n",
    "\n",
    "list.extend(list_2)\n",
    "print (list)"
   ]
  },
  {
   "cell_type": "markdown",
   "metadata": {},
   "source": [
    "b) Funciones sobre ***tuplas***"
   ]
  },
  {
   "cell_type": "code",
   "execution_count": 11,
   "metadata": {},
   "outputs": [
    {
     "data": {
      "text/plain": [
       "True"
      ]
     },
     "execution_count": 11,
     "metadata": {},
     "output_type": "execute_result"
    }
   ],
   "source": [
    "# Chequear si un elemento esta en una tupla\n",
    "\n",
    "tuple =  (1,2,3)\n",
    "1 in tuple"
   ]
  },
  {
   "cell_type": "code",
   "execution_count": 15,
   "metadata": {},
   "outputs": [
    {
     "name": "stdout",
     "output_type": "stream",
     "text": [
      "1\n"
     ]
    }
   ],
   "source": [
    "# Pasar los elementos de una tupla a variables individuales\n",
    "a, b, c = tuple\n",
    "print(a)"
   ]
  },
  {
   "cell_type": "code",
   "execution_count": 16,
   "metadata": {},
   "outputs": [
    {
     "name": "stdout",
     "output_type": "stream",
     "text": [
      "2\n"
     ]
    }
   ],
   "source": [
    "print(b)"
   ]
  },
  {
   "cell_type": "markdown",
   "metadata": {},
   "source": [
    "c) Funciones sobre ***diccionarios***"
   ]
  },
  {
   "cell_type": "code",
   "execution_count": 26,
   "metadata": {},
   "outputs": [
    {
     "data": {
      "text/plain": [
       "{'uno': 1, 'dos': 2, 'tres': 3}"
      ]
     },
     "execution_count": 26,
     "metadata": {},
     "output_type": "execute_result"
    }
   ],
   "source": [
    "# Agregar elementos a un diccionario ya creado\n",
    "\n",
    "dicc = {'uno' : 1, 'dos' : 2}\n",
    "dicc[\"tres\"] = 3\n",
    "dicc"
   ]
  },
  {
   "cell_type": "code",
   "execution_count": 31,
   "metadata": {},
   "outputs": [
    {
     "data": {
      "text/plain": [
       "dict_values([1, 2, 3])"
      ]
     },
     "execution_count": 31,
     "metadata": {},
     "output_type": "execute_result"
    }
   ],
   "source": [
    "# Conocer por separado los elementos del diccionario\n",
    "\n",
    "dicc.keys()\n",
    "dicc.values()"
   ]
  }
 ],
 "metadata": {
  "kernelspec": {
   "display_name": "Python 3",
   "language": "python",
   "name": "python3"
  },
  "language_info": {
   "codemirror_mode": {
    "name": "ipython",
    "version": 3
   },
   "file_extension": ".py",
   "mimetype": "text/x-python",
   "name": "python",
   "nbconvert_exporter": "python",
   "pygments_lexer": "ipython3",
   "version": "3.8.5"
  }
 },
 "nbformat": 4,
 "nbformat_minor": 4
}
