{
 "cells": [
  {
   "cell_type": "markdown",
   "metadata": {},
   "source": [
    "# Acá debería aparecer un TITULO"
   ]
  },
  {
   "cell_type": "markdown",
   "metadata": {},
   "source": [
    "## este copete será de menor relevancia, pero estará en *ITALICA MAYUSCULA* y tambien en **negrita**"
   ]
  },
  {
   "cell_type": "code",
   "execution_count": null,
   "metadata": {},
   "outputs": [],
   "source": [
    "cliente1 = {\n",
    "    'nombre': 'Sebastian',\n",
    "    'apellido': 'Fumis',\n",
    "    'DNI': '22961117',\n",
    "    'ciudad': 'Santa Fe', \n",
    "    'email': 'sfumis@gmail.com'\n",
    "}\n",
    "cliente1"
   ]
  },
  {
   "cell_type": "code",
   "execution_count": null,
   "metadata": {},
   "outputs": [],
   "source": [
    "cliente2 = {\n",
    "    'nombre': 'Profe',\n",
    "    'apellido': 'Fede',\n",
    "    'DNI': '25961117', \n",
    "    'ciudad': 'Cordoba',\n",
    "    'email': 'profefede@gmail.com'\n",
    "}\n",
    "cliente2"
   ]
  },
  {
   "cell_type": "code",
   "execution_count": 3,
   "metadata": {},
   "outputs": [
    {
     "data": {
      "text/plain": [
       "[{'nombre': 'Sebastian',\n",
       "  'apellido': 'Fumis',\n",
       "  'DNI': '22961117',\n",
       "  'ciudad': 'Santa Fe',\n",
       "  'email': 'sfumis@gmail.com'},\n",
       " {'nombre': 'Profe',\n",
       "  'apellido': 'Fede',\n",
       "  'DNI': '25961117',\n",
       "  'ciudad': 'Cordoba',\n",
       "  'email': 'profefede@gmail.com'}]"
      ]
     },
     "execution_count": 3,
     "metadata": {},
     "output_type": "execute_result"
    }
   ],
   "source": [
    "conjunto_de_clientes = [cliente1, cliente2]\n",
    "conjunto_de_clientes"
   ]
  },
  {
   "cell_type": "code",
   "execution_count": 4,
   "metadata": {},
   "outputs": [],
   "source": [
    "saldo_de_Caja_Ahorro = 500"
   ]
  },
  {
   "cell_type": "code",
   "execution_count": 5,
   "metadata": {},
   "outputs": [],
   "source": [
    "Total_Consumos = 800"
   ]
  },
  {
   "cell_type": "code",
   "execution_count": 6,
   "metadata": {},
   "outputs": [],
   "source": [
    "Pagado_con_Tarjeta = 200"
   ]
  },
  {
   "cell_type": "code",
   "execution_count": 7,
   "metadata": {},
   "outputs": [
    {
     "name": "stdout",
     "output_type": "stream",
     "text": [
      "600\n"
     ]
    }
   ],
   "source": [
    "Resta = Total_Consumos - Pagado_con_Tarjeta\n",
    "print (Resta)"
   ]
  },
  {
   "cell_type": "code",
   "execution_count": 8,
   "metadata": {},
   "outputs": [
    {
     "name": "stdout",
     "output_type": "stream",
     "text": [
      "Tiene saldos impagos de Tarjeta\n",
      "Estimado cliente: sfumis@gmail.com\n",
      "le informamos que su saldo impago es: 600\n"
     ]
    }
   ],
   "source": [
    "if Resta > 0:\n",
    "    print (\"Tiene saldos impagos de Tarjeta\")\n",
    "    print (\"Estimado cliente:\", cliente1.get('email') )\n",
    "    print (\"le informamos que su saldo impago es:\", Resta)"
   ]
  },
  {
   "cell_type": "markdown",
   "metadata": {},
   "source": [
    "    Crear una variable de tipo Booleana que valide si el cliente presenta saldos impagos en la tarjeta. Para ello asignar el resultado de evaluar si el total de consumos menos el pago realizado por el cliente es mayor a cero , a una variable con identificador saldo_impago_check.\n",
    "\n",
    "    Usando una estructura condicional, validar si el cliente presenta saldos impagos y mandarle un mail informandole (usando print()).\n",
    "\n",
    "    Crear una lista de clientes. Para ello crear una lista, donde cada elemento es a su vez una lista, conteniendo los datos de cliente.\n",
    "\n",
    "    Usando una estructura de repeticion finita, enviar un mail a cada cliente, avisando que el sistema de homebanking esta en mantenimiento.\n",
    "\n",
    "    Armar un ChatBot de atencion al cliente simple que realice lo siguiente:\n",
    "        Cuando se loguea el cliente, preguntarle su nombre usando la funcion input() Cómo se usa la funcion input().\n",
    "        Saludarlo y preguntar \"En que lo puedo ayudar?\"\n",
    "        Usando una estructura de repeticion infinita (tener en cuenta que necesitamos delcarar antes de entrar a esta, una variable que va a ser la respuesta del cliente que vamos a evaluar), evaluar la respuesta numerica del cliente y mostrar los siguientes mensajes:\n",
    "            1 = Reclamos: \"Enseguida lo comunico con un asesor\"\n",
    "            2 = Consulta de saldo: \"El saldo en su Caja de Ahorro es $xxxx\"\n",
    "            3 = Apertura de cuentas: \"Para abrir una cuenta llamar al 0800 12344567\"\n",
    "            Opcion invalida: \"Perdon, creo que no te entiendo\"\n",
    "        Preguntar si necesita algo más, si escribe \"no\" o \"No\" o \"NO\", despedirse\n",
    "\n",
    "    Usando las funciones help() y dir() mostrar al menos 2 funciones que se pueden aplicar sobre listas, 2 sobre diccionarios y 2 sobre tuplas; distintas a las que ya se vieron.\n",
    "\n",
    "Requisitos extras\n",
    "\n",
    "    Usar comentarios en el código (no están explicados en esta libreta, debe buscar en la Clase 2 o investigar \"Comentarios en Python\" en internet).\n",
    "    Describir cada uno (o en grupos) los pasos de Requisitos minimos, usando celdas de texto enriquecido.\n",
    "    Agregar una imagen de internet que sea relevante.\n",
    "    Mantener el orden y la prolijidad de su libreta, al igual que hacer uso de las buenas practicas de programacion presentadas en clase (convenciones de nombres para variables).\n"
   ]
  },
  {
   "cell_type": "markdown",
   "metadata": {},
   "source": [
    "### Cuál es la diferencia entre saldo_impago_check y diferencia ?\n",
    "La diferencia puede ser de signo. El saldo impago es siempre que **Total de los consumos sea MAYOR al Pago** mientras que la diferenicia puede ser negativa cuando se haya pagado **MAS** que el total de los consumos y surja un saldo a favor del cliente.\n"
   ]
  },
  {
   "cell_type": "code",
   "execution_count": 9,
   "metadata": {},
   "outputs": [
    {
     "data": {
      "text/plain": [
       "[[{'nombre': 'Sebastian',\n",
       "   'apellido': 'Fumis',\n",
       "   'DNI': '22961117',\n",
       "   'ciudad': 'Santa Fe',\n",
       "   'email': 'sfumis@gmail.com'}],\n",
       " [{'nombre': 'Profe',\n",
       "   'apellido': 'Fede',\n",
       "   'DNI': '25961117',\n",
       "   'ciudad': 'Cordoba',\n",
       "   'email': 'profefede@gmail.com'}]]"
      ]
     },
     "execution_count": 9,
     "metadata": {},
     "output_type": "execute_result"
    }
   ],
   "source": [
    "lista_de_clientes = [[cliente1], [cliente2]]\n",
    "lista_de_clientes"
   ]
  },
  {
   "cell_type": "code",
   "execution_count": null,
   "metadata": {},
   "outputs": [],
   "source": [
    "nombre = input(\"Cómo se llama?\")\n",
    "\n",
    "respuesta = \"si\"\n",
    "\n",
    "print(\"Hola\", nombre)\n",
    "\n",
    "# La condicion de corte es que la respuesta sea DISTINTA de \"no\"\n",
    "# Osea, si la respuesta es distinta a \"no\", la condicion es TRUE y comienza el WHILE\n",
    "while respuesta.lower() != \"no\": \n",
    "    print()\n",
    "    print(\"OPCIONES:\")\n",
    "    print(\"1: Quiere atención personalizada\")\n",
    "    print(\"2: Reclamos\")   \n",
    "    print(\"3: Reclamos\")   \n",
    "    print(\"No: Salir\")\n",
    "    \n",
    "    respuesta = input(\"\\nEn que lo puedo ayudar? \")\n",
    "    \n",
    "    if respuesta == \"1\":\n",
    "        print()\n",
    "        print(\"Enseguida lo comunico con un asesor\")\n",
    "    elif respuesta == \"2\":\n",
    "        print()\n",
    "        print( \"El saldo en su Caja de Ahorro es de $\", str(Resta))\n",
    "    elif respuesta == \"3\":\n",
    "        print()\n",
    "        print(\"Para abrir una cuenta llamar al 0800 12344567\")\n",
    "    elif respuesta.lower() == \"no\":\n",
    "        respuesta = \"no\"\n",
    "        print(\"\")\n",
    "        print(\"Hasta pronto\", nombre)\n",
    "    else:\n",
    "        print()\n",
    "        print(\"Perdon, creo que no te entiendo\")"
   ]
  },
  {
   "cell_type": "code",
   "execution_count": null,
   "metadata": {},
   "outputs": [],
   "source": [
    "cliente3 = {\n",
    "    'nombre': 'Maria',\n",
    "    'apellido': 'Ottra',\n",
    "    'DNI': '25991117', \n",
    "    'ciudad': 'Salta',\n",
    "    'email': 'maria@gmail.com'\n",
    "}\n",
    "cliente3"
   ]
  },
  {
   "cell_type": "code",
   "execution_count": null,
   "metadata": {},
   "outputs": [],
   "source": [
    "lista_de_clientes.append(cliente3)\n",
    "lista_de_clientes"
   ]
  },
  {
   "cell_type": "code",
   "execution_count": null,
   "metadata": {},
   "outputs": [],
   "source": [
    "print ('Llegamos a un total de', len(lista_de_clientes), \"clientes....Felicitaciones al area comercial\" )"
   ]
  },
  {
   "cell_type": "code",
   "execution_count": null,
   "metadata": {},
   "outputs": [],
   "source": [
    "lista_de_clientes.item()"
   ]
  },
  {
   "cell_type": "code",
   "execution_count": null,
   "metadata": {},
   "outputs": [],
   "source": []
  }
 ],
 "metadata": {
  "kernelspec": {
   "display_name": "Python 3",
   "language": "python",
   "name": "python3"
  },
  "language_info": {
   "codemirror_mode": {
    "name": "ipython",
    "version": 3
   },
   "file_extension": ".py",
   "mimetype": "text/x-python",
   "name": "python",
   "nbconvert_exporter": "python",
   "pygments_lexer": "ipython3",
   "version": "3.7.6"
  }
 },
 "nbformat": 4,
 "nbformat_minor": 4
}
