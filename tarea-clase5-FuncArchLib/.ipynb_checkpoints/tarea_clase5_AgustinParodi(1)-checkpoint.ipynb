{
 "cells": [
  {
   "cell_type": "markdown",
   "metadata": {},
   "source": [
    "# Home Banking - Clientes\n",
    "### Parodi, Horacio Agustín     ∣      haparodi833@gmail.com\n",
    "\n",
    "<img src=\"https://www.thebalance.com/thmb/Do7EJpfAbeN05wH0qNXa3fDYkBM=/2667x2000/smart/filters:no_upscale()/check-your-bank-balance-online-315469-FInal-65f751f553e34e7cb1852e957d917745.png\" width=\"300\" height=\"600\">"
   ]
  },
  {
   "cell_type": "code",
   "execution_count": 1,
   "metadata": {},
   "outputs": [],
   "source": [
    "client = {\n",
    "    'nombre' : 'Agustin', \n",
    "    'apellido' : 'Parodi',\n",
    "    'tipo de doc' : 'DNI',\n",
    "    'número de doc' : '34455935',\n",
    "    'mail' : 'haparodi833@gmail.com'\n",
    "}"
   ]
  },
  {
   "cell_type": "code",
   "execution_count": 3,
   "metadata": {},
   "outputs": [],
   "source": [
    "def welcome():\n",
    "    print(\"Bienvenido \" + client.get('nombre'))"
   ]
  },
  {
   "cell_type": "code",
   "execution_count": 4,
   "metadata": {},
   "outputs": [
    {
     "name": "stdout",
     "output_type": "stream",
     "text": [
      "Bienvenido Agustin\n"
     ]
    }
   ],
   "source": [
    "welcome()"
   ]
  },
  {
   "cell_type": "code",
   "execution_count": 5,
   "metadata": {},
   "outputs": [],
   "source": [
    "def balance(creditcard_balance):\n",
    "    creditcard_unpaid = creditcard_balance - creditcard_payment\n",
    "    return creditcard_unpaid"
   ]
  },
  {
   "cell_type": "code",
   "execution_count": 15,
   "metadata": {},
   "outputs": [],
   "source": [
    "creditcard_balance = 150\n",
    "creditcard_payment = 150"
   ]
  },
  {
   "cell_type": "code",
   "execution_count": 16,
   "metadata": {},
   "outputs": [],
   "source": [
    "status_account = balance(creditcard_balance)"
   ]
  },
  {
   "cell_type": "code",
   "execution_count": 17,
   "metadata": {},
   "outputs": [
    {
     "data": {
      "text/plain": [
       "0"
      ]
     },
     "execution_count": 17,
     "metadata": {},
     "output_type": "execute_result"
    }
   ],
   "source": [
    "status_account"
   ]
  },
  {
   "cell_type": "code",
   "execution_count": 18,
   "metadata": {},
   "outputs": [],
   "source": [
    "def send_mail(status_account):\n",
    "    if status_account > 0:\n",
    "        print(\"Usted tiene un saldo impago de \" + str(status_account))\n",
    "    else: \n",
    "        print(\"Usted no registra saldo pendiente a pagar\")"
   ]
  },
  {
   "cell_type": "code",
   "execution_count": 19,
   "metadata": {},
   "outputs": [
    {
     "name": "stdout",
     "output_type": "stream",
     "text": [
      "Usted no registra saldo pendiente a pagar\n"
     ]
    }
   ],
   "source": [
    "send_mail(status_account)"
   ]
  },
  {
   "cell_type": "code",
   "execution_count": 20,
   "metadata": {},
   "outputs": [],
   "source": [
    "import datetime as dt"
   ]
  },
  {
   "cell_type": "code",
   "execution_count": 21,
   "metadata": {},
   "outputs": [
    {
     "name": "stdout",
     "output_type": "stream",
     "text": [
      "2020-10-07\n",
      "2020-11-01\n"
     ]
    }
   ],
   "source": [
    "date_today = dt.date.today()\n",
    "date_expiration = dt.date(2020, 11, 1)\n",
    "print (date_today)\n",
    "print (date_expiration)"
   ]
  },
  {
   "cell_type": "code",
   "execution_count": 22,
   "metadata": {},
   "outputs": [
    {
     "name": "stdout",
     "output_type": "stream",
     "text": [
      "Agustin En el día de de la fecha 2020-10-07 no registra saldos adeudados\n"
     ]
    }
   ],
   "source": [
    "def status_mail (status_account, date_today, date_expiration):\n",
    "    if status_account > 0:\n",
    "        print(client.get('nombre') + \" En el día de la fecha \" + str(date_today))\n",
    "        print(client.get('nombre') + \" Registra un saldo impago de $\" + str(status_account))\n",
    "        print(client.get('nombre') + \" Recuerde que tiene hasta el \" + str(date_expiration) + \" para realizar el pago, sino se aplicarán intereses\")\n",
    "    elif status_account < 0:\n",
    "        print(client.get('nombre') + \" Registra un saldo un saldo a favor de $\" + str(status_account))\n",
    "    else:\n",
    "        print(client.get('nombre') + \" En el día de de la fecha \" + str(date_today) + \" no registra saldos adeudados\")\n",
    "status_mail (status_account, date_today, date_expiration)"
   ]
  },
  {
   "cell_type": "markdown",
   "metadata": {},
   "source": [
    "### TOP de librerias Python 🥇\n",
    "\n",
    "\n",
    "| Nombre Libreria | Dirección de enlace de libreria |\n",
    "| :---: | :---: |\n",
    "| **`Tensorflow`** | https://www.tensorflow.org/resources/libraries-extensions |\n",
    "| **`Scikit-Learn`** | https://scikit-learn.org/stable/index.html |\n",
    "| **`Numpy`** | https://numpy.org/ |\n",
    "| **`Keras`** | https://keras.io/ |\n",
    "| **`PyTorch`** | https://pytorch.org/ |\n",
    "\n"
   ]
  },
  {
   "cell_type": "code",
   "execution_count": null,
   "metadata": {},
   "outputs": [],
   "source": []
  }
 ],
 "metadata": {
  "kernelspec": {
   "display_name": "Python 3",
   "language": "python",
   "name": "python3"
  },
  "language_info": {
   "codemirror_mode": {
    "name": "ipython",
    "version": 3
   },
   "file_extension": ".py",
   "mimetype": "text/x-python",
   "name": "python",
   "nbconvert_exporter": "python",
   "pygments_lexer": "ipython3",
   "version": "3.8.3"
  }
 },
 "nbformat": 4,
 "nbformat_minor": 4
}
