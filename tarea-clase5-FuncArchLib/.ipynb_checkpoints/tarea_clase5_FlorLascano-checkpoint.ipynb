{
 "cells": [
  {
   "cell_type": "markdown",
   "metadata": {},
   "source": [
    "# Tarea Clase 5:\n",
    "\n",
    "\n",
    "## Consigna\n",
    "Para mejorar la atencion al cliente y la experiencia de homebanking, nos encargaron agregar nuevas funcionalidades al sistema que desarrollamos anteriormente.\n",
    "\n",
    "![Image](https://www.voxpopuli.net.ar/files/image/67/67684/5f0e1d5352c45_419_283!.jpg?s=f4dc46e6718dac911f2c96596af1678c&d=1594760644)\n",
    "\n",
    "## Requisitos minimos\n",
    "(Datos de cliente a utilizar: nombre, apellido, dni, mail)\n",
    "\n",
    "1. Definir y utilizar una función que a apartir de los datos del cliente, muestre un mensaje de bienvenida a la cuenta de homebanking.\n",
    "2. Definir y utilizar una función que reciba como parámetros el saldo a pagar de tarjeta de credito del cliente y el pago realizado por el cliente; y calcule el estado de su cuenta y devuelva ese valor. Guardar ese valor en una variable llamada estado_de_cuenta.\n",
    "3. Definir y utilizar una funcion que reciba como parámetro estado_de_cuenta y si existe un saldo impago, mande un mail al cliente (usando print()) informándole.\n",
    "4. Importar la librería datetime y crear dos variables que sean fecha_de_hoy y fecha_vencimiento usando los objetos y funciones de la librería. La segunda representa la fecha en la que vence el resumen de la tarjeta antes de que se apliquen intereses por refinanciación.\n",
    "5. Definir y utilizar una función que reciba como parámetros el estado de cuenta y las dos fechas.\n",
    "- Si hay un saldo impago, mostrar un mensaje informándo el monto, la fecha de hoy, y avisar cuándo vence el resumen.\n",
    "- Si no hay saldo impago, mostrar un mensaje apropiado.\n",
    "6. Investigar qué librerías de Python son las más usadas para Ciencia de Datos y Finanzas, y armar una lista con nombres y páginas web. (En una celda de texto enriquecido, no código).\n",
    "\n",
    "### Requisitos extras\n",
    "Usar comentarios en el código.\n",
    "Describir cada uno (o en grupos) los pasos de Requisitos minimos, usando celdas de texto enriquecido.\n",
    "Agregar una imagen de internet que sea relevante.\n",
    "Mantener el orden y la prolijidad de su libreta, al igual que hacer uso de las buenas practicas de programacion presentadas en clase (convenciones de nombres para variables)."
   ]
  },
  {
   "cell_type": "code",
   "execution_count": 1,
   "metadata": {},
   "outputs": [
    {
     "data": {
      "text/plain": [
       "{'nombre': 'Flor', 'mail': 'florlas@gmail.com'}"
      ]
     },
     "execution_count": 1,
     "metadata": {},
     "output_type": "execute_result"
    }
   ],
   "source": [
    "cliente = {\n",
    "    'nombre': 'Flor',\n",
    "    'mail': 'florlas@gmail.com'\n",
    "}\n",
    "cliente"
   ]
  },
  {
   "cell_type": "code",
   "execution_count": 2,
   "metadata": {},
   "outputs": [],
   "source": [
    "def saludo_nombre(cliente):\n",
    "    print(\"Bienvenido \" + cliente.get('nombre'))\n",
    "    print(\"En que puedo ayudarte?\")"
   ]
  },
  {
   "cell_type": "code",
   "execution_count": 3,
   "metadata": {},
   "outputs": [],
   "source": [
    "def saldo(resumen,pago):\n",
    "    impago = resumen - pago\n",
    "    return impago"
   ]
  },
  {
   "cell_type": "code",
   "execution_count": 4,
   "metadata": {},
   "outputs": [],
   "source": [
    "resumen=30000\n",
    "pago=10000"
   ]
  },
  {
   "cell_type": "code",
   "execution_count": 5,
   "metadata": {},
   "outputs": [],
   "source": [
    "estado_de_cuenta = saldo(resumen,pago)"
   ]
  },
  {
   "cell_type": "code",
   "execution_count": null,
   "metadata": {},
   "outputs": [],
   "source": []
  }
 ],
 "metadata": {
  "kernelspec": {
   "display_name": "Python 3",
   "language": "python",
   "name": "python3"
  },
  "language_info": {
   "codemirror_mode": {
    "name": "ipython",
    "version": 3
   },
   "file_extension": ".py",
   "mimetype": "text/x-python",
   "name": "python",
   "nbconvert_exporter": "python",
   "pygments_lexer": "ipython3",
   "version": "3.8.3"
  }
 },
 "nbformat": 4,
 "nbformat_minor": 4
}
