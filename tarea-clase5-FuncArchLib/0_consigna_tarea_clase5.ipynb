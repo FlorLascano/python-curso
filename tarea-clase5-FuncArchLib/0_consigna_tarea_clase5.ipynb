{
 "cells": [
  {
   "cell_type": "markdown",
   "metadata": {},
   "source": [
    "<img src=\"../assets/socalo-ICDA.png\">"
   ]
  },
  {
   "cell_type": "markdown",
   "metadata": {},
   "source": [
    "# Python para Finazas y Ciencia de Datos\n",
    "\n",
    "## Clase 5: Repaso y Tarea\n",
    "\n",
    "### Funciones\n",
    "\n",
    "Una **función** es un bloque de código con un nombre asociado, que recibe cero o más argumentos como entrada, sigue una secuencia de sentencias, las cuales ejecutan una operación deseada y devuelve un valor y/o realiza una tarea, este bloque puede ser llamado cuando se necesite."
   ]
  },
  {
   "cell_type": "code",
   "execution_count": 1,
   "metadata": {},
   "outputs": [],
   "source": [
    "def saludar():\n",
    "    print(\"Hola! Que bueno verlos de nuevo!\")\n",
    "    print(\"Arrancamos con la tarea de la ultima clase?\")"
   ]
  },
  {
   "cell_type": "code",
   "execution_count": 2,
   "metadata": {},
   "outputs": [
    {
     "name": "stdout",
     "output_type": "stream",
     "text": [
      "Hola! Que bueno verlos de nuevo!\n",
      "Arrancamos con la tarea de la ultima clase?\n"
     ]
    }
   ],
   "source": [
    "saludar()"
   ]
  },
  {
   "cell_type": "code",
   "execution_count": 3,
   "metadata": {},
   "outputs": [],
   "source": [
    "def saludar_por_nombre(name):\n",
    "    print(\"Hola \" + name + \"!\")\n",
    "    print(\"Cómo estas?\")"
   ]
  },
  {
   "cell_type": "code",
   "execution_count": 4,
   "metadata": {},
   "outputs": [
    {
     "name": "stdout",
     "output_type": "stream",
     "text": [
      "Cómo te llamas? Federico\n",
      "Hola Federico!\n",
      "Cómo estas?\n"
     ]
    }
   ],
   "source": [
    "nombre = input(\"Cómo te llamas? \")\n",
    "\n",
    "saludar_por_nombre(nombre)"
   ]
  },
  {
   "cell_type": "code",
   "execution_count": 9,
   "metadata": {},
   "outputs": [],
   "source": [
    "def multiplicar(a, b, c):\n",
    "    resultado = a * b * c\n",
    "    print(\"El resultado de la multiplicación es:\")\n",
    "    print(f\"{a} * {b} * {c} = {resultado}\")"
   ]
  },
  {
   "cell_type": "code",
   "execution_count": 10,
   "metadata": {},
   "outputs": [
    {
     "name": "stdout",
     "output_type": "stream",
     "text": [
      "El resultado de la multiplicación es:\n",
      "10 * 15 * 20 = 3000\n"
     ]
    }
   ],
   "source": [
    "multiplicar(10, 15, 20)"
   ]
  },
  {
   "cell_type": "markdown",
   "metadata": {},
   "source": [
    "Recordemos que las funciones también pueden **devolver** un valor para ser usado en otras isntrucciones."
   ]
  },
  {
   "cell_type": "code",
   "execution_count": 11,
   "metadata": {},
   "outputs": [],
   "source": [
    "def sumar(a, b, c):\n",
    "    resultado = a + b + c\n",
    "    return resultado"
   ]
  },
  {
   "cell_type": "code",
   "execution_count": 13,
   "metadata": {},
   "outputs": [
    {
     "name": "stdout",
     "output_type": "stream",
     "text": [
      "La suma es: 44\n"
     ]
    }
   ],
   "source": [
    "a = 14\n",
    "b = 10 \n",
    "c = 20\n",
    "\n",
    "suma = sumar(a, b, c)\n",
    "\n",
    "print(\"La suma es: \" + str(suma))"
   ]
  },
  {
   "cell_type": "markdown",
   "metadata": {},
   "source": [
    "Podemos especificar valores predeterminados, para usarlos si el usuario no espoecifica algo distinto."
   ]
  },
  {
   "cell_type": "code",
   "execution_count": 14,
   "metadata": {},
   "outputs": [],
   "source": [
    "def potencia(base, exponente=2):\n",
    "    # Si no se especfica un exponente distinto a 2, devuelve el resultado de elevar un numero al cuadrado\n",
    "    return base ** exponente"
   ]
  },
  {
   "cell_type": "code",
   "execution_count": 15,
   "metadata": {},
   "outputs": [
    {
     "name": "stdout",
     "output_type": "stream",
     "text": [
      "Resultado sin especificar = 100\n",
      "Resultado de elevar al cubo = 1000\n"
     ]
    }
   ],
   "source": [
    "print(\"Resultado sin especificar = \" + str(potencia(10)))\n",
    "print(\"Resultado de elevar al cubo = \" + str(potencia(10, 3)))"
   ]
  },
  {
   "cell_type": "markdown",
   "metadata": {},
   "source": [
    "Los parámetros y el valor de retorno que pasamos y que reibimos de las funciones, pueden ser **cualquier objeto** disponible en Python, siempre y cuando lo manipulemos correctamente."
   ]
  },
  {
   "cell_type": "code",
   "execution_count": 16,
   "metadata": {},
   "outputs": [],
   "source": [
    "# Funcion para imprimir una lista \n",
    "def mostrar_lista(lista_parametro):\n",
    "    for elemento in lista_parametro:\n",
    "        print(elemento)"
   ]
  },
  {
   "cell_type": "code",
   "execution_count": 17,
   "metadata": {},
   "outputs": [],
   "source": [
    "string_list = [\"P\", \"Y\", \"T\", \"H\", \"O\", \"N\"]"
   ]
  },
  {
   "cell_type": "code",
   "execution_count": 18,
   "metadata": {},
   "outputs": [
    {
     "name": "stdout",
     "output_type": "stream",
     "text": [
      "P\n",
      "Y\n",
      "T\n",
      "H\n",
      "O\n",
      "N\n"
     ]
    }
   ],
   "source": [
    "mostrar_lista(string_list)"
   ]
  },
  {
   "cell_type": "markdown",
   "metadata": {},
   "source": [
    "<a href=\"https://j2logo.com/python/tutorial/funciones-en-python/\" target=\"_blank\">Tutorial en español</a>"
   ]
  },
  {
   "cell_type": "markdown",
   "metadata": {},
   "source": [
    "### Archivos\n",
    "\n",
    "Para lograr que nuestra información **persista** en nuestras maquinas cuando dejemos de ejecutar nuestros programas, debemos manipular archivos. \n",
    "Python nos permite hacer esto con la funcion `open()`, especificando como _primer parámetro_ el nombre del archivo que tenemos que leer, y como _segundo parámetro_ el **modo**.\n",
    "\n",
    "Los modos son:\n",
    "\n",
    "* Si lo abrimos para **leer** datos el modo es `r`.\n",
    "* Si lo abrimos para **escribir** datos (y sobreescribir, osea borrar lo que está y poner algo nuevo) el modo es `w`.\n",
    "* Si lo abrimos para **agregar** datos (que se agregan al final en nuevas líneas) el modo es `a`.\n",
    "\n",
    "**IMPORTANTE: Tienen que tener el archivo `saludo.txt` en la misma carpeta que la notebook para que funcione.**"
   ]
  },
  {
   "cell_type": "code",
   "execution_count": 22,
   "metadata": {},
   "outputs": [
    {
     "name": "stdout",
     "output_type": "stream",
     "text": [
      "Hola!\n",
      "\n",
      "Este es un archivo de texto que estamos leyendo\n",
      "\n",
      "gracias a las funciones para manipular archivos \n",
      "\n",
      "que nos provee Python.\n",
      "\n",
      "Es muy interesante aprender a manejar archivos\n",
      "\n",
      "porque nos abre nuevas oportunidades para poder\n",
      "\n",
      "crear soluciones para nuestros proyectos.\n",
      "\n"
     ]
    }
   ],
   "source": [
    "with open(\"saludo.txt\", 'r') as reader:\n",
    "    for line in reader.readlines():\n",
    "        print(line)"
   ]
  },
  {
   "cell_type": "markdown",
   "metadata": {},
   "source": [
    "<a href=\"https://entrenamiento-python-basico.readthedocs.io/es/latest/leccion7/archivos.html\" target=\"_blank\">Tutorial en español</a>\n",
    "\n",
    "_No usa `with open() as ...` pero explica las posibles operaciones a realizar con archivos. <br>Recuerden que es recomendable usar `with open() as ...` para no preocuparnos por abrir y cerrar el archivo._"
   ]
  },
  {
   "cell_type": "markdown",
   "metadata": {},
   "source": [
    "### Librerias\n",
    "\n",
    "Una librería es un **conjunto de objetos y funciones** que nos permiten llevar a cabo acciones sin tener que programarlas nosotros, usando código que ya esta implementado, probado y validado por gran parte de la comunidad de desarrolladores y sectores de la industria.\n",
    "\n",
    "Si no tenemos la librería en nuestro sistema, debemos **instalarla** y para poder usarla en nuestros programas, debemos **importarla**."
   ]
  },
  {
   "cell_type": "code",
   "execution_count": 23,
   "metadata": {},
   "outputs": [],
   "source": [
    "import calendar"
   ]
  },
  {
   "cell_type": "code",
   "execution_count": 25,
   "metadata": {},
   "outputs": [
    {
     "name": "stdout",
     "output_type": "stream",
     "text": [
      "    October 2020\n",
      "Mo Tu We Th Fr Sa Su\n",
      "          1  2  3  4\n",
      " 5  6  7  8  9 10 11\n",
      "12 13 14 15 16 17 18\n",
      "19 20 21 22 23 24 25\n",
      "26 27 28 29 30 31\n",
      "\n"
     ]
    }
   ],
   "source": [
    "print(calendar.month(2020, 10))"
   ]
  },
  {
   "cell_type": "code",
   "execution_count": 26,
   "metadata": {},
   "outputs": [],
   "source": [
    "import datetime as dt"
   ]
  },
  {
   "cell_type": "code",
   "execution_count": 27,
   "metadata": {},
   "outputs": [
    {
     "name": "stdout",
     "output_type": "stream",
     "text": [
      "2020-10-03 21:32:11.384369\n"
     ]
    }
   ],
   "source": [
    "fecha_hora_actual = dt.datetime.now()\n",
    "\n",
    "print(fecha_hora_actual)"
   ]
  },
  {
   "cell_type": "code",
   "execution_count": 28,
   "metadata": {},
   "outputs": [],
   "source": [
    "import math"
   ]
  },
  {
   "cell_type": "code",
   "execution_count": 32,
   "metadata": {},
   "outputs": [
    {
     "data": {
      "text/plain": [
       "3.141592653589793"
      ]
     },
     "execution_count": 32,
     "metadata": {},
     "output_type": "execute_result"
    }
   ],
   "source": [
    "math.pi"
   ]
  },
  {
   "cell_type": "code",
   "execution_count": 35,
   "metadata": {},
   "outputs": [
    {
     "data": {
      "text/plain": [
       "10.0"
      ]
     },
     "execution_count": 35,
     "metadata": {},
     "output_type": "execute_result"
    }
   ],
   "source": [
    "math.sqrt(100)"
   ]
  },
  {
   "cell_type": "code",
   "execution_count": 37,
   "metadata": {},
   "outputs": [
    {
     "data": {
      "text/plain": [
       "1024.0"
      ]
     },
     "execution_count": 37,
     "metadata": {},
     "output_type": "execute_result"
    }
   ],
   "source": [
    "math.pow(2, 10)"
   ]
  },
  {
   "cell_type": "markdown",
   "metadata": {},
   "source": [
    "<a href=\"https://docs.python.org/3/library/math.html\" target=\"_blank\">Documentación Oficial del módulo Math</a>\n",
    "\n",
    "<a href=\"https://pythones.net/importar-modulos-en-python/\" target=\"_blank\">Tutorial en español sobre librerías</a>"
   ]
  },
  {
   "cell_type": "markdown",
   "metadata": {},
   "source": [
    "### Numpy\n",
    "\n",
    "La primera de las librerías para Ciencia de Datos que vamos a utilizar.\n",
    "Está diseñada para proveernos muchas funciones para trabajar con arreglos de datos de naturaleza vectoral y matricial, con una optimización de performance y la capacidad de llevar a cabo operaciónes lógicas y matemáticas sobre cada uno de los elementos de los areglos; de forma sencilla.\n",
    "\n",
    "https://numpy.org/"
   ]
  },
  {
   "cell_type": "markdown",
   "metadata": {},
   "source": [
    "# Tarea\n",
    "<img src=\"https://files.realpython.com/media/python-basics-wide2.f73a9e9bf9b8.jpg\"/>"
   ]
  },
  {
   "cell_type": "markdown",
   "metadata": {},
   "source": [
    "### Consigna\n",
    "\n",
    "Para mejorar la atencion al cliente y la experiencia de homebanking, nos encargaron agregar nuevas funcionalidades al sistema que desarrollamos anteriormente.\n",
    "\n",
    "##### Formato de entrega\n",
    "* Crear una nueva Jupyter Notebook imlementando las funcionalidades requeridas.\n",
    "* Guardar la jupyter notebook con el siguiente formato de nombre:\n",
    "```\n",
    "            tarea_clase5_NombreApellido.ipynb\n",
    "    EJEMPLO:tarea_clase5_FedericoBrun.ipynb\n",
    "```    \n",
    "    \n",
    "* Enviar Jupyter Notebook por mail.\n",
    "\n",
    "##### Requisitos minimos\n",
    "\n",
    "(Datos de cliente a utilizar: nombre, apellido, dni, mail)\n",
    "\n",
    "1. Definir y utilizar una función que a apartir de los datos del cliente, muestre un mensaje de bienvenida a la cuenta de homebanking.\n",
    "2. Definir y utilizar una función que **reciba como parámetros** el saldo a pagar de tarjeta de credito del cliente y el pago realizado por el cliente; y calcule el estado de su cuenta y **devuelva** ese valor. Guardar ese valor en una variable llamada `estado_de_cuenta`.\n",
    "3. Definir y utilizar una funcion que **reciba como parámetro** `estado_de_cuenta` y si existe un saldo impago, mande un mail al cliente (usando `print()`) informándole.\n",
    "4. Importar la librería `datetime` y crear dos variables que sean `fecha_de_hoy` y `fecha_vencimiento` usando los objetos y funciones de la librería. La segunda representa la fecha en la que vence el resumen de la tarjeta antes de que se apliquen intereses por refinanciación.\n",
    "5. Definir y utilizar una función que **reciba como parámetros** el estado de cuenta y las dos fechas.\n",
    "    - Si hay un saldo impago, mostrar un mensaje informándo el monto, la fecha de hoy, y avisar cuándo vence el resumen.\n",
    "    - Si no hay saldo impago, mostrar un mensaje apropiado.\n",
    "6. Investigar qué librerías de Python son las más usadas para Ciencia de Datos y Finanzas, y armar una lista con nombres y páginas web. (En una celda de texto enriquecido, no código).        \n",
    "\n",
    "##### Requisitos extras\n",
    "1. Usar comentarios en el código.\n",
    "2. Describir cada uno (o en grupos) los pasos de ***Requisitos minimos***, usando celdas de texto enriquecido.\n",
    "3. Agregar una imagen de internet que sea relevante.\n",
    "4. Mantener el orden y la prolijidad de su libreta, al igual que hacer uso de las buenas practicas de programacion presentadas en clase (convenciones de nombres para variables)."
   ]
  },
  {
   "cell_type": "markdown",
   "metadata": {},
   "source": [
    "### Ejemplo simple\n"
   ]
  },
  {
   "cell_type": "code",
   "execution_count": 38,
   "metadata": {},
   "outputs": [
    {
     "data": {
      "text/plain": [
       "{'nombre': 'Federico', 'mail': 'fedejbrun@gmail.com'}"
      ]
     },
     "execution_count": 38,
     "metadata": {},
     "output_type": "execute_result"
    }
   ],
   "source": [
    "cliente = {\n",
    "    'nombre': 'Federico',\n",
    "    'mail': 'fedejbrun@gmail.com'\n",
    "}\n",
    "cliente"
   ]
  },
  {
   "cell_type": "code",
   "execution_count": 39,
   "metadata": {},
   "outputs": [],
   "source": [
    "def saludar():\n",
    "    print(\"Bienvenido \" + cliente.get('nombre'))"
   ]
  },
  {
   "cell_type": "code",
   "execution_count": 40,
   "metadata": {},
   "outputs": [
    {
     "name": "stdout",
     "output_type": "stream",
     "text": [
      "Bienvenido Federico\n"
     ]
    }
   ],
   "source": [
    "saludar()"
   ]
  },
  {
   "cell_type": "code",
   "execution_count": 42,
   "metadata": {},
   "outputs": [],
   "source": [
    "def saldo(a, b):\n",
    "    resta = a - b\n",
    "    return resta"
   ]
  },
  {
   "cell_type": "code",
   "execution_count": 43,
   "metadata": {},
   "outputs": [],
   "source": [
    "a = 10000\n",
    "b = 7000"
   ]
  },
  {
   "cell_type": "code",
   "execution_count": 44,
   "metadata": {},
   "outputs": [
    {
     "data": {
      "text/plain": [
       "3000"
      ]
     },
     "execution_count": 44,
     "metadata": {},
     "output_type": "execute_result"
    }
   ],
   "source": [
    "estado = saldo(a, b)\n",
    "estado"
   ]
  },
  {
   "cell_type": "code",
   "execution_count": 45,
   "metadata": {},
   "outputs": [],
   "source": [
    "def mandar_mail(estado):\n",
    "    if estado > 0:\n",
    "        print(\"Usted tiene un saldo impago de \" + str(estado))"
   ]
  },
  {
   "cell_type": "code",
   "execution_count": 46,
   "metadata": {},
   "outputs": [
    {
     "name": "stdout",
     "output_type": "stream",
     "text": [
      "Usted tiene un saldo impago de 3000\n"
     ]
    }
   ],
   "source": [
    "mandar_mail(estado)"
   ]
  },
  {
   "cell_type": "code",
   "execution_count": 47,
   "metadata": {},
   "outputs": [],
   "source": [
    "import datetime as dt"
   ]
  },
  {
   "cell_type": "code",
   "execution_count": 50,
   "metadata": {},
   "outputs": [],
   "source": [
    "hoy = dt.date.today()\n",
    "vencimiento = dt.date(2020, 11, 1)"
   ]
  },
  {
   "cell_type": "code",
   "execution_count": 55,
   "metadata": {},
   "outputs": [],
   "source": [
    "def mandar_mail_vencimiento(estado, hoy, vencimiento):\n",
    "    if estado > 0:\n",
    "        print(\"Al día de hoy \" + str(hoy) )\n",
    "        print(\"Presenta un saldo impago por $\" + str(estado))\n",
    "        print(\"El resumen vence el día \" + str(vencimiento))\n",
    "    else:\n",
    "        print(\"Al día de hoy \" + str(hoy) )\n",
    "        print(\"No presenta deuda\")"
   ]
  },
  {
   "cell_type": "code",
   "execution_count": 57,
   "metadata": {},
   "outputs": [
    {
     "name": "stdout",
     "output_type": "stream",
     "text": [
      "Al día de hoy 2020-10-03\n",
      "Presenta un saldo impago por $3000\n",
      "El resumen vence el día 2020-11-01\n"
     ]
    }
   ],
   "source": [
    "mandar_mail_vencimiento(estado, hoy, vencimiento)"
   ]
  },
  {
   "cell_type": "markdown",
   "metadata": {},
   "source": [
    "## Ejmplo de Lista de Ibrerías\n",
    "\n",
    "(COLUMNA CON NOMBRE DE LA LIBRERÍA)          (COLUMNA CON PAGINA WEB DE LA LIBRERÍA)\n",
    "* Librerías de Python para Machine Learnig : https://www.iartificial.net/librerias-de-python-para-machine-learning/"
   ]
  }
 ],
 "metadata": {
  "kernelspec": {
   "display_name": "Python 3",
   "language": "python",
   "name": "python3"
  },
  "language_info": {
   "codemirror_mode": {
    "name": "ipython",
    "version": 3
   },
   "file_extension": ".py",
   "mimetype": "text/x-python",
   "name": "python",
   "nbconvert_exporter": "python",
   "pygments_lexer": "ipython3",
   "version": "3.7.6"
  }
 },
 "nbformat": 4,
 "nbformat_minor": 4
}
