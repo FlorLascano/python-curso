{
 "cells": [
  {
   "cell_type": "markdown",
   "metadata": {},
   "source": [
    "### Consigna\n",
    "\n",
    "Para mejorar la atencion al cliente y la experiencia de homebanking, nos encargaron agregar nuevas funcionalidades al sistema que desarrollamos anteriormente.\n",
    "\n",
    "##### Formato de entrega\n",
    "* Crear una nueva Jupyter Notebook imlementando las funcionalidades requeridas.\n",
    "* Guardar la jupyter notebook con el siguiente formato de nombre:\n",
    "```\n",
    "            tarea_clase4_NombreApellido.ipynb\n",
    "    EJEMPLO:tarea_clase4_FedericoBrun.ipynb\n",
    "```    \n",
    "    \n",
    "* Enviar Jupyter Notebook por mail.\n",
    "\n",
    "##### Requisitos minimos\n",
    "\n",
    "(Datos de cliente a utilizar: nombre, apellido, dni, mail)\n",
    "\n",
    "1. Crear una variable para guardar los datos del cliente en un diccionario. apellido del cliente.\n",
    "2. Crear una variable con el saldo en la Caja de Ahorro del cliente.\n",
    "3. Crear una variable con el total de los consumos de una de las tarjetas de credito del cliente.\n",
    "4. Crear una variable con el pago de la tarjeta de credito realizado por el cliente, y una con la resta de consumos menos pago.\n",
    "5. Crear una variable de tipo Booleana que valide si el cliente presenta saldos impagos en la tarjeta. Para ello asignar el resultado de _evaluar si el total de consumos menos el pago realizado por el cliente es mayor a cero_ , a una variable con identificador `saldo_impago_check`.\n",
    "6. Usando una estructura condicional, validar si el cliente presenta saldos impagos y mandarle un mail informandole (usando `print()`).\n",
    "7. Crear una lista de clientes. Para ello crear una lista, donde cada elemento es a su vez una lista, conteniendo los datos de cliente.\n",
    "8. Usando una estructura de repeticion finita, enviar un mail a cada cliente, avisando que el sistema de homebanking esta en mantenimiento.\n",
    "9. Armar un ChatBot de atencion al cliente simple que realice lo siguiente:\n",
    "    - Cuando se loguea el cliente, preguntarle su nombre usando la funcion `input()` <a href=\"https://entrenamiento-python-basico.readthedocs.io/es/latest/leccion5/funciones_integradas.html#input\" target=\"_blank\">Cómo se usa la funcion input()</a>.\n",
    "    - Saludarlo y preguntar \"En que lo puedo ayudar?\"\n",
    "    - Usando una estructura de repeticion infinita (tener en cuenta que necesitamos delcarar antes de entrar a esta, una variable que va a ser la respuesta del cliente que vamos a evaluar), evaluar la respuesta numerica del cliente y mostrar los siguientes mensajes:\n",
    "        - 1 = Reclamos: \"Enseguida lo comunico con un asesor\"\n",
    "        - 2 = Consulta de saldo: \"El saldo en su Caja de Ahorro es $xxxx\"\n",
    "        - 3 = Apertura de cuentas: \"Para abrir una cuenta llamar al 0800 12344567\"\n",
    "        - Opcion invalida: \"Perdon, creo que no te entiendo\"\n",
    "    - Preguntar si necesita algo más, si escribe \"no\" o \"No\" o \"NO\", despedirse\n",
    "    \n",
    "10. Usando las funciones `help()` y `dir()` mostrar al menos 2 funciones que se pueden aplicar sobre listas, 2 sobre diccionarios y 2 sobre tuplas; distintas a las que ya se vieron.\n",
    "        \n",
    "\n",
    "##### Requisitos extras\n",
    "1. Usar comentarios en el código (no están explicados en esta libreta, debe buscar en la Clase 2 o investigar \"Comentarios en Python\" en internet).\n",
    "2. Describir cada uno (o en grupos) los pasos de ***Requisitos minimos***, usando celdas de texto enriquecido.\n",
    "3. Agregar una imagen de internet que sea relevante.\n",
    "4. Mantener el orden y la prolijidad de su libreta, al igual que hacer uso de las buenas practicas de programacion presentadas en clase (convenciones de nombres para variables)."
   ]
  },
  {
   "cell_type": "markdown",
   "metadata": {},
   "source": [
    "# Tarea 4\n",
    "\n",
    "## Julieta Milano"
   ]
  },
  {
   "cell_type": "markdown",
   "metadata": {},
   "source": [
    "Comenzamos crando un _diccionario_ que contiene todos los datos del cliente"
   ]
  },
  {
   "cell_type": "code",
   "execution_count": 2,
   "metadata": {},
   "outputs": [
    {
     "data": {
      "text/plain": [
       "{'client_id': 3333,\n",
       " 'nombre': 'Julieta',\n",
       " 'apellido': 'Milano',\n",
       " 'email': 'julietamilano1995@gmail.com'}"
      ]
     },
     "execution_count": 2,
     "metadata": {},
     "output_type": "execute_result"
    }
   ],
   "source": [
    "# Punto 1 --> Crear una variable con los datos del cliente\n",
    "\n",
    "client = {\"client_id\" : 3333,\n",
    "         \"nombre\": \"Julieta\",\n",
    "         \"apellido\": \"Milano\",\n",
    "         \"email\": \"julietamilano1995@gmail.com\"\n",
    "         }\n",
    "client"
   ]
  },
  {
   "cell_type": "code",
   "execution_count": 3,
   "metadata": {},
   "outputs": [
    {
     "name": "stdout",
     "output_type": "stream",
     "text": [
      "{'client_id': 3333, 'nombre': 'Julieta', 'apellido': 'Milano', 'email': 'julietamilano1995@gmail.com'}\n"
     ]
    }
   ],
   "source": [
    "print(client)"
   ]
  },
  {
   "cell_type": "markdown",
   "metadata": {},
   "source": [
    "Vamos a crear una _varible_ con el nombre del cliente para futuros usos"
   ]
  },
  {
   "cell_type": "code",
   "execution_count": 4,
   "metadata": {},
   "outputs": [
    {
     "name": "stdout",
     "output_type": "stream",
     "text": [
      "Julieta\n"
     ]
    }
   ],
   "source": [
    "client_name = \"Julieta\"\n",
    "\n",
    "print(client_name)"
   ]
  },
  {
   "cell_type": "markdown",
   "metadata": {},
   "source": [
    "Creamos una _variable_ con el saldo de la caja de ahorro. Una variable puede contener lo que deseemos por eso, en esta que vamos a creaar contendra el saldo de la caja de ahorro. "
   ]
  },
  {
   "cell_type": "code",
   "execution_count": 5,
   "metadata": {},
   "outputs": [],
   "source": [
    "# Punto 2 --> Variable saldo de la caja de ahorro\n",
    "\n",
    "savingbank_balance = 2000"
   ]
  },
  {
   "cell_type": "markdown",
   "metadata": {},
   "source": [
    "Ahora vamos a imprimir lo que nos gustaria que le diga al cliente cuando consulta por el saldo de su caja de ahorros"
   ]
  },
  {
   "cell_type": "code",
   "execution_count": 6,
   "metadata": {},
   "outputs": [
    {
     "name": "stdout",
     "output_type": "stream",
     "text": [
      "Su saldo de caja de ahorrro es de: 2000 pesos\n"
     ]
    }
   ],
   "source": [
    "print( \"Su saldo de caja de ahorrro es de: \" + str(savingbank_balance) + \" pesos\")"
   ]
  },
  {
   "cell_type": "markdown",
   "metadata": {},
   "source": [
    "Creamos una _variable_ que contentenga el total de los consumos de una de las tarjetas de credito del cliente"
   ]
  },
  {
   "cell_type": "code",
   "execution_count": 7,
   "metadata": {},
   "outputs": [],
   "source": [
    "# Punto 3 --> Creamos variables con las diferentes tarjetas de credito que pose el cliente\n",
    "\n",
    "total_consumption_card1 = 1000\n",
    "total_consumption_card2 = 2000\n",
    "total_consumption_card3 = 3000\n",
    "\n"
   ]
  },
  {
   "cell_type": "markdown",
   "metadata": {},
   "source": [
    "Creamos una variable donde se involucre una _resta_. Para esto primero hay que crear ambas variables a restar. Una ya la tenemos definida en el punto anterior. Solo nos queda crear la otra variable"
   ]
  },
  {
   "cell_type": "code",
   "execution_count": 8,
   "metadata": {},
   "outputs": [
    {
     "name": "stdout",
     "output_type": "stream",
     "text": [
      " Estimado/a Julieta su saldo disponible es de: 2000\n"
     ]
    }
   ],
   "source": [
    "# Punto 4 --> Crear una variable con el pago de la tarjeta de credito realizado por el cliente, y una con la resta de consumos menos pago.\n",
    "\n",
    "new_consumption_card3 = 1000\n",
    "\n",
    "print (\" Estimado/a \" + str(client_name) + \" su saldo disponible es de: \" + str(total_consumption_card3 - new_consumption_card3))"
   ]
  },
  {
   "cell_type": "code",
   "execution_count": 9,
   "metadata": {},
   "outputs": [
    {
     "name": "stdout",
     "output_type": "stream",
     "text": [
      "2000\n"
     ]
    }
   ],
   "source": [
    "available_balance = print(total_consumption_card3 - new_consumption_card3)"
   ]
  },
  {
   "cell_type": "code",
   "execution_count": 10,
   "metadata": {},
   "outputs": [],
   "source": [
    "available_balance1 = 2000"
   ]
  },
  {
   "cell_type": "markdown",
   "metadata": {},
   "source": [
    "Crearemos una variable de tipo _Booleana_ para saber si nuestro cliente presenta saldos impagos en la cuenta. Para ello asignar el resultado de evaluar si el total de consumos menos el pago realizado por el cliente es mayor a cero , a una variable con identificador saldo_impago_check."
   ]
  },
  {
   "cell_type": "code",
   "execution_count": 11,
   "metadata": {},
   "outputs": [
    {
     "name": "stdout",
     "output_type": "stream",
     "text": [
      "Usted no tiene saldo suficiente para comprar por: $2500\n",
      "Su saldo actualizado es de: $2000\n"
     ]
    }
   ],
   "source": [
    "# Punto 5 --> Variable Booleana\n",
    "\n",
    "purchase1 = 2500    \n",
    "    \n",
    "    \n",
    "if (available_balance1 >= purchase1):\n",
    "    available_balance1 = available_balance - purchase1\n",
    "    print(\"Usted acaba de realizar una compra por: $\" + str(purchase1))\n",
    "    print(\"Su saldo actualizado es de: $\" + str (available_balance1))\n",
    "else:\n",
    "    print(\"Usted no tiene saldo suficiente para comprar por: $\" + str(purchase1))\n",
    "    print(\"Su saldo actualizado es de: $\" + str(available_balance1))"
   ]
  },
  {
   "cell_type": "markdown",
   "metadata": {},
   "source": [
    "Vamos a validar si el cliente posee _saldos impagos_"
   ]
  },
  {
   "cell_type": "code",
   "execution_count": 12,
   "metadata": {},
   "outputs": [],
   "source": [
    "# Punto 6.a --> Saldos impagos\n",
    "\n",
    "available_balance1 = 2000\n",
    "purchase1 = 2500\n",
    "\n",
    "saldo_impago_check = ((purchase1 - available_balance1) > 0)\n",
    "diferencia = available_balance1 - purchase1\n"
   ]
  },
  {
   "cell_type": "code",
   "execution_count": 13,
   "metadata": {},
   "outputs": [
    {
     "name": "stdout",
     "output_type": "stream",
     "text": [
      "Presenta un saldo impago por $ -500\n"
     ]
    }
   ],
   "source": [
    "# Punto 6.b --> Mail al cliente\n",
    "\n",
    "if saldo_impago_check: \n",
    "    print(\"Presenta un saldo impago por $\", diferencia)\n",
    "else:\n",
    "    print(\"No presenta saldos impagos\")"
   ]
  },
  {
   "cell_type": "markdown",
   "metadata": {},
   "source": [
    "Creamos una _lista_ con los datos del cliente"
   ]
  },
  {
   "cell_type": "code",
   "execution_count": 15,
   "metadata": {},
   "outputs": [
    {
     "data": {
      "text/plain": [
       "[['Julieta', 'julietamilano1995@gmail.com']]"
      ]
     },
     "execution_count": 15,
     "metadata": {},
     "output_type": "execute_result"
    }
   ],
   "source": [
    "# Punto 7 --> Lista\n",
    "\n",
    "clients = [\n",
    "    [\"Julieta\", \"julietamilano1995@gmail.com\"]\n",
    "]\n",
    "\n",
    "clients"
   ]
  },
  {
   "cell_type": "markdown",
   "metadata": {},
   "source": [
    "Mandamos mail al cliente para _informarle de sus saldos impagos_"
   ]
  },
  {
   "cell_type": "code",
   "execution_count": 16,
   "metadata": {},
   "outputs": [
    {
     "name": "stdout",
     "output_type": "stream",
     "text": [
      "Mandar mail a: julietamilano1995@gmail.com\n",
      "Estimado/a Julieta\n",
      "Le informamos que en estos momentos nuestro sistema de Home Banking se encuentra en mantnimiento\n"
     ]
    }
   ],
   "source": [
    "# Punto 8 --> Enviar mail\n",
    "\n",
    "for client in clients:\n",
    "    print(\"Mandar mail a:\", client[1])\n",
    "    print(\"Estimado/a\", client[0])\n",
    "    print(\"Le informamos que en estos momentos nuestro sistema de Home Banking se encuentra en mantnimiento\")"
   ]
  },
  {
   "cell_type": "markdown",
   "metadata": {},
   "source": [
    "### _CHATBOT_ \n",
    "¡¡¡Vamos a armar uno!!!"
   ]
  },
  {
   "cell_type": "code",
   "execution_count": null,
   "metadata": {},
   "outputs": [
    {
     "name": "stdout",
     "output_type": "stream",
     "text": [
      "Como se llama? julieta\n",
      "Hola, julieta\n",
      "\n",
      "Opciones\n",
      "1: Reclamos\n",
      "2: Consulta del saldo\n",
      "3: Apertura de cuentas\n",
      "4: Salir\n",
      "\n",
      "\n",
      " En que lo puedo ayudar? reclamos\n",
      "\n",
      "Perdon, no creo que te entiendo\n",
      "\n",
      "Opciones\n",
      "1: Reclamos\n",
      "2: Consulta del saldo\n",
      "3: Apertura de cuentas\n",
      "4: Salir\n",
      "\n",
      "\n",
      " En que lo puedo ayudar? 1\n",
      "\n",
      "Enseguida lo comunico con un asesor\n",
      "\n",
      "Opciones\n",
      "1: Reclamos\n",
      "2: Consulta del saldo\n",
      "3: Apertura de cuentas\n",
      "4: Salir\n",
      "\n",
      "\n",
      " En que lo puedo ayudar? 2\n",
      "\n",
      "El saldo de su caja de ahorro es de: $ 2000\n",
      "\n",
      "Opciones\n",
      "1: Reclamos\n",
      "2: Consulta del saldo\n",
      "3: Apertura de cuentas\n",
      "4: Salir\n",
      "\n",
      "\n",
      " En que lo puedo ayudar? 3\n",
      "\n",
      "Para abrir la cuenta llamar al 0800 1234567\n",
      "\n",
      "Opciones\n",
      "1: Reclamos\n",
      "2: Consulta del saldo\n",
      "3: Apertura de cuentas\n",
      "4: Salir\n",
      "\n",
      "\n",
      " En que lo puedo ayudar? 4\n",
      "\n",
      "Perdon, no creo que te entiendo\n",
      "\n",
      "Opciones\n",
      "1: Reclamos\n",
      "2: Consulta del saldo\n",
      "3: Apertura de cuentas\n",
      "4: Salir\n",
      "\n",
      "\n",
      " En que lo puedo ayudar? hola\n",
      "\n",
      "Perdon, no creo que te entiendo\n",
      "\n",
      "Opciones\n",
      "1: Reclamos\n",
      "2: Consulta del saldo\n",
      "3: Apertura de cuentas\n",
      "4: Salir\n"
     ]
    }
   ],
   "source": [
    "# Punto 9 --> Creacion de un chatbot\n",
    "\n",
    "name = input (\"Como se llama? \")\n",
    "\n",
    "answer = \"si\"\n",
    "\n",
    "print(\"Hola,\" , name)\n",
    "\n",
    "while answer.lower() != \"no\":\n",
    "    print()\n",
    "    print(\"Opciones\")\n",
    "    print(\"1: Reclamos\")\n",
    "    print(\"2: Consulta del saldo\")\n",
    "    print(\"3: Apertura de cuentas\")\n",
    "    print(\"4: Salir\")\n",
    "    \n",
    "    respuesta = input (\"\\n\\n En que lo puedo ayudar? \")\n",
    "    \n",
    "    if respuesta == \"1\":\n",
    "        print()\n",
    "        print(\"Enseguida lo comunico con un asesor\")\n",
    "    elif respuesta == \"2\":\n",
    "        print()\n",
    "        print(\"El saldo de su caja de ahorro es de: $\", str(available_balance1))\n",
    "    elif respuesta == \"3\":\n",
    "        print()\n",
    "        print(\"Para abrir la cuenta llamar al 0800 1234567\")\n",
    "    elif respuesta == \"no\":\n",
    "        print (\"\")\n",
    "        print (\"Hasta pronto!\", name)\n",
    "    else:\n",
    "        print ()\n",
    "        print (\"Perdon, no creo que te entiendo\")"
   ]
  },
  {
   "cell_type": "markdown",
   "metadata": {},
   "source": [
    "Vamos a utilizar las funciones _help y dir_"
   ]
  },
  {
   "cell_type": "code",
   "execution_count": 10,
   "metadata": {},
   "outputs": [
    {
     "name": "stdout",
     "output_type": "stream",
     "text": [
      "{'Joaquina', 'Juan', 'Pablo', 'Roberta'}\n",
      "set()\n",
      "Help on set object:\n",
      "\n",
      "class set(object)\n",
      " |  set() -> new empty set object\n",
      " |  set(iterable) -> new set object\n",
      " |  \n",
      " |  Build an unordered collection of unique elements.\n",
      " |  \n",
      " |  Methods defined here:\n",
      " |  \n",
      " |  __and__(self, value, /)\n",
      " |      Return self&value.\n",
      " |  \n",
      " |  __contains__(...)\n",
      " |      x.__contains__(y) <==> y in x.\n",
      " |  \n",
      " |  __eq__(self, value, /)\n",
      " |      Return self==value.\n",
      " |  \n",
      " |  __ge__(self, value, /)\n",
      " |      Return self>=value.\n",
      " |  \n",
      " |  __getattribute__(self, name, /)\n",
      " |      Return getattr(self, name).\n",
      " |  \n",
      " |  __gt__(self, value, /)\n",
      " |      Return self>value.\n",
      " |  \n",
      " |  __iand__(self, value, /)\n",
      " |      Return self&=value.\n",
      " |  \n",
      " |  __init__(self, /, *args, **kwargs)\n",
      " |      Initialize self.  See help(type(self)) for accurate signature.\n",
      " |  \n",
      " |  __ior__(self, value, /)\n",
      " |      Return self|=value.\n",
      " |  \n",
      " |  __isub__(self, value, /)\n",
      " |      Return self-=value.\n",
      " |  \n",
      " |  __iter__(self, /)\n",
      " |      Implement iter(self).\n",
      " |  \n",
      " |  __ixor__(self, value, /)\n",
      " |      Return self^=value.\n",
      " |  \n",
      " |  __le__(self, value, /)\n",
      " |      Return self<=value.\n",
      " |  \n",
      " |  __len__(self, /)\n",
      " |      Return len(self).\n",
      " |  \n",
      " |  __lt__(self, value, /)\n",
      " |      Return self<value.\n",
      " |  \n",
      " |  __ne__(self, value, /)\n",
      " |      Return self!=value.\n",
      " |  \n",
      " |  __or__(self, value, /)\n",
      " |      Return self|value.\n",
      " |  \n",
      " |  __rand__(self, value, /)\n",
      " |      Return value&self.\n",
      " |  \n",
      " |  __reduce__(...)\n",
      " |      Return state information for pickling.\n",
      " |  \n",
      " |  __repr__(self, /)\n",
      " |      Return repr(self).\n",
      " |  \n",
      " |  __ror__(self, value, /)\n",
      " |      Return value|self.\n",
      " |  \n",
      " |  __rsub__(self, value, /)\n",
      " |      Return value-self.\n",
      " |  \n",
      " |  __rxor__(self, value, /)\n",
      " |      Return value^self.\n",
      " |  \n",
      " |  __sizeof__(...)\n",
      " |      S.__sizeof__() -> size of S in memory, in bytes\n",
      " |  \n",
      " |  __sub__(self, value, /)\n",
      " |      Return self-value.\n",
      " |  \n",
      " |  __xor__(self, value, /)\n",
      " |      Return self^value.\n",
      " |  \n",
      " |  add(...)\n",
      " |      Add an element to a set.\n",
      " |      \n",
      " |      This has no effect if the element is already present.\n",
      " |  \n",
      " |  clear(...)\n",
      " |      Remove all elements from this set.\n",
      " |  \n",
      " |  copy(...)\n",
      " |      Return a shallow copy of a set.\n",
      " |  \n",
      " |  difference(...)\n",
      " |      Return the difference of two or more sets as a new set.\n",
      " |      \n",
      " |      (i.e. all elements that are in this set but not the others.)\n",
      " |  \n",
      " |  difference_update(...)\n",
      " |      Remove all elements of another set from this set.\n",
      " |  \n",
      " |  discard(...)\n",
      " |      Remove an element from a set if it is a member.\n",
      " |      \n",
      " |      If the element is not a member, do nothing.\n",
      " |  \n",
      " |  intersection(...)\n",
      " |      Return the intersection of two sets as a new set.\n",
      " |      \n",
      " |      (i.e. all elements that are in both sets.)\n",
      " |  \n",
      " |  intersection_update(...)\n",
      " |      Update a set with the intersection of itself and another.\n",
      " |  \n",
      " |  isdisjoint(...)\n",
      " |      Return True if two sets have a null intersection.\n",
      " |  \n",
      " |  issubset(...)\n",
      " |      Report whether another set contains this set.\n",
      " |  \n",
      " |  issuperset(...)\n",
      " |      Report whether this set contains another set.\n",
      " |  \n",
      " |  pop(...)\n",
      " |      Remove and return an arbitrary set element.\n",
      " |      Raises KeyError if the set is empty.\n",
      " |  \n",
      " |  remove(...)\n",
      " |      Remove an element from a set; it must be a member.\n",
      " |      \n",
      " |      If the element is not a member, raise a KeyError.\n",
      " |  \n",
      " |  symmetric_difference(...)\n",
      " |      Return the symmetric difference of two sets as a new set.\n",
      " |      \n",
      " |      (i.e. all elements that are in exactly one of the sets.)\n",
      " |  \n",
      " |  symmetric_difference_update(...)\n",
      " |      Update a set with the symmetric difference of itself and another.\n",
      " |  \n",
      " |  union(...)\n",
      " |      Return the union of sets as a new set.\n",
      " |      \n",
      " |      (i.e. all elements that are in either set.)\n",
      " |  \n",
      " |  update(...)\n",
      " |      Update a set with the union of itself and others.\n",
      " |  \n",
      " |  ----------------------------------------------------------------------\n",
      " |  Static methods defined here:\n",
      " |  \n",
      " |  __new__(*args, **kwargs) from builtins.type\n",
      " |      Create and return a new object.  See help(type) for accurate signature.\n",
      " |  \n",
      " |  ----------------------------------------------------------------------\n",
      " |  Data and other attributes defined here:\n",
      " |  \n",
      " |  __hash__ = None\n",
      "\n"
     ]
    }
   ],
   "source": [
    "# Punto 10 --> Funciones\n",
    "\n",
    "#Listas\n",
    "\n",
    "students = {\"Pablo\", \"Joaquina\", \"Roberta\", \"Juan\"}\n",
    "print(students)\n",
    "students.clear()\n",
    "print(students)\n",
    "\n",
    "help(students)\n"
   ]
  },
  {
   "cell_type": "code",
   "execution_count": 11,
   "metadata": {},
   "outputs": [
    {
     "name": "stdout",
     "output_type": "stream",
     "text": [
      "['__and__', '__class__', '__contains__', '__delattr__', '__dir__', '__doc__', '__eq__', '__format__', '__ge__', '__getattribute__', '__gt__', '__hash__', '__iand__', '__init__', '__init_subclass__', '__ior__', '__isub__', '__iter__', '__ixor__', '__le__', '__len__', '__lt__', '__ne__', '__new__', '__or__', '__rand__', '__reduce__', '__reduce_ex__', '__repr__', '__ror__', '__rsub__', '__rxor__', '__setattr__', '__sizeof__', '__str__', '__sub__', '__subclasshook__', '__xor__', 'add', 'clear', 'copy', 'difference', 'difference_update', 'discard', 'intersection', 'intersection_update', 'isdisjoint', 'issubset', 'issuperset', 'pop', 'remove', 'symmetric_difference', 'symmetric_difference_update', 'union', 'update']\n"
     ]
    }
   ],
   "source": [
    "print(dir(students))"
   ]
  },
  {
   "cell_type": "markdown",
   "metadata": {},
   "source": [
    "removed = students.pop (1)\n",
    "print(students)"
   ]
  },
  {
   "cell_type": "code",
   "execution_count": 27,
   "metadata": {},
   "outputs": [
    {
     "name": "stdout",
     "output_type": "stream",
     "text": [
      "{'Joaquina', 'Juan', 'Pablo', 'Roberta'}\n",
      "set()\n"
     ]
    }
   ],
   "source": [
    "students = {\"Pablo\", \"Joaquina\", \"Roberta\", \"Juan\"}\n",
    "print(students)\n",
    "students.clear()\n",
    "print(students)\n",
    "\n"
   ]
  },
  {
   "cell_type": "code",
   "execution_count": 51,
   "metadata": {},
   "outputs": [
    {
     "name": "stdout",
     "output_type": "stream",
     "text": [
      "Help on built-in function pop:\n",
      "\n",
      "pop(...) method of builtins.set instance\n",
      "    Remove and return an arbitrary set element.\n",
      "    Raises KeyError if the set is empty.\n",
      "\n",
      "set()\n"
     ]
    }
   ],
   "source": [
    "help (students.pop)\n",
    "print (students)"
   ]
  },
  {
   "cell_type": "code",
   "execution_count": 49,
   "metadata": {},
   "outputs": [
    {
     "name": "stdout",
     "output_type": "stream",
     "text": [
      "{'Nombre': 'Pablo', 'Apellido': 'Perez', 'Edad': '15 años', 'Diversion': 'Jugar al futbol'}\n",
      "{'Nombre': 'Pablo', 'Apellido': 'Perez', 'Edad': '15 años', 'Diversion': 'Jugar al futbol', 'Año escolar': '3er año'}\n",
      "{'Nombre': 'Pablo', 'Apellido': 'Perez', 'Diversion': 'Jugar al futbol', 'Año escolar': '3er año'}\n"
     ]
    }
   ],
   "source": [
    "#Diccionarios\n",
    "\n",
    "students_d = {\n",
    "    \"Nombre\": \"Pablo\", \n",
    "    \"Apellido\": \"Perez\",\n",
    "    \"Edad\": \"15 años\",\n",
    "    \"Diversion\": \"Jugar al futbol\"\n",
    " }\n",
    "\n",
    "print(students_d)\n",
    "\n",
    "students_d.update({\"Año escolar\": \"3er año\"})\n",
    "print(students_d)\n",
    "\n",
    "\n",
    "students_d.pop(\"Edad\")\n",
    "print(students_d)"
   ]
  },
  {
   "cell_type": "code",
   "execution_count": 60,
   "metadata": {},
   "outputs": [
    {
     "name": "stdout",
     "output_type": "stream",
     "text": [
      "(1, 2, 3, 4, 5, 6, 7, 8, 9)\n",
      "18\n"
     ]
    }
   ],
   "source": [
    "# Tuples\n",
    "\n",
    "new_tuple =(1,2,3,4,5,6,7,8,9)\n",
    "\n",
    "print (new_tuple)\n",
    "\n",
    "x = max(new_tuple)\n",
    "\n",
    "print (x * 2)\n",
    "\n"
   ]
  },
  {
   "cell_type": "markdown",
   "metadata": {},
   "source": [
    "<img src=\"http://publicaciones.adicae.net/publicaciones/fototeca/bank-wallpaper-16.jpg\"/></a>"
   ]
  },
  {
   "cell_type": "code",
   "execution_count": null,
   "metadata": {},
   "outputs": [],
   "source": []
  }
 ],
 "metadata": {
  "kernelspec": {
   "display_name": "Python 3",
   "language": "python",
   "name": "python3"
  },
  "language_info": {
   "codemirror_mode": {
    "name": "ipython",
    "version": 3
   },
   "file_extension": ".py",
   "mimetype": "text/x-python",
   "name": "python",
   "nbconvert_exporter": "python",
   "pygments_lexer": "ipython3",
   "version": "3.7.6"
  }
 },
 "nbformat": 4,
 "nbformat_minor": 4
}
