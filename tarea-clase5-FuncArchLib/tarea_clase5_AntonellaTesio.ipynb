{
 "cells": [
  {
   "cell_type": "markdown",
   "metadata": {},
   "source": [
    "# Tarea clase 5"
   ]
  },
  {
   "cell_type": "markdown",
   "metadata": {},
   "source": [
    "#### Variable para guardar los datos del cliente"
   ]
  },
  {
   "cell_type": "code",
   "execution_count": 55,
   "metadata": {},
   "outputs": [],
   "source": [
    "client = { #Creo la variable con diccionario\n",
    "    'clientID' : 12345,\n",
    "    'nombre' : 'Antonella',\n",
    "    'apellido' : 'Tesio',\n",
    "    'mail' : 'antotesio@gmail.com'\n",
    "}"
   ]
  },
  {
   "cell_type": "markdown",
   "metadata": {},
   "source": [
    "#### Mensaje de bienvenida"
   ]
  },
  {
   "cell_type": "code",
   "execution_count": 56,
   "metadata": {},
   "outputs": [
    {
     "name": "stdout",
     "output_type": "stream",
     "text": [
      "Bienvenida Antonella Tesio a su cuenta de Homebanking\n"
     ]
    }
   ],
   "source": [
    "def saludo(): #Defino la función\n",
    "    print (f\"Bienvenida {client.get('nombre')} {client.get('apellido')} a su cuenta de Homebanking\")\n",
    "    \n",
    "saludo() #Muestro el saludo"
   ]
  },
  {
   "cell_type": "markdown",
   "metadata": {},
   "source": [
    "#### Saldo de la cuenta"
   ]
  },
  {
   "cell_type": "code",
   "execution_count": 57,
   "metadata": {},
   "outputs": [],
   "source": [
    "saldo_tc = 8500\n",
    "pago_tc = 3200\n",
    "\n",
    "def estado_tc(saldo, pago):\n",
    "    resta = saldo - pago\n",
    "    return resta \n",
    "    \n",
    "estado_de_cuenta = estado_tc (saldo_tc, pago_tc) #Creo esta variable para poder guardar el dato"
   ]
  },
  {
   "cell_type": "markdown",
   "metadata": {},
   "source": [
    "#### Envío de mail"
   ]
  },
  {
   "cell_type": "code",
   "execution_count": 59,
   "metadata": {},
   "outputs": [
    {
     "name": "stdout",
     "output_type": "stream",
     "text": [
      "Estimada Antonella, su tarjeta de crédito presenta un saldo impago por $5300.\n"
     ]
    }
   ],
   "source": [
    "def envio_mail (estado_de_cuenta):\n",
    "    if (estado_de_cuenta > 0): #Envío el mail sólo si es positivo\n",
    "        print (f\"Estimada {client.get ('nombre')}, su tarjeta de crédito presenta un saldo impago por ${estado_de_cuenta}.\")\n",
    "        \n",
    "envio_mail (estado_de_cuenta) #Uso la función"
   ]
  },
  {
   "cell_type": "markdown",
   "metadata": {},
   "source": [
    "#### Importo datetime"
   ]
  },
  {
   "cell_type": "code",
   "execution_count": 60,
   "metadata": {},
   "outputs": [],
   "source": [
    "import datetime as dt #Importo la librería y le asigno el alias\n",
    "\n",
    "fecha_de_hoy = dt.date.today() #Creo la variable con fecha de hoy\n",
    "fecha_vencimiento = dt.date(2020, 10, 20) #Creo la variable con fecha de venciemiento"
   ]
  },
  {
   "cell_type": "markdown",
   "metadata": {},
   "source": [
    "#### Aviso"
   ]
  },
  {
   "cell_type": "code",
   "execution_count": 65,
   "metadata": {},
   "outputs": [
    {
     "name": "stdout",
     "output_type": "stream",
     "text": [
      "Su saldo pendiente de pago al día 2020-10-07 es de $5300, tiene tiempo de saldardo hasta 2020-10-20\n"
     ]
    }
   ],
   "source": [
    "def aviso(estado_de_cuenta, fecha_de_hoy, fecha_vencimiento):\n",
    "    if (estado_de_cuenta > 0):\n",
    "        print (f\"Su saldo pendiente de pago al día {fecha_de_hoy} es de ${estado_de_cuenta}, tiene tiempo de saldardo hasta {fecha_vencimiento}\")\n",
    "    else:\n",
    "        print (f\"No presenta saldo impago al día {fecha_de_hoy}\")\n",
    "        \n",
    "aviso(estado_de_cuenta, fecha_de_hoy, fecha_vencimiento)"
   ]
  },
  {
   "cell_type": "markdown",
   "metadata": {},
   "source": [
    "### Librerías más usadas\n",
    "\n",
    "- Pandas https://pandas.pydata.org/\n",
    "- Numpy https://numpy.org/\n",
    "- Matplotlib https://matplotlib.org/\n",
    "- Statsmodels https://www.statsmodels.org/stable/index.html\n",
    "- Quandl https://www.quandl.com/tools/python\n",
    "- Zipline https://www.zipline.io/\n",
    "\n",
    "\n",
    "<img src=\"https://files.realpython.com/media/Reading-and-Writing-Data-With-Pandas_Watermarked.435ef1c38466.jpg\">"
   ]
  },
  {
   "cell_type": "code",
   "execution_count": null,
   "metadata": {},
   "outputs": [],
   "source": []
  }
 ],
 "metadata": {
  "kernelspec": {
   "display_name": "Python 3",
   "language": "python",
   "name": "python3"
  },
  "language_info": {
   "codemirror_mode": {
    "name": "ipython",
    "version": 3
   },
   "file_extension": ".py",
   "mimetype": "text/x-python",
   "name": "python",
   "nbconvert_exporter": "python",
   "pygments_lexer": "ipython3",
   "version": "3.8.3"
  }
 },
 "nbformat": 4,
 "nbformat_minor": 4
}
