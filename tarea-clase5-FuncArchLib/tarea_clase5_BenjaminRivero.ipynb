{
 "cells": [
  {
   "cell_type": "markdown",
   "metadata": {},
   "source": [
    "## TAREA\n",
    "\n",
    "### Consigna\n",
    "\n",
    "Para mejorar la atencion al cliente y la experiencia de homebanking, nos encargaron agregar nuevas funcionalidades al sistema que desarrollamos anteriormente.\n",
    "\n",
    "##### Formato de entrega\n",
    "* Crear una nueva Jupyter Notebook imlementando las funcionalidades requeridas.\n",
    "* Guardar la jupyter notebook con el siguiente formato de nombre:\n",
    "```\n",
    "            tarea_clase5_NombreApellido.ipynb\n",
    "    EJEMPLO:tarea_clase5_FedericoBrun.ipynb\n",
    "```    \n",
    "    \n",
    "* Enviar Jupyter Notebook por mail.\n",
    "\n",
    "##### Requisitos minimos\n",
    "\n",
    "(Datos de cliente a utilizar: nombre, apellido, dni, mail)\n",
    "\n",
    "1. Definir y utilizar una función que a apartir de los datos del cliente, muestre un mensaje de bienvenida a la cuenta de homebanking.\n",
    "2. Definir y utilizar una función que **reciba como parámetros** el saldo a pagar de tarjeta de credito del cliente y el pago realizado por el cliente; y calcule el estado de su cuenta y **devuelva** ese valor. Guardar ese valor en una variable llamada `estado_de_cuenta`.\n",
    "3. Definir y utilizar una funcion que **reciba como parámetro** `estado_de_cuenta` y si existe un saldo impago, mande un mail al cliente (usando `print()`) informándole.\n",
    "4. Importar la librería `datetime` y crear dos variables que sean `fecha_de_hoy` y `fecha_vencimiento` usando los objetos y funciones de la librería. La segunda representa la fecha en la que vence el resumen de la tarjeta antes de que se apliquen intereses por refinanciación.\n",
    "5. Definir y utilizar una función que **reciba como parámetros** el estado de cuenta y las dos fechas.\n",
    "    - Si hay un saldo impago, mostrar un mensaje informándo el monto, la fecha de hoy, y avisar cuándo vence el resumen.\n",
    "    - Si no hay saldo impago, mostrar un mensaje apropiado.\n",
    "6. Investigar qué librerías de Python son las más usadas para Ciencia de Datos y Finanzas, y armar una lista con nombres y páginas web. (En una celda de texto enriquecido, no código).        \n",
    "\n",
    "##### Requisitos extras\n",
    "1. Usar comentarios en el código.\n",
    "2. Describir cada uno (o en grupos) los pasos de ***Requisitos minimos***, usando celdas de texto enriquecido.\n",
    "3. Agregar una imagen de internet que sea relevante.\n",
    "4. Mantener el orden y la prolijidad de su libreta, al igual que hacer uso de las buenas practicas de programacion presentadas en clase (convenciones de nombres para variables)."
   ]
  },
  {
   "cell_type": "code",
   "execution_count": 1,
   "metadata": {},
   "outputs": [
    {
     "data": {
      "text/plain": [
       "{'nombre': 'Benjamin', 'mail': 'benjaminrivero@gmail.com'}"
      ]
     },
     "execution_count": 1,
     "metadata": {},
     "output_type": "execute_result"
    }
   ],
   "source": [
    "cliente = {\n",
    "    'nombre': 'Benjamin',\n",
    "    'mail': 'benjaminrivero@gmail.com'\n",
    "}\n",
    "cliente"
   ]
  },
  {
   "cell_type": "code",
   "execution_count": 2,
   "metadata": {},
   "outputs": [],
   "source": [
    "def saludar():\n",
    "    print(\"Bienvenido \" + cliente.get('nombre'))"
   ]
  },
  {
   "cell_type": "code",
   "execution_count": 3,
   "metadata": {},
   "outputs": [
    {
     "name": "stdout",
     "output_type": "stream",
     "text": [
      "Bienvenido Benjamin\n"
     ]
    }
   ],
   "source": [
    "saludar()\n"
   ]
  },
  {
   "cell_type": "code",
   "execution_count": 4,
   "metadata": {},
   "outputs": [],
   "source": [
    "def saldo(a, b):\n",
    "    resta = a - b\n",
    "    return resta"
   ]
  },
  {
   "cell_type": "code",
   "execution_count": 16,
   "metadata": {},
   "outputs": [
    {
     "name": "stdout",
     "output_type": "stream",
     "text": [
      "Su saldo actual es $ 9000\n",
      "Ingrese el valor que desea pagar $ 8000\n"
     ]
    }
   ],
   "source": [
    "a = 9000\n",
    "print(\"Su saldo actual es $ \" + str(a))\n",
    "b = int(input(\"Ingrese el valor que desea pagar $ \"))\n"
   ]
  },
  {
   "cell_type": "code",
   "execution_count": 17,
   "metadata": {},
   "outputs": [
    {
     "data": {
      "text/plain": [
       "1000"
      ]
     },
     "execution_count": 17,
     "metadata": {},
     "output_type": "execute_result"
    }
   ],
   "source": [
    "estado = saldo(a, b)\n",
    "estado"
   ]
  },
  {
   "cell_type": "code",
   "execution_count": 18,
   "metadata": {},
   "outputs": [],
   "source": [
    "def mandar_mail(estado):\n",
    "    if estado > 0:\n",
    "        print(\"Usted tiene un saldo impago de \" + str(estado))"
   ]
  },
  {
   "cell_type": "code",
   "execution_count": 19,
   "metadata": {},
   "outputs": [
    {
     "name": "stdout",
     "output_type": "stream",
     "text": [
      "Usted tiene un saldo impago de 1000\n"
     ]
    }
   ],
   "source": [
    "mandar_mail(estado)"
   ]
  },
  {
   "cell_type": "code",
   "execution_count": 20,
   "metadata": {},
   "outputs": [],
   "source": [
    "import datetime as dt"
   ]
  },
  {
   "cell_type": "code",
   "execution_count": 21,
   "metadata": {},
   "outputs": [],
   "source": [
    "hoy = dt.date.today()\n",
    "vencimiento = dt.date(2020, 11, 1)"
   ]
  },
  {
   "cell_type": "code",
   "execution_count": 22,
   "metadata": {},
   "outputs": [],
   "source": [
    "def mandar_mail_vencimiento(estado, hoy, vencimiento):\n",
    "    if estado > 0:\n",
    "        print(\"Al día de hoy \" + str(hoy) )\n",
    "        print(\"Presenta un saldo impago por $\" + str(estado))\n",
    "        print(\"El resumen vence el día \" + str(vencimiento))\n",
    "    else:\n",
    "        print(\"Al día de hoy \" + str(hoy) )\n",
    "        print(\"No presenta deuda\")\n",
    "        "
   ]
  },
  {
   "cell_type": "code",
   "execution_count": 23,
   "metadata": {},
   "outputs": [
    {
     "name": "stdout",
     "output_type": "stream",
     "text": [
      "Al día de hoy 2020-10-07\n",
      "Presenta un saldo impago por $1000\n",
      "El resumen vence el día 2020-11-01\n"
     ]
    }
   ],
   "source": [
    "mandar_mail_vencimiento(estado, hoy, vencimiento)"
   ]
  }
 ],
 "metadata": {
  "kernelspec": {
   "display_name": "Python 3",
   "language": "python",
   "name": "python3"
  },
  "language_info": {
   "codemirror_mode": {
    "name": "ipython",
    "version": 3
   },
   "file_extension": ".py",
   "mimetype": "text/x-python",
   "name": "python",
   "nbconvert_exporter": "python",
   "pygments_lexer": "ipython3",
   "version": "3.8.3"
  }
 },
 "nbformat": 4,
 "nbformat_minor": 4
}
