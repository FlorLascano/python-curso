{
 "cells": [
  {
   "cell_type": "markdown",
   "metadata": {},
   "source": [
    "## Damos la Bienvenida al HomeBanking a nuestro cliente"
   ]
  },
  {
   "cell_type": "code",
   "execution_count": 149,
   "metadata": {},
   "outputs": [
    {
     "data": {
      "text/plain": [
       "{'Nombre': 'Carlos',\n",
       " 'Apellido': 'Perez',\n",
       " 'DNI': 32957852,\n",
       " 'Mail': 'carlos.perez@gmail.com'}"
      ]
     },
     "execution_count": 149,
     "metadata": {},
     "output_type": "execute_result"
    }
   ],
   "source": [
    "client = {'Nombre' : \"Carlos\", 'Apellido' : \"Perez\", 'DNI' : 32957852, 'Mail' : \"carlos.perez@gmail.com\"}\n",
    "client"
   ]
  },
  {
   "cell_type": "code",
   "execution_count": 150,
   "metadata": {},
   "outputs": [],
   "source": [
    "def bienvenida():\n",
    "    print(\"Bienvenido \" + client.get('Nombre') + \" \" + client.get('Apellido') + \" a su cuenta de Home Banking\" )"
   ]
  },
  {
   "cell_type": "code",
   "execution_count": 151,
   "metadata": {},
   "outputs": [
    {
     "name": "stdout",
     "output_type": "stream",
     "text": [
      "Bienvenido Carlos Perez a su cuenta de Home Banking\n"
     ]
    }
   ],
   "source": [
    "bienvenida()"
   ]
  },
  {
   "cell_type": "markdown",
   "metadata": {},
   "source": [
    "## Estado de Cuenta"
   ]
  },
  {
   "cell_type": "code",
   "execution_count": 152,
   "metadata": {},
   "outputs": [
    {
     "name": "stdout",
     "output_type": "stream",
     "text": [
      "Buenos dias, realizo un deposito en su Caja de Ahorro por $10000\n"
     ]
    }
   ],
   "source": [
    "deposito_ca = 10000\n",
    "print(\"Buenos dias, realizo un deposito en su Caja de Ahorro por $\"+ str(deposito_ca))"
   ]
  },
  {
   "cell_type": "code",
   "execution_count": 153,
   "metadata": {},
   "outputs": [
    {
     "name": "stdout",
     "output_type": "stream",
     "text": [
      "Buenos dias, realizo una extracion en su Caja de Ahorro por $2000\n"
     ]
    }
   ],
   "source": [
    "extraccion_ca = 2000\n",
    "print(\"Buenos dias, realizo una extracion en su Caja de Ahorro por $\" + str(extraccion_ca))"
   ]
  },
  {
   "cell_type": "code",
   "execution_count": 154,
   "metadata": {},
   "outputs": [
    {
     "name": "stdout",
     "output_type": "stream",
     "text": [
      "Buenos dias, Ud. los consumos de su tarjeta de credito en el ultimo mes fueron de $9000\n"
     ]
    }
   ],
   "source": [
    "resumen = 9000\n",
    "print(\"Buenos dias, Ud. los consumos de su tarjeta de credito en el ultimo mes fueron de $\" + str(resumen))"
   ]
  },
  {
   "cell_type": "code",
   "execution_count": 155,
   "metadata": {},
   "outputs": [
    {
     "data": {
      "text/plain": [
       "-1000"
      ]
     },
     "execution_count": 155,
     "metadata": {},
     "output_type": "execute_result"
    }
   ],
   "source": [
    "ca = deposito_ca - extraccion_ca\n",
    "\n",
    "def saldo(ca, resumen):\n",
    "    pago = ca - resumen\n",
    "    return pago    \n",
    "\n",
    "estado_cuenta =  saldo(ca, resumen)\n",
    "estado_cuenta"
   ]
  },
  {
   "cell_type": "markdown",
   "metadata": {},
   "source": [
    "## Se comprueba si quedo saldo impago - Envia Mail"
   ]
  },
  {
   "cell_type": "code",
   "execution_count": 158,
   "metadata": {},
   "outputs": [],
   "source": [
    "def envio_mail(estado_cuenta):\n",
    "    if estado_cuenta < 0:\n",
    "        print(\"Usted posee un saldo impago de $ \" + str(estado_cuenta))"
   ]
  },
  {
   "cell_type": "code",
   "execution_count": 159,
   "metadata": {},
   "outputs": [
    {
     "name": "stdout",
     "output_type": "stream",
     "text": [
      "Usted posee un saldo impago de $ -1000\n"
     ]
    }
   ],
   "source": [
    "envio_mail(estado_cuenta)"
   ]
  },
  {
   "cell_type": "markdown",
   "metadata": {},
   "source": [
    "## Importar libreria datetime"
   ]
  },
  {
   "cell_type": "code",
   "execution_count": 160,
   "metadata": {},
   "outputs": [],
   "source": [
    "import datetime as dt"
   ]
  },
  {
   "cell_type": "code",
   "execution_count": 161,
   "metadata": {},
   "outputs": [],
   "source": [
    "fecha_hoy = dt.date.today()\n",
    "fecha_vencimiento = dt.date(2020, 10, 10)"
   ]
  },
  {
   "cell_type": "code",
   "execution_count": 162,
   "metadata": {},
   "outputs": [],
   "source": [
    "def mensaje_vencimiento(estado_cuenta, fecha_hoy, fecha_vencimiento):\n",
    "    if estado_cuenta < 0:\n",
    "        print(\"Al día de hoy \" + str(fecha_hoy) )\n",
    "        print(\"Presenta un saldo impago por $\" + str(estado_cuenta))\n",
    "        print(\"El resumen vence el día \" + str(fecha_vencimiento))\n",
    "    else:\n",
    "        print(\"Al día de hoy \" + str(fecha_hoy) )\n",
    "        print(\"No presenta deuda\")"
   ]
  },
  {
   "cell_type": "code",
   "execution_count": 163,
   "metadata": {},
   "outputs": [
    {
     "name": "stdout",
     "output_type": "stream",
     "text": [
      "Al día de hoy 2020-10-08\n",
      "Presenta un saldo impago por $-1000\n",
      "El resumen vence el día 2020-10-10\n"
     ]
    }
   ],
   "source": [
    "mensaje_vencimiento(estado_cuenta, fecha_hoy, fecha_vencimiento)"
   ]
  },
  {
   "cell_type": "markdown",
   "metadata": {},
   "source": [
    "# Librerias de Python mas usadas para Ciencia de Datos"
   ]
  },
  {
   "cell_type": "markdown",
   "metadata": {},
   "source": [
    "#### NumPy\n",
    "#### Statsmodel\n",
    "#### Plotly"
   ]
  },
  {
   "cell_type": "markdown",
   "metadata": {},
   "source": [
    "# Librerias de Python mas usadas para Finzanzas"
   ]
  },
  {
   "cell_type": "markdown",
   "metadata": {},
   "source": [
    "#### Matplotlib\n",
    "#### Pandas\n",
    "#### Sympy"
   ]
  }
 ],
 "metadata": {
  "kernelspec": {
   "display_name": "Python 3",
   "language": "python",
   "name": "python3"
  },
  "language_info": {
   "codemirror_mode": {
    "name": "ipython",
    "version": 3
   },
   "file_extension": ".py",
   "mimetype": "text/x-python",
   "name": "python",
   "nbconvert_exporter": "python",
   "pygments_lexer": "ipython3",
   "version": "3.8.3"
  }
 },
 "nbformat": 4,
 "nbformat_minor": 4
}
