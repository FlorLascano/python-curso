{
 "cells": [
  {
   "cell_type": "markdown",
   "metadata": {},
   "source": [
    "# Python para Finanzas y Ciencia de Datos\n",
    "\n",
    "## Clase 5: tarea\n",
    "\n",
    "Corina Anania | cori.anania@gmail.com\n",
    "\n",
    "_Jueves 7 de octubre de 2020_"
   ]
  },
  {
   "cell_type": "markdown",
   "metadata": {},
   "source": [
    "* Creación de la variable cliente para su posterior uso en la función __saludo__, la cual se utilizará para dar un mensaje de bienvenida a la cuenta de homebanking."
   ]
  },
  {
   "cell_type": "code",
   "execution_count": 64,
   "metadata": {},
   "outputs": [
    {
     "name": "stdout",
     "output_type": "stream",
     "text": [
      "Benvenida Corina a tu homebanking!\n"
     ]
    }
   ],
   "source": [
    "# Punto 1\n",
    "\n",
    "client = [\"Anania\", \"Corina\", 39126766, \"cori.anania@gmail.com\"]\n",
    "\n",
    "def saludo():\n",
    "    print (\"Benvenida \" + str(client[1]) + \" a tu homebanking!\")\n",
    "\n",
    "saludo()\n"
   ]
  },
  {
   "cell_type": "markdown",
   "metadata": {},
   "source": [
    "* Definición de la función __estado_de_cuenta__ a la cuál se les asigna los parametros saldo y pago de tarjeta de credito."
   ]
  },
  {
   "cell_type": "code",
   "execution_count": 65,
   "metadata": {},
   "outputs": [
    {
     "data": {
      "text/plain": [
       "10000"
      ]
     },
     "execution_count": 65,
     "metadata": {},
     "output_type": "execute_result"
    }
   ],
   "source": [
    "# Punto 2\n",
    "a = saldo_tarjeta_de_credito\n",
    "b = pago_tarjeta_de_credito\n",
    "\n",
    "def estado_de_cuenta (a, b):\n",
    "    resultado = a - b\n",
    "    return (resultado)\n",
    "\n",
    "a = 25000\n",
    "b = 15000\n",
    "\n",
    "estado = estado_de_cuenta(a, b)\n",
    "estado"
   ]
  },
  {
   "cell_type": "markdown",
   "metadata": {},
   "source": [
    "* Definición de la función __saldo__, que permite mandar un mail u otro dependiendo del estado de cuenta del cliente."
   ]
  },
  {
   "cell_type": "code",
   "execution_count": 66,
   "metadata": {},
   "outputs": [
    {
     "name": "stdout",
     "output_type": "stream",
     "text": [
      "Estimado cliente Anania, registra un saldo impago de $10000\n"
     ]
    }
   ],
   "source": [
    "# Punto 3\n",
    "def saldo (estado):\n",
    "    if estado > 0:\n",
    "        print (\"Estimado cliente \" + str(client[0]) + \", registra un saldo impago de $\" + str(estado))\n",
    "    else :\n",
    "        print (\"Estimado cliente \" + str(client[0]) + \", no registra saldos impagos a la fecha\")\n",
    "        \n",
    "saldo (estado)"
   ]
  },
  {
   "cell_type": "markdown",
   "metadata": {},
   "source": [
    "* Importación de la librería _datetime_. Creación de dos variables que nos permiten saber la fecha del día de hoy y la fecha a la que vence la tarjeta."
   ]
  },
  {
   "cell_type": "code",
   "execution_count": 67,
   "metadata": {},
   "outputs": [
    {
     "name": "stdout",
     "output_type": "stream",
     "text": [
      "2020-10-05 18:11:16.149996\n",
      "2020-10-31\n"
     ]
    }
   ],
   "source": [
    "# Punto 4\n",
    "import datetime\n",
    "\n",
    "fecha_de_hoy = datetime.datetime.now()\n",
    "fecha_vencimiento = datetime.date (2020, 10, 31)\n",
    "\n",
    "print(fecha_de_hoy)\n",
    "print (fecha_vencimiento)\n",
    "\n"
   ]
  },
  {
   "cell_type": "markdown",
   "metadata": {},
   "source": [
    "* Definición de la función __mail_estado__ que recibe los parametros: estado de cuenta, fechade de hoy y de vencimiento. Dependiendo si existe un saldo impago o no, mandará el un mail correspondiente al cliente comunicandole su situación.\n"
   ]
  },
  {
   "cell_type": "code",
   "execution_count": 68,
   "metadata": {},
   "outputs": [],
   "source": [
    "# Punto 5\n",
    "\n",
    "def mail_estado (estado, fecha_de_hoy, fecha_vencimiento):\n",
    "    if estado > 0:\n",
    "        print(\"En el día de hoy \" + str(fecha_de_hoy))\n",
    "        print(\"Registra un saldo impago de $\" + str(estado))\n",
    "        print(\"Recuerde que tiene hasta el \" + str(fecha_vencimiento) + \" para realizar el pago, sino se aplicarán intereses\")\n",
    "    else:\n",
    "        print(\"En el día de hoy \" + str(fecha_de_hoy) + \"no registra saldos adeudados\")\n",
    "            "
   ]
  },
  {
   "cell_type": "code",
   "execution_count": 69,
   "metadata": {},
   "outputs": [
    {
     "name": "stdout",
     "output_type": "stream",
     "text": [
      "En el día de hoy 2020-10-05 18:11:16.149996\n",
      "Registra un saldo impago de $10000\n",
      "Recuerde que tiene hasta el 2020-10-31 para realizar el pago, sino se aplicarán intereses\n"
     ]
    }
   ],
   "source": [
    "mail_estado (estado, fecha_de_hoy, fecha_vencimiento)"
   ]
  },
  {
   "cell_type": "markdown",
   "metadata": {},
   "source": [
    "### Librerías de Python"
   ]
  },
  {
   "cell_type": "markdown",
   "metadata": {},
   "source": [
    "#### Matplotlib | _https://matplotlib.org/_\n",
    "Librería utilizada para crear visualizaciones estaticas, animadas e interactivas; es una de las más utilizadas para generar gráficos y cuadros básicos.  \n",
    "\n",
    "#### SciPy | _https://www.scipy.org/_\n",
    "Para las ciencias: uno de los campos en el que más se utiliza a Python es en estadísticas y para realizar estudios científicos. SciPy es un ecosistema con varios componentes enfocados en la matemática, ingeniería y las ciencias. \n",
    "\n",
    "#### Plotly | _https://plotly.com/_\n",
    "\"Plotly ayuda a las organizaciones líderes a cerrar la brecha entre la ciencia de datos y el resto de la organización. Hacemos que sea fácil crear, implementar y compartir aplicaciones web interactivas, gráficos y visualizaciones en cualquier lenguaje de programación.\" \n",
    "\n"
   ]
  },
  {
   "cell_type": "markdown",
   "metadata": {},
   "source": [
    "<img src=\"https://raw.githubusercontent.com/cldougl/plot_images/add_r_img/plotly_2017.png\">"
   ]
  }
 ],
 "metadata": {
  "kernelspec": {
   "display_name": "Python 3",
   "language": "python",
   "name": "python3"
  },
  "language_info": {
   "codemirror_mode": {
    "name": "ipython",
    "version": 3
   },
   "file_extension": ".py",
   "mimetype": "text/x-python",
   "name": "python",
   "nbconvert_exporter": "python",
   "pygments_lexer": "ipython3",
   "version": "3.8.3"
  }
 },
 "nbformat": 4,
 "nbformat_minor": 4
}
