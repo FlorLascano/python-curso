{
 "cells": [
  {
   "cell_type": "markdown",
   "metadata": {},
   "source": [
    "# Tarea clase 5: FUNCIONES\n",
    "Barquin Daniela | barquindanielaok@gmail.com"
   ]
  },
  {
   "attachments": {},
   "cell_type": "markdown",
   "metadata": {},
   "source": [
    "<img src=\"https://homebankingbanco.com/wp-content/uploads/2017/06/Home-Banking-banco-industrial.png\">"
   ]
  },
  {
   "cell_type": "code",
   "execution_count": 4,
   "metadata": {},
   "outputs": [
    {
     "data": {
      "text/plain": [
       "{'name': 'Daniela',\n",
       " 'surname': 'Barquin',\n",
       " 'DNI': '39304866',\n",
       " 'email': 'barquindanielaok@gmail.com'}"
      ]
     },
     "execution_count": 4,
     "metadata": {},
     "output_type": "execute_result"
    }
   ],
   "source": [
    "# Creamos un diccionario\n",
    "\n",
    "client = {\n",
    "    'name': 'Daniela',\n",
    "    'surname': 'Barquin',\n",
    "    'DNI' : '39304866',\n",
    "    'email':'barquindanielaok@gmail.com'\n",
    "}\n",
    "\n",
    "client"
   ]
  },
  {
   "cell_type": "code",
   "execution_count": 8,
   "metadata": {},
   "outputs": [
    {
     "name": "stdout",
     "output_type": "stream",
     "text": [
      "Bienvenido/a Daniela a Homebanking\n"
     ]
    }
   ],
   "source": [
    "def greeting ():   #creamos la función saludar\n",
    "    print(\"Bienvenido/a \" + client.get('name') + \" a Homebanking\")\n",
    "\n",
    "greeting()"
   ]
  },
  {
   "cell_type": "code",
   "execution_count": 15,
   "metadata": {},
   "outputs": [],
   "source": [
    "def balance(balance_pay_client, balance_paid_client): #función para saber cuanto nos queda por pagar de la tarjeta de credito\n",
    "    subtraction = balance_pay_client - balance_paid_client\n",
    "    return subtraction"
   ]
  },
  {
   "cell_type": "code",
   "execution_count": 17,
   "metadata": {},
   "outputs": [],
   "source": [
    "balance_pay_client = 50000\n",
    "balance_paid_client = 38000"
   ]
  },
  {
   "cell_type": "code",
   "execution_count": 42,
   "metadata": {},
   "outputs": [
    {
     "name": "stdout",
     "output_type": "stream",
     "text": [
      "Estimado Sr/a Barquin\n",
      "Posee un saldo impago de la tarjeta de: $12000\n",
      "Recuerde que no debe tener saldo impago a la fecha de vencimiento\n"
     ]
    }
   ],
   "source": [
    "account_status = balance(balance_pay_client, balance_paid_client) #Estado de cuenta \n",
    "print (\"Estimado Sr/a \" + client.get('surname'))\n",
    "print (\"Posee un saldo impago de la tarjeta de: $\" + str(account_status))\n",
    "print (\"Recuerde que no debe tener saldo impago a la fecha de vencimiento\")"
   ]
  },
  {
   "cell_type": "code",
   "execution_count": 86,
   "metadata": {},
   "outputs": [
    {
     "name": "stdout",
     "output_type": "stream",
     "text": [
      "2020-10-07\n",
      "2020-10-15 00:00:00\n",
      "\n",
      "7/10/2020\n",
      "Wednesday, 3 de October 2020\n",
      "\n",
      "15/10/2020\n",
      "Thursday, 4 de October 2020\n"
     ]
    }
   ],
   "source": [
    "# Fecha y vencimiento respectivamente \n",
    "\n",
    "import datetime as dt\n",
    "\n",
    "date = dt.date.today()\n",
    "expiration_datestr = \"15/10/2020\"\n",
    "expiration_date= dt.datetime.strptime(expiration_datestr, \"%d/%m/%Y\")\n",
    "\n",
    "print (date)\n",
    "print (expiration_date)\n",
    "\n",
    "print()\n",
    "\n",
    "#Armamos funciones para no tener la fecha en formato EEUU\n",
    "\n",
    "date_arg = str(date.day) + \"/\" + str(date.month) + \"/\" + str(date.year) #aramos manuelamente el formato de la fecha\n",
    "date_arg2 = date.strftime (\"%A, %w de %B %Y\") # método para formatear objetos de fecha en cadenas legibles -> strftime(\"%a, %w of %B, %Y\")\n",
    "\n",
    "print(date_arg)\n",
    "print(date_arg2)\n",
    "print ()\n",
    "\n",
    "expiration_date_arg = str(expiration_date.day) + \"/\" + str(expiration_date.month) + \"/\" + str(expiration_date.year)\n",
    "expiration_date_arg2 = expiration_date.strftime (\"%A, %w de %B %Y\")\n",
    "\n",
    "print(expiration_date_arg)\n",
    "print(expiration_date_arg2)"
   ]
  },
  {
   "cell_type": "code",
   "execution_count": 88,
   "metadata": {},
   "outputs": [
    {
     "name": "stdout",
     "output_type": "stream",
     "text": [
      "Sr/a.Barquin\n",
      "Al día Wednesday, 3 de October 2020 posee, un saldo a pagar de: $12000\n",
      "si el mismo no es pagado para la fecha Thursday, 4 de October 2020 comenzaran a correr intereses\n",
      "Saludos\n"
     ]
    }
   ],
   "source": [
    "if account_status > 0:\n",
    "    print (\"Sr/a.\" + client.get('surname'))\n",
    "    print (\"Al día \" + str(date_arg2) + \" posee, un saldo a pagar de: $\" + str(account_status))\n",
    "    print (\"si el mismo no es pagado para la fecha \" + str(expiration_date_arg2) + \" comenzaran a correr intereses\")\n",
    "    print (\"Saludos\")\n",
    "else:\n",
    "    print (\"Sr/a.\" + client.get('surname'))\n",
    "    print (\"A la fecha\" + str(date) + \" su salfo es: $\" + str(account_status))\n",
    "    print (\"Gracias por ser un cliente/a modelo\")\n",
    "    print (\"Saludos\")"
   ]
  },
  {
   "cell_type": "markdown",
   "metadata": {},
   "source": [
    "#### Librerías de Python más usadas para Ciencia de Datos y Finanzas\n",
    "\n",
    "**PARA CALCULO NUMÉRICO Y ANÁLISIS DE DATOS**\n",
    "  \n",
    "  *NumPy*\n",
    "    \n",
    "Proporciona una estructura de datos universal que posibilita el análisis de datos y el intercambio de datos entre distintos algoritmos. Las estructuras de datos que implementa son vectores multidimensionales y matrices con capacidad para gran cantidad de datos.\n",
    "Además, esta librería proporciona funciones matemáticas de alto nivel que operan en estas estructuras de datos\n",
    "    \n",
    "   *Pandas*\n",
    "   \n",
    "Es una de las librerías de python más útiles para los científicos de datos. Las estructuras de datos principales en pandas son Series para datos en una dimensión y DataFrame para datos en dos dimensiones.\n",
    "Estas son las estructuras de datos más usadas en muchos campos tales como finanzas, estadística, ciencias sociales y muchas áreas de ingeniería. Pandas destaca por lo fácil y flexible que hace la manipulación de datos y el análisis de datos.\n",
    "  \n",
    "  *SciPy*\n",
    "\n",
    "Proporciona rutinas numéricas eficientes fáciles de usar y opera en las mismas estructuras de datos proporcionadas por NumPy. Por ejemplo, con SciPy puedes realizar: integración numérica, optimización, interpolación, transformadas de Fourier, álgebra lineal, estadística, etc.\n",
    "\n",
    "Existen otras librerias, que no seran desarolladas, pero las mencionaremos:\n",
    "\n",
    "**PARA MACHINE LEARNING**\n",
    "\n",
    "   *Scikit-Learn*\n",
    " \n",
    "**PARA VISALIZACIÓN**\n",
    " \n",
    "  *Matplotlib*\n",
    "  \n",
    "  *Bokeh*\n",
    "\n",
    "**DEEP LEARNING**\n",
    "\n",
    "  *TensorFlow*\n",
    "  \n",
    "  *Keras*\n",
    "  \n",
    "  *PyTorch*\n",
    " \n",
    "Fuente:https://www.iartificial.net/librerias-de-python-para-machine-learning/"
   ]
  }
 ],
 "metadata": {
  "kernelspec": {
   "display_name": "Python 3",
   "language": "python",
   "name": "python3"
  },
  "language_info": {
   "codemirror_mode": {
    "name": "ipython",
    "version": 3
   },
   "file_extension": ".py",
   "mimetype": "text/x-python",
   "name": "python",
   "nbconvert_exporter": "python",
   "pygments_lexer": "ipython3",
   "version": "3.8.3"
  }
 },
 "nbformat": 4,
 "nbformat_minor": 4
}
