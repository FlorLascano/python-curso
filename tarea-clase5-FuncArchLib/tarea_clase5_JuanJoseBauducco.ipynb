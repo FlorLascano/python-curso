{
 "cells": [
  {
   "cell_type": "markdown",
   "metadata": {},
   "source": [
    "**Esta es la tarea Nro 5 de Juan Jose Bauducco**"
   ]
  },
  {
   "cell_type": "markdown",
   "metadata": {},
   "source": [
    "# Voy a crear una funcion que a partir de los datos del cliente, muestre un mensaje de bienvenida a la cuenta del homebanking #"
   ]
  },
  {
   "cell_type": "code",
   "execution_count": 9,
   "metadata": {},
   "outputs": [],
   "source": [
    "cliente = {\"nombre\": \"Juan Jose\", \"Apellido\" : \"Bauducco\", \"mail\": \"jjb@gmail.com\"}"
   ]
  },
  {
   "cell_type": "code",
   "execution_count": 10,
   "metadata": {},
   "outputs": [],
   "source": [
    "def ingreso ():\n",
    "    print(\"Bienvenido \" + cliente.get(\"nombre\"))"
   ]
  },
  {
   "cell_type": "code",
   "execution_count": 11,
   "metadata": {},
   "outputs": [
    {
     "name": "stdout",
     "output_type": "stream",
     "text": [
      "Bienvenido Juan Jose\n"
     ]
    }
   ],
   "source": [
    "ingreso()"
   ]
  },
  {
   "cell_type": "markdown",
   "metadata": {},
   "source": [
    "# Ahora voy a definir una funcion que reciba parametros, haga calculos y devuelva valores #"
   ]
  },
  {
   "cell_type": "code",
   "execution_count": 19,
   "metadata": {},
   "outputs": [],
   "source": [
    "def saldo(a,b):\n",
    "    neteo = a - b\n",
    "    return neteo"
   ]
  },
  {
   "cell_type": "code",
   "execution_count": 20,
   "metadata": {},
   "outputs": [],
   "source": [
    "a = 1000\n",
    "b = 400"
   ]
  },
  {
   "cell_type": "code",
   "execution_count": 21,
   "metadata": {},
   "outputs": [
    {
     "data": {
      "text/plain": [
       "600"
      ]
     },
     "execution_count": 21,
     "metadata": {},
     "output_type": "execute_result"
    }
   ],
   "source": [
    "posicion = saldo(a,b)\n",
    "posicion"
   ]
  },
  {
   "cell_type": "code",
   "execution_count": 22,
   "metadata": {},
   "outputs": [
    {
     "data": {
      "text/plain": [
       "600"
      ]
     },
     "execution_count": 22,
     "metadata": {},
     "output_type": "execute_result"
    }
   ],
   "source": [
    "estado_de_cuenta = posicion\n",
    "estado_de_cuenta"
   ]
  },
  {
   "cell_type": "markdown",
   "metadata": {},
   "source": [
    "# Ahora voy a usar una funcion que reciba parametros y actue segun una regla #"
   ]
  },
  {
   "cell_type": "code",
   "execution_count": 29,
   "metadata": {},
   "outputs": [],
   "source": [
    "def aviso_por_mail(estado_de_cuenta):\n",
    "    if estado_de_cuenta > 0:\n",
    "        print(\"Su cuenta presenta un saldo impago de  $\" + str(estado_de_cuenta))"
   ]
  },
  {
   "cell_type": "code",
   "execution_count": 30,
   "metadata": {},
   "outputs": [
    {
     "name": "stdout",
     "output_type": "stream",
     "text": [
      "Su cuenta presenta un saldo impago de  $600\n"
     ]
    }
   ],
   "source": [
    "aviso_por_mail(estado_de_cuenta)"
   ]
  },
  {
   "cell_type": "markdown",
   "metadata": {},
   "source": [
    "# ahora voy a usar la libreria datetime y creare dos variables fecha_hoy y fecha_vencimiento #\n"
   ]
  },
  {
   "cell_type": "code",
   "execution_count": 32,
   "metadata": {},
   "outputs": [],
   "source": [
    "import datetime as dt "
   ]
  },
  {
   "cell_type": "code",
   "execution_count": 33,
   "metadata": {},
   "outputs": [],
   "source": [
    "fecha_hoy = dt.date.today()\n",
    "fecha_vencimiento = dt.date(2020, 10, 13)"
   ]
  },
  {
   "cell_type": "markdown",
   "metadata": {},
   "source": [
    "# ahora voy a crear una funcion que reciba parametros de la cuenta y fechas, avisando si hay impago o no, con mensajes #"
   ]
  },
  {
   "cell_type": "code",
   "execution_count": 40,
   "metadata": {},
   "outputs": [],
   "source": [
    "def avisar(estado_de_cuenta, fecha_hoy , fecha_vencimiento) :\n",
    "    if estado_de_cuenta > 0:\n",
    "        print(\"Su cuenta a hoy \" + str(fecha_hoy))\n",
    "        print(\"Presenta un saldo impago por $ \" + str(estado_de_cuenta))\n",
    "        print(\"Y su saldo vence el dia \" + str(fecha_vencimiento))\n",
    "    else:\n",
    "        print(\"Su cuenta a hoy \" + str(fecha_hoy))\n",
    "        print(\"No adeuda nada\")"
   ]
  },
  {
   "cell_type": "code",
   "execution_count": 41,
   "metadata": {},
   "outputs": [
    {
     "name": "stdout",
     "output_type": "stream",
     "text": [
      "Su cuenta a hoy 2020-10-13\n",
      "Presenta un saldo impago por $ 600\n",
      "Y su saldo vence el dia 2020-10-13\n"
     ]
    }
   ],
   "source": [
    "avisar(estado_de_cuenta, fecha_hoy, fecha_vencimiento)"
   ]
  },
  {
   "cell_type": "markdown",
   "metadata": {},
   "source": [
    "# ahora voy a investigar sobre librerias mas usadas para ciencia de datos y finanzas #"
   ]
  },
  {
   "cell_type": "markdown",
   "metadata": {},
   "source": [
    "# Principales librerías #\n",
    "Las principales librerías que vamos a utilizar para realizar tareas de analisis financiero con Python son principalmente:\n",
    "\n",
    "Pandas: La cual fue diseñada desde un comienzo para facilitar el análisis de datos financieros, principalmente las series de tiempo propias del mercado cambiario de acciones. Con las estructuras de datos que nos brinda esta librería se vuelve sumamente fácil modelar y resolver problemas financieros.\n",
    "\n",
    "Numpy: El principal modulo matemático que nos ofrece Python, en el no solo vamos a encontrar las siempre prácticas matrices que facilitan en sobremanera el manejo de información numérica; sino que también vamos a poder encontrar un gran número de funciones matemáticas.\n",
    "\n",
    "Matplotlib: La siempre vigente librería para realizar gráficos en Python.\n",
    "\n",
    "statsmodels: Si de estadística se trata, no hay como esta librería para realizar cualquier tipo de analisis estadístico.\n",
    "\n",
    "PuLP: La cual nos permite crear modelos de programación lineal en forma muy sencilla.\n",
    "\n",
    "Quandl: Este módulo nos permite interactuar fácilmente con la API de quandl.com para obtener en forma muy sencilla todo tipo de información financiera.\n",
    "\n",
    "Zipline: Zipline es una librería para el comercio algoritmico; esta basada en eventos y trata de aproximarse lo más cerca posible a como operan los verdades sistemas de comercio electrónico de las principales bolsas del mundo. Zipline es una de las principales tecnologías detrás del popular sitio quantopian.com, la comunidad web que pone a prueba distintos algoritmos de comercio algoritmico.\n",
    "\n"
   ]
  },
  {
   "cell_type": "markdown",
   "metadata": {},
   "source": [
    "https://pandas.pydata.org/"
   ]
  },
  {
   "cell_type": "markdown",
   "metadata": {},
   "source": [
    "https://numpy.org/"
   ]
  },
  {
   "cell_type": "markdown",
   "metadata": {},
   "source": [
    "https://matplotlib.org/"
   ]
  },
  {
   "cell_type": "markdown",
   "metadata": {},
   "source": [
    "https://statsmodels.sourceforge.net/"
   ]
  },
  {
   "cell_type": "markdown",
   "metadata": {},
   "source": [
    "https://pythonhosted.org//PuLP/"
   ]
  },
  {
   "cell_type": "markdown",
   "metadata": {},
   "source": [
    "https://www.quandl.com/tools/python"
   ]
  },
  {
   "cell_type": "markdown",
   "metadata": {},
   "source": [
    "https://www.zipline.io/"
   ]
  },
  {
   "cell_type": "markdown",
   "metadata": {},
   "source": [
    "# fin de la tarea 5 #"
   ]
  },
  {
   "cell_type": "code",
   "execution_count": null,
   "metadata": {},
   "outputs": [],
   "source": []
  }
 ],
 "metadata": {
  "kernelspec": {
   "display_name": "Python 3",
   "language": "python",
   "name": "python3"
  },
  "language_info": {
   "codemirror_mode": {
    "name": "ipython",
    "version": 3
   },
   "file_extension": ".py",
   "mimetype": "text/x-python",
   "name": "python",
   "nbconvert_exporter": "python",
   "pygments_lexer": "ipython3",
   "version": "3.8.3"
  }
 },
 "nbformat": 4,
 "nbformat_minor": 4
}
