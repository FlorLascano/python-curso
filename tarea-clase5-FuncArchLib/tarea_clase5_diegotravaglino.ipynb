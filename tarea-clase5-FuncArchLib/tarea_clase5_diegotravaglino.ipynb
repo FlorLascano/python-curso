{
 "cells": [
  {
   "cell_type": "markdown",
   "metadata": {},
   "source": [
    "### Numpy\n",
    "\n",
    "La primera de las librerías para Ciencia de Datos que vamos a utilizar.\n",
    "Está diseñada para proveernos muchas funciones para trabajar con arreglos de datos de naturaleza vectoral y matricial, con una optimización de performance y la capacidad de llevar a cabo operaciónes lógicas y matemáticas sobre cada uno de los elementos de los areglos; de forma sencilla.\n",
    "\n",
    "https://numpy.org/"
   ]
  },
  {
   "cell_type": "markdown",
   "metadata": {},
   "source": [
    "# Tarea\n",
    "<img src=\"https://files.realpython.com/media/python-basics-wide2.f73a9e9bf9b8.jpg\"/>"
   ]
  },
  {
   "cell_type": "markdown",
   "metadata": {},
   "source": [
    "### Consigna\n",
    "\n",
    "Para mejorar la atencion al cliente y la experiencia de homebanking, nos encargaron agregar nuevas funcionalidades al sistema que desarrollamos anteriormente.\n",
    "\n",
    "##### Formato de entrega\n",
    "* Crear una nueva Jupyter Notebook imlementando las funcionalidades requeridas.\n",
    "* Guardar la jupyter notebook con el siguiente formato de nombre:\n",
    "```\n",
    "            tarea_clase5_NombreApellido.ipynb\n",
    "    EJEMPLO:tarea_clase5_FedericoBrun.ipynb\n",
    "```    \n",
    "    \n",
    "* Enviar Jupyter Notebook por mail.\n",
    "\n",
    "##### Requisitos minimos\n",
    "\n",
    "(Datos de cliente a utilizar: nombre, apellido, dni, mail)\n",
    "\n",
    "1. Definir y utilizar una función que a apartir de los datos del cliente, muestre un mensaje de bienvenida a la cuenta de homebanking.\n",
    "2. Definir y utilizar una función que **reciba como parámetros** el saldo a pagar de tarjeta de credito del cliente y el pago realizado por el cliente; y calcule el estado de su cuenta y **devuelva** ese valor. Guardar ese valor en una variable llamada `estado_de_cuenta`.\n",
    "3. Definir y utilizar una funcion que **reciba como parámetro** `estado_de_cuenta` y si existe un saldo impago, mande un mail al cliente (usando `print()`) informándole.\n",
    "4. Importar la librería `datetime` y crear dos variables que sean `fecha_de_hoy` y `fecha_vencimiento` usando los objetos y funciones de la librería. La segunda representa la fecha en la que vence el resumen de la tarjeta antes de que se apliquen intereses por refinanciación.\n",
    "5. Definir y utilizar una función que **reciba como parámetros** el estado de cuenta y las dos fechas.\n",
    "    - Si hay un saldo impago, mostrar un mensaje informándo el monto, la fecha de hoy, y avisar cuándo vence el resumen.\n",
    "    - Si no hay saldo impago, mostrar un mensaje apropiado.\n",
    "6. Investigar qué librerías de Python son las más usadas para Ciencia de Datos y Finanzas, y armar una lista con nombres y páginas web. (En una celda de texto enriquecido, no código).        \n",
    "\n",
    "##### Requisitos extras\n",
    "1. Usar comentarios en el código.\n",
    "2. Describir cada uno (o en grupos) los pasos de ***Requisitos minimos***, usando celdas de texto enriquecido.\n",
    "3. Agregar una imagen de internet que sea relevante.\n",
    "4. Mantener el orden y la prolijidad de su libreta, al igual que hacer uso de las buenas practicas de programacion presentadas en clase (convenciones de nombres para variables)."
   ]
  },
  {
   "cell_type": "markdown",
   "metadata": {},
   "source": [
    "### Ejemplo simple\n"
   ]
  },
  {
   "cell_type": "code",
   "execution_count": 23,
   "metadata": {},
   "outputs": [
    {
     "data": {
      "text/plain": [
       "{'nombre': 'Diego', 'mail': 'dtravaglino@gmail.com'}"
      ]
     },
     "execution_count": 23,
     "metadata": {},
     "output_type": "execute_result"
    }
   ],
   "source": [
    "cliente = {\n",
    "    'nombre': 'Diego',\n",
    "    'mail': 'dtravaglino@gmail.com'\n",
    "}\n",
    "cliente"
   ]
  },
  {
   "cell_type": "code",
   "execution_count": 24,
   "metadata": {},
   "outputs": [],
   "source": [
    "def saludar():\n",
    "    print(\"Bienvenido \" + cliente.get('nombre'))"
   ]
  },
  {
   "cell_type": "code",
   "execution_count": 25,
   "metadata": {},
   "outputs": [
    {
     "name": "stdout",
     "output_type": "stream",
     "text": [
      "Bienvenido Diego\n"
     ]
    }
   ],
   "source": [
    "saludar()"
   ]
  },
  {
   "cell_type": "code",
   "execution_count": 26,
   "metadata": {},
   "outputs": [],
   "source": [
    "def saldo(a, b):\n",
    "    resta = a - b\n",
    "    return resta"
   ]
  },
  {
   "cell_type": "code",
   "execution_count": 27,
   "metadata": {},
   "outputs": [],
   "source": [
    "a = 10000\n",
    "b = 7000"
   ]
  },
  {
   "cell_type": "code",
   "execution_count": 28,
   "metadata": {},
   "outputs": [
    {
     "data": {
      "text/plain": [
       "3000"
      ]
     },
     "execution_count": 28,
     "metadata": {},
     "output_type": "execute_result"
    }
   ],
   "source": [
    "estado = saldo(a, b)\n",
    "estado"
   ]
  },
  {
   "cell_type": "code",
   "execution_count": 29,
   "metadata": {},
   "outputs": [],
   "source": [
    "def mandar_mail(estado):\n",
    "    if estado > 0:\n",
    "        print(\"Usted tiene un saldo impago de \" + str(estado))"
   ]
  },
  {
   "cell_type": "code",
   "execution_count": 30,
   "metadata": {},
   "outputs": [
    {
     "name": "stdout",
     "output_type": "stream",
     "text": [
      "Usted tiene un saldo impago de 3000\n"
     ]
    }
   ],
   "source": [
    "mandar_mail(estado)"
   ]
  },
  {
   "cell_type": "code",
   "execution_count": 31,
   "metadata": {},
   "outputs": [],
   "source": [
    "import datetime as dt"
   ]
  },
  {
   "cell_type": "code",
   "execution_count": 32,
   "metadata": {},
   "outputs": [],
   "source": [
    "hoy = dt.date.today()\n",
    "vencimiento = dt.date(2020, 11, 1)"
   ]
  },
  {
   "cell_type": "code",
   "execution_count": 33,
   "metadata": {},
   "outputs": [],
   "source": [
    "def mandar_mail_vencimiento(estado, hoy, vencimiento):\n",
    "    if estado > 0:\n",
    "        print(\"Al día de hoy \" + str(hoy) )\n",
    "        print(\"Presenta un saldo impago por $\" + str(estado))\n",
    "        print(\"El resumen vence el día \" + str(vencimiento))\n",
    "    else:\n",
    "        print(\"Al día de hoy \" + str(hoy) )\n",
    "        print(\"No presenta deuda\")"
   ]
  },
  {
   "cell_type": "code",
   "execution_count": 34,
   "metadata": {},
   "outputs": [
    {
     "name": "stdout",
     "output_type": "stream",
     "text": [
      "Al día de hoy 2020-10-04\n",
      "Presenta un saldo impago por $3000\n",
      "El resumen vence el día 2020-11-01\n"
     ]
    }
   ],
   "source": [
    "mandar_mail_vencimiento(estado, hoy, vencimiento)"
   ]
  },
  {
   "cell_type": "markdown",
   "metadata": {},
   "source": [
    "## Librerías ciencia de datos\n",
    "\n",
    "          \n",
    "\n",
    "1.-Matplotlib,                                  https://matplotlib.org/\n",
    "2.-Seaborn,                                     http://seaborn.pydata.org/\n",
    "3.-Bokeh                                       https://docs.bokeh.org/en/latest/\n",
    "4.- Pygal                                      http://www.pygal.org/en/stable/\n",
    "5.- Plotly                                     https://plotly.com/"
   ]
  },
  {
   "cell_type": "markdown",
   "metadata": {},
   "source": [
    "## Librerías finanzas\n",
    "# Instrumentos financieros\n",
    "https://financetrain.com/best-python-librariespackages-finance-financial-data-scientists/\n",
    "\n",
    "pyfin https://github.com/opendoor-labs/pyfin\n",
    "vollib  https://github.com/vollib/vollib\n",
    "quantpy  https://github.com/jsmidt/QuantPy\n",
    "ffn      https://github.com/pmorissette/ffn"
   ]
  },
  {
   "cell_type": "markdown",
   "metadata": {},
   "source": [
    "## Librerias para Forecast. \n",
    "Como actualmente trabajo en pronostico de demanda estoy probando varias librerias \n",
    "1.- Prophet ( facebook) https://pypi.org/project/fbprophet/"
   ]
  },
  {
   "cell_type": "markdown",
   "metadata": {},
   "source": []
  }
 ],
 "metadata": {
  "kernelspec": {
   "display_name": "Python 3",
   "language": "python",
   "name": "python3"
  },
  "language_info": {
   "codemirror_mode": {
    "name": "ipython",
    "version": 3
   },
   "file_extension": ".py",
   "mimetype": "text/x-python",
   "name": "python",
   "nbconvert_exporter": "python",
   "pygments_lexer": "ipython3",
   "version": "3.7.6"
  }
 },
 "nbformat": 4,
 "nbformat_minor": 4
}
