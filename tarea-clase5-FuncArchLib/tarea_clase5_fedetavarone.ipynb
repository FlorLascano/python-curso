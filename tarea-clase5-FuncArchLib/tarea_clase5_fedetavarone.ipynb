{
 "cells": [
  {
   "cell_type": "code",
   "execution_count": 7,
   "metadata": {},
   "outputs": [],
   "source": [
    "client = {\"Nombre\": \"Federico\", \"Apellido\": \"Tavarone\", \"Mail\": \"Fede@hotmail.com\", \"DNI\": \"38407204\"}"
   ]
  },
  {
   "cell_type": "code",
   "execution_count": 22,
   "metadata": {},
   "outputs": [],
   "source": [
    "def saludar ():\n",
    "    print (\"Hola \" + client.get (\"Nombre\") +\" bienvenido\")"
   ]
  },
  {
   "cell_type": "code",
   "execution_count": 23,
   "metadata": {},
   "outputs": [
    {
     "name": "stdout",
     "output_type": "stream",
     "text": [
      "Hola Federico bienvenido\n"
     ]
    }
   ],
   "source": [
    "saludar ()"
   ]
  },
  {
   "cell_type": "code",
   "execution_count": 24,
   "metadata": {},
   "outputs": [],
   "source": [
    "def saldo ():\n",
    "    resta = a-b\n",
    "    return resta"
   ]
  },
  {
   "cell_type": "code",
   "execution_count": 39,
   "metadata": {},
   "outputs": [],
   "source": [
    "a = 10000\n",
    "b = 8000"
   ]
  },
  {
   "cell_type": "code",
   "execution_count": 38,
   "metadata": {},
   "outputs": [
    {
     "data": {
      "text/plain": [
       "2000"
      ]
     },
     "execution_count": 38,
     "metadata": {},
     "output_type": "execute_result"
    }
   ],
   "source": [
    "estado_cuenta =saldo ()\n",
    "estado_cuenta"
   ]
  },
  {
   "cell_type": "code",
   "execution_count": 52,
   "metadata": {},
   "outputs": [],
   "source": [
    "def mensaje (estado_cuenta):\n",
    "    if estado_cuenta > 0:\n",
    "        print (\"Su saldo es \" + str( estado_cuenta))"
   ]
  },
  {
   "cell_type": "code",
   "execution_count": 53,
   "metadata": {},
   "outputs": [
    {
     "name": "stdout",
     "output_type": "stream",
     "text": [
      "Su saldo es 2000\n"
     ]
    }
   ],
   "source": [
    "mensaje (estado_cuenta)"
   ]
  },
  {
   "cell_type": "code",
   "execution_count": 57,
   "metadata": {},
   "outputs": [],
   "source": [
    "import datetime as dt"
   ]
  },
  {
   "cell_type": "code",
   "execution_count": 58,
   "metadata": {},
   "outputs": [],
   "source": [
    "hoy = dt.date.today ()\n",
    "vencimiento = dt.date(2020, 11, 1)"
   ]
  },
  {
   "cell_type": "code",
   "execution_count": 72,
   "metadata": {},
   "outputs": [],
   "source": [
    "def mail (estado_cuenta, hoy, vencimiento):\n",
    "    if estado_cuenta > 0:\n",
    "        print ( \"hoy \" + str(hoy) + \" Su saldo es de \" + str(estado_cuenta))\n",
    "        print (\"el proximo vencimiento sera el \" + str (vencimiento))\n",
    "    else: \n",
    "        print (str (hoy) + \"No posee saldos pendientes\")"
   ]
  },
  {
   "cell_type": "code",
   "execution_count": 73,
   "metadata": {},
   "outputs": [
    {
     "name": "stdout",
     "output_type": "stream",
     "text": [
      "hoy 2020-10-08 Su saldo es de 2000\n",
      "el proximo vencimiento sera el 2020-11-01\n"
     ]
    }
   ],
   "source": [
    "mail (estado_cuenta,hoy,vencimiento)"
   ]
  }
 ],
 "metadata": {
  "kernelspec": {
   "display_name": "Python 3",
   "language": "python",
   "name": "python3"
  },
  "language_info": {
   "codemirror_mode": {
    "name": "ipython",
    "version": 3
   },
   "file_extension": ".py",
   "mimetype": "text/x-python",
   "name": "python",
   "nbconvert_exporter": "python",
   "pygments_lexer": "ipython3",
   "version": "3.8.3"
  }
 },
 "nbformat": 4,
 "nbformat_minor": 4
}
