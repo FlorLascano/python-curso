{
 "cells": [
  {
   "cell_type": "markdown",
   "metadata": {},
   "source": [
    "<img src=\"../assets/socalo-ICDA.png\">"
   ]
  },
  {
   "cell_type": "markdown",
   "metadata": {},
   "source": [
    "# Python para Finazas y Ciencia de Datos\n",
    "\n",
    "## Clase 5: Repaso y Tarea\n",
    "\n",
    "### Break  Pass\n",
    "\n",
    "* `break` interrumpe el flujo del bloque ejecutado, cancela las ejecuciones pendientes dentro del bucle y sale de este.\n",
    "* `pass` pasa de largo y permite que se ejecuten las siguientes instrucciones."
   ]
  },
  {
   "cell_type": "code",
   "execution_count": null,
   "metadata": {},
   "outputs": [],
   "source": [
    "interrumpir = False\n",
    "\n",
    "while True:\n",
    "        \n",
    "    if interrumpir:\n",
    "        print('Si interrumpir=True rompe el ciclo')\n",
    "        break\n",
    "    else:\n",
    "        print('Si interrumpir=False continua con la proxima iteracion de ciclo')\n",
    "        # Se va a ejecutar una sola vez el ciclo, la proxima se interrumpe\n",
    "        interrumpir = True"
   ]
  },
  {
   "cell_type": "code",
   "execution_count": null,
   "metadata": {},
   "outputs": [],
   "source": [
    "interrumpir = False\n",
    "\n",
    "# Ejecutar el codigo 5 veces y despues interrumpirlo\n",
    "# ATENCION: NO se ejecutan las 10 veces porque l interrumpimos en el medio\n",
    "for vez in [1, 2, 3, 4, 5, 6, 7, 8, 9, 10]:\n",
    "    print(\"Estamos en la iteracion N\" + str(vez))\n",
    "    \n",
    "    if vez == 5:\n",
    "        break"
   ]
  },
  {
   "cell_type": "markdown",
   "metadata": {},
   "source": [
    "Con `pass` vamos a imprimir los numeros de una lista solamente si son impares:"
   ]
  },
  {
   "cell_type": "code",
   "execution_count": null,
   "metadata": {},
   "outputs": [],
   "source": [
    "for numero in [5, 45, 65, 12, 54, 10, 9, 500]:\n",
    "    if numero % 2 == 0:\n",
    "        pass\n",
    "    else:\n",
    "        print(numero)"
   ]
  },
  {
   "cell_type": "markdown",
   "metadata": {},
   "source": [
    "Con `pass` vamos a definir una funcion para poder usarla sin problemas, pero todavia no sabemos muy bien que es lo que esta funcion va a hacer:"
   ]
  },
  {
   "cell_type": "code",
   "execution_count": null,
   "metadata": {},
   "outputs": [],
   "source": [
    "def funcion_misteriosa():\n",
    "    pass"
   ]
  },
  {
   "cell_type": "code",
   "execution_count": null,
   "metadata": {},
   "outputs": [],
   "source": [
    "print(\"Como definimos la funcion y pusimos pass en el cuerpo\")\n",
    "print(\"de la misma, podemos llamarla sin tener errores\")\n",
    "funcion_misteriosa()\n",
    "print(\"Llamamos a la funcion antes de esta linea y no paso nada\")"
   ]
  },
  {
   "cell_type": "markdown",
   "metadata": {},
   "source": [
    "<a href=\"https://www.pythonmania.net/es/2013/04/05/control-de-bucles-break-continue-y-pass/\" target=\"_blank\">Tutorial en español #1</a>\n",
    "\n",
    "<a href=\"https://www.interactivechaos.com/manual/tutorial-de-python/break-y-continue\" target=\"_blank\">Tutorial en español #2</a>"
   ]
  },
  {
   "cell_type": "markdown",
   "metadata": {},
   "source": [
    "### Pandas\n",
    "\n",
    "Pandas es una librería para el análisis de datos que cuenta con las estructuras de datos que necesitamos para limpiar los datos en bruto y que sean aptos para el análisis (por ejemplo, tablas).\n",
    "\n",
    "<a href=\"https://pandas.pydata.org/docs/getting_started/intro_tutorials/01_table_oriented.html#min-tut-01-tableoriented\" target=\"_blank\">Documentación Oficial con tutoriales, ejemplos y guias (Ingles)</a> Les recomiendo practicar con estos ejemplos.\n",
    "\n",
    "<a href=\"https://www.youtube.com/watch?v=JJ7BMoQotEY\" target=\"_blank\">Videotutorial en español #1</a>\n",
    "\n",
    "<a href=\"https://www.youtube.com/watch?v=gimfTyCNfGw\" target=\"_blank\">Videotutorial en español #2</a>"
   ]
  },
  {
   "cell_type": "markdown",
   "metadata": {},
   "source": [
    "# Tarea\n",
    "<img src=\"https://files.realpython.com/media/python-basics-wide2.f73a9e9bf9b8.jpg\"/>"
   ]
  },
  {
   "cell_type": "markdown",
   "metadata": {},
   "source": [
    "\n",
    "\n",
    "##### Formato de entrega\n",
    "* Crear una nueva Jupyter Notebook implementando las funcionalidades requeridas.\n",
    "* Guardar la jupyter notebook con el siguiente formato de nombre:\n",
    "```\n",
    "            tarea_clase6_NombreApellido.ipynb\n",
    "    EJEMPLO:tarea_clase6_FedericoBrun.ipynb\n",
    "```    \n",
    "    \n",
    "* Enviar Jupyter Notebook por mail."
   ]
  },
  {
   "cell_type": "markdown",
   "metadata": {},
   "source": [
    "### Consigna parte 1\n",
    "\n",
    "Para mejorar la atencion al cliente y la experiencia de homebanking, nos encargaron agregar nuevas funcionalidades al sistema que desarrollamos anteriormente.\n",
    "Por el Dia de la Madre se lanzo un programa de premios para los clientes del banco.\n",
    "\n",
    "##### Requisitos minimos parte 1\n",
    "\n",
    "(Datos de cliente a utilizar: nombre, apellido, dni, mail)\n",
    "\n",
    "1. Definir un diccionario con los posibles premios, donde la **clave** de cada elemento sea un numero entero y el **valor** de cada elemento sea un bobjeto de tipo String, que representara un premio.\n",
    "2. Definir una variable de tipo entera que va a contener un numero aleatorio entre 1 y 10, el cual vamos a usar para elegir el premio ganado por el usuario.\n",
    "3. Usando una estructura de control `for` recorrer todo el diccionario de premios implementando las siguientes condiciones logicas:\n",
    "    * **SI** la clave de la iteracion actual es igual al numero aleatorio, mostrar el premio y un mensaje al usuario e **interrumpir** el ciclo de control.\n",
    "    * **SI** la clave de la iteracion actual es distinta al numero aleatorio , **pasar de largo** a la siguiente iteracion; sino mostrar el premio y un mensaje al usuario.\n",
    "\n",
    "##### Requisitos extras parte 1\n",
    "1. Implementar el requerimiento anterior usando una estructura de control `while` con `break`."
   ]
  },
  {
   "cell_type": "markdown",
   "metadata": {},
   "source": [
    "### Ejemplo simple parte 1\n"
   ]
  },
  {
   "cell_type": "code",
   "execution_count": null,
   "metadata": {},
   "outputs": [],
   "source": [
    "cliente = {\n",
    "    'nombre': 'Federico',\n",
    "    'mail': 'fedejbrun@gmail.com'\n",
    "}\n",
    "cliente"
   ]
  },
  {
   "cell_type": "code",
   "execution_count": null,
   "metadata": {},
   "outputs": [],
   "source": [
    "premios = {\n",
    "    1: 'viaje',\n",
    "    2: 'perfume',\n",
    "    3: 'gift card',\n",
    "    4: 'electrodomestco'\n",
    "}"
   ]
  },
  {
   "cell_type": "code",
   "execution_count": null,
   "metadata": {},
   "outputs": [],
   "source": [
    "import random\n",
    "numero_premio = random.randint(1, 4)\n",
    "print(\"Numero del premio: \", numero_premio)"
   ]
  },
  {
   "cell_type": "code",
   "execution_count": null,
   "metadata": {},
   "outputs": [],
   "source": [
    "for premio in premios:\n",
    "    \n",
    "    # En este caso premio toma el valor de cada clave del diccionario\n",
    "    # es decir, un numero entero\n",
    "    \n",
    "    if premio == numero_premio:\n",
    "        print(\"Felicitaiones \" + cliente.get('nombre'))\n",
    "        print(\"Tu premio es: \" + premios.get(numero_premio))\n",
    "        break"
   ]
  },
  {
   "cell_type": "code",
   "execution_count": null,
   "metadata": {},
   "outputs": [],
   "source": [
    "for premio in premios:\n",
    "    \n",
    "    # En este caso premio toma el valor de cada clave del diccionario\n",
    "    # es decir, un numero entero\n",
    "    \n",
    "    if premio != numero_premio:\n",
    "        pass\n",
    "    else:\n",
    "        print(\"Felicitaiones \" + cliente.get('nombre'))\n",
    "        print(\"Tu premio es: \" + premios.get(numero_premio))"
   ]
  },
  {
   "cell_type": "markdown",
   "metadata": {},
   "source": [
    "### Consigna parte 2\n",
    "\n",
    "Para practicar las funciones basicas de Pandas, la gerencia del banco nos pidio una serie de reportes de clientes, cuentas y transacciones.\n",
    "\n",
    "##### Requisitos minimos parte 2\n",
    "\n",
    "1. Definir un DataFrame que simulará ser nuestra base de datos de clientes. Para hacerlo vamos a pasar como parámetro un diccionario con las siguientes columnas:\n",
    "    * Nombre\n",
    "    * Apellido\n",
    "    * Dni\n",
    "    * Sexo\n",
    "    * Mail\n",
    "    * Fecha Nacimiento\n",
    "    * Color favorito\n",
    "    * Sucursal asignada\n",
    "    * Lugar de Nacimiento\n",
    "    * Estado Civil\n",
    "    \n",
    "    **Debe tener un mínimo de 15 registros**\n",
    "2. Mostrar los primeros 3 registros.\n",
    "3. Mostrar los últimos 3 registros.\n",
    "4. Mostrar informacion de los _tipos de datos_ que contiene el DataFrame.\n",
    "5. Guardar la base de datos en un archivo de Excel con el nombre `datos-clientes-raw.xlsx`.\n",
    "6. Leer el archivo de Excel y crear un nuevo DataFrame que se llame `clientes_sucursales_df`.\n",
    "---\n",
    "7. Al banco le interesa obtener una lista de mails para avisar a cada cliente los protocolos de distanciamiento social que aplcará cada sucursal para la atención al cliente. Para ello vamos a limpiar las columnas que no sean necesarias y conservar solamente las siguiente:\n",
    "    * Nombre\n",
    "    * Apellido \n",
    "    * Dni\n",
    "    * Mail\n",
    "    * Sucursal asignada\n",
    "8. Como además el banco planea expandir sus operaciones al exterior, nos pidieron que los nombres de las columnas estén en inglés.\n",
    "9. Para facilitar el trabajo del sector de atención al cliente, nos pidieron que construyamos un mensaje para mandar por mail a los clientes y lo guardemos en una nueva columna del DataFrame usando un nombre descriptivo. El cuerpo del mensaje es el siguiente:\n",
    ">\"Estimado/a [nombre]: Queremos informarle que la sucursal [sucursal], está adecuando sus protocolos para satisfacer las disposiciones del COE Provincial.\"\n",
    "\n",
    "_(Recordemos que un DataFrame puede contener cualquier tipo de información dentro suyo, incluso textos largos)._    \n",
    "10. Guardar la lista de mails en un archivo de excel que se llame `lista-mails-protocolo.xlsx`.\n",
    "---\n",
    "11. Armar un DataFrame que consista en un registro de operaciones realizadas en un dia en particular. Para ello primero debemos crear un archivo CSV en la misma carpeta donde sea que estemos trabajando, y llenarlo con 30 transacciones como mínimo.\n",
    "<a href=\"https://www.youtube.com/watch?v=eLH9v7Zsc4c&ab_channel=Donweb\" target=\"_blank\">Cómo crear un archivo CSV</a>. Necesitamos lo siguientes datos:\n",
    "    * nroCuenta\n",
    "    * nroOperacion\n",
    "    * monto\n",
    "    * estado (aprobada/rechazada/en proceso)\n",
    "12. Ordenar el DataFrame por monto de la transacción en orden descendente.\n",
    "13. Mostrar un histograma de todas las transacciones.\n",
    "14. Filtrar el DataFrame para ver solo las operaciones aprobadas.\n",
    "\n",
    "##### Requisitos extras\n",
    "1. Usar comentarios en el código.\n",
    "2. Describir cada uno (o en grupos) los pasos de ***Requisitos minimos***, usando celdas de texto enriquecido.\n",
    "3. Agregar una imagen de internet que sea relevante.\n",
    "4. Mantener el orden y la prolijidad de su libreta, al igual que hacer uso de las buenas practicas de programacion presentadas en clase (convenciones de nombres para variables)."
   ]
  },
  {
   "cell_type": "markdown",
   "metadata": {},
   "source": [
    "### Ejemplo simple parte 1\n"
   ]
  },
  {
   "cell_type": "code",
   "execution_count": null,
   "metadata": {},
   "outputs": [],
   "source": [
    "import pandas as pd"
   ]
  },
  {
   "cell_type": "code",
   "execution_count": null,
   "metadata": {},
   "outputs": [],
   "source": [
    "clientes_df = pd.DataFrame({\n",
    "    'Nombre': ['Martin', 'Agustina', 'Antonio', 'Florencia'],\n",
    "    'Apellido': ['Lopez', 'Brown', 'Mirabella', 'Gutierrez'],\n",
    "    'Dni': [23432654, 46786654, 43543345, 54234153],\n",
    "    'Mail': ['mlopez@gmail.com','abrown@gmail.com','amirabella@gmail.com','gutierrez@gmail.com'],\n",
    "    'Sucursal': ['Cordoba 1', 'Cordoba 2', 'San Juan 3', 'Jujuy 1'],\n",
    "    'Color favorito': ['azul', 'rojo', 'verde', 'naranja']\n",
    "})"
   ]
  },
  {
   "cell_type": "code",
   "execution_count": null,
   "metadata": {},
   "outputs": [],
   "source": [
    "clientes_df"
   ]
  },
  {
   "cell_type": "code",
   "execution_count": null,
   "metadata": {},
   "outputs": [],
   "source": [
    "clientes_df.head(3)"
   ]
  },
  {
   "cell_type": "code",
   "execution_count": null,
   "metadata": {},
   "outputs": [],
   "source": [
    "clientes_df.tail(3)"
   ]
  },
  {
   "cell_type": "code",
   "execution_count": null,
   "metadata": {},
   "outputs": [],
   "source": [
    "clientes_df.dtypes"
   ]
  },
  {
   "cell_type": "code",
   "execution_count": null,
   "metadata": {},
   "outputs": [],
   "source": [
    "clientes_df.to_excel('datos-clientes-raw.xlsx')"
   ]
  },
  {
   "cell_type": "markdown",
   "metadata": {},
   "source": [
    "---"
   ]
  },
  {
   "cell_type": "code",
   "execution_count": null,
   "metadata": {},
   "outputs": [],
   "source": [
    "clientes_sucursales_df = pd.read_excel('datos-clientes-raw.xlsx')"
   ]
  },
  {
   "cell_type": "code",
   "execution_count": null,
   "metadata": {},
   "outputs": [],
   "source": [
    "clientes_sucursales_df"
   ]
  },
  {
   "cell_type": "code",
   "execution_count": null,
   "metadata": {},
   "outputs": [],
   "source": [
    "clientes_sucursales_df.columns"
   ]
  },
  {
   "cell_type": "code",
   "execution_count": null,
   "metadata": {},
   "outputs": [],
   "source": [
    "clientes_sucursales_df.drop(['Unnamed: 0', 'Color favorito'], inplace=True, axis=1)"
   ]
  },
  {
   "cell_type": "code",
   "execution_count": null,
   "metadata": {},
   "outputs": [],
   "source": [
    "clientes_sucursales_df"
   ]
  },
  {
   "cell_type": "code",
   "execution_count": null,
   "metadata": {},
   "outputs": [],
   "source": [
    "clientes_sucursales_df.rename(columns={\n",
    "    'Nombre': 'Name',\n",
    "    'Apellido': 'Surname',\n",
    "    'DNI': 'GovID',\n",
    "    'Sucursal': 'Agency'\n",
    "}, inplace=True)"
   ]
  },
  {
   "cell_type": "code",
   "execution_count": null,
   "metadata": {},
   "outputs": [],
   "source": [
    "clientes_sucursales_df"
   ]
  },
  {
   "cell_type": "code",
   "execution_count": null,
   "metadata": {},
   "outputs": [],
   "source": [
    "clientes_sucursales_df['message'] = \"Estimado/a \" + clientes_sucursales_df['Name'] + \": Queremos informarle que la sucursal \" + clientes_sucursales_df['Agency'] + \", está adecuando sus protocolos para satisfacer las disposiciones del COE Provincial.\""
   ]
  },
  {
   "cell_type": "code",
   "execution_count": null,
   "metadata": {},
   "outputs": [],
   "source": [
    "clientes_sucursales_df"
   ]
  },
  {
   "cell_type": "code",
   "execution_count": null,
   "metadata": {},
   "outputs": [],
   "source": [
    "clientes_sucursales_df.to_excel('lista-mails-protocolo.xlsx')"
   ]
  },
  {
   "cell_type": "code",
   "execution_count": null,
   "metadata": {},
   "outputs": [],
   "source": [
    "transacciones_df = pd.read_csv('transacciones.csv')"
   ]
  },
  {
   "cell_type": "code",
   "execution_count": null,
   "metadata": {},
   "outputs": [],
   "source": [
    "transacciones_df"
   ]
  },
  {
   "cell_type": "code",
   "execution_count": null,
   "metadata": {},
   "outputs": [],
   "source": [
    "transacciones_df.sort_values(by='monto', ascending=True)"
   ]
  },
  {
   "cell_type": "code",
   "execution_count": null,
   "metadata": {},
   "outputs": [],
   "source": [
    "transacciones_df['monto'].plot.hist()"
   ]
  },
  {
   "cell_type": "code",
   "execution_count": null,
   "metadata": {},
   "outputs": [],
   "source": [
    "transacciones_df[transacciones_df['estado'] == 'aprobada']"
   ]
  },
  {
   "cell_type": "code",
   "execution_count": null,
   "metadata": {},
   "outputs": [],
   "source": []
  }
 ],
 "metadata": {
  "kernelspec": {
   "display_name": "Python 3",
   "language": "python",
   "name": "python3"
  },
  "language_info": {
   "codemirror_mode": {
    "name": "ipython",
    "version": 3
   },
   "file_extension": ".py",
   "mimetype": "text/x-python",
   "name": "python",
   "nbconvert_exporter": "python",
   "pygments_lexer": "ipython3",
   "version": "3.7.6"
  }
 },
 "nbformat": 4,
 "nbformat_minor": 4
}
