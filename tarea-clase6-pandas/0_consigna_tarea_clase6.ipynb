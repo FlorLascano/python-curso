{
 "cells": [
  {
   "cell_type": "markdown",
   "metadata": {},
   "source": [
    "<img src=\"../assets/socalo-ICDA.png\">"
   ]
  },
  {
   "cell_type": "markdown",
   "metadata": {},
   "source": [
    "# Python para Finazas y Ciencia de Datos\n",
    "\n",
    "## Clase 5: Repaso y Tarea\n",
    "\n",
    "### Break  Pass\n",
    "\n",
    "* `break` interrumpe el flujo del bloque ejecutado, cancela las ejecuciones pendientes dentro del bucle y sale de este.\n",
    "* `pass` pasa de largo y permite que se ejecuten las siguientes instrucciones."
   ]
  },
  {
   "cell_type": "code",
   "execution_count": 3,
   "metadata": {},
   "outputs": [
    {
     "name": "stdout",
     "output_type": "stream",
     "text": [
      "Si interrumpir=False continua con la proxima iteracion de ciclo\n",
      "Si interrumpir=True rompe el ciclo\n"
     ]
    }
   ],
   "source": [
    "interrumpir = False\n",
    "\n",
    "while True:\n",
    "        \n",
    "    if interrumpir:\n",
    "        print('Si interrumpir=True rompe el ciclo')\n",
    "        break\n",
    "    else:\n",
    "        print('Si interrumpir=False continua con la proxima iteracion de ciclo')\n",
    "        # Se va a ejecutar una sola vez el ciclo, la proxima se interrumpe\n",
    "        interrumpir = True"
   ]
  },
  {
   "cell_type": "code",
   "execution_count": 5,
   "metadata": {},
   "outputs": [
    {
     "name": "stdout",
     "output_type": "stream",
     "text": [
      "Estamos en la iteracion N1\n",
      "Estamos en la iteracion N2\n",
      "Estamos en la iteracion N3\n",
      "Estamos en la iteracion N4\n",
      "Estamos en la iteracion N5\n"
     ]
    }
   ],
   "source": [
    "interrumpir = False\n",
    "\n",
    "# Ejecutar el codigo 5 veces y despues interrumpirlo\n",
    "# ATENCION: NO se ejecutan las 10 veces porque l interrumpimos en el medio\n",
    "for vez in [1, 2, 3, 4, 5, 6, 7, 8, 9, 10]:\n",
    "    print(\"Estamos en la iteracion N\" + str(vez))\n",
    "    \n",
    "    if vez == 5:\n",
    "        break"
   ]
  },
  {
   "cell_type": "markdown",
   "metadata": {},
   "source": [
    "Con `pass` vamos a imprimir los numeros de una lista solamente si son impares:"
   ]
  },
  {
   "cell_type": "code",
   "execution_count": 9,
   "metadata": {},
   "outputs": [
    {
     "name": "stdout",
     "output_type": "stream",
     "text": [
      "5\n",
      "45\n",
      "65\n",
      "9\n"
     ]
    }
   ],
   "source": [
    "for numero in [5, 45, 65, 12, 54, 10, 9, 500]:\n",
    "    if numero % 2 == 0:\n",
    "        pass\n",
    "    else:\n",
    "        print(numero)"
   ]
  },
  {
   "cell_type": "markdown",
   "metadata": {},
   "source": [
    "Con `pass` vamos a definir una funcion para poder usarla sin problemas, pero todavia no sabemos muy bien que es lo que esta funcion va a hacer:"
   ]
  },
  {
   "cell_type": "code",
   "execution_count": 10,
   "metadata": {},
   "outputs": [],
   "source": [
    "def funcion_misteriosa():\n",
    "    pass"
   ]
  },
  {
   "cell_type": "code",
   "execution_count": 12,
   "metadata": {},
   "outputs": [
    {
     "name": "stdout",
     "output_type": "stream",
     "text": [
      "Como definimos la funcion y pusimos pass en el cuerpo\n",
      "de la misma, podemos llamarla sin tener errores\n",
      "Llamamos a la funcion antes de esta linea y no paso nada\n"
     ]
    }
   ],
   "source": [
    "print(\"Como definimos la funcion y pusimos pass en el cuerpo\")\n",
    "print(\"de la misma, podemos llamarla sin tener errores\")\n",
    "funcion_misteriosa()\n",
    "print(\"Llamamos a la funcion antes de esta linea y no paso nada\")"
   ]
  },
  {
   "cell_type": "markdown",
   "metadata": {},
   "source": [
    "<a href=\"https://www.pythonmania.net/es/2013/04/05/control-de-bucles-break-continue-y-pass/\" target=\"_blank\">Tutorial en español #1</a>\n",
    "\n",
    "<a href=\"https://www.interactivechaos.com/manual/tutorial-de-python/break-y-continue\" target=\"_blank\">Tutorial en español #2</a>"
   ]
  },
  {
   "cell_type": "markdown",
   "metadata": {},
   "source": [
    "### Pandas\n",
    "\n",
    "Pandas es una librería para el análisis de datos que cuenta con las estructuras de datos que necesitamos para limpiar los datos en bruto y que sean aptos para el análisis (por ejemplo, tablas).\n",
    "\n",
    "<a href=\"https://pandas.pydata.org/docs/getting_started/intro_tutorials/01_table_oriented.html#min-tut-01-tableoriented\" target=\"_blank\">Documentación Oficial con tutoriales, ejemplos y guias (Ingles)</a> Les recomiendo practicar con estos ejemplos.\n",
    "\n",
    "<a href=\"https://www.youtube.com/watch?v=JJ7BMoQotEY\" target=\"_blank\">Videotutorial en español #1</a>\n",
    "\n",
    "<a href=\"https://www.youtube.com/watch?v=gimfTyCNfGw\" target=\"_blank\">Videotutorial en español #2</a>"
   ]
  },
  {
   "cell_type": "markdown",
   "metadata": {},
   "source": [
    "# Tarea\n",
    "<img src=\"https://files.realpython.com/media/python-basics-wide2.f73a9e9bf9b8.jpg\"/>"
   ]
  },
  {
   "cell_type": "markdown",
   "metadata": {},
   "source": [
    "\n",
    "\n",
    "##### Formato de entrega\n",
    "* Crear una nueva Jupyter Notebook implementando las funcionalidades requeridas.\n",
    "* Guardar la jupyter notebook con el siguiente formato de nombre:\n",
    "```\n",
    "            tarea_clase6_NombreApellido.ipynb\n",
    "    EJEMPLO:tarea_clase6_FedericoBrun.ipynb\n",
    "```    \n",
    "    \n",
    "* Enviar Jupyter Notebook por mail."
   ]
  },
  {
   "cell_type": "markdown",
   "metadata": {},
   "source": [
    "### Consigna parte 1\n",
    "\n",
    "Para mejorar la atencion al cliente y la experiencia de homebanking, nos encargaron agregar nuevas funcionalidades al sistema que desarrollamos anteriormente.\n",
    "Por el Dia de la Madre se lanzo un programa de premios para los clientes del banco.\n",
    "\n",
    "##### Requisitos minimos parte 1\n",
    "\n",
    "(Datos de cliente a utilizar: nombre, apellido, dni, mail)\n",
    "\n",
    "1. Definir un diccionario con los posibles premios, donde la **clave** de cada elemento sea un numero entero y el **valor** de cada elemento sea un bobjeto de tipo String, que representara un premio.\n",
    "2. Definir una variable de tipo entera que va a contener un numero aleatorio entre 1 y 10, el cual vamos a usar para elegir el premio ganado por el usuario.\n",
    "3. Usando una estructura de control `for` recorrer todo el diccionario de premios implementando las siguientes condiciones logicas:\n",
    "    * **SI** la clave de la iteracion actual es igual al numero aleatorio, mostrar el premio y un mensaje al usuario e **interrumpir** el ciclo de control.\n",
    "    * **SI** la clave de la iteracion actual es distinta al numero aleatorio , **pasar de largo** a la siguiente iteracion; sino mostrar el premio y un mensaje al usuario.\n",
    "\n",
    "##### Requisitos extras parte 1\n",
    "1. Implementar el requerimiento anterior usando una estructura de control `while` con `break`."
   ]
  },
  {
   "cell_type": "markdown",
   "metadata": {},
   "source": [
    "### Ejemplo simple parte 1\n"
   ]
  },
  {
   "cell_type": "code",
   "execution_count": 14,
   "metadata": {},
   "outputs": [
    {
     "data": {
      "text/plain": [
       "{'nombre': 'Federico', 'mail': 'fedejbrun@gmail.com'}"
      ]
     },
     "execution_count": 14,
     "metadata": {},
     "output_type": "execute_result"
    }
   ],
   "source": [
    "cliente = {\n",
    "    'nombre': 'Federico',\n",
    "    'mail': 'fedejbrun@gmail.com'\n",
    "}\n",
    "cliente"
   ]
  },
  {
   "cell_type": "code",
   "execution_count": 15,
   "metadata": {},
   "outputs": [],
   "source": [
    "premios = {\n",
    "    1: 'viaje',\n",
    "    2: 'perfume',\n",
    "    3: 'gift card',\n",
    "    4: 'electrodomestco'\n",
    "}"
   ]
  },
  {
   "cell_type": "code",
   "execution_count": 28,
   "metadata": {},
   "outputs": [
    {
     "name": "stdout",
     "output_type": "stream",
     "text": [
      "Numero del premio:  4\n"
     ]
    }
   ],
   "source": [
    "import random\n",
    "numero_premio = random.randint(1, 4)\n",
    "print(\"Numero del premio: \", numero_premio)"
   ]
  },
  {
   "cell_type": "code",
   "execution_count": 29,
   "metadata": {},
   "outputs": [
    {
     "name": "stdout",
     "output_type": "stream",
     "text": [
      "Felicitaiones Federico\n",
      "Tu premio es: electrodomestco\n"
     ]
    }
   ],
   "source": [
    "for premio in premios:\n",
    "    \n",
    "    # En este caso premio toma el valor de cada clave del diccionario\n",
    "    # es decir, un numero entero\n",
    "    \n",
    "    if premio == numero_premio:\n",
    "        print(\"Felicitaiones \" + cliente.get('nombre'))\n",
    "        print(\"Tu premio es: \" + premios.get(numero_premio))\n",
    "        break"
   ]
  },
  {
   "cell_type": "code",
   "execution_count": 30,
   "metadata": {},
   "outputs": [
    {
     "name": "stdout",
     "output_type": "stream",
     "text": [
      "Felicitaiones Federico\n",
      "Tu premio es: electrodomestco\n"
     ]
    }
   ],
   "source": [
    "for premio in premios:\n",
    "    \n",
    "    # En este caso premio toma el valor de cada clave del diccionario\n",
    "    # es decir, un numero entero\n",
    "    \n",
    "    if premio != numero_premio:\n",
    "        pass\n",
    "    else:\n",
    "        print(\"Felicitaiones \" + cliente.get('nombre'))\n",
    "        print(\"Tu premio es: \" + premios.get(numero_premio))"
   ]
  },
  {
   "cell_type": "markdown",
   "metadata": {},
   "source": [
    "### Consigna parte 2\n",
    "\n",
    "Funciones basicas de Pandas\n",
    "\n",
    "##### Requisitos minimos parte 1\n",
    "\n",
    "(Datos de cliente a utilizar: nombre, apellido, dni, mail)\n",
    "\n",
    "1. Definir un diccionario con los posibles premios, donde la **clave** de cada elemento sea un numero entero y el **valor** de cada elemento sea un bobjeto de tipo String, que representara un premio.\n",
    "2. Definir una variable de tipo entera que va a contener un numero aleatorio entre 1 y 10, el cual vamos a usar para elegir el premio ganado por el usuario.\n",
    "3. Usando una estructura de control `for` recorrer todo el diccionario de premios implementando las siguientes condiciones logicas:\n",
    "    * **SI** la clave de la iteracion actual es igual al numero aleatorio, mostrar el premio y un mensaje al usuario e **interrumpir** el ciclo de control.\n",
    "    * **SI** la clave de la iteracion actual es distinta al numero aleatorio , **pasar de largo** a la siguiente iteracion; sino mostrar el premio y un mensaje al usuario.\n",
    "\n",
    "##### Requisitos extras parte 1\n",
    "1. Implementar el requerimiento anterior usando una estructura de control `while` con `break`."
   ]
  },
  {
   "cell_type": "markdown",
   "metadata": {},
   "source": [
    "## Ejmplo de Lista de Ibrerías\n",
    "\n",
    "(COLUMNA CON NOMBRE DE LA LIBRERÍA)          (COLUMNA CON PAGINA WEB DE LA LIBRERÍA)\n",
    "* Librerías de Python para Machine Learnig : https://www.iartificial.net/librerias-de-python-para-machine-learning/"
   ]
  }
 ],
 "metadata": {
  "kernelspec": {
   "display_name": "Python 3",
   "language": "python",
   "name": "python3"
  },
  "language_info": {
   "codemirror_mode": {
    "name": "ipython",
    "version": 3
   },
   "file_extension": ".py",
   "mimetype": "text/x-python",
   "name": "python",
   "nbconvert_exporter": "python",
   "pygments_lexer": "ipython3",
   "version": "3.8.3"
  }
 },
 "nbformat": 4,
 "nbformat_minor": 4
}
