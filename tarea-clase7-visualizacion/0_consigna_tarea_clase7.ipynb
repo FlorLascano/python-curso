{
 "cells": [
  {
   "cell_type": "markdown",
   "metadata": {},
   "source": [
    "<img src=\"../assets/socalo-ICDA.png\">"
   ]
  },
  {
   "cell_type": "markdown",
   "metadata": {},
   "source": [
    "# Python para Finazas y Ciencia de Datos"
   ]
  },
  {
   "cell_type": "markdown",
   "metadata": {},
   "source": [
    "# Tarea\n",
    "<img src=\"https://files.realpython.com/media/python-basics-wide2.f73a9e9bf9b8.jpg\"/>"
   ]
  },
  {
   "cell_type": "markdown",
   "metadata": {},
   "source": [
    "\n",
    "\n",
    "##### Formato de entrega\n",
    "* Crear una nueva Jupyter Notebook implementando las funcionalidades requeridas.\n",
    "* Guardar la jupyter notebook con el siguiente formato de nombre:\n",
    "```\n",
    "            tarea_clase7_NombreApellido.ipynb\n",
    "    EJEMPLO:tarea_clase7_FedericoBrun.ipynb\n",
    "```    \n",
    "    \n",
    "* Enviar Jupyter Notebook por mail."
   ]
  },
  {
   "cell_type": "markdown",
   "metadata": {},
   "source": [
    "### Consigna parte 1\n",
    "\n",
    "A partir del archivo CSV `bancos.csv`, armar un dataframe y aplicar las funciones de las librerias de visualizacion requeridas.\n",
    "\n",
    "##### Requisitos minimos parte 1\n",
    "\n",
    "1. Armar un DataFrame con el archivo CSV `bancos.csv`.\n",
    "2. Llamar la funcion plot de Pandas para ver qué grafica.\n",
    "3. Reemplazar el indice del Dataframe por la columna Date.\n",
    "4. Volver a graficar con la funcion plot de Pandas\n",
    "5. Usando funciones de MatplotLib, graficar la serie de tiempos de GGAL.\n",
    "6. Usando funciones de Plotly, graficar la serie de tiempos de BMA\n",
    "7. Usando la funcion plot de Pandas, graficar la serie de tiempo de SUPV.\n",
    "\n",
    "##### Requisitos minimos parte 2\n",
    "\n",
    "Para mejorar la atencion al cliente y la experiencia de homebanking, nos encargaron agregar nuevas funcionalidades al sistema que desarrollamos anteriormente.\n",
    "Nos pidieron que agreguemos una serie de reportes gráficos para que el cliente pueda llevar un mejor control de sus gastos.\n",
    "\n",
    "1. Usando alguna de las estructuras de datos vistas en el curso, llevar un registro del saldo de la caja de ahorro del cliente mes a mes.\n",
    "2. Con la estructura de datos anterior, mostrar un gráfico adecuado al cliente, para que pueda visualizar la evolucion del saldo de su caja de ahorro.\n",
    "3. Construir un diccionario con los gastos del mes del cliente donde la clave será el `concepto` y el valor será el `monto` que el cliente gasto en el mes en ese concepto, ejemplo:\n",
    "```\n",
    "gastos_mes = {\n",
    "    'impuestos': 6000,\n",
    "    'seguro': 2500,\n",
    "    'alquiler': 12000\n",
    "}\n",
    "```\n",
    "con un minimo de 6 categorías (investigar las apps que monitorean gastos, y ver como agrupan los mismos, ejemplo Uala, Brubank, Naranja X, Monefy, etc) y construir un gráfico de torta mostrando la informacion del diccionario.\n",
    "4. Armar otra estructura de datos con alguna de las vistas en el crso, para llevar un registro de los depositos realizados por el cliente y graficarlos con un histograma.\n",
    "\n",
    "##### Requisitos extra\n",
    "1. Buscar ejemlos de visualizacion de datos online, y tratar de descubrir si usan alguna de las herramientas mencionadas (Plotly, Dash, Matplotlib).\n",
    "2. Proponer algun objetivo propio en el que podrian mejorar la calidad de su trabajo utilizando alguna visualizacion de las aprendidas. "
   ]
  },
  {
   "cell_type": "code",
   "execution_count": null,
   "metadata": {},
   "outputs": [],
   "source": []
  }
 ],
 "metadata": {
  "kernelspec": {
   "display_name": "Python 3",
   "language": "python",
   "name": "python3"
  },
  "language_info": {
   "codemirror_mode": {
    "name": "ipython",
    "version": 3
   },
   "file_extension": ".py",
   "mimetype": "text/x-python",
   "name": "python",
   "nbconvert_exporter": "python",
   "pygments_lexer": "ipython3",
   "version": "3.7.6"
  }
 },
 "nbformat": 4,
 "nbformat_minor": 4
}
