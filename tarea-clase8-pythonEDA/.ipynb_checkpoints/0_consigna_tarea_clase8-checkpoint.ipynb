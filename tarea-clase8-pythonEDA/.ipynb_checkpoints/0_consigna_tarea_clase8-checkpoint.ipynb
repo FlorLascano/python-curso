{
 "cells": [
  {
   "cell_type": "markdown",
   "metadata": {},
   "source": [
    "<img src=\"../assets/socalo-ICDA.png\">"
   ]
  },
  {
   "cell_type": "markdown",
   "metadata": {},
   "source": [
    "# Python para Finazas y Ciencia de Datos"
   ]
  },
  {
   "cell_type": "markdown",
   "metadata": {},
   "source": [
    "# Tarea Clase 8\n",
    "<img src=\"https://files.realpython.com/media/python-basics-wide2.f73a9e9bf9b8.jpg\"/>"
   ]
  },
  {
   "cell_type": "markdown",
   "metadata": {},
   "source": [
    "\n",
    "\n",
    "##### Formato de entrega\n",
    "* Crear una nueva Jupyter Notebook implementando las funcionalidades requeridas.\n",
    "* Guardar la jupyter notebook con el siguiente formato de nombre:\n",
    "```\n",
    "            tarea_clase8_NombreApellido.ipynb\n",
    "    EJEMPLO:tarea_clase8_FedericoBrun.ipynb\n",
    "```    \n",
    "    \n",
    "* Enviar Jupyter Notebook por mail."
   ]
  },
  {
   "cell_type": "markdown",
   "metadata": {},
   "source": [
    "### Consigna\n",
    "\n",
    "Replicar en la mayor medida posible la notebook usada en la clase 8 descomponiendo paso a paso cada instrucción, en instrucciones ejecutables funcionales mas simples, explicando con sus propias palabras los conceptos de Python utilizados en cada paso. **El OBJETIVO es profundizar Python NO conceptos de estadística ni de EDA** por lo que no es importante comprenderlos ni explicarlos 100%.\n",
    "\n",
    "***No olvidar tener en la MISMA carpeta el archivo CSV con el que se trabajará.***\n",
    "\n",
    "##### Requisitos minimos\n",
    "\n",
    "1. Replicar todas las celdas posibles como se pide en la consigna.\n",
    "\n",
    "##### Requisitos extra\n",
    "\n",
    "1. Convertir los gráficos a Plotly."
   ]
  },
  {
   "cell_type": "markdown",
   "metadata": {},
   "source": [
    "### Ejemplo simple\n",
    "\n",
    "```\n",
    "df_num_corr = df_num.corr()['SalePrice'][:-1] # -1 porque la ultima fila es SalePrice\n",
    "```\n",
    "En esta linea definimos una Serie de Pandas, que guardamos en la variable con identificador `df_num_corr`.\n",
    "El mismo lo construimos de la siguiente forma:\n",
    "1. Usando la funcion de Pandas `corr()` construimos un DataFrame que es la matriz de correlaciones de todas las columnas.\n",
    "2. Usando la etiqueta, seleccionamos solo la columna `['SalePrice']`, lo que nos devuelve una Serie de Pandas.\n",
    "3. Por último, indexamos todas las filas excepto la última que es `SalePrice` usando la sintaxis para extraer una porción de las filas de la Serie con `[:-1]`."
   ]
  }
 ],
 "metadata": {
  "kernelspec": {
   "display_name": "Python 3",
   "language": "python",
   "name": "python3"
  },
  "language_info": {
   "codemirror_mode": {
    "name": "ipython",
    "version": 3
   },
   "file_extension": ".py",
   "mimetype": "text/x-python",
   "name": "python",
   "nbconvert_exporter": "python",
   "pygments_lexer": "ipython3",
   "version": "3.8.3"
  }
 },
 "nbformat": 4,
 "nbformat_minor": 4
}
